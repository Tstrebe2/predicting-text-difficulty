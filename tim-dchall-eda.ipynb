{
  "nbformat": 4,
  "nbformat_minor": 0,
  "metadata": {
    "colab": {
      "provenance": [],
      "authorship_tag": "ABX9TyOg450w+c1oWjv9qDQC0xtR",
      "include_colab_link": true
    },
    "kernelspec": {
      "name": "python3",
      "display_name": "Python 3"
    },
    "language_info": {
      "name": "python"
    }
  },
  "cells": [
    {
      "cell_type": "markdown",
      "metadata": {
        "id": "view-in-github",
        "colab_type": "text"
      },
      "source": [
        "<a href=\"https://colab.research.google.com/github/Tstrebe2/predicting-text-difficulty/blob/tim-updates/tim-dchall-eda.ipynb\" target=\"_parent\"><img src=\"https://colab.research.google.com/assets/colab-badge.svg\" alt=\"Open In Colab\"/></a>"
      ]
    },
    {
      "cell_type": "markdown",
      "source": [
        "# Dale Chall Word List EDA"
      ],
      "metadata": {
        "id": "eOqHITtyOrgB"
      }
    },
    {
      "cell_type": "code",
      "execution_count": 1,
      "metadata": {
        "colab": {
          "base_uri": "https://localhost:8080/"
        },
        "id": "NAtM4tVROgHv",
        "outputId": "74a6099d-40a9-491e-feae-b3b1099bc355"
      },
      "outputs": [
        {
          "output_type": "stream",
          "name": "stdout",
          "text": [
            "2022-09-26 01:59:15.307093: E tensorflow/stream_executor/cuda/cuda_driver.cc:271] failed call to cuInit: CUDA_ERROR_NO_DEVICE: no CUDA-capable device is detected\n",
            "\u001b[K     |████████████████████████████████| 587.7 MB 9.0 kB/s \n",
            "\u001b[?25h\u001b[38;5;2m✔ Download and installation successful\u001b[0m\n",
            "You can now load the package via spacy.load('en_core_web_lg')\n"
          ]
        }
      ],
      "source": [
        "import sys\n",
        "\n",
        "!{sys.executable} -m pip install spacy -U -q\n",
        "!{sys.executable} -m spacy download en_core_web_lg -q"
      ]
    },
    {
      "cell_type": "code",
      "source": [
        "import pandas as pd\n",
        "import requests\n",
        "import matplotlib.pyplot as plt\n",
        "import numpy as np\n",
        "from sklearn.feature_extraction.text import CountVectorizer"
      ],
      "metadata": {
        "id": "2u5Nf4SzQP0o"
      },
      "execution_count": 2,
      "outputs": []
    },
    {
      "cell_type": "code",
      "source": [
        "urls = ['https://raw.githubusercontent.com/Tstrebe2/predicting-text-difficulty/main/assets/dale_chall.txt',\n",
        "        'https://raw.githubusercontent.com/Tstrebe2/predicting-text-difficulty/main/assets/WikiLarge_Lemmatized_Train.csv']\n",
        "\n",
        "d_chall = requests.get(urls[0]).text.split('\\r')\n",
        "\n",
        "wiki_df_train = pd.read_csv(urls[1])"
      ],
      "metadata": {
        "id": "1cL1-ZNSOxAE"
      },
      "execution_count": 18,
      "outputs": []
    },
    {
      "cell_type": "code",
      "source": [
        "import spacy\n",
        "\n",
        "nlp = spacy.load('en_core_web_lg')\n",
        "\n",
        "d_chall = set([w for w in [w.lemma_.lower() for w in nlp(' '.join(d_chall))] if w not in set([' ', '-', '  '])])"
      ],
      "metadata": {
        "id": "nfi-RcB2hzXV"
      },
      "execution_count": 24,
      "outputs": []
    },
    {
      "cell_type": "code",
      "source": [
        "tokenizer = lambda x: x.split(' ')\n",
        "vectorizer = CountVectorizer(tokenizer=tokenizer)\n",
        "X = vectorizer.fit_transform(wiki_df_train['lemmatized_text'])"
      ],
      "metadata": {
        "id": "qYg0DSm8X1k2"
      },
      "execution_count": 25,
      "outputs": []
    },
    {
      "cell_type": "code",
      "source": [
        "feature_array = np.array(vectorizer.get_feature_names_out())\n",
        "ix = np.where(np.array([True if f in d_chall else False for f in feature_array]))[0]\n",
        "wiki_df_train['d_chall'] = np.array(X[:, ix].sum(axis=1))/np.array(X.sum(axis=1))"
      ],
      "metadata": {
        "id": "jjnAgPk9cjKP"
      },
      "execution_count": 26,
      "outputs": []
    },
    {
      "cell_type": "code",
      "source": [
        "wiki_df_train"
      ],
      "metadata": {
        "colab": {
          "base_uri": "https://localhost:8080/",
          "height": 424
        },
        "id": "H2AqWiKEdF8J",
        "outputId": "f3a8d114-0375-4b61-a9f9-1f76cfa407eb"
      },
      "execution_count": null,
      "outputs": [
        {
          "output_type": "execute_result",
          "data": {
            "text/plain": [
              "                                            original_text  label   d_chall\n",
              "0       There is manuscript evidence that Austen conti...      1  0.488372\n",
              "1       In a remarkable comparative analysis , Mandaea...      1  0.260870\n",
              "2       Before Persephone was released to Hermes , who...      1  0.565217\n",
              "3       Cogeneration plants are commonly found in dist...      1  0.256410\n",
              "4       Geneva -LRB- , ; , ; , ; ; -RRB- is the second...      1  0.361111\n",
              "...                                                   ...    ...       ...\n",
              "416763  A Duke Nukem 3D version has been sold for Xbox...      0  0.411765\n",
              "416764  However , it is becoming replaced as a method ...      0  0.500000\n",
              "416765  There are hand gestures in both Hindu and Budd...      0  0.545455\n",
              "416766  If it is necessary to use colors , try to choo...      0  0.619048\n",
              "416767                               Calgary Stampeders ,      0  0.000000\n",
              "\n",
              "[416768 rows x 3 columns]"
            ],
            "text/html": [
              "\n",
              "  <div id=\"df-c4b57303-7ea4-4520-b283-f29680520fd5\">\n",
              "    <div class=\"colab-df-container\">\n",
              "      <div>\n",
              "<style scoped>\n",
              "    .dataframe tbody tr th:only-of-type {\n",
              "        vertical-align: middle;\n",
              "    }\n",
              "\n",
              "    .dataframe tbody tr th {\n",
              "        vertical-align: top;\n",
              "    }\n",
              "\n",
              "    .dataframe thead th {\n",
              "        text-align: right;\n",
              "    }\n",
              "</style>\n",
              "<table border=\"1\" class=\"dataframe\">\n",
              "  <thead>\n",
              "    <tr style=\"text-align: right;\">\n",
              "      <th></th>\n",
              "      <th>original_text</th>\n",
              "      <th>label</th>\n",
              "      <th>d_chall</th>\n",
              "    </tr>\n",
              "  </thead>\n",
              "  <tbody>\n",
              "    <tr>\n",
              "      <th>0</th>\n",
              "      <td>There is manuscript evidence that Austen conti...</td>\n",
              "      <td>1</td>\n",
              "      <td>0.488372</td>\n",
              "    </tr>\n",
              "    <tr>\n",
              "      <th>1</th>\n",
              "      <td>In a remarkable comparative analysis , Mandaea...</td>\n",
              "      <td>1</td>\n",
              "      <td>0.260870</td>\n",
              "    </tr>\n",
              "    <tr>\n",
              "      <th>2</th>\n",
              "      <td>Before Persephone was released to Hermes , who...</td>\n",
              "      <td>1</td>\n",
              "      <td>0.565217</td>\n",
              "    </tr>\n",
              "    <tr>\n",
              "      <th>3</th>\n",
              "      <td>Cogeneration plants are commonly found in dist...</td>\n",
              "      <td>1</td>\n",
              "      <td>0.256410</td>\n",
              "    </tr>\n",
              "    <tr>\n",
              "      <th>4</th>\n",
              "      <td>Geneva -LRB- , ; , ; , ; ; -RRB- is the second...</td>\n",
              "      <td>1</td>\n",
              "      <td>0.361111</td>\n",
              "    </tr>\n",
              "    <tr>\n",
              "      <th>...</th>\n",
              "      <td>...</td>\n",
              "      <td>...</td>\n",
              "      <td>...</td>\n",
              "    </tr>\n",
              "    <tr>\n",
              "      <th>416763</th>\n",
              "      <td>A Duke Nukem 3D version has been sold for Xbox...</td>\n",
              "      <td>0</td>\n",
              "      <td>0.411765</td>\n",
              "    </tr>\n",
              "    <tr>\n",
              "      <th>416764</th>\n",
              "      <td>However , it is becoming replaced as a method ...</td>\n",
              "      <td>0</td>\n",
              "      <td>0.500000</td>\n",
              "    </tr>\n",
              "    <tr>\n",
              "      <th>416765</th>\n",
              "      <td>There are hand gestures in both Hindu and Budd...</td>\n",
              "      <td>0</td>\n",
              "      <td>0.545455</td>\n",
              "    </tr>\n",
              "    <tr>\n",
              "      <th>416766</th>\n",
              "      <td>If it is necessary to use colors , try to choo...</td>\n",
              "      <td>0</td>\n",
              "      <td>0.619048</td>\n",
              "    </tr>\n",
              "    <tr>\n",
              "      <th>416767</th>\n",
              "      <td>Calgary Stampeders ,</td>\n",
              "      <td>0</td>\n",
              "      <td>0.000000</td>\n",
              "    </tr>\n",
              "  </tbody>\n",
              "</table>\n",
              "<p>416768 rows × 3 columns</p>\n",
              "</div>\n",
              "      <button class=\"colab-df-convert\" onclick=\"convertToInteractive('df-c4b57303-7ea4-4520-b283-f29680520fd5')\"\n",
              "              title=\"Convert this dataframe to an interactive table.\"\n",
              "              style=\"display:none;\">\n",
              "        \n",
              "  <svg xmlns=\"http://www.w3.org/2000/svg\" height=\"24px\"viewBox=\"0 0 24 24\"\n",
              "       width=\"24px\">\n",
              "    <path d=\"M0 0h24v24H0V0z\" fill=\"none\"/>\n",
              "    <path d=\"M18.56 5.44l.94 2.06.94-2.06 2.06-.94-2.06-.94-.94-2.06-.94 2.06-2.06.94zm-11 1L8.5 8.5l.94-2.06 2.06-.94-2.06-.94L8.5 2.5l-.94 2.06-2.06.94zm10 10l.94 2.06.94-2.06 2.06-.94-2.06-.94-.94-2.06-.94 2.06-2.06.94z\"/><path d=\"M17.41 7.96l-1.37-1.37c-.4-.4-.92-.59-1.43-.59-.52 0-1.04.2-1.43.59L10.3 9.45l-7.72 7.72c-.78.78-.78 2.05 0 2.83L4 21.41c.39.39.9.59 1.41.59.51 0 1.02-.2 1.41-.59l7.78-7.78 2.81-2.81c.8-.78.8-2.07 0-2.86zM5.41 20L4 18.59l7.72-7.72 1.47 1.35L5.41 20z\"/>\n",
              "  </svg>\n",
              "      </button>\n",
              "      \n",
              "  <style>\n",
              "    .colab-df-container {\n",
              "      display:flex;\n",
              "      flex-wrap:wrap;\n",
              "      gap: 12px;\n",
              "    }\n",
              "\n",
              "    .colab-df-convert {\n",
              "      background-color: #E8F0FE;\n",
              "      border: none;\n",
              "      border-radius: 50%;\n",
              "      cursor: pointer;\n",
              "      display: none;\n",
              "      fill: #1967D2;\n",
              "      height: 32px;\n",
              "      padding: 0 0 0 0;\n",
              "      width: 32px;\n",
              "    }\n",
              "\n",
              "    .colab-df-convert:hover {\n",
              "      background-color: #E2EBFA;\n",
              "      box-shadow: 0px 1px 2px rgba(60, 64, 67, 0.3), 0px 1px 3px 1px rgba(60, 64, 67, 0.15);\n",
              "      fill: #174EA6;\n",
              "    }\n",
              "\n",
              "    [theme=dark] .colab-df-convert {\n",
              "      background-color: #3B4455;\n",
              "      fill: #D2E3FC;\n",
              "    }\n",
              "\n",
              "    [theme=dark] .colab-df-convert:hover {\n",
              "      background-color: #434B5C;\n",
              "      box-shadow: 0px 1px 3px 1px rgba(0, 0, 0, 0.15);\n",
              "      filter: drop-shadow(0px 1px 2px rgba(0, 0, 0, 0.3));\n",
              "      fill: #FFFFFF;\n",
              "    }\n",
              "  </style>\n",
              "\n",
              "      <script>\n",
              "        const buttonEl =\n",
              "          document.querySelector('#df-c4b57303-7ea4-4520-b283-f29680520fd5 button.colab-df-convert');\n",
              "        buttonEl.style.display =\n",
              "          google.colab.kernel.accessAllowed ? 'block' : 'none';\n",
              "\n",
              "        async function convertToInteractive(key) {\n",
              "          const element = document.querySelector('#df-c4b57303-7ea4-4520-b283-f29680520fd5');\n",
              "          const dataTable =\n",
              "            await google.colab.kernel.invokeFunction('convertToInteractive',\n",
              "                                                     [key], {});\n",
              "          if (!dataTable) return;\n",
              "\n",
              "          const docLinkHtml = 'Like what you see? Visit the ' +\n",
              "            '<a target=\"_blank\" href=https://colab.research.google.com/notebooks/data_table.ipynb>data table notebook</a>'\n",
              "            + ' to learn more about interactive tables.';\n",
              "          element.innerHTML = '';\n",
              "          dataTable['output_type'] = 'display_data';\n",
              "          await google.colab.output.renderOutput(dataTable, element);\n",
              "          const docLink = document.createElement('div');\n",
              "          docLink.innerHTML = docLinkHtml;\n",
              "          element.appendChild(docLink);\n",
              "        }\n",
              "      </script>\n",
              "    </div>\n",
              "  </div>\n",
              "  "
            ]
          },
          "metadata": {},
          "execution_count": 69
        }
      ]
    },
    {
      "cell_type": "code",
      "source": [
        "import seaborn as sns\n",
        "\n",
        "sns.boxplot(data=wiki_df_train, x='label', y='d_chall')"
      ],
      "metadata": {
        "colab": {
          "base_uri": "https://localhost:8080/",
          "height": 296
        },
        "id": "-mcR7ncZdIhM",
        "outputId": "49e3b0af-2e93-4fe8-a50a-2b2616cc3f4c"
      },
      "execution_count": 27,
      "outputs": [
        {
          "output_type": "execute_result",
          "data": {
            "text/plain": [
              "<matplotlib.axes._subplots.AxesSubplot at 0x7f2469d3c710>"
            ]
          },
          "metadata": {},
          "execution_count": 27
        },
        {
          "output_type": "display_data",
          "data": {
            "text/plain": [
              "<Figure size 432x288 with 1 Axes>"
            ],
            "image/png": "[encoded data removed]"
          },
          "metadata": {
            "needs_background": "light"
          }
        }
      ]
    },
    {
      "cell_type": "code",
      "source": [
        "[w for w in d_chall if w not in feature_array]"
      ],
      "metadata": {
        "colab": {
          "base_uri": "https://localhost:8080/"
        },
        "id": "hha3Ko0fer0F",
        "outputId": "24c9562b-cc5c-4d77-f0fa-3e03ab780797"
      },
      "execution_count": 28,
      "outputs": [
        {
          "output_type": "execute_result",
          "data": {
            "text/plain": [
              "['armful',\n",
              " 'catbird',\n",
              " 'cluck',\n",
              " 'firecracker',\n",
              " 'housetop',\n",
              " 'haystack',\n",
              " 'wrung',\n",
              " 'downstairs',\n",
              " 'housework',\n",
              " 'carload',\n",
              " 'drowsy',\n",
              " 'bobwhite',\n",
              " 'mamma',\n",
              " 'waken',\n",
              " 'bedspread',\n",
              " 'awfully',\n",
              " 'cozy',\n",
              " 'carelessness',\n",
              " 'coffeepot',\n",
              " 'hayfield',\n",
              " 'bedbug',\n",
              " 'thanksgive',\n",
              " 'ouch',\n",
              " 'clang',\n",
              " 'homely',\n",
              " 'stillness',\n",
              " 'coop',\n",
              " '  ',\n",
              " 'cob',\n",
              " 'redbreast',\n",
              " 'hark',\n",
              " 'redbird',\n",
              " 'gobble',\n",
              " 'mailman',\n",
              " 'rosebud',\n",
              " 'flowery',\n",
              " 'thimble',\n",
              " 'mend',\n",
              " 'schoolroom',\n",
              " 'beefsteak',\n",
              " 'cranky',\n",
              " 'doorknob',\n",
              " 'cupful',\n",
              " 'tardy',\n",
              " 'tinkle',\n",
              " 'hunk',\n",
              " 'catsup',\n",
              " 'hurrah',\n",
              " 'tiptoe',\n",
              " 'woolen',\n",
              " 'rowboat',\n",
              " 'chilly',\n",
              " 'bookcase',\n",
              " 'groan',\n",
              " 'wre',\n",
              " 'gladly',\n",
              " 'pocketbook',\n",
              " 'codfish',\n",
              " 'buttonhole',\n",
              " 'cackle',\n",
              " 'croak',\n",
              " 'mailbox']"
            ]
          },
          "metadata": {},
          "execution_count": 28
        }
      ]
    }
  ]
}