{
  "nbformat": 4,
  "nbformat_minor": 0,
  "metadata": {
    "colab": {
      "provenance": [],
      "authorship_tag": "ABX9TyNcjEy/9pzzoKC/ibHrbdYY",
      "include_colab_link": true
    },
    "kernelspec": {
      "name": "python3",
      "display_name": "Python 3"
    },
    "language_info": {
      "name": "python"
    }
  },
  "cells": [
    {
      "cell_type": "markdown",
      "metadata": {
        "id": "view-in-github",
        "colab_type": "text"
      },
      "source": [
        "<a href=\"https://colab.research.google.com/github/Tstrebe2/predicting-text-difficulty/blob/dave-updates/code/dave-Sentence-Embedding-Clustering.ipynb\" target=\"_parent\"><img src=\"https://colab.research.google.com/assets/colab-badge.svg\" alt=\"Open In Colab\"/></a>"
      ]
    },
    {
      "cell_type": "code",
      "execution_count": 73,
      "metadata": {
        "id": "g6G632k2A9CS"
      },
      "outputs": [],
      "source": [
        "import pandas as pd\n",
        "import numpy as np\n",
        "import spacy\n",
        "from sklearn.cluster import KMeans"
      ]
    },
    {
      "cell_type": "code",
      "source": [
        "from google.colab import drive\n",
        "drive.mount('/content/drive')"
      ],
      "metadata": {
        "colab": {
          "base_uri": "https://localhost:8080/"
        },
        "id": "8Cn0DZMjBFgY",
        "outputId": "4a1cbffc-2101-4427-fb45-5fe488284ad5"
      },
      "execution_count": 74,
      "outputs": [
        {
          "output_type": "stream",
          "name": "stdout",
          "text": [
            "Drive already mounted at /content/drive; to attempt to forcibly remount, call drive.mount(\"/content/drive\", force_remount=True).\n"
          ]
        }
      ]
    },
    {
      "cell_type": "code",
      "source": [
        "train = pd.read_csv('drive/Shareddrives/Milestone 2/Training_set.csv', \n",
        "                      sep='\\t',index_col='ix')\n",
        "# train['lemmatized_text'] = train['lemmatized_text'].fillna('')\n",
        "train['lemmatized_text'] = train['lemmatized_text'].astype(str)"
      ],
      "metadata": {
        "id": "5o5g0ZauBZ5X"
      },
      "execution_count": 268,
      "outputs": []
    },
    {
      "cell_type": "code",
      "source": [
        "sample_df = train.groupby('label').apply(lambda x: x.sample(2500, random_state=99))"
      ],
      "metadata": {
        "id": "b8ckCNeCBnC1"
      },
      "execution_count": 269,
      "outputs": []
    },
    {
      "cell_type": "code",
      "source": [
        "sample_df.label.value_counts()"
      ],
      "metadata": {
        "colab": {
          "base_uri": "https://localhost:8080/"
        },
        "id": "PJHreMjlB7gk",
        "outputId": "390bdf9f-5362-401d-ebb1-f58a9cfd3f37"
      },
      "execution_count": 270,
      "outputs": [
        {
          "output_type": "execute_result",
          "data": {
            "text/plain": [
              "0    2500\n",
              "1    2500\n",
              "Name: label, dtype: int64"
            ]
          },
          "metadata": {},
          "execution_count": 270
        }
      ]
    },
    {
      "cell_type": "code",
      "source": [
        "nlp = spacy.load(\"en_core_web_sm\")"
      ],
      "metadata": {
        "id": "aHLv_rbIB8UH"
      },
      "execution_count": 239,
      "outputs": []
    },
    {
      "cell_type": "code",
      "source": [
        "sample_df['embedding'] =  (sample_df['lemmatized_text']\n",
        "                           .apply(lambda doc: nlp(doc).vector))"
      ],
      "metadata": {
        "id": "tnxzOgUODhhH"
      },
      "execution_count": 271,
      "outputs": []
    },
    {
      "cell_type": "code",
      "source": [
        "X = pd.DataFrame([x for x in sample_df['embedding']])"
      ],
      "metadata": {
        "id": "rifU1rdZl-VV"
      },
      "execution_count": 272,
      "outputs": []
    },
    {
      "cell_type": "code",
      "source": [
        "km = KMeans(n_clusters=2, random_state=99)\n",
        "km.fit(X)"
      ],
      "metadata": {
        "colab": {
          "base_uri": "https://localhost:8080/"
        },
        "id": "-WBTUcNSszz-",
        "outputId": "88b80ec5-b698-4748-a1c1-cd103fd5205a"
      },
      "execution_count": 276,
      "outputs": [
        {
          "output_type": "execute_result",
          "data": {
            "text/plain": [
              "KMeans(n_clusters=2, random_state=99)"
            ]
          },
          "metadata": {},
          "execution_count": 276
        }
      ]
    },
    {
      "cell_type": "code",
      "source": [
        "km.labels_."
      ],
      "metadata": {
        "colab": {
          "base_uri": "https://localhost:8080/"
        },
        "id": "3blaBR2dqWJO",
        "outputId": "8e482f7e-e922-4315-f39c-0dd11bedc1fb"
      },
      "execution_count": 277,
      "outputs": [
        {
          "output_type": "execute_result",
          "data": {
            "text/plain": [
              "(5000,)"
            ]
          },
          "metadata": {},
          "execution_count": 277
        }
      ]
    },
    {
      "cell_type": "code",
      "source": [
        "sample_df['cluster'] = km.labels_"
      ],
      "metadata": {
        "id": "BvbrnvciMlHp"
      },
      "execution_count": 278,
      "outputs": []
    },
    {
      "cell_type": "code",
      "source": [
        "np.bincount(km.labels_)"
      ],
      "metadata": {
        "colab": {
          "base_uri": "https://localhost:8080/"
        },
        "id": "EqaQccJoEJ_h",
        "outputId": "0ef8aaaf-2349-41f8-a46a-63edc6eaebd9"
      },
      "execution_count": 279,
      "outputs": [
        {
          "output_type": "execute_result",
          "data": {
            "text/plain": [
              "array([ 226, 4774])"
            ]
          },
          "metadata": {},
          "execution_count": 279
        }
      ]
    },
    {
      "cell_type": "code",
      "source": [
        "from sklearn.decomposition import PCA\n",
        "from sklearn.preprocessing import StandardScaler"
      ],
      "metadata": {
        "id": "Hex65UL2OOiw"
      },
      "execution_count": 280,
      "outputs": []
    },
    {
      "cell_type": "code",
      "source": [
        "X_std = StandardScaler().fit_transform(X)"
      ],
      "metadata": {
        "id": "DBS4ILomHoja"
      },
      "execution_count": 281,
      "outputs": []
    },
    {
      "cell_type": "code",
      "source": [
        "\n",
        "X_pca = PCA(n_components=2).fit_transform(X_std)"
      ],
      "metadata": {
        "id": "QL8695gV83Vc"
      },
      "execution_count": 282,
      "outputs": []
    },
    {
      "cell_type": "code",
      "source": [
        "import seaborn as sns"
      ],
      "metadata": {
        "id": "REdzC9C6NQk9"
      },
      "execution_count": 283,
      "outputs": []
    },
    {
      "cell_type": "code",
      "source": [
        "sns.scatterplot(X_pca[:,0],\n",
        "                X_pca[:,1],\n",
        "                hue=km.labels_)"
      ],
      "metadata": {
        "colab": {
          "base_uri": "https://localhost:8080/",
          "height": 336
        },
        "id": "-2eLl60gNWsQ",
        "outputId": "293ae9d6-e11d-4091-e24e-6a7273c0da2a"
      },
      "execution_count": 284,
      "outputs": [
        {
          "output_type": "stream",
          "name": "stderr",
          "text": [
            "/usr/local/lib/python3.7/dist-packages/seaborn/_decorators.py:43: FutureWarning: Pass the following variables as keyword args: x, y. From version 0.12, the only valid positional argument will be `data`, and passing other arguments without an explicit keyword will result in an error or misinterpretation.\n",
            "  FutureWarning\n"
          ]
        },
        {
          "output_type": "execute_result",
          "data": {
            "text/plain": [
              "<matplotlib.axes._subplots.AxesSubplot at 0x7f47754b4450>"
            ]
          },
          "metadata": {},
          "execution_count": 284
        },
        {
          "output_type": "display_data",
          "data": {
            "text/plain": [
              "<Figure size 432x288 with 1 Axes>"
            ],
            "image/png": "[encoded data removed]"
          },
          "metadata": {
            "needs_background": "light"
          }
        }
      ]
    },
    {
      "cell_type": "code",
      "source": [
        "sample_df.reset_index()"
      ],
      "metadata": {
        "colab": {
          "base_uri": "https://localhost:8080/",
          "height": 664
        },
        "id": "GQuNDFFp8D_Z",
        "outputId": "bd1bfe09-446a-467a-def8-dd2fc1e15920"
      },
      "execution_count": 289,
      "outputs": [
        {
          "output_type": "execute_result",
          "data": {
            "text/plain": [
              "                                                  original_text  \\\n",
              "label ix                                                          \n",
              "0     256892  He studied art in Berlin , Essen , and Munich ...   \n",
              "      302461  There are paw prints of cave bears . There are...   \n",
              "      336641  The album also won the band a 2003 Swedish Gra...   \n",
              "      336467                      Communist Hungary , 1946-1989   \n",
              "      413140  Both his teaching and his textbook were instru...   \n",
              "...                                                         ...   \n",
              "1     131267                       XboxGame Boy AdvanceGameCube   \n",
              "      101928                         Los Toros -LRB- D.M. -RRB-   \n",
              "      190118  Over 50 booksellers from around Australia set ...   \n",
              "      151061  In most cases , the shires were named after th...   \n",
              "      172708  After World War II , he studied law and econom...   \n",
              "\n",
              "                                                lemmatized_text  \\\n",
              "label ix                                                          \n",
              "0     256892  he study art in berlin essen and munich before...   \n",
              "      302461  there be paw print of cave bear there be also ...   \n",
              "      336641  the album also win the band a 2003 swedish gra...   \n",
              "      336467                         communist hungary 19461989   \n",
              "      413140  both he teach and he textbook be instrumental ...   \n",
              "...                                                         ...   \n",
              "1     131267                       xboxgame boy advancegamecube   \n",
              "      101928                                los toro lrb dm rrb   \n",
              "      190118  over 50 bookseller from around australia set u...   \n",
              "      151061  in most case the shire be name after they shir...   \n",
              "      172708  after world war ii he study law and economics ...   \n",
              "\n",
              "              d_chall_score   aoa_mean  aoa_min  aoa_max  conc_rating_mean  \\\n",
              "label ix                                                                     \n",
              "0     256892       8.097500   5.320769     2.89    12.22          2.663077   \n",
              "      302461       1.780475   5.568750     3.58    10.71          2.933333   \n",
              "      336641       6.714850   5.029231     2.89     7.74          2.855833   \n",
              "      336467      15.938800  13.220000    13.22    13.22          3.500000   \n",
              "      413140       8.356977   6.015652     2.89    11.84          2.730909   \n",
              "...                     ...        ...      ...      ...               ...   \n",
              "1     131267      10.675467   3.670000     3.67     3.67          4.760000   \n",
              "      101928      16.038000   0.000000     0.00     0.00               NaN   \n",
              "      190118       6.156133   5.175714     2.92     9.79          2.902143   \n",
              "      151061       8.577292   6.425789     3.68    10.92          2.432778   \n",
              "      172708       9.482200   6.353333     3.69    12.30          2.508500   \n",
              "\n",
              "              conc_rating_min  conc_rating_max  num_lemmas  label  \\\n",
              "label ix                                                            \n",
              "0     256892             1.33             4.92        20.0      0   \n",
              "      302461             1.43             4.96        16.0      0   \n",
              "      336641             1.43             4.91        16.0      0   \n",
              "      336467             3.50             3.50         3.0      0   \n",
              "      413140             1.43             4.93        27.0      0   \n",
              "...                       ...              ...         ...    ...   \n",
              "1     131267             4.76             4.76         3.0      1   \n",
              "      101928              NaN              NaN         5.0      1   \n",
              "      190118             1.43             4.64        18.0      1   \n",
              "      151061             1.33             4.64        26.0      1   \n",
              "      172708             1.43             4.65        32.0      1   \n",
              "\n",
              "                                                      embedding  cluster  \n",
              "label ix                                                                  \n",
              "0     256892  [0.018231928, 0.4154876, 0.7377034, -0.2962893...        1  \n",
              "      302461  [0.12793973, 0.08198082, 0.033817958, -0.48279...        1  \n",
              "      336641  [0.5794473, 0.06901185, 0.021388948, 0.0367541...        1  \n",
              "      336467  [0.6379275, 0.23654538, 0.6577674, -0.6533095,...        0  \n",
              "      413140  [0.15669607, 0.13308333, 0.42378902, 0.0137577...        1  \n",
              "...                                                         ...      ...  \n",
              "1     131267  [0.85541105, -0.35185456, 0.5076444, -0.678543...        0  \n",
              "      101928  [1.307379, -0.0049954415, 0.6939476, -0.333151...        1  \n",
              "      190118  [0.13498002, -0.051398788, 0.7207831, -0.42479...        1  \n",
              "      151061  [0.28916335, 0.086845584, 0.24066803, -0.21172...        1  \n",
              "      172708  [0.34353825, 0.05316883, 0.5850646, -0.3002363...        1  \n",
              "\n",
              "[5000 rows x 13 columns]"
            ],
            "text/html": [
              "\n",
              "  <div id=\"df-77c628a4-898c-4444-81cd-22e0fedb1973\">\n",
              "    <div class=\"colab-df-container\">\n",
              "      <div>\n",
              "<style scoped>\n",
              "    .dataframe tbody tr th:only-of-type {\n",
              "        vertical-align: middle;\n",
              "    }\n",
              "\n",
              "    .dataframe tbody tr th {\n",
              "        vertical-align: top;\n",
              "    }\n",
              "\n",
              "    .dataframe thead th {\n",
              "        text-align: right;\n",
              "    }\n",
              "</style>\n",
              "<table border=\"1\" class=\"dataframe\">\n",
              "  <thead>\n",
              "    <tr style=\"text-align: right;\">\n",
              "      <th></th>\n",
              "      <th></th>\n",
              "      <th>original_text</th>\n",
              "      <th>lemmatized_text</th>\n",
              "      <th>d_chall_score</th>\n",
              "      <th>aoa_mean</th>\n",
              "      <th>aoa_min</th>\n",
              "      <th>aoa_max</th>\n",
              "      <th>conc_rating_mean</th>\n",
              "      <th>conc_rating_min</th>\n",
              "      <th>conc_rating_max</th>\n",
              "      <th>num_lemmas</th>\n",
              "      <th>label</th>\n",
              "      <th>embedding</th>\n",
              "      <th>cluster</th>\n",
              "    </tr>\n",
              "    <tr>\n",
              "      <th>label</th>\n",
              "      <th>ix</th>\n",
              "      <th></th>\n",
              "      <th></th>\n",
              "      <th></th>\n",
              "      <th></th>\n",
              "      <th></th>\n",
              "      <th></th>\n",
              "      <th></th>\n",
              "      <th></th>\n",
              "      <th></th>\n",
              "      <th></th>\n",
              "      <th></th>\n",
              "      <th></th>\n",
              "      <th></th>\n",
              "    </tr>\n",
              "  </thead>\n",
              "  <tbody>\n",
              "    <tr>\n",
              "      <th rowspan=\"5\" valign=\"top\">0</th>\n",
              "      <th>256892</th>\n",
              "      <td>He studied art in Berlin , Essen , and Munich ...</td>\n",
              "      <td>he study art in berlin essen and munich before...</td>\n",
              "      <td>8.097500</td>\n",
              "      <td>5.320769</td>\n",
              "      <td>2.89</td>\n",
              "      <td>12.22</td>\n",
              "      <td>2.663077</td>\n",
              "      <td>1.33</td>\n",
              "      <td>4.92</td>\n",
              "      <td>20.0</td>\n",
              "      <td>0</td>\n",
              "      <td>[0.018231928, 0.4154876, 0.7377034, -0.2962893...</td>\n",
              "      <td>1</td>\n",
              "    </tr>\n",
              "    <tr>\n",
              "      <th>302461</th>\n",
              "      <td>There are paw prints of cave bears . There are...</td>\n",
              "      <td>there be paw print of cave bear there be also ...</td>\n",
              "      <td>1.780475</td>\n",
              "      <td>5.568750</td>\n",
              "      <td>3.58</td>\n",
              "      <td>10.71</td>\n",
              "      <td>2.933333</td>\n",
              "      <td>1.43</td>\n",
              "      <td>4.96</td>\n",
              "      <td>16.0</td>\n",
              "      <td>0</td>\n",
              "      <td>[0.12793973, 0.08198082, 0.033817958, -0.48279...</td>\n",
              "      <td>1</td>\n",
              "    </tr>\n",
              "    <tr>\n",
              "      <th>336641</th>\n",
              "      <td>The album also won the band a 2003 Swedish Gra...</td>\n",
              "      <td>the album also win the band a 2003 swedish gra...</td>\n",
              "      <td>6.714850</td>\n",
              "      <td>5.029231</td>\n",
              "      <td>2.89</td>\n",
              "      <td>7.74</td>\n",
              "      <td>2.855833</td>\n",
              "      <td>1.43</td>\n",
              "      <td>4.91</td>\n",
              "      <td>16.0</td>\n",
              "      <td>0</td>\n",
              "      <td>[0.5794473, 0.06901185, 0.021388948, 0.0367541...</td>\n",
              "      <td>1</td>\n",
              "    </tr>\n",
              "    <tr>\n",
              "      <th>336467</th>\n",
              "      <td>Communist Hungary , 1946-1989</td>\n",
              "      <td>communist hungary 19461989</td>\n",
              "      <td>15.938800</td>\n",
              "      <td>13.220000</td>\n",
              "      <td>13.22</td>\n",
              "      <td>13.22</td>\n",
              "      <td>3.500000</td>\n",
              "      <td>3.50</td>\n",
              "      <td>3.50</td>\n",
              "      <td>3.0</td>\n",
              "      <td>0</td>\n",
              "      <td>[0.6379275, 0.23654538, 0.6577674, -0.6533095,...</td>\n",
              "      <td>0</td>\n",
              "    </tr>\n",
              "    <tr>\n",
              "      <th>413140</th>\n",
              "      <td>Both his teaching and his textbook were instru...</td>\n",
              "      <td>both he teach and he textbook be instrumental ...</td>\n",
              "      <td>8.356977</td>\n",
              "      <td>6.015652</td>\n",
              "      <td>2.89</td>\n",
              "      <td>11.84</td>\n",
              "      <td>2.730909</td>\n",
              "      <td>1.43</td>\n",
              "      <td>4.93</td>\n",
              "      <td>27.0</td>\n",
              "      <td>0</td>\n",
              "      <td>[0.15669607, 0.13308333, 0.42378902, 0.0137577...</td>\n",
              "      <td>1</td>\n",
              "    </tr>\n",
              "    <tr>\n",
              "      <th>...</th>\n",
              "      <th>...</th>\n",
              "      <td>...</td>\n",
              "      <td>...</td>\n",
              "      <td>...</td>\n",
              "      <td>...</td>\n",
              "      <td>...</td>\n",
              "      <td>...</td>\n",
              "      <td>...</td>\n",
              "      <td>...</td>\n",
              "      <td>...</td>\n",
              "      <td>...</td>\n",
              "      <td>...</td>\n",
              "      <td>...</td>\n",
              "      <td>...</td>\n",
              "    </tr>\n",
              "    <tr>\n",
              "      <th rowspan=\"5\" valign=\"top\">1</th>\n",
              "      <th>131267</th>\n",
              "      <td>XboxGame Boy AdvanceGameCube</td>\n",
              "      <td>xboxgame boy advancegamecube</td>\n",
              "      <td>10.675467</td>\n",
              "      <td>3.670000</td>\n",
              "      <td>3.67</td>\n",
              "      <td>3.67</td>\n",
              "      <td>4.760000</td>\n",
              "      <td>4.76</td>\n",
              "      <td>4.76</td>\n",
              "      <td>3.0</td>\n",
              "      <td>1</td>\n",
              "      <td>[0.85541105, -0.35185456, 0.5076444, -0.678543...</td>\n",
              "      <td>0</td>\n",
              "    </tr>\n",
              "    <tr>\n",
              "      <th>101928</th>\n",
              "      <td>Los Toros -LRB- D.M. -RRB-</td>\n",
              "      <td>los toro lrb dm rrb</td>\n",
              "      <td>16.038000</td>\n",
              "      <td>0.000000</td>\n",
              "      <td>0.00</td>\n",
              "      <td>0.00</td>\n",
              "      <td>NaN</td>\n",
              "      <td>NaN</td>\n",
              "      <td>NaN</td>\n",
              "      <td>5.0</td>\n",
              "      <td>1</td>\n",
              "      <td>[1.307379, -0.0049954415, 0.6939476, -0.333151...</td>\n",
              "      <td>1</td>\n",
              "    </tr>\n",
              "    <tr>\n",
              "      <th>190118</th>\n",
              "      <td>Over 50 booksellers from around Australia set ...</td>\n",
              "      <td>over 50 bookseller from around australia set u...</td>\n",
              "      <td>6.156133</td>\n",
              "      <td>5.175714</td>\n",
              "      <td>2.92</td>\n",
              "      <td>9.79</td>\n",
              "      <td>2.902143</td>\n",
              "      <td>1.43</td>\n",
              "      <td>4.64</td>\n",
              "      <td>18.0</td>\n",
              "      <td>1</td>\n",
              "      <td>[0.13498002, -0.051398788, 0.7207831, -0.42479...</td>\n",
              "      <td>1</td>\n",
              "    </tr>\n",
              "    <tr>\n",
              "      <th>151061</th>\n",
              "      <td>In most cases , the shires were named after th...</td>\n",
              "      <td>in most case the shire be name after they shir...</td>\n",
              "      <td>8.577292</td>\n",
              "      <td>6.425789</td>\n",
              "      <td>3.68</td>\n",
              "      <td>10.92</td>\n",
              "      <td>2.432778</td>\n",
              "      <td>1.33</td>\n",
              "      <td>4.64</td>\n",
              "      <td>26.0</td>\n",
              "      <td>1</td>\n",
              "      <td>[0.28916335, 0.086845584, 0.24066803, -0.21172...</td>\n",
              "      <td>1</td>\n",
              "    </tr>\n",
              "    <tr>\n",
              "      <th>172708</th>\n",
              "      <td>After World War II , he studied law and econom...</td>\n",
              "      <td>after world war ii he study law and economics ...</td>\n",
              "      <td>9.482200</td>\n",
              "      <td>6.353333</td>\n",
              "      <td>3.69</td>\n",
              "      <td>12.30</td>\n",
              "      <td>2.508500</td>\n",
              "      <td>1.43</td>\n",
              "      <td>4.65</td>\n",
              "      <td>32.0</td>\n",
              "      <td>1</td>\n",
              "      <td>[0.34353825, 0.05316883, 0.5850646, -0.3002363...</td>\n",
              "      <td>1</td>\n",
              "    </tr>\n",
              "  </tbody>\n",
              "</table>\n",
              "<p>5000 rows × 13 columns</p>\n",
              "</div>\n",
              "      <button class=\"colab-df-convert\" onclick=\"convertToInteractive('df-77c628a4-898c-4444-81cd-22e0fedb1973')\"\n",
              "              title=\"Convert this dataframe to an interactive table.\"\n",
              "              style=\"display:none;\">\n",
              "        \n",
              "  <svg xmlns=\"http://www.w3.org/2000/svg\" height=\"24px\"viewBox=\"0 0 24 24\"\n",
              "       width=\"24px\">\n",
              "    <path d=\"M0 0h24v24H0V0z\" fill=\"none\"/>\n",
              "    <path d=\"M18.56 5.44l.94 2.06.94-2.06 2.06-.94-2.06-.94-.94-2.06-.94 2.06-2.06.94zm-11 1L8.5 8.5l.94-2.06 2.06-.94-2.06-.94L8.5 2.5l-.94 2.06-2.06.94zm10 10l.94 2.06.94-2.06 2.06-.94-2.06-.94-.94-2.06-.94 2.06-2.06.94z\"/><path d=\"M17.41 7.96l-1.37-1.37c-.4-.4-.92-.59-1.43-.59-.52 0-1.04.2-1.43.59L10.3 9.45l-7.72 7.72c-.78.78-.78 2.05 0 2.83L4 21.41c.39.39.9.59 1.41.59.51 0 1.02-.2 1.41-.59l7.78-7.78 2.81-2.81c.8-.78.8-2.07 0-2.86zM5.41 20L4 18.59l7.72-7.72 1.47 1.35L5.41 20z\"/>\n",
              "  </svg>\n",
              "      </button>\n",
              "      \n",
              "  <style>\n",
              "    .colab-df-container {\n",
              "      display:flex;\n",
              "      flex-wrap:wrap;\n",
              "      gap: 12px;\n",
              "    }\n",
              "\n",
              "    .colab-df-convert {\n",
              "      background-color: #E8F0FE;\n",
              "      border: none;\n",
              "      border-radius: 50%;\n",
              "      cursor: pointer;\n",
              "      display: none;\n",
              "      fill: #1967D2;\n",
              "      height: 32px;\n",
              "      padding: 0 0 0 0;\n",
              "      width: 32px;\n",
              "    }\n",
              "\n",
              "    .colab-df-convert:hover {\n",
              "      background-color: #E2EBFA;\n",
              "      box-shadow: 0px 1px 2px rgba(60, 64, 67, 0.3), 0px 1px 3px 1px rgba(60, 64, 67, 0.15);\n",
              "      fill: #174EA6;\n",
              "    }\n",
              "\n",
              "    [theme=dark] .colab-df-convert {\n",
              "      background-color: #3B4455;\n",
              "      fill: #D2E3FC;\n",
              "    }\n",
              "\n",
              "    [theme=dark] .colab-df-convert:hover {\n",
              "      background-color: #434B5C;\n",
              "      box-shadow: 0px 1px 3px 1px rgba(0, 0, 0, 0.15);\n",
              "      filter: drop-shadow(0px 1px 2px rgba(0, 0, 0, 0.3));\n",
              "      fill: #FFFFFF;\n",
              "    }\n",
              "  </style>\n",
              "\n",
              "      <script>\n",
              "        const buttonEl =\n",
              "          document.querySelector('#df-77c628a4-898c-4444-81cd-22e0fedb1973 button.colab-df-convert');\n",
              "        buttonEl.style.display =\n",
              "          google.colab.kernel.accessAllowed ? 'block' : 'none';\n",
              "\n",
              "        async function convertToInteractive(key) {\n",
              "          const element = document.querySelector('#df-77c628a4-898c-4444-81cd-22e0fedb1973');\n",
              "          const dataTable =\n",
              "            await google.colab.kernel.invokeFunction('convertToInteractive',\n",
              "                                                     [key], {});\n",
              "          if (!dataTable) return;\n",
              "\n",
              "          const docLinkHtml = 'Like what you see? Visit the ' +\n",
              "            '<a target=\"_blank\" href=https://colab.research.google.com/notebooks/data_table.ipynb>data table notebook</a>'\n",
              "            + ' to learn more about interactive tables.';\n",
              "          element.innerHTML = '';\n",
              "          dataTable['output_type'] = 'display_data';\n",
              "          await google.colab.output.renderOutput(dataTable, element);\n",
              "          const docLink = document.createElement('div');\n",
              "          docLink.innerHTML = docLinkHtml;\n",
              "          element.appendChild(docLink);\n",
              "        }\n",
              "      </script>\n",
              "    </div>\n",
              "  </div>\n",
              "  "
            ]
          },
          "metadata": {},
          "execution_count": 289
        }
      ]
    },
    {
      "cell_type": "code",
      "source": [
        "np.mean(vecs, axis=1)"
      ],
      "metadata": {
        "colab": {
          "base_uri": "https://localhost:8080/"
        },
        "id": "UkkmYoRJNwDP",
        "outputId": "54776a83-e243-49c8-bcb6-377ae36a70a0"
      },
      "execution_count": 93,
      "outputs": [
        {
          "output_type": "execute_result",
          "data": {
            "text/plain": [
              "array([-0.00546921, -0.00127675], dtype=float32)"
            ]
          },
          "metadata": {},
          "execution_count": 93
        }
      ]
    },
    {
      "cell_type": "code",
      "source": [],
      "metadata": {
        "id": "BvMXnyzTiZrg"
      },
      "execution_count": null,
      "outputs": []
    }
  ]
}