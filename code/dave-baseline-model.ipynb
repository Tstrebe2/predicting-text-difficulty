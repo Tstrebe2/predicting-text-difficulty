{
  "nbformat": 4,
  "nbformat_minor": 0,
  "metadata": {
    "colab": {
      "provenance": [],
      "include_colab_link": true
    },
    "kernelspec": {
      "name": "python3",
      "display_name": "Python 3"
    },
    "language_info": {
      "name": "python"
    }
  },
  "cells": [
    {
      "cell_type": "markdown",
      "metadata": {
        "id": "view-in-github",
        "colab_type": "text"
      },
      "source": [
        "<a href=\"https://colab.research.google.com/github/Tstrebe2/predicting-text-difficulty/blob/dave-updates/code/dave-baseline-model.ipynb\" target=\"_parent\"><img src=\"https://colab.research.google.com/assets/colab-badge.svg\" alt=\"Open In Colab\"/></a>"
      ]
    },
    {
      "cell_type": "code",
      "source": [
        "import sys\n",
        "!{sys.executable} -m pip install contractions -q\n",
        "!{sys.executable} -m pip install pyspark -q\n",
        "!{sys.executable} -m pip install -U spacy -q\n",
        "!{sys.executable} -m spacy download en_core_web_lg -q"
      ],
      "metadata": {
        "colab": {
          "base_uri": "https://localhost:8080/"
        },
        "id": "VGzyh5eCq-i6",
        "outputId": "1f18c83b-0f8b-470d-d100-94c47dc8a59a"
      },
      "execution_count": 61,
      "outputs": [
        {
          "output_type": "stream",
          "name": "stdout",
          "text": [
            "\u001b[?25l\r\u001b[K     |███                             | 10 kB 17.8 MB/s eta 0:00:01\r\u001b[K     |██████▏                         | 20 kB 25.5 MB/s eta 0:00:01\r\u001b[K     |█████████▎                      | 30 kB 33.1 MB/s eta 0:00:01\r\u001b[K     |████████████▎                   | 40 kB 37.0 MB/s eta 0:00:01\r\u001b[K     |███████████████▍                | 51 kB 39.9 MB/s eta 0:00:01\r\u001b[K     |██████████████████▌             | 61 kB 44.2 MB/s eta 0:00:01\r\u001b[K     |█████████████████████▌          | 71 kB 43.5 MB/s eta 0:00:01\r\u001b[K     |████████████████████████▋       | 81 kB 33.5 MB/s eta 0:00:01\r\u001b[K     |███████████████████████████▊    | 92 kB 35.3 MB/s eta 0:00:01\r\u001b[K     |██████████████████████████████▊ | 102 kB 37.5 MB/s eta 0:00:01\r\u001b[K     |████████████████████████████████| 106 kB 37.5 MB/s \n",
            "\u001b[?25h\u001b[?25l\r\u001b[K     |█▏                              | 10 kB 36.9 MB/s eta 0:00:01\r\u001b[K     |██▎                             | 20 kB 48.8 MB/s eta 0:00:01\r\u001b[K     |███▍                            | 30 kB 61.2 MB/s eta 0:00:01\r\u001b[K     |████▋                           | 40 kB 69.5 MB/s eta 0:00:01\r\u001b[K     |█████▊                          | 51 kB 75.3 MB/s eta 0:00:01\r\u001b[K     |██████▉                         | 61 kB 82.1 MB/s eta 0:00:01\r\u001b[K     |████████                        | 71 kB 83.4 MB/s eta 0:00:01\r\u001b[K     |█████████▏                      | 81 kB 85.6 MB/s eta 0:00:01\r\u001b[K     |██████████▎                     | 92 kB 86.4 MB/s eta 0:00:01\r\u001b[K     |███████████▍                    | 102 kB 88.6 MB/s eta 0:00:01\r\u001b[K     |████████████▌                   | 112 kB 88.6 MB/s eta 0:00:01\r\u001b[K     |█████████████▊                  | 122 kB 88.6 MB/s eta 0:00:01\r\u001b[K     |██████████████▉                 | 133 kB 88.6 MB/s eta 0:00:01\r\u001b[K     |████████████████                | 143 kB 88.6 MB/s eta 0:00:01\r\u001b[K     |█████████████████               | 153 kB 88.6 MB/s eta 0:00:01\r\u001b[K     |██████████████████▎             | 163 kB 88.6 MB/s eta 0:00:01\r\u001b[K     |███████████████████▍            | 174 kB 88.6 MB/s eta 0:00:01\r\u001b[K     |████████████████████▌           | 184 kB 88.6 MB/s eta 0:00:01\r\u001b[K     |█████████████████████▋          | 194 kB 88.6 MB/s eta 0:00:01\r\u001b[K     |██████████████████████▉         | 204 kB 88.6 MB/s eta 0:00:01\r\u001b[K     |████████████████████████        | 215 kB 88.6 MB/s eta 0:00:01\r\u001b[K     |█████████████████████████       | 225 kB 88.6 MB/s eta 0:00:01\r\u001b[K     |██████████████████████████▏     | 235 kB 88.6 MB/s eta 0:00:01\r\u001b[K     |███████████████████████████▍    | 245 kB 88.6 MB/s eta 0:00:01\r\u001b[K     |████████████████████████████▌   | 256 kB 88.6 MB/s eta 0:00:01\r\u001b[K     |█████████████████████████████▋  | 266 kB 88.6 MB/s eta 0:00:01\r\u001b[K     |██████████████████████████████▉ | 276 kB 88.6 MB/s eta 0:00:01\r\u001b[K     |████████████████████████████████| 286 kB 88.6 MB/s eta 0:00:01\r\u001b[K     |████████████████████████████████| 287 kB 88.6 MB/s \n",
            "\u001b[?25h2022-10-01 20:49:14.725593: E tensorflow/stream_executor/cuda/cuda_driver.cc:271] failed call to cuInit: CUDA_ERROR_NO_DEVICE: no CUDA-capable device is detected\n",
            "\u001b[K     |████████████████████████████████| 587.7 MB 10 kB/s \n",
            "\u001b[?25h\u001b[38;5;2m✔ Download and installation successful\u001b[0m\n",
            "You can now load the package via spacy.load('en_core_web_lg')\n"
          ]
        }
      ]
    },
    {
      "cell_type": "code",
      "source": [
        "from google.colab import drive\n",
        "drive.mount('/content/drive')"
      ],
      "metadata": {
        "colab": {
          "base_uri": "https://localhost:8080/"
        },
        "id": "GA0AUo-CPUS_",
        "outputId": "f01c49b3-feb4-48bb-ce3a-54f696b3d61c"
      },
      "execution_count": 3,
      "outputs": [
        {
          "output_type": "stream",
          "name": "stdout",
          "text": [
            "Mounted at /content/drive\n"
          ]
        }
      ]
    },
    {
      "cell_type": "code",
      "source": [
        "url = 'https://raw.githubusercontent.com/Tstrebe2/predicting-text-difficulty/main/assets/WikiLarge_Train.csv'\n",
        "!wget {url}"
      ],
      "metadata": {
        "colab": {
          "base_uri": "https://localhost:8080/"
        },
        "id": "07exLEkfRdNe",
        "outputId": "12e23a00-0d8b-4702-f431-fe4fa7db4269"
      },
      "execution_count": 4,
      "outputs": [
        {
          "output_type": "stream",
          "name": "stdout",
          "text": [
            "--2022-10-01 17:38:49--  https://raw.githubusercontent.com/Tstrebe2/predicting-text-difficulty/main/assets/WikiLarge_Train.csv\n",
            "Resolving raw.githubusercontent.com (raw.githubusercontent.com)... 185.199.108.133, 185.199.109.133, 185.199.110.133, ...\n",
            "Connecting to raw.githubusercontent.com (raw.githubusercontent.com)|185.199.108.133|:443... connected.\n",
            "HTTP request sent, awaiting response... 200 OK\n",
            "Length: 50868407 (49M) [text/plain]\n",
            "Saving to: ‘WikiLarge_Train.csv’\n",
            "\n",
            "WikiLarge_Train.csv 100%[===================>]  48.51M  --.-KB/s    in 0.1s    \n",
            "\n",
            "2022-10-01 17:38:50 (348 MB/s) - ‘WikiLarge_Train.csv’ saved [50868407/50868407]\n",
            "\n"
          ]
        }
      ]
    },
    {
      "cell_type": "code",
      "source": [
        "from pyspark.sql import SparkSession\n",
        "from pyspark.sql.functions import udf\n",
        "from pyspark.sql.types import StringType\n",
        "\n",
        "\n",
        "\n",
        "spark = SparkSession.builder\\\n",
        "        .master(\"local\")\\\n",
        "        .appName(\"Colab\")\\\n",
        "        .config('spark.ui.port', '4050')\\\n",
        "        .getOrCreate()\n",
        "\n",
        "df = spark.read.csv('/content/WikiLarge_Train.csv', header=True)\n",
        "df.createOrReplaceTempView('wiki')\n",
        "df.printSchema()"
      ],
      "metadata": {
        "colab": {
          "base_uri": "https://localhost:8080/"
        },
        "id": "GfBcVFrSOX0p",
        "outputId": "4fde3551-00ad-4bcc-a58d-b07c280e15f2"
      },
      "execution_count": 80,
      "outputs": [
        {
          "output_type": "stream",
          "name": "stdout",
          "text": [
            "root\n",
            " |-- original_text: string (nullable = true)\n",
            " |-- label: string (nullable = true)\n",
            "\n"
          ]
        }
      ]
    },
    {
      "cell_type": "code",
      "source": [
        "spark.sql('SELECT * FROM wiki LIMIT 5;').show(5, 0)"
      ],
      "metadata": {
        "colab": {
          "base_uri": "https://localhost:8080/"
        },
        "id": "AH1BuZWhRtFm",
        "outputId": "df45cfb2-b6a1-4468-c42a-9fb9a2a9c40e"
      },
      "execution_count": 81,
      "outputs": [
        {
          "output_type": "stream",
          "name": "stdout",
          "text": [
            "+--------------------------------------------------------------------------------------------------------------------------------------------------------------------------------------------------------------------------------------------------------+-----+\n",
            "|original_text                                                                                                                                                                                                                                           |label|\n",
            "+--------------------------------------------------------------------------------------------------------------------------------------------------------------------------------------------------------------------------------------------------------+-----+\n",
            "|There is manuscript evidence that Austen continued to work on these pieces as late as the period 1809 â '' 11 , and that her niece and nephew , Anna and James Edward Austen , made further additions as late as 1814 .                                 |1    |\n",
            "|In a remarkable comparative analysis , Mandaean scholar Säve-Söderberg demonstrated that Mani 's Psalms of Thomas were closely related to Mandaean texts .                                                                                              |1    |\n",
            "|Before Persephone was released to Hermes , who had been sent to retrieve her , Hades tricked her into eating pomegranate seeds , -LRB- six or three according to the telling -RRB- which forced her to return to the underworld for a period each year .|1    |\n",
            "|Cogeneration plants are commonly found in district heating systems of cities , hospitals , prisons , oil refineries , paper mills , wastewater treatment plants , thermal enhanced oil recovery wells and industrial plants with large heating needs .  |1    |\n",
            "|Geneva -LRB- , ; , ; , ; ; -RRB- is the second-most-populous city in Switzerland -LRB- after Zürich -RRB- and is the most populous city of Romandie -LRB- the French-speaking part of Switzerland -RRB- .                                               |1    |\n",
            "+--------------------------------------------------------------------------------------------------------------------------------------------------------------------------------------------------------------------------------------------------------+-----+\n",
            "\n"
          ]
        }
      ]
    },
    {
      "cell_type": "code",
      "source": [
        "import re\n",
        "import contractions\n",
        "from pyspark.sql.functions import regexp_replace\n",
        "\n",
        "\n",
        "\n",
        "regex1, replace1 = r'-LRB-', '('\n",
        "regex2, replace2 = r'-RRB-', ')'\n",
        "regex3, replace3 = r\"\\'\\' *\", ''\n",
        "regex4, replace4 = r\", ; *\", ''\n",
        "regex5, replace5 = r\"; , *\", ''\n",
        "regex6, replace6 = r\", , *\", ''\n",
        "regex7, replace7 = r\"; ; *\", ''\n",
        "regex8, replace8 = r\"[(] [;,-]* [)] \", ''\n",
        "regex9, replace9 = r\"[(] +[)] *\", ''\n",
        "regex10, replace10 = r\" km \", \"kilometers\"\n",
        "regex11, replace11 = r\"[0-9]+(km) \", \"kilometers\"\n",
        "regex12, replace12 = r\" mph \",\" miles per hour \"\n",
        "regex13, replace13 = r\"° C \",\"degrees Celsius\"\n",
        "regex14, replace14 = r\"° F \",\"degrees Farenheit\"\n",
        "regex15, replace15 = r\"°\",\"degrees\"\n",
        "regex16, replace16 = r\" %\",\" percent\"\n",
        "regex17, replace17 = r\" cm\",\" centimeters\"\n",
        "regex18, replace18 = r\" kg \",\" kilograms \"\n",
        "regex18, replace18 = r\" m \",\" kilograms \"\n",
        "regex19, replace19 = r\" \\'ve\",r\"\\'ve\"\n",
        "regex20, replace20 = r\" n\\'t\",r\"n\\'t\"\n",
        "regex21, replace21 = r\"(?<=[ -])-\",\"\"\n",
        "\n",
        "iterable = ((regex1, replace1), (regex2, replace2), (regex3, replace3),\n",
        "            (regex4, replace4), (regex5, replace5), (regex6, replace6),\n",
        "            (regex7, replace7), (regex8, replace8), (regex9, replace9),\n",
        "            (regex10,replace10), (regex11,replace11),(regex12, replace12),\n",
        "            (regex13, replace13),(regex14,replace14),(regex15,replace15),\n",
        "            (regex16,replace16), (regex17,replace17),(regex18,replace18),\n",
        "            (regex19,replace19),(regex20,replace20),(regex21,replace21))\n",
        "\n",
        "\n",
        "# def CleanText(col):\n",
        "#   for regex, replace in iterable:\n",
        "#     x = regexp_replace(col, regex, replace)\n",
        "#     x = contractions.fix(x)\n",
        "#   return x\n",
        "\n",
        "\n",
        "# clean_text_udf_string = udf(lambda x: CleanText(x),StringType())              \n",
        "# spark.udf.register('clean_text_udf_string',CleanText)\n",
        "\n",
        "\n",
        "\n",
        "for regex, replace in iterable:\n",
        "  query = f\"SELECT \\\n",
        "    regexp_replace(original_text, '{regex}', '{replace}') as original_text, \\\n",
        "    label FROM wiki;\"\n",
        "\n",
        "# query = \"\"\"\n",
        "#           SELECT clean_text_udf_string(original_text) as original_text,\n",
        "#           label FROM wiki\"\"\"\n",
        "\n",
        "\n",
        "df = spark.sql(query)\n",
        "df.createOrReplaceTempView('wiki')\n",
        "\n",
        "query = r\"SELECT * FROM wiki WHERE LENGTH(original_text) > 20;\"\n",
        "df = spark.sql(query)\n",
        "df.createOrReplaceTempView('wiki')\n",
        "\n",
        "df.show(5, 0)"
      ],
      "metadata": {
        "colab": {
          "base_uri": "https://localhost:8080/"
        },
        "id": "kbNn5uznT5Zv",
        "outputId": "7f4e4c11-5d49-43fc-9cbe-abaca6041000"
      },
      "execution_count": 99,
      "outputs": [
        {
          "output_type": "stream",
          "name": "stdout",
          "text": [
            "+------------------------------------------------------------------------------------------------------------------------------------------------------------------------------------------------------------------------------------------------------+-----+\n",
            "|original_text                                                                                                                                                                                                                                         |label|\n",
            "+------------------------------------------------------------------------------------------------------------------------------------------------------------------------------------------------------------------------------------------------------+-----+\n",
            "|There is manuscript evidence that Austen continued to work on these pieces as late as the period 1809 â '' 11 , and that her niece and nephew , Anna and James Edward Austen , made further additions as late as 1814 .                               |1    |\n",
            "|In a remarkable comparative analysis , Mandaean scholar Säve-Söderberg demonstrated that Mani 's Psalms of Thomas were closely related to Mandaean texts .                                                                                            |1    |\n",
            "|Before Persephone was released to Hermes , who had been sent to retrieve her , Hades tricked her into eating pomegranate seeds , LRB- six or three according to the telling RRB- which forced her to return to the underworld for a period each year .|1    |\n",
            "|Cogeneration plants are commonly found in district heating systems of cities , hospitals , prisons , oil refineries , paper mills , wastewater treatment plants , thermal enhanced oil recovery wells and industrial plants with large heating needs .|1    |\n",
            "|Geneva LRB- , ; , ; , ; ; RRB- is the second-most-populous city in Switzerland LRB- after Zürich RRB- and is the most populous city of Romandie LRB- the French-speaking part of Switzerland RRB- .                                                   |1    |\n",
            "+------------------------------------------------------------------------------------------------------------------------------------------------------------------------------------------------------------------------------------------------------+-----+\n",
            "only showing top 5 rows\n",
            "\n"
          ]
        }
      ]
    },
    {
      "cell_type": "code",
      "source": [
        "df = df.toPandas()"
      ],
      "metadata": {
        "id": "gQA0L8HX25t0"
      },
      "execution_count": 100,
      "outputs": []
    },
    {
      "cell_type": "code",
      "source": [
        "RANDOM_STATE = 65"
      ],
      "metadata": {
        "id": "RjXMceVd4Y0M"
      },
      "execution_count": 101,
      "outputs": []
    },
    {
      "cell_type": "code",
      "source": [
        "import pandas as pd\n",
        "import numpy as np\n",
        "from sklearn.feature_extraction.text import TfidfVectorizer\n",
        "\n",
        "vectorizer = TfidfVectorizer(min_df=50, stop_words='english', ngram_range=(1, 3))\n",
        "X_vectorized = vectorizer.fit_transform(df['original_text'])\n",
        "y = df['label'].astype(np.int64)"
      ],
      "metadata": {
        "id": "mA3OQJxqtbnB"
      },
      "execution_count": 102,
      "outputs": []
    },
    {
      "cell_type": "code",
      "source": [
        "from sklearn.model_selection import train_test_split\n",
        "\n",
        "X_train, X_test, y_train, y_test = train_test_split(X_vectorized, y, \n",
        "                                                    test_size=.1, \n",
        "                                                    stratify=y, \n",
        "                                                    random_state=RANDOM_STATE)\n",
        "\n",
        "print(X_train.shape, X_test.shape, y_train.shape, y_test.shape)"
      ],
      "metadata": {
        "colab": {
          "base_uri": "https://localhost:8080/"
        },
        "id": "ofWQpReH3XHX",
        "outputId": "de05095c-0131-4c33-fd6c-bde817f038b5"
      },
      "execution_count": 103,
      "outputs": [
        {
          "output_type": "stream",
          "name": "stdout",
          "text": [
            "(356343, 15013) (39594, 15013) (356343,) (39594,)\n"
          ]
        }
      ]
    },
    {
      "cell_type": "code",
      "source": [
        "# Classes are still adequately balanced\n",
        "y_train.value_counts()"
      ],
      "metadata": {
        "colab": {
          "base_uri": "https://localhost:8080/"
        },
        "id": "P8BMSyhe_oC3",
        "outputId": "4ce6dedb-e36c-4528-bd5b-114b08669104"
      },
      "execution_count": 96,
      "outputs": [
        {
          "output_type": "execute_result",
          "data": {
            "text/plain": [
              "1    184830\n",
              "0    171624\n",
              "Name: label, dtype: int64"
            ]
          },
          "metadata": {},
          "execution_count": 96
        }
      ]
    },
    {
      "cell_type": "code",
      "source": [
        "from sklearn.linear_model import LogisticRegression\n",
        "# Modifying sklearn Logistic Regression model\n",
        "# to incorporate l1 penalty to create sparse features\n",
        "clf = LogisticRegression(penalty='l1', \n",
        "                           solver='liblinear', \n",
        "                           C=.5, \n",
        "                           random_state=RANDOM_STATE).fit(X_train, y_train)"
      ],
      "metadata": {
        "id": "v_KOGTjS36DP"
      },
      "execution_count": 104,
      "outputs": []
    },
    {
      "cell_type": "code",
      "source": [
        "from sklearn.metrics import roc_auc_score, f1_score, precision_score, recall_score, confusion_matrix, ConfusionMatrixDisplay\n",
        "import matplotlib.pyplot as plt\n",
        "\n",
        "y_hat = clf.predict(X_test)\n",
        "y_prob = clf.predict_proba(X_test)[:, 1]\n",
        "\n",
        "\n",
        "roc_auc = roc_auc_score(y_test, y_prob)\n",
        "# This is without threshold tuning\n",
        "# We could tune the threshold to achieve greater classification accuracy\n",
        "accuracy = clf.score(X_test, y_test)\n",
        "f1 = f1_score(y_test, y_hat)\n",
        "precision = precision_score(y_test, y_hat)\n",
        "recall = recall_score(y_test, y_hat)\n",
        "\n",
        "print('Accuracy: ', accuracy)\n",
        "print('ROC AUC: ', roc_auc)\n",
        "print('F1: ', f1)\n",
        "print('Precision: ', precision)\n",
        "print('Recall: ', recall)\n",
        "\n",
        "cm = confusion_matrix(y_test, y_hat)\n",
        "disp = ConfusionMatrixDisplay(confusion_matrix=cm,\n",
        "                               display_labels=clf.classes_)\n",
        "disp.plot()\n",
        "plt.show()"
      ],
      "metadata": {
        "colab": {
          "base_uri": "https://localhost:8080/",
          "height": 368
        },
        "id": "iz-H-MBS4wAu",
        "outputId": "9e316b6d-a771-4e9e-bb65-7bc34086f919"
      },
      "execution_count": 105,
      "outputs": [
        {
          "output_type": "stream",
          "name": "stdout",
          "text": [
            "Accuracy:  0.6759357478405819\n",
            "ROC AUC:  0.7465547057775648\n",
            "F1:  0.6859995595037075\n",
            "Precision:  0.6894584091691672\n",
            "Recall:  0.6825752410636018\n"
          ]
        },
        {
          "output_type": "display_data",
          "data": {
            "text/plain": [
              "<Figure size 432x288 with 2 Axes>"
            ],
            "image/png": "[encoded data removed]"
          },
          "metadata": {
            "needs_background": "light"
          }
        }
      ]
    },
    {
      "cell_type": "code",
      "source": [
        "from sklearn.metrics import roc_curve, RocCurveDisplay\n",
        "\n",
        "fpr, tpr, _ = roc_curve(y_test, y_prob)\n",
        "noskill = np.arange(0, 1, 0.01)\n",
        "\n",
        "fig = plt.figure(figsize=(6, 6))\n",
        "ax = plt.gca()\n",
        "\n",
        "ax.plot(fpr, tpr, label=f'LR w/L1 Penalty (ROC AUC {roc_auc:.2f})')\n",
        "ax.plot(noskill, noskill, linestyle='dashed')\n",
        "ax.legend()\n",
        "ax.set_xlim((0, 1))\n",
        "ax.set_ylim((0, 1))\n",
        "ax.spines['right'].set_visible(False)\n",
        "ax.spines['top'].set_visible(False)\n",
        "\n",
        "fig.tight_layout()\n",
        "fig.show()"
      ],
      "metadata": {
        "colab": {
          "base_uri": "https://localhost:8080/",
          "height": 441
        },
        "id": "9WS2RxhyBXyU",
        "outputId": "9c14a10b-6c0e-4ae6-fe04-9196148278ff"
      },
      "execution_count": 15,
      "outputs": [
        {
          "output_type": "display_data",
          "data": {
            "text/plain": [
              "<Figure size 432x432 with 1 Axes>"
            ],
            "image/png": "[encoded data removed]"
          },
          "metadata": {
            "needs_background": "light"
          }
        }
      ]
    },
    {
      "cell_type": "code",
      "source": [
        "\n",
        "coef_df = (pd.DataFrame({'feature':vectorizer.get_feature_names_out(), \n",
        "              'coef':clf.coef_[0],\n",
        "              'abs_coef':np.abs(clf.coef_)[0]})\n",
        ".sort_values('abs_coef', ascending=False))\n",
        "\n",
        "print('Total Features', X_train.shape[1])\n",
        "print('N Coefficients GT zero:', coef_df[coef_df.abs_coef > 0].shape[0])\n",
        "print('Ratio of Coefficients GT zero:', coef_df[coef_df.abs_coef > 0].shape[0]/X_train.shape[1])"
      ],
      "metadata": {
        "colab": {
          "base_uri": "https://localhost:8080/"
        },
        "id": "sghOqrBe76Jh",
        "outputId": "92bbb12b-38b0-4a22-e811-fb44ab6e259f"
      },
      "execution_count": null,
      "outputs": [
        {
          "output_type": "stream",
          "name": "stdout",
          "text": [
            "Total Features 14060\n",
            "N Coefficients GT zero: 6370\n",
            "Ratio of Coefficients GT zero: 0.45305832147937414\n"
          ]
        }
      ]
    },
    {
      "cell_type": "code",
      "source": [
        "def plot_feature_importances(coef_df, n_features=50):\n",
        "  plot_df = coef_df.head(n_features).sort_values('coef')\n",
        "\n",
        "  x = plot_df['coef']\n",
        "  y = plot_df['feature']\n",
        "\n",
        "  plt.figure(figsize=(6, 13))\n",
        "  plt.barh(y, x)\n",
        "\n",
        "  plt.gca().spines['top'].set_visible(False)\n",
        "  plt.gca().spines['right'].set_visible(False)\n",
        "  plt.ylim((-1, max(range(len(y)))+1))\n",
        "\n",
        "  plt.show()\n",
        "\n",
        "plot_feature_importances(coef_df)\n"
      ],
      "metadata": {
        "colab": {
          "base_uri": "https://localhost:8080/",
          "height": 755
        },
        "id": "5qqygTRR9Akq",
        "outputId": "b97c451b-e926-4eb4-c36d-2ccee4890458"
      },
      "execution_count": null,
      "outputs": [
        {
          "output_type": "display_data",
          "data": {
            "text/plain": [
              "<Figure size 432x936 with 1 Axes>"
            ],
            "image/png": "[encoded data removed]"
          },
          "metadata": {
            "needs_background": "light"
          }
        }
      ]
    },
    {
      "cell_type": "code",
      "source": [
        "# NaiveBayes Classifier Baseline\n",
        "from sklearn.naive_bayes import MultinomialNB\n",
        "from sklearn.feature_extraction.text import CountVectorizer"
      ],
      "metadata": {
        "id": "OZoYEteUtiQj"
      },
      "execution_count": 106,
      "outputs": []
    },
    {
      "cell_type": "code",
      "source": [
        "mnb = MultinomialNB().fit(X_train,y_train)"
      ],
      "metadata": {
        "id": "P_HLzBpbt-RL"
      },
      "execution_count": 107,
      "outputs": []
    },
    {
      "cell_type": "code",
      "source": [
        "# Quick check of accuracy on training data\n",
        "accuracy = mnb.score(X_train, y_train)\n",
        "print(accuracy)"
      ],
      "metadata": {
        "colab": {
          "base_uri": "https://localhost:8080/"
        },
        "id": "A5MOd3hMuJsy",
        "outputId": "30873f91-1355-4041-fd5b-5f5e1b4472aa"
      },
      "execution_count": 108,
      "outputs": [
        {
          "output_type": "stream",
          "name": "stdout",
          "text": [
            "0.6659987708471894\n"
          ]
        }
      ]
    },
    {
      "cell_type": "code",
      "source": [
        "y_predict = mnb.predict(X_test)\n",
        "accuracy = mnb.score(X_test, y_test)\n",
        "f1 = f1_score(y_test, y_predict)\n",
        "recall = recall_score(y_test, y_predict)\n",
        "precision = precision_score(y_test, y_predict)\n",
        "y_prob = mnb.predict_proba(X_test)[:, 1]\n",
        "roc_auc = roc_auc_score(y_test, y_prob)\n",
        "\n",
        "\n",
        "print('Accuracy: ', accuracy)\n",
        "print('ROC AUC: ', roc_auc)\n",
        "print('F1: ', f1)\n",
        "print('Precision: ', precision)\n",
        "print('Recall: ', recall)"
      ],
      "metadata": {
        "colab": {
          "base_uri": "https://localhost:8080/"
        },
        "id": "a8nvZqpIuS1G",
        "outputId": "92b79e28-7c69-4f50-bed4-a291eeb7fa45"
      },
      "execution_count": 109,
      "outputs": [
        {
          "output_type": "stream",
          "name": "stdout",
          "text": [
            "Accuracy:  0.6355255846845481\n",
            "ROC AUC:  0.7048730493412456\n",
            "F1:  0.6764132116510079\n",
            "Precision:  0.6268129493413124\n",
            "Recall:  0.7345378396805299\n"
          ]
        }
      ]
    },
    {
      "cell_type": "code",
      "source": [
        "cnt_vectorizer = CountVectorizer(min_df=50, stop_words='english', ngram_range=(1, 3))\n",
        "X_train_vec = cnt_vectorizer.fit_transform(df['original_text'])"
      ],
      "metadata": {
        "id": "7IzE_2Z3veyl"
      },
      "execution_count": 112,
      "outputs": []
    },
    {
      "cell_type": "code",
      "source": [],
      "metadata": {
        "id": "FIT6atIae_Sw"
      },
      "execution_count": null,
      "outputs": []
    }
  ]
}