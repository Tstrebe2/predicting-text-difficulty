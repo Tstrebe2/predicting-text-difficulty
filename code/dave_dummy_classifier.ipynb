{
  "nbformat": 4,
  "nbformat_minor": 0,
  "metadata": {
    "colab": {
      "provenance": [],
      "collapsed_sections": [],
      "authorship_tag": "ABX9TyNOrTEUVWcghyEAAZyUvqrY",
      "include_colab_link": true
    },
    "kernelspec": {
      "name": "python3",
      "display_name": "Python 3"
    },
    "language_info": {
      "name": "python"
    }
  },
  "cells": [
    {
      "cell_type": "markdown",
      "metadata": {
        "id": "view-in-github",
        "colab_type": "text"
      },
      "source": [
        "<a href=\"https://colab.research.google.com/github/Tstrebe2/predicting-text-difficulty/blob/dave-updates/code/dave_dummy_classifier.ipynb\" target=\"_parent\"><img src=\"https://colab.research.google.com/assets/colab-badge.svg\" alt=\"Open In Colab\"/></a>"
      ]
    },
    {
      "cell_type": "code",
      "execution_count": 1,
      "metadata": {
        "id": "Ru6jXshMfhPz"
      },
      "outputs": [],
      "source": [
        "import pandas as pd"
      ]
    },
    {
      "cell_type": "code",
      "source": [
        "from google.colab import drive\n",
        "drive.mount('/content/drive')"
      ],
      "metadata": {
        "colab": {
          "base_uri": "https://localhost:8080/"
        },
        "id": "qOe4T1jrfrRi",
        "outputId": "05538751-d4d3-44fc-e5bc-e2248e0a92c4"
      },
      "execution_count": 2,
      "outputs": [
        {
          "output_type": "stream",
          "name": "stdout",
          "text": [
            "Mounted at /content/drive\n"
          ]
        }
      ]
    },
    {
      "cell_type": "code",
      "source": [
        "train = pd.read_csv('drive/Shareddrives/Milestone 2/Training_set.csv', \n",
        "                      sep='\\t',index_col=0)\n",
        "\n",
        "train['lemmatized_text'] = train['lemmatized_text'].fillna('')\n",
        "train['lemmatized_text'] = train['lemmatized_text'].astype(str)\n",
        "\n",
        "\n",
        "\n",
        "\n",
        "test = pd.read_csv('drive/Shareddrives/Milestone 2/Testing_set.csv', sep='\\t',\n",
        "                     index_col=0)\n",
        "\n",
        "test['lemmatized_text'] = test['lemmatized_text'].fillna('')\n",
        "test['lemmatized_text'] = test['lemmatized_text'].astype(str)\n"
      ],
      "metadata": {
        "id": "c1zfSVg8ybmZ"
      },
      "execution_count": 3,
      "outputs": []
    },
    {
      "cell_type": "code",
      "source": [
        "sample_df = train.groupby('label').apply(lambda x: x.sample(20000, random_state=99))\n",
        "sample_df.label.value_counts()\n",
        "\n",
        "X_train_samp = sample_df[sample_df.columns[:-1]]\n",
        "y_train_samp = sample_df.label.values"
      ],
      "metadata": {
        "id": "N5EvHSDF9UKh"
      },
      "execution_count": 20,
      "outputs": []
    },
    {
      "cell_type": "code",
      "source": [
        "metrics_df = {\"model_name\":[],\n",
        "              \"model_instance\":[],\n",
        "              \"train_accuracy\": [],\n",
        "              \"train_precision\": [],\n",
        "              \"train_recall\": [],\n",
        "              \"train_f1\": [],\n",
        "              \"train_aucprc\":[],\n",
        "              \"train_aucroc\": [],\n",
        "              \"test_accuracy\":[],\n",
        "              \"test_precision\":[],\n",
        "              \"test_f1\": [],\n",
        "              \"test_recall\":[],\n",
        "              \"test_aucprc\":[],\n",
        "              \"test_aucroc\": []\n",
        "              }"
      ],
      "metadata": {
        "id": "he_GFBweIVTp"
      },
      "execution_count": 43,
      "outputs": []
    },
    {
      "cell_type": "code",
      "source": [
        "from sklearn. metrics import precision_score, recall_score, precision_recall_curve, roc_auc_score, auc, accuracy_score,f1_score, confusion_matrix"
      ],
      "metadata": {
        "id": "NJOAPORP-FEP"
      },
      "execution_count": 42,
      "outputs": []
    },
    {
      "cell_type": "code",
      "source": [
        "def compute_metrics(model,model_name,X_train_data,y_train_data, X_test_data, y_test_data):\n",
        "    # extract the model's hyperparameters and make that part of the identifier for the model \n",
        "\n",
        "    metrics_df['model_name'].append(model_name)\n",
        "    metrics_df['model_instance'].append(model)\n",
        "   \n",
        "    # run train data\n",
        "    y_pred_train = model.predict(X_train_data)\n",
        "    acc = accuracy_score(y_train_data, y_pred_train)\n",
        "    recall = recall_score(y_train_data,y_pred_train)\n",
        "    precision = precision_score(y_train_data, y_pred_train)\n",
        "    f1 = f1_score(y_train_data,y_pred_train)\n",
        "    y_proba_train = model.predict_proba(X_train_data)[:,1]\n",
        "    prc,rec,thres = precision_recall_curve(y_train_data, y_proba_train)\n",
        "    auc_prc = auc(rec,prc)\n",
        "    roc = roc_auc_score(y_train_data, y_proba_train)\n",
        "   \n",
        "   \n",
        "    metrics_df['train_accuracy'].append(acc)\n",
        "    metrics_df['train_recall'].append(recall)\n",
        "    metrics_df['train_precision'].append(precision)\n",
        "    metrics_df['train_f1'].append(f1)\n",
        "    metrics_df['train_aucprc'].append(auc_prc)\n",
        "    metrics_df['train_aucroc'].append(roc)\n",
        "\n",
        "\n",
        "    #run test data\n",
        "    y_pred = model.predict(X_test_data)\n",
        "    acc = accuracy_score(y_test_data, y_pred)\n",
        "    recall = recall_score(y_test_data,y_pred)\n",
        "    precision = precision_score(y_test_data, y_pred)\n",
        "    f1 = f1_score(y_test_data,y_pred)\n",
        "    y_proba = model.predict_proba(X_test_data)[:,1]\n",
        "    prc,rec,thres = precision_recall_curve(y_test_data, y_proba)\n",
        "    auc_prc = auc(rec,prc)\n",
        "    roc = roc_auc_score(y_test_data, y_proba)\n",
        "\n",
        "    metrics_df['test_accuracy'].append(acc)\n",
        "    metrics_df['test_recall'].append(recall)\n",
        "    metrics_df['test_precision'].append(precision)\n",
        "    metrics_df['test_f1'].append(f1)\n",
        "    metrics_df['test_aucprc'].append(auc_prc)\n",
        "    metrics_df['test_aucroc'].append(roc)\n",
        "\n",
        "\n",
        "    cm = confusion_matrix(y_test_data, y_pred)\n",
        "    return cm"
      ],
      "metadata": {
        "id": "p4bRROwoIa0R"
      },
      "execution_count": 4,
      "outputs": []
    },
    {
      "cell_type": "code",
      "source": [
        "# Note that the final model is based on the Mads + tfidf model."
      ],
      "metadata": {
        "id": "xwiBWi76-pK9"
      },
      "execution_count": 62,
      "outputs": []
    },
    {
      "cell_type": "markdown",
      "source": [
        "### **Dummy Classifier with Tfidf Vectorizer**"
      ],
      "metadata": {
        "id": "WJFzAfl-PJbA"
      }
    },
    {
      "cell_type": "code",
      "source": [
        "from sklearn.model_selection import GridSearchCV\n",
        "from sklearn.dummy import DummyClassifier\n",
        "from sklearn.feature_extraction.text import TfidfVectorizer\n",
        "from sklearn.pipeline import Pipeline\n",
        "from sklearn.model_selection import train_test_split"
      ],
      "metadata": {
        "id": "qwyszJP3fv9N"
      },
      "execution_count": 36,
      "outputs": []
    },
    {
      "cell_type": "code",
      "source": [
        "pipeline = Pipeline([('tfidf', TfidfVectorizer()),\n",
        "                     ('clf', DummyClassifier())\n",
        "                    ])\n",
        "\n",
        "parameters = {\n",
        "    'tfidf__min_df': [25,30],\n",
        "    'tfidf__stop_words': ['english'],\n",
        "    'tfidf__ngram_range': [(1, 2)],\n",
        "    'clf__strategy': ['most_frequent', 'prior', 'stratified', 'uniform']\n",
        "}"
      ],
      "metadata": {
        "id": "8K8s7JNakej3"
      },
      "execution_count": null,
      "outputs": []
    },
    {
      "cell_type": "code",
      "source": [
        "# X_train_vec = tf_vec.fit_transform(X_train['lemmatized_text'])"
      ],
      "metadata": {
        "id": "J6Uznh5UgwHR"
      },
      "execution_count": null,
      "outputs": []
    },
    {
      "cell_type": "code",
      "source": [
        "from sklearn.model_selection import GridSearchCV\n"
      ],
      "metadata": {
        "id": "cwuUoN2s0kC6"
      },
      "execution_count": null,
      "outputs": []
    },
    {
      "cell_type": "code",
      "source": [
        "grid_dc_f1 = GridSearchCV(pipeline,\n",
        "                           param_grid=parameters,\n",
        "                           scoring='f1',\n",
        "                           n_jobs=-1,\n",
        "                           cv=3)\n",
        "grid_dc_f1.fit(X_train['lemmatized_text'],y_train)"
      ],
      "metadata": {
        "colab": {
          "base_uri": "https://localhost:8080/"
        },
        "id": "8MRCXCEx0vpa",
        "outputId": "e2d04759-ad8a-4c5e-a818-6e3b9acefce0"
      },
      "execution_count": null,
      "outputs": [
        {
          "output_type": "execute_result",
          "data": {
            "text/plain": [
              "GridSearchCV(cv=3,\n",
              "             estimator=Pipeline(steps=[('tfidf', TfidfVectorizer()),\n",
              "                                       ('clf', DummyClassifier())]),\n",
              "             n_jobs=-1,\n",
              "             param_grid={'clf__strategy': ['most_frequent', 'prior',\n",
              "                                           'stratified', 'uniform'],\n",
              "                         'tfidf__min_df': [25, 30],\n",
              "                         'tfidf__ngram_range': [(1, 2)],\n",
              "                         'tfidf__stop_words': ['english']},\n",
              "             scoring='f1')"
            ]
          },
          "metadata": {},
          "execution_count": 30
        }
      ]
    },
    {
      "cell_type": "code",
      "source": [
        "grid_dc_f1.best_params_"
      ],
      "metadata": {
        "colab": {
          "base_uri": "https://localhost:8080/"
        },
        "id": "SzHhSDL_A7WA",
        "outputId": "47adebe2-dee4-4e8e-cbd2-8910d76a71cd"
      },
      "execution_count": null,
      "outputs": [
        {
          "output_type": "execute_result",
          "data": {
            "text/plain": [
              "{'clf__strategy': 'most_frequent',\n",
              " 'tfidf__min_df': 25,\n",
              " 'tfidf__ngram_range': (1, 2),\n",
              " 'tfidf__stop_words': 'english'}"
            ]
          },
          "metadata": {},
          "execution_count": 33
        }
      ]
    },
    {
      "cell_type": "code",
      "source": [
        "model_name = 'Tf-idf DC most_freq min_df 25'\n",
        "\n",
        "compute_metrics(grid_dc_f1.best_estimator_,model_name,\n",
        "                X_train['lemmatized_text'],\n",
        "                y_train,X_test['lemmatized_text'], y_test)\n",
        "\n"
      ],
      "metadata": {
        "id": "iqc6arElDwpF"
      },
      "execution_count": null,
      "outputs": []
    },
    {
      "cell_type": "code",
      "source": [
        "metrics_df"
      ],
      "metadata": {
        "colab": {
          "base_uri": "https://localhost:8080/"
        },
        "id": "J2Wuv-0FHgAc",
        "outputId": "21b7ec04-c039-4680-d488-73cb96dad1f2"
      },
      "execution_count": null,
      "outputs": [
        {
          "output_type": "execute_result",
          "data": {
            "text/plain": [
              "{'model_name': ['Tf-idf DC most_freq min_df 25'],\n",
              " 'model_instance': [Pipeline(steps=[('tfidf',\n",
              "                   TfidfVectorizer(min_df=25, ngram_range=(1, 2),\n",
              "                                   stop_words='english')),\n",
              "                  ('clf', DummyClassifier(strategy='most_frequent'))])],\n",
              " 'train_accuracy': [0.5189033099771687],\n",
              " 'train_precision': [0.5189033099771687],\n",
              " 'train_recall': [1.0],\n",
              " 'train_aucprc': [0.7594516549885844],\n",
              " 'train_aucroc': [0.5],\n",
              " 'test_accuracy': [0.518915909608523],\n",
              " 'test_precision': [0.518915909608523],\n",
              " 'test_recall': [1.0],\n",
              " 'test_aucprc': [0.7594579548042615],\n",
              " 'test_aucroc': [0.5]}"
            ]
          },
          "metadata": {},
          "execution_count": 36
        }
      ]
    },
    {
      "cell_type": "code",
      "source": [],
      "metadata": {
        "id": "EBO0y34RuzHq"
      },
      "execution_count": null,
      "outputs": []
    },
    {
      "cell_type": "markdown",
      "source": [
        "# Mads Features"
      ],
      "metadata": {
        "id": "1nY-B5AA-ZYI"
      }
    },
    {
      "cell_type": "code",
      "source": [
        "from sklearn.preprocessing import StandardScaler\n",
        "from sklearn.impute import SimpleImputer"
      ],
      "metadata": {
        "id": "B_udHQZbzv95"
      },
      "execution_count": null,
      "outputs": []
    },
    {
      "cell_type": "code",
      "source": [
        "cols = ['d_chall_score','aoa_mean','aoa_min','aoa_max','conc_rating_mean','conc_rating_min', 'conc_rating_max','num_lemmas']\n",
        "X_features = ['lemmatized_text'] + cols"
      ],
      "metadata": {
        "id": "kPrEuGsuuym9"
      },
      "execution_count": 51,
      "outputs": []
    },
    {
      "cell_type": "code",
      "source": [
        "mads_pipeline = Pipeline([('imputer', SimpleImputer(strategy='mean')),\n",
        "                          ('scaler', StandardScaler()),\n",
        "                          ('clf', DummyClassifier())\n",
        "                         ])\n",
        "\n",
        "parameters = {\n",
        "    'clf__strategy': ['most_frequent', 'prior', 'stratified', 'uniform']\n",
        "}"
      ],
      "metadata": {
        "id": "M8mVLvzEz5ez"
      },
      "execution_count": null,
      "outputs": []
    },
    {
      "cell_type": "code",
      "source": [
        "grid_dc_mads_f1 = (GridSearchCV(mads_pipeline,\n",
        "                                  param_grid=parameters,\n",
        "                                  scoring='f1',\n",
        "                                  n_jobs=-1, \n",
        "                                  cv=3).fit(X_train_mads_features,y_train))"
      ],
      "metadata": {
        "id": "BiAcyZmOv1DS"
      },
      "execution_count": null,
      "outputs": []
    },
    {
      "cell_type": "code",
      "source": [
        "grid_dc_mads_f1.best_estimator_"
      ],
      "metadata": {
        "colab": {
          "base_uri": "https://localhost:8080/"
        },
        "id": "_StibTzcxlz2",
        "outputId": "57fc4e26-c739-4efd-f14c-33bd9f21dc60"
      },
      "execution_count": null,
      "outputs": [
        {
          "output_type": "execute_result",
          "data": {
            "text/plain": [
              "Pipeline(steps=[('imputer', SimpleImputer()), ('scaler', StandardScaler()),\n",
              "                ('clf', DummyClassifier(strategy='most_frequent'))])"
            ]
          },
          "metadata": {},
          "execution_count": 44
        }
      ]
    },
    {
      "cell_type": "code",
      "source": [
        "model_name = 'MADS DC most_freq stdsclr'\n",
        "compute_metrics(grid_dc_mads_f1.best_estimator_,\n",
        "                model_name,\n",
        "                X_train_mads_features,\n",
        "                y_train,\n",
        "                X_test_mads_features,\n",
        "                y_test)\n"
      ],
      "metadata": {
        "id": "lATg3ZS4xvzg"
      },
      "execution_count": null,
      "outputs": []
    },
    {
      "cell_type": "markdown",
      "source": [
        "# tfidf + Mads Features"
      ],
      "metadata": {
        "id": "tOTpaBGJ_XIX"
      }
    },
    {
      "cell_type": "code",
      "source": [
        "import scipy\n",
        "from scipy.sparse import hstack\n",
        "import numpy as np\n",
        "from sklearn.pipeline import Pipeline\n",
        "from sklearn.pipeline import FeatureUnion\n",
        "from sklearn.compose import ColumnTransformer\n",
        "from sklearn.preprocessing import FunctionTransformer\n",
        "from sklearn.preprocessing import KBinsDiscretizer\n",
        "from sklearn.preprocessing import StandardScaler\n",
        "from sklearn.model_selection import StratifiedKFold\n",
        "from sklearn.impute import SimpleImputer"
      ],
      "metadata": {
        "id": "a-BxG7AupD7h"
      },
      "execution_count": 27,
      "outputs": []
    },
    {
      "cell_type": "code",
      "source": [
        "vectorizer = Pipeline([\n",
        "              ('tfidf', TfidfVectorizer(min_df=25,\n",
        "                                        stop_words='english',\n",
        "                                        ngram_range=(1, 2)))\n",
        "              ])\n",
        "\n",
        "mads_pipe = Pipeline([\n",
        "              ('impute_mean',SimpleImputer(strategy='mean')),\n",
        "              ('scaler',StandardScaler()),\n",
        "              ('bin',KBinsDiscretizer(n_bins=4))\n",
        "              ])\n",
        "\n",
        "preprocessor = ColumnTransformer(transformers=[\n",
        "    ('mads',mads_pipe,cols),\n",
        "    ('text', vectorizer, 'lemmatized_text')\n",
        "    ])\n",
        "\n",
        "\n",
        "              \n",
        "pipeline = Pipeline([('preprocessor', preprocessor),\n",
        "                     ('clf', DummyClassifier())  # classifier\n",
        "                     ])"
      ],
      "metadata": {
        "id": "4KgfCw1Xp2wA"
      },
      "execution_count": 28,
      "outputs": []
    },
    {
      "cell_type": "code",
      "source": [
        "parameters = {\n",
        "    'clf__strategy': ['most_frequent', 'prior', 'stratified', 'uniform']\n",
        "}\n",
        "\n",
        "\n",
        "grid_dc_all_f1= GridSearchCV(pipeline,\n",
        "                              param_grid=parameters,\n",
        "                              scoring='f1',\n",
        "                              n_jobs=-1,\n",
        "                              return_train_score=True,\n",
        "                              cv=StratifiedKFold(n_splits=10)).fit(X_train_samp,y_train_samp)\n"
      ],
      "metadata": {
        "colab": {
          "base_uri": "https://localhost:8080/"
        },
        "id": "DjsSuwaxKi64",
        "outputId": "a59b9b7f-fdbe-4e79-d66d-f843c7089a30"
      },
      "execution_count": 29,
      "outputs": [
        {
          "output_type": "stream",
          "name": "stderr",
          "text": [
            "/usr/local/lib/python3.7/dist-packages/sklearn/preprocessing/_discretization.py:233: UserWarning: Bins whose width are too small (i.e., <= 1e-8) in feature 5 are removed. Consider decreasing the number of bins.\n",
            "  \"decreasing the number of bins.\" % jj\n"
          ]
        }
      ]
    },
    {
      "cell_type": "code",
      "source": [
        "grid_dc_all_f1.best_params_"
      ],
      "metadata": {
        "colab": {
          "base_uri": "https://localhost:8080/"
        },
        "id": "jzatdb_nnLJg",
        "outputId": "528b0624-3e44-4c6a-bf8a-aa2956a98ed3"
      },
      "execution_count": 30,
      "outputs": [
        {
          "output_type": "execute_result",
          "data": {
            "text/plain": [
              "{'clf__strategy': 'stratified'}"
            ]
          },
          "metadata": {},
          "execution_count": 30
        }
      ]
    },
    {
      "cell_type": "code",
      "source": [
        "pd.DataFrame(grid_dc_all_f1.cv_results_).T"
      ],
      "metadata": {
        "id": "YoIV2DA-0KLv",
        "outputId": "d21c9e07-cf58-4eed-dbd0-3bdf64b093df",
        "colab": {
          "base_uri": "https://localhost:8080/",
          "height": 1000
        }
      },
      "execution_count": 31,
      "outputs": [
        {
          "output_type": "execute_result",
          "data": {
            "text/plain": [
              "                                                      0  \\\n",
              "mean_fit_time                                  2.236877   \n",
              "std_fit_time                                   0.040834   \n",
              "mean_score_time                                0.171672   \n",
              "std_score_time                                 0.011635   \n",
              "param_clf__strategy                       most_frequent   \n",
              "params               {'clf__strategy': 'most_frequent'}   \n",
              "split0_test_score                                   0.0   \n",
              "split1_test_score                                   0.0   \n",
              "split2_test_score                                   0.0   \n",
              "split3_test_score                                   0.0   \n",
              "split4_test_score                                   0.0   \n",
              "split5_test_score                                   0.0   \n",
              "split6_test_score                                   0.0   \n",
              "split7_test_score                                   0.0   \n",
              "split8_test_score                                   0.0   \n",
              "split9_test_score                                   0.0   \n",
              "mean_test_score                                     0.0   \n",
              "std_test_score                                      0.0   \n",
              "rank_test_score                                       3   \n",
              "split0_train_score                                  0.0   \n",
              "split1_train_score                                  0.0   \n",
              "split2_train_score                                  0.0   \n",
              "split3_train_score                                  0.0   \n",
              "split4_train_score                                  0.0   \n",
              "split5_train_score                                  0.0   \n",
              "split6_train_score                                  0.0   \n",
              "split7_train_score                                  0.0   \n",
              "split8_train_score                                  0.0   \n",
              "split9_train_score                                  0.0   \n",
              "mean_train_score                                    0.0   \n",
              "std_train_score                                     0.0   \n",
              "\n",
              "                                              1  \\\n",
              "mean_fit_time                          2.215674   \n",
              "std_fit_time                           0.027306   \n",
              "mean_score_time                        0.170716   \n",
              "std_score_time                         0.013748   \n",
              "param_clf__strategy                       prior   \n",
              "params               {'clf__strategy': 'prior'}   \n",
              "split0_test_score                           0.0   \n",
              "split1_test_score                           0.0   \n",
              "split2_test_score                           0.0   \n",
              "split3_test_score                           0.0   \n",
              "split4_test_score                           0.0   \n",
              "split5_test_score                           0.0   \n",
              "split6_test_score                           0.0   \n",
              "split7_test_score                           0.0   \n",
              "split8_test_score                           0.0   \n",
              "split9_test_score                           0.0   \n",
              "mean_test_score                             0.0   \n",
              "std_test_score                              0.0   \n",
              "rank_test_score                               3   \n",
              "split0_train_score                          0.0   \n",
              "split1_train_score                          0.0   \n",
              "split2_train_score                          0.0   \n",
              "split3_train_score                          0.0   \n",
              "split4_train_score                          0.0   \n",
              "split5_train_score                          0.0   \n",
              "split6_train_score                          0.0   \n",
              "split7_train_score                          0.0   \n",
              "split8_train_score                          0.0   \n",
              "split9_train_score                          0.0   \n",
              "mean_train_score                            0.0   \n",
              "std_train_score                             0.0   \n",
              "\n",
              "                                                   2  \\\n",
              "mean_fit_time                               2.239489   \n",
              "std_fit_time                                0.030565   \n",
              "mean_score_time                             0.174466   \n",
              "std_score_time                              0.007816   \n",
              "param_clf__strategy                       stratified   \n",
              "params               {'clf__strategy': 'stratified'}   \n",
              "split0_test_score                           0.501366   \n",
              "split1_test_score                           0.504682   \n",
              "split2_test_score                           0.488216   \n",
              "split3_test_score                           0.521245   \n",
              "split4_test_score                           0.504265   \n",
              "split5_test_score                           0.503275   \n",
              "split6_test_score                           0.494934   \n",
              "split7_test_score                             0.5066   \n",
              "split8_test_score                           0.508331   \n",
              "split9_test_score                           0.509326   \n",
              "mean_test_score                             0.504224   \n",
              "std_test_score                              0.008307   \n",
              "rank_test_score                                    1   \n",
              "split0_train_score                          0.493127   \n",
              "split1_train_score                          0.498914   \n",
              "split2_train_score                          0.502301   \n",
              "split3_train_score                          0.505291   \n",
              "split4_train_score                          0.500747   \n",
              "split5_train_score                          0.498469   \n",
              "split6_train_score                          0.497932   \n",
              "split7_train_score                          0.498068   \n",
              "split8_train_score                          0.500501   \n",
              "split9_train_score                           0.49733   \n",
              "mean_train_score                            0.499268   \n",
              "std_train_score                             0.003076   \n",
              "\n",
              "                                                3  \n",
              "mean_fit_time                            2.224051  \n",
              "std_fit_time                             0.041389  \n",
              "mean_score_time                          0.180585  \n",
              "std_score_time                           0.009891  \n",
              "param_clf__strategy                       uniform  \n",
              "params               {'clf__strategy': 'uniform'}  \n",
              "split0_test_score                        0.493598  \n",
              "split1_test_score                        0.507589  \n",
              "split2_test_score                         0.50573  \n",
              "split3_test_score                         0.49737  \n",
              "split4_test_score                        0.509382  \n",
              "split5_test_score                        0.502367  \n",
              "split6_test_score                        0.472243  \n",
              "split7_test_score                        0.510724  \n",
              "split8_test_score                        0.488437  \n",
              "split9_test_score                         0.49331  \n",
              "mean_test_score                          0.498075  \n",
              "std_test_score                            0.01122  \n",
              "rank_test_score                                 2  \n",
              "split0_train_score                       0.495607  \n",
              "split1_train_score                       0.506098  \n",
              "split2_train_score                       0.498141  \n",
              "split3_train_score                       0.501596  \n",
              "split4_train_score                       0.502121  \n",
              "split5_train_score                       0.500347  \n",
              "split6_train_score                        0.50151  \n",
              "split7_train_score                       0.497948  \n",
              "split8_train_score                       0.500293  \n",
              "split9_train_score                       0.498512  \n",
              "mean_train_score                         0.500217  \n",
              "std_train_score                          0.002746  "
            ],
            "text/html": [
              "\n",
              "  <div id=\"df-477511da-6cc7-4785-9a1f-19c3d1d94ce7\">\n",
              "    <div class=\"colab-df-container\">\n",
              "      <div>\n",
              "<style scoped>\n",
              "    .dataframe tbody tr th:only-of-type {\n",
              "        vertical-align: middle;\n",
              "    }\n",
              "\n",
              "    .dataframe tbody tr th {\n",
              "        vertical-align: top;\n",
              "    }\n",
              "\n",
              "    .dataframe thead th {\n",
              "        text-align: right;\n",
              "    }\n",
              "</style>\n",
              "<table border=\"1\" class=\"dataframe\">\n",
              "  <thead>\n",
              "    <tr style=\"text-align: right;\">\n",
              "      <th></th>\n",
              "      <th>0</th>\n",
              "      <th>1</th>\n",
              "      <th>2</th>\n",
              "      <th>3</th>\n",
              "    </tr>\n",
              "  </thead>\n",
              "  <tbody>\n",
              "    <tr>\n",
              "      <th>mean_fit_time</th>\n",
              "      <td>2.236877</td>\n",
              "      <td>2.215674</td>\n",
              "      <td>2.239489</td>\n",
              "      <td>2.224051</td>\n",
              "    </tr>\n",
              "    <tr>\n",
              "      <th>std_fit_time</th>\n",
              "      <td>0.040834</td>\n",
              "      <td>0.027306</td>\n",
              "      <td>0.030565</td>\n",
              "      <td>0.041389</td>\n",
              "    </tr>\n",
              "    <tr>\n",
              "      <th>mean_score_time</th>\n",
              "      <td>0.171672</td>\n",
              "      <td>0.170716</td>\n",
              "      <td>0.174466</td>\n",
              "      <td>0.180585</td>\n",
              "    </tr>\n",
              "    <tr>\n",
              "      <th>std_score_time</th>\n",
              "      <td>0.011635</td>\n",
              "      <td>0.013748</td>\n",
              "      <td>0.007816</td>\n",
              "      <td>0.009891</td>\n",
              "    </tr>\n",
              "    <tr>\n",
              "      <th>param_clf__strategy</th>\n",
              "      <td>most_frequent</td>\n",
              "      <td>prior</td>\n",
              "      <td>stratified</td>\n",
              "      <td>uniform</td>\n",
              "    </tr>\n",
              "    <tr>\n",
              "      <th>params</th>\n",
              "      <td>{'clf__strategy': 'most_frequent'}</td>\n",
              "      <td>{'clf__strategy': 'prior'}</td>\n",
              "      <td>{'clf__strategy': 'stratified'}</td>\n",
              "      <td>{'clf__strategy': 'uniform'}</td>\n",
              "    </tr>\n",
              "    <tr>\n",
              "      <th>split0_test_score</th>\n",
              "      <td>0.0</td>\n",
              "      <td>0.0</td>\n",
              "      <td>0.501366</td>\n",
              "      <td>0.493598</td>\n",
              "    </tr>\n",
              "    <tr>\n",
              "      <th>split1_test_score</th>\n",
              "      <td>0.0</td>\n",
              "      <td>0.0</td>\n",
              "      <td>0.504682</td>\n",
              "      <td>0.507589</td>\n",
              "    </tr>\n",
              "    <tr>\n",
              "      <th>split2_test_score</th>\n",
              "      <td>0.0</td>\n",
              "      <td>0.0</td>\n",
              "      <td>0.488216</td>\n",
              "      <td>0.50573</td>\n",
              "    </tr>\n",
              "    <tr>\n",
              "      <th>split3_test_score</th>\n",
              "      <td>0.0</td>\n",
              "      <td>0.0</td>\n",
              "      <td>0.521245</td>\n",
              "      <td>0.49737</td>\n",
              "    </tr>\n",
              "    <tr>\n",
              "      <th>split4_test_score</th>\n",
              "      <td>0.0</td>\n",
              "      <td>0.0</td>\n",
              "      <td>0.504265</td>\n",
              "      <td>0.509382</td>\n",
              "    </tr>\n",
              "    <tr>\n",
              "      <th>split5_test_score</th>\n",
              "      <td>0.0</td>\n",
              "      <td>0.0</td>\n",
              "      <td>0.503275</td>\n",
              "      <td>0.502367</td>\n",
              "    </tr>\n",
              "    <tr>\n",
              "      <th>split6_test_score</th>\n",
              "      <td>0.0</td>\n",
              "      <td>0.0</td>\n",
              "      <td>0.494934</td>\n",
              "      <td>0.472243</td>\n",
              "    </tr>\n",
              "    <tr>\n",
              "      <th>split7_test_score</th>\n",
              "      <td>0.0</td>\n",
              "      <td>0.0</td>\n",
              "      <td>0.5066</td>\n",
              "      <td>0.510724</td>\n",
              "    </tr>\n",
              "    <tr>\n",
              "      <th>split8_test_score</th>\n",
              "      <td>0.0</td>\n",
              "      <td>0.0</td>\n",
              "      <td>0.508331</td>\n",
              "      <td>0.488437</td>\n",
              "    </tr>\n",
              "    <tr>\n",
              "      <th>split9_test_score</th>\n",
              "      <td>0.0</td>\n",
              "      <td>0.0</td>\n",
              "      <td>0.509326</td>\n",
              "      <td>0.49331</td>\n",
              "    </tr>\n",
              "    <tr>\n",
              "      <th>mean_test_score</th>\n",
              "      <td>0.0</td>\n",
              "      <td>0.0</td>\n",
              "      <td>0.504224</td>\n",
              "      <td>0.498075</td>\n",
              "    </tr>\n",
              "    <tr>\n",
              "      <th>std_test_score</th>\n",
              "      <td>0.0</td>\n",
              "      <td>0.0</td>\n",
              "      <td>0.008307</td>\n",
              "      <td>0.01122</td>\n",
              "    </tr>\n",
              "    <tr>\n",
              "      <th>rank_test_score</th>\n",
              "      <td>3</td>\n",
              "      <td>3</td>\n",
              "      <td>1</td>\n",
              "      <td>2</td>\n",
              "    </tr>\n",
              "    <tr>\n",
              "      <th>split0_train_score</th>\n",
              "      <td>0.0</td>\n",
              "      <td>0.0</td>\n",
              "      <td>0.493127</td>\n",
              "      <td>0.495607</td>\n",
              "    </tr>\n",
              "    <tr>\n",
              "      <th>split1_train_score</th>\n",
              "      <td>0.0</td>\n",
              "      <td>0.0</td>\n",
              "      <td>0.498914</td>\n",
              "      <td>0.506098</td>\n",
              "    </tr>\n",
              "    <tr>\n",
              "      <th>split2_train_score</th>\n",
              "      <td>0.0</td>\n",
              "      <td>0.0</td>\n",
              "      <td>0.502301</td>\n",
              "      <td>0.498141</td>\n",
              "    </tr>\n",
              "    <tr>\n",
              "      <th>split3_train_score</th>\n",
              "      <td>0.0</td>\n",
              "      <td>0.0</td>\n",
              "      <td>0.505291</td>\n",
              "      <td>0.501596</td>\n",
              "    </tr>\n",
              "    <tr>\n",
              "      <th>split4_train_score</th>\n",
              "      <td>0.0</td>\n",
              "      <td>0.0</td>\n",
              "      <td>0.500747</td>\n",
              "      <td>0.502121</td>\n",
              "    </tr>\n",
              "    <tr>\n",
              "      <th>split5_train_score</th>\n",
              "      <td>0.0</td>\n",
              "      <td>0.0</td>\n",
              "      <td>0.498469</td>\n",
              "      <td>0.500347</td>\n",
              "    </tr>\n",
              "    <tr>\n",
              "      <th>split6_train_score</th>\n",
              "      <td>0.0</td>\n",
              "      <td>0.0</td>\n",
              "      <td>0.497932</td>\n",
              "      <td>0.50151</td>\n",
              "    </tr>\n",
              "    <tr>\n",
              "      <th>split7_train_score</th>\n",
              "      <td>0.0</td>\n",
              "      <td>0.0</td>\n",
              "      <td>0.498068</td>\n",
              "      <td>0.497948</td>\n",
              "    </tr>\n",
              "    <tr>\n",
              "      <th>split8_train_score</th>\n",
              "      <td>0.0</td>\n",
              "      <td>0.0</td>\n",
              "      <td>0.500501</td>\n",
              "      <td>0.500293</td>\n",
              "    </tr>\n",
              "    <tr>\n",
              "      <th>split9_train_score</th>\n",
              "      <td>0.0</td>\n",
              "      <td>0.0</td>\n",
              "      <td>0.49733</td>\n",
              "      <td>0.498512</td>\n",
              "    </tr>\n",
              "    <tr>\n",
              "      <th>mean_train_score</th>\n",
              "      <td>0.0</td>\n",
              "      <td>0.0</td>\n",
              "      <td>0.499268</td>\n",
              "      <td>0.500217</td>\n",
              "    </tr>\n",
              "    <tr>\n",
              "      <th>std_train_score</th>\n",
              "      <td>0.0</td>\n",
              "      <td>0.0</td>\n",
              "      <td>0.003076</td>\n",
              "      <td>0.002746</td>\n",
              "    </tr>\n",
              "  </tbody>\n",
              "</table>\n",
              "</div>\n",
              "      <button class=\"colab-df-convert\" onclick=\"convertToInteractive('df-477511da-6cc7-4785-9a1f-19c3d1d94ce7')\"\n",
              "              title=\"Convert this dataframe to an interactive table.\"\n",
              "              style=\"display:none;\">\n",
              "        \n",
              "  <svg xmlns=\"http://www.w3.org/2000/svg\" height=\"24px\"viewBox=\"0 0 24 24\"\n",
              "       width=\"24px\">\n",
              "    <path d=\"M0 0h24v24H0V0z\" fill=\"none\"/>\n",
              "    <path d=\"M18.56 5.44l.94 2.06.94-2.06 2.06-.94-2.06-.94-.94-2.06-.94 2.06-2.06.94zm-11 1L8.5 8.5l.94-2.06 2.06-.94-2.06-.94L8.5 2.5l-.94 2.06-2.06.94zm10 10l.94 2.06.94-2.06 2.06-.94-2.06-.94-.94-2.06-.94 2.06-2.06.94z\"/><path d=\"M17.41 7.96l-1.37-1.37c-.4-.4-.92-.59-1.43-.59-.52 0-1.04.2-1.43.59L10.3 9.45l-7.72 7.72c-.78.78-.78 2.05 0 2.83L4 21.41c.39.39.9.59 1.41.59.51 0 1.02-.2 1.41-.59l7.78-7.78 2.81-2.81c.8-.78.8-2.07 0-2.86zM5.41 20L4 18.59l7.72-7.72 1.47 1.35L5.41 20z\"/>\n",
              "  </svg>\n",
              "      </button>\n",
              "      \n",
              "  <style>\n",
              "    .colab-df-container {\n",
              "      display:flex;\n",
              "      flex-wrap:wrap;\n",
              "      gap: 12px;\n",
              "    }\n",
              "\n",
              "    .colab-df-convert {\n",
              "      background-color: #E8F0FE;\n",
              "      border: none;\n",
              "      border-radius: 50%;\n",
              "      cursor: pointer;\n",
              "      display: none;\n",
              "      fill: #1967D2;\n",
              "      height: 32px;\n",
              "      padding: 0 0 0 0;\n",
              "      width: 32px;\n",
              "    }\n",
              "\n",
              "    .colab-df-convert:hover {\n",
              "      background-color: #E2EBFA;\n",
              "      box-shadow: 0px 1px 2px rgba(60, 64, 67, 0.3), 0px 1px 3px 1px rgba(60, 64, 67, 0.15);\n",
              "      fill: #174EA6;\n",
              "    }\n",
              "\n",
              "    [theme=dark] .colab-df-convert {\n",
              "      background-color: #3B4455;\n",
              "      fill: #D2E3FC;\n",
              "    }\n",
              "\n",
              "    [theme=dark] .colab-df-convert:hover {\n",
              "      background-color: #434B5C;\n",
              "      box-shadow: 0px 1px 3px 1px rgba(0, 0, 0, 0.15);\n",
              "      filter: drop-shadow(0px 1px 2px rgba(0, 0, 0, 0.3));\n",
              "      fill: #FFFFFF;\n",
              "    }\n",
              "  </style>\n",
              "\n",
              "      <script>\n",
              "        const buttonEl =\n",
              "          document.querySelector('#df-477511da-6cc7-4785-9a1f-19c3d1d94ce7 button.colab-df-convert');\n",
              "        buttonEl.style.display =\n",
              "          google.colab.kernel.accessAllowed ? 'block' : 'none';\n",
              "\n",
              "        async function convertToInteractive(key) {\n",
              "          const element = document.querySelector('#df-477511da-6cc7-4785-9a1f-19c3d1d94ce7');\n",
              "          const dataTable =\n",
              "            await google.colab.kernel.invokeFunction('convertToInteractive',\n",
              "                                                     [key], {});\n",
              "          if (!dataTable) return;\n",
              "\n",
              "          const docLinkHtml = 'Like what you see? Visit the ' +\n",
              "            '<a target=\"_blank\" href=https://colab.research.google.com/notebooks/data_table.ipynb>data table notebook</a>'\n",
              "            + ' to learn more about interactive tables.';\n",
              "          element.innerHTML = '';\n",
              "          dataTable['output_type'] = 'display_data';\n",
              "          await google.colab.output.renderOutput(dataTable, element);\n",
              "          const docLink = document.createElement('div');\n",
              "          docLink.innerHTML = docLinkHtml;\n",
              "          element.appendChild(docLink);\n",
              "        }\n",
              "      </script>\n",
              "    </div>\n",
              "  </div>\n",
              "  "
            ]
          },
          "metadata": {},
          "execution_count": 31
        }
      ]
    },
    {
      "cell_type": "code",
      "source": [
        "X_train, X_val, y_train, y_val = train_test_split(train[X_features], \n",
        "                                                  train['label'],\n",
        "                                                  stratify=train['label'], \n",
        "                                                  random_state=99)"
      ],
      "metadata": {
        "id": "iHhk0YxA7P7i"
      },
      "execution_count": 52,
      "outputs": []
    },
    {
      "cell_type": "code",
      "source": [
        "tfidf_prefix = 'preprocessor__text__tfidf__'\n",
        "clf_prefix = 'clf__'\n",
        "\n",
        "\n",
        "tfidf_best_params = {k[len(tfidf_prefix):]:v \n",
        "                     for (k, v) in grid_dc_all_f1.best_params_.items() \n",
        "                     if tfidf_prefix in k}\n",
        "\n",
        "clf_best_params = {k[len(clf_prefix):]:v \n",
        "                   for (k, v) in grid_dc_all_f1.best_params_.items() \n",
        "                   if clf_prefix in k}\n",
        "\n",
        "num_pipe = Pipeline([\n",
        "    ('impute', SimpleImputer(strategy='mean')),\n",
        "    ('binner', KBinsDiscretizer(n_bins=4)),\n",
        "])\n",
        "\n",
        "text_pipe = Pipeline([\n",
        "    ('tfidf', TfidfVectorizer(**tfidf_best_params)),\n",
        "])\n",
        "\n",
        "preprocessor = ColumnTransformer([\n",
        "    ('num', num_pipe, cols),\n",
        "    ('text', text_pipe, 'lemmatized_text'),\n",
        "])\n",
        "\n",
        "clf = Pipeline([\n",
        "    ('preprocessor', preprocessor),\n",
        "    ('clf', DummyClassifier(**clf_best_params)),\n",
        "])"
      ],
      "metadata": {
        "id": "4P9cZvKB0Ji9"
      },
      "execution_count": 53,
      "outputs": []
    },
    {
      "cell_type": "code",
      "source": [
        "clf.fit(X_train, y_train)"
      ],
      "metadata": {
        "id": "h5tP4HxA_smE",
        "outputId": "35fa7809-9123-413b-9bfc-76b33de6000e",
        "colab": {
          "base_uri": "https://localhost:8080/"
        }
      },
      "execution_count": 54,
      "outputs": [
        {
          "output_type": "stream",
          "name": "stderr",
          "text": [
            "/usr/local/lib/python3.7/dist-packages/sklearn/preprocessing/_discretization.py:233: UserWarning: Bins whose width are too small (i.e., <= 1e-8) in feature 5 are removed. Consider decreasing the number of bins.\n",
            "  \"decreasing the number of bins.\" % jj\n"
          ]
        },
        {
          "output_type": "execute_result",
          "data": {
            "text/plain": [
              "Pipeline(steps=[('preprocessor',\n",
              "                 ColumnTransformer(transformers=[('num',\n",
              "                                                  Pipeline(steps=[('impute',\n",
              "                                                                   SimpleImputer()),\n",
              "                                                                  ('binner',\n",
              "                                                                   KBinsDiscretizer(n_bins=4))]),\n",
              "                                                  ['d_chall_score', 'aoa_mean',\n",
              "                                                   'aoa_min', 'aoa_max',\n",
              "                                                   'conc_rating_mean',\n",
              "                                                   'conc_rating_min',\n",
              "                                                   'conc_rating_max',\n",
              "                                                   'num_lemmas']),\n",
              "                                                 ('text',\n",
              "                                                  Pipeline(steps=[('tfidf',\n",
              "                                                                   TfidfVectorizer())]),\n",
              "                                                  'lemmatized_text')])),\n",
              "                ('clf', DummyClassifier(strategy='stratified'))])"
            ]
          },
          "metadata": {},
          "execution_count": 54
        }
      ]
    },
    {
      "cell_type": "code",
      "source": [
        "# compute metrics from the test split data\n",
        "\n",
        "model_name = \"DummyClassifier\"\n",
        "for k,v in grid_dc_all_f1.best_params_.items():\n",
        "  model_name +=f'{k}_{v}'\n",
        "\n",
        "cm = compute_metrics(clf,model_name,X_train, y_train, X_val, y_val)"
      ],
      "metadata": {
        "id": "eYwyTSMd691g",
        "outputId": "f7a1c66b-1459-4ffc-86df-94a003e2fee3",
        "colab": {
          "base_uri": "https://localhost:8080/",
          "height": 341
        }
      },
      "execution_count": 55,
      "outputs": [
        {
          "output_type": "error",
          "ename": "TypeError",
          "evalue": "ignored",
          "traceback": [
            "\u001b[0;31m---------------------------------------------------------------------------\u001b[0m",
            "\u001b[0;31mTypeError\u001b[0m                                 Traceback (most recent call last)",
            "\u001b[0;32m<ipython-input-55-c423fb76005e>\u001b[0m in \u001b[0;36m<module>\u001b[0;34m\u001b[0m\n\u001b[1;32m      5\u001b[0m   \u001b[0mmodel_name\u001b[0m \u001b[0;34m+=\u001b[0m\u001b[0;34mf'{k}_{v}'\u001b[0m\u001b[0;34m\u001b[0m\u001b[0;34m\u001b[0m\u001b[0m\n\u001b[1;32m      6\u001b[0m \u001b[0;34m\u001b[0m\u001b[0m\n\u001b[0;32m----> 7\u001b[0;31m \u001b[0mcm\u001b[0m \u001b[0;34m=\u001b[0m \u001b[0mcompute_metrics\u001b[0m\u001b[0;34m(\u001b[0m\u001b[0mclf\u001b[0m\u001b[0;34m,\u001b[0m\u001b[0mmodel_name\u001b[0m\u001b[0;34m,\u001b[0m\u001b[0mX_train\u001b[0m\u001b[0;34m,\u001b[0m \u001b[0my_train\u001b[0m\u001b[0;34m,\u001b[0m \u001b[0mX_val\u001b[0m\u001b[0;34m,\u001b[0m \u001b[0my_val\u001b[0m\u001b[0;34m)\u001b[0m\u001b[0;34m\u001b[0m\u001b[0;34m\u001b[0m\u001b[0m\n\u001b[0m",
            "\u001b[0;32m<ipython-input-4-02c90e64bf7a>\u001b[0m in \u001b[0;36mcompute_metrics\u001b[0;34m(model, model_name, X_train_data, y_train_data, X_test_data, y_test_data)\u001b[0m\n\u001b[1;32m      2\u001b[0m     \u001b[0;31m# extract the model's hyperparameters and make that part of the identifier for the model\u001b[0m\u001b[0;34m\u001b[0m\u001b[0;34m\u001b[0m\u001b[0;34m\u001b[0m\u001b[0m\n\u001b[1;32m      3\u001b[0m \u001b[0;34m\u001b[0m\u001b[0m\n\u001b[0;32m----> 4\u001b[0;31m     \u001b[0mmetrics_df\u001b[0m\u001b[0;34m[\u001b[0m\u001b[0;34m'model_name'\u001b[0m\u001b[0;34m]\u001b[0m\u001b[0;34m.\u001b[0m\u001b[0mappend\u001b[0m\u001b[0;34m(\u001b[0m\u001b[0mmodel_name\u001b[0m\u001b[0;34m)\u001b[0m\u001b[0;34m\u001b[0m\u001b[0;34m\u001b[0m\u001b[0m\n\u001b[0m\u001b[1;32m      5\u001b[0m     \u001b[0mmetrics_df\u001b[0m\u001b[0;34m[\u001b[0m\u001b[0;34m'model_instance'\u001b[0m\u001b[0;34m]\u001b[0m\u001b[0;34m.\u001b[0m\u001b[0mappend\u001b[0m\u001b[0;34m(\u001b[0m\u001b[0mmodel\u001b[0m\u001b[0;34m)\u001b[0m\u001b[0;34m\u001b[0m\u001b[0;34m\u001b[0m\u001b[0m\n\u001b[1;32m      6\u001b[0m \u001b[0;34m\u001b[0m\u001b[0m\n",
            "\u001b[0;32m/usr/local/lib/python3.7/dist-packages/pandas/core/series.py\u001b[0m in \u001b[0;36mappend\u001b[0;34m(self, to_append, ignore_index, verify_integrity)\u001b[0m\n\u001b[1;32m   2876\u001b[0m             \u001b[0;32mraise\u001b[0m \u001b[0mTypeError\u001b[0m\u001b[0;34m(\u001b[0m\u001b[0mmsg\u001b[0m\u001b[0;34m)\u001b[0m\u001b[0;34m\u001b[0m\u001b[0;34m\u001b[0m\u001b[0m\n\u001b[1;32m   2877\u001b[0m         return concat(\n\u001b[0;32m-> 2878\u001b[0;31m             \u001b[0mto_concat\u001b[0m\u001b[0;34m,\u001b[0m \u001b[0mignore_index\u001b[0m\u001b[0;34m=\u001b[0m\u001b[0mignore_index\u001b[0m\u001b[0;34m,\u001b[0m \u001b[0mverify_integrity\u001b[0m\u001b[0;34m=\u001b[0m\u001b[0mverify_integrity\u001b[0m\u001b[0;34m\u001b[0m\u001b[0;34m\u001b[0m\u001b[0m\n\u001b[0m\u001b[1;32m   2879\u001b[0m         )\n\u001b[1;32m   2880\u001b[0m \u001b[0;34m\u001b[0m\u001b[0m\n",
            "\u001b[0;32m/usr/local/lib/python3.7/dist-packages/pandas/util/_decorators.py\u001b[0m in \u001b[0;36mwrapper\u001b[0;34m(*args, **kwargs)\u001b[0m\n\u001b[1;32m    309\u001b[0m                     \u001b[0mstacklevel\u001b[0m\u001b[0;34m=\u001b[0m\u001b[0mstacklevel\u001b[0m\u001b[0;34m,\u001b[0m\u001b[0;34m\u001b[0m\u001b[0;34m\u001b[0m\u001b[0m\n\u001b[1;32m    310\u001b[0m                 )\n\u001b[0;32m--> 311\u001b[0;31m             \u001b[0;32mreturn\u001b[0m \u001b[0mfunc\u001b[0m\u001b[0;34m(\u001b[0m\u001b[0;34m*\u001b[0m\u001b[0margs\u001b[0m\u001b[0;34m,\u001b[0m \u001b[0;34m**\u001b[0m\u001b[0mkwargs\u001b[0m\u001b[0;34m)\u001b[0m\u001b[0;34m\u001b[0m\u001b[0;34m\u001b[0m\u001b[0m\n\u001b[0m\u001b[1;32m    312\u001b[0m \u001b[0;34m\u001b[0m\u001b[0m\n\u001b[1;32m    313\u001b[0m         \u001b[0;32mreturn\u001b[0m \u001b[0mwrapper\u001b[0m\u001b[0;34m\u001b[0m\u001b[0;34m\u001b[0m\u001b[0m\n",
            "\u001b[0;32m/usr/local/lib/python3.7/dist-packages/pandas/core/reshape/concat.py\u001b[0m in \u001b[0;36mconcat\u001b[0;34m(objs, axis, join, ignore_index, keys, levels, names, verify_integrity, sort, copy)\u001b[0m\n\u001b[1;32m    302\u001b[0m         \u001b[0mverify_integrity\u001b[0m\u001b[0;34m=\u001b[0m\u001b[0mverify_integrity\u001b[0m\u001b[0;34m,\u001b[0m\u001b[0;34m\u001b[0m\u001b[0;34m\u001b[0m\u001b[0m\n\u001b[1;32m    303\u001b[0m         \u001b[0mcopy\u001b[0m\u001b[0;34m=\u001b[0m\u001b[0mcopy\u001b[0m\u001b[0;34m,\u001b[0m\u001b[0;34m\u001b[0m\u001b[0;34m\u001b[0m\u001b[0m\n\u001b[0;32m--> 304\u001b[0;31m         \u001b[0msort\u001b[0m\u001b[0;34m=\u001b[0m\u001b[0msort\u001b[0m\u001b[0;34m,\u001b[0m\u001b[0;34m\u001b[0m\u001b[0;34m\u001b[0m\u001b[0m\n\u001b[0m\u001b[1;32m    305\u001b[0m     )\n\u001b[1;32m    306\u001b[0m \u001b[0;34m\u001b[0m\u001b[0m\n",
            "\u001b[0;32m/usr/local/lib/python3.7/dist-packages/pandas/core/reshape/concat.py\u001b[0m in \u001b[0;36m__init__\u001b[0;34m(self, objs, axis, join, keys, levels, names, ignore_index, verify_integrity, copy, sort)\u001b[0m\n\u001b[1;32m    382\u001b[0m                     \u001b[0;34m\"only Series and DataFrame objs are valid\"\u001b[0m\u001b[0;34m\u001b[0m\u001b[0;34m\u001b[0m\u001b[0m\n\u001b[1;32m    383\u001b[0m                 )\n\u001b[0;32m--> 384\u001b[0;31m                 \u001b[0;32mraise\u001b[0m \u001b[0mTypeError\u001b[0m\u001b[0;34m(\u001b[0m\u001b[0mmsg\u001b[0m\u001b[0;34m)\u001b[0m\u001b[0;34m\u001b[0m\u001b[0;34m\u001b[0m\u001b[0m\n\u001b[0m\u001b[1;32m    385\u001b[0m \u001b[0;34m\u001b[0m\u001b[0m\n\u001b[1;32m    386\u001b[0m             \u001b[0mndims\u001b[0m\u001b[0;34m.\u001b[0m\u001b[0madd\u001b[0m\u001b[0;34m(\u001b[0m\u001b[0mobj\u001b[0m\u001b[0;34m.\u001b[0m\u001b[0mndim\u001b[0m\u001b[0;34m)\u001b[0m\u001b[0;34m\u001b[0m\u001b[0;34m\u001b[0m\u001b[0m\n",
            "\u001b[0;31mTypeError\u001b[0m: cannot concatenate object of type '<class 'str'>'; only Series and DataFrame objs are valid"
          ]
        }
      ]
    },
    {
      "cell_type": "code",
      "source": [],
      "metadata": {
        "id": "jD4DehmU9Acl"
      },
      "execution_count": 56,
      "outputs": []
    },
    {
      "cell_type": "code",
      "source": [
        "metrics_df = pd.DataFrame(metrics_df)"
      ],
      "metadata": {
        "id": "du7JgWNq8CE9"
      },
      "execution_count": 45,
      "outputs": []
    },
    {
      "cell_type": "code",
      "source": [
        "metrics_df.T"
      ],
      "metadata": {
        "id": "wVEGniAF8DRl",
        "outputId": "6d8c2cae-320b-4d85-f999-6e7978a5ccc7",
        "colab": {
          "base_uri": "https://localhost:8080/",
          "height": 483
        }
      },
      "execution_count": 46,
      "outputs": [
        {
          "output_type": "execute_result",
          "data": {
            "text/plain": [
              "                                                                 0\n",
              "model_name                 DummyClassifierclf__strategy_stratified\n",
              "model_instance   (ColumnTransformer(transformers=[('num',\\n    ...\n",
              "train_accuracy                                            0.500002\n",
              "train_precision                                                0.5\n",
              "train_recall                                              0.500089\n",
              "train_f1                                                  0.500044\n",
              "train_aucprc                                              0.625273\n",
              "train_aucroc                                              0.500496\n",
              "test_accuracy                                             0.500411\n",
              "test_precision                                            0.500417\n",
              "test_f1                                                   0.499968\n",
              "test_recall                                                0.49952\n",
              "test_aucprc                                               0.627015\n",
              "test_aucroc                                               0.501914"
            ],
            "text/html": [
              "\n",
              "  <div id=\"df-c68021b0-0b07-430c-8e75-8822f8941889\">\n",
              "    <div class=\"colab-df-container\">\n",
              "      <div>\n",
              "<style scoped>\n",
              "    .dataframe tbody tr th:only-of-type {\n",
              "        vertical-align: middle;\n",
              "    }\n",
              "\n",
              "    .dataframe tbody tr th {\n",
              "        vertical-align: top;\n",
              "    }\n",
              "\n",
              "    .dataframe thead th {\n",
              "        text-align: right;\n",
              "    }\n",
              "</style>\n",
              "<table border=\"1\" class=\"dataframe\">\n",
              "  <thead>\n",
              "    <tr style=\"text-align: right;\">\n",
              "      <th></th>\n",
              "      <th>0</th>\n",
              "    </tr>\n",
              "  </thead>\n",
              "  <tbody>\n",
              "    <tr>\n",
              "      <th>model_name</th>\n",
              "      <td>DummyClassifierclf__strategy_stratified</td>\n",
              "    </tr>\n",
              "    <tr>\n",
              "      <th>model_instance</th>\n",
              "      <td>(ColumnTransformer(transformers=[('num',\\n    ...</td>\n",
              "    </tr>\n",
              "    <tr>\n",
              "      <th>train_accuracy</th>\n",
              "      <td>0.500002</td>\n",
              "    </tr>\n",
              "    <tr>\n",
              "      <th>train_precision</th>\n",
              "      <td>0.5</td>\n",
              "    </tr>\n",
              "    <tr>\n",
              "      <th>train_recall</th>\n",
              "      <td>0.500089</td>\n",
              "    </tr>\n",
              "    <tr>\n",
              "      <th>train_f1</th>\n",
              "      <td>0.500044</td>\n",
              "    </tr>\n",
              "    <tr>\n",
              "      <th>train_aucprc</th>\n",
              "      <td>0.625273</td>\n",
              "    </tr>\n",
              "    <tr>\n",
              "      <th>train_aucroc</th>\n",
              "      <td>0.500496</td>\n",
              "    </tr>\n",
              "    <tr>\n",
              "      <th>test_accuracy</th>\n",
              "      <td>0.500411</td>\n",
              "    </tr>\n",
              "    <tr>\n",
              "      <th>test_precision</th>\n",
              "      <td>0.500417</td>\n",
              "    </tr>\n",
              "    <tr>\n",
              "      <th>test_f1</th>\n",
              "      <td>0.499968</td>\n",
              "    </tr>\n",
              "    <tr>\n",
              "      <th>test_recall</th>\n",
              "      <td>0.49952</td>\n",
              "    </tr>\n",
              "    <tr>\n",
              "      <th>test_aucprc</th>\n",
              "      <td>0.627015</td>\n",
              "    </tr>\n",
              "    <tr>\n",
              "      <th>test_aucroc</th>\n",
              "      <td>0.501914</td>\n",
              "    </tr>\n",
              "  </tbody>\n",
              "</table>\n",
              "</div>\n",
              "      <button class=\"colab-df-convert\" onclick=\"convertToInteractive('df-c68021b0-0b07-430c-8e75-8822f8941889')\"\n",
              "              title=\"Convert this dataframe to an interactive table.\"\n",
              "              style=\"display:none;\">\n",
              "        \n",
              "  <svg xmlns=\"http://www.w3.org/2000/svg\" height=\"24px\"viewBox=\"0 0 24 24\"\n",
              "       width=\"24px\">\n",
              "    <path d=\"M0 0h24v24H0V0z\" fill=\"none\"/>\n",
              "    <path d=\"M18.56 5.44l.94 2.06.94-2.06 2.06-.94-2.06-.94-.94-2.06-.94 2.06-2.06.94zm-11 1L8.5 8.5l.94-2.06 2.06-.94-2.06-.94L8.5 2.5l-.94 2.06-2.06.94zm10 10l.94 2.06.94-2.06 2.06-.94-2.06-.94-.94-2.06-.94 2.06-2.06.94z\"/><path d=\"M17.41 7.96l-1.37-1.37c-.4-.4-.92-.59-1.43-.59-.52 0-1.04.2-1.43.59L10.3 9.45l-7.72 7.72c-.78.78-.78 2.05 0 2.83L4 21.41c.39.39.9.59 1.41.59.51 0 1.02-.2 1.41-.59l7.78-7.78 2.81-2.81c.8-.78.8-2.07 0-2.86zM5.41 20L4 18.59l7.72-7.72 1.47 1.35L5.41 20z\"/>\n",
              "  </svg>\n",
              "      </button>\n",
              "      \n",
              "  <style>\n",
              "    .colab-df-container {\n",
              "      display:flex;\n",
              "      flex-wrap:wrap;\n",
              "      gap: 12px;\n",
              "    }\n",
              "\n",
              "    .colab-df-convert {\n",
              "      background-color: #E8F0FE;\n",
              "      border: none;\n",
              "      border-radius: 50%;\n",
              "      cursor: pointer;\n",
              "      display: none;\n",
              "      fill: #1967D2;\n",
              "      height: 32px;\n",
              "      padding: 0 0 0 0;\n",
              "      width: 32px;\n",
              "    }\n",
              "\n",
              "    .colab-df-convert:hover {\n",
              "      background-color: #E2EBFA;\n",
              "      box-shadow: 0px 1px 2px rgba(60, 64, 67, 0.3), 0px 1px 3px 1px rgba(60, 64, 67, 0.15);\n",
              "      fill: #174EA6;\n",
              "    }\n",
              "\n",
              "    [theme=dark] .colab-df-convert {\n",
              "      background-color: #3B4455;\n",
              "      fill: #D2E3FC;\n",
              "    }\n",
              "\n",
              "    [theme=dark] .colab-df-convert:hover {\n",
              "      background-color: #434B5C;\n",
              "      box-shadow: 0px 1px 3px 1px rgba(0, 0, 0, 0.15);\n",
              "      filter: drop-shadow(0px 1px 2px rgba(0, 0, 0, 0.3));\n",
              "      fill: #FFFFFF;\n",
              "    }\n",
              "  </style>\n",
              "\n",
              "      <script>\n",
              "        const buttonEl =\n",
              "          document.querySelector('#df-c68021b0-0b07-430c-8e75-8822f8941889 button.colab-df-convert');\n",
              "        buttonEl.style.display =\n",
              "          google.colab.kernel.accessAllowed ? 'block' : 'none';\n",
              "\n",
              "        async function convertToInteractive(key) {\n",
              "          const element = document.querySelector('#df-c68021b0-0b07-430c-8e75-8822f8941889');\n",
              "          const dataTable =\n",
              "            await google.colab.kernel.invokeFunction('convertToInteractive',\n",
              "                                                     [key], {});\n",
              "          if (!dataTable) return;\n",
              "\n",
              "          const docLinkHtml = 'Like what you see? Visit the ' +\n",
              "            '<a target=\"_blank\" href=https://colab.research.google.com/notebooks/data_table.ipynb>data table notebook</a>'\n",
              "            + ' to learn more about interactive tables.';\n",
              "          element.innerHTML = '';\n",
              "          dataTable['output_type'] = 'display_data';\n",
              "          await google.colab.output.renderOutput(dataTable, element);\n",
              "          const docLink = document.createElement('div');\n",
              "          docLink.innerHTML = docLinkHtml;\n",
              "          element.appendChild(docLink);\n",
              "        }\n",
              "      </script>\n",
              "    </div>\n",
              "  </div>\n",
              "  "
            ]
          },
          "metadata": {},
          "execution_count": 46
        }
      ]
    },
    {
      "cell_type": "code",
      "source": [
        "import seaborn as sns\n",
        "import matplotlib.pyplot as plt\n",
        "\n",
        "\n",
        "plt.figure(figsize = (10,8))\n",
        "sns.heatmap(cm, annot=True, fmt='d',\n",
        "            xticklabels=['Easy','Hard'],\n",
        "            yticklabels=['Easy','Hard'])\n",
        "plt.title(\"Confusion Matrix\")\n",
        "plt.xlabel('Predicted')\n",
        "plt.ylabel('Actual')\n",
        "plt.show();\n"
      ],
      "metadata": {
        "id": "peP-Eunm8Nhb",
        "outputId": "baf2fe25-2f85-455f-e4f6-fccf79663d31",
        "colab": {
          "base_uri": "https://localhost:8080/",
          "height": 513
        }
      },
      "execution_count": 48,
      "outputs": [
        {
          "output_type": "display_data",
          "data": {
            "text/plain": [
              "<Figure size 720x576 with 2 Axes>"
            ],
            "image/png": "[encoded data removed]"
          },
          "metadata": {
            "needs_background": "light"
          }
        }
      ]
    },
    {
      "cell_type": "code",
      "source": [
        "# Final Test on held out data set\n",
        "\n",
        "X_test = test[X_features]\n",
        "y_test = test.label\n",
        "\n",
        "# cm = compute_metrics(clf,model_name,X_train, y_train, X_test, y_test)\n",
        "print(\"Training Dataset\")\n",
        "print('Train Accuracy',round(metrics_df.iloc[0]['train_accuracy'],3))\n",
        "print('Train Recall', round(metrics_df.iloc[0]['train_recall'],3))\n",
        "print('Train Precision', round(metrics_df.iloc[0]['train_precision'],3))\n",
        "print('Train F1', round(metrics_df.iloc[0]['train_f1'],3))\n",
        "print('Train AUC PRC', round(metrics_df.iloc[0]['train_aucprc'],3))\n",
        "print('Train AUC ROC', round(metrics_df.iloc[0]['train_aucroc'],3))\n",
        "print(\" \")\n",
        "print(\"Testing Dataset\")\n",
        "y_pred = clf.predict(X_test)\n",
        "acc = accuracy_score(y_test, y_pred)\n",
        "recall = recall_score(y_test,y_pred)\n",
        "precision = precision_score(y_test, y_pred)\n",
        "f1 = f1_score(y_test,y_pred)\n",
        "y_proba = clf.predict_proba(X_test)[:,1]\n",
        "prc,rec,thres = precision_recall_curve(y_test, y_proba)\n",
        "auc_prc = auc(rec,prc)\n",
        "roc = roc_auc_score(y_test, y_proba)\n",
        "\n",
        "print('Test Accuracy:', round(acc,3))\n",
        "print('Test Recall', round(recall,3))\n",
        "print('Test Precision', round(precision,3))\n",
        "print('Test F1-score', round(f1,3))\n",
        "print('AUC PRC', round(auc_prc,3))\n",
        "print('Test AUC ROC', round(roc,3))"
      ],
      "metadata": {
        "id": "PUn-eA098Uyi",
        "outputId": "48858da4-c94d-480f-91e4-038e8c511cc5",
        "colab": {
          "base_uri": "https://localhost:8080/"
        }
      },
      "execution_count": 58,
      "outputs": [
        {
          "output_type": "stream",
          "name": "stdout",
          "text": [
            "Training Dataset\n",
            "Train Accuracy 0.5\n",
            "Train Recall 0.5\n",
            "Train Precision 0.5\n",
            "Train F1 0.5\n",
            "Train AUC PRC 0.625\n",
            "Train AUC ROC 0.5\n",
            " \n",
            "Testing Dataset\n",
            "Test Accuracy: 0.505\n",
            "Test Recall 0.508\n",
            "Test Precision 0.505\n",
            "Test F1-score 0.506\n",
            "AUC PRC 0.625\n",
            "Test AUC ROC 0.501\n"
          ]
        }
      ]
    },
    {
      "cell_type": "code",
      "source": [
        "def plot_cf_matrix(y_true, y_pred):\n",
        "  cf_matrix = confusion_matrix(y_true, y_pred).round(0)\n",
        "  tick_lables = ('Easy', 'Difficult')\n",
        "\n",
        "  fig = plt.figure(figsize=(7, 5))\n",
        "  ax = plt.gca()\n",
        "  ax = sns.heatmap(cf_matrix, \n",
        "              annot=True,\n",
        "              fmt='.0f',\n",
        "              xticklabels=tick_lables,\n",
        "              yticklabels=tick_lables,\n",
        "              cmap=plt.cm.get_cmap('YlGnBu'),\n",
        "              ax=ax,)\n",
        "  \n",
        "  ax.set_xlabel('Predicted Values', labelpad=10.0)\n",
        "  ax.set_ylabel('Actual Values', labelpad=10.0)\n",
        "\n",
        "\n",
        "\n",
        "plot_cf_matrix(y_test,y_pred)"
      ],
      "metadata": {
        "id": "rNad147d9ZTa",
        "outputId": "647bad0a-2c10-4ade-9205-60ce3a68cf18",
        "colab": {
          "base_uri": "https://localhost:8080/",
          "height": 340
        }
      },
      "execution_count": 60,
      "outputs": [
        {
          "output_type": "display_data",
          "data": {
            "text/plain": [
              "<Figure size 504x360 with 2 Axes>"
            ],
            "image/png": "[encoded data removed]"
          },
          "metadata": {
            "needs_background": "light"
          }
        }
      ]
    },
    {
      "cell_type": "code",
      "source": [
        "import joblib\n",
        "model_path = ''.join(['drive/Shareddrives/Milestone 2/dummyclassifier-clf.joblib'])\n",
        "joblib.dump(clf['clf'], model_path)"
      ],
      "metadata": {
        "id": "fqQUSjj19lY1",
        "outputId": "cefcaeb4-88ba-4ea8-d870-5480095796c5",
        "colab": {
          "base_uri": "https://localhost:8080/"
        }
      },
      "execution_count": 61,
      "outputs": [
        {
          "output_type": "execute_result",
          "data": {
            "text/plain": [
              "['drive/Shareddrives/Milestone 2/dummyclassifier-clf.joblib']"
            ]
          },
          "metadata": {},
          "execution_count": 61
        }
      ]
    },
    {
      "cell_type": "markdown",
      "source": [
        "# Sentence Embeddings"
      ],
      "metadata": {
        "id": "4xdFm1Ts_zDI"
      }
    },
    {
      "cell_type": "code",
      "source": [
        "from numpy import loadtxt\n",
        "import numpy as np\n",
        "from sklearn.preprocessing import MinMaxScaler"
      ],
      "metadata": {
        "id": "ay5ERTVZa2pw"
      },
      "execution_count": null,
      "outputs": []
    },
    {
      "cell_type": "code",
      "source": [
        "embeddings = loadtxt('drive/Shareddrives/Milestone 2/embeddings.csv', delimiter=',')\n",
        "embeddings"
      ],
      "metadata": {
        "colab": {
          "base_uri": "https://localhost:8080/"
        },
        "id": "gzDbiwkabHYQ",
        "outputId": "923c94a1-8ec0-468a-ed51-9b54334aa1be"
      },
      "execution_count": null,
      "outputs": [
        {
          "output_type": "execute_result",
          "data": {
            "text/plain": [
              "array([[-0.10521097,  0.04652381,  0.09932816, ..., -0.53146267,\n",
              "         0.24081262,  0.04764764],\n",
              "       [-0.09595645,  0.28408318,  0.0416585 , ..., -0.6049515 ,\n",
              "         0.23389882,  0.2116979 ],\n",
              "       [ 0.00624134,  0.04496894,  0.28006756, ..., -0.21483139,\n",
              "         0.40460399, -0.12047322],\n",
              "       ...,\n",
              "       [-0.05062665,  0.11346165,  0.37695   , ..., -0.35318942,\n",
              "         0.46983531, -0.04529605],\n",
              "       [-0.13691955,  0.46627818, -0.0528408 , ..., -0.55561154,\n",
              "         0.56975963,  0.25214309],\n",
              "       [-0.23494626,  0.30814424,  0.28275521, ..., -0.56363898,\n",
              "         0.44196188,  0.01724233]])"
            ]
          },
          "metadata": {},
          "execution_count": 61
        }
      ]
    },
    {
      "cell_type": "code",
      "source": [
        "embeddings.shape"
      ],
      "metadata": {
        "colab": {
          "base_uri": "https://localhost:8080/"
        },
        "id": "J0WrK3iybYl3",
        "outputId": "03ae4943-da8e-4b1c-96b4-f167608c3fba"
      },
      "execution_count": null,
      "outputs": [
        {
          "output_type": "execute_result",
          "data": {
            "text/plain": [
              "(395169, 100)"
            ]
          },
          "metadata": {},
          "execution_count": 62
        }
      ]
    },
    {
      "cell_type": "code",
      "source": [],
      "metadata": {
        "id": "pj3YLDLf52uu"
      },
      "execution_count": null,
      "outputs": []
    },
    {
      "cell_type": "code",
      "source": [
        "# Combine the embeddings and the original_text + Mads features\n",
        "emb = pd.DataFrame(embeddings)\n",
        "new_df = pd.concat([df,emb], axis=1)\n",
        "new_df.head()"
      ],
      "metadata": {
        "colab": {
          "base_uri": "https://localhost:8080/",
          "height": 552
        },
        "id": "6pPdMlnBbZ09",
        "outputId": "81cc2a01-d8d1-4560-bf40-ed86f674342f"
      },
      "execution_count": null,
      "outputs": [
        {
          "output_type": "execute_result",
          "data": {
            "text/plain": [
              "                                       original_text  \\\n",
              "0  There is manuscript evidence that Austen conti...   \n",
              "1  In a remarkable comparative analysis , Mandaea...   \n",
              "2  Before Persephone was released to Hermes , who...   \n",
              "3  Cogeneration plants are commonly found in dist...   \n",
              "4  Geneva is the second-most-populous city in Swi...   \n",
              "\n",
              "                                     lemmatized_text  d_chall_score  aoa_mean  \\\n",
              "0  There be manuscript evidence that Austen conti...       8.533221  5.809310   \n",
              "1  In a remarkable comparative analysis , Mandaea...      12.320171  7.402308   \n",
              "2  Before Persephone be release to Hermes , who h...       5.931500  5.231351   \n",
              "3  Cogeneration plant be commonly find in distric...       7.015012  6.742000   \n",
              "4  Geneva be the second-most-populous city in Swi...       7.550745  5.455000   \n",
              "\n",
              "   aoa_min  aoa_max  conc_rating_mean  conc_rating_min  conc_rating_max  \\\n",
              "0     3.57    12.12          2.495517             1.33             4.57   \n",
              "1     2.89    11.94          2.334286             1.46             4.93   \n",
              "2     2.78    11.17          2.556486             1.43             4.86   \n",
              "3     3.56    11.53          3.369655             1.52             4.93   \n",
              "4     3.69    12.62          2.399333             1.43             4.79   \n",
              "\n",
              "   num_lemmas  ...        90        91        92        93        94  \\\n",
              "0        38.0  ... -0.000574 -0.282132  0.048765  0.281763 -0.562752   \n",
              "1        21.0  ...  0.142222 -0.103547 -0.090528  0.095581 -0.276107   \n",
              "2        40.0  ... -0.042911 -0.127006 -0.027232  0.002538 -0.531988   \n",
              "3        32.0  ...  0.113040 -0.480430 -0.121593  0.049611 -0.675361   \n",
              "4        22.0  ... -0.003146 -0.214928 -0.110112  0.408002 -0.512044   \n",
              "\n",
              "         95        96        97        98        99  \n",
              "0 -0.018829 -0.266238 -0.531463  0.240813  0.047648  \n",
              "1  0.028346 -0.250517 -0.604951  0.233899  0.211698  \n",
              "2 -0.153132 -0.162387 -0.214831  0.404604 -0.120473  \n",
              "3  0.358477 -0.145952 -0.454261  0.618850  0.002099  \n",
              "4  0.292142 -0.294712 -0.306517  0.631877 -0.067776  \n",
              "\n",
              "[5 rows x 111 columns]"
            ],
            "text/html": [
              "\n",
              "  <div id=\"df-6c785068-f011-4027-b811-695053eea5d5\">\n",
              "    <div class=\"colab-df-container\">\n",
              "      <div>\n",
              "<style scoped>\n",
              "    .dataframe tbody tr th:only-of-type {\n",
              "        vertical-align: middle;\n",
              "    }\n",
              "\n",
              "    .dataframe tbody tr th {\n",
              "        vertical-align: top;\n",
              "    }\n",
              "\n",
              "    .dataframe thead th {\n",
              "        text-align: right;\n",
              "    }\n",
              "</style>\n",
              "<table border=\"1\" class=\"dataframe\">\n",
              "  <thead>\n",
              "    <tr style=\"text-align: right;\">\n",
              "      <th></th>\n",
              "      <th>original_text</th>\n",
              "      <th>lemmatized_text</th>\n",
              "      <th>d_chall_score</th>\n",
              "      <th>aoa_mean</th>\n",
              "      <th>aoa_min</th>\n",
              "      <th>aoa_max</th>\n",
              "      <th>conc_rating_mean</th>\n",
              "      <th>conc_rating_min</th>\n",
              "      <th>conc_rating_max</th>\n",
              "      <th>num_lemmas</th>\n",
              "      <th>...</th>\n",
              "      <th>90</th>\n",
              "      <th>91</th>\n",
              "      <th>92</th>\n",
              "      <th>93</th>\n",
              "      <th>94</th>\n",
              "      <th>95</th>\n",
              "      <th>96</th>\n",
              "      <th>97</th>\n",
              "      <th>98</th>\n",
              "      <th>99</th>\n",
              "    </tr>\n",
              "  </thead>\n",
              "  <tbody>\n",
              "    <tr>\n",
              "      <th>0</th>\n",
              "      <td>There is manuscript evidence that Austen conti...</td>\n",
              "      <td>There be manuscript evidence that Austen conti...</td>\n",
              "      <td>8.533221</td>\n",
              "      <td>5.809310</td>\n",
              "      <td>3.57</td>\n",
              "      <td>12.12</td>\n",
              "      <td>2.495517</td>\n",
              "      <td>1.33</td>\n",
              "      <td>4.57</td>\n",
              "      <td>38.0</td>\n",
              "      <td>...</td>\n",
              "      <td>-0.000574</td>\n",
              "      <td>-0.282132</td>\n",
              "      <td>0.048765</td>\n",
              "      <td>0.281763</td>\n",
              "      <td>-0.562752</td>\n",
              "      <td>-0.018829</td>\n",
              "      <td>-0.266238</td>\n",
              "      <td>-0.531463</td>\n",
              "      <td>0.240813</td>\n",
              "      <td>0.047648</td>\n",
              "    </tr>\n",
              "    <tr>\n",
              "      <th>1</th>\n",
              "      <td>In a remarkable comparative analysis , Mandaea...</td>\n",
              "      <td>In a remarkable comparative analysis , Mandaea...</td>\n",
              "      <td>12.320171</td>\n",
              "      <td>7.402308</td>\n",
              "      <td>2.89</td>\n",
              "      <td>11.94</td>\n",
              "      <td>2.334286</td>\n",
              "      <td>1.46</td>\n",
              "      <td>4.93</td>\n",
              "      <td>21.0</td>\n",
              "      <td>...</td>\n",
              "      <td>0.142222</td>\n",
              "      <td>-0.103547</td>\n",
              "      <td>-0.090528</td>\n",
              "      <td>0.095581</td>\n",
              "      <td>-0.276107</td>\n",
              "      <td>0.028346</td>\n",
              "      <td>-0.250517</td>\n",
              "      <td>-0.604951</td>\n",
              "      <td>0.233899</td>\n",
              "      <td>0.211698</td>\n",
              "    </tr>\n",
              "    <tr>\n",
              "      <th>2</th>\n",
              "      <td>Before Persephone was released to Hermes , who...</td>\n",
              "      <td>Before Persephone be release to Hermes , who h...</td>\n",
              "      <td>5.931500</td>\n",
              "      <td>5.231351</td>\n",
              "      <td>2.78</td>\n",
              "      <td>11.17</td>\n",
              "      <td>2.556486</td>\n",
              "      <td>1.43</td>\n",
              "      <td>4.86</td>\n",
              "      <td>40.0</td>\n",
              "      <td>...</td>\n",
              "      <td>-0.042911</td>\n",
              "      <td>-0.127006</td>\n",
              "      <td>-0.027232</td>\n",
              "      <td>0.002538</td>\n",
              "      <td>-0.531988</td>\n",
              "      <td>-0.153132</td>\n",
              "      <td>-0.162387</td>\n",
              "      <td>-0.214831</td>\n",
              "      <td>0.404604</td>\n",
              "      <td>-0.120473</td>\n",
              "    </tr>\n",
              "    <tr>\n",
              "      <th>3</th>\n",
              "      <td>Cogeneration plants are commonly found in dist...</td>\n",
              "      <td>Cogeneration plant be commonly find in distric...</td>\n",
              "      <td>7.015012</td>\n",
              "      <td>6.742000</td>\n",
              "      <td>3.56</td>\n",
              "      <td>11.53</td>\n",
              "      <td>3.369655</td>\n",
              "      <td>1.52</td>\n",
              "      <td>4.93</td>\n",
              "      <td>32.0</td>\n",
              "      <td>...</td>\n",
              "      <td>0.113040</td>\n",
              "      <td>-0.480430</td>\n",
              "      <td>-0.121593</td>\n",
              "      <td>0.049611</td>\n",
              "      <td>-0.675361</td>\n",
              "      <td>0.358477</td>\n",
              "      <td>-0.145952</td>\n",
              "      <td>-0.454261</td>\n",
              "      <td>0.618850</td>\n",
              "      <td>0.002099</td>\n",
              "    </tr>\n",
              "    <tr>\n",
              "      <th>4</th>\n",
              "      <td>Geneva is the second-most-populous city in Swi...</td>\n",
              "      <td>Geneva be the second-most-populous city in Swi...</td>\n",
              "      <td>7.550745</td>\n",
              "      <td>5.455000</td>\n",
              "      <td>3.69</td>\n",
              "      <td>12.62</td>\n",
              "      <td>2.399333</td>\n",
              "      <td>1.43</td>\n",
              "      <td>4.79</td>\n",
              "      <td>22.0</td>\n",
              "      <td>...</td>\n",
              "      <td>-0.003146</td>\n",
              "      <td>-0.214928</td>\n",
              "      <td>-0.110112</td>\n",
              "      <td>0.408002</td>\n",
              "      <td>-0.512044</td>\n",
              "      <td>0.292142</td>\n",
              "      <td>-0.294712</td>\n",
              "      <td>-0.306517</td>\n",
              "      <td>0.631877</td>\n",
              "      <td>-0.067776</td>\n",
              "    </tr>\n",
              "  </tbody>\n",
              "</table>\n",
              "<p>5 rows × 111 columns</p>\n",
              "</div>\n",
              "      <button class=\"colab-df-convert\" onclick=\"convertToInteractive('df-6c785068-f011-4027-b811-695053eea5d5')\"\n",
              "              title=\"Convert this dataframe to an interactive table.\"\n",
              "              style=\"display:none;\">\n",
              "        \n",
              "  <svg xmlns=\"http://www.w3.org/2000/svg\" height=\"24px\"viewBox=\"0 0 24 24\"\n",
              "       width=\"24px\">\n",
              "    <path d=\"M0 0h24v24H0V0z\" fill=\"none\"/>\n",
              "    <path d=\"M18.56 5.44l.94 2.06.94-2.06 2.06-.94-2.06-.94-.94-2.06-.94 2.06-2.06.94zm-11 1L8.5 8.5l.94-2.06 2.06-.94-2.06-.94L8.5 2.5l-.94 2.06-2.06.94zm10 10l.94 2.06.94-2.06 2.06-.94-2.06-.94-.94-2.06-.94 2.06-2.06.94z\"/><path d=\"M17.41 7.96l-1.37-1.37c-.4-.4-.92-.59-1.43-.59-.52 0-1.04.2-1.43.59L10.3 9.45l-7.72 7.72c-.78.78-.78 2.05 0 2.83L4 21.41c.39.39.9.59 1.41.59.51 0 1.02-.2 1.41-.59l7.78-7.78 2.81-2.81c.8-.78.8-2.07 0-2.86zM5.41 20L4 18.59l7.72-7.72 1.47 1.35L5.41 20z\"/>\n",
              "  </svg>\n",
              "      </button>\n",
              "      \n",
              "  <style>\n",
              "    .colab-df-container {\n",
              "      display:flex;\n",
              "      flex-wrap:wrap;\n",
              "      gap: 12px;\n",
              "    }\n",
              "\n",
              "    .colab-df-convert {\n",
              "      background-color: #E8F0FE;\n",
              "      border: none;\n",
              "      border-radius: 50%;\n",
              "      cursor: pointer;\n",
              "      display: none;\n",
              "      fill: #1967D2;\n",
              "      height: 32px;\n",
              "      padding: 0 0 0 0;\n",
              "      width: 32px;\n",
              "    }\n",
              "\n",
              "    .colab-df-convert:hover {\n",
              "      background-color: #E2EBFA;\n",
              "      box-shadow: 0px 1px 2px rgba(60, 64, 67, 0.3), 0px 1px 3px 1px rgba(60, 64, 67, 0.15);\n",
              "      fill: #174EA6;\n",
              "    }\n",
              "\n",
              "    [theme=dark] .colab-df-convert {\n",
              "      background-color: #3B4455;\n",
              "      fill: #D2E3FC;\n",
              "    }\n",
              "\n",
              "    [theme=dark] .colab-df-convert:hover {\n",
              "      background-color: #434B5C;\n",
              "      box-shadow: 0px 1px 3px 1px rgba(0, 0, 0, 0.15);\n",
              "      filter: drop-shadow(0px 1px 2px rgba(0, 0, 0, 0.3));\n",
              "      fill: #FFFFFF;\n",
              "    }\n",
              "  </style>\n",
              "\n",
              "      <script>\n",
              "        const buttonEl =\n",
              "          document.querySelector('#df-6c785068-f011-4027-b811-695053eea5d5 button.colab-df-convert');\n",
              "        buttonEl.style.display =\n",
              "          google.colab.kernel.accessAllowed ? 'block' : 'none';\n",
              "\n",
              "        async function convertToInteractive(key) {\n",
              "          const element = document.querySelector('#df-6c785068-f011-4027-b811-695053eea5d5');\n",
              "          const dataTable =\n",
              "            await google.colab.kernel.invokeFunction('convertToInteractive',\n",
              "                                                     [key], {});\n",
              "          if (!dataTable) return;\n",
              "\n",
              "          const docLinkHtml = 'Like what you see? Visit the ' +\n",
              "            '<a target=\"_blank\" href=https://colab.research.google.com/notebooks/data_table.ipynb>data table notebook</a>'\n",
              "            + ' to learn more about interactive tables.';\n",
              "          element.innerHTML = '';\n",
              "          dataTable['output_type'] = 'display_data';\n",
              "          await google.colab.output.renderOutput(dataTable, element);\n",
              "          const docLink = document.createElement('div');\n",
              "          docLink.innerHTML = docLinkHtml;\n",
              "          element.appendChild(docLink);\n",
              "        }\n",
              "      </script>\n",
              "    </div>\n",
              "  </div>\n",
              "  "
            ]
          },
          "metadata": {},
          "execution_count": 63
        }
      ]
    },
    {
      "cell_type": "code",
      "source": [
        "X_train_indexes = X_train.index\n",
        "X_train_emb = new_df.iloc[X_train_indexes, 11:]\n",
        "\n",
        "# Extract just the embedding data from test set\n",
        "X_test_indexes = X_test.index\n",
        "X_test_emb = new_df.iloc[X_test_indexes, 11:]\n",
        "\n",
        "X_train_emb.head()"
      ],
      "metadata": {
        "colab": {
          "base_uri": "https://localhost:8080/",
          "height": 297
        },
        "id": "_TNFpslXbc__",
        "outputId": "b0d03a77-a631-45d4-d8ec-e6647bd08e3d"
      },
      "execution_count": null,
      "outputs": [
        {
          "output_type": "execute_result",
          "data": {
            "text/plain": [
              "              0         1         2         3         4         5         6   \\\n",
              "91224  -0.372383  0.221127  0.418656 -0.075037  0.278601  0.282382 -0.179060   \n",
              "117728  0.016294 -0.113769  0.293257 -0.168054  0.222634  0.146599  0.070255   \n",
              "316017 -0.073500  0.113797  0.029153 -0.429477  0.063771  0.347380 -0.124431   \n",
              "7423    0.029224 -0.239776  0.132184  0.049248  0.145883  0.229183 -0.007984   \n",
              "201052 -0.046389 -0.126177  0.413811 -0.052786  0.227497  0.208976  0.116180   \n",
              "\n",
              "              7         8         9   ...        90        91        92  \\\n",
              "91224   0.063454 -0.416448  0.017981  ... -0.318357  0.059500 -0.174866   \n",
              "117728  0.014296 -0.186127  0.057335  ... -0.083942 -0.180034 -0.202958   \n",
              "316017  0.282229 -0.075735  0.068369  ...  0.054707 -0.032472 -0.121287   \n",
              "7423    0.014910 -0.091277 -0.008269  ...  0.064875 -0.315753 -0.039297   \n",
              "201052  0.549721  0.018257  0.237596  ...  0.318063 -0.234182 -0.218740   \n",
              "\n",
              "              93        94        95        96        97        98        99  \n",
              "91224   0.281088 -0.411315 -0.156737 -0.283365 -0.481805  0.567332  0.058942  \n",
              "117728  0.465693 -0.490053  0.123509 -0.455105 -0.099749  0.473420 -0.061285  \n",
              "316017  0.100465 -0.510452  0.222725 -0.246233 -0.182647  0.495054  0.045244  \n",
              "7423    0.541282 -0.457863  0.255201 -0.281852 -0.214106  0.434917 -0.177841  \n",
              "201052  0.573339 -0.420712  0.340783 -0.341281 -0.248862  0.539164 -0.111740  \n",
              "\n",
              "[5 rows x 100 columns]"
            ],
            "text/html": [
              "\n",
              "  <div id=\"df-875a5c6f-f1ae-430f-bbed-be54cf9bfe22\">\n",
              "    <div class=\"colab-df-container\">\n",
              "      <div>\n",
              "<style scoped>\n",
              "    .dataframe tbody tr th:only-of-type {\n",
              "        vertical-align: middle;\n",
              "    }\n",
              "\n",
              "    .dataframe tbody tr th {\n",
              "        vertical-align: top;\n",
              "    }\n",
              "\n",
              "    .dataframe thead th {\n",
              "        text-align: right;\n",
              "    }\n",
              "</style>\n",
              "<table border=\"1\" class=\"dataframe\">\n",
              "  <thead>\n",
              "    <tr style=\"text-align: right;\">\n",
              "      <th></th>\n",
              "      <th>0</th>\n",
              "      <th>1</th>\n",
              "      <th>2</th>\n",
              "      <th>3</th>\n",
              "      <th>4</th>\n",
              "      <th>5</th>\n",
              "      <th>6</th>\n",
              "      <th>7</th>\n",
              "      <th>8</th>\n",
              "      <th>9</th>\n",
              "      <th>...</th>\n",
              "      <th>90</th>\n",
              "      <th>91</th>\n",
              "      <th>92</th>\n",
              "      <th>93</th>\n",
              "      <th>94</th>\n",
              "      <th>95</th>\n",
              "      <th>96</th>\n",
              "      <th>97</th>\n",
              "      <th>98</th>\n",
              "      <th>99</th>\n",
              "    </tr>\n",
              "  </thead>\n",
              "  <tbody>\n",
              "    <tr>\n",
              "      <th>91224</th>\n",
              "      <td>-0.372383</td>\n",
              "      <td>0.221127</td>\n",
              "      <td>0.418656</td>\n",
              "      <td>-0.075037</td>\n",
              "      <td>0.278601</td>\n",
              "      <td>0.282382</td>\n",
              "      <td>-0.179060</td>\n",
              "      <td>0.063454</td>\n",
              "      <td>-0.416448</td>\n",
              "      <td>0.017981</td>\n",
              "      <td>...</td>\n",
              "      <td>-0.318357</td>\n",
              "      <td>0.059500</td>\n",
              "      <td>-0.174866</td>\n",
              "      <td>0.281088</td>\n",
              "      <td>-0.411315</td>\n",
              "      <td>-0.156737</td>\n",
              "      <td>-0.283365</td>\n",
              "      <td>-0.481805</td>\n",
              "      <td>0.567332</td>\n",
              "      <td>0.058942</td>\n",
              "    </tr>\n",
              "    <tr>\n",
              "      <th>117728</th>\n",
              "      <td>0.016294</td>\n",
              "      <td>-0.113769</td>\n",
              "      <td>0.293257</td>\n",
              "      <td>-0.168054</td>\n",
              "      <td>0.222634</td>\n",
              "      <td>0.146599</td>\n",
              "      <td>0.070255</td>\n",
              "      <td>0.014296</td>\n",
              "      <td>-0.186127</td>\n",
              "      <td>0.057335</td>\n",
              "      <td>...</td>\n",
              "      <td>-0.083942</td>\n",
              "      <td>-0.180034</td>\n",
              "      <td>-0.202958</td>\n",
              "      <td>0.465693</td>\n",
              "      <td>-0.490053</td>\n",
              "      <td>0.123509</td>\n",
              "      <td>-0.455105</td>\n",
              "      <td>-0.099749</td>\n",
              "      <td>0.473420</td>\n",
              "      <td>-0.061285</td>\n",
              "    </tr>\n",
              "    <tr>\n",
              "      <th>316017</th>\n",
              "      <td>-0.073500</td>\n",
              "      <td>0.113797</td>\n",
              "      <td>0.029153</td>\n",
              "      <td>-0.429477</td>\n",
              "      <td>0.063771</td>\n",
              "      <td>0.347380</td>\n",
              "      <td>-0.124431</td>\n",
              "      <td>0.282229</td>\n",
              "      <td>-0.075735</td>\n",
              "      <td>0.068369</td>\n",
              "      <td>...</td>\n",
              "      <td>0.054707</td>\n",
              "      <td>-0.032472</td>\n",
              "      <td>-0.121287</td>\n",
              "      <td>0.100465</td>\n",
              "      <td>-0.510452</td>\n",
              "      <td>0.222725</td>\n",
              "      <td>-0.246233</td>\n",
              "      <td>-0.182647</td>\n",
              "      <td>0.495054</td>\n",
              "      <td>0.045244</td>\n",
              "    </tr>\n",
              "    <tr>\n",
              "      <th>7423</th>\n",
              "      <td>0.029224</td>\n",
              "      <td>-0.239776</td>\n",
              "      <td>0.132184</td>\n",
              "      <td>0.049248</td>\n",
              "      <td>0.145883</td>\n",
              "      <td>0.229183</td>\n",
              "      <td>-0.007984</td>\n",
              "      <td>0.014910</td>\n",
              "      <td>-0.091277</td>\n",
              "      <td>-0.008269</td>\n",
              "      <td>...</td>\n",
              "      <td>0.064875</td>\n",
              "      <td>-0.315753</td>\n",
              "      <td>-0.039297</td>\n",
              "      <td>0.541282</td>\n",
              "      <td>-0.457863</td>\n",
              "      <td>0.255201</td>\n",
              "      <td>-0.281852</td>\n",
              "      <td>-0.214106</td>\n",
              "      <td>0.434917</td>\n",
              "      <td>-0.177841</td>\n",
              "    </tr>\n",
              "    <tr>\n",
              "      <th>201052</th>\n",
              "      <td>-0.046389</td>\n",
              "      <td>-0.126177</td>\n",
              "      <td>0.413811</td>\n",
              "      <td>-0.052786</td>\n",
              "      <td>0.227497</td>\n",
              "      <td>0.208976</td>\n",
              "      <td>0.116180</td>\n",
              "      <td>0.549721</td>\n",
              "      <td>0.018257</td>\n",
              "      <td>0.237596</td>\n",
              "      <td>...</td>\n",
              "      <td>0.318063</td>\n",
              "      <td>-0.234182</td>\n",
              "      <td>-0.218740</td>\n",
              "      <td>0.573339</td>\n",
              "      <td>-0.420712</td>\n",
              "      <td>0.340783</td>\n",
              "      <td>-0.341281</td>\n",
              "      <td>-0.248862</td>\n",
              "      <td>0.539164</td>\n",
              "      <td>-0.111740</td>\n",
              "    </tr>\n",
              "  </tbody>\n",
              "</table>\n",
              "<p>5 rows × 100 columns</p>\n",
              "</div>\n",
              "      <button class=\"colab-df-convert\" onclick=\"convertToInteractive('df-875a5c6f-f1ae-430f-bbed-be54cf9bfe22')\"\n",
              "              title=\"Convert this dataframe to an interactive table.\"\n",
              "              style=\"display:none;\">\n",
              "        \n",
              "  <svg xmlns=\"http://www.w3.org/2000/svg\" height=\"24px\"viewBox=\"0 0 24 24\"\n",
              "       width=\"24px\">\n",
              "    <path d=\"M0 0h24v24H0V0z\" fill=\"none\"/>\n",
              "    <path d=\"M18.56 5.44l.94 2.06.94-2.06 2.06-.94-2.06-.94-.94-2.06-.94 2.06-2.06.94zm-11 1L8.5 8.5l.94-2.06 2.06-.94-2.06-.94L8.5 2.5l-.94 2.06-2.06.94zm10 10l.94 2.06.94-2.06 2.06-.94-2.06-.94-.94-2.06-.94 2.06-2.06.94z\"/><path d=\"M17.41 7.96l-1.37-1.37c-.4-.4-.92-.59-1.43-.59-.52 0-1.04.2-1.43.59L10.3 9.45l-7.72 7.72c-.78.78-.78 2.05 0 2.83L4 21.41c.39.39.9.59 1.41.59.51 0 1.02-.2 1.41-.59l7.78-7.78 2.81-2.81c.8-.78.8-2.07 0-2.86zM5.41 20L4 18.59l7.72-7.72 1.47 1.35L5.41 20z\"/>\n",
              "  </svg>\n",
              "      </button>\n",
              "      \n",
              "  <style>\n",
              "    .colab-df-container {\n",
              "      display:flex;\n",
              "      flex-wrap:wrap;\n",
              "      gap: 12px;\n",
              "    }\n",
              "\n",
              "    .colab-df-convert {\n",
              "      background-color: #E8F0FE;\n",
              "      border: none;\n",
              "      border-radius: 50%;\n",
              "      cursor: pointer;\n",
              "      display: none;\n",
              "      fill: #1967D2;\n",
              "      height: 32px;\n",
              "      padding: 0 0 0 0;\n",
              "      width: 32px;\n",
              "    }\n",
              "\n",
              "    .colab-df-convert:hover {\n",
              "      background-color: #E2EBFA;\n",
              "      box-shadow: 0px 1px 2px rgba(60, 64, 67, 0.3), 0px 1px 3px 1px rgba(60, 64, 67, 0.15);\n",
              "      fill: #174EA6;\n",
              "    }\n",
              "\n",
              "    [theme=dark] .colab-df-convert {\n",
              "      background-color: #3B4455;\n",
              "      fill: #D2E3FC;\n",
              "    }\n",
              "\n",
              "    [theme=dark] .colab-df-convert:hover {\n",
              "      background-color: #434B5C;\n",
              "      box-shadow: 0px 1px 3px 1px rgba(0, 0, 0, 0.15);\n",
              "      filter: drop-shadow(0px 1px 2px rgba(0, 0, 0, 0.3));\n",
              "      fill: #FFFFFF;\n",
              "    }\n",
              "  </style>\n",
              "\n",
              "      <script>\n",
              "        const buttonEl =\n",
              "          document.querySelector('#df-875a5c6f-f1ae-430f-bbed-be54cf9bfe22 button.colab-df-convert');\n",
              "        buttonEl.style.display =\n",
              "          google.colab.kernel.accessAllowed ? 'block' : 'none';\n",
              "\n",
              "        async function convertToInteractive(key) {\n",
              "          const element = document.querySelector('#df-875a5c6f-f1ae-430f-bbed-be54cf9bfe22');\n",
              "          const dataTable =\n",
              "            await google.colab.kernel.invokeFunction('convertToInteractive',\n",
              "                                                     [key], {});\n",
              "          if (!dataTable) return;\n",
              "\n",
              "          const docLinkHtml = 'Like what you see? Visit the ' +\n",
              "            '<a target=\"_blank\" href=https://colab.research.google.com/notebooks/data_table.ipynb>data table notebook</a>'\n",
              "            + ' to learn more about interactive tables.';\n",
              "          element.innerHTML = '';\n",
              "          dataTable['output_type'] = 'display_data';\n",
              "          await google.colab.output.renderOutput(dataTable, element);\n",
              "          const docLink = document.createElement('div');\n",
              "          docLink.innerHTML = docLinkHtml;\n",
              "          element.appendChild(docLink);\n",
              "        }\n",
              "      </script>\n",
              "    </div>\n",
              "  </div>\n",
              "  "
            ]
          },
          "metadata": {},
          "execution_count": 64
        }
      ]
    },
    {
      "cell_type": "code",
      "source": [
        "embed_pipeline = Pipeline([('scaler', StandardScaler()),\n",
        "                          ('clf',DummyClassifier())\n",
        "                         ])\n",
        "\n",
        "\n",
        "\n",
        "grid_dc_emb_f1 = (GridSearchCV(embed_pipeline,\n",
        "                                 param_grid=parameters,\n",
        "                                 scoring='f1',\n",
        "                                 n_jobs=-1, \n",
        "                                 cv=3).fit(X_train_emb,y_train))"
      ],
      "metadata": {
        "id": "QKcjGNUZudEi"
      },
      "execution_count": null,
      "outputs": []
    },
    {
      "cell_type": "code",
      "source": [
        "grid_dc_emb_f1.best_params_"
      ],
      "metadata": {
        "id": "Q-IAil96us9Q",
        "outputId": "8e1f2b61-45d1-46a0-fc2e-521a27c884bc",
        "colab": {
          "base_uri": "https://localhost:8080/"
        }
      },
      "execution_count": null,
      "outputs": [
        {
          "output_type": "execute_result",
          "data": {
            "text/plain": [
              "{'clf__strategy': 'most_frequent'}"
            ]
          },
          "metadata": {},
          "execution_count": 66
        }
      ]
    },
    {
      "cell_type": "code",
      "source": [
        "model_name = 'embedding DC most_freq'\n",
        "# X_test_emb_mm = scaler.transform(X_test_emb)\n",
        "compute_metrics(grid_dc_emb_f1.best_estimator_,\n",
        "                model_name,\n",
        "                X_train_emb,\n",
        "                y_train,\n",
        "                X_test_emb,\n",
        "                y_test)"
      ],
      "metadata": {
        "id": "wDl9u9d3uxKB"
      },
      "execution_count": null,
      "outputs": []
    },
    {
      "cell_type": "code",
      "source": [],
      "metadata": {
        "id": "t3kaEjEKchUD"
      },
      "execution_count": null,
      "outputs": []
    },
    {
      "cell_type": "code",
      "source": [
        "dc_emb = DummyClassifier(strategy='most_frequent').fit(X_train_emb_std, y_train)\n",
        "print(dc_emb.score(X_train_emb_std, y_train))"
      ],
      "metadata": {
        "colab": {
          "base_uri": "https://localhost:8080/"
        },
        "id": "vdXaHF0B6NTm",
        "outputId": "f5aef032-a0d1-497b-e700-af005719c111"
      },
      "execution_count": null,
      "outputs": [
        {
          "output_type": "stream",
          "name": "stdout",
          "text": [
            "0.5189033099771687\n"
          ]
        }
      ]
    },
    {
      "cell_type": "code",
      "source": [
        "grid_dc_emb_acc = GridSearchCV(DummyClassifier(), param_grid=param_grid)\n",
        "grid_dc_emb_acc.fit(X_train_emb_std,y_train)"
      ],
      "metadata": {
        "colab": {
          "base_uri": "https://localhost:8080/"
        },
        "id": "Fp99G5ugfMWz",
        "outputId": "abfe7d64-faae-4178-9d73-067d8982736b"
      },
      "execution_count": null,
      "outputs": [
        {
          "output_type": "execute_result",
          "data": {
            "text/plain": [
              "GridSearchCV(estimator=DummyClassifier(),\n",
              "             param_grid={'strategy': ['most_frequent', 'prior', 'stratified',\n",
              "                                      'uniform']})"
            ]
          },
          "metadata": {},
          "execution_count": 113
        }
      ]
    },
    {
      "cell_type": "markdown",
      "source": [
        "**Sentence Embeddings + Mads Features**"
      ],
      "metadata": {
        "id": "PsbRfkgFvElV"
      }
    },
    {
      "cell_type": "code",
      "source": [
        "import warnings\n",
        "warnings.filterwarnings(\"ignore\")\n",
        "from sklearn.preprocessing import StandardScaler, Normalizer"
      ],
      "metadata": {
        "id": "1vgVziWbvgPc"
      },
      "execution_count": null,
      "outputs": []
    },
    {
      "cell_type": "code",
      "source": [
        "X_train_emb_mads = new_df.iloc[X_train.index].copy()\n",
        "X_test_emb_mads = new_df.iloc[X_test.index].copy()\n",
        "\n",
        "X_train_emb_mads.drop(['original_text','lemmatized_text','label'],inplace=True,axis=1)\n",
        "X_test_emb_mads.drop(['original_text','lemmatized_text','label'],inplace=True,axis=1)"
      ],
      "metadata": {
        "id": "-QxsxTRrvmEG"
      },
      "execution_count": null,
      "outputs": []
    },
    {
      "cell_type": "code",
      "source": [
        "mads_pipe = Pipeline([\n",
        "              ('impute_mean',SimpleImputer(strategy='mean')),\n",
        "              ])\n",
        "\n",
        "preprocessor = ColumnTransformer(transformers=[\n",
        "    ('mads',mads_pipe,cols)\n",
        "    ])\n",
        "\n",
        "\n",
        "              \n",
        "pipeline = Pipeline([('preprocessor', preprocessor),\n",
        "                     ('scaler',StandardScaler()),\n",
        "                     ('clf', DummyClassifier())  # classifier\n",
        "                     ])"
      ],
      "metadata": {
        "id": "1RI1u3Twvo3C"
      },
      "execution_count": null,
      "outputs": []
    },
    {
      "cell_type": "code",
      "source": [
        "grid_dc_embmads_f1 = GridSearchCV(pipeline,\n",
        "                                    param_grid=parameters,\n",
        "                                    scoring='f1',\n",
        "                                    n_jobs=-1,\n",
        "                                    cv=3)\n",
        "grid_dc_embmads_f1.fit(X_train_emb_mads,y_train)"
      ],
      "metadata": {
        "id": "9I07Xgefv0Nj",
        "outputId": "c48f6817-6b1b-49f5-812a-53206ee85eb4",
        "colab": {
          "base_uri": "https://localhost:8080/"
        }
      },
      "execution_count": null,
      "outputs": [
        {
          "output_type": "execute_result",
          "data": {
            "text/plain": [
              "GridSearchCV(cv=3,\n",
              "             estimator=Pipeline(steps=[('preprocessor',\n",
              "                                        ColumnTransformer(transformers=[('mads',\n",
              "                                                                         Pipeline(steps=[('impute_mean',\n",
              "                                                                                          SimpleImputer())]),\n",
              "                                                                         ['d_chall_score',\n",
              "                                                                          'aoa_mean',\n",
              "                                                                          'aoa_min',\n",
              "                                                                          'aoa_max',\n",
              "                                                                          'conc_rating_mean',\n",
              "                                                                          'conc_rating_min',\n",
              "                                                                          'conc_rating_max',\n",
              "                                                                          'num_lemmas'])])),\n",
              "                                       ('scaler', StandardScaler()),\n",
              "                                       ('clf', DummyClassifier())]),\n",
              "             n_jobs=-1,\n",
              "             param_grid={'clf__strategy': ['most_frequent', 'prior',\n",
              "                                           'stratified', 'uniform']},\n",
              "             scoring='f1')"
            ]
          },
          "metadata": {},
          "execution_count": 71
        }
      ]
    },
    {
      "cell_type": "code",
      "source": [
        "grid_dc_embmads_f1.best_params_"
      ],
      "metadata": {
        "id": "vAvAh6D6wfOH",
        "outputId": "ab0af161-f3e7-4345-a1d2-bf3577d79a21",
        "colab": {
          "base_uri": "https://localhost:8080/"
        }
      },
      "execution_count": null,
      "outputs": [
        {
          "output_type": "execute_result",
          "data": {
            "text/plain": [
              "{'clf__strategy': 'most_frequent'}"
            ]
          },
          "metadata": {},
          "execution_count": 72
        }
      ]
    },
    {
      "cell_type": "code",
      "source": [
        "model_name += 'emb + Mads dc most_freq'\n",
        "compute_metrics(grid_dc_embmads_f1.best_estimator_,\n",
        "                model_name,\n",
        "                X_train_emb_mads,y_train, X_test_emb_mads, y_test)"
      ],
      "metadata": {
        "id": "iPHC1EyMwahW"
      },
      "execution_count": null,
      "outputs": []
    },
    {
      "cell_type": "code",
      "source": [
        "grid_dc_embmads_acc = GridSearchCV(DummyClassifier(), param_grid=param_grid)\n",
        "grid_dc_embmads_acc.fit(X_train_emb_mads,y_train)"
      ],
      "metadata": {
        "colab": {
          "base_uri": "https://localhost:8080/"
        },
        "id": "QdHkacXblg14",
        "outputId": "f6bb666b-f21c-446a-90da-da7356a07df1"
      },
      "execution_count": null,
      "outputs": [
        {
          "output_type": "execute_result",
          "data": {
            "text/plain": [
              "GridSearchCV(estimator=DummyClassifier(),\n",
              "             param_grid={'strategy': ['most_frequent', 'prior', 'stratified',\n",
              "                                      'uniform']})"
            ]
          },
          "metadata": {},
          "execution_count": 119
        }
      ]
    },
    {
      "cell_type": "code",
      "source": [
        "grid_dc_embmads_acc.best_params_"
      ],
      "metadata": {
        "colab": {
          "base_uri": "https://localhost:8080/"
        },
        "id": "Y7Gh6Q2Zl4hI",
        "outputId": "0461a2c4-fb28-4205-f56b-00ddb891c946"
      },
      "execution_count": null,
      "outputs": [
        {
          "output_type": "execute_result",
          "data": {
            "text/plain": [
              "{'strategy': 'most_frequent'}"
            ]
          },
          "metadata": {},
          "execution_count": 120
        }
      ]
    },
    {
      "cell_type": "code",
      "source": [
        "X_test_emb_mads = np.hstack((X_test_emb_std,\n",
        "                     X_test_mads_features_std))\n",
        "\n",
        "model_name = 'embedding + Mads most_freq'\n",
        "compute_metrics(grid_dc_embmads_acc.best_estimator_,\n",
        "                model_name,\n",
        "                X_test_emb_mads,\n",
        "                y_test)"
      ],
      "metadata": {
        "id": "iAAy1f3Gm8yV"
      },
      "execution_count": null,
      "outputs": []
    },
    {
      "cell_type": "code",
      "source": [
        "metrics = pd.DataFrame(metrics_df)"
      ],
      "metadata": {
        "id": "K8p7vIRgsSTp"
      },
      "execution_count": null,
      "outputs": []
    },
    {
      "cell_type": "code",
      "source": [
        "metrics"
      ],
      "metadata": {
        "colab": {
          "base_uri": "https://localhost:8080/",
          "height": 438
        },
        "id": "CJuxLfjbUaUf",
        "outputId": "b6ec65cb-ea40-4e78-c529-92b0e6a4dd47"
      },
      "execution_count": null,
      "outputs": [
        {
          "output_type": "execute_result",
          "data": {
            "text/plain": [
              "                                      model_name  \\\n",
              "0                  Tf-idf DC most_freq min_df 25   \n",
              "1                      MADS DC most_freq stdsclr   \n",
              "2                     Tf-idf + Mads DC most freq   \n",
              "3                         embedding DC most_freq   \n",
              "4  embedding DC most_freqemb + Mads dc most_freq   \n",
              "\n",
              "                                      model_instance  train_accuracy  \\\n",
              "0  (TfidfVectorizer(min_df=25, ngram_range=(1, 2)...        0.518903   \n",
              "1  (SimpleImputer(), StandardScaler(), DummyClass...        0.518903   \n",
              "2  (ColumnTransformer(transformers=[('mads',\\n   ...        0.518903   \n",
              "3  (StandardScaler(), DummyClassifier(strategy='m...        0.518903   \n",
              "4  (ColumnTransformer(transformers=[('mads',\\n   ...        0.518903   \n",
              "\n",
              "   train_precision  train_recall  train_aucprc  train_aucroc  test_accuracy  \\\n",
              "0         0.518903           1.0      0.759452           0.5       0.518916   \n",
              "1         0.518903           1.0      0.759452           0.5       0.518916   \n",
              "2         0.518903           1.0      0.759452           0.5       0.518916   \n",
              "3         0.518903           1.0      0.759452           0.5       0.518916   \n",
              "4         0.518903           1.0      0.759452           0.5       0.518916   \n",
              "\n",
              "   test_precision  test_recall  test_aucprc  test_aucroc  \n",
              "0        0.518916          1.0     0.759458          0.5  \n",
              "1        0.518916          1.0     0.759458          0.5  \n",
              "2        0.518916          1.0     0.759458          0.5  \n",
              "3        0.518916          1.0     0.759458          0.5  \n",
              "4        0.518916          1.0     0.759458          0.5  "
            ],
            "text/html": [
              "\n",
              "  <div id=\"df-3fd51264-aaa1-46dc-8a78-f26991632831\">\n",
              "    <div class=\"colab-df-container\">\n",
              "      <div>\n",
              "<style scoped>\n",
              "    .dataframe tbody tr th:only-of-type {\n",
              "        vertical-align: middle;\n",
              "    }\n",
              "\n",
              "    .dataframe tbody tr th {\n",
              "        vertical-align: top;\n",
              "    }\n",
              "\n",
              "    .dataframe thead th {\n",
              "        text-align: right;\n",
              "    }\n",
              "</style>\n",
              "<table border=\"1\" class=\"dataframe\">\n",
              "  <thead>\n",
              "    <tr style=\"text-align: right;\">\n",
              "      <th></th>\n",
              "      <th>model_name</th>\n",
              "      <th>model_instance</th>\n",
              "      <th>train_accuracy</th>\n",
              "      <th>train_precision</th>\n",
              "      <th>train_recall</th>\n",
              "      <th>train_aucprc</th>\n",
              "      <th>train_aucroc</th>\n",
              "      <th>test_accuracy</th>\n",
              "      <th>test_precision</th>\n",
              "      <th>test_recall</th>\n",
              "      <th>test_aucprc</th>\n",
              "      <th>test_aucroc</th>\n",
              "    </tr>\n",
              "  </thead>\n",
              "  <tbody>\n",
              "    <tr>\n",
              "      <th>0</th>\n",
              "      <td>Tf-idf DC most_freq min_df 25</td>\n",
              "      <td>(TfidfVectorizer(min_df=25, ngram_range=(1, 2)...</td>\n",
              "      <td>0.518903</td>\n",
              "      <td>0.518903</td>\n",
              "      <td>1.0</td>\n",
              "      <td>0.759452</td>\n",
              "      <td>0.5</td>\n",
              "      <td>0.518916</td>\n",
              "      <td>0.518916</td>\n",
              "      <td>1.0</td>\n",
              "      <td>0.759458</td>\n",
              "      <td>0.5</td>\n",
              "    </tr>\n",
              "    <tr>\n",
              "      <th>1</th>\n",
              "      <td>MADS DC most_freq stdsclr</td>\n",
              "      <td>(SimpleImputer(), StandardScaler(), DummyClass...</td>\n",
              "      <td>0.518903</td>\n",
              "      <td>0.518903</td>\n",
              "      <td>1.0</td>\n",
              "      <td>0.759452</td>\n",
              "      <td>0.5</td>\n",
              "      <td>0.518916</td>\n",
              "      <td>0.518916</td>\n",
              "      <td>1.0</td>\n",
              "      <td>0.759458</td>\n",
              "      <td>0.5</td>\n",
              "    </tr>\n",
              "    <tr>\n",
              "      <th>2</th>\n",
              "      <td>Tf-idf + Mads DC most freq</td>\n",
              "      <td>(ColumnTransformer(transformers=[('mads',\\n   ...</td>\n",
              "      <td>0.518903</td>\n",
              "      <td>0.518903</td>\n",
              "      <td>1.0</td>\n",
              "      <td>0.759452</td>\n",
              "      <td>0.5</td>\n",
              "      <td>0.518916</td>\n",
              "      <td>0.518916</td>\n",
              "      <td>1.0</td>\n",
              "      <td>0.759458</td>\n",
              "      <td>0.5</td>\n",
              "    </tr>\n",
              "    <tr>\n",
              "      <th>3</th>\n",
              "      <td>embedding DC most_freq</td>\n",
              "      <td>(StandardScaler(), DummyClassifier(strategy='m...</td>\n",
              "      <td>0.518903</td>\n",
              "      <td>0.518903</td>\n",
              "      <td>1.0</td>\n",
              "      <td>0.759452</td>\n",
              "      <td>0.5</td>\n",
              "      <td>0.518916</td>\n",
              "      <td>0.518916</td>\n",
              "      <td>1.0</td>\n",
              "      <td>0.759458</td>\n",
              "      <td>0.5</td>\n",
              "    </tr>\n",
              "    <tr>\n",
              "      <th>4</th>\n",
              "      <td>embedding DC most_freqemb + Mads dc most_freq</td>\n",
              "      <td>(ColumnTransformer(transformers=[('mads',\\n   ...</td>\n",
              "      <td>0.518903</td>\n",
              "      <td>0.518903</td>\n",
              "      <td>1.0</td>\n",
              "      <td>0.759452</td>\n",
              "      <td>0.5</td>\n",
              "      <td>0.518916</td>\n",
              "      <td>0.518916</td>\n",
              "      <td>1.0</td>\n",
              "      <td>0.759458</td>\n",
              "      <td>0.5</td>\n",
              "    </tr>\n",
              "  </tbody>\n",
              "</table>\n",
              "</div>\n",
              "      <button class=\"colab-df-convert\" onclick=\"convertToInteractive('df-3fd51264-aaa1-46dc-8a78-f26991632831')\"\n",
              "              title=\"Convert this dataframe to an interactive table.\"\n",
              "              style=\"display:none;\">\n",
              "        \n",
              "  <svg xmlns=\"http://www.w3.org/2000/svg\" height=\"24px\"viewBox=\"0 0 24 24\"\n",
              "       width=\"24px\">\n",
              "    <path d=\"M0 0h24v24H0V0z\" fill=\"none\"/>\n",
              "    <path d=\"M18.56 5.44l.94 2.06.94-2.06 2.06-.94-2.06-.94-.94-2.06-.94 2.06-2.06.94zm-11 1L8.5 8.5l.94-2.06 2.06-.94-2.06-.94L8.5 2.5l-.94 2.06-2.06.94zm10 10l.94 2.06.94-2.06 2.06-.94-2.06-.94-.94-2.06-.94 2.06-2.06.94z\"/><path d=\"M17.41 7.96l-1.37-1.37c-.4-.4-.92-.59-1.43-.59-.52 0-1.04.2-1.43.59L10.3 9.45l-7.72 7.72c-.78.78-.78 2.05 0 2.83L4 21.41c.39.39.9.59 1.41.59.51 0 1.02-.2 1.41-.59l7.78-7.78 2.81-2.81c.8-.78.8-2.07 0-2.86zM5.41 20L4 18.59l7.72-7.72 1.47 1.35L5.41 20z\"/>\n",
              "  </svg>\n",
              "      </button>\n",
              "      \n",
              "  <style>\n",
              "    .colab-df-container {\n",
              "      display:flex;\n",
              "      flex-wrap:wrap;\n",
              "      gap: 12px;\n",
              "    }\n",
              "\n",
              "    .colab-df-convert {\n",
              "      background-color: #E8F0FE;\n",
              "      border: none;\n",
              "      border-radius: 50%;\n",
              "      cursor: pointer;\n",
              "      display: none;\n",
              "      fill: #1967D2;\n",
              "      height: 32px;\n",
              "      padding: 0 0 0 0;\n",
              "      width: 32px;\n",
              "    }\n",
              "\n",
              "    .colab-df-convert:hover {\n",
              "      background-color: #E2EBFA;\n",
              "      box-shadow: 0px 1px 2px rgba(60, 64, 67, 0.3), 0px 1px 3px 1px rgba(60, 64, 67, 0.15);\n",
              "      fill: #174EA6;\n",
              "    }\n",
              "\n",
              "    [theme=dark] .colab-df-convert {\n",
              "      background-color: #3B4455;\n",
              "      fill: #D2E3FC;\n",
              "    }\n",
              "\n",
              "    [theme=dark] .colab-df-convert:hover {\n",
              "      background-color: #434B5C;\n",
              "      box-shadow: 0px 1px 3px 1px rgba(0, 0, 0, 0.15);\n",
              "      filter: drop-shadow(0px 1px 2px rgba(0, 0, 0, 0.3));\n",
              "      fill: #FFFFFF;\n",
              "    }\n",
              "  </style>\n",
              "\n",
              "      <script>\n",
              "        const buttonEl =\n",
              "          document.querySelector('#df-3fd51264-aaa1-46dc-8a78-f26991632831 button.colab-df-convert');\n",
              "        buttonEl.style.display =\n",
              "          google.colab.kernel.accessAllowed ? 'block' : 'none';\n",
              "\n",
              "        async function convertToInteractive(key) {\n",
              "          const element = document.querySelector('#df-3fd51264-aaa1-46dc-8a78-f26991632831');\n",
              "          const dataTable =\n",
              "            await google.colab.kernel.invokeFunction('convertToInteractive',\n",
              "                                                     [key], {});\n",
              "          if (!dataTable) return;\n",
              "\n",
              "          const docLinkHtml = 'Like what you see? Visit the ' +\n",
              "            '<a target=\"_blank\" href=https://colab.research.google.com/notebooks/data_table.ipynb>data table notebook</a>'\n",
              "            + ' to learn more about interactive tables.';\n",
              "          element.innerHTML = '';\n",
              "          dataTable['output_type'] = 'display_data';\n",
              "          await google.colab.output.renderOutput(dataTable, element);\n",
              "          const docLink = document.createElement('div');\n",
              "          docLink.innerHTML = docLinkHtml;\n",
              "          element.appendChild(docLink);\n",
              "        }\n",
              "      </script>\n",
              "    </div>\n",
              "  </div>\n",
              "  "
            ]
          },
          "metadata": {},
          "execution_count": 75
        }
      ]
    },
    {
      "cell_type": "code",
      "source": [
        "import pickle"
      ],
      "metadata": {
        "id": "4w_h5R8VUbAg"
      },
      "execution_count": null,
      "outputs": []
    },
    {
      "cell_type": "code",
      "source": [
        "best_model = metrics.iloc[0]['model_instance']"
      ],
      "metadata": {
        "id": "Kou5QVVxEUh4"
      },
      "execution_count": null,
      "outputs": []
    },
    {
      "cell_type": "code",
      "source": [
        "f = open('drive/Shareddrives/Milestone 2/dummy_clf_model.pkl','wb')\n",
        "pickle.dump(best_model,f)"
      ],
      "metadata": {
        "id": "e_8x7wMzEpIP"
      },
      "execution_count": null,
      "outputs": []
    },
    {
      "cell_type": "code",
      "source": [],
      "metadata": {
        "id": "TlcMjfV3Eq-u"
      },
      "execution_count": null,
      "outputs": []
    }
  ]
}