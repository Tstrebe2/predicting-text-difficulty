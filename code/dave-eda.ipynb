{
  "nbformat": 4,
  "nbformat_minor": 0,
  "metadata": {
    "colab": {
      "provenance": [],
      "authorship_tag": "ABX9TyOPxZFEp0uHM7lseqF+k0Pj",
      "include_colab_link": true
    },
    "kernelspec": {
      "name": "python3",
      "display_name": "Python 3"
    },
    "language_info": {
      "name": "python"
    }
  },
  "cells": [
    {
      "cell_type": "markdown",
      "metadata": {
        "id": "view-in-github",
        "colab_type": "text"
      },
      "source": [
        "<a href=\"https://colab.research.google.com/github/Tstrebe2/predicting-text-difficulty/blob/dave-updates/code/dave-eda.ipynb\" target=\"_parent\"><img src=\"https://colab.research.google.com/assets/colab-badge.svg\" alt=\"Open In Colab\"/></a>"
      ]
    },
    {
      "cell_type": "code",
      "execution_count": 22,
      "metadata": {
        "id": "v39OENqU7Nqa"
      },
      "outputs": [],
      "source": [
        "import pandas as pd\n",
        "import numpy as np\n",
        "from sklearn.feature_selection import mutual_info_classif\n",
        "\n",
        "from sklearn.feature_extraction.text import TfidfVectorizer\n",
        "from sklearn.ensemble import RandomForestClassifier\n",
        "from sklearn.naive_bayes import MultinomialNB\n",
        "\n",
        "import nltk\n",
        "import collections"
      ]
    },
    {
      "cell_type": "code",
      "source": [
        "from google.colab import drive\n",
        "drive.mount('/content/drive', force_remount=True)"
      ],
      "metadata": {
        "id": "GOheoycR2loE",
        "outputId": "ae9e87b0-203e-4261-ec95-e73cc9bc77b6",
        "colab": {
          "base_uri": "https://localhost:8080/"
        }
      },
      "execution_count": 3,
      "outputs": [
        {
          "output_type": "stream",
          "name": "stdout",
          "text": [
            "Mounted at /content/drive\n"
          ]
        }
      ]
    },
    {
      "cell_type": "code",
      "source": [
        "train_df = pd.read_csv('/content/drive/MyDrive/696/processed.csv')"
      ],
      "metadata": {
        "id": "xPq3eVEs7PxE"
      },
      "execution_count": 4,
      "outputs": []
    },
    {
      "cell_type": "code",
      "source": [
        "train_df = train_df[['original_text','processed_text','label']]\n",
        "train_df['processed_text'] = train_df['processed_text'].astype('U')"
      ],
      "metadata": {
        "id": "yzjXIKjy2VFX"
      },
      "execution_count": 5,
      "outputs": []
    },
    {
      "cell_type": "code",
      "source": [],
      "metadata": {
        "id": "rCdyPXozCSIo",
        "outputId": "dcdc6054-7067-449a-8a8e-ffb269ede5a5",
        "colab": {
          "base_uri": "https://localhost:8080/",
          "height": 204
        }
      },
      "execution_count": 79,
      "outputs": [
        {
          "output_type": "execute_result",
          "data": {
            "text/plain": [
              "                                       original_text  \\\n",
              "0  There is manuscript evidence that Austen conti...   \n",
              "1  In a remarkable comparative analysis , Mandaea...   \n",
              "2  Before Persephone was released to Hermes , who...   \n",
              "3  Cogeneration plants are commonly found in dist...   \n",
              "4  Geneva -LRB- , ; , ; , ; ; -RRB- is the second...   \n",
              "\n",
              "                                      processed_text  label  \n",
              "0  there is manuscript evidence that austen conti...      1  \n",
              "1  in a remarkable comparative analysis  mandaean...      1  \n",
              "2  before persephone was released to hermes  who ...      1  \n",
              "3  cogeneration plants are commonly found in dist...      1  \n",
              "4  geneva          is the second-most-populous ci...      1  "
            ],
            "text/html": [
              "\n",
              "  <div id=\"df-0c47829f-ba79-4edd-8367-c44e3aae7c22\">\n",
              "    <div class=\"colab-df-container\">\n",
              "      <div>\n",
              "<style scoped>\n",
              "    .dataframe tbody tr th:only-of-type {\n",
              "        vertical-align: middle;\n",
              "    }\n",
              "\n",
              "    .dataframe tbody tr th {\n",
              "        vertical-align: top;\n",
              "    }\n",
              "\n",
              "    .dataframe thead th {\n",
              "        text-align: right;\n",
              "    }\n",
              "</style>\n",
              "<table border=\"1\" class=\"dataframe\">\n",
              "  <thead>\n",
              "    <tr style=\"text-align: right;\">\n",
              "      <th></th>\n",
              "      <th>original_text</th>\n",
              "      <th>processed_text</th>\n",
              "      <th>label</th>\n",
              "    </tr>\n",
              "  </thead>\n",
              "  <tbody>\n",
              "    <tr>\n",
              "      <th>0</th>\n",
              "      <td>There is manuscript evidence that Austen conti...</td>\n",
              "      <td>there is manuscript evidence that austen conti...</td>\n",
              "      <td>1</td>\n",
              "    </tr>\n",
              "    <tr>\n",
              "      <th>1</th>\n",
              "      <td>In a remarkable comparative analysis , Mandaea...</td>\n",
              "      <td>in a remarkable comparative analysis  mandaean...</td>\n",
              "      <td>1</td>\n",
              "    </tr>\n",
              "    <tr>\n",
              "      <th>2</th>\n",
              "      <td>Before Persephone was released to Hermes , who...</td>\n",
              "      <td>before persephone was released to hermes  who ...</td>\n",
              "      <td>1</td>\n",
              "    </tr>\n",
              "    <tr>\n",
              "      <th>3</th>\n",
              "      <td>Cogeneration plants are commonly found in dist...</td>\n",
              "      <td>cogeneration plants are commonly found in dist...</td>\n",
              "      <td>1</td>\n",
              "    </tr>\n",
              "    <tr>\n",
              "      <th>4</th>\n",
              "      <td>Geneva -LRB- , ; , ; , ; ; -RRB- is the second...</td>\n",
              "      <td>geneva          is the second-most-populous ci...</td>\n",
              "      <td>1</td>\n",
              "    </tr>\n",
              "  </tbody>\n",
              "</table>\n",
              "</div>\n",
              "      <button class=\"colab-df-convert\" onclick=\"convertToInteractive('df-0c47829f-ba79-4edd-8367-c44e3aae7c22')\"\n",
              "              title=\"Convert this dataframe to an interactive table.\"\n",
              "              style=\"display:none;\">\n",
              "        \n",
              "  <svg xmlns=\"http://www.w3.org/2000/svg\" height=\"24px\"viewBox=\"0 0 24 24\"\n",
              "       width=\"24px\">\n",
              "    <path d=\"M0 0h24v24H0V0z\" fill=\"none\"/>\n",
              "    <path d=\"M18.56 5.44l.94 2.06.94-2.06 2.06-.94-2.06-.94-.94-2.06-.94 2.06-2.06.94zm-11 1L8.5 8.5l.94-2.06 2.06-.94-2.06-.94L8.5 2.5l-.94 2.06-2.06.94zm10 10l.94 2.06.94-2.06 2.06-.94-2.06-.94-.94-2.06-.94 2.06-2.06.94z\"/><path d=\"M17.41 7.96l-1.37-1.37c-.4-.4-.92-.59-1.43-.59-.52 0-1.04.2-1.43.59L10.3 9.45l-7.72 7.72c-.78.78-.78 2.05 0 2.83L4 21.41c.39.39.9.59 1.41.59.51 0 1.02-.2 1.41-.59l7.78-7.78 2.81-2.81c.8-.78.8-2.07 0-2.86zM5.41 20L4 18.59l7.72-7.72 1.47 1.35L5.41 20z\"/>\n",
              "  </svg>\n",
              "      </button>\n",
              "      \n",
              "  <style>\n",
              "    .colab-df-container {\n",
              "      display:flex;\n",
              "      flex-wrap:wrap;\n",
              "      gap: 12px;\n",
              "    }\n",
              "\n",
              "    .colab-df-convert {\n",
              "      background-color: #E8F0FE;\n",
              "      border: none;\n",
              "      border-radius: 50%;\n",
              "      cursor: pointer;\n",
              "      display: none;\n",
              "      fill: #1967D2;\n",
              "      height: 32px;\n",
              "      padding: 0 0 0 0;\n",
              "      width: 32px;\n",
              "    }\n",
              "\n",
              "    .colab-df-convert:hover {\n",
              "      background-color: #E2EBFA;\n",
              "      box-shadow: 0px 1px 2px rgba(60, 64, 67, 0.3), 0px 1px 3px 1px rgba(60, 64, 67, 0.15);\n",
              "      fill: #174EA6;\n",
              "    }\n",
              "\n",
              "    [theme=dark] .colab-df-convert {\n",
              "      background-color: #3B4455;\n",
              "      fill: #D2E3FC;\n",
              "    }\n",
              "\n",
              "    [theme=dark] .colab-df-convert:hover {\n",
              "      background-color: #434B5C;\n",
              "      box-shadow: 0px 1px 3px 1px rgba(0, 0, 0, 0.15);\n",
              "      filter: drop-shadow(0px 1px 2px rgba(0, 0, 0, 0.3));\n",
              "      fill: #FFFFFF;\n",
              "    }\n",
              "  </style>\n",
              "\n",
              "      <script>\n",
              "        const buttonEl =\n",
              "          document.querySelector('#df-0c47829f-ba79-4edd-8367-c44e3aae7c22 button.colab-df-convert');\n",
              "        buttonEl.style.display =\n",
              "          google.colab.kernel.accessAllowed ? 'block' : 'none';\n",
              "\n",
              "        async function convertToInteractive(key) {\n",
              "          const element = document.querySelector('#df-0c47829f-ba79-4edd-8367-c44e3aae7c22');\n",
              "          const dataTable =\n",
              "            await google.colab.kernel.invokeFunction('convertToInteractive',\n",
              "                                                     [key], {});\n",
              "          if (!dataTable) return;\n",
              "\n",
              "          const docLinkHtml = 'Like what you see? Visit the ' +\n",
              "            '<a target=\"_blank\" href=https://colab.research.google.com/notebooks/data_table.ipynb>data table notebook</a>'\n",
              "            + ' to learn more about interactive tables.';\n",
              "          element.innerHTML = '';\n",
              "          dataTable['output_type'] = 'display_data';\n",
              "          await google.colab.output.renderOutput(dataTable, element);\n",
              "          const docLink = document.createElement('div');\n",
              "          docLink.innerHTML = docLinkHtml;\n",
              "          element.appendChild(docLink);\n",
              "        }\n",
              "      </script>\n",
              "    </div>\n",
              "  </div>\n",
              "  "
            ]
          },
          "metadata": {},
          "execution_count": 79
        }
      ]
    },
    {
      "cell_type": "code",
      "source": [
        "easy_bigrams = collections.Counter()\n",
        "diff_bigrams = collections.Counter()"
      ],
      "metadata": {
        "id": "VHacl2wUApWK"
      },
      "execution_count": 6,
      "outputs": []
    },
    {
      "cell_type": "code",
      "source": [
        "train_df['token_text'] = train_df['processed_text'].apply(lambda x: [word for word in x.split() if word not in set(['','in','and','of','the','is','on','a'])] )\n",
        "train_df.head()"
      ],
      "metadata": {
        "id": "qzeQvpOIA2sg",
        "outputId": "deed52d7-5d9a-4f59-f44a-36daba26604d",
        "colab": {
          "base_uri": "https://localhost:8080/",
          "height": 204
        }
      },
      "execution_count": 7,
      "outputs": [
        {
          "output_type": "execute_result",
          "data": {
            "text/plain": [
              "                                       original_text  \\\n",
              "0  There is manuscript evidence that Austen conti...   \n",
              "1  In a remarkable comparative analysis , Mandaea...   \n",
              "2  Before Persephone was released to Hermes , who...   \n",
              "3  Cogeneration plants are commonly found in dist...   \n",
              "4  Geneva -LRB- , ; , ; , ; ; -RRB- is the second...   \n",
              "\n",
              "                                      processed_text  label  \\\n",
              "0  there is manuscript evidence that austen conti...      1   \n",
              "1  in a remarkable comparative analysis  mandaean...      1   \n",
              "2  before persephone was released to hermes  who ...      1   \n",
              "3  cogeneration plants are commonly found in dist...      1   \n",
              "4  geneva          is the second-most-populous ci...      1   \n",
              "\n",
              "                                          token_text  \n",
              "0  [there, manuscript, evidence, that, austen, co...  \n",
              "1  [remarkable, comparative, analysis, mandaean, ...  \n",
              "2  [before, persephone, was, released, to, hermes...  \n",
              "3  [cogeneration, plants, are, commonly, found, d...  \n",
              "4  [geneva, second-most-populous, city, switzerla...  "
            ],
            "text/html": [
              "\n",
              "  <div id=\"df-c1c30628-7d12-4403-b9f4-f3defab96a62\">\n",
              "    <div class=\"colab-df-container\">\n",
              "      <div>\n",
              "<style scoped>\n",
              "    .dataframe tbody tr th:only-of-type {\n",
              "        vertical-align: middle;\n",
              "    }\n",
              "\n",
              "    .dataframe tbody tr th {\n",
              "        vertical-align: top;\n",
              "    }\n",
              "\n",
              "    .dataframe thead th {\n",
              "        text-align: right;\n",
              "    }\n",
              "</style>\n",
              "<table border=\"1\" class=\"dataframe\">\n",
              "  <thead>\n",
              "    <tr style=\"text-align: right;\">\n",
              "      <th></th>\n",
              "      <th>original_text</th>\n",
              "      <th>processed_text</th>\n",
              "      <th>label</th>\n",
              "      <th>token_text</th>\n",
              "    </tr>\n",
              "  </thead>\n",
              "  <tbody>\n",
              "    <tr>\n",
              "      <th>0</th>\n",
              "      <td>There is manuscript evidence that Austen conti...</td>\n",
              "      <td>there is manuscript evidence that austen conti...</td>\n",
              "      <td>1</td>\n",
              "      <td>[there, manuscript, evidence, that, austen, co...</td>\n",
              "    </tr>\n",
              "    <tr>\n",
              "      <th>1</th>\n",
              "      <td>In a remarkable comparative analysis , Mandaea...</td>\n",
              "      <td>in a remarkable comparative analysis  mandaean...</td>\n",
              "      <td>1</td>\n",
              "      <td>[remarkable, comparative, analysis, mandaean, ...</td>\n",
              "    </tr>\n",
              "    <tr>\n",
              "      <th>2</th>\n",
              "      <td>Before Persephone was released to Hermes , who...</td>\n",
              "      <td>before persephone was released to hermes  who ...</td>\n",
              "      <td>1</td>\n",
              "      <td>[before, persephone, was, released, to, hermes...</td>\n",
              "    </tr>\n",
              "    <tr>\n",
              "      <th>3</th>\n",
              "      <td>Cogeneration plants are commonly found in dist...</td>\n",
              "      <td>cogeneration plants are commonly found in dist...</td>\n",
              "      <td>1</td>\n",
              "      <td>[cogeneration, plants, are, commonly, found, d...</td>\n",
              "    </tr>\n",
              "    <tr>\n",
              "      <th>4</th>\n",
              "      <td>Geneva -LRB- , ; , ; , ; ; -RRB- is the second...</td>\n",
              "      <td>geneva          is the second-most-populous ci...</td>\n",
              "      <td>1</td>\n",
              "      <td>[geneva, second-most-populous, city, switzerla...</td>\n",
              "    </tr>\n",
              "  </tbody>\n",
              "</table>\n",
              "</div>\n",
              "      <button class=\"colab-df-convert\" onclick=\"convertToInteractive('df-c1c30628-7d12-4403-b9f4-f3defab96a62')\"\n",
              "              title=\"Convert this dataframe to an interactive table.\"\n",
              "              style=\"display:none;\">\n",
              "        \n",
              "  <svg xmlns=\"http://www.w3.org/2000/svg\" height=\"24px\"viewBox=\"0 0 24 24\"\n",
              "       width=\"24px\">\n",
              "    <path d=\"M0 0h24v24H0V0z\" fill=\"none\"/>\n",
              "    <path d=\"M18.56 5.44l.94 2.06.94-2.06 2.06-.94-2.06-.94-.94-2.06-.94 2.06-2.06.94zm-11 1L8.5 8.5l.94-2.06 2.06-.94-2.06-.94L8.5 2.5l-.94 2.06-2.06.94zm10 10l.94 2.06.94-2.06 2.06-.94-2.06-.94-.94-2.06-.94 2.06-2.06.94z\"/><path d=\"M17.41 7.96l-1.37-1.37c-.4-.4-.92-.59-1.43-.59-.52 0-1.04.2-1.43.59L10.3 9.45l-7.72 7.72c-.78.78-.78 2.05 0 2.83L4 21.41c.39.39.9.59 1.41.59.51 0 1.02-.2 1.41-.59l7.78-7.78 2.81-2.81c.8-.78.8-2.07 0-2.86zM5.41 20L4 18.59l7.72-7.72 1.47 1.35L5.41 20z\"/>\n",
              "  </svg>\n",
              "      </button>\n",
              "      \n",
              "  <style>\n",
              "    .colab-df-container {\n",
              "      display:flex;\n",
              "      flex-wrap:wrap;\n",
              "      gap: 12px;\n",
              "    }\n",
              "\n",
              "    .colab-df-convert {\n",
              "      background-color: #E8F0FE;\n",
              "      border: none;\n",
              "      border-radius: 50%;\n",
              "      cursor: pointer;\n",
              "      display: none;\n",
              "      fill: #1967D2;\n",
              "      height: 32px;\n",
              "      padding: 0 0 0 0;\n",
              "      width: 32px;\n",
              "    }\n",
              "\n",
              "    .colab-df-convert:hover {\n",
              "      background-color: #E2EBFA;\n",
              "      box-shadow: 0px 1px 2px rgba(60, 64, 67, 0.3), 0px 1px 3px 1px rgba(60, 64, 67, 0.15);\n",
              "      fill: #174EA6;\n",
              "    }\n",
              "\n",
              "    [theme=dark] .colab-df-convert {\n",
              "      background-color: #3B4455;\n",
              "      fill: #D2E3FC;\n",
              "    }\n",
              "\n",
              "    [theme=dark] .colab-df-convert:hover {\n",
              "      background-color: #434B5C;\n",
              "      box-shadow: 0px 1px 3px 1px rgba(0, 0, 0, 0.15);\n",
              "      filter: drop-shadow(0px 1px 2px rgba(0, 0, 0, 0.3));\n",
              "      fill: #FFFFFF;\n",
              "    }\n",
              "  </style>\n",
              "\n",
              "      <script>\n",
              "        const buttonEl =\n",
              "          document.querySelector('#df-c1c30628-7d12-4403-b9f4-f3defab96a62 button.colab-df-convert');\n",
              "        buttonEl.style.display =\n",
              "          google.colab.kernel.accessAllowed ? 'block' : 'none';\n",
              "\n",
              "        async function convertToInteractive(key) {\n",
              "          const element = document.querySelector('#df-c1c30628-7d12-4403-b9f4-f3defab96a62');\n",
              "          const dataTable =\n",
              "            await google.colab.kernel.invokeFunction('convertToInteractive',\n",
              "                                                     [key], {});\n",
              "          if (!dataTable) return;\n",
              "\n",
              "          const docLinkHtml = 'Like what you see? Visit the ' +\n",
              "            '<a target=\"_blank\" href=https://colab.research.google.com/notebooks/data_table.ipynb>data table notebook</a>'\n",
              "            + ' to learn more about interactive tables.';\n",
              "          element.innerHTML = '';\n",
              "          dataTable['output_type'] = 'display_data';\n",
              "          await google.colab.output.renderOutput(dataTable, element);\n",
              "          const docLink = document.createElement('div');\n",
              "          docLink.innerHTML = docLinkHtml;\n",
              "          element.appendChild(docLink);\n",
              "        }\n",
              "      </script>\n",
              "    </div>\n",
              "  </div>\n",
              "  "
            ]
          },
          "metadata": {},
          "execution_count": 7
        }
      ]
    },
    {
      "cell_type": "code",
      "source": [
        "def CheckBiGrams(tokens,cntr):\n",
        "    cntr.update(nltk.bigrams(tokens))\n",
        "\n",
        "diff_train = train_df[train_df['label']==1]\n",
        "easy_train = train_df[train_df['label']==0]\n",
        "\n",
        "diff_train.apply(lambda x: CheckBiGrams(x['token_text'],diff_bigrams),axis=1)\n",
        "easy_train.apply(lambda x: CheckBiGrams(x['token_text'],easy_bigrams),axis=1)"
      ],
      "metadata": {
        "id": "CBVMd1BVBHH3",
        "outputId": "ba40487d-9768-45bc-95c6-568cc8d63b36",
        "colab": {
          "base_uri": "https://localhost:8080/"
        }
      },
      "execution_count": 8,
      "outputs": [
        {
          "output_type": "execute_result",
          "data": {
            "text/plain": [
              "208384    None\n",
              "208385    None\n",
              "208386    None\n",
              "208387    None\n",
              "208388    None\n",
              "          ... \n",
              "416763    None\n",
              "416764    None\n",
              "416765    None\n",
              "416766    None\n",
              "416767    None\n",
              "Length: 208384, dtype: object"
            ]
          },
          "metadata": {},
          "execution_count": 8
        }
      ]
    },
    {
      "cell_type": "code",
      "source": [
        "# 50 Most common bigrams for the difficult text\n",
        "diff_bigrams.most_common(50)"
      ],
      "metadata": {
        "id": "L9q_oT7JGFCB",
        "outputId": "f8b519fe-1c47-4eae-c3f2-ac3633e320fa",
        "colab": {
          "base_uri": "https://localhost:8080/"
        }
      },
      "execution_count": 9,
      "outputs": [
        {
          "output_type": "execute_result",
          "data": {
            "text/plain": [
              "[(('united', 'states'), 5610),\n",
              " (('known', 'as'), 5173),\n",
              " (('it', 'was'), 4222),\n",
              " (('to', 'be'), 3977),\n",
              " (('such', 'as'), 3766),\n",
              " (('he', 'was'), 3423),\n",
              " (('an', 'american'), 2521),\n",
              " (('as', 'well'), 2150),\n",
              " (('has', 'been'), 2128),\n",
              " (('can', 'be'), 2056),\n",
              " (('was', 'an'), 1935),\n",
              " (('well', 'as'), 1917),\n",
              " (('northern', 'france'), 1795),\n",
              " (('th', 'century'), 1789),\n",
              " (('also', 'known'), 1630),\n",
              " (('from', 'to'), 1630),\n",
              " (('new', 'york'), 1600),\n",
              " (('have', 'been'), 1587),\n",
              " (('was', 'born'), 1573),\n",
              " (('referred', 'to'), 1541),\n",
              " (('region', 'france'), 1460),\n",
              " (('for', 'his'), 1440),\n",
              " (('according', 'to'), 1409),\n",
              " (('football', 'player'), 1396),\n",
              " (('pas-de-calais', 'department'), 1384),\n",
              " (('commune', 'pas-de-calais'), 1382),\n",
              " (('there', 'are'), 1356),\n",
              " (('they', 'are'), 1354),\n",
              " (('as', 'an'), 1318),\n",
              " (('used', 'to'), 1309),\n",
              " (('due', 'to'), 1295),\n",
              " (('nord-pas-de-calais', 'region'), 1286),\n",
              " (('department', 'nord-pas-de-calais'), 1282),\n",
              " (('known', 'for'), 1282),\n",
              " (('to', 'as'), 1251),\n",
              " (('was', 'first'), 1250),\n",
              " (('best', 'known'), 1190),\n",
              " (('more', 'than'), 1182),\n",
              " (('which', 'was'), 1139),\n",
              " (('footballer', 'who'), 1126),\n",
              " (('was', 'released'), 1118),\n",
              " (('it', 'has'), 1118),\n",
              " (('commune', 'aisne'), 1105),\n",
              " (('united', 'kingdom'), 1104),\n",
              " (('aisne', 'department'), 1104),\n",
              " (('basse-normandie', 'region'), 1102),\n",
              " (('may', 'be'), 1094),\n",
              " (('to', 'have'), 1077),\n",
              " (('world', 'war'), 1039),\n",
              " (('plays', 'for'), 1020)]"
            ]
          },
          "metadata": {},
          "execution_count": 9
        }
      ]
    },
    {
      "cell_type": "code",
      "source": [
        "# 50 most common bigrams for easy to understand text\n",
        "easy_bigrams.most_common(50)"
      ],
      "metadata": {
        "id": "fi6u0i7qGnsv",
        "outputId": "55d31ca9-1c1b-4f80-fedf-81289ab63c96",
        "colab": {
          "base_uri": "https://localhost:8080/"
        }
      },
      "execution_count": 10,
      "outputs": [
        {
          "output_type": "execute_result",
          "data": {
            "text/plain": [
              "[(('it', 'found'), 5362),\n",
              " (('found', 'region'), 5190),\n",
              " (('united', 'states'), 4985),\n",
              " (('it', 'was'), 4977),\n",
              " (('he', 'was'), 3915),\n",
              " (('football', 'player'), 3374),\n",
              " (('to', 'be'), 3019),\n",
              " (('known', 'as'), 2751),\n",
              " (('north', 'france'), 2320),\n",
              " (('department', 'north'), 2313),\n",
              " (('such', 'as'), 2295),\n",
              " (('can', 'be'), 2030),\n",
              " (('commune', 'it'), 1994),\n",
              " (('there', 'are'), 1847),\n",
              " (('an', 'american'), 1842),\n",
              " (('they', 'are'), 1622),\n",
              " (('was', 'an'), 1524),\n",
              " (('has', 'been'), 1496),\n",
              " (('was', 'born'), 1470),\n",
              " (('was', 'first'), 1393),\n",
              " (('new', 'york'), 1367),\n",
              " (('it', 'has'), 1334),\n",
              " (('used', 'to'), 1324),\n",
              " (('northwest', 'france'), 1284),\n",
              " (('department', 'northwest'), 1282),\n",
              " (('pas-de-calais', 'department'), 1240),\n",
              " (('th', 'century'), 1238),\n",
              " (('region', 'nord-pas-de-calais'), 1227),\n",
              " (('nord-pas-de-calais', 'pas-de-calais'), 1227),\n",
              " (('have', 'been'), 1145),\n",
              " (('from', 'to'), 1110),\n",
              " (('as', 'well'), 1095),\n",
              " (('de', 'la'), 1082),\n",
              " (('aisne', 'department'), 1075),\n",
              " (('region', 'picardie'), 1063),\n",
              " (('picardie', 'aisne'), 1063),\n",
              " (('also', 'known'), 1019),\n",
              " (('she', 'was'), 1011),\n",
              " (('he', 'has'), 1006),\n",
              " (('calvados', 'department'), 1003),\n",
              " (('basse-normandie', 'calvados'), 994),\n",
              " (('region', 'basse-normandie'), 993),\n",
              " (('plays', 'for'), 990),\n",
              " (('more', 'than'), 976),\n",
              " (('did', 'not'), 966),\n",
              " (('he', 'plays'), 933),\n",
              " (('well', 'as'), 895),\n",
              " (('was', 'released'), 891),\n",
              " (('united', 'kingdom'), 884),\n",
              " (('pays', 'de'), 879)]"
            ]
          },
          "metadata": {},
          "execution_count": 10
        }
      ]
    },
    {
      "cell_type": "code",
      "source": [
        "# Evaluating whether there is a difference between mean token lengths between the easy/difficult texts\n",
        "train_df.groupby('label')['token_text'].apply(lambda x: np.mean(x.str.len()))"
      ],
      "metadata": {
        "id": "0TOFHXVYIdZr",
        "outputId": "ce233926-29e1-431f-c20f-517c236a927b",
        "colab": {
          "base_uri": "https://localhost:8080/"
        }
      },
      "execution_count": 14,
      "outputs": [
        {
          "output_type": "execute_result",
          "data": {
            "text/plain": [
              "label\n",
              "0    11.765145\n",
              "1    16.005403\n",
              "Name: token_text, dtype: float64"
            ]
          },
          "metadata": {},
          "execution_count": 14
        }
      ]
    },
    {
      "cell_type": "code",
      "source": [],
      "metadata": {
        "id": "8S_HsCtyLres"
      },
      "execution_count": 21,
      "outputs": []
    },
    {
      "cell_type": "code",
      "source": [
        "# Evaluating what \"features\" are most important in our classification task...exploring what data we get back for tf-idf vectorizers"
      ],
      "metadata": {
        "id": "6t0TP61sMRTZ"
      },
      "execution_count": 21,
      "outputs": []
    },
    {
      "cell_type": "code",
      "source": [
        "vectorizer = TfidfVectorizer(\n",
        "                            min_df= 2,\n",
        "                            max_df=.995,\n",
        "                            max_features=5000,\n",
        "                            ngram_range=(1,3),\n",
        "                            stop_words='english')"
      ],
      "metadata": {
        "id": "bw7LHGOB2Xsh"
      },
      "execution_count": 23,
      "outputs": []
    },
    {
      "cell_type": "code",
      "source": [
        "X_train = vectorizer.fit_transform(train_df.processed_text)"
      ],
      "metadata": {
        "id": "l0ayxu-j3pM-"
      },
      "execution_count": 24,
      "outputs": []
    },
    {
      "cell_type": "code",
      "source": [
        "y_train = train_df.label"
      ],
      "metadata": {
        "id": "_di-hm4j8lj9"
      },
      "execution_count": 26,
      "outputs": []
    },
    {
      "cell_type": "code",
      "source": [
        "import warnings\n",
        "warnings.filterwarnings('ignore')\n",
        "result = dict(zip(vectorizer.get_feature_names(), mutual_info_classif(X_train, y_train, discrete_features=True)))"
      ],
      "metadata": {
        "id": "WpU-D_SH3yox"
      },
      "execution_count": 28,
      "outputs": []
    },
    {
      "cell_type": "code",
      "source": [
        "sorted_result = sorted(result.items(), key=lambda item: item[1])"
      ],
      "metadata": {
        "id": "EUh5lGkrVAsY"
      },
      "execution_count": 30,
      "outputs": []
    },
    {
      "cell_type": "code",
      "source": [
        "sorted_result[::-20]"
      ],
      "metadata": {
        "id": "cSsLuTZtVhoW",
        "outputId": "42125d90-e0c7-4940-a371-28d0e5ddb40f",
        "colab": {
          "base_uri": "https://localhost:8080/"
        }
      },
      "execution_count": 34,
      "outputs": [
        {
          "output_type": "execute_result",
          "data": {
            "text/plain": [
              "[('born', 0.02809008544230052),\n",
              " ('national', 0.011030829235212475),\n",
              " ('war', 0.007541683652862186),\n",
              " ('early', 0.0065161366946063235),\n",
              " ('largest', 0.00581112677668762),\n",
              " ('long', 0.005122567273066937),\n",
              " ('professional', 0.004676612510432629),\n",
              " ('nord', 0.004343720239431437),\n",
              " ('song', 0.0040155686002334105),\n",
              " ('sea', 0.0036913653366483024),\n",
              " ('public', 0.003464518763428493),\n",
              " ('tropical', 0.0032784683638568952),\n",
              " ('european', 0.0030709656374351807),\n",
              " ('park', 0.00291862040149197),\n",
              " ('free', 0.002730889986587664),\n",
              " ('gironde', 0.0025995309802274626),\n",
              " ('having', 0.002487997763427144),\n",
              " ('christian', 0.0023080052381362582),\n",
              " ('lake', 0.0022365587815522036),\n",
              " ('department nord', 0.002146910979479698),\n",
              " ('little', 0.0020792413810416894),\n",
              " ('fourth', 0.0020225920416049267),\n",
              " ('region pays', 0.0019565916280076395),\n",
              " ('gave', 0.0019155089829945569),\n",
              " ('normandie region', 0.0018595158580498804),\n",
              " ('social', 0.0018054271721828425),\n",
              " ('surface', 0.0017690815445034803),\n",
              " ('spain', 0.0017363838791028562),\n",
              " ('elected', 0.0016722352709008634),\n",
              " ('websites', 0.0016439181101541849),\n",
              " ('caused', 0.001608786138562314),\n",
              " ('continued', 0.001566343654424093),\n",
              " ('born june', 0.0015246132303649686),\n",
              " ('post', 0.001484579927992312),\n",
              " ('bay', 0.0014453069530477995),\n",
              " ('hit', 0.0014097623447107215),\n",
              " ('stars', 0.0013830840606232158),\n",
              " ('view', 0.0013578101464960036),\n",
              " ('material', 0.001332069910153823),\n",
              " ('brand', 0.001299224830078095),\n",
              " ('base', 0.0012683594630379788),\n",
              " ('jr', 0.0012433610212842692),\n",
              " ('physical', 0.00121385640279299),\n",
              " ('higher', 0.0011935099069286608),\n",
              " ('department southwest france', 0.0011689433207838027),\n",
              " ('region aquitaine', 0.0011522637735261972),\n",
              " ('era', 0.0011276834348778828),\n",
              " ('depression', 0.001099037600709354),\n",
              " ('austrian', 0.0010795755553309585),\n",
              " ('gas', 0.001063835511717027),\n",
              " ('professor', 0.0010475042242337374),\n",
              " ('nuclear', 0.0010319035135633926),\n",
              " ('region northwestern france', 0.0010155934382662822),\n",
              " ('dr', 0.0010033344059616335),\n",
              " ('municipality located', 0.0009913215002709955),\n",
              " ('rest', 0.0009729648608241921),\n",
              " ('iv', 0.000962572118997455),\n",
              " ('appointed', 0.0009397094150061862),\n",
              " ('adopted', 0.0009209176788087151),\n",
              " ('korean', 0.0008969025934122434),\n",
              " ('el', 0.000881887136115271),\n",
              " ('week', 0.0008654662439882635),\n",
              " ('highly', 0.0008565178716938642),\n",
              " ('solo', 0.0008365742101397486),\n",
              " ('arthur', 0.0008294872697821759),\n",
              " ('birds', 0.0008167171468192147),\n",
              " ('die', 0.0008067509271096019),\n",
              " ('saturn', 0.0007983164865223791),\n",
              " ('subject', 0.0007901008025160143),\n",
              " ('eastern france', 0.0007789217367479702),\n",
              " ('massachusetts', 0.0007704275467758389),\n",
              " ('acts', 0.0007609178996687598),\n",
              " ('normally', 0.0007511044846323767),\n",
              " ('physics', 0.0007379169240235076),\n",
              " ('cm', 0.0007294872601234797),\n",
              " ('vice', 0.0007230417112818776),\n",
              " ('listed', 0.0007149653914618787),\n",
              " ('needed', 0.0007030792462679274),\n",
              " ('der', 0.0006971284308073388),\n",
              " ('midfielder', 0.0006910617031070931),\n",
              " ('fruit', 0.000686891159027531),\n",
              " ('province pakistan', 0.0006817198758185232),\n",
              " ('outer', 0.0006765049672838021),\n",
              " ('represented', 0.0006707025483750949),\n",
              " ('families', 0.000663495370978972),\n",
              " ('argentina', 0.0006585775306275834),\n",
              " ('boys', 0.0006533150253893574),\n",
              " ('spread', 0.0006478000348782442),\n",
              " ('tells', 0.0006421318220779756),\n",
              " ('speech', 0.0006344958121772507),\n",
              " ('jazz', 0.0006286404840980546),\n",
              " ('moscow', 0.0006219563400287174),\n",
              " ('kinds', 0.0006177834678422562),\n",
              " ('freedom', 0.0006112137346115313),\n",
              " ('dictionary', 0.0006047290001190652),\n",
              " ('jane', 0.0005988949949578986),\n",
              " ('constructed', 0.0005946476652734869),\n",
              " ('memorial', 0.0005860886635656985),\n",
              " ('stephen', 0.0005821195934957713),\n",
              " ('cents', 0.0005767050057353982),\n",
              " ('claim', 0.0005692634498818313),\n",
              " ('ministry', 0.0005628178920444687),\n",
              " ('grammy', 0.0005588034483015819),\n",
              " ('sky', 0.0005538001813448455),\n",
              " ('intended', 0.0005479197116323842),\n",
              " ('stock', 0.0005440724135293074),\n",
              " ('city state', 0.0005388901694897175),\n",
              " ('account', 0.000532237577056824),\n",
              " ('originated', 0.000526093369558689),\n",
              " ('deal', 0.0005224789919764906),\n",
              " ('italian football player', 0.0005172545568842642),\n",
              " ('gods', 0.0005138806352816635),\n",
              " ('people living', 0.0005090604229540784),\n",
              " ('scientists', 0.0005047511905745892),\n",
              " ('charts', 0.0005006192091750235),\n",
              " ('atlantic hurricane season', 0.0004964594882188033),\n",
              " ('file', 0.0004922919429948631),\n",
              " ('bavaria', 0.0004883338726250074),\n",
              " ('issues', 0.00048421134197123845),\n",
              " ('rb', 0.0004800472550092975),\n",
              " ('reaching', 0.0004769393680919613),\n",
              " ('snow', 0.0004735616039016025),\n",
              " ('region provence', 0.00047089854939895523),\n",
              " ('geneva', 0.00046690527537560816),\n",
              " ('occasionally', 0.00046201164917587453),\n",
              " ('ds', 0.0004577825997731994),\n",
              " ('sisters', 0.0004540073837744896),\n",
              " ('focus', 0.00045113674609963475),\n",
              " ('hits', 0.00044820627595155223),\n",
              " ('warner', 0.00044532204115554626),\n",
              " ('opposed', 0.0004424390492803879),\n",
              " ('teaching', 0.00043846961618578255),\n",
              " ('facilities', 0.0004365595343005685),\n",
              " ('football club plays', 0.000430931257397237),\n",
              " ('westphalia', 0.00042760574000214215),\n",
              " ('viii', 0.00042299222899289547),\n",
              " ('nickname', 0.0004209652480169544),\n",
              " ('fossil', 0.0004167825725043407),\n",
              " ('perfect', 0.0004132817853220341),\n",
              " ('description', 0.00040996098352717204),\n",
              " ('connection', 0.00040662918989969914),\n",
              " ('catherine', 0.0004039814789477665),\n",
              " ('magnitude', 0.00039957956238549717),\n",
              " ('civilization', 0.0003962451532318953),\n",
              " ('styles', 0.0003926887946983274),\n",
              " ('planets', 0.00038918344507837105),\n",
              " ('kg', 0.00038618287790769554),\n",
              " ('tools', 0.00038452768658314815),\n",
              " ('magic', 0.0003816807632314814),\n",
              " ('recognition', 0.0003792407872694151),\n",
              " ('canal', 0.0003765274808970241),\n",
              " ('douglas', 0.00037384750614121104),\n",
              " ('bigger', 0.00037135992399679746),\n",
              " ('defensive', 0.0003682458877870406),\n",
              " ('jacques', 0.00036552886182767796),\n",
              " ('releases', 0.00036298943633909114),\n",
              " ('heavily', 0.0003596783464825938),\n",
              " ('output', 0.00035799184181326866),\n",
              " ('turns', 0.00035591412171117535),\n",
              " ('zero', 0.00035340451232471936),\n",
              " ('gordon', 0.0003509261875313759),\n",
              " ('oliver', 0.00034756631267136753),\n",
              " ('sounds', 0.0003454948141229907),\n",
              " ('adults', 0.0003428512508365469),\n",
              " ('moment', 0.00034176104528073977),\n",
              " ('austen', 0.0003396900766833349),\n",
              " ('closest', 0.0003371796723164643),\n",
              " ('supreme court', 0.0003351113534649822),\n",
              " ('artistic', 0.0003334583858801555),\n",
              " ('requires', 0.0003317940883939783),\n",
              " ('scoring', 0.0003284805320358114),\n",
              " ('accounts', 0.00032622743580583034),\n",
              " ('specialized', 0.0003234864973117754),\n",
              " ('factory', 0.00032180367493231236),\n",
              " ('conquest', 0.0003201421361861494),\n",
              " ('grace', 0.0003180389784746741),\n",
              " ('chase', 0.0003160038392308941),\n",
              " ('stable', 0.00031434804307346905),\n",
              " ('syria', 0.0003133234499772007),\n",
              " ('lowest', 0.0003116608110382674),\n",
              " ('arnold', 0.0003095815367684078),\n",
              " ('strongly', 0.00030768736106628804),\n",
              " ('dissolved', 0.0003060231035178306),\n",
              " ('documentary', 0.000304814042615124),\n",
              " ('brazilian footballer', 0.00030278638089231756),\n",
              " ('refused', 0.0003014405325470833),\n",
              " ('editing', 0.0003002774105704028),\n",
              " ('finishing', 0.00029937397592185507),\n",
              " ('anglican', 0.0002973010488169831),\n",
              " ('oceans', 0.0002956403108688037),\n",
              " ('survive', 0.00029312363952077656),\n",
              " ('measurement', 0.0002914596238433425),\n",
              " ('gilbert', 0.0002897994846625321),\n",
              " ('metro', 0.0002881379688509677),\n",
              " ('trained', 0.0002868806354877442),\n",
              " ('commune vendà', 0.00028448264488736504),\n",
              " ('rhône alpes', 0.0002827676457450933),\n",
              " ('eldest', 0.0002814991625819519),\n",
              " ('lennon', 0.000280632315053115),\n",
              " ('walk', 0.0002794095554023696),\n",
              " ('potassium', 0.00027774649013274347),\n",
              " ('thursday', 0.0002756497199844689),\n",
              " ('remembered', 0.0002735789125806781),\n",
              " ('anderson', 0.00027275713313791155),\n",
              " ('azur region southeastern', 0.00027116975859824757),\n",
              " ('khyber pakhtunkhwa', 0.0002695019877096155),\n",
              " ('horizontal', 0.00026818429603154545),\n",
              " ('simpsons', 0.00026691930229320995),\n",
              " ('successfully', 0.000265104395770079),\n",
              " ('ottoman empire', 0.00026440870201849384),\n",
              " ('strengthened', 0.0002630191427885543),\n",
              " ('generated', 0.00026154137686428556),\n",
              " ('commune aube dà', 0.0002599690523168118),\n",
              " ('replacing', 0.0002590171264101381),\n",
              " ('dallas', 0.0002577911932558771),\n",
              " ('pepper', 0.0002565329153639761),\n",
              " ('warsaw', 0.0002548697061258462),\n",
              " ('il', 0.00025361486098824813),\n",
              " ('queens', 0.00025279862236506263),\n",
              " ('barbara', 0.00025046043733383477),\n",
              " ('sure', 0.00024948724179833147),\n",
              " ('shah', 0.00024839607515198306),\n",
              " ('scheme', 0.00024737535298906705),\n",
              " ('programme', 0.00024614934489258696),\n",
              " ('american singer songwriter', 0.00024490232077487635),\n",
              " ('temperate', 0.00024323546589262636),\n",
              " ('trilogy', 0.00024260756945410008),\n",
              " ('abu', 0.00024092192524623874),\n",
              " ('capital largest', 0.00023916700827107638),\n",
              " ('cello', 0.00023783091997516632),\n",
              " ('ukrainian', 0.00023657561406142884),\n",
              " ('tend', 0.00023533300232950812),\n",
              " ('collected', 0.00023406484101252872),\n",
              " ('walking', 0.00023243381516893337),\n",
              " ('nevada', 0.00023117781812698567),\n",
              " ('abraham', 0.00022992345676079953),\n",
              " ('feathers', 0.00022825908413372884),\n",
              " ('dj', 0.00022618896793197816),\n",
              " ('powell', 0.00022452902423324278),\n",
              " ('subdivided', 0.00022271678067111586),\n",
              " ('honorary', 0.00022100212548530198),\n",
              " ('argued', 0.0002182805602007577),\n",
              " ('harbour', 0.00021536254609748177),\n",
              " ('lanka', 0.00021268466825758738),\n",
              " ('quartet', 0.00020996592501320026),\n",
              " ('whale', 0.0002064735363765578),\n",
              " ('shift', 0.00020165597020204402),\n",
              " ('theology', 0.00019204656806563194),\n",
              " ('kirby', 0.0001829472960479897),\n",
              " ('crusade', 0.0001684199972182958)]"
            ]
          },
          "metadata": {},
          "execution_count": 34
        }
      ]
    },
    {
      "cell_type": "code",
      "source": [
        "mnb = MultinomialNB().fit(X_train, y_train)"
      ],
      "metadata": {
        "id": "vehIDgfO6Wug"
      },
      "execution_count": 68,
      "outputs": []
    },
    {
      "cell_type": "code",
      "source": [
        "mnb.score(X_train, y_train)"
      ],
      "metadata": {
        "id": "F_BWtrV97jBV",
        "outputId": "3c1e965d-c990-4f78-9c6b-687aa89f6dd6",
        "colab": {
          "base_uri": "https://localhost:8080/"
        }
      },
      "execution_count": 69,
      "outputs": [
        {
          "output_type": "execute_result",
          "data": {
            "text/plain": [
              "0.6284215678746928"
            ]
          },
          "metadata": {},
          "execution_count": 69
        }
      ]
    },
    {
      "cell_type": "code",
      "source": [
        "rf = RandomForestClassifier(n_estimators=100,\n",
        "                       max_depth=100,\n",
        "                       min_samples_split=10\n",
        "                       ).fit(X_train,y_train)"
      ],
      "metadata": {
        "id": "AsLDsotf7qlQ"
      },
      "execution_count": 75,
      "outputs": []
    },
    {
      "cell_type": "code",
      "source": [],
      "metadata": {
        "id": "dyA-zSHr89v4"
      },
      "execution_count": null,
      "outputs": []
    }
  ]
}