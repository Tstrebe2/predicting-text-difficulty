{
  "nbformat": 4,
  "nbformat_minor": 0,
  "metadata": {
    "colab": {
      "provenance": [],
      "authorship_tag": "ABX9TyMHefrgC3CRqSGhzOsuf1aN",
      "include_colab_link": true
    },
    "kernelspec": {
      "name": "python3",
      "display_name": "Python 3"
    },
    "language_info": {
      "name": "python"
    }
  },
  "cells": [
    {
      "cell_type": "markdown",
      "metadata": {
        "id": "view-in-github",
        "colab_type": "text"
      },
      "source": [
        "<a href=\"https://colab.research.google.com/github/Tstrebe2/predicting-text-difficulty/blob/dave-updates/code/dave-eda.ipynb\" target=\"_parent\"><img src=\"https://colab.research.google.com/assets/colab-badge.svg\" alt=\"Open In Colab\"/></a>"
      ]
    },
    {
      "cell_type": "code",
      "execution_count": 1,
      "metadata": {
        "id": "v39OENqU7Nqa"
      },
      "outputs": [],
      "source": [
        "import pandas as pd\n",
        "import numpy as np\n",
        "from sklearn.feature_selection import mutual_info_classif\n",
        "\n",
        "from sklearn.feature_extraction.text import TfidfVectorizer, CountVectorizer\n",
        "from sklearn.ensemble import RandomForestClassifier\n",
        "from sklearn.naive_bayes import MultinomialNB\n",
        "from sklearn.model_selection import train_test_split\n",
        "from sklearn.metrics import roc_auc_score, f1_score,precision_score, recall_score\n",
        "\n",
        "import nltk\n",
        "import collections"
      ]
    },
    {
      "cell_type": "code",
      "source": [
        "from google.colab import drive\n",
        "drive.mount('/content/drive', force_remount=True)"
      ],
      "metadata": {
        "colab": {
          "base_uri": "https://localhost:8080/"
        },
        "id": "GOheoycR2loE",
        "outputId": "6a664527-f02b-41eb-9c8a-a110d3b4349a"
      },
      "execution_count": 2,
      "outputs": [
        {
          "output_type": "stream",
          "name": "stdout",
          "text": [
            "Mounted at /content/drive\n"
          ]
        }
      ]
    },
    {
      "cell_type": "code",
      "source": [
        "train_df = pd.read_csv('/content/drive/MyDrive/696/processed.csv')"
      ],
      "metadata": {
        "id": "xPq3eVEs7PxE"
      },
      "execution_count": 3,
      "outputs": []
    },
    {
      "cell_type": "code",
      "source": [
        "train_df = train_df[['original_text','processed_text','label']]\n",
        "train_df['processed_text'] = train_df['processed_text'].astype('U')"
      ],
      "metadata": {
        "id": "yzjXIKjy2VFX"
      },
      "execution_count": 4,
      "outputs": []
    },
    {
      "cell_type": "code",
      "source": [
        "train_df.head()"
      ],
      "metadata": {
        "colab": {
          "base_uri": "https://localhost:8080/",
          "height": 204
        },
        "id": "rCdyPXozCSIo",
        "outputId": "88952ead-53cf-453a-9b8a-0482bc6c768d"
      },
      "execution_count": 5,
      "outputs": [
        {
          "output_type": "execute_result",
          "data": {
            "text/plain": [
              "                                       original_text  \\\n",
              "0  There is manuscript evidence that Austen conti...   \n",
              "1  In a remarkable comparative analysis , Mandaea...   \n",
              "2  Before Persephone was released to Hermes , who...   \n",
              "3  Cogeneration plants are commonly found in dist...   \n",
              "4  Geneva -LRB- , ; , ; , ; ; -RRB- is the second...   \n",
              "\n",
              "                                      processed_text  label  \n",
              "0  there is manuscript evidence that austen conti...      1  \n",
              "1  in a remarkable comparative analysis  mandaean...      1  \n",
              "2  before persephone was released to hermes  who ...      1  \n",
              "3  cogeneration plants are commonly found in dist...      1  \n",
              "4  geneva          is the second-most-populous ci...      1  "
            ],
            "text/html": [
              "\n",
              "  <div id=\"df-f778b705-660d-4235-bcd3-cb3144bce60b\">\n",
              "    <div class=\"colab-df-container\">\n",
              "      <div>\n",
              "<style scoped>\n",
              "    .dataframe tbody tr th:only-of-type {\n",
              "        vertical-align: middle;\n",
              "    }\n",
              "\n",
              "    .dataframe tbody tr th {\n",
              "        vertical-align: top;\n",
              "    }\n",
              "\n",
              "    .dataframe thead th {\n",
              "        text-align: right;\n",
              "    }\n",
              "</style>\n",
              "<table border=\"1\" class=\"dataframe\">\n",
              "  <thead>\n",
              "    <tr style=\"text-align: right;\">\n",
              "      <th></th>\n",
              "      <th>original_text</th>\n",
              "      <th>processed_text</th>\n",
              "      <th>label</th>\n",
              "    </tr>\n",
              "  </thead>\n",
              "  <tbody>\n",
              "    <tr>\n",
              "      <th>0</th>\n",
              "      <td>There is manuscript evidence that Austen conti...</td>\n",
              "      <td>there is manuscript evidence that austen conti...</td>\n",
              "      <td>1</td>\n",
              "    </tr>\n",
              "    <tr>\n",
              "      <th>1</th>\n",
              "      <td>In a remarkable comparative analysis , Mandaea...</td>\n",
              "      <td>in a remarkable comparative analysis  mandaean...</td>\n",
              "      <td>1</td>\n",
              "    </tr>\n",
              "    <tr>\n",
              "      <th>2</th>\n",
              "      <td>Before Persephone was released to Hermes , who...</td>\n",
              "      <td>before persephone was released to hermes  who ...</td>\n",
              "      <td>1</td>\n",
              "    </tr>\n",
              "    <tr>\n",
              "      <th>3</th>\n",
              "      <td>Cogeneration plants are commonly found in dist...</td>\n",
              "      <td>cogeneration plants are commonly found in dist...</td>\n",
              "      <td>1</td>\n",
              "    </tr>\n",
              "    <tr>\n",
              "      <th>4</th>\n",
              "      <td>Geneva -LRB- , ; , ; , ; ; -RRB- is the second...</td>\n",
              "      <td>geneva          is the second-most-populous ci...</td>\n",
              "      <td>1</td>\n",
              "    </tr>\n",
              "  </tbody>\n",
              "</table>\n",
              "</div>\n",
              "      <button class=\"colab-df-convert\" onclick=\"convertToInteractive('df-f778b705-660d-4235-bcd3-cb3144bce60b')\"\n",
              "              title=\"Convert this dataframe to an interactive table.\"\n",
              "              style=\"display:none;\">\n",
              "        \n",
              "  <svg xmlns=\"http://www.w3.org/2000/svg\" height=\"24px\"viewBox=\"0 0 24 24\"\n",
              "       width=\"24px\">\n",
              "    <path d=\"M0 0h24v24H0V0z\" fill=\"none\"/>\n",
              "    <path d=\"M18.56 5.44l.94 2.06.94-2.06 2.06-.94-2.06-.94-.94-2.06-.94 2.06-2.06.94zm-11 1L8.5 8.5l.94-2.06 2.06-.94-2.06-.94L8.5 2.5l-.94 2.06-2.06.94zm10 10l.94 2.06.94-2.06 2.06-.94-2.06-.94-.94-2.06-.94 2.06-2.06.94z\"/><path d=\"M17.41 7.96l-1.37-1.37c-.4-.4-.92-.59-1.43-.59-.52 0-1.04.2-1.43.59L10.3 9.45l-7.72 7.72c-.78.78-.78 2.05 0 2.83L4 21.41c.39.39.9.59 1.41.59.51 0 1.02-.2 1.41-.59l7.78-7.78 2.81-2.81c.8-.78.8-2.07 0-2.86zM5.41 20L4 18.59l7.72-7.72 1.47 1.35L5.41 20z\"/>\n",
              "  </svg>\n",
              "      </button>\n",
              "      \n",
              "  <style>\n",
              "    .colab-df-container {\n",
              "      display:flex;\n",
              "      flex-wrap:wrap;\n",
              "      gap: 12px;\n",
              "    }\n",
              "\n",
              "    .colab-df-convert {\n",
              "      background-color: #E8F0FE;\n",
              "      border: none;\n",
              "      border-radius: 50%;\n",
              "      cursor: pointer;\n",
              "      display: none;\n",
              "      fill: #1967D2;\n",
              "      height: 32px;\n",
              "      padding: 0 0 0 0;\n",
              "      width: 32px;\n",
              "    }\n",
              "\n",
              "    .colab-df-convert:hover {\n",
              "      background-color: #E2EBFA;\n",
              "      box-shadow: 0px 1px 2px rgba(60, 64, 67, 0.3), 0px 1px 3px 1px rgba(60, 64, 67, 0.15);\n",
              "      fill: #174EA6;\n",
              "    }\n",
              "\n",
              "    [theme=dark] .colab-df-convert {\n",
              "      background-color: #3B4455;\n",
              "      fill: #D2E3FC;\n",
              "    }\n",
              "\n",
              "    [theme=dark] .colab-df-convert:hover {\n",
              "      background-color: #434B5C;\n",
              "      box-shadow: 0px 1px 3px 1px rgba(0, 0, 0, 0.15);\n",
              "      filter: drop-shadow(0px 1px 2px rgba(0, 0, 0, 0.3));\n",
              "      fill: #FFFFFF;\n",
              "    }\n",
              "  </style>\n",
              "\n",
              "      <script>\n",
              "        const buttonEl =\n",
              "          document.querySelector('#df-f778b705-660d-4235-bcd3-cb3144bce60b button.colab-df-convert');\n",
              "        buttonEl.style.display =\n",
              "          google.colab.kernel.accessAllowed ? 'block' : 'none';\n",
              "\n",
              "        async function convertToInteractive(key) {\n",
              "          const element = document.querySelector('#df-f778b705-660d-4235-bcd3-cb3144bce60b');\n",
              "          const dataTable =\n",
              "            await google.colab.kernel.invokeFunction('convertToInteractive',\n",
              "                                                     [key], {});\n",
              "          if (!dataTable) return;\n",
              "\n",
              "          const docLinkHtml = 'Like what you see? Visit the ' +\n",
              "            '<a target=\"_blank\" href=https://colab.research.google.com/notebooks/data_table.ipynb>data table notebook</a>'\n",
              "            + ' to learn more about interactive tables.';\n",
              "          element.innerHTML = '';\n",
              "          dataTable['output_type'] = 'display_data';\n",
              "          await google.colab.output.renderOutput(dataTable, element);\n",
              "          const docLink = document.createElement('div');\n",
              "          docLink.innerHTML = docLinkHtml;\n",
              "          element.appendChild(docLink);\n",
              "        }\n",
              "      </script>\n",
              "    </div>\n",
              "  </div>\n",
              "  "
            ]
          },
          "metadata": {},
          "execution_count": 5
        }
      ]
    },
    {
      "cell_type": "code",
      "source": [
        "easy_bigrams = collections.Counter()\n",
        "diff_bigrams = collections.Counter()"
      ],
      "metadata": {
        "id": "VHacl2wUApWK"
      },
      "execution_count": 6,
      "outputs": []
    },
    {
      "cell_type": "code",
      "source": [
        "train_df['token_text'] = train_df['processed_text'].apply(lambda x: [word for word in x.split() if word not in set(['','in','and','of','the','is','on','a'])] )\n",
        "train_df.head()"
      ],
      "metadata": {
        "colab": {
          "base_uri": "https://localhost:8080/",
          "height": 204
        },
        "id": "qzeQvpOIA2sg",
        "outputId": "39516d8b-b97d-446b-e27e-5f2dc6bbcc54"
      },
      "execution_count": 7,
      "outputs": [
        {
          "output_type": "execute_result",
          "data": {
            "text/plain": [
              "                                       original_text  \\\n",
              "0  There is manuscript evidence that Austen conti...   \n",
              "1  In a remarkable comparative analysis , Mandaea...   \n",
              "2  Before Persephone was released to Hermes , who...   \n",
              "3  Cogeneration plants are commonly found in dist...   \n",
              "4  Geneva -LRB- , ; , ; , ; ; -RRB- is the second...   \n",
              "\n",
              "                                      processed_text  label  \\\n",
              "0  there is manuscript evidence that austen conti...      1   \n",
              "1  in a remarkable comparative analysis  mandaean...      1   \n",
              "2  before persephone was released to hermes  who ...      1   \n",
              "3  cogeneration plants are commonly found in dist...      1   \n",
              "4  geneva          is the second-most-populous ci...      1   \n",
              "\n",
              "                                          token_text  \n",
              "0  [there, manuscript, evidence, that, austen, co...  \n",
              "1  [remarkable, comparative, analysis, mandaean, ...  \n",
              "2  [before, persephone, was, released, to, hermes...  \n",
              "3  [cogeneration, plants, are, commonly, found, d...  \n",
              "4  [geneva, second-most-populous, city, switzerla...  "
            ],
            "text/html": [
              "\n",
              "  <div id=\"df-399cb6ae-13b6-4649-ab6f-b455b89dc0c9\">\n",
              "    <div class=\"colab-df-container\">\n",
              "      <div>\n",
              "<style scoped>\n",
              "    .dataframe tbody tr th:only-of-type {\n",
              "        vertical-align: middle;\n",
              "    }\n",
              "\n",
              "    .dataframe tbody tr th {\n",
              "        vertical-align: top;\n",
              "    }\n",
              "\n",
              "    .dataframe thead th {\n",
              "        text-align: right;\n",
              "    }\n",
              "</style>\n",
              "<table border=\"1\" class=\"dataframe\">\n",
              "  <thead>\n",
              "    <tr style=\"text-align: right;\">\n",
              "      <th></th>\n",
              "      <th>original_text</th>\n",
              "      <th>processed_text</th>\n",
              "      <th>label</th>\n",
              "      <th>token_text</th>\n",
              "    </tr>\n",
              "  </thead>\n",
              "  <tbody>\n",
              "    <tr>\n",
              "      <th>0</th>\n",
              "      <td>There is manuscript evidence that Austen conti...</td>\n",
              "      <td>there is manuscript evidence that austen conti...</td>\n",
              "      <td>1</td>\n",
              "      <td>[there, manuscript, evidence, that, austen, co...</td>\n",
              "    </tr>\n",
              "    <tr>\n",
              "      <th>1</th>\n",
              "      <td>In a remarkable comparative analysis , Mandaea...</td>\n",
              "      <td>in a remarkable comparative analysis  mandaean...</td>\n",
              "      <td>1</td>\n",
              "      <td>[remarkable, comparative, analysis, mandaean, ...</td>\n",
              "    </tr>\n",
              "    <tr>\n",
              "      <th>2</th>\n",
              "      <td>Before Persephone was released to Hermes , who...</td>\n",
              "      <td>before persephone was released to hermes  who ...</td>\n",
              "      <td>1</td>\n",
              "      <td>[before, persephone, was, released, to, hermes...</td>\n",
              "    </tr>\n",
              "    <tr>\n",
              "      <th>3</th>\n",
              "      <td>Cogeneration plants are commonly found in dist...</td>\n",
              "      <td>cogeneration plants are commonly found in dist...</td>\n",
              "      <td>1</td>\n",
              "      <td>[cogeneration, plants, are, commonly, found, d...</td>\n",
              "    </tr>\n",
              "    <tr>\n",
              "      <th>4</th>\n",
              "      <td>Geneva -LRB- , ; , ; , ; ; -RRB- is the second...</td>\n",
              "      <td>geneva          is the second-most-populous ci...</td>\n",
              "      <td>1</td>\n",
              "      <td>[geneva, second-most-populous, city, switzerla...</td>\n",
              "    </tr>\n",
              "  </tbody>\n",
              "</table>\n",
              "</div>\n",
              "      <button class=\"colab-df-convert\" onclick=\"convertToInteractive('df-399cb6ae-13b6-4649-ab6f-b455b89dc0c9')\"\n",
              "              title=\"Convert this dataframe to an interactive table.\"\n",
              "              style=\"display:none;\">\n",
              "        \n",
              "  <svg xmlns=\"http://www.w3.org/2000/svg\" height=\"24px\"viewBox=\"0 0 24 24\"\n",
              "       width=\"24px\">\n",
              "    <path d=\"M0 0h24v24H0V0z\" fill=\"none\"/>\n",
              "    <path d=\"M18.56 5.44l.94 2.06.94-2.06 2.06-.94-2.06-.94-.94-2.06-.94 2.06-2.06.94zm-11 1L8.5 8.5l.94-2.06 2.06-.94-2.06-.94L8.5 2.5l-.94 2.06-2.06.94zm10 10l.94 2.06.94-2.06 2.06-.94-2.06-.94-.94-2.06-.94 2.06-2.06.94z\"/><path d=\"M17.41 7.96l-1.37-1.37c-.4-.4-.92-.59-1.43-.59-.52 0-1.04.2-1.43.59L10.3 9.45l-7.72 7.72c-.78.78-.78 2.05 0 2.83L4 21.41c.39.39.9.59 1.41.59.51 0 1.02-.2 1.41-.59l7.78-7.78 2.81-2.81c.8-.78.8-2.07 0-2.86zM5.41 20L4 18.59l7.72-7.72 1.47 1.35L5.41 20z\"/>\n",
              "  </svg>\n",
              "      </button>\n",
              "      \n",
              "  <style>\n",
              "    .colab-df-container {\n",
              "      display:flex;\n",
              "      flex-wrap:wrap;\n",
              "      gap: 12px;\n",
              "    }\n",
              "\n",
              "    .colab-df-convert {\n",
              "      background-color: #E8F0FE;\n",
              "      border: none;\n",
              "      border-radius: 50%;\n",
              "      cursor: pointer;\n",
              "      display: none;\n",
              "      fill: #1967D2;\n",
              "      height: 32px;\n",
              "      padding: 0 0 0 0;\n",
              "      width: 32px;\n",
              "    }\n",
              "\n",
              "    .colab-df-convert:hover {\n",
              "      background-color: #E2EBFA;\n",
              "      box-shadow: 0px 1px 2px rgba(60, 64, 67, 0.3), 0px 1px 3px 1px rgba(60, 64, 67, 0.15);\n",
              "      fill: #174EA6;\n",
              "    }\n",
              "\n",
              "    [theme=dark] .colab-df-convert {\n",
              "      background-color: #3B4455;\n",
              "      fill: #D2E3FC;\n",
              "    }\n",
              "\n",
              "    [theme=dark] .colab-df-convert:hover {\n",
              "      background-color: #434B5C;\n",
              "      box-shadow: 0px 1px 3px 1px rgba(0, 0, 0, 0.15);\n",
              "      filter: drop-shadow(0px 1px 2px rgba(0, 0, 0, 0.3));\n",
              "      fill: #FFFFFF;\n",
              "    }\n",
              "  </style>\n",
              "\n",
              "      <script>\n",
              "        const buttonEl =\n",
              "          document.querySelector('#df-399cb6ae-13b6-4649-ab6f-b455b89dc0c9 button.colab-df-convert');\n",
              "        buttonEl.style.display =\n",
              "          google.colab.kernel.accessAllowed ? 'block' : 'none';\n",
              "\n",
              "        async function convertToInteractive(key) {\n",
              "          const element = document.querySelector('#df-399cb6ae-13b6-4649-ab6f-b455b89dc0c9');\n",
              "          const dataTable =\n",
              "            await google.colab.kernel.invokeFunction('convertToInteractive',\n",
              "                                                     [key], {});\n",
              "          if (!dataTable) return;\n",
              "\n",
              "          const docLinkHtml = 'Like what you see? Visit the ' +\n",
              "            '<a target=\"_blank\" href=https://colab.research.google.com/notebooks/data_table.ipynb>data table notebook</a>'\n",
              "            + ' to learn more about interactive tables.';\n",
              "          element.innerHTML = '';\n",
              "          dataTable['output_type'] = 'display_data';\n",
              "          await google.colab.output.renderOutput(dataTable, element);\n",
              "          const docLink = document.createElement('div');\n",
              "          docLink.innerHTML = docLinkHtml;\n",
              "          element.appendChild(docLink);\n",
              "        }\n",
              "      </script>\n",
              "    </div>\n",
              "  </div>\n",
              "  "
            ]
          },
          "metadata": {},
          "execution_count": 7
        }
      ]
    },
    {
      "cell_type": "code",
      "source": [
        "def CheckBiGrams(tokens,cntr):\n",
        "    cntr.update(nltk.bigrams(tokens))\n",
        "\n",
        "diff_train = train_df[train_df['label']==1]\n",
        "easy_train = train_df[train_df['label']==0]\n",
        "\n",
        "_  = diff_train.apply(lambda x: CheckBiGrams(x['token_text'],diff_bigrams),axis=1)\n",
        "_ = easy_train.apply(lambda x: CheckBiGrams(x['token_text'],easy_bigrams),axis=1)"
      ],
      "metadata": {
        "id": "CBVMd1BVBHH3"
      },
      "execution_count": 8,
      "outputs": []
    },
    {
      "cell_type": "code",
      "source": [
        "# 50 Most common bigrams for the difficult text\n",
        "diff_bigrams.most_common(50)"
      ],
      "metadata": {
        "colab": {
          "base_uri": "https://localhost:8080/"
        },
        "id": "L9q_oT7JGFCB",
        "outputId": "9d9359ec-7e6f-445d-b19c-34f841b6871b"
      },
      "execution_count": 9,
      "outputs": [
        {
          "output_type": "execute_result",
          "data": {
            "text/plain": [
              "[(('united', 'states'), 5610),\n",
              " (('known', 'as'), 5173),\n",
              " (('it', 'was'), 4222),\n",
              " (('to', 'be'), 3977),\n",
              " (('such', 'as'), 3766),\n",
              " (('he', 'was'), 3423),\n",
              " (('an', 'american'), 2521),\n",
              " (('as', 'well'), 2150),\n",
              " (('has', 'been'), 2128),\n",
              " (('can', 'be'), 2056),\n",
              " (('was', 'an'), 1935),\n",
              " (('well', 'as'), 1917),\n",
              " (('northern', 'france'), 1795),\n",
              " (('th', 'century'), 1789),\n",
              " (('also', 'known'), 1630),\n",
              " (('from', 'to'), 1630),\n",
              " (('new', 'york'), 1600),\n",
              " (('have', 'been'), 1587),\n",
              " (('was', 'born'), 1573),\n",
              " (('referred', 'to'), 1541),\n",
              " (('region', 'france'), 1460),\n",
              " (('for', 'his'), 1440),\n",
              " (('according', 'to'), 1409),\n",
              " (('football', 'player'), 1396),\n",
              " (('pas-de-calais', 'department'), 1384),\n",
              " (('commune', 'pas-de-calais'), 1382),\n",
              " (('there', 'are'), 1356),\n",
              " (('they', 'are'), 1354),\n",
              " (('as', 'an'), 1318),\n",
              " (('used', 'to'), 1309),\n",
              " (('due', 'to'), 1295),\n",
              " (('nord-pas-de-calais', 'region'), 1286),\n",
              " (('department', 'nord-pas-de-calais'), 1282),\n",
              " (('known', 'for'), 1282),\n",
              " (('to', 'as'), 1251),\n",
              " (('was', 'first'), 1250),\n",
              " (('best', 'known'), 1190),\n",
              " (('more', 'than'), 1182),\n",
              " (('which', 'was'), 1139),\n",
              " (('footballer', 'who'), 1126),\n",
              " (('was', 'released'), 1118),\n",
              " (('it', 'has'), 1118),\n",
              " (('commune', 'aisne'), 1105),\n",
              " (('united', 'kingdom'), 1104),\n",
              " (('aisne', 'department'), 1104),\n",
              " (('basse-normandie', 'region'), 1102),\n",
              " (('may', 'be'), 1094),\n",
              " (('to', 'have'), 1077),\n",
              " (('world', 'war'), 1039),\n",
              " (('plays', 'for'), 1020)]"
            ]
          },
          "metadata": {},
          "execution_count": 9
        }
      ]
    },
    {
      "cell_type": "code",
      "source": [
        "# 50 most common bigrams for easy to understand text\n",
        "easy_bigrams.most_common(50)"
      ],
      "metadata": {
        "colab": {
          "base_uri": "https://localhost:8080/"
        },
        "id": "fi6u0i7qGnsv",
        "outputId": "9a31903e-0650-452f-bb8e-d846befb6009"
      },
      "execution_count": 10,
      "outputs": [
        {
          "output_type": "execute_result",
          "data": {
            "text/plain": [
              "[(('it', 'found'), 5362),\n",
              " (('found', 'region'), 5190),\n",
              " (('united', 'states'), 4985),\n",
              " (('it', 'was'), 4977),\n",
              " (('he', 'was'), 3915),\n",
              " (('football', 'player'), 3374),\n",
              " (('to', 'be'), 3019),\n",
              " (('known', 'as'), 2751),\n",
              " (('north', 'france'), 2320),\n",
              " (('department', 'north'), 2313),\n",
              " (('such', 'as'), 2295),\n",
              " (('can', 'be'), 2030),\n",
              " (('commune', 'it'), 1994),\n",
              " (('there', 'are'), 1847),\n",
              " (('an', 'american'), 1842),\n",
              " (('they', 'are'), 1622),\n",
              " (('was', 'an'), 1524),\n",
              " (('has', 'been'), 1496),\n",
              " (('was', 'born'), 1470),\n",
              " (('was', 'first'), 1393),\n",
              " (('new', 'york'), 1367),\n",
              " (('it', 'has'), 1334),\n",
              " (('used', 'to'), 1324),\n",
              " (('northwest', 'france'), 1284),\n",
              " (('department', 'northwest'), 1282),\n",
              " (('pas-de-calais', 'department'), 1240),\n",
              " (('th', 'century'), 1238),\n",
              " (('region', 'nord-pas-de-calais'), 1227),\n",
              " (('nord-pas-de-calais', 'pas-de-calais'), 1227),\n",
              " (('have', 'been'), 1145),\n",
              " (('from', 'to'), 1110),\n",
              " (('as', 'well'), 1095),\n",
              " (('de', 'la'), 1082),\n",
              " (('aisne', 'department'), 1075),\n",
              " (('region', 'picardie'), 1063),\n",
              " (('picardie', 'aisne'), 1063),\n",
              " (('also', 'known'), 1019),\n",
              " (('she', 'was'), 1011),\n",
              " (('he', 'has'), 1006),\n",
              " (('calvados', 'department'), 1003),\n",
              " (('basse-normandie', 'calvados'), 994),\n",
              " (('region', 'basse-normandie'), 993),\n",
              " (('plays', 'for'), 990),\n",
              " (('more', 'than'), 976),\n",
              " (('did', 'not'), 966),\n",
              " (('he', 'plays'), 933),\n",
              " (('well', 'as'), 895),\n",
              " (('was', 'released'), 891),\n",
              " (('united', 'kingdom'), 884),\n",
              " (('pays', 'de'), 879)]"
            ]
          },
          "metadata": {},
          "execution_count": 10
        }
      ]
    },
    {
      "cell_type": "code",
      "source": [
        "# Evaluating whether there is a difference between mean token lengths between the easy/difficult texts\n",
        "train_df.groupby('label')['token_text'].apply(lambda x: np.mean(x.str.len()))"
      ],
      "metadata": {
        "colab": {
          "base_uri": "https://localhost:8080/"
        },
        "id": "0TOFHXVYIdZr",
        "outputId": "d3ccfa9c-a72b-43d3-9e91-c4e1b832dc4c"
      },
      "execution_count": 11,
      "outputs": [
        {
          "output_type": "execute_result",
          "data": {
            "text/plain": [
              "label\n",
              "0    11.765145\n",
              "1    16.005403\n",
              "Name: token_text, dtype: float64"
            ]
          },
          "metadata": {},
          "execution_count": 11
        }
      ]
    },
    {
      "cell_type": "code",
      "source": [
        "# There's a clear difference in length between easy to understand text (average of 11.8 tokens) and the more difficult text to (average of 16 tokens)"
      ],
      "metadata": {
        "id": "8S_HsCtyLres"
      },
      "execution_count": 12,
      "outputs": []
    },
    {
      "cell_type": "code",
      "source": [
        "# Evaluating what \"features\" are most important in our classification task...exploring what data we get back for tf-idf vectorizers"
      ],
      "metadata": {
        "id": "6t0TP61sMRTZ"
      },
      "execution_count": 13,
      "outputs": []
    },
    {
      "cell_type": "code",
      "source": [
        "vectorizer = TfidfVectorizer(\n",
        "                            min_df= 20,\n",
        "                            max_df=.995,\n",
        "                            max_features=5000,\n",
        "                            ngram_range=(1,3),\n",
        "                            stop_words='english')"
      ],
      "metadata": {
        "id": "bw7LHGOB2Xsh"
      },
      "execution_count": 14,
      "outputs": []
    },
    {
      "cell_type": "code",
      "source": [
        "vec_data = vectorizer.fit_transform(train_df.processed_text)"
      ],
      "metadata": {
        "id": "l0ayxu-j3pM-"
      },
      "execution_count": 15,
      "outputs": []
    },
    {
      "cell_type": "code",
      "source": [
        "y_labels = train_df.label"
      ],
      "metadata": {
        "id": "_di-hm4j8lj9"
      },
      "execution_count": 16,
      "outputs": []
    },
    {
      "cell_type": "code",
      "source": [
        "# Using mutual_info_classif to extract the feature importance from the entire training set\n",
        "import warnings\n",
        "warnings.filterwarnings('ignore')\n",
        "result = dict(zip(vectorizer.get_feature_names(), \n",
        "                  mutual_info_classif(vec_data, \n",
        "                                      y_labels, \n",
        "                                      discrete_features=True)))"
      ],
      "metadata": {
        "id": "WpU-D_SH3yox"
      },
      "execution_count": 17,
      "outputs": []
    },
    {
      "cell_type": "code",
      "source": [
        "sorted_result = sorted(result.items(), key=lambda item: item[1])"
      ],
      "metadata": {
        "id": "EUh5lGkrVAsY"
      },
      "execution_count": 18,
      "outputs": []
    },
    {
      "cell_type": "code",
      "source": [
        "# Top 20 \"feature\" (aka 'words') important for claissification\n",
        "sorted_result[-20:]"
      ],
      "metadata": {
        "colab": {
          "base_uri": "https://localhost:8080/"
        },
        "id": "cSsLuTZtVhoW",
        "outputId": "405e9b6b-b3b0-446f-d649-6b87d1c8e233"
      },
      "execution_count": 19,
      "outputs": [
        {
          "output_type": "execute_result",
          "data": {
            "text/plain": [
              "[('time', 0.012053018296130796),\n",
              " ('people', 0.012232722733924437),\n",
              " ('south', 0.012259152842987195),\n",
              " ('football', 0.014174188345892378),\n",
              " ('called', 0.014542851377924122),\n",
              " ('united states', 0.015462789170423914),\n",
              " ('world', 0.015636974477164053),\n",
              " ('american', 0.015675827779041106),\n",
              " ('used', 0.015823359744921977),\n",
              " ('north', 0.016469491454107817),\n",
              " ('new', 0.016631391644847573),\n",
              " ('states', 0.01796370503739088),\n",
              " ('region', 0.019575067111825103),\n",
              " ('commune', 0.019755155277451853),\n",
              " ('united', 0.020034728942348038),\n",
              " ('known', 0.0213453263959197),\n",
              " ('city', 0.02212504588623921),\n",
              " ('department', 0.022516699950628324),\n",
              " ('france', 0.026594631233516845),\n",
              " ('born', 0.028090085442300523)]"
            ]
          },
          "metadata": {},
          "execution_count": 19
        }
      ]
    },
    {
      "cell_type": "code",
      "source": [
        "X_train, X_test, y_train, y_test = train_test_split(train_df.processed_text, y_labels, test_size=.25)"
      ],
      "metadata": {
        "id": "4tMXNjP70lhh"
      },
      "execution_count": 20,
      "outputs": []
    },
    {
      "cell_type": "code",
      "source": [
        "vec_data = vectorizer.fit_transform(X_train)"
      ],
      "metadata": {
        "id": "Cgks7h1c35tO"
      },
      "execution_count": 21,
      "outputs": []
    },
    {
      "cell_type": "code",
      "source": [
        "mnb = MultinomialNB().fit(vec_data, y_train)"
      ],
      "metadata": {
        "id": "vehIDgfO6Wug"
      },
      "execution_count": 22,
      "outputs": []
    },
    {
      "cell_type": "code",
      "source": [
        "mnb.score(vec_data, y_train)"
      ],
      "metadata": {
        "colab": {
          "base_uri": "https://localhost:8080/"
        },
        "id": "F_BWtrV97jBV",
        "outputId": "5f6717b3-f467-46da-f899-9946580c482a"
      },
      "execution_count": 23,
      "outputs": [
        {
          "output_type": "execute_result",
          "data": {
            "text/plain": [
              "0.6523661445536445"
            ]
          },
          "metadata": {},
          "execution_count": 23
        }
      ]
    },
    {
      "cell_type": "code",
      "source": [
        "X_test_vec =  vectorizer.transform(X_test)\n",
        "y_predict = mnb.predict(X_test_vec)\n",
        "accuracy = mnb.score(X_test_vec, y_test)\n",
        "recall = recall_score(y_test, y_predict)\n",
        "precision = precision_score(y_test,y_predict)\n",
        "print(f'accuracy: {accuracy}', \n",
        "      f'recall: {recall}',\n",
        "      f'precision: {precision}')\n",
        "\n"
      ],
      "metadata": {
        "colab": {
          "base_uri": "https://localhost:8080/"
        },
        "id": "AsLDsotf7qlQ",
        "outputId": "dadf40b5-532f-4a75-ff83-9ec53f524a08"
      },
      "execution_count": 24,
      "outputs": [
        {
          "output_type": "stream",
          "name": "stdout",
          "text": [
            "accuracy: 0.6354614557739557 recall: 0.6507933473523226 precision: 0.6332638863052941\n"
          ]
        }
      ]
    },
    {
      "cell_type": "code",
      "source": [
        "# Using CountVectorizer instead of tf-idf"
      ],
      "metadata": {
        "id": "dyA-zSHr89v4"
      },
      "execution_count": 25,
      "outputs": []
    },
    {
      "cell_type": "code",
      "source": [
        "cnt_vectorizer = CountVectorizer(\n",
        "                            min_df= 20,\n",
        "                            max_df=.995,\n",
        "                            max_features=5000,\n",
        "                            ngram_range=(1,3),\n",
        "                            stop_words='english')"
      ],
      "metadata": {
        "id": "4mnJPO7q3aR9"
      },
      "execution_count": 26,
      "outputs": []
    },
    {
      "cell_type": "code",
      "source": [
        "X_train_cnt_vec = cnt_vectorizer.fit_transform(X_train)"
      ],
      "metadata": {
        "id": "j5TfLKIi3ihT"
      },
      "execution_count": 27,
      "outputs": []
    },
    {
      "cell_type": "code",
      "source": [
        "mnb = MultinomialNB().fit(X_train_cnt_vec , y_train)"
      ],
      "metadata": {
        "id": "TuBzCVgj5hFf"
      },
      "execution_count": 28,
      "outputs": []
    },
    {
      "cell_type": "code",
      "source": [
        "mnb.score(X_train_cnt_vec, y_train)"
      ],
      "metadata": {
        "id": "6FyYoAR25uub",
        "outputId": "c90527cf-fa9e-407d-9403-372b098eff03",
        "colab": {
          "base_uri": "https://localhost:8080/"
        }
      },
      "execution_count": 29,
      "outputs": [
        {
          "output_type": "execute_result",
          "data": {
            "text/plain": [
              "0.6428324631449631"
            ]
          },
          "metadata": {},
          "execution_count": 29
        }
      ]
    },
    {
      "cell_type": "code",
      "source": [
        "X_test_cnt_vec =  cnt_vectorizer.transform(X_test)\n",
        "y_predict = mnb.predict(X_test_cnt_vec)\n",
        "accuracy = mnb.score(X_test_cnt_vec, y_test)\n",
        "recall = recall_score(y_test, y_predict)\n",
        "precision = precision_score(y_test,y_predict)\n",
        "print(f'accuracy: {accuracy}', \n",
        "      f'recall: {recall}',\n",
        "      f'precision: {precision}')\n"
      ],
      "metadata": {
        "id": "l0w6MhEg5xzH",
        "outputId": "6e4ec3e0-505d-43e7-ca32-af8f6f3e4aac",
        "colab": {
          "base_uri": "https://localhost:8080/"
        }
      },
      "execution_count": 30,
      "outputs": [
        {
          "output_type": "stream",
          "name": "stdout",
          "text": [
            "accuracy: 0.6274761977886978 recall: 0.6724526859109157 precision: 0.6186858027297031\n"
          ]
        }
      ]
    },
    {
      "cell_type": "code",
      "source": [
        "# There appears to be a slight improvement in recall when using the CountVectorizer vs the Tf-idf vec"
      ],
      "metadata": {
        "id": "PaChtsaV57Gf"
      },
      "execution_count": 31,
      "outputs": []
    }
  ]
}