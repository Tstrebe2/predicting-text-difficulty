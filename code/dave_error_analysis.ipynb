{
  "nbformat": 4,
  "nbformat_minor": 0,
  "metadata": {
    "colab": {
      "provenance": [],
      "authorship_tag": "ABX9TyMYEReDq2Q8AKxaSDiZevDB",
      "include_colab_link": true
    },
    "kernelspec": {
      "name": "python3",
      "display_name": "Python 3"
    },
    "language_info": {
      "name": "python"
    }
  },
  "cells": [
    {
      "cell_type": "markdown",
      "metadata": {
        "id": "view-in-github",
        "colab_type": "text"
      },
      "source": [
        "<a href=\"https://colab.research.google.com/github/Tstrebe2/predicting-text-difficulty/blob/dave-updates/code/dave_error_analysis.ipynb\" target=\"_parent\"><img src=\"https://colab.research.google.com/assets/colab-badge.svg\" alt=\"Open In Colab\"/></a>"
      ]
    },
    {
      "cell_type": "code",
      "execution_count": 20,
      "metadata": {
        "id": "T56mUmJ-LIJ7"
      },
      "outputs": [],
      "source": [
        "import pandas as pd\n",
        "import joblib\n",
        "from sklearn.model_selection import train_test_split"
      ]
    },
    {
      "cell_type": "code",
      "source": [
        "from google.colab import drive\n",
        "drive.mount('/content/drive')"
      ],
      "metadata": {
        "colab": {
          "base_uri": "https://localhost:8080/"
        },
        "id": "PQPEVATsLUH4",
        "outputId": "f337be6a-7fa8-4787-913b-a829ee589308"
      },
      "execution_count": 21,
      "outputs": [
        {
          "output_type": "stream",
          "name": "stdout",
          "text": [
            "Drive already mounted at /content/drive; to attempt to forcibly remount, call drive.mount(\"/content/drive\", force_remount=True).\n"
          ]
        }
      ]
    },
    {
      "cell_type": "code",
      "source": [
        "train = pd.read_csv('drive/Shareddrives/Milestone 2/Training_set.csv', \n",
        "                      sep='\\t',index_col='ix')\n",
        "# train['lemmatized_text'] = train['lemmatized_text'].fillna('')\n",
        "train['lemmatized_text'] = train['lemmatized_text'].astype(str)"
      ],
      "metadata": {
        "id": "9ILlIlA1LhJz"
      },
      "execution_count": 37,
      "outputs": []
    },
    {
      "cell_type": "code",
      "source": [
        "test = pd.read_csv('drive/Shareddrives/Milestone 2/Testing_set.csv', \n",
        "                      sep='\\t',index_col='ix')\n",
        "test['lemmatized_text'] = test['lemmatized_text'].fillna('')\n",
        "test['lemmatized_text'] = test['lemmatized_text'].astype(str)\n",
        "\n",
        "\n",
        "\n",
        "\n",
        "X_cols = ['lemmatized_text', 'd_chall_score', 'aoa_mean', 'aoa_min', 'aoa_max',\n",
        "          'conc_rating_min', 'conc_rating_mean', 'conc_rating_max', 'num_lemmas']"
      ],
      "metadata": {
        "id": "MM5fjzopBQAg"
      },
      "execution_count": 38,
      "outputs": []
    },
    {
      "cell_type": "code",
      "source": [
        "model_path = ''.join(['drive/Shareddrives/Milestone 2/svc-model_final.joblib'])\n",
        "clf = joblib.load(model_path)"
      ],
      "metadata": {
        "id": "VqyIDUuiLPpv"
      },
      "execution_count": 39,
      "outputs": []
    },
    {
      "cell_type": "code",
      "source": [
        "  # y = train['label']\n",
        "  # X = train\n",
        "\n",
        "  # X_train, X_test, y_train, y_test = train_test_split()"
      ],
      "metadata": {
        "id": "Wve7HDNFLxFV"
      },
      "execution_count": 40,
      "outputs": []
    },
    {
      "cell_type": "code",
      "source": [
        "y_preds = clf.predict(test[X_cols])"
      ],
      "metadata": {
        "id": "nXE_envvByTS"
      },
      "execution_count": 41,
      "outputs": []
    },
    {
      "cell_type": "code",
      "source": [
        "test['prediction'] = y_preds"
      ],
      "metadata": {
        "id": "3Lk0HAE9B3bt"
      },
      "execution_count": 42,
      "outputs": []
    },
    {
      "cell_type": "code",
      "source": [
        "test[test['label'] != test['prediction']].sample(500).to_csv('drive/MyDrive/error.csv')"
      ],
      "metadata": {
        "id": "ajDAyljWavg4"
      },
      "execution_count": 43,
      "outputs": []
    },
    {
      "cell_type": "code",
      "source": [
        "test[test['label'] == test['prediction']].sample(10000).to_csv('drive/MyDrive/label_agreement.csv')"
      ],
      "metadata": {
        "id": "BHR87_UwCKxI"
      },
      "execution_count": 44,
      "outputs": []
    },
    {
      "cell_type": "code",
      "source": [
        "# Both sets were downloaded and opened in an Excel for comparisons\n",
        "# Comparing the averages between the sets where there was label agreement\n",
        "# vs those where we had errors, it appears as though the \"erroneous\" data\n",
        "# had characteristics that were similar to correctly identified data.  Thus,\n",
        "# we believe there is noise in the data regarding the labeling."
      ],
      "metadata": {
        "id": "JVGpgHFECPrm"
      },
      "execution_count": 45,
      "outputs": []
    },
    {
      "cell_type": "code",
      "source": [],
      "metadata": {
        "id": "ue5RkJbvi0TT"
      },
      "execution_count": null,
      "outputs": []
    },
    {
      "cell_type": "code",
      "source": [
        "test[test['original_text'].str.contains('In the summer of 325 , the bishops of all provinces')]"
      ],
      "metadata": {
        "colab": {
          "base_uri": "https://localhost:8080/",
          "height": 186
        },
        "id": "Z7NYvCJoX_5y",
        "outputId": "d522883f-c0c2-4b27-c4a7-96010bdae4d9"
      },
      "execution_count": 61,
      "outputs": [
        {
          "output_type": "execute_result",
          "data": {
            "text/plain": [
              "                                            original_text  \\\n",
              "ix                                                          \n",
              "382974  In the summer of 325 , the bishops of all prov...   \n",
              "174581  In the summer of 325 , the bishops of all prov...   \n",
              "\n",
              "                                          lemmatized_text  d_chall_score  \\\n",
              "ix                                                                         \n",
              "382974  in the summer of 325 the bishop of all provinc...       9.602247   \n",
              "174581  in the summer of 325 the bishop of all provinc...      10.211405   \n",
              "\n",
              "        aoa_mean  aoa_min  aoa_max  conc_rating_mean  conc_rating_min  \\\n",
              "ix                                                                      \n",
              "382974  5.284286     2.89    10.50          2.249667             1.33   \n",
              "174581  5.821034     2.89    12.61          2.243548             1.33   \n",
              "\n",
              "        conc_rating_max  num_lemmas  label  prediction  \n",
              "ix                                                      \n",
              "382974             4.89        42.0      0           1  \n",
              "174581             4.89        43.0      1           1  "
            ],
            "text/html": [
              "\n",
              "  <div id=\"df-7a3e1440-d33c-440d-8deb-6f2e48609c99\">\n",
              "    <div class=\"colab-df-container\">\n",
              "      <div>\n",
              "<style scoped>\n",
              "    .dataframe tbody tr th:only-of-type {\n",
              "        vertical-align: middle;\n",
              "    }\n",
              "\n",
              "    .dataframe tbody tr th {\n",
              "        vertical-align: top;\n",
              "    }\n",
              "\n",
              "    .dataframe thead th {\n",
              "        text-align: right;\n",
              "    }\n",
              "</style>\n",
              "<table border=\"1\" class=\"dataframe\">\n",
              "  <thead>\n",
              "    <tr style=\"text-align: right;\">\n",
              "      <th></th>\n",
              "      <th>original_text</th>\n",
              "      <th>lemmatized_text</th>\n",
              "      <th>d_chall_score</th>\n",
              "      <th>aoa_mean</th>\n",
              "      <th>aoa_min</th>\n",
              "      <th>aoa_max</th>\n",
              "      <th>conc_rating_mean</th>\n",
              "      <th>conc_rating_min</th>\n",
              "      <th>conc_rating_max</th>\n",
              "      <th>num_lemmas</th>\n",
              "      <th>label</th>\n",
              "      <th>prediction</th>\n",
              "    </tr>\n",
              "    <tr>\n",
              "      <th>ix</th>\n",
              "      <th></th>\n",
              "      <th></th>\n",
              "      <th></th>\n",
              "      <th></th>\n",
              "      <th></th>\n",
              "      <th></th>\n",
              "      <th></th>\n",
              "      <th></th>\n",
              "      <th></th>\n",
              "      <th></th>\n",
              "      <th></th>\n",
              "      <th></th>\n",
              "    </tr>\n",
              "  </thead>\n",
              "  <tbody>\n",
              "    <tr>\n",
              "      <th>382974</th>\n",
              "      <td>In the summer of 325 , the bishops of all prov...</td>\n",
              "      <td>in the summer of 325 the bishop of all provinc...</td>\n",
              "      <td>9.602247</td>\n",
              "      <td>5.284286</td>\n",
              "      <td>2.89</td>\n",
              "      <td>10.50</td>\n",
              "      <td>2.249667</td>\n",
              "      <td>1.33</td>\n",
              "      <td>4.89</td>\n",
              "      <td>42.0</td>\n",
              "      <td>0</td>\n",
              "      <td>1</td>\n",
              "    </tr>\n",
              "    <tr>\n",
              "      <th>174581</th>\n",
              "      <td>In the summer of 325 , the bishops of all prov...</td>\n",
              "      <td>in the summer of 325 the bishop of all provinc...</td>\n",
              "      <td>10.211405</td>\n",
              "      <td>5.821034</td>\n",
              "      <td>2.89</td>\n",
              "      <td>12.61</td>\n",
              "      <td>2.243548</td>\n",
              "      <td>1.33</td>\n",
              "      <td>4.89</td>\n",
              "      <td>43.0</td>\n",
              "      <td>1</td>\n",
              "      <td>1</td>\n",
              "    </tr>\n",
              "  </tbody>\n",
              "</table>\n",
              "</div>\n",
              "      <button class=\"colab-df-convert\" onclick=\"convertToInteractive('df-7a3e1440-d33c-440d-8deb-6f2e48609c99')\"\n",
              "              title=\"Convert this dataframe to an interactive table.\"\n",
              "              style=\"display:none;\">\n",
              "        \n",
              "  <svg xmlns=\"http://www.w3.org/2000/svg\" height=\"24px\"viewBox=\"0 0 24 24\"\n",
              "       width=\"24px\">\n",
              "    <path d=\"M0 0h24v24H0V0z\" fill=\"none\"/>\n",
              "    <path d=\"M18.56 5.44l.94 2.06.94-2.06 2.06-.94-2.06-.94-.94-2.06-.94 2.06-2.06.94zm-11 1L8.5 8.5l.94-2.06 2.06-.94-2.06-.94L8.5 2.5l-.94 2.06-2.06.94zm10 10l.94 2.06.94-2.06 2.06-.94-2.06-.94-.94-2.06-.94 2.06-2.06.94z\"/><path d=\"M17.41 7.96l-1.37-1.37c-.4-.4-.92-.59-1.43-.59-.52 0-1.04.2-1.43.59L10.3 9.45l-7.72 7.72c-.78.78-.78 2.05 0 2.83L4 21.41c.39.39.9.59 1.41.59.51 0 1.02-.2 1.41-.59l7.78-7.78 2.81-2.81c.8-.78.8-2.07 0-2.86zM5.41 20L4 18.59l7.72-7.72 1.47 1.35L5.41 20z\"/>\n",
              "  </svg>\n",
              "      </button>\n",
              "      \n",
              "  <style>\n",
              "    .colab-df-container {\n",
              "      display:flex;\n",
              "      flex-wrap:wrap;\n",
              "      gap: 12px;\n",
              "    }\n",
              "\n",
              "    .colab-df-convert {\n",
              "      background-color: #E8F0FE;\n",
              "      border: none;\n",
              "      border-radius: 50%;\n",
              "      cursor: pointer;\n",
              "      display: none;\n",
              "      fill: #1967D2;\n",
              "      height: 32px;\n",
              "      padding: 0 0 0 0;\n",
              "      width: 32px;\n",
              "    }\n",
              "\n",
              "    .colab-df-convert:hover {\n",
              "      background-color: #E2EBFA;\n",
              "      box-shadow: 0px 1px 2px rgba(60, 64, 67, 0.3), 0px 1px 3px 1px rgba(60, 64, 67, 0.15);\n",
              "      fill: #174EA6;\n",
              "    }\n",
              "\n",
              "    [theme=dark] .colab-df-convert {\n",
              "      background-color: #3B4455;\n",
              "      fill: #D2E3FC;\n",
              "    }\n",
              "\n",
              "    [theme=dark] .colab-df-convert:hover {\n",
              "      background-color: #434B5C;\n",
              "      box-shadow: 0px 1px 3px 1px rgba(0, 0, 0, 0.15);\n",
              "      filter: drop-shadow(0px 1px 2px rgba(0, 0, 0, 0.3));\n",
              "      fill: #FFFFFF;\n",
              "    }\n",
              "  </style>\n",
              "\n",
              "      <script>\n",
              "        const buttonEl =\n",
              "          document.querySelector('#df-7a3e1440-d33c-440d-8deb-6f2e48609c99 button.colab-df-convert');\n",
              "        buttonEl.style.display =\n",
              "          google.colab.kernel.accessAllowed ? 'block' : 'none';\n",
              "\n",
              "        async function convertToInteractive(key) {\n",
              "          const element = document.querySelector('#df-7a3e1440-d33c-440d-8deb-6f2e48609c99');\n",
              "          const dataTable =\n",
              "            await google.colab.kernel.invokeFunction('convertToInteractive',\n",
              "                                                     [key], {});\n",
              "          if (!dataTable) return;\n",
              "\n",
              "          const docLinkHtml = 'Like what you see? Visit the ' +\n",
              "            '<a target=\"_blank\" href=https://colab.research.google.com/notebooks/data_table.ipynb>data table notebook</a>'\n",
              "            + ' to learn more about interactive tables.';\n",
              "          element.innerHTML = '';\n",
              "          dataTable['output_type'] = 'display_data';\n",
              "          await google.colab.output.renderOutput(dataTable, element);\n",
              "          const docLink = document.createElement('div');\n",
              "          docLink.innerHTML = docLinkHtml;\n",
              "          element.appendChild(docLink);\n",
              "        }\n",
              "      </script>\n",
              "    </div>\n",
              "  </div>\n",
              "  "
            ]
          },
          "metadata": {},
          "execution_count": 61
        }
      ]
    },
    {
      "cell_type": "code",
      "source": [
        "# Here we see an example of the same text labeled differently. There\n",
        "# was also an example of a hard sentence that was cut off and labeled\n",
        "# as easy compared to the full sentence."
      ],
      "metadata": {
        "id": "BhdvSjWJZd-f"
      },
      "execution_count": 62,
      "outputs": []
    },
    {
      "cell_type": "code",
      "source": [],
      "metadata": {
        "id": "RMgwJOAEiict"
      },
      "execution_count": 70,
      "outputs": []
    },
    {
      "cell_type": "code",
      "source": [],
      "metadata": {
        "id": "d5M-uY8HjPKS"
      },
      "execution_count": null,
      "outputs": []
    }
  ]
}