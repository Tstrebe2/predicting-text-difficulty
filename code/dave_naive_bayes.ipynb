{
  "nbformat": 4,
  "nbformat_minor": 0,
  "metadata": {
    "colab": {
      "provenance": [],
      "collapsed_sections": [],
      "authorship_tag": "ABX9TyMZAk+1ZR0PwZ/4LQ089ir2",
      "include_colab_link": true
    },
    "kernelspec": {
      "name": "python3",
      "display_name": "Python 3"
    },
    "language_info": {
      "name": "python"
    }
  },
  "cells": [
    {
      "cell_type": "markdown",
      "metadata": {
        "id": "view-in-github",
        "colab_type": "text"
      },
      "source": [
        "<a href=\"https://colab.research.google.com/github/Tstrebe2/predicting-text-difficulty/blob/dave-updates/code/dave_naive_bayes.ipynb\" target=\"_parent\"><img src=\"https://colab.research.google.com/assets/colab-badge.svg\" alt=\"Open In Colab\"/></a>"
      ]
    },
    {
      "cell_type": "code",
      "execution_count": 1,
      "metadata": {
        "id": "Ru6jXshMfhPz"
      },
      "outputs": [],
      "source": [
        "import pandas as pd\n",
        "import numpy as np"
      ]
    },
    {
      "cell_type": "code",
      "source": [
        "from google.colab import drive\n",
        "drive.mount('/content/drive')"
      ],
      "metadata": {
        "colab": {
          "base_uri": "https://localhost:8080/"
        },
        "id": "qOe4T1jrfrRi",
        "outputId": "01563793-9ea4-440a-ee0e-8443bf8907ba"
      },
      "execution_count": 2,
      "outputs": [
        {
          "output_type": "stream",
          "name": "stdout",
          "text": [
            "Mounted at /content/drive\n"
          ]
        }
      ]
    },
    {
      "cell_type": "code",
      "source": [
        "df = pd.read_csv('drive/MyDrive/696/text_difficulty_features.csv',sep='\\t')\n",
        "df.head(5)"
      ],
      "metadata": {
        "colab": {
          "base_uri": "https://localhost:8080/",
          "height": 523
        },
        "id": "nAPWzl-bvHkX",
        "outputId": "c5212a43-f505-420d-8390-a2d5415e3148"
      },
      "execution_count": 3,
      "outputs": [
        {
          "output_type": "execute_result",
          "data": {
            "text/plain": [
              "                                       original_text  \\\n",
              "0  There is manuscript evidence that Austen conti...   \n",
              "1  In a remarkable comparative analysis , Mandaea...   \n",
              "2  Before Persephone was released to Hermes , who...   \n",
              "3  Cogeneration plants are commonly found in dist...   \n",
              "4  Geneva is the second-most-populous city in Swi...   \n",
              "\n",
              "                                     lemmatized_text  d_chall_score  aoa_mean  \\\n",
              "0  There be manuscript evidence that Austen conti...       8.533221  5.809310   \n",
              "1  In a remarkable comparative analysis , Mandaea...      12.320171  7.402308   \n",
              "2  Before Persephone be release to Hermes , who h...       5.931500  5.231351   \n",
              "3  Cogeneration plant be commonly find in distric...       7.015012  6.742000   \n",
              "4  Geneva be the second-most-populous city in Swi...       7.550745  5.455000   \n",
              "\n",
              "   aoa_min  aoa_max  conc_rating_mean  conc_rating_min  conc_rating_max  \\\n",
              "0     3.57    12.12          2.495517             1.33             4.57   \n",
              "1     2.89    11.94          2.334286             1.46             4.93   \n",
              "2     2.78    11.17          2.556486             1.43             4.86   \n",
              "3     3.56    11.53          3.369655             1.52             4.93   \n",
              "4     3.69    12.62          2.399333             1.43             4.79   \n",
              "\n",
              "   num_lemmas  label  \n",
              "0        38.0      1  \n",
              "1        21.0      1  \n",
              "2        40.0      1  \n",
              "3        32.0      1  \n",
              "4        22.0      1  "
            ],
            "text/html": [
              "\n",
              "  <div id=\"df-01aaeadc-ba6c-4af3-bab2-a7d2e336a397\">\n",
              "    <div class=\"colab-df-container\">\n",
              "      <div>\n",
              "<style scoped>\n",
              "    .dataframe tbody tr th:only-of-type {\n",
              "        vertical-align: middle;\n",
              "    }\n",
              "\n",
              "    .dataframe tbody tr th {\n",
              "        vertical-align: top;\n",
              "    }\n",
              "\n",
              "    .dataframe thead th {\n",
              "        text-align: right;\n",
              "    }\n",
              "</style>\n",
              "<table border=\"1\" class=\"dataframe\">\n",
              "  <thead>\n",
              "    <tr style=\"text-align: right;\">\n",
              "      <th></th>\n",
              "      <th>original_text</th>\n",
              "      <th>lemmatized_text</th>\n",
              "      <th>d_chall_score</th>\n",
              "      <th>aoa_mean</th>\n",
              "      <th>aoa_min</th>\n",
              "      <th>aoa_max</th>\n",
              "      <th>conc_rating_mean</th>\n",
              "      <th>conc_rating_min</th>\n",
              "      <th>conc_rating_max</th>\n",
              "      <th>num_lemmas</th>\n",
              "      <th>label</th>\n",
              "    </tr>\n",
              "  </thead>\n",
              "  <tbody>\n",
              "    <tr>\n",
              "      <th>0</th>\n",
              "      <td>There is manuscript evidence that Austen conti...</td>\n",
              "      <td>There be manuscript evidence that Austen conti...</td>\n",
              "      <td>8.533221</td>\n",
              "      <td>5.809310</td>\n",
              "      <td>3.57</td>\n",
              "      <td>12.12</td>\n",
              "      <td>2.495517</td>\n",
              "      <td>1.33</td>\n",
              "      <td>4.57</td>\n",
              "      <td>38.0</td>\n",
              "      <td>1</td>\n",
              "    </tr>\n",
              "    <tr>\n",
              "      <th>1</th>\n",
              "      <td>In a remarkable comparative analysis , Mandaea...</td>\n",
              "      <td>In a remarkable comparative analysis , Mandaea...</td>\n",
              "      <td>12.320171</td>\n",
              "      <td>7.402308</td>\n",
              "      <td>2.89</td>\n",
              "      <td>11.94</td>\n",
              "      <td>2.334286</td>\n",
              "      <td>1.46</td>\n",
              "      <td>4.93</td>\n",
              "      <td>21.0</td>\n",
              "      <td>1</td>\n",
              "    </tr>\n",
              "    <tr>\n",
              "      <th>2</th>\n",
              "      <td>Before Persephone was released to Hermes , who...</td>\n",
              "      <td>Before Persephone be release to Hermes , who h...</td>\n",
              "      <td>5.931500</td>\n",
              "      <td>5.231351</td>\n",
              "      <td>2.78</td>\n",
              "      <td>11.17</td>\n",
              "      <td>2.556486</td>\n",
              "      <td>1.43</td>\n",
              "      <td>4.86</td>\n",
              "      <td>40.0</td>\n",
              "      <td>1</td>\n",
              "    </tr>\n",
              "    <tr>\n",
              "      <th>3</th>\n",
              "      <td>Cogeneration plants are commonly found in dist...</td>\n",
              "      <td>Cogeneration plant be commonly find in distric...</td>\n",
              "      <td>7.015012</td>\n",
              "      <td>6.742000</td>\n",
              "      <td>3.56</td>\n",
              "      <td>11.53</td>\n",
              "      <td>3.369655</td>\n",
              "      <td>1.52</td>\n",
              "      <td>4.93</td>\n",
              "      <td>32.0</td>\n",
              "      <td>1</td>\n",
              "    </tr>\n",
              "    <tr>\n",
              "      <th>4</th>\n",
              "      <td>Geneva is the second-most-populous city in Swi...</td>\n",
              "      <td>Geneva be the second-most-populous city in Swi...</td>\n",
              "      <td>7.550745</td>\n",
              "      <td>5.455000</td>\n",
              "      <td>3.69</td>\n",
              "      <td>12.62</td>\n",
              "      <td>2.399333</td>\n",
              "      <td>1.43</td>\n",
              "      <td>4.79</td>\n",
              "      <td>22.0</td>\n",
              "      <td>1</td>\n",
              "    </tr>\n",
              "  </tbody>\n",
              "</table>\n",
              "</div>\n",
              "      <button class=\"colab-df-convert\" onclick=\"convertToInteractive('df-01aaeadc-ba6c-4af3-bab2-a7d2e336a397')\"\n",
              "              title=\"Convert this dataframe to an interactive table.\"\n",
              "              style=\"display:none;\">\n",
              "        \n",
              "  <svg xmlns=\"http://www.w3.org/2000/svg\" height=\"24px\"viewBox=\"0 0 24 24\"\n",
              "       width=\"24px\">\n",
              "    <path d=\"M0 0h24v24H0V0z\" fill=\"none\"/>\n",
              "    <path d=\"M18.56 5.44l.94 2.06.94-2.06 2.06-.94-2.06-.94-.94-2.06-.94 2.06-2.06.94zm-11 1L8.5 8.5l.94-2.06 2.06-.94-2.06-.94L8.5 2.5l-.94 2.06-2.06.94zm10 10l.94 2.06.94-2.06 2.06-.94-2.06-.94-.94-2.06-.94 2.06-2.06.94z\"/><path d=\"M17.41 7.96l-1.37-1.37c-.4-.4-.92-.59-1.43-.59-.52 0-1.04.2-1.43.59L10.3 9.45l-7.72 7.72c-.78.78-.78 2.05 0 2.83L4 21.41c.39.39.9.59 1.41.59.51 0 1.02-.2 1.41-.59l7.78-7.78 2.81-2.81c.8-.78.8-2.07 0-2.86zM5.41 20L4 18.59l7.72-7.72 1.47 1.35L5.41 20z\"/>\n",
              "  </svg>\n",
              "      </button>\n",
              "      \n",
              "  <style>\n",
              "    .colab-df-container {\n",
              "      display:flex;\n",
              "      flex-wrap:wrap;\n",
              "      gap: 12px;\n",
              "    }\n",
              "\n",
              "    .colab-df-convert {\n",
              "      background-color: #E8F0FE;\n",
              "      border: none;\n",
              "      border-radius: 50%;\n",
              "      cursor: pointer;\n",
              "      display: none;\n",
              "      fill: #1967D2;\n",
              "      height: 32px;\n",
              "      padding: 0 0 0 0;\n",
              "      width: 32px;\n",
              "    }\n",
              "\n",
              "    .colab-df-convert:hover {\n",
              "      background-color: #E2EBFA;\n",
              "      box-shadow: 0px 1px 2px rgba(60, 64, 67, 0.3), 0px 1px 3px 1px rgba(60, 64, 67, 0.15);\n",
              "      fill: #174EA6;\n",
              "    }\n",
              "\n",
              "    [theme=dark] .colab-df-convert {\n",
              "      background-color: #3B4455;\n",
              "      fill: #D2E3FC;\n",
              "    }\n",
              "\n",
              "    [theme=dark] .colab-df-convert:hover {\n",
              "      background-color: #434B5C;\n",
              "      box-shadow: 0px 1px 3px 1px rgba(0, 0, 0, 0.15);\n",
              "      filter: drop-shadow(0px 1px 2px rgba(0, 0, 0, 0.3));\n",
              "      fill: #FFFFFF;\n",
              "    }\n",
              "  </style>\n",
              "\n",
              "      <script>\n",
              "        const buttonEl =\n",
              "          document.querySelector('#df-01aaeadc-ba6c-4af3-bab2-a7d2e336a397 button.colab-df-convert');\n",
              "        buttonEl.style.display =\n",
              "          google.colab.kernel.accessAllowed ? 'block' : 'none';\n",
              "\n",
              "        async function convertToInteractive(key) {\n",
              "          const element = document.querySelector('#df-01aaeadc-ba6c-4af3-bab2-a7d2e336a397');\n",
              "          const dataTable =\n",
              "            await google.colab.kernel.invokeFunction('convertToInteractive',\n",
              "                                                     [key], {});\n",
              "          if (!dataTable) return;\n",
              "\n",
              "          const docLinkHtml = 'Like what you see? Visit the ' +\n",
              "            '<a target=\"_blank\" href=https://colab.research.google.com/notebooks/data_table.ipynb>data table notebook</a>'\n",
              "            + ' to learn more about interactive tables.';\n",
              "          element.innerHTML = '';\n",
              "          dataTable['output_type'] = 'display_data';\n",
              "          await google.colab.output.renderOutput(dataTable, element);\n",
              "          const docLink = document.createElement('div');\n",
              "          docLink.innerHTML = docLinkHtml;\n",
              "          element.appendChild(docLink);\n",
              "        }\n",
              "      </script>\n",
              "    </div>\n",
              "  </div>\n",
              "  "
            ]
          },
          "metadata": {},
          "execution_count": 3
        }
      ]
    },
    {
      "cell_type": "code",
      "source": [
        "df.dtypes"
      ],
      "metadata": {
        "colab": {
          "base_uri": "https://localhost:8080/"
        },
        "id": "lJ5NbL9Cx73g",
        "outputId": "a494e859-8f37-42a4-8b16-095536b8eace"
      },
      "execution_count": 4,
      "outputs": [
        {
          "output_type": "execute_result",
          "data": {
            "text/plain": [
              "original_text        object\n",
              "lemmatized_text      object\n",
              "d_chall_score       float64\n",
              "aoa_mean            float64\n",
              "aoa_min             float64\n",
              "aoa_max             float64\n",
              "conc_rating_mean    float64\n",
              "conc_rating_min     float64\n",
              "conc_rating_max     float64\n",
              "num_lemmas          float64\n",
              "label                 int64\n",
              "dtype: object"
            ]
          },
          "metadata": {},
          "execution_count": 4
        }
      ]
    },
    {
      "cell_type": "code",
      "source": [
        "# Extract only the columns we'll use for the classifier\n",
        "df = df[df.columns[:]]"
      ],
      "metadata": {
        "id": "WsO4yqW-xDs9"
      },
      "execution_count": 5,
      "outputs": []
    },
    {
      "cell_type": "code",
      "source": [
        "from sklearn.pipeline import Pipeline\n",
        "from sklearn.model_selection import train_test_split"
      ],
      "metadata": {
        "id": "0xY2TPwArPvC"
      },
      "execution_count": 6,
      "outputs": []
    },
    {
      "cell_type": "code",
      "source": [
        "#Commented out so that the Training and Testing sets are preserved\n",
        "\n",
        "# X = df[df.columns[:-1]]\n",
        "# y = df.label\n",
        "\n",
        "# X_train, X_test, y_train, y_test = train_test_split(X,y,\n",
        "#                                                     test_size=.1,\n",
        "#                                                     stratify=y,\n",
        "#                                                     random_state=99)\n",
        "#  Training_Set = pd.concat([X_train, pd.DataFrame(y_train)], axis=1)\n",
        "#  Testing_Set = pd.concat([X_test, pd.DataFrame(y_test)], axis=1)\n",
        "#  Testing_Set.to_csv('drive/Shareddrives/Milestone 2/Testing_set.csv', sep='\\t', index=False)\n",
        "# #  Training_Set.to_csv('drive/Shareddrives/Milestone 2/Training_set.csv', sep='\\t', index=False)"
      ],
      "metadata": {
        "id": "41_T1KQ7rT-R"
      },
      "execution_count": 7,
      "outputs": []
    },
    {
      "cell_type": "code",
      "source": [
        "train = pd.read_csv('drive/Shareddrives/Milestone 2/Training_set.csv', \n",
        "                      sep='\\t',index_col=0)\n",
        "\n",
        "test = pd.read_csv('drive/Shareddrives/Milestone 2/Testing_set.csv', sep='\\t',\n",
        "                     index_col=0)"
      ],
      "metadata": {
        "id": "c1zfSVg8ybmZ"
      },
      "execution_count": 8,
      "outputs": []
    },
    {
      "cell_type": "code",
      "source": [
        "print(f\"Training set dimensions: {train.shape}\")\n",
        "print(f\"label counts from training split (order is positive, negative): {train.label.value_counts().values}\")\n",
        "\n",
        "print(f\"Testing set dimensions: {test.shape}\")\n",
        "print(f\"label counts from training split (order is positive, negative): {test.label.value_counts().values}\")\n"
      ],
      "metadata": {
        "colab": {
          "base_uri": "https://localhost:8080/"
        },
        "id": "ETG3be8tZXUn",
        "outputId": "76983e3c-ef33-43ca-ccc9-ae6d1f1bd640"
      },
      "execution_count": 9,
      "outputs": [
        {
          "output_type": "stream",
          "name": "stdout",
          "text": [
            "Training set dimensions: (355652, 10)\n",
            "label counts from training split (order is positive, negative): [184549 171103]\n",
            "Testing set dimensions: (39517, 10)\n",
            "label counts from training split (order is positive, negative): [20506 19011]\n"
          ]
        }
      ]
    },
    {
      "cell_type": "code",
      "source": [
        "train.head()"
      ],
      "metadata": {
        "colab": {
          "base_uri": "https://localhost:8080/",
          "height": 350
        },
        "id": "4X79FHTfZ3NC",
        "outputId": "3f5291ee-dcda-4738-aeef-01a3f705add1"
      },
      "execution_count": 10,
      "outputs": [
        {
          "output_type": "execute_result",
          "data": {
            "text/plain": [
              "                                          lemmatized_text  d_chall_score  \\\n",
              "91224   For instance the number of k-permutations of n...       4.542700   \n",
              "117728  Singer and bass player Roger Waters gradually ...       7.556000   \n",
              "316017  Other page 2005 Macquarie Fields riot 2005 Cro...      10.714000   \n",
              "7423    Saint-Denis be founded by Ã tienne RÃ gnault i...       8.887000   \n",
              "201052  Pougny be a commune in the Ain department in e...       7.722873   \n",
              "\n",
              "        aoa_mean  aoa_min  aoa_max  conc_rating_mean  conc_rating_min  \\\n",
              "91224   5.140000     3.94     9.57          2.577500             1.43   \n",
              "117728  5.835000     3.69    11.11          2.637727             1.33   \n",
              "316017  6.456250     3.89    10.00          3.042500             1.43   \n",
              "7423    5.613637     3.69     9.39          2.545454             1.43   \n",
              "201052  6.232500     2.89    12.05          2.505000             1.43   \n",
              "\n",
              "        conc_rating_max  num_lemmas  label  \n",
              "91224              4.55        12.0      1  \n",
              "117728             4.62        25.0      1  \n",
              "316017             4.90        25.0      0  \n",
              "7423               4.96        20.0      1  \n",
              "201052             3.30        11.0      1  "
            ],
            "text/html": [
              "\n",
              "  <div id=\"df-d00e6f8e-6095-4e88-ac14-b0b296905fc6\">\n",
              "    <div class=\"colab-df-container\">\n",
              "      <div>\n",
              "<style scoped>\n",
              "    .dataframe tbody tr th:only-of-type {\n",
              "        vertical-align: middle;\n",
              "    }\n",
              "\n",
              "    .dataframe tbody tr th {\n",
              "        vertical-align: top;\n",
              "    }\n",
              "\n",
              "    .dataframe thead th {\n",
              "        text-align: right;\n",
              "    }\n",
              "</style>\n",
              "<table border=\"1\" class=\"dataframe\">\n",
              "  <thead>\n",
              "    <tr style=\"text-align: right;\">\n",
              "      <th></th>\n",
              "      <th>lemmatized_text</th>\n",
              "      <th>d_chall_score</th>\n",
              "      <th>aoa_mean</th>\n",
              "      <th>aoa_min</th>\n",
              "      <th>aoa_max</th>\n",
              "      <th>conc_rating_mean</th>\n",
              "      <th>conc_rating_min</th>\n",
              "      <th>conc_rating_max</th>\n",
              "      <th>num_lemmas</th>\n",
              "      <th>label</th>\n",
              "    </tr>\n",
              "  </thead>\n",
              "  <tbody>\n",
              "    <tr>\n",
              "      <th>91224</th>\n",
              "      <td>For instance the number of k-permutations of n...</td>\n",
              "      <td>4.542700</td>\n",
              "      <td>5.140000</td>\n",
              "      <td>3.94</td>\n",
              "      <td>9.57</td>\n",
              "      <td>2.577500</td>\n",
              "      <td>1.43</td>\n",
              "      <td>4.55</td>\n",
              "      <td>12.0</td>\n",
              "      <td>1</td>\n",
              "    </tr>\n",
              "    <tr>\n",
              "      <th>117728</th>\n",
              "      <td>Singer and bass player Roger Waters gradually ...</td>\n",
              "      <td>7.556000</td>\n",
              "      <td>5.835000</td>\n",
              "      <td>3.69</td>\n",
              "      <td>11.11</td>\n",
              "      <td>2.637727</td>\n",
              "      <td>1.33</td>\n",
              "      <td>4.62</td>\n",
              "      <td>25.0</td>\n",
              "      <td>1</td>\n",
              "    </tr>\n",
              "    <tr>\n",
              "      <th>316017</th>\n",
              "      <td>Other page 2005 Macquarie Fields riot 2005 Cro...</td>\n",
              "      <td>10.714000</td>\n",
              "      <td>6.456250</td>\n",
              "      <td>3.89</td>\n",
              "      <td>10.00</td>\n",
              "      <td>3.042500</td>\n",
              "      <td>1.43</td>\n",
              "      <td>4.90</td>\n",
              "      <td>25.0</td>\n",
              "      <td>0</td>\n",
              "    </tr>\n",
              "    <tr>\n",
              "      <th>7423</th>\n",
              "      <td>Saint-Denis be founded by Ã tienne RÃ gnault i...</td>\n",
              "      <td>8.887000</td>\n",
              "      <td>5.613637</td>\n",
              "      <td>3.69</td>\n",
              "      <td>9.39</td>\n",
              "      <td>2.545454</td>\n",
              "      <td>1.43</td>\n",
              "      <td>4.96</td>\n",
              "      <td>20.0</td>\n",
              "      <td>1</td>\n",
              "    </tr>\n",
              "    <tr>\n",
              "      <th>201052</th>\n",
              "      <td>Pougny be a commune in the Ain department in e...</td>\n",
              "      <td>7.722873</td>\n",
              "      <td>6.232500</td>\n",
              "      <td>2.89</td>\n",
              "      <td>12.05</td>\n",
              "      <td>2.505000</td>\n",
              "      <td>1.43</td>\n",
              "      <td>3.30</td>\n",
              "      <td>11.0</td>\n",
              "      <td>1</td>\n",
              "    </tr>\n",
              "  </tbody>\n",
              "</table>\n",
              "</div>\n",
              "      <button class=\"colab-df-convert\" onclick=\"convertToInteractive('df-d00e6f8e-6095-4e88-ac14-b0b296905fc6')\"\n",
              "              title=\"Convert this dataframe to an interactive table.\"\n",
              "              style=\"display:none;\">\n",
              "        \n",
              "  <svg xmlns=\"http://www.w3.org/2000/svg\" height=\"24px\"viewBox=\"0 0 24 24\"\n",
              "       width=\"24px\">\n",
              "    <path d=\"M0 0h24v24H0V0z\" fill=\"none\"/>\n",
              "    <path d=\"M18.56 5.44l.94 2.06.94-2.06 2.06-.94-2.06-.94-.94-2.06-.94 2.06-2.06.94zm-11 1L8.5 8.5l.94-2.06 2.06-.94-2.06-.94L8.5 2.5l-.94 2.06-2.06.94zm10 10l.94 2.06.94-2.06 2.06-.94-2.06-.94-.94-2.06-.94 2.06-2.06.94z\"/><path d=\"M17.41 7.96l-1.37-1.37c-.4-.4-.92-.59-1.43-.59-.52 0-1.04.2-1.43.59L10.3 9.45l-7.72 7.72c-.78.78-.78 2.05 0 2.83L4 21.41c.39.39.9.59 1.41.59.51 0 1.02-.2 1.41-.59l7.78-7.78 2.81-2.81c.8-.78.8-2.07 0-2.86zM5.41 20L4 18.59l7.72-7.72 1.47 1.35L5.41 20z\"/>\n",
              "  </svg>\n",
              "      </button>\n",
              "      \n",
              "  <style>\n",
              "    .colab-df-container {\n",
              "      display:flex;\n",
              "      flex-wrap:wrap;\n",
              "      gap: 12px;\n",
              "    }\n",
              "\n",
              "    .colab-df-convert {\n",
              "      background-color: #E8F0FE;\n",
              "      border: none;\n",
              "      border-radius: 50%;\n",
              "      cursor: pointer;\n",
              "      display: none;\n",
              "      fill: #1967D2;\n",
              "      height: 32px;\n",
              "      padding: 0 0 0 0;\n",
              "      width: 32px;\n",
              "    }\n",
              "\n",
              "    .colab-df-convert:hover {\n",
              "      background-color: #E2EBFA;\n",
              "      box-shadow: 0px 1px 2px rgba(60, 64, 67, 0.3), 0px 1px 3px 1px rgba(60, 64, 67, 0.15);\n",
              "      fill: #174EA6;\n",
              "    }\n",
              "\n",
              "    [theme=dark] .colab-df-convert {\n",
              "      background-color: #3B4455;\n",
              "      fill: #D2E3FC;\n",
              "    }\n",
              "\n",
              "    [theme=dark] .colab-df-convert:hover {\n",
              "      background-color: #434B5C;\n",
              "      box-shadow: 0px 1px 3px 1px rgba(0, 0, 0, 0.15);\n",
              "      filter: drop-shadow(0px 1px 2px rgba(0, 0, 0, 0.3));\n",
              "      fill: #FFFFFF;\n",
              "    }\n",
              "  </style>\n",
              "\n",
              "      <script>\n",
              "        const buttonEl =\n",
              "          document.querySelector('#df-d00e6f8e-6095-4e88-ac14-b0b296905fc6 button.colab-df-convert');\n",
              "        buttonEl.style.display =\n",
              "          google.colab.kernel.accessAllowed ? 'block' : 'none';\n",
              "\n",
              "        async function convertToInteractive(key) {\n",
              "          const element = document.querySelector('#df-d00e6f8e-6095-4e88-ac14-b0b296905fc6');\n",
              "          const dataTable =\n",
              "            await google.colab.kernel.invokeFunction('convertToInteractive',\n",
              "                                                     [key], {});\n",
              "          if (!dataTable) return;\n",
              "\n",
              "          const docLinkHtml = 'Like what you see? Visit the ' +\n",
              "            '<a target=\"_blank\" href=https://colab.research.google.com/notebooks/data_table.ipynb>data table notebook</a>'\n",
              "            + ' to learn more about interactive tables.';\n",
              "          element.innerHTML = '';\n",
              "          dataTable['output_type'] = 'display_data';\n",
              "          await google.colab.output.renderOutput(dataTable, element);\n",
              "          const docLink = document.createElement('div');\n",
              "          docLink.innerHTML = docLinkHtml;\n",
              "          element.appendChild(docLink);\n",
              "        }\n",
              "      </script>\n",
              "    </div>\n",
              "  </div>\n",
              "  "
            ]
          },
          "metadata": {},
          "execution_count": 10
        }
      ]
    },
    {
      "cell_type": "code",
      "source": [
        "X_train = train[train.columns[:-1]]\n",
        "y_train = train[train.columns[-1]]\n",
        "\n",
        "X_test = test[test.columns[:-1]]\n",
        "y_test = test[test.columns[-1]]"
      ],
      "metadata": {
        "id": "N5EvHSDF9UKh"
      },
      "execution_count": 11,
      "outputs": []
    },
    {
      "cell_type": "code",
      "source": [
        "metrics_df = {\"model_name\":[],\n",
        "              \"model_instance\":[],\n",
        "              \"accuracy\": [],\n",
        "              \"precision\": [],\n",
        "              \"recall\": [],\n",
        "              \"aucprc\":[],\n",
        "              \"aucroc\": []}"
      ],
      "metadata": {
        "id": "he_GFBweIVTp"
      },
      "execution_count": 53,
      "outputs": []
    },
    {
      "cell_type": "code",
      "source": [
        "from sklearn. metrics import precision_score, recall_score, precision_recall_curve, roc_auc_score"
      ],
      "metadata": {
        "id": "NJOAPORP-FEP"
      },
      "execution_count": 13,
      "outputs": []
    },
    {
      "cell_type": "code",
      "source": [
        "from sklearn.metrics._plot.precision_recall_curve import plot_precision_recall_curve\n"
      ],
      "metadata": {
        "id": "G6paptc-82i0"
      },
      "execution_count": 14,
      "outputs": []
    },
    {
      "cell_type": "code",
      "source": [
        "def generate_model_name(model):\n",
        "  for key,value in model.best_params_.items():\n",
        "    model_name += f\" {key}_{value}\"\n",
        "  return model_name\n",
        "\n",
        "def compute_metrics(model,model_name, X_test_vec, y_test):\n",
        "    # extract the model's hyperparameters and make that part of the identifier for the model \n",
        "\n",
        "    y_pred = model.predict(X_test_vec)\n",
        "    acc = model.score(X_test_vec, y_test)\n",
        "    recall = recall_score(y_test,y_pred)\n",
        "    precision = precision_score(y_test, y_pred)\n",
        "    y_proba = model.predict_proba(X_test_vec)[:,1]\n",
        "    prc = precision_recall_curve(y_test, y_proba)\n",
        "    roc = roc_auc = roc_auc_score(y_test, y_proba)\n",
        "    \n",
        "    metrics_df['model_name'].append(model_name)\n",
        "    metrics_df['model_instance'].append(model)\n",
        "    metrics_df['accuracy'].append(acc)\n",
        "    metrics_df['recall'].append(recall)\n",
        "    metrics_df['precision'].append(precision)\n",
        "    metrics_df['aucprc'].append(prc)\n",
        "    metrics_df['aucroc'].append(roc)\n",
        "\n",
        "\n",
        "\n",
        "\n",
        "\n",
        "\n",
        "\n"
      ],
      "metadata": {
        "id": "p4bRROwoIa0R"
      },
      "execution_count": 15,
      "outputs": []
    },
    {
      "cell_type": "code",
      "source": [],
      "metadata": {
        "id": "Olre-O5DPC5F"
      },
      "execution_count": null,
      "outputs": []
    },
    {
      "cell_type": "markdown",
      "source": [
        "### **Naive Bayes with Tfidf Vectorizer**"
      ],
      "metadata": {
        "id": "WJFzAfl-PJbA"
      }
    },
    {
      "cell_type": "code",
      "source": [
        "# NaiveBayes Classifier with Tfidf Vectorizer\n",
        "from sklearn.naive_bayes import MultinomialNB, BernoulliNB\n",
        "from sklearn.feature_extraction.text import TfidfVectorizer\n",
        "from sklearn.model_selection import GridSearchCV"
      ],
      "metadata": {
        "id": "qwyszJP3fv9N"
      },
      "execution_count": 42,
      "outputs": []
    },
    {
      "cell_type": "code",
      "source": [
        "# due to the amount of time it took to run the tfidf vectorizer, I manually \n",
        "# tested min_df settings and determined the optimal range to be in the 20s\n",
        "# I also ran manual models on ngram ranges and saw better performance on \n",
        "# bigrams compared to trigrams\n",
        "\n",
        "\n",
        "pipeline = Pipeline([('tfidf', TfidfVectorizer()),\n",
        "                     ('clf', BernoulliNB())\n",
        "                    ])\n",
        "\n",
        "parameters = {\n",
        "    'tfidf__min_df': [25,30],\n",
        "    'tfidf__stop_words': ['english'],\n",
        "    'tfidf__ngram_range': [(1, 2)],\n",
        "    'clf__alpha': [0.001,0.01,0.1,1,5,10,50, 100]\n",
        "}"
      ],
      "metadata": {
        "id": "KS-SHB_-CEof"
      },
      "execution_count": 48,
      "outputs": []
    },
    {
      "cell_type": "code",
      "source": [
        "grid_bnb_f1 = GridSearchCV(pipeline, \n",
        "                            param_grid=parameters,\n",
        "                            scoring='f1', \n",
        "                            cv=3, \n",
        "                            n_jobs=-1).fit(X_train['lemmatized_text'],y_train)\n",
        "grid_bnb_f1.best_params_"
      ],
      "metadata": {
        "colab": {
          "base_uri": "https://localhost:8080/"
        },
        "id": "jF4qu7vjEaKb",
        "outputId": "11866975-fd93-43b0-8d02-14f15a459401"
      },
      "execution_count": 49,
      "outputs": [
        {
          "output_type": "execute_result",
          "data": {
            "text/plain": [
              "{'clf__alpha': 0.001,\n",
              " 'tfidf__min_df': 30,\n",
              " 'tfidf__ngram_range': (1, 2),\n",
              " 'tfidf__stop_words': 'english'}"
            ]
          },
          "metadata": {},
          "execution_count": 49
        }
      ]
    },
    {
      "cell_type": "code",
      "source": [
        "vec = grid_bnb_f1.best_estimator_.named_steps['tfidf']\n",
        "best_model = grid_bnb_acc.best_estimator_.named_steps['clf']\n",
        "neg_class = best_model.feature_log_prob_[0, :].argsort()[::-1]\n",
        "pos_class = best_model.feature_log_prob_[1, :].argsort()[::-1]"
      ],
      "metadata": {
        "id": "3Lf2fle5w9qw"
      },
      "execution_count": 50,
      "outputs": []
    },
    {
      "cell_type": "code",
      "source": [
        "print(\"Top words in negative class:\", np.take(vec.get_feature_names_out(), neg_class[:10]))\n",
        "print(\"words in positive class:\", np.take(vec.get_feature_names_out(), pos_class[:10]))"
      ],
      "metadata": {
        "id": "L-awsrM5oK_P",
        "outputId": "a64836e5-58b5-4223-a768-694f664dd81f",
        "colab": {
          "base_uri": "https://localhost:8080/"
        }
      },
      "execution_count": 51,
      "outputs": [
        {
          "output_type": "stream",
          "name": "stdout",
          "text": [
            "Top words in negative class: ['bear' 'use' 'make' 'france' 'city' 'region' 'united' 'department'\n",
            " 'north' 'know']\n",
            "words in positive class: ['bear' 'use' 'france' 'know' 'city' 'department' 'commune' 'united'\n",
            " 'year' 'include']\n"
          ]
        }
      ]
    },
    {
      "cell_type": "code",
      "source": [
        "grid_bnb_f1.best_estimator_.score(X_test['lemmatized_text'], y_test)"
      ],
      "metadata": {
        "colab": {
          "base_uri": "https://localhost:8080/"
        },
        "id": "I4lq7K9Vdkb2",
        "outputId": "357929e4-ebbc-4e78-af6c-dc0afd67549b"
      },
      "execution_count": 52,
      "outputs": [
        {
          "output_type": "execute_result",
          "data": {
            "text/plain": [
              "0.6653086013614394"
            ]
          },
          "metadata": {},
          "execution_count": 52
        }
      ]
    },
    {
      "cell_type": "code",
      "source": [
        "# tf_vec = TfidfVectorizer(min_df = 30,\n",
        "#                          stop_words='english',\n",
        "#                          ngram_range=(1, 2))"
      ],
      "metadata": {
        "id": "arO-5lBKgLP8"
      },
      "execution_count": null,
      "outputs": []
    },
    {
      "cell_type": "code",
      "source": [
        "# X_train_vec = tf_vec.fit_transform(X_train['lemmatized_text'])\n",
        "# X_test_vec = tf_vec.transform(X_test['lemmatized_text'])"
      ],
      "metadata": {
        "id": "J6Uznh5UgwHR"
      },
      "execution_count": null,
      "outputs": []
    },
    {
      "cell_type": "code",
      "source": [
        "# bnb = BernoulliNB(alpha=.1).fit(X_train_vec,y_train)\n",
        "# bnb.score(X_test_vec,y_test)\n",
        "# manual_params = {'alpha': [0.001, 0.01, 0.1, 1,5,10,50, 100]}\n",
        "# grid_bn_acc = GridSearchCV(BernoulliNB(), param_grid=param_grid)\n",
        "# grid_bn_acc.fit(X_train_vec,y_train)\n",
        "# grid_bn_acc.best_estimator_.score(tf_vec.transform(X_test['lemmatized_text']),y_test)"
      ],
      "metadata": {
        "id": "cwuUoN2s0kC6"
      },
      "execution_count": 32,
      "outputs": []
    },
    {
      "cell_type": "code",
      "source": [
        "model_name  = 'Tf-idf BNB alpha_.001 min_df_30 ngram_1_2'\n",
        "\n",
        "# X_test_vec = tf_vec.transform(X_test['lemmatized_text'])\n",
        "compute_metrics(grid_bnb_f1.best_estimator_,\n",
        "                model_name,\n",
        "                X_test['lemmatized_text'],\n",
        "                y_test)\n",
        "\n"
      ],
      "metadata": {
        "id": "iqc6arElDwpF"
      },
      "execution_count": 54,
      "outputs": []
    },
    {
      "cell_type": "code",
      "source": [
        "metrics_df"
      ],
      "metadata": {
        "colab": {
          "base_uri": "https://localhost:8080/"
        },
        "id": "J2Wuv-0FHgAc",
        "outputId": "6f25eb1f-036f-47c8-d2b8-981f134a887b"
      },
      "execution_count": 55,
      "outputs": [
        {
          "output_type": "execute_result",
          "data": {
            "text/plain": [
              "{'model_name': ['Tf-idf BNB alpha_.001 min_df_30 ngram_1_2'],\n",
              " 'model_instance': [Pipeline(steps=[('tfidf',\n",
              "                   TfidfVectorizer(min_df=30, ngram_range=(1, 2),\n",
              "                                   stop_words='english')),\n",
              "                  ('clf', BernoulliNB(alpha=0.001))])],\n",
              " 'accuracy': [0.6653086013614394],\n",
              " 'precision': [0.6973541531121232],\n",
              " 'recall': [0.6272310543255633],\n",
              " 'aucprc': [(array([0.52806963, 0.52805748, 0.52807108, ..., 0.99673203, 0.99649123,\n",
              "          1.        ]),\n",
              "   array([1.        , 0.99995123, 0.99995123, ..., 0.0148737 , 0.0138496 ,\n",
              "          0.        ]),\n",
              "   array([2.29706729e-04, 2.30541068e-04, 2.31756208e-04, ...,\n",
              "          1.00000000e+00, 1.00000000e+00, 1.00000000e+00]))],\n",
              " 'aucroc': [0.7346471868891831]}"
            ]
          },
          "metadata": {},
          "execution_count": 55
        }
      ]
    },
    {
      "cell_type": "code",
      "source": [],
      "metadata": {
        "id": "EBO0y34RuzHq"
      },
      "execution_count": null,
      "outputs": []
    },
    {
      "cell_type": "markdown",
      "source": [
        "# Mads Features"
      ],
      "metadata": {
        "id": "1nY-B5AA-ZYI"
      }
    },
    {
      "cell_type": "code",
      "source": [
        "from sklearn.impute import SimpleImputer\n",
        "from sklearn.preprocessing import MinMaxScaler"
      ],
      "metadata": {
        "id": "swKOWRZy-3LA"
      },
      "execution_count": 37,
      "outputs": []
    },
    {
      "cell_type": "code",
      "source": [
        "# X_train_mads_features = X_train.iloc[:,1:9]\n",
        "# mads_mean = SimpleImputer(missing_values=np.nan, strategy='mean')\n",
        "# X_train_mads_features_imp = mads_mean.fit_transform(X_train_mads_features)"
      ],
      "metadata": {
        "id": "kPrEuGsuuym9"
      },
      "execution_count": null,
      "outputs": []
    },
    {
      "cell_type": "code",
      "source": [
        "cols = ['d_chall_score','aoa_mean','aoa_min','aoa_max','conc_rating_mean','conc_rating_min', 'conc_rating_max','num_lemmas']\n",
        "X_train_mads_features = X_train.iloc[:][cols]\n",
        "X_train_mads_features.describe()"
      ],
      "metadata": {
        "colab": {
          "base_uri": "https://localhost:8080/",
          "height": 297
        },
        "id": "8GYIzq_zJ8kb",
        "outputId": "cd6279d5-2c22-4ec9-819d-aa8ee106fac7"
      },
      "execution_count": 56,
      "outputs": [
        {
          "output_type": "execute_result",
          "data": {
            "text/plain": [
              "       d_chall_score       aoa_mean        aoa_min        aoa_max  \\\n",
              "count  355652.000000  355645.000000  355652.000000  355645.000000   \n",
              "mean        7.556820       5.754599       3.395488      10.419940   \n",
              "std         2.687109       1.004769       0.823235       2.596776   \n",
              "min         0.000000       0.000000       0.000000       0.000000   \n",
              "25%         5.729000       5.227647       2.890000       8.780000   \n",
              "50%         7.461543       5.676970       3.280000      10.500000   \n",
              "75%         9.158327       6.205294       3.690000      12.110000   \n",
              "max        18.716400      18.330000      18.330000      25.000000   \n",
              "\n",
              "       conc_rating_mean  conc_rating_min  conc_rating_max     num_lemmas  \n",
              "count     352989.000000    352989.000000    352989.000000  355652.000000  \n",
              "mean           2.673894         1.472457         4.460836      19.759959  \n",
              "std            0.355685         0.321249         0.568358      10.539020  \n",
              "min            1.190000         1.040000         1.190000       0.000000  \n",
              "25%            2.447143         1.430000         4.180000      12.000000  \n",
              "50%            2.639091         1.430000         4.700000      18.000000  \n",
              "75%            2.863000         1.440000         4.880000      25.000000  \n",
              "max            5.000000         5.000000         5.000000      76.000000  "
            ],
            "text/html": [
              "\n",
              "  <div id=\"df-a77e6ea2-b864-4b23-bb05-72c2fb7b6ff2\">\n",
              "    <div class=\"colab-df-container\">\n",
              "      <div>\n",
              "<style scoped>\n",
              "    .dataframe tbody tr th:only-of-type {\n",
              "        vertical-align: middle;\n",
              "    }\n",
              "\n",
              "    .dataframe tbody tr th {\n",
              "        vertical-align: top;\n",
              "    }\n",
              "\n",
              "    .dataframe thead th {\n",
              "        text-align: right;\n",
              "    }\n",
              "</style>\n",
              "<table border=\"1\" class=\"dataframe\">\n",
              "  <thead>\n",
              "    <tr style=\"text-align: right;\">\n",
              "      <th></th>\n",
              "      <th>d_chall_score</th>\n",
              "      <th>aoa_mean</th>\n",
              "      <th>aoa_min</th>\n",
              "      <th>aoa_max</th>\n",
              "      <th>conc_rating_mean</th>\n",
              "      <th>conc_rating_min</th>\n",
              "      <th>conc_rating_max</th>\n",
              "      <th>num_lemmas</th>\n",
              "    </tr>\n",
              "  </thead>\n",
              "  <tbody>\n",
              "    <tr>\n",
              "      <th>count</th>\n",
              "      <td>355652.000000</td>\n",
              "      <td>355645.000000</td>\n",
              "      <td>355652.000000</td>\n",
              "      <td>355645.000000</td>\n",
              "      <td>352989.000000</td>\n",
              "      <td>352989.000000</td>\n",
              "      <td>352989.000000</td>\n",
              "      <td>355652.000000</td>\n",
              "    </tr>\n",
              "    <tr>\n",
              "      <th>mean</th>\n",
              "      <td>7.556820</td>\n",
              "      <td>5.754599</td>\n",
              "      <td>3.395488</td>\n",
              "      <td>10.419940</td>\n",
              "      <td>2.673894</td>\n",
              "      <td>1.472457</td>\n",
              "      <td>4.460836</td>\n",
              "      <td>19.759959</td>\n",
              "    </tr>\n",
              "    <tr>\n",
              "      <th>std</th>\n",
              "      <td>2.687109</td>\n",
              "      <td>1.004769</td>\n",
              "      <td>0.823235</td>\n",
              "      <td>2.596776</td>\n",
              "      <td>0.355685</td>\n",
              "      <td>0.321249</td>\n",
              "      <td>0.568358</td>\n",
              "      <td>10.539020</td>\n",
              "    </tr>\n",
              "    <tr>\n",
              "      <th>min</th>\n",
              "      <td>0.000000</td>\n",
              "      <td>0.000000</td>\n",
              "      <td>0.000000</td>\n",
              "      <td>0.000000</td>\n",
              "      <td>1.190000</td>\n",
              "      <td>1.040000</td>\n",
              "      <td>1.190000</td>\n",
              "      <td>0.000000</td>\n",
              "    </tr>\n",
              "    <tr>\n",
              "      <th>25%</th>\n",
              "      <td>5.729000</td>\n",
              "      <td>5.227647</td>\n",
              "      <td>2.890000</td>\n",
              "      <td>8.780000</td>\n",
              "      <td>2.447143</td>\n",
              "      <td>1.430000</td>\n",
              "      <td>4.180000</td>\n",
              "      <td>12.000000</td>\n",
              "    </tr>\n",
              "    <tr>\n",
              "      <th>50%</th>\n",
              "      <td>7.461543</td>\n",
              "      <td>5.676970</td>\n",
              "      <td>3.280000</td>\n",
              "      <td>10.500000</td>\n",
              "      <td>2.639091</td>\n",
              "      <td>1.430000</td>\n",
              "      <td>4.700000</td>\n",
              "      <td>18.000000</td>\n",
              "    </tr>\n",
              "    <tr>\n",
              "      <th>75%</th>\n",
              "      <td>9.158327</td>\n",
              "      <td>6.205294</td>\n",
              "      <td>3.690000</td>\n",
              "      <td>12.110000</td>\n",
              "      <td>2.863000</td>\n",
              "      <td>1.440000</td>\n",
              "      <td>4.880000</td>\n",
              "      <td>25.000000</td>\n",
              "    </tr>\n",
              "    <tr>\n",
              "      <th>max</th>\n",
              "      <td>18.716400</td>\n",
              "      <td>18.330000</td>\n",
              "      <td>18.330000</td>\n",
              "      <td>25.000000</td>\n",
              "      <td>5.000000</td>\n",
              "      <td>5.000000</td>\n",
              "      <td>5.000000</td>\n",
              "      <td>76.000000</td>\n",
              "    </tr>\n",
              "  </tbody>\n",
              "</table>\n",
              "</div>\n",
              "      <button class=\"colab-df-convert\" onclick=\"convertToInteractive('df-a77e6ea2-b864-4b23-bb05-72c2fb7b6ff2')\"\n",
              "              title=\"Convert this dataframe to an interactive table.\"\n",
              "              style=\"display:none;\">\n",
              "        \n",
              "  <svg xmlns=\"http://www.w3.org/2000/svg\" height=\"24px\"viewBox=\"0 0 24 24\"\n",
              "       width=\"24px\">\n",
              "    <path d=\"M0 0h24v24H0V0z\" fill=\"none\"/>\n",
              "    <path d=\"M18.56 5.44l.94 2.06.94-2.06 2.06-.94-2.06-.94-.94-2.06-.94 2.06-2.06.94zm-11 1L8.5 8.5l.94-2.06 2.06-.94-2.06-.94L8.5 2.5l-.94 2.06-2.06.94zm10 10l.94 2.06.94-2.06 2.06-.94-2.06-.94-.94-2.06-.94 2.06-2.06.94z\"/><path d=\"M17.41 7.96l-1.37-1.37c-.4-.4-.92-.59-1.43-.59-.52 0-1.04.2-1.43.59L10.3 9.45l-7.72 7.72c-.78.78-.78 2.05 0 2.83L4 21.41c.39.39.9.59 1.41.59.51 0 1.02-.2 1.41-.59l7.78-7.78 2.81-2.81c.8-.78.8-2.07 0-2.86zM5.41 20L4 18.59l7.72-7.72 1.47 1.35L5.41 20z\"/>\n",
              "  </svg>\n",
              "      </button>\n",
              "      \n",
              "  <style>\n",
              "    .colab-df-container {\n",
              "      display:flex;\n",
              "      flex-wrap:wrap;\n",
              "      gap: 12px;\n",
              "    }\n",
              "\n",
              "    .colab-df-convert {\n",
              "      background-color: #E8F0FE;\n",
              "      border: none;\n",
              "      border-radius: 50%;\n",
              "      cursor: pointer;\n",
              "      display: none;\n",
              "      fill: #1967D2;\n",
              "      height: 32px;\n",
              "      padding: 0 0 0 0;\n",
              "      width: 32px;\n",
              "    }\n",
              "\n",
              "    .colab-df-convert:hover {\n",
              "      background-color: #E2EBFA;\n",
              "      box-shadow: 0px 1px 2px rgba(60, 64, 67, 0.3), 0px 1px 3px 1px rgba(60, 64, 67, 0.15);\n",
              "      fill: #174EA6;\n",
              "    }\n",
              "\n",
              "    [theme=dark] .colab-df-convert {\n",
              "      background-color: #3B4455;\n",
              "      fill: #D2E3FC;\n",
              "    }\n",
              "\n",
              "    [theme=dark] .colab-df-convert:hover {\n",
              "      background-color: #434B5C;\n",
              "      box-shadow: 0px 1px 3px 1px rgba(0, 0, 0, 0.15);\n",
              "      filter: drop-shadow(0px 1px 2px rgba(0, 0, 0, 0.3));\n",
              "      fill: #FFFFFF;\n",
              "    }\n",
              "  </style>\n",
              "\n",
              "      <script>\n",
              "        const buttonEl =\n",
              "          document.querySelector('#df-a77e6ea2-b864-4b23-bb05-72c2fb7b6ff2 button.colab-df-convert');\n",
              "        buttonEl.style.display =\n",
              "          google.colab.kernel.accessAllowed ? 'block' : 'none';\n",
              "\n",
              "        async function convertToInteractive(key) {\n",
              "          const element = document.querySelector('#df-a77e6ea2-b864-4b23-bb05-72c2fb7b6ff2');\n",
              "          const dataTable =\n",
              "            await google.colab.kernel.invokeFunction('convertToInteractive',\n",
              "                                                     [key], {});\n",
              "          if (!dataTable) return;\n",
              "\n",
              "          const docLinkHtml = 'Like what you see? Visit the ' +\n",
              "            '<a target=\"_blank\" href=https://colab.research.google.com/notebooks/data_table.ipynb>data table notebook</a>'\n",
              "            + ' to learn more about interactive tables.';\n",
              "          element.innerHTML = '';\n",
              "          dataTable['output_type'] = 'display_data';\n",
              "          await google.colab.output.renderOutput(dataTable, element);\n",
              "          const docLink = document.createElement('div');\n",
              "          docLink.innerHTML = docLinkHtml;\n",
              "          element.appendChild(docLink);\n",
              "        }\n",
              "      </script>\n",
              "    </div>\n",
              "  </div>\n",
              "  "
            ]
          },
          "metadata": {},
          "execution_count": 56
        }
      ]
    },
    {
      "cell_type": "code",
      "source": [
        "mads_pipeline = Pipeline([('imputer', SimpleImputer(missing_values=np.nan, strategy='mean')),\n",
        "                          ('scaler', MinMaxScaler()),\n",
        "                          ('clf', BernoulliNB())\n",
        "                         ])\n",
        "\n",
        "parameters = {\n",
        "    'clf__alpha': [0.001,0.01,0.1,1,5,10,50, 100]\n",
        "}"
      ],
      "metadata": {
        "id": "a-G64QlNGUCy"
      },
      "execution_count": 57,
      "outputs": []
    },
    {
      "cell_type": "code",
      "source": [
        "grid_bnb_mads_f1 = (GridSearchCV(mads_pipeline,\n",
        "                                  param_grid=parameters,\n",
        "                                  scoring='f1',\n",
        "                                  n_jobs=-1, \n",
        "                                  cv=3).fit(X_train_mads_features,y_train))"
      ],
      "metadata": {
        "id": "HQYctgAduyFv"
      },
      "execution_count": 59,
      "outputs": []
    },
    {
      "cell_type": "code",
      "source": [
        "# old code pre-pipeline\n",
        "# param_grid = {'alpha': [0.001, 0.01,0.1,.5,1,2,3,4,5,10,25,50,100,500]}\n",
        "# grid_mnb_mads_acc_alt = GridSearchCV(MultinomialNB(), param_grid=param_grid)\n",
        "# grid_mnb_mads_acc_alt.fit(X_train_mads_features,y_train)"
      ],
      "metadata": {
        "id": "BiAcyZmOv1DS"
      },
      "execution_count": 60,
      "outputs": []
    },
    {
      "cell_type": "code",
      "source": [
        "best_model = grid_bnb_mads_f1.best_estimator_.named_steps['clf']\n",
        "\n",
        "\n",
        "neg_class = best_model.feature_log_prob_[0, :].argsort()[::-1]\n",
        "pos_class = best_model.feature_log_prob_[1, :].argsort()[::-1]\n",
        "\n",
        "print(np.take(cols, neg_class[:10]))\n",
        "print(np.take(cols, pos_class[:10]))\n",
        "\n",
        "\n",
        "\n"
      ],
      "metadata": {
        "id": "lXujXR4spaeX",
        "outputId": "cb8847ee-985a-4438-8a8f-c828683b79bb",
        "colab": {
          "base_uri": "https://localhost:8080/"
        }
      },
      "execution_count": 72,
      "outputs": [
        {
          "output_type": "stream",
          "name": "stdout",
          "text": [
            "['num_lemmas' 'd_chall_score' 'conc_rating_max' 'conc_rating_min'\n",
            " 'conc_rating_mean' 'aoa_max' 'aoa_min' 'aoa_mean']\n",
            "['conc_rating_max' 'conc_rating_mean' 'num_lemmas' 'conc_rating_min'\n",
            " 'd_chall_score' 'aoa_max' 'aoa_min' 'aoa_mean']\n"
          ]
        }
      ]
    },
    {
      "cell_type": "code",
      "source": [
        "# Negative Class Feature Importance by Log Probabilities\n",
        "list(zip(np.take(cols, neg_class[:10]),\n",
        "         [best_model.feature_log_prob_[0,idx] for idx in neg_class]))"
      ],
      "metadata": {
        "id": "y5uTMYirzxmZ",
        "outputId": "0c678a89-587d-4804-bbe7-9efe4930cb49",
        "colab": {
          "base_uri": "https://localhost:8080/"
        }
      },
      "execution_count": 85,
      "outputs": [
        {
          "output_type": "execute_result",
          "data": {
            "text/plain": [
              "[('num_lemmas', -5.84443249351807e-09),\n",
              " ('d_chall_score', -5.84443249351807e-09),\n",
              " ('conc_rating_max', -5.850294362730324e-06),\n",
              " ('conc_rating_min', -5.850294362730324e-06),\n",
              " ('conc_rating_mean', -5.850294362730324e-06),\n",
              " ('aoa_max', -0.008492862608337148),\n",
              " ('aoa_min', -0.008492862608337148),\n",
              " ('aoa_mean', -0.008492862608337148)]"
            ]
          },
          "metadata": {},
          "execution_count": 85
        }
      ]
    },
    {
      "cell_type": "code",
      "source": [
        "# Positive Class Feature Importance by Log Probabilities\n",
        "list(zip(np.take(cols, pos_class[:10]),\n",
        "         [best_model.feature_log_prob_[1,idx] for idx in pos_class]))"
      ],
      "metadata": {
        "id": "nWQ9Mt401ec5",
        "outputId": "0745a40e-26ea-464a-ee2c-8e21e91c44b3",
        "colab": {
          "base_uri": "https://localhost:8080/"
        }
      },
      "execution_count": 86,
      "outputs": [
        {
          "output_type": "execute_result",
          "data": {
            "text/plain": [
              "[('conc_rating_max', -5.424048378444013e-06),\n",
              " ('conc_rating_mean', -5.424048378444013e-06),\n",
              " ('num_lemmas', -1.6261395986205684e-05),\n",
              " ('conc_rating_min', -1.6261395986205684e-05),\n",
              " ('d_chall_score', -1.6261395986205684e-05),\n",
              " ('aoa_max', -0.005095627020795135),\n",
              " ('aoa_min', -0.005095627020795135),\n",
              " ('aoa_mean', -0.005095627020795135)]"
            ]
          },
          "metadata": {},
          "execution_count": 86
        }
      ]
    },
    {
      "cell_type": "code",
      "source": [
        "grid_bnb_mads_f1.best_estimator_"
      ],
      "metadata": {
        "id": "_StibTzcxlz2",
        "outputId": "8190de9a-5678-4387-bf75-20ed32dc30e1",
        "colab": {
          "base_uri": "https://localhost:8080/"
        }
      },
      "execution_count": 88,
      "outputs": [
        {
          "output_type": "execute_result",
          "data": {
            "text/plain": [
              "Pipeline(steps=[('imputer', SimpleImputer()), ('scaler', MinMaxScaler()),\n",
              "                ('clf', BernoulliNB(alpha=0.001))])"
            ]
          },
          "metadata": {},
          "execution_count": 88
        }
      ]
    },
    {
      "cell_type": "code",
      "source": [
        "X_test_mads_features = X_test.iloc[:][cols]"
      ],
      "metadata": {
        "id": "lATg3ZS4xvzg"
      },
      "execution_count": 89,
      "outputs": []
    },
    {
      "cell_type": "code",
      "source": [
        "X_test_mads_features"
      ],
      "metadata": {
        "colab": {
          "base_uri": "https://localhost:8080/",
          "height": 419
        },
        "id": "stke8pjuye0t",
        "outputId": "35fbab30-5bbd-404e-f8ed-7e57efcba126"
      },
      "execution_count": 90,
      "outputs": [
        {
          "output_type": "execute_result",
          "data": {
            "text/plain": [
              "        d_chall_score  aoa_mean  aoa_min  aoa_max  conc_rating_mean  \\\n",
              "196765       7.590821  5.722857     2.89    11.59          2.312857   \n",
              "145609       7.344964  6.081429     3.69    11.56          2.866923   \n",
              "333830       5.727975  5.956154     3.68    13.33          3.014167   \n",
              "336288       5.795817  6.546957     3.57    14.50          3.496190   \n",
              "247542       7.174366  5.413333     3.63     8.56          2.910000   \n",
              "...               ...       ...      ...      ...               ...   \n",
              "300022      14.481956  7.105000     3.89    10.58          3.814000   \n",
              "360562       7.308000  5.510000     3.95     9.94          2.370667   \n",
              "139935       7.111650  6.332727     3.06    11.72          2.233043   \n",
              "22927        8.159213  5.425000     2.89    11.14          2.819091   \n",
              "209265       5.727975  5.260000     3.69     9.84          2.529231   \n",
              "\n",
              "        conc_rating_min  conc_rating_max  num_lemmas  \n",
              "196765             1.43             3.84        19.0  \n",
              "145609             1.43             4.18        17.0  \n",
              "333830             1.43             4.90        16.0  \n",
              "336288             1.33             5.00        24.0  \n",
              "247542             1.43             4.86        12.0  \n",
              "...                 ...              ...         ...  \n",
              "300022             2.97             4.90         9.0  \n",
              "360562             1.33             4.90        20.0  \n",
              "139935             1.33             4.93        24.0  \n",
              "22927              1.43             4.86        31.0  \n",
              "209265             1.43             4.14        16.0  \n",
              "\n",
              "[39517 rows x 8 columns]"
            ],
            "text/html": [
              "\n",
              "  <div id=\"df-2bd24dc5-3867-4a77-9ac6-a1339f8e6a4e\">\n",
              "    <div class=\"colab-df-container\">\n",
              "      <div>\n",
              "<style scoped>\n",
              "    .dataframe tbody tr th:only-of-type {\n",
              "        vertical-align: middle;\n",
              "    }\n",
              "\n",
              "    .dataframe tbody tr th {\n",
              "        vertical-align: top;\n",
              "    }\n",
              "\n",
              "    .dataframe thead th {\n",
              "        text-align: right;\n",
              "    }\n",
              "</style>\n",
              "<table border=\"1\" class=\"dataframe\">\n",
              "  <thead>\n",
              "    <tr style=\"text-align: right;\">\n",
              "      <th></th>\n",
              "      <th>d_chall_score</th>\n",
              "      <th>aoa_mean</th>\n",
              "      <th>aoa_min</th>\n",
              "      <th>aoa_max</th>\n",
              "      <th>conc_rating_mean</th>\n",
              "      <th>conc_rating_min</th>\n",
              "      <th>conc_rating_max</th>\n",
              "      <th>num_lemmas</th>\n",
              "    </tr>\n",
              "  </thead>\n",
              "  <tbody>\n",
              "    <tr>\n",
              "      <th>196765</th>\n",
              "      <td>7.590821</td>\n",
              "      <td>5.722857</td>\n",
              "      <td>2.89</td>\n",
              "      <td>11.59</td>\n",
              "      <td>2.312857</td>\n",
              "      <td>1.43</td>\n",
              "      <td>3.84</td>\n",
              "      <td>19.0</td>\n",
              "    </tr>\n",
              "    <tr>\n",
              "      <th>145609</th>\n",
              "      <td>7.344964</td>\n",
              "      <td>6.081429</td>\n",
              "      <td>3.69</td>\n",
              "      <td>11.56</td>\n",
              "      <td>2.866923</td>\n",
              "      <td>1.43</td>\n",
              "      <td>4.18</td>\n",
              "      <td>17.0</td>\n",
              "    </tr>\n",
              "    <tr>\n",
              "      <th>333830</th>\n",
              "      <td>5.727975</td>\n",
              "      <td>5.956154</td>\n",
              "      <td>3.68</td>\n",
              "      <td>13.33</td>\n",
              "      <td>3.014167</td>\n",
              "      <td>1.43</td>\n",
              "      <td>4.90</td>\n",
              "      <td>16.0</td>\n",
              "    </tr>\n",
              "    <tr>\n",
              "      <th>336288</th>\n",
              "      <td>5.795817</td>\n",
              "      <td>6.546957</td>\n",
              "      <td>3.57</td>\n",
              "      <td>14.50</td>\n",
              "      <td>3.496190</td>\n",
              "      <td>1.33</td>\n",
              "      <td>5.00</td>\n",
              "      <td>24.0</td>\n",
              "    </tr>\n",
              "    <tr>\n",
              "      <th>247542</th>\n",
              "      <td>7.174366</td>\n",
              "      <td>5.413333</td>\n",
              "      <td>3.63</td>\n",
              "      <td>8.56</td>\n",
              "      <td>2.910000</td>\n",
              "      <td>1.43</td>\n",
              "      <td>4.86</td>\n",
              "      <td>12.0</td>\n",
              "    </tr>\n",
              "    <tr>\n",
              "      <th>...</th>\n",
              "      <td>...</td>\n",
              "      <td>...</td>\n",
              "      <td>...</td>\n",
              "      <td>...</td>\n",
              "      <td>...</td>\n",
              "      <td>...</td>\n",
              "      <td>...</td>\n",
              "      <td>...</td>\n",
              "    </tr>\n",
              "    <tr>\n",
              "      <th>300022</th>\n",
              "      <td>14.481956</td>\n",
              "      <td>7.105000</td>\n",
              "      <td>3.89</td>\n",
              "      <td>10.58</td>\n",
              "      <td>3.814000</td>\n",
              "      <td>2.97</td>\n",
              "      <td>4.90</td>\n",
              "      <td>9.0</td>\n",
              "    </tr>\n",
              "    <tr>\n",
              "      <th>360562</th>\n",
              "      <td>7.308000</td>\n",
              "      <td>5.510000</td>\n",
              "      <td>3.95</td>\n",
              "      <td>9.94</td>\n",
              "      <td>2.370667</td>\n",
              "      <td>1.33</td>\n",
              "      <td>4.90</td>\n",
              "      <td>20.0</td>\n",
              "    </tr>\n",
              "    <tr>\n",
              "      <th>139935</th>\n",
              "      <td>7.111650</td>\n",
              "      <td>6.332727</td>\n",
              "      <td>3.06</td>\n",
              "      <td>11.72</td>\n",
              "      <td>2.233043</td>\n",
              "      <td>1.33</td>\n",
              "      <td>4.93</td>\n",
              "      <td>24.0</td>\n",
              "    </tr>\n",
              "    <tr>\n",
              "      <th>22927</th>\n",
              "      <td>8.159213</td>\n",
              "      <td>5.425000</td>\n",
              "      <td>2.89</td>\n",
              "      <td>11.14</td>\n",
              "      <td>2.819091</td>\n",
              "      <td>1.43</td>\n",
              "      <td>4.86</td>\n",
              "      <td>31.0</td>\n",
              "    </tr>\n",
              "    <tr>\n",
              "      <th>209265</th>\n",
              "      <td>5.727975</td>\n",
              "      <td>5.260000</td>\n",
              "      <td>3.69</td>\n",
              "      <td>9.84</td>\n",
              "      <td>2.529231</td>\n",
              "      <td>1.43</td>\n",
              "      <td>4.14</td>\n",
              "      <td>16.0</td>\n",
              "    </tr>\n",
              "  </tbody>\n",
              "</table>\n",
              "<p>39517 rows × 8 columns</p>\n",
              "</div>\n",
              "      <button class=\"colab-df-convert\" onclick=\"convertToInteractive('df-2bd24dc5-3867-4a77-9ac6-a1339f8e6a4e')\"\n",
              "              title=\"Convert this dataframe to an interactive table.\"\n",
              "              style=\"display:none;\">\n",
              "        \n",
              "  <svg xmlns=\"http://www.w3.org/2000/svg\" height=\"24px\"viewBox=\"0 0 24 24\"\n",
              "       width=\"24px\">\n",
              "    <path d=\"M0 0h24v24H0V0z\" fill=\"none\"/>\n",
              "    <path d=\"M18.56 5.44l.94 2.06.94-2.06 2.06-.94-2.06-.94-.94-2.06-.94 2.06-2.06.94zm-11 1L8.5 8.5l.94-2.06 2.06-.94-2.06-.94L8.5 2.5l-.94 2.06-2.06.94zm10 10l.94 2.06.94-2.06 2.06-.94-2.06-.94-.94-2.06-.94 2.06-2.06.94z\"/><path d=\"M17.41 7.96l-1.37-1.37c-.4-.4-.92-.59-1.43-.59-.52 0-1.04.2-1.43.59L10.3 9.45l-7.72 7.72c-.78.78-.78 2.05 0 2.83L4 21.41c.39.39.9.59 1.41.59.51 0 1.02-.2 1.41-.59l7.78-7.78 2.81-2.81c.8-.78.8-2.07 0-2.86zM5.41 20L4 18.59l7.72-7.72 1.47 1.35L5.41 20z\"/>\n",
              "  </svg>\n",
              "      </button>\n",
              "      \n",
              "  <style>\n",
              "    .colab-df-container {\n",
              "      display:flex;\n",
              "      flex-wrap:wrap;\n",
              "      gap: 12px;\n",
              "    }\n",
              "\n",
              "    .colab-df-convert {\n",
              "      background-color: #E8F0FE;\n",
              "      border: none;\n",
              "      border-radius: 50%;\n",
              "      cursor: pointer;\n",
              "      display: none;\n",
              "      fill: #1967D2;\n",
              "      height: 32px;\n",
              "      padding: 0 0 0 0;\n",
              "      width: 32px;\n",
              "    }\n",
              "\n",
              "    .colab-df-convert:hover {\n",
              "      background-color: #E2EBFA;\n",
              "      box-shadow: 0px 1px 2px rgba(60, 64, 67, 0.3), 0px 1px 3px 1px rgba(60, 64, 67, 0.15);\n",
              "      fill: #174EA6;\n",
              "    }\n",
              "\n",
              "    [theme=dark] .colab-df-convert {\n",
              "      background-color: #3B4455;\n",
              "      fill: #D2E3FC;\n",
              "    }\n",
              "\n",
              "    [theme=dark] .colab-df-convert:hover {\n",
              "      background-color: #434B5C;\n",
              "      box-shadow: 0px 1px 3px 1px rgba(0, 0, 0, 0.15);\n",
              "      filter: drop-shadow(0px 1px 2px rgba(0, 0, 0, 0.3));\n",
              "      fill: #FFFFFF;\n",
              "    }\n",
              "  </style>\n",
              "\n",
              "      <script>\n",
              "        const buttonEl =\n",
              "          document.querySelector('#df-2bd24dc5-3867-4a77-9ac6-a1339f8e6a4e button.colab-df-convert');\n",
              "        buttonEl.style.display =\n",
              "          google.colab.kernel.accessAllowed ? 'block' : 'none';\n",
              "\n",
              "        async function convertToInteractive(key) {\n",
              "          const element = document.querySelector('#df-2bd24dc5-3867-4a77-9ac6-a1339f8e6a4e');\n",
              "          const dataTable =\n",
              "            await google.colab.kernel.invokeFunction('convertToInteractive',\n",
              "                                                     [key], {});\n",
              "          if (!dataTable) return;\n",
              "\n",
              "          const docLinkHtml = 'Like what you see? Visit the ' +\n",
              "            '<a target=\"_blank\" href=https://colab.research.google.com/notebooks/data_table.ipynb>data table notebook</a>'\n",
              "            + ' to learn more about interactive tables.';\n",
              "          element.innerHTML = '';\n",
              "          dataTable['output_type'] = 'display_data';\n",
              "          await google.colab.output.renderOutput(dataTable, element);\n",
              "          const docLink = document.createElement('div');\n",
              "          docLink.innerHTML = docLinkHtml;\n",
              "          element.appendChild(docLink);\n",
              "        }\n",
              "      </script>\n",
              "    </div>\n",
              "  </div>\n",
              "  "
            ]
          },
          "metadata": {},
          "execution_count": 90
        }
      ]
    },
    {
      "cell_type": "code",
      "source": [
        "grid_bnb_mads_f1.score(X_test_mads_features, y_test)"
      ],
      "metadata": {
        "colab": {
          "base_uri": "https://localhost:8080/"
        },
        "id": "LHuRn_r9x-xx",
        "outputId": "be3a8e63-c559-4584-f258-8ba40711aa37"
      },
      "execution_count": 91,
      "outputs": [
        {
          "output_type": "execute_result",
          "data": {
            "text/plain": [
              "0.6826028772164603"
            ]
          },
          "metadata": {},
          "execution_count": 91
        }
      ]
    },
    {
      "cell_type": "code",
      "source": [
        "model_name = 'MADS BNB alpha .001'\n",
        "compute_metrics(grid_bnb_mads_f1.best_estimator_,\n",
        "                model_name,\n",
        "                X_test_mads_features,\n",
        "                y_test)"
      ],
      "metadata": {
        "id": "oHqIlOUQxwVP"
      },
      "execution_count": 93,
      "outputs": []
    },
    {
      "cell_type": "code",
      "source": [
        "# tfidf + Mads features"
      ],
      "metadata": {
        "id": "tm8I6pSZUA39"
      },
      "execution_count": null,
      "outputs": []
    },
    {
      "cell_type": "markdown",
      "source": [
        "# tfidf + Mads Features"
      ],
      "metadata": {
        "id": "tOTpaBGJ_XIX"
      }
    },
    {
      "cell_type": "code",
      "source": [
        "import scipy\n",
        "from scipy.sparse import hstack\n",
        "import numpy as np\n",
        "from sklearn.compose import ColumnTransformer"
      ],
      "metadata": {
        "id": "a-BxG7AupD7h"
      },
      "execution_count": 94,
      "outputs": []
    },
    {
      "cell_type": "code",
      "source": [
        "# replacing this manual method with the code in the cell below.\n",
        "\n",
        "# # Create a sparse matrix from the MADS features\n",
        "# X_sparse = scipy.sparse.coo_matrix(X_train_mads_features)\n",
        "\n",
        "# # Join both the tfidf training matrix with the sparse MADS features\n",
        "# X_train_all = scipy.sparse.hstack((X_train_vec, X_sparse)).tocsr()\n",
        "\n",
        "\n"
      ],
      "metadata": {
        "id": "k740tnsEKIAb",
        "outputId": "48d91425-c2b4-46a6-be29-f3c261e9dbaf",
        "colab": {
          "base_uri": "https://localhost:8080/",
          "height": 232
        }
      },
      "execution_count": 95,
      "outputs": [
        {
          "output_type": "error",
          "ename": "NameError",
          "evalue": "ignored",
          "traceback": [
            "\u001b[0;31m---------------------------------------------------------------------------\u001b[0m",
            "\u001b[0;31mNameError\u001b[0m                                 Traceback (most recent call last)",
            "\u001b[0;32m<ipython-input-95-7ea5124b77f9>\u001b[0m in \u001b[0;36m<module>\u001b[0;34m\u001b[0m\n\u001b[1;32m      3\u001b[0m \u001b[0;34m\u001b[0m\u001b[0m\n\u001b[1;32m      4\u001b[0m \u001b[0;31m# Join both the tfidf training matrix with the sparse MADS features\u001b[0m\u001b[0;34m\u001b[0m\u001b[0;34m\u001b[0m\u001b[0;34m\u001b[0m\u001b[0m\n\u001b[0;32m----> 5\u001b[0;31m \u001b[0mX_train_all\u001b[0m \u001b[0;34m=\u001b[0m \u001b[0mscipy\u001b[0m\u001b[0;34m.\u001b[0m\u001b[0msparse\u001b[0m\u001b[0;34m.\u001b[0m\u001b[0mhstack\u001b[0m\u001b[0;34m(\u001b[0m\u001b[0;34m(\u001b[0m\u001b[0mX_train_vec\u001b[0m\u001b[0;34m,\u001b[0m \u001b[0mX_sparse\u001b[0m\u001b[0;34m)\u001b[0m\u001b[0;34m)\u001b[0m\u001b[0;34m.\u001b[0m\u001b[0mtocsr\u001b[0m\u001b[0;34m(\u001b[0m\u001b[0;34m)\u001b[0m\u001b[0;34m\u001b[0m\u001b[0;34m\u001b[0m\u001b[0m\n\u001b[0m\u001b[1;32m      6\u001b[0m \u001b[0;34m\u001b[0m\u001b[0m\n\u001b[1;32m      7\u001b[0m \u001b[0;34m\u001b[0m\u001b[0m\n",
            "\u001b[0;31mNameError\u001b[0m: name 'X_train_vec' is not defined"
          ]
        }
      ]
    },
    {
      "cell_type": "code",
      "source": [
        "from sklearn.pipeline import FeatureUnion\n",
        "from sklearn.compose import ColumnTransformer\n",
        "\n",
        "\n",
        "vectorizer = ColumnTransformer([\n",
        "              ('tfidf', TfidfVectorizer(),'lemmatized_text')\n",
        "              ])\n",
        "\n",
        "mads_transformer = ColumnTransformer([\n",
        "              ('impute_mean',SimpleImputer(strategy='mean'),\n",
        "               ['conc_rating_mean','conc_rating_min','conc_rating_max']),\n",
        "              ('scaler',MinMaxScaler(),cols),\n",
        "              ])\n",
        "\n",
        "\n",
        "              \n",
        "pipeline = Pipeline([\n",
        "    ('feats', FeatureUnion([\n",
        "        ('vec', vectorizer), \n",
        "        ('mads', mads_transformer)\n",
        "    ])),\n",
        "    ('clf', BernoulliNB())  # classifier\n",
        "])"
      ],
      "metadata": {
        "id": "vMexfeni4ISt"
      },
      "execution_count": 113,
      "outputs": []
    },
    {
      "cell_type": "code",
      "source": [
        "# imputer_transformer = Pipeline(steps=[\n",
        "#     ('imputer', SimpleImputer(strategy='mean')),\n",
        "# ])\n",
        "\n",
        "# preprocessor = ColumnTransformer(\n",
        "#     transformers=[('imp_conc_mean', imputer_transformer,['conc_rating_mean']),\n",
        "#                   ('imp_conc_min', imputer_transformer,['conc_rating_min']),\n",
        "#                   ('imp_conc_max', imputer_transformer,['conc_rating_max'])\n",
        "#                   ])\n",
        "\n",
        "\n",
        "# minmax_transformer = Pipeline(steps=[\n",
        "#         ('minmax', MinMaxScaler())])\n",
        "\n",
        "# mm_preprocessor = ColumnTransformer(\n",
        "#         remainder='passthrough', #passthough features not listed\n",
        "#         transformers=[\n",
        "#             ('std', standard_transformer , ['z']),\n",
        "#             ('mm', minmax_transformer ,X_train_all[:,-8:] )\n",
        "#         ])\n",
        "\n",
        "\n",
        "\n",
        "\n",
        "\n",
        "# tfidf_mads = Pipeline([('preprocessor', preprocessor),\n",
        "#                        ('scaler', MinMaxScaler()),\n",
        "#                        ('clf', MultinomialNB())\n",
        "#                        ])"
      ],
      "metadata": {
        "id": "5pP7HIv0a4qS"
      },
      "execution_count": null,
      "outputs": []
    },
    {
      "cell_type": "code",
      "source": [
        "X_train"
      ],
      "metadata": {
        "id": "1jUCRf9ZBnun",
        "outputId": "a927aa97-cf7b-4c16-cfa9-5586e97161ee",
        "colab": {
          "base_uri": "https://localhost:8080/",
          "height": 599
        }
      },
      "execution_count": 115,
      "outputs": [
        {
          "output_type": "execute_result",
          "data": {
            "text/plain": [
              "                                          lemmatized_text  d_chall_score  \\\n",
              "91224   For instance the number of k-permutations of n...       4.542700   \n",
              "117728  Singer and bass player Roger Waters gradually ...       7.556000   \n",
              "316017  Other page 2005 Macquarie Fields riot 2005 Cro...      10.714000   \n",
              "7423    Saint-Denis be founded by Ã tienne RÃ gnault i...       8.887000   \n",
              "201052  Pougny be a commune in the Ain department in e...       7.722873   \n",
              "...                                                   ...            ...   \n",
              "219270  Jimmy Jimbo Donal Wales be bear on August 7 , ...      11.549000   \n",
              "215965  The M16 be an assault rifle use by the United ...       7.056838   \n",
              "241104                            Discography and release      10.675467   \n",
              "194078  Prokofiev compose the score for Eisenstein ' s...       7.969984   \n",
              "302061                             Club career statistics      10.675467   \n",
              "\n",
              "        aoa_mean  aoa_min  aoa_max  conc_rating_mean  conc_rating_min  \\\n",
              "91224   5.140000     3.94     9.57          2.577500             1.43   \n",
              "117728  5.835000     3.69    11.11          2.637727             1.33   \n",
              "316017  6.456250     3.89    10.00          3.042500             1.43   \n",
              "7423    5.613637     3.69     9.39          2.545454             1.43   \n",
              "201052  6.232500     2.89    12.05          2.505000             1.43   \n",
              "...          ...      ...      ...               ...              ...   \n",
              "219270  4.587500     3.58     5.65          3.390000             1.85   \n",
              "215965  5.545714     3.69    10.21          2.459375             1.38   \n",
              "241104  6.550000     4.57     8.53          2.400000             1.52   \n",
              "194078  6.947500     3.98    13.00          2.244286             1.43   \n",
              "302061  9.130000     5.89    11.55          3.160000             2.54   \n",
              "\n",
              "        conc_rating_max  num_lemmas  \n",
              "91224              4.55        12.0  \n",
              "117728             4.62        25.0  \n",
              "316017             4.90        25.0  \n",
              "7423               4.96        20.0  \n",
              "201052             3.30        11.0  \n",
              "...                 ...         ...  \n",
              "219270             4.88        10.0  \n",
              "215965             4.85        21.0  \n",
              "241104             3.28         3.0  \n",
              "194078             4.71        26.0  \n",
              "302061             3.78         3.0  \n",
              "\n",
              "[355652 rows x 9 columns]"
            ],
            "text/html": [
              "\n",
              "  <div id=\"df-9fbb61e0-0ab7-42b9-80b0-ba1ee2af4598\">\n",
              "    <div class=\"colab-df-container\">\n",
              "      <div>\n",
              "<style scoped>\n",
              "    .dataframe tbody tr th:only-of-type {\n",
              "        vertical-align: middle;\n",
              "    }\n",
              "\n",
              "    .dataframe tbody tr th {\n",
              "        vertical-align: top;\n",
              "    }\n",
              "\n",
              "    .dataframe thead th {\n",
              "        text-align: right;\n",
              "    }\n",
              "</style>\n",
              "<table border=\"1\" class=\"dataframe\">\n",
              "  <thead>\n",
              "    <tr style=\"text-align: right;\">\n",
              "      <th></th>\n",
              "      <th>lemmatized_text</th>\n",
              "      <th>d_chall_score</th>\n",
              "      <th>aoa_mean</th>\n",
              "      <th>aoa_min</th>\n",
              "      <th>aoa_max</th>\n",
              "      <th>conc_rating_mean</th>\n",
              "      <th>conc_rating_min</th>\n",
              "      <th>conc_rating_max</th>\n",
              "      <th>num_lemmas</th>\n",
              "    </tr>\n",
              "  </thead>\n",
              "  <tbody>\n",
              "    <tr>\n",
              "      <th>91224</th>\n",
              "      <td>For instance the number of k-permutations of n...</td>\n",
              "      <td>4.542700</td>\n",
              "      <td>5.140000</td>\n",
              "      <td>3.94</td>\n",
              "      <td>9.57</td>\n",
              "      <td>2.577500</td>\n",
              "      <td>1.43</td>\n",
              "      <td>4.55</td>\n",
              "      <td>12.0</td>\n",
              "    </tr>\n",
              "    <tr>\n",
              "      <th>117728</th>\n",
              "      <td>Singer and bass player Roger Waters gradually ...</td>\n",
              "      <td>7.556000</td>\n",
              "      <td>5.835000</td>\n",
              "      <td>3.69</td>\n",
              "      <td>11.11</td>\n",
              "      <td>2.637727</td>\n",
              "      <td>1.33</td>\n",
              "      <td>4.62</td>\n",
              "      <td>25.0</td>\n",
              "    </tr>\n",
              "    <tr>\n",
              "      <th>316017</th>\n",
              "      <td>Other page 2005 Macquarie Fields riot 2005 Cro...</td>\n",
              "      <td>10.714000</td>\n",
              "      <td>6.456250</td>\n",
              "      <td>3.89</td>\n",
              "      <td>10.00</td>\n",
              "      <td>3.042500</td>\n",
              "      <td>1.43</td>\n",
              "      <td>4.90</td>\n",
              "      <td>25.0</td>\n",
              "    </tr>\n",
              "    <tr>\n",
              "      <th>7423</th>\n",
              "      <td>Saint-Denis be founded by Ã tienne RÃ gnault i...</td>\n",
              "      <td>8.887000</td>\n",
              "      <td>5.613637</td>\n",
              "      <td>3.69</td>\n",
              "      <td>9.39</td>\n",
              "      <td>2.545454</td>\n",
              "      <td>1.43</td>\n",
              "      <td>4.96</td>\n",
              "      <td>20.0</td>\n",
              "    </tr>\n",
              "    <tr>\n",
              "      <th>201052</th>\n",
              "      <td>Pougny be a commune in the Ain department in e...</td>\n",
              "      <td>7.722873</td>\n",
              "      <td>6.232500</td>\n",
              "      <td>2.89</td>\n",
              "      <td>12.05</td>\n",
              "      <td>2.505000</td>\n",
              "      <td>1.43</td>\n",
              "      <td>3.30</td>\n",
              "      <td>11.0</td>\n",
              "    </tr>\n",
              "    <tr>\n",
              "      <th>...</th>\n",
              "      <td>...</td>\n",
              "      <td>...</td>\n",
              "      <td>...</td>\n",
              "      <td>...</td>\n",
              "      <td>...</td>\n",
              "      <td>...</td>\n",
              "      <td>...</td>\n",
              "      <td>...</td>\n",
              "      <td>...</td>\n",
              "    </tr>\n",
              "    <tr>\n",
              "      <th>219270</th>\n",
              "      <td>Jimmy Jimbo Donal Wales be bear on August 7 , ...</td>\n",
              "      <td>11.549000</td>\n",
              "      <td>4.587500</td>\n",
              "      <td>3.58</td>\n",
              "      <td>5.65</td>\n",
              "      <td>3.390000</td>\n",
              "      <td>1.85</td>\n",
              "      <td>4.88</td>\n",
              "      <td>10.0</td>\n",
              "    </tr>\n",
              "    <tr>\n",
              "      <th>215965</th>\n",
              "      <td>The M16 be an assault rifle use by the United ...</td>\n",
              "      <td>7.056838</td>\n",
              "      <td>5.545714</td>\n",
              "      <td>3.69</td>\n",
              "      <td>10.21</td>\n",
              "      <td>2.459375</td>\n",
              "      <td>1.38</td>\n",
              "      <td>4.85</td>\n",
              "      <td>21.0</td>\n",
              "    </tr>\n",
              "    <tr>\n",
              "      <th>241104</th>\n",
              "      <td>Discography and release</td>\n",
              "      <td>10.675467</td>\n",
              "      <td>6.550000</td>\n",
              "      <td>4.57</td>\n",
              "      <td>8.53</td>\n",
              "      <td>2.400000</td>\n",
              "      <td>1.52</td>\n",
              "      <td>3.28</td>\n",
              "      <td>3.0</td>\n",
              "    </tr>\n",
              "    <tr>\n",
              "      <th>194078</th>\n",
              "      <td>Prokofiev compose the score for Eisenstein ' s...</td>\n",
              "      <td>7.969984</td>\n",
              "      <td>6.947500</td>\n",
              "      <td>3.98</td>\n",
              "      <td>13.00</td>\n",
              "      <td>2.244286</td>\n",
              "      <td>1.43</td>\n",
              "      <td>4.71</td>\n",
              "      <td>26.0</td>\n",
              "    </tr>\n",
              "    <tr>\n",
              "      <th>302061</th>\n",
              "      <td>Club career statistics</td>\n",
              "      <td>10.675467</td>\n",
              "      <td>9.130000</td>\n",
              "      <td>5.89</td>\n",
              "      <td>11.55</td>\n",
              "      <td>3.160000</td>\n",
              "      <td>2.54</td>\n",
              "      <td>3.78</td>\n",
              "      <td>3.0</td>\n",
              "    </tr>\n",
              "  </tbody>\n",
              "</table>\n",
              "<p>355652 rows × 9 columns</p>\n",
              "</div>\n",
              "      <button class=\"colab-df-convert\" onclick=\"convertToInteractive('df-9fbb61e0-0ab7-42b9-80b0-ba1ee2af4598')\"\n",
              "              title=\"Convert this dataframe to an interactive table.\"\n",
              "              style=\"display:none;\">\n",
              "        \n",
              "  <svg xmlns=\"http://www.w3.org/2000/svg\" height=\"24px\"viewBox=\"0 0 24 24\"\n",
              "       width=\"24px\">\n",
              "    <path d=\"M0 0h24v24H0V0z\" fill=\"none\"/>\n",
              "    <path d=\"M18.56 5.44l.94 2.06.94-2.06 2.06-.94-2.06-.94-.94-2.06-.94 2.06-2.06.94zm-11 1L8.5 8.5l.94-2.06 2.06-.94-2.06-.94L8.5 2.5l-.94 2.06-2.06.94zm10 10l.94 2.06.94-2.06 2.06-.94-2.06-.94-.94-2.06-.94 2.06-2.06.94z\"/><path d=\"M17.41 7.96l-1.37-1.37c-.4-.4-.92-.59-1.43-.59-.52 0-1.04.2-1.43.59L10.3 9.45l-7.72 7.72c-.78.78-.78 2.05 0 2.83L4 21.41c.39.39.9.59 1.41.59.51 0 1.02-.2 1.41-.59l7.78-7.78 2.81-2.81c.8-.78.8-2.07 0-2.86zM5.41 20L4 18.59l7.72-7.72 1.47 1.35L5.41 20z\"/>\n",
              "  </svg>\n",
              "      </button>\n",
              "      \n",
              "  <style>\n",
              "    .colab-df-container {\n",
              "      display:flex;\n",
              "      flex-wrap:wrap;\n",
              "      gap: 12px;\n",
              "    }\n",
              "\n",
              "    .colab-df-convert {\n",
              "      background-color: #E8F0FE;\n",
              "      border: none;\n",
              "      border-radius: 50%;\n",
              "      cursor: pointer;\n",
              "      display: none;\n",
              "      fill: #1967D2;\n",
              "      height: 32px;\n",
              "      padding: 0 0 0 0;\n",
              "      width: 32px;\n",
              "    }\n",
              "\n",
              "    .colab-df-convert:hover {\n",
              "      background-color: #E2EBFA;\n",
              "      box-shadow: 0px 1px 2px rgba(60, 64, 67, 0.3), 0px 1px 3px 1px rgba(60, 64, 67, 0.15);\n",
              "      fill: #174EA6;\n",
              "    }\n",
              "\n",
              "    [theme=dark] .colab-df-convert {\n",
              "      background-color: #3B4455;\n",
              "      fill: #D2E3FC;\n",
              "    }\n",
              "\n",
              "    [theme=dark] .colab-df-convert:hover {\n",
              "      background-color: #434B5C;\n",
              "      box-shadow: 0px 1px 3px 1px rgba(0, 0, 0, 0.15);\n",
              "      filter: drop-shadow(0px 1px 2px rgba(0, 0, 0, 0.3));\n",
              "      fill: #FFFFFF;\n",
              "    }\n",
              "  </style>\n",
              "\n",
              "      <script>\n",
              "        const buttonEl =\n",
              "          document.querySelector('#df-9fbb61e0-0ab7-42b9-80b0-ba1ee2af4598 button.colab-df-convert');\n",
              "        buttonEl.style.display =\n",
              "          google.colab.kernel.accessAllowed ? 'block' : 'none';\n",
              "\n",
              "        async function convertToInteractive(key) {\n",
              "          const element = document.querySelector('#df-9fbb61e0-0ab7-42b9-80b0-ba1ee2af4598');\n",
              "          const dataTable =\n",
              "            await google.colab.kernel.invokeFunction('convertToInteractive',\n",
              "                                                     [key], {});\n",
              "          if (!dataTable) return;\n",
              "\n",
              "          const docLinkHtml = 'Like what you see? Visit the ' +\n",
              "            '<a target=\"_blank\" href=https://colab.research.google.com/notebooks/data_table.ipynb>data table notebook</a>'\n",
              "            + ' to learn more about interactive tables.';\n",
              "          element.innerHTML = '';\n",
              "          dataTable['output_type'] = 'display_data';\n",
              "          await google.colab.output.renderOutput(dataTable, element);\n",
              "          const docLink = document.createElement('div');\n",
              "          docLink.innerHTML = docLinkHtml;\n",
              "          element.appendChild(docLink);\n",
              "        }\n",
              "      </script>\n",
              "    </div>\n",
              "  </div>\n",
              "  "
            ]
          },
          "metadata": {},
          "execution_count": 115
        }
      ]
    },
    {
      "cell_type": "code",
      "source": [
        "parameters = {\n",
        "    'clf__alpha': [0.001,0.01,0.1,1,5,10,50, 100]\n",
        "}\n",
        "\n",
        "grid_bnb_all_f1= (GridSearchCV(pipeline,\n",
        "                                  param_grid=parameters,\n",
        "                                  scoring='f1',\n",
        "                                  n_jobs=-1, \n",
        "                                  cv=3)).fit(X_train,y_train)\n",
        "\n"
      ],
      "metadata": {
        "colab": {
          "base_uri": "https://localhost:8080/",
          "height": 956
        },
        "id": "DjsSuwaxKi64",
        "outputId": "de0b1614-84d9-40e3-d3a1-826b5ac9b53e"
      },
      "execution_count": 114,
      "outputs": [
        {
          "output_type": "stream",
          "name": "stderr",
          "text": [
            "/usr/local/lib/python3.7/dist-packages/sklearn/model_selection/_validation.py:372: FitFailedWarning: \n",
            "24 fits failed out of a total of 24.\n",
            "The score on these train-test partitions for these parameters will be set to nan.\n",
            "If these failures are not expected, you can try to debug them by setting error_score='raise'.\n",
            "\n",
            "Below are more details about the failures:\n",
            "--------------------------------------------------------------------------------\n",
            "24 fits failed with the following error:\n",
            "Traceback (most recent call last):\n",
            "  File \"/usr/local/lib/python3.7/dist-packages/sklearn/model_selection/_validation.py\", line 680, in _fit_and_score\n",
            "    estimator.fit(X_train, y_train, **fit_params)\n",
            "  File \"/usr/local/lib/python3.7/dist-packages/sklearn/pipeline.py\", line 394, in fit\n",
            "    self._final_estimator.fit(Xt, y, **fit_params_last_step)\n",
            "  File \"/usr/local/lib/python3.7/dist-packages/sklearn/naive_bayes.py\", line 663, in fit\n",
            "    X, y = self._check_X_y(X, y)\n",
            "  File \"/usr/local/lib/python3.7/dist-packages/sklearn/naive_bayes.py\", line 1153, in _check_X_y\n",
            "    X, y = super()._check_X_y(X, y, reset=reset)\n",
            "  File \"/usr/local/lib/python3.7/dist-packages/sklearn/naive_bayes.py\", line 523, in _check_X_y\n",
            "    return self._validate_data(X, y, accept_sparse=\"csr\", reset=reset)\n",
            "  File \"/usr/local/lib/python3.7/dist-packages/sklearn/base.py\", line 581, in _validate_data\n",
            "    X, y = check_X_y(X, y, **check_params)\n",
            "  File \"/usr/local/lib/python3.7/dist-packages/sklearn/utils/validation.py\", line 976, in check_X_y\n",
            "    estimator=estimator,\n",
            "  File \"/usr/local/lib/python3.7/dist-packages/sklearn/utils/validation.py\", line 726, in check_array\n",
            "    accept_large_sparse=accept_large_sparse,\n",
            "  File \"/usr/local/lib/python3.7/dist-packages/sklearn/utils/validation.py\", line 479, in _ensure_sparse_format\n",
            "    _assert_all_finite(spmatrix.data, allow_nan=force_all_finite == \"allow-nan\")\n",
            "  File \"/usr/local/lib/python3.7/dist-packages/sklearn/utils/validation.py\", line 116, in _assert_all_finite\n",
            "    type_err, msg_dtype if msg_dtype is not None else X.dtype\n",
            "ValueError: Input contains NaN, infinity or a value too large for dtype('float64').\n",
            "\n",
            "  warnings.warn(some_fits_failed_message, FitFailedWarning)\n",
            "/usr/local/lib/python3.7/dist-packages/sklearn/model_selection/_search.py:972: UserWarning: One or more of the test scores are non-finite: [nan nan nan nan nan nan nan nan]\n",
            "  category=UserWarning,\n"
          ]
        },
        {
          "output_type": "error",
          "ename": "ValueError",
          "evalue": "ignored",
          "traceback": [
            "\u001b[0;31m---------------------------------------------------------------------------\u001b[0m",
            "\u001b[0;31mValueError\u001b[0m                                Traceback (most recent call last)",
            "\u001b[0;32m<ipython-input-114-cf7a46bb3d3c>\u001b[0m in \u001b[0;36m<module>\u001b[0;34m\u001b[0m\n\u001b[1;32m      7\u001b[0m                                   \u001b[0mscoring\u001b[0m\u001b[0;34m=\u001b[0m\u001b[0;34m'f1'\u001b[0m\u001b[0;34m,\u001b[0m\u001b[0;34m\u001b[0m\u001b[0;34m\u001b[0m\u001b[0m\n\u001b[1;32m      8\u001b[0m                                   \u001b[0mn_jobs\u001b[0m\u001b[0;34m=\u001b[0m\u001b[0;34m-\u001b[0m\u001b[0;36m1\u001b[0m\u001b[0;34m,\u001b[0m\u001b[0;34m\u001b[0m\u001b[0;34m\u001b[0m\u001b[0m\n\u001b[0;32m----> 9\u001b[0;31m                                   cv=3)).fit(X_train,y_train)\n\u001b[0m\u001b[1;32m     10\u001b[0m \u001b[0;34m\u001b[0m\u001b[0m\n",
            "\u001b[0;32m/usr/local/lib/python3.7/dist-packages/sklearn/model_selection/_search.py\u001b[0m in \u001b[0;36mfit\u001b[0;34m(self, X, y, groups, **fit_params)\u001b[0m\n\u001b[1;32m    924\u001b[0m             \u001b[0mrefit_start_time\u001b[0m \u001b[0;34m=\u001b[0m \u001b[0mtime\u001b[0m\u001b[0;34m.\u001b[0m\u001b[0mtime\u001b[0m\u001b[0;34m(\u001b[0m\u001b[0;34m)\u001b[0m\u001b[0;34m\u001b[0m\u001b[0;34m\u001b[0m\u001b[0m\n\u001b[1;32m    925\u001b[0m             \u001b[0;32mif\u001b[0m \u001b[0my\u001b[0m \u001b[0;32mis\u001b[0m \u001b[0;32mnot\u001b[0m \u001b[0;32mNone\u001b[0m\u001b[0;34m:\u001b[0m\u001b[0;34m\u001b[0m\u001b[0;34m\u001b[0m\u001b[0m\n\u001b[0;32m--> 926\u001b[0;31m                 \u001b[0mself\u001b[0m\u001b[0;34m.\u001b[0m\u001b[0mbest_estimator_\u001b[0m\u001b[0;34m.\u001b[0m\u001b[0mfit\u001b[0m\u001b[0;34m(\u001b[0m\u001b[0mX\u001b[0m\u001b[0;34m,\u001b[0m \u001b[0my\u001b[0m\u001b[0;34m,\u001b[0m \u001b[0;34m**\u001b[0m\u001b[0mfit_params\u001b[0m\u001b[0;34m)\u001b[0m\u001b[0;34m\u001b[0m\u001b[0;34m\u001b[0m\u001b[0m\n\u001b[0m\u001b[1;32m    927\u001b[0m             \u001b[0;32melse\u001b[0m\u001b[0;34m:\u001b[0m\u001b[0;34m\u001b[0m\u001b[0;34m\u001b[0m\u001b[0m\n\u001b[1;32m    928\u001b[0m                 \u001b[0mself\u001b[0m\u001b[0;34m.\u001b[0m\u001b[0mbest_estimator_\u001b[0m\u001b[0;34m.\u001b[0m\u001b[0mfit\u001b[0m\u001b[0;34m(\u001b[0m\u001b[0mX\u001b[0m\u001b[0;34m,\u001b[0m \u001b[0;34m**\u001b[0m\u001b[0mfit_params\u001b[0m\u001b[0;34m)\u001b[0m\u001b[0;34m\u001b[0m\u001b[0;34m\u001b[0m\u001b[0m\n",
            "\u001b[0;32m/usr/local/lib/python3.7/dist-packages/sklearn/pipeline.py\u001b[0m in \u001b[0;36mfit\u001b[0;34m(self, X, y, **fit_params)\u001b[0m\n\u001b[1;32m    392\u001b[0m             \u001b[0;32mif\u001b[0m \u001b[0mself\u001b[0m\u001b[0;34m.\u001b[0m\u001b[0m_final_estimator\u001b[0m \u001b[0;34m!=\u001b[0m \u001b[0;34m\"passthrough\"\u001b[0m\u001b[0;34m:\u001b[0m\u001b[0;34m\u001b[0m\u001b[0;34m\u001b[0m\u001b[0m\n\u001b[1;32m    393\u001b[0m                 \u001b[0mfit_params_last_step\u001b[0m \u001b[0;34m=\u001b[0m \u001b[0mfit_params_steps\u001b[0m\u001b[0;34m[\u001b[0m\u001b[0mself\u001b[0m\u001b[0;34m.\u001b[0m\u001b[0msteps\u001b[0m\u001b[0;34m[\u001b[0m\u001b[0;34m-\u001b[0m\u001b[0;36m1\u001b[0m\u001b[0;34m]\u001b[0m\u001b[0;34m[\u001b[0m\u001b[0;36m0\u001b[0m\u001b[0;34m]\u001b[0m\u001b[0;34m]\u001b[0m\u001b[0;34m\u001b[0m\u001b[0;34m\u001b[0m\u001b[0m\n\u001b[0;32m--> 394\u001b[0;31m                 \u001b[0mself\u001b[0m\u001b[0;34m.\u001b[0m\u001b[0m_final_estimator\u001b[0m\u001b[0;34m.\u001b[0m\u001b[0mfit\u001b[0m\u001b[0;34m(\u001b[0m\u001b[0mXt\u001b[0m\u001b[0;34m,\u001b[0m \u001b[0my\u001b[0m\u001b[0;34m,\u001b[0m \u001b[0;34m**\u001b[0m\u001b[0mfit_params_last_step\u001b[0m\u001b[0;34m)\u001b[0m\u001b[0;34m\u001b[0m\u001b[0;34m\u001b[0m\u001b[0m\n\u001b[0m\u001b[1;32m    395\u001b[0m \u001b[0;34m\u001b[0m\u001b[0m\n\u001b[1;32m    396\u001b[0m         \u001b[0;32mreturn\u001b[0m \u001b[0mself\u001b[0m\u001b[0;34m\u001b[0m\u001b[0;34m\u001b[0m\u001b[0m\n",
            "\u001b[0;32m/usr/local/lib/python3.7/dist-packages/sklearn/naive_bayes.py\u001b[0m in \u001b[0;36mfit\u001b[0;34m(self, X, y, sample_weight)\u001b[0m\n\u001b[1;32m    661\u001b[0m             \u001b[0mReturns\u001b[0m \u001b[0mthe\u001b[0m \u001b[0minstance\u001b[0m \u001b[0mitself\u001b[0m\u001b[0;34m.\u001b[0m\u001b[0;34m\u001b[0m\u001b[0;34m\u001b[0m\u001b[0m\n\u001b[1;32m    662\u001b[0m         \"\"\"\n\u001b[0;32m--> 663\u001b[0;31m         \u001b[0mX\u001b[0m\u001b[0;34m,\u001b[0m \u001b[0my\u001b[0m \u001b[0;34m=\u001b[0m \u001b[0mself\u001b[0m\u001b[0;34m.\u001b[0m\u001b[0m_check_X_y\u001b[0m\u001b[0;34m(\u001b[0m\u001b[0mX\u001b[0m\u001b[0;34m,\u001b[0m \u001b[0my\u001b[0m\u001b[0;34m)\u001b[0m\u001b[0;34m\u001b[0m\u001b[0;34m\u001b[0m\u001b[0m\n\u001b[0m\u001b[1;32m    664\u001b[0m         \u001b[0m_\u001b[0m\u001b[0;34m,\u001b[0m \u001b[0mn_features\u001b[0m \u001b[0;34m=\u001b[0m \u001b[0mX\u001b[0m\u001b[0;34m.\u001b[0m\u001b[0mshape\u001b[0m\u001b[0;34m\u001b[0m\u001b[0;34m\u001b[0m\u001b[0m\n\u001b[1;32m    665\u001b[0m \u001b[0;34m\u001b[0m\u001b[0m\n",
            "\u001b[0;32m/usr/local/lib/python3.7/dist-packages/sklearn/naive_bayes.py\u001b[0m in \u001b[0;36m_check_X_y\u001b[0;34m(self, X, y, reset)\u001b[0m\n\u001b[1;32m   1151\u001b[0m \u001b[0;34m\u001b[0m\u001b[0m\n\u001b[1;32m   1152\u001b[0m     \u001b[0;32mdef\u001b[0m \u001b[0m_check_X_y\u001b[0m\u001b[0;34m(\u001b[0m\u001b[0mself\u001b[0m\u001b[0;34m,\u001b[0m \u001b[0mX\u001b[0m\u001b[0;34m,\u001b[0m \u001b[0my\u001b[0m\u001b[0;34m,\u001b[0m \u001b[0mreset\u001b[0m\u001b[0;34m=\u001b[0m\u001b[0;32mTrue\u001b[0m\u001b[0;34m)\u001b[0m\u001b[0;34m:\u001b[0m\u001b[0;34m\u001b[0m\u001b[0;34m\u001b[0m\u001b[0m\n\u001b[0;32m-> 1153\u001b[0;31m         \u001b[0mX\u001b[0m\u001b[0;34m,\u001b[0m \u001b[0my\u001b[0m \u001b[0;34m=\u001b[0m \u001b[0msuper\u001b[0m\u001b[0;34m(\u001b[0m\u001b[0;34m)\u001b[0m\u001b[0;34m.\u001b[0m\u001b[0m_check_X_y\u001b[0m\u001b[0;34m(\u001b[0m\u001b[0mX\u001b[0m\u001b[0;34m,\u001b[0m \u001b[0my\u001b[0m\u001b[0;34m,\u001b[0m \u001b[0mreset\u001b[0m\u001b[0;34m=\u001b[0m\u001b[0mreset\u001b[0m\u001b[0;34m)\u001b[0m\u001b[0;34m\u001b[0m\u001b[0;34m\u001b[0m\u001b[0m\n\u001b[0m\u001b[1;32m   1154\u001b[0m         \u001b[0;32mif\u001b[0m \u001b[0mself\u001b[0m\u001b[0;34m.\u001b[0m\u001b[0mbinarize\u001b[0m \u001b[0;32mis\u001b[0m \u001b[0;32mnot\u001b[0m \u001b[0;32mNone\u001b[0m\u001b[0;34m:\u001b[0m\u001b[0;34m\u001b[0m\u001b[0;34m\u001b[0m\u001b[0m\n\u001b[1;32m   1155\u001b[0m             \u001b[0mX\u001b[0m \u001b[0;34m=\u001b[0m \u001b[0mbinarize\u001b[0m\u001b[0;34m(\u001b[0m\u001b[0mX\u001b[0m\u001b[0;34m,\u001b[0m \u001b[0mthreshold\u001b[0m\u001b[0;34m=\u001b[0m\u001b[0mself\u001b[0m\u001b[0;34m.\u001b[0m\u001b[0mbinarize\u001b[0m\u001b[0;34m)\u001b[0m\u001b[0;34m\u001b[0m\u001b[0;34m\u001b[0m\u001b[0m\n",
            "\u001b[0;32m/usr/local/lib/python3.7/dist-packages/sklearn/naive_bayes.py\u001b[0m in \u001b[0;36m_check_X_y\u001b[0;34m(self, X, y, reset)\u001b[0m\n\u001b[1;32m    521\u001b[0m     \u001b[0;32mdef\u001b[0m \u001b[0m_check_X_y\u001b[0m\u001b[0;34m(\u001b[0m\u001b[0mself\u001b[0m\u001b[0;34m,\u001b[0m \u001b[0mX\u001b[0m\u001b[0;34m,\u001b[0m \u001b[0my\u001b[0m\u001b[0;34m,\u001b[0m \u001b[0mreset\u001b[0m\u001b[0;34m=\u001b[0m\u001b[0;32mTrue\u001b[0m\u001b[0;34m)\u001b[0m\u001b[0;34m:\u001b[0m\u001b[0;34m\u001b[0m\u001b[0;34m\u001b[0m\u001b[0m\n\u001b[1;32m    522\u001b[0m         \u001b[0;34m\"\"\"Validate X and y in fit methods.\"\"\"\u001b[0m\u001b[0;34m\u001b[0m\u001b[0;34m\u001b[0m\u001b[0m\n\u001b[0;32m--> 523\u001b[0;31m         \u001b[0;32mreturn\u001b[0m \u001b[0mself\u001b[0m\u001b[0;34m.\u001b[0m\u001b[0m_validate_data\u001b[0m\u001b[0;34m(\u001b[0m\u001b[0mX\u001b[0m\u001b[0;34m,\u001b[0m \u001b[0my\u001b[0m\u001b[0;34m,\u001b[0m \u001b[0maccept_sparse\u001b[0m\u001b[0;34m=\u001b[0m\u001b[0;34m\"csr\"\u001b[0m\u001b[0;34m,\u001b[0m \u001b[0mreset\u001b[0m\u001b[0;34m=\u001b[0m\u001b[0mreset\u001b[0m\u001b[0;34m)\u001b[0m\u001b[0;34m\u001b[0m\u001b[0;34m\u001b[0m\u001b[0m\n\u001b[0m\u001b[1;32m    524\u001b[0m \u001b[0;34m\u001b[0m\u001b[0m\n\u001b[1;32m    525\u001b[0m     \u001b[0;32mdef\u001b[0m \u001b[0m_update_class_log_prior\u001b[0m\u001b[0;34m(\u001b[0m\u001b[0mself\u001b[0m\u001b[0;34m,\u001b[0m \u001b[0mclass_prior\u001b[0m\u001b[0;34m=\u001b[0m\u001b[0;32mNone\u001b[0m\u001b[0;34m)\u001b[0m\u001b[0;34m:\u001b[0m\u001b[0;34m\u001b[0m\u001b[0;34m\u001b[0m\u001b[0m\n",
            "\u001b[0;32m/usr/local/lib/python3.7/dist-packages/sklearn/base.py\u001b[0m in \u001b[0;36m_validate_data\u001b[0;34m(self, X, y, reset, validate_separately, **check_params)\u001b[0m\n\u001b[1;32m    579\u001b[0m                 \u001b[0my\u001b[0m \u001b[0;34m=\u001b[0m \u001b[0mcheck_array\u001b[0m\u001b[0;34m(\u001b[0m\u001b[0my\u001b[0m\u001b[0;34m,\u001b[0m \u001b[0;34m**\u001b[0m\u001b[0mcheck_y_params\u001b[0m\u001b[0;34m)\u001b[0m\u001b[0;34m\u001b[0m\u001b[0;34m\u001b[0m\u001b[0m\n\u001b[1;32m    580\u001b[0m             \u001b[0;32melse\u001b[0m\u001b[0;34m:\u001b[0m\u001b[0;34m\u001b[0m\u001b[0;34m\u001b[0m\u001b[0m\n\u001b[0;32m--> 581\u001b[0;31m                 \u001b[0mX\u001b[0m\u001b[0;34m,\u001b[0m \u001b[0my\u001b[0m \u001b[0;34m=\u001b[0m \u001b[0mcheck_X_y\u001b[0m\u001b[0;34m(\u001b[0m\u001b[0mX\u001b[0m\u001b[0;34m,\u001b[0m \u001b[0my\u001b[0m\u001b[0;34m,\u001b[0m \u001b[0;34m**\u001b[0m\u001b[0mcheck_params\u001b[0m\u001b[0;34m)\u001b[0m\u001b[0;34m\u001b[0m\u001b[0;34m\u001b[0m\u001b[0m\n\u001b[0m\u001b[1;32m    582\u001b[0m             \u001b[0mout\u001b[0m \u001b[0;34m=\u001b[0m \u001b[0mX\u001b[0m\u001b[0;34m,\u001b[0m \u001b[0my\u001b[0m\u001b[0;34m\u001b[0m\u001b[0;34m\u001b[0m\u001b[0m\n\u001b[1;32m    583\u001b[0m \u001b[0;34m\u001b[0m\u001b[0m\n",
            "\u001b[0;32m/usr/local/lib/python3.7/dist-packages/sklearn/utils/validation.py\u001b[0m in \u001b[0;36mcheck_X_y\u001b[0;34m(X, y, accept_sparse, accept_large_sparse, dtype, order, copy, force_all_finite, ensure_2d, allow_nd, multi_output, ensure_min_samples, ensure_min_features, y_numeric, estimator)\u001b[0m\n\u001b[1;32m    974\u001b[0m         \u001b[0mensure_min_samples\u001b[0m\u001b[0;34m=\u001b[0m\u001b[0mensure_min_samples\u001b[0m\u001b[0;34m,\u001b[0m\u001b[0;34m\u001b[0m\u001b[0;34m\u001b[0m\u001b[0m\n\u001b[1;32m    975\u001b[0m         \u001b[0mensure_min_features\u001b[0m\u001b[0;34m=\u001b[0m\u001b[0mensure_min_features\u001b[0m\u001b[0;34m,\u001b[0m\u001b[0;34m\u001b[0m\u001b[0;34m\u001b[0m\u001b[0m\n\u001b[0;32m--> 976\u001b[0;31m         \u001b[0mestimator\u001b[0m\u001b[0;34m=\u001b[0m\u001b[0mestimator\u001b[0m\u001b[0;34m,\u001b[0m\u001b[0;34m\u001b[0m\u001b[0;34m\u001b[0m\u001b[0m\n\u001b[0m\u001b[1;32m    977\u001b[0m     )\n\u001b[1;32m    978\u001b[0m \u001b[0;34m\u001b[0m\u001b[0m\n",
            "\u001b[0;32m/usr/local/lib/python3.7/dist-packages/sklearn/utils/validation.py\u001b[0m in \u001b[0;36mcheck_array\u001b[0;34m(array, accept_sparse, accept_large_sparse, dtype, order, copy, force_all_finite, ensure_2d, allow_nd, ensure_min_samples, ensure_min_features, estimator)\u001b[0m\n\u001b[1;32m    724\u001b[0m             \u001b[0mcopy\u001b[0m\u001b[0;34m=\u001b[0m\u001b[0mcopy\u001b[0m\u001b[0;34m,\u001b[0m\u001b[0;34m\u001b[0m\u001b[0;34m\u001b[0m\u001b[0m\n\u001b[1;32m    725\u001b[0m             \u001b[0mforce_all_finite\u001b[0m\u001b[0;34m=\u001b[0m\u001b[0mforce_all_finite\u001b[0m\u001b[0;34m,\u001b[0m\u001b[0;34m\u001b[0m\u001b[0;34m\u001b[0m\u001b[0m\n\u001b[0;32m--> 726\u001b[0;31m             \u001b[0maccept_large_sparse\u001b[0m\u001b[0;34m=\u001b[0m\u001b[0maccept_large_sparse\u001b[0m\u001b[0;34m,\u001b[0m\u001b[0;34m\u001b[0m\u001b[0;34m\u001b[0m\u001b[0m\n\u001b[0m\u001b[1;32m    727\u001b[0m         )\n\u001b[1;32m    728\u001b[0m     \u001b[0;32melse\u001b[0m\u001b[0;34m:\u001b[0m\u001b[0;34m\u001b[0m\u001b[0;34m\u001b[0m\u001b[0m\n",
            "\u001b[0;32m/usr/local/lib/python3.7/dist-packages/sklearn/utils/validation.py\u001b[0m in \u001b[0;36m_ensure_sparse_format\u001b[0;34m(spmatrix, accept_sparse, dtype, copy, force_all_finite, accept_large_sparse)\u001b[0m\n\u001b[1;32m    477\u001b[0m             )\n\u001b[1;32m    478\u001b[0m         \u001b[0;32melse\u001b[0m\u001b[0;34m:\u001b[0m\u001b[0;34m\u001b[0m\u001b[0;34m\u001b[0m\u001b[0m\n\u001b[0;32m--> 479\u001b[0;31m             \u001b[0m_assert_all_finite\u001b[0m\u001b[0;34m(\u001b[0m\u001b[0mspmatrix\u001b[0m\u001b[0;34m.\u001b[0m\u001b[0mdata\u001b[0m\u001b[0;34m,\u001b[0m \u001b[0mallow_nan\u001b[0m\u001b[0;34m=\u001b[0m\u001b[0mforce_all_finite\u001b[0m \u001b[0;34m==\u001b[0m \u001b[0;34m\"allow-nan\"\u001b[0m\u001b[0;34m)\u001b[0m\u001b[0;34m\u001b[0m\u001b[0;34m\u001b[0m\u001b[0m\n\u001b[0m\u001b[1;32m    480\u001b[0m \u001b[0;34m\u001b[0m\u001b[0m\n\u001b[1;32m    481\u001b[0m     \u001b[0;32mreturn\u001b[0m \u001b[0mspmatrix\u001b[0m\u001b[0;34m\u001b[0m\u001b[0;34m\u001b[0m\u001b[0m\n",
            "\u001b[0;32m/usr/local/lib/python3.7/dist-packages/sklearn/utils/validation.py\u001b[0m in \u001b[0;36m_assert_all_finite\u001b[0;34m(X, allow_nan, msg_dtype)\u001b[0m\n\u001b[1;32m    114\u001b[0m             raise ValueError(\n\u001b[1;32m    115\u001b[0m                 msg_err.format(\n\u001b[0;32m--> 116\u001b[0;31m                     \u001b[0mtype_err\u001b[0m\u001b[0;34m,\u001b[0m \u001b[0mmsg_dtype\u001b[0m \u001b[0;32mif\u001b[0m \u001b[0mmsg_dtype\u001b[0m \u001b[0;32mis\u001b[0m \u001b[0;32mnot\u001b[0m \u001b[0;32mNone\u001b[0m \u001b[0;32melse\u001b[0m \u001b[0mX\u001b[0m\u001b[0;34m.\u001b[0m\u001b[0mdtype\u001b[0m\u001b[0;34m\u001b[0m\u001b[0;34m\u001b[0m\u001b[0m\n\u001b[0m\u001b[1;32m    117\u001b[0m                 )\n\u001b[1;32m    118\u001b[0m             )\n",
            "\u001b[0;31mValueError\u001b[0m: Input contains NaN, infinity or a value too large for dtype('float64')."
          ]
        }
      ]
    },
    {
      "cell_type": "code",
      "source": [
        "grid_mnb_all_acc.best_estimator_"
      ],
      "metadata": {
        "colab": {
          "base_uri": "https://localhost:8080/"
        },
        "id": "jzatdb_nnLJg",
        "outputId": "8c2c42a1-3540-4730-9e88-73ed5955b992"
      },
      "execution_count": null,
      "outputs": [
        {
          "output_type": "execute_result",
          "data": {
            "text/plain": [
              "MultinomialNB(alpha=0.001)"
            ]
          },
          "metadata": {},
          "execution_count": 63
        }
      ]
    },
    {
      "cell_type": "code",
      "source": [
        "# Update the test data: convert mads features to sparse, create\n",
        "# one matrix for both the tfidf vec and mads features\n",
        "\n",
        "X_test_sparse = scipy.sparse.coo_matrix(X_test_mads_features)\n",
        "\n",
        "X_test_all = scipy.sparse.hstack((X_test_vec,\n",
        "                                  X_test_sparse))"
      ],
      "metadata": {
        "id": "YoIV2DA-0KLv"
      },
      "execution_count": null,
      "outputs": []
    },
    {
      "cell_type": "code",
      "source": [
        "# Run model based on best parameters from gridsearch\n",
        "mnb = MultinomialNB(alpha=.001).fit(X_train_all, y_train)\n",
        "model_name = 'Tf-idf NB alpha .001'\n",
        "\n",
        "# compute metrics from the test split data\n",
        "compute_metrics(mnb,model_name,X_test_all, y_test)"
      ],
      "metadata": {
        "id": "4P9cZvKB0Ji9"
      },
      "execution_count": null,
      "outputs": []
    },
    {
      "cell_type": "code",
      "source": [],
      "metadata": {
        "id": "h5tP4HxA_smE"
      },
      "execution_count": null,
      "outputs": []
    },
    {
      "cell_type": "markdown",
      "source": [
        "# Sentence Embeddings"
      ],
      "metadata": {
        "id": "4xdFm1Ts_zDI"
      }
    },
    {
      "cell_type": "code",
      "source": [
        "from numpy import loadtxt\n",
        "import numpy as np\n",
        "from sklearn.preprocessing import MinMaxScaler"
      ],
      "metadata": {
        "id": "ay5ERTVZa2pw"
      },
      "execution_count": null,
      "outputs": []
    },
    {
      "cell_type": "code",
      "source": [
        "embeddings = loadtxt('drive/Shareddrives/Milestone 2/embeddings.csv', delimiter=',')\n",
        "embeddings"
      ],
      "metadata": {
        "colab": {
          "base_uri": "https://localhost:8080/"
        },
        "id": "gzDbiwkabHYQ",
        "outputId": "fc127fdd-2d5c-4da0-9b8c-d3a7134fa6cb"
      },
      "execution_count": null,
      "outputs": [
        {
          "output_type": "execute_result",
          "data": {
            "text/plain": [
              "array([[-0.10521097,  0.04652381,  0.09932816, ..., -0.53146267,\n",
              "         0.24081262,  0.04764764],\n",
              "       [-0.09595645,  0.28408318,  0.0416585 , ..., -0.6049515 ,\n",
              "         0.23389882,  0.2116979 ],\n",
              "       [ 0.00624134,  0.04496894,  0.28006756, ..., -0.21483139,\n",
              "         0.40460399, -0.12047322],\n",
              "       ...,\n",
              "       [-0.05062665,  0.11346165,  0.37695   , ..., -0.35318942,\n",
              "         0.46983531, -0.04529605],\n",
              "       [-0.13691955,  0.46627818, -0.0528408 , ..., -0.55561154,\n",
              "         0.56975963,  0.25214309],\n",
              "       [-0.23494626,  0.30814424,  0.28275521, ..., -0.56363898,\n",
              "         0.44196188,  0.01724233]])"
            ]
          },
          "metadata": {},
          "execution_count": 101
        }
      ]
    },
    {
      "cell_type": "code",
      "source": [
        "embeddings.shape"
      ],
      "metadata": {
        "colab": {
          "base_uri": "https://localhost:8080/"
        },
        "id": "J0WrK3iybYl3",
        "outputId": "c4a9ebed-f3e9-4c4c-de75-2ce705724460"
      },
      "execution_count": null,
      "outputs": [
        {
          "output_type": "execute_result",
          "data": {
            "text/plain": [
              "(395169, 100)"
            ]
          },
          "metadata": {},
          "execution_count": 102
        }
      ]
    },
    {
      "cell_type": "code",
      "source": [
        "# Combine the embeddings and the original_text + Mads features\n",
        "emb = pd.DataFrame(embeddings)\n",
        "new_df = pd.concat([df,emb], axis=1)\n",
        "new_df.head()"
      ],
      "metadata": {
        "colab": {
          "base_uri": "https://localhost:8080/",
          "height": 552
        },
        "id": "6pPdMlnBbZ09",
        "outputId": "605de1ac-0b6a-4b09-a760-c9a140c3cf94"
      },
      "execution_count": null,
      "outputs": [
        {
          "output_type": "execute_result",
          "data": {
            "text/plain": [
              "                                       original_text  \\\n",
              "0  There is manuscript evidence that Austen conti...   \n",
              "1  In a remarkable comparative analysis , Mandaea...   \n",
              "2  Before Persephone was released to Hermes , who...   \n",
              "3  Cogeneration plants are commonly found in dist...   \n",
              "4  Geneva is the second-most-populous city in Swi...   \n",
              "\n",
              "                                     lemmatized_text  d_chall_score  aoa_mean  \\\n",
              "0  There be manuscript evidence that Austen conti...       8.533221  5.809310   \n",
              "1  In a remarkable comparative analysis , Mandaea...      12.320171  7.402308   \n",
              "2  Before Persephone be release to Hermes , who h...       5.931500  5.231351   \n",
              "3  Cogeneration plant be commonly find in distric...       7.015012  6.742000   \n",
              "4  Geneva be the second-most-populous city in Swi...       7.550745  5.455000   \n",
              "\n",
              "   aoa_min  aoa_max  conc_rating_mean  conc_rating_min  conc_rating_max  \\\n",
              "0     3.57    12.12          2.495517             1.33             4.57   \n",
              "1     2.89    11.94          2.334286             1.46             4.93   \n",
              "2     2.78    11.17          2.556486             1.43             4.86   \n",
              "3     3.56    11.53          3.369655             1.52             4.93   \n",
              "4     3.69    12.62          2.399333             1.43             4.79   \n",
              "\n",
              "   num_lemmas  ...        90        91        92        93        94  \\\n",
              "0        38.0  ... -0.000574 -0.282132  0.048765  0.281763 -0.562752   \n",
              "1        21.0  ...  0.142222 -0.103547 -0.090528  0.095581 -0.276107   \n",
              "2        40.0  ... -0.042911 -0.127006 -0.027232  0.002538 -0.531988   \n",
              "3        32.0  ...  0.113040 -0.480430 -0.121593  0.049611 -0.675361   \n",
              "4        22.0  ... -0.003146 -0.214928 -0.110112  0.408002 -0.512044   \n",
              "\n",
              "         95        96        97        98        99  \n",
              "0 -0.018829 -0.266238 -0.531463  0.240813  0.047648  \n",
              "1  0.028346 -0.250517 -0.604951  0.233899  0.211698  \n",
              "2 -0.153132 -0.162387 -0.214831  0.404604 -0.120473  \n",
              "3  0.358477 -0.145952 -0.454261  0.618850  0.002099  \n",
              "4  0.292142 -0.294712 -0.306517  0.631877 -0.067776  \n",
              "\n",
              "[5 rows x 111 columns]"
            ],
            "text/html": [
              "\n",
              "  <div id=\"df-3ac456ec-5def-4c2c-901d-d63eb6677bc8\">\n",
              "    <div class=\"colab-df-container\">\n",
              "      <div>\n",
              "<style scoped>\n",
              "    .dataframe tbody tr th:only-of-type {\n",
              "        vertical-align: middle;\n",
              "    }\n",
              "\n",
              "    .dataframe tbody tr th {\n",
              "        vertical-align: top;\n",
              "    }\n",
              "\n",
              "    .dataframe thead th {\n",
              "        text-align: right;\n",
              "    }\n",
              "</style>\n",
              "<table border=\"1\" class=\"dataframe\">\n",
              "  <thead>\n",
              "    <tr style=\"text-align: right;\">\n",
              "      <th></th>\n",
              "      <th>original_text</th>\n",
              "      <th>lemmatized_text</th>\n",
              "      <th>d_chall_score</th>\n",
              "      <th>aoa_mean</th>\n",
              "      <th>aoa_min</th>\n",
              "      <th>aoa_max</th>\n",
              "      <th>conc_rating_mean</th>\n",
              "      <th>conc_rating_min</th>\n",
              "      <th>conc_rating_max</th>\n",
              "      <th>num_lemmas</th>\n",
              "      <th>...</th>\n",
              "      <th>90</th>\n",
              "      <th>91</th>\n",
              "      <th>92</th>\n",
              "      <th>93</th>\n",
              "      <th>94</th>\n",
              "      <th>95</th>\n",
              "      <th>96</th>\n",
              "      <th>97</th>\n",
              "      <th>98</th>\n",
              "      <th>99</th>\n",
              "    </tr>\n",
              "  </thead>\n",
              "  <tbody>\n",
              "    <tr>\n",
              "      <th>0</th>\n",
              "      <td>There is manuscript evidence that Austen conti...</td>\n",
              "      <td>There be manuscript evidence that Austen conti...</td>\n",
              "      <td>8.533221</td>\n",
              "      <td>5.809310</td>\n",
              "      <td>3.57</td>\n",
              "      <td>12.12</td>\n",
              "      <td>2.495517</td>\n",
              "      <td>1.33</td>\n",
              "      <td>4.57</td>\n",
              "      <td>38.0</td>\n",
              "      <td>...</td>\n",
              "      <td>-0.000574</td>\n",
              "      <td>-0.282132</td>\n",
              "      <td>0.048765</td>\n",
              "      <td>0.281763</td>\n",
              "      <td>-0.562752</td>\n",
              "      <td>-0.018829</td>\n",
              "      <td>-0.266238</td>\n",
              "      <td>-0.531463</td>\n",
              "      <td>0.240813</td>\n",
              "      <td>0.047648</td>\n",
              "    </tr>\n",
              "    <tr>\n",
              "      <th>1</th>\n",
              "      <td>In a remarkable comparative analysis , Mandaea...</td>\n",
              "      <td>In a remarkable comparative analysis , Mandaea...</td>\n",
              "      <td>12.320171</td>\n",
              "      <td>7.402308</td>\n",
              "      <td>2.89</td>\n",
              "      <td>11.94</td>\n",
              "      <td>2.334286</td>\n",
              "      <td>1.46</td>\n",
              "      <td>4.93</td>\n",
              "      <td>21.0</td>\n",
              "      <td>...</td>\n",
              "      <td>0.142222</td>\n",
              "      <td>-0.103547</td>\n",
              "      <td>-0.090528</td>\n",
              "      <td>0.095581</td>\n",
              "      <td>-0.276107</td>\n",
              "      <td>0.028346</td>\n",
              "      <td>-0.250517</td>\n",
              "      <td>-0.604951</td>\n",
              "      <td>0.233899</td>\n",
              "      <td>0.211698</td>\n",
              "    </tr>\n",
              "    <tr>\n",
              "      <th>2</th>\n",
              "      <td>Before Persephone was released to Hermes , who...</td>\n",
              "      <td>Before Persephone be release to Hermes , who h...</td>\n",
              "      <td>5.931500</td>\n",
              "      <td>5.231351</td>\n",
              "      <td>2.78</td>\n",
              "      <td>11.17</td>\n",
              "      <td>2.556486</td>\n",
              "      <td>1.43</td>\n",
              "      <td>4.86</td>\n",
              "      <td>40.0</td>\n",
              "      <td>...</td>\n",
              "      <td>-0.042911</td>\n",
              "      <td>-0.127006</td>\n",
              "      <td>-0.027232</td>\n",
              "      <td>0.002538</td>\n",
              "      <td>-0.531988</td>\n",
              "      <td>-0.153132</td>\n",
              "      <td>-0.162387</td>\n",
              "      <td>-0.214831</td>\n",
              "      <td>0.404604</td>\n",
              "      <td>-0.120473</td>\n",
              "    </tr>\n",
              "    <tr>\n",
              "      <th>3</th>\n",
              "      <td>Cogeneration plants are commonly found in dist...</td>\n",
              "      <td>Cogeneration plant be commonly find in distric...</td>\n",
              "      <td>7.015012</td>\n",
              "      <td>6.742000</td>\n",
              "      <td>3.56</td>\n",
              "      <td>11.53</td>\n",
              "      <td>3.369655</td>\n",
              "      <td>1.52</td>\n",
              "      <td>4.93</td>\n",
              "      <td>32.0</td>\n",
              "      <td>...</td>\n",
              "      <td>0.113040</td>\n",
              "      <td>-0.480430</td>\n",
              "      <td>-0.121593</td>\n",
              "      <td>0.049611</td>\n",
              "      <td>-0.675361</td>\n",
              "      <td>0.358477</td>\n",
              "      <td>-0.145952</td>\n",
              "      <td>-0.454261</td>\n",
              "      <td>0.618850</td>\n",
              "      <td>0.002099</td>\n",
              "    </tr>\n",
              "    <tr>\n",
              "      <th>4</th>\n",
              "      <td>Geneva is the second-most-populous city in Swi...</td>\n",
              "      <td>Geneva be the second-most-populous city in Swi...</td>\n",
              "      <td>7.550745</td>\n",
              "      <td>5.455000</td>\n",
              "      <td>3.69</td>\n",
              "      <td>12.62</td>\n",
              "      <td>2.399333</td>\n",
              "      <td>1.43</td>\n",
              "      <td>4.79</td>\n",
              "      <td>22.0</td>\n",
              "      <td>...</td>\n",
              "      <td>-0.003146</td>\n",
              "      <td>-0.214928</td>\n",
              "      <td>-0.110112</td>\n",
              "      <td>0.408002</td>\n",
              "      <td>-0.512044</td>\n",
              "      <td>0.292142</td>\n",
              "      <td>-0.294712</td>\n",
              "      <td>-0.306517</td>\n",
              "      <td>0.631877</td>\n",
              "      <td>-0.067776</td>\n",
              "    </tr>\n",
              "  </tbody>\n",
              "</table>\n",
              "<p>5 rows × 111 columns</p>\n",
              "</div>\n",
              "      <button class=\"colab-df-convert\" onclick=\"convertToInteractive('df-3ac456ec-5def-4c2c-901d-d63eb6677bc8')\"\n",
              "              title=\"Convert this dataframe to an interactive table.\"\n",
              "              style=\"display:none;\">\n",
              "        \n",
              "  <svg xmlns=\"http://www.w3.org/2000/svg\" height=\"24px\"viewBox=\"0 0 24 24\"\n",
              "       width=\"24px\">\n",
              "    <path d=\"M0 0h24v24H0V0z\" fill=\"none\"/>\n",
              "    <path d=\"M18.56 5.44l.94 2.06.94-2.06 2.06-.94-2.06-.94-.94-2.06-.94 2.06-2.06.94zm-11 1L8.5 8.5l.94-2.06 2.06-.94-2.06-.94L8.5 2.5l-.94 2.06-2.06.94zm10 10l.94 2.06.94-2.06 2.06-.94-2.06-.94-.94-2.06-.94 2.06-2.06.94z\"/><path d=\"M17.41 7.96l-1.37-1.37c-.4-.4-.92-.59-1.43-.59-.52 0-1.04.2-1.43.59L10.3 9.45l-7.72 7.72c-.78.78-.78 2.05 0 2.83L4 21.41c.39.39.9.59 1.41.59.51 0 1.02-.2 1.41-.59l7.78-7.78 2.81-2.81c.8-.78.8-2.07 0-2.86zM5.41 20L4 18.59l7.72-7.72 1.47 1.35L5.41 20z\"/>\n",
              "  </svg>\n",
              "      </button>\n",
              "      \n",
              "  <style>\n",
              "    .colab-df-container {\n",
              "      display:flex;\n",
              "      flex-wrap:wrap;\n",
              "      gap: 12px;\n",
              "    }\n",
              "\n",
              "    .colab-df-convert {\n",
              "      background-color: #E8F0FE;\n",
              "      border: none;\n",
              "      border-radius: 50%;\n",
              "      cursor: pointer;\n",
              "      display: none;\n",
              "      fill: #1967D2;\n",
              "      height: 32px;\n",
              "      padding: 0 0 0 0;\n",
              "      width: 32px;\n",
              "    }\n",
              "\n",
              "    .colab-df-convert:hover {\n",
              "      background-color: #E2EBFA;\n",
              "      box-shadow: 0px 1px 2px rgba(60, 64, 67, 0.3), 0px 1px 3px 1px rgba(60, 64, 67, 0.15);\n",
              "      fill: #174EA6;\n",
              "    }\n",
              "\n",
              "    [theme=dark] .colab-df-convert {\n",
              "      background-color: #3B4455;\n",
              "      fill: #D2E3FC;\n",
              "    }\n",
              "\n",
              "    [theme=dark] .colab-df-convert:hover {\n",
              "      background-color: #434B5C;\n",
              "      box-shadow: 0px 1px 3px 1px rgba(0, 0, 0, 0.15);\n",
              "      filter: drop-shadow(0px 1px 2px rgba(0, 0, 0, 0.3));\n",
              "      fill: #FFFFFF;\n",
              "    }\n",
              "  </style>\n",
              "\n",
              "      <script>\n",
              "        const buttonEl =\n",
              "          document.querySelector('#df-3ac456ec-5def-4c2c-901d-d63eb6677bc8 button.colab-df-convert');\n",
              "        buttonEl.style.display =\n",
              "          google.colab.kernel.accessAllowed ? 'block' : 'none';\n",
              "\n",
              "        async function convertToInteractive(key) {\n",
              "          const element = document.querySelector('#df-3ac456ec-5def-4c2c-901d-d63eb6677bc8');\n",
              "          const dataTable =\n",
              "            await google.colab.kernel.invokeFunction('convertToInteractive',\n",
              "                                                     [key], {});\n",
              "          if (!dataTable) return;\n",
              "\n",
              "          const docLinkHtml = 'Like what you see? Visit the ' +\n",
              "            '<a target=\"_blank\" href=https://colab.research.google.com/notebooks/data_table.ipynb>data table notebook</a>'\n",
              "            + ' to learn more about interactive tables.';\n",
              "          element.innerHTML = '';\n",
              "          dataTable['output_type'] = 'display_data';\n",
              "          await google.colab.output.renderOutput(dataTable, element);\n",
              "          const docLink = document.createElement('div');\n",
              "          docLink.innerHTML = docLinkHtml;\n",
              "          element.appendChild(docLink);\n",
              "        }\n",
              "      </script>\n",
              "    </div>\n",
              "  </div>\n",
              "  "
            ]
          },
          "metadata": {},
          "execution_count": 103
        }
      ]
    },
    {
      "cell_type": "code",
      "source": [
        "X_train_indexes = X_train.index\n",
        "X_train_emb = new_df.iloc[X_train_indexes, 11:]\n",
        "X_train_emb.head()"
      ],
      "metadata": {
        "colab": {
          "base_uri": "https://localhost:8080/",
          "height": 233
        },
        "id": "_TNFpslXbc__",
        "outputId": "d2966a27-2e53-41d8-9278-202ef728f805"
      },
      "execution_count": null,
      "outputs": [
        {
          "output_type": "execute_result",
          "data": {
            "text/plain": [
              "              0         1         2         3         4         5         6   \\\n",
              "91224  -0.372383  0.221127  0.418656 -0.075037  0.278601  0.282382 -0.179060   \n",
              "117728  0.016294 -0.113769  0.293257 -0.168054  0.222634  0.146599  0.070255   \n",
              "316017 -0.073500  0.113797  0.029153 -0.429477  0.063771  0.347380 -0.124431   \n",
              "7423    0.029224 -0.239776  0.132184  0.049248  0.145883  0.229183 -0.007984   \n",
              "201052 -0.046389 -0.126177  0.413811 -0.052786  0.227497  0.208976  0.116180   \n",
              "\n",
              "              7         8         9   ...        90        91        92  \\\n",
              "91224   0.063454 -0.416448  0.017981  ... -0.318357  0.059500 -0.174866   \n",
              "117728  0.014296 -0.186127  0.057335  ... -0.083942 -0.180034 -0.202958   \n",
              "316017  0.282229 -0.075735  0.068369  ...  0.054707 -0.032472 -0.121287   \n",
              "7423    0.014910 -0.091277 -0.008269  ...  0.064875 -0.315753 -0.039297   \n",
              "201052  0.549721  0.018257  0.237596  ...  0.318063 -0.234182 -0.218740   \n",
              "\n",
              "              93        94        95        96        97        98        99  \n",
              "91224   0.281088 -0.411315 -0.156737 -0.283365 -0.481805  0.567332  0.058942  \n",
              "117728  0.465693 -0.490053  0.123509 -0.455105 -0.099749  0.473420 -0.061285  \n",
              "316017  0.100465 -0.510452  0.222725 -0.246233 -0.182647  0.495054  0.045244  \n",
              "7423    0.541282 -0.457863  0.255201 -0.281852 -0.214106  0.434917 -0.177841  \n",
              "201052  0.573339 -0.420712  0.340783 -0.341281 -0.248862  0.539164 -0.111740  \n",
              "\n",
              "[5 rows x 100 columns]"
            ],
            "text/html": [
              "\n",
              "  <div id=\"df-8d3dc8d2-01da-4b11-97f3-58a933b81d6b\">\n",
              "    <div class=\"colab-df-container\">\n",
              "      <div>\n",
              "<style scoped>\n",
              "    .dataframe tbody tr th:only-of-type {\n",
              "        vertical-align: middle;\n",
              "    }\n",
              "\n",
              "    .dataframe tbody tr th {\n",
              "        vertical-align: top;\n",
              "    }\n",
              "\n",
              "    .dataframe thead th {\n",
              "        text-align: right;\n",
              "    }\n",
              "</style>\n",
              "<table border=\"1\" class=\"dataframe\">\n",
              "  <thead>\n",
              "    <tr style=\"text-align: right;\">\n",
              "      <th></th>\n",
              "      <th>0</th>\n",
              "      <th>1</th>\n",
              "      <th>2</th>\n",
              "      <th>3</th>\n",
              "      <th>4</th>\n",
              "      <th>5</th>\n",
              "      <th>6</th>\n",
              "      <th>7</th>\n",
              "      <th>8</th>\n",
              "      <th>9</th>\n",
              "      <th>...</th>\n",
              "      <th>90</th>\n",
              "      <th>91</th>\n",
              "      <th>92</th>\n",
              "      <th>93</th>\n",
              "      <th>94</th>\n",
              "      <th>95</th>\n",
              "      <th>96</th>\n",
              "      <th>97</th>\n",
              "      <th>98</th>\n",
              "      <th>99</th>\n",
              "    </tr>\n",
              "  </thead>\n",
              "  <tbody>\n",
              "    <tr>\n",
              "      <th>91224</th>\n",
              "      <td>-0.372383</td>\n",
              "      <td>0.221127</td>\n",
              "      <td>0.418656</td>\n",
              "      <td>-0.075037</td>\n",
              "      <td>0.278601</td>\n",
              "      <td>0.282382</td>\n",
              "      <td>-0.179060</td>\n",
              "      <td>0.063454</td>\n",
              "      <td>-0.416448</td>\n",
              "      <td>0.017981</td>\n",
              "      <td>...</td>\n",
              "      <td>-0.318357</td>\n",
              "      <td>0.059500</td>\n",
              "      <td>-0.174866</td>\n",
              "      <td>0.281088</td>\n",
              "      <td>-0.411315</td>\n",
              "      <td>-0.156737</td>\n",
              "      <td>-0.283365</td>\n",
              "      <td>-0.481805</td>\n",
              "      <td>0.567332</td>\n",
              "      <td>0.058942</td>\n",
              "    </tr>\n",
              "    <tr>\n",
              "      <th>117728</th>\n",
              "      <td>0.016294</td>\n",
              "      <td>-0.113769</td>\n",
              "      <td>0.293257</td>\n",
              "      <td>-0.168054</td>\n",
              "      <td>0.222634</td>\n",
              "      <td>0.146599</td>\n",
              "      <td>0.070255</td>\n",
              "      <td>0.014296</td>\n",
              "      <td>-0.186127</td>\n",
              "      <td>0.057335</td>\n",
              "      <td>...</td>\n",
              "      <td>-0.083942</td>\n",
              "      <td>-0.180034</td>\n",
              "      <td>-0.202958</td>\n",
              "      <td>0.465693</td>\n",
              "      <td>-0.490053</td>\n",
              "      <td>0.123509</td>\n",
              "      <td>-0.455105</td>\n",
              "      <td>-0.099749</td>\n",
              "      <td>0.473420</td>\n",
              "      <td>-0.061285</td>\n",
              "    </tr>\n",
              "    <tr>\n",
              "      <th>316017</th>\n",
              "      <td>-0.073500</td>\n",
              "      <td>0.113797</td>\n",
              "      <td>0.029153</td>\n",
              "      <td>-0.429477</td>\n",
              "      <td>0.063771</td>\n",
              "      <td>0.347380</td>\n",
              "      <td>-0.124431</td>\n",
              "      <td>0.282229</td>\n",
              "      <td>-0.075735</td>\n",
              "      <td>0.068369</td>\n",
              "      <td>...</td>\n",
              "      <td>0.054707</td>\n",
              "      <td>-0.032472</td>\n",
              "      <td>-0.121287</td>\n",
              "      <td>0.100465</td>\n",
              "      <td>-0.510452</td>\n",
              "      <td>0.222725</td>\n",
              "      <td>-0.246233</td>\n",
              "      <td>-0.182647</td>\n",
              "      <td>0.495054</td>\n",
              "      <td>0.045244</td>\n",
              "    </tr>\n",
              "    <tr>\n",
              "      <th>7423</th>\n",
              "      <td>0.029224</td>\n",
              "      <td>-0.239776</td>\n",
              "      <td>0.132184</td>\n",
              "      <td>0.049248</td>\n",
              "      <td>0.145883</td>\n",
              "      <td>0.229183</td>\n",
              "      <td>-0.007984</td>\n",
              "      <td>0.014910</td>\n",
              "      <td>-0.091277</td>\n",
              "      <td>-0.008269</td>\n",
              "      <td>...</td>\n",
              "      <td>0.064875</td>\n",
              "      <td>-0.315753</td>\n",
              "      <td>-0.039297</td>\n",
              "      <td>0.541282</td>\n",
              "      <td>-0.457863</td>\n",
              "      <td>0.255201</td>\n",
              "      <td>-0.281852</td>\n",
              "      <td>-0.214106</td>\n",
              "      <td>0.434917</td>\n",
              "      <td>-0.177841</td>\n",
              "    </tr>\n",
              "    <tr>\n",
              "      <th>201052</th>\n",
              "      <td>-0.046389</td>\n",
              "      <td>-0.126177</td>\n",
              "      <td>0.413811</td>\n",
              "      <td>-0.052786</td>\n",
              "      <td>0.227497</td>\n",
              "      <td>0.208976</td>\n",
              "      <td>0.116180</td>\n",
              "      <td>0.549721</td>\n",
              "      <td>0.018257</td>\n",
              "      <td>0.237596</td>\n",
              "      <td>...</td>\n",
              "      <td>0.318063</td>\n",
              "      <td>-0.234182</td>\n",
              "      <td>-0.218740</td>\n",
              "      <td>0.573339</td>\n",
              "      <td>-0.420712</td>\n",
              "      <td>0.340783</td>\n",
              "      <td>-0.341281</td>\n",
              "      <td>-0.248862</td>\n",
              "      <td>0.539164</td>\n",
              "      <td>-0.111740</td>\n",
              "    </tr>\n",
              "  </tbody>\n",
              "</table>\n",
              "<p>5 rows × 100 columns</p>\n",
              "</div>\n",
              "      <button class=\"colab-df-convert\" onclick=\"convertToInteractive('df-8d3dc8d2-01da-4b11-97f3-58a933b81d6b')\"\n",
              "              title=\"Convert this dataframe to an interactive table.\"\n",
              "              style=\"display:none;\">\n",
              "        \n",
              "  <svg xmlns=\"http://www.w3.org/2000/svg\" height=\"24px\"viewBox=\"0 0 24 24\"\n",
              "       width=\"24px\">\n",
              "    <path d=\"M0 0h24v24H0V0z\" fill=\"none\"/>\n",
              "    <path d=\"M18.56 5.44l.94 2.06.94-2.06 2.06-.94-2.06-.94-.94-2.06-.94 2.06-2.06.94zm-11 1L8.5 8.5l.94-2.06 2.06-.94-2.06-.94L8.5 2.5l-.94 2.06-2.06.94zm10 10l.94 2.06.94-2.06 2.06-.94-2.06-.94-.94-2.06-.94 2.06-2.06.94z\"/><path d=\"M17.41 7.96l-1.37-1.37c-.4-.4-.92-.59-1.43-.59-.52 0-1.04.2-1.43.59L10.3 9.45l-7.72 7.72c-.78.78-.78 2.05 0 2.83L4 21.41c.39.39.9.59 1.41.59.51 0 1.02-.2 1.41-.59l7.78-7.78 2.81-2.81c.8-.78.8-2.07 0-2.86zM5.41 20L4 18.59l7.72-7.72 1.47 1.35L5.41 20z\"/>\n",
              "  </svg>\n",
              "      </button>\n",
              "      \n",
              "  <style>\n",
              "    .colab-df-container {\n",
              "      display:flex;\n",
              "      flex-wrap:wrap;\n",
              "      gap: 12px;\n",
              "    }\n",
              "\n",
              "    .colab-df-convert {\n",
              "      background-color: #E8F0FE;\n",
              "      border: none;\n",
              "      border-radius: 50%;\n",
              "      cursor: pointer;\n",
              "      display: none;\n",
              "      fill: #1967D2;\n",
              "      height: 32px;\n",
              "      padding: 0 0 0 0;\n",
              "      width: 32px;\n",
              "    }\n",
              "\n",
              "    .colab-df-convert:hover {\n",
              "      background-color: #E2EBFA;\n",
              "      box-shadow: 0px 1px 2px rgba(60, 64, 67, 0.3), 0px 1px 3px 1px rgba(60, 64, 67, 0.15);\n",
              "      fill: #174EA6;\n",
              "    }\n",
              "\n",
              "    [theme=dark] .colab-df-convert {\n",
              "      background-color: #3B4455;\n",
              "      fill: #D2E3FC;\n",
              "    }\n",
              "\n",
              "    [theme=dark] .colab-df-convert:hover {\n",
              "      background-color: #434B5C;\n",
              "      box-shadow: 0px 1px 3px 1px rgba(0, 0, 0, 0.15);\n",
              "      filter: drop-shadow(0px 1px 2px rgba(0, 0, 0, 0.3));\n",
              "      fill: #FFFFFF;\n",
              "    }\n",
              "  </style>\n",
              "\n",
              "      <script>\n",
              "        const buttonEl =\n",
              "          document.querySelector('#df-8d3dc8d2-01da-4b11-97f3-58a933b81d6b button.colab-df-convert');\n",
              "        buttonEl.style.display =\n",
              "          google.colab.kernel.accessAllowed ? 'block' : 'none';\n",
              "\n",
              "        async function convertToInteractive(key) {\n",
              "          const element = document.querySelector('#df-8d3dc8d2-01da-4b11-97f3-58a933b81d6b');\n",
              "          const dataTable =\n",
              "            await google.colab.kernel.invokeFunction('convertToInteractive',\n",
              "                                                     [key], {});\n",
              "          if (!dataTable) return;\n",
              "\n",
              "          const docLinkHtml = 'Like what you see? Visit the ' +\n",
              "            '<a target=\"_blank\" href=https://colab.research.google.com/notebooks/data_table.ipynb>data table notebook</a>'\n",
              "            + ' to learn more about interactive tables.';\n",
              "          element.innerHTML = '';\n",
              "          dataTable['output_type'] = 'display_data';\n",
              "          await google.colab.output.renderOutput(dataTable, element);\n",
              "          const docLink = document.createElement('div');\n",
              "          docLink.innerHTML = docLinkHtml;\n",
              "          element.appendChild(docLink);\n",
              "        }\n",
              "      </script>\n",
              "    </div>\n",
              "  </div>\n",
              "  "
            ]
          },
          "metadata": {},
          "execution_count": 104
        }
      ]
    },
    {
      "cell_type": "code",
      "source": [
        "embed_pipeline = Pipeline([('scaler', MinMaxScaler()),\n",
        "                          ('clf', MultinomialNB())\n",
        "                         ])\n",
        "\n",
        "parameters = {\n",
        "    'clf__alpha': [0.001, 0.01, 0.1,1,2,3,4,5,10,50, 100]\n",
        "}\n",
        "\n",
        "\n",
        "grid_mnb_emb_acc = (GridSearchCV(embed_pipeline,\n",
        "                                  param_grid=parameters,\n",
        "                                  n_jobs=-1, \n",
        "                                  cv=2).fit(X_train_emb,y_train))\n"
      ],
      "metadata": {
        "id": "Q0vmf4fQqGDu"
      },
      "execution_count": null,
      "outputs": []
    },
    {
      "cell_type": "code",
      "source": [
        "grid_mnb_emb_acc.best_params_"
      ],
      "metadata": {
        "colab": {
          "base_uri": "https://localhost:8080/"
        },
        "id": "D8STTohaq4Gm",
        "outputId": "be8a274f-0cad-4221-935c-c20cb7b9c620"
      },
      "execution_count": null,
      "outputs": [
        {
          "output_type": "execute_result",
          "data": {
            "text/plain": [
              "{'clf__alpha': 0.001}"
            ]
          },
          "metadata": {},
          "execution_count": 106
        }
      ]
    },
    {
      "cell_type": "code",
      "source": [
        "print(X_train_emb.shape, y_train.shape)\n",
        "print(y_train.value_counts())\n",
        "\n",
        "# need to minmax scale to account for negative values\n",
        "scaler = MinMaxScaler()\n",
        "X_train_emb_mm = scaler.fit_transform(X_train_emb)"
      ],
      "metadata": {
        "colab": {
          "base_uri": "https://localhost:8080/"
        },
        "id": "t3kaEjEKchUD",
        "outputId": "a360229b-3dc9-4244-def3-4b73ae60e7c1"
      },
      "execution_count": null,
      "outputs": [
        {
          "output_type": "stream",
          "name": "stdout",
          "text": [
            "(355652, 100) (355652,)\n",
            "1    184549\n",
            "0    171103\n",
            "Name: label, dtype: int64\n"
          ]
        }
      ]
    },
    {
      "cell_type": "code",
      "source": [
        "param_grid = {'alpha': [0.001, 0.01,0.1,.5,1,2,3,4,5,10,25,50,100,500]}\n",
        "grid_mnb_emb_acc = GridSearchCV(MultinomialNB(), param_grid=param_grid)\n",
        "grid_mnb_emb_acc.fit(X_train_emb_mm,y_train)"
      ],
      "metadata": {
        "colab": {
          "base_uri": "https://localhost:8080/"
        },
        "id": "Fp99G5ugfMWz",
        "outputId": "5e7e3c86-cae1-46c5-e3da-5c931fc86670"
      },
      "execution_count": null,
      "outputs": [
        {
          "output_type": "execute_result",
          "data": {
            "text/plain": [
              "GridSearchCV(estimator=MultinomialNB(),\n",
              "             param_grid={'alpha': [0.001, 0.01, 0.1, 0.5, 1, 2, 3, 4, 5, 10, 25,\n",
              "                                   50, 100, 500]})"
            ]
          },
          "metadata": {},
          "execution_count": 74
        }
      ]
    },
    {
      "cell_type": "code",
      "source": [
        "grid_mnb_emb_acc.best_params_"
      ],
      "metadata": {
        "colab": {
          "base_uri": "https://localhost:8080/"
        },
        "id": "N6okCcj5gJGA",
        "outputId": "840ac71c-b05b-4cc5-b4fc-3c3f2df91887"
      },
      "execution_count": null,
      "outputs": [
        {
          "output_type": "execute_result",
          "data": {
            "text/plain": [
              "{'alpha': 0.001}"
            ]
          },
          "metadata": {},
          "execution_count": 76
        }
      ]
    },
    {
      "cell_type": "code",
      "source": [
        "# Extract just the embedding data from test set\n",
        "X_test_indexes = X_test.index\n",
        "X_test_emb = new_df.iloc[X_test_indexes, 11:]\n",
        "X_test_emb.shape"
      ],
      "metadata": {
        "colab": {
          "base_uri": "https://localhost:8080/"
        },
        "id": "DpsREpXeiHMq",
        "outputId": "9eacbd21-4654-4189-d1a1-febed7cb52ec"
      },
      "execution_count": null,
      "outputs": [
        {
          "output_type": "execute_result",
          "data": {
            "text/plain": [
              "(39517, 100)"
            ]
          },
          "metadata": {},
          "execution_count": 107
        }
      ]
    },
    {
      "cell_type": "code",
      "source": [
        "# mnb = MultinomialNB(alpha=.001).fit(X_train_emb_mm, y_train)\n",
        "model_name = 'embedding NB alpha .001'\n",
        "# X_test_emb_mm = scaler.transform(X_test_emb)\n",
        "compute_metrics(grid_mnb_emb_acc.best_estimator_,\n",
        "                model_name,\n",
        "                X_test_emb,\n",
        "                y_test)"
      ],
      "metadata": {
        "id": "k8oKxtz-irEq"
      },
      "execution_count": null,
      "outputs": []
    },
    {
      "cell_type": "code",
      "source": [
        "metrics_df"
      ],
      "metadata": {
        "colab": {
          "base_uri": "https://localhost:8080/"
        },
        "id": "Eykqn2SljNEq",
        "outputId": "9ac60f38-69f1-4c45-98af-a837b7ad2b5b"
      },
      "execution_count": null,
      "outputs": [
        {
          "output_type": "execute_result",
          "data": {
            "text/plain": [
              "{'model_name': ['Tf-idf NB alpha 5',\n",
              "  'MADS NB alpha 10',\n",
              "  'embedding NB alpha .001'],\n",
              " 'model_instance': [Pipeline(steps=[('tfidf',\n",
              "                   TfidfVectorizer(min_df=25, ngram_range=(1, 3),\n",
              "                                   stop_words='english')),\n",
              "                  ('clf', MultinomialNB(alpha=5))]),\n",
              "  Pipeline(steps=[('imputer', SimpleImputer()), ('scaler', MinMaxScaler()),\n",
              "                  ('clf', MultinomialNB(alpha=10))]),\n",
              "  Pipeline(steps=[('scaler', MinMaxScaler()),\n",
              "                  ('clf', MultinomialNB(alpha=0.001))])],\n",
              " 'accuracy': [0.6322848394361921, 0.5250145506996988, 0.518915909608523],\n",
              " 'precision': [0.62178468060821, 0.5224917081260365, 0.518915909608523],\n",
              " 'recall': [0.7438310738320492, 0.9833219545498878, 1.0],\n",
              " 'aucprc': [(array([0.53022703, 0.53021488, 0.53022859, ..., 1.        , 1.        ,\n",
              "          1.        ]),\n",
              "   array([1.        , 0.99995123, 0.99995123, ..., 0.00219448, 0.00209695,\n",
              "          0.        ]),\n",
              "   array([0.09962862, 0.10009335, 0.10013545, ..., 0.99988979, 0.99989463,\n",
              "          0.99991876])),\n",
              "  (array([0.51891591, 0.51890374, 0.51889156, ..., 1.        , 1.        ,\n",
              "          1.        ]),\n",
              "   array([1.00000000e+00, 9.99951234e-01, 9.99902468e-01, ...,\n",
              "          9.75324295e-05, 4.87662148e-05, 0.00000000e+00]),\n",
              "   array([0.46046064, 0.46056306, 0.46193756, ..., 0.55708435, 0.55761957,\n",
              "          0.55780756])),\n",
              "  (array([0.51894217, 0.51893   , 0.51894313, ..., 0.        , 0.        ,\n",
              "          1.        ]),\n",
              "   array([1.        , 0.99995123, 0.99995123, ..., 0.        , 0.        ,\n",
              "          0.        ]),\n",
              "   array([0.50679093, 0.50692217, 0.50782324, ..., 0.53551094, 0.53665765,\n",
              "          0.53843472]))],\n",
              " 'aucroc': [0.6967347793527967, 0.643516174035552, 0.5968998398176957]}"
            ]
          },
          "metadata": {},
          "execution_count": 110
        }
      ]
    },
    {
      "cell_type": "markdown",
      "source": [
        "# Sentence Embeddings + Mads Feaures"
      ],
      "metadata": {
        "id": "BjN14QS8221B"
      }
    },
    {
      "cell_type": "code",
      "source": [
        "model_name = \"emb + mads\"\n",
        "new_df.columns.values"
      ],
      "metadata": {
        "colab": {
          "base_uri": "https://localhost:8080/"
        },
        "id": "ParTXg253CUe",
        "outputId": "ccbb763b-865f-4e14-fb97-a2d7c565d96b"
      },
      "execution_count": null,
      "outputs": [
        {
          "output_type": "execute_result",
          "data": {
            "text/plain": [
              "array(['original_text', 'lemmatized_text', 'd_chall_score', 'aoa_mean',\n",
              "       'aoa_min', 'aoa_max', 'conc_rating_mean', 'conc_rating_min',\n",
              "       'conc_rating_max', 'num_lemmas', 'label', 0, 1, 2, 3, 4, 5, 6, 7,\n",
              "       8, 9, 10, 11, 12, 13, 14, 15, 16, 17, 18, 19, 20, 21, 22, 23, 24,\n",
              "       25, 26, 27, 28, 29, 30, 31, 32, 33, 34, 35, 36, 37, 38, 39, 40, 41,\n",
              "       42, 43, 44, 45, 46, 47, 48, 49, 50, 51, 52, 53, 54, 55, 56, 57, 58,\n",
              "       59, 60, 61, 62, 63, 64, 65, 66, 67, 68, 69, 70, 71, 72, 73, 74, 75,\n",
              "       76, 77, 78, 79, 80, 81, 82, 83, 84, 85, 86, 87, 88, 89, 90, 91, 92,\n",
              "       93, 94, 95, 96, 97, 98, 99], dtype=object)"
            ]
          },
          "metadata": {},
          "execution_count": 173
        }
      ]
    },
    {
      "cell_type": "code",
      "source": [
        "import warnings\n",
        "warnings.filterwarnings(\"ignore\")\n",
        "\n",
        "from sklearn.preprocessing import StandardScaler, Normalizer"
      ],
      "metadata": {
        "id": "S7ewlGuE6Frj"
      },
      "execution_count": null,
      "outputs": []
    },
    {
      "cell_type": "code",
      "source": [
        "X_train_emb_mads = new_df.iloc[X_train.index].copy()\n",
        "X_test_emb_mads = new_df.iloc[X_test.index].copy()\n",
        "\n",
        "\n",
        "\n",
        "\n",
        "X_train_emb_mads.drop(['original_text','lemmatized_text','label'],inplace=True,axis=1)\n",
        "X_test_emb_mads.drop(['original_text','lemmatized_text','label'],inplace=True,axis=1)\n",
        "\n",
        "impute_columns = ['conc_rating_mean','conc_rating_min','conc_rating_max']\n",
        "mads_imputer = Pipeline([('imputer', SimpleImputer(strategy='mean'))\n",
        "                         ])\n",
        "\n",
        "preprocessor = ColumnTransformer(transformers=[('impute', mads_imputer,impute_columns)])\n",
        "\n",
        "\n",
        "embed_pipeline = Pipeline([('preprocessor',preprocessor),\n",
        "                           ('scaler', Normalizer()),\n",
        "                           ('clf', MultinomialNB())\n",
        "                         ])\n",
        "param_grid = {\n",
        "    'clf__alpha': [0.001, 0.01, 0.1,1,2,3,4,5,10,50, 100,500]\n",
        "}"
      ],
      "metadata": {
        "id": "j0km40jmjsbL"
      },
      "execution_count": null,
      "outputs": []
    },
    {
      "cell_type": "code",
      "source": [
        "grid_mnb_embmads_acc = GridSearchCV(embed_pipeline, param_grid=param_grid)\n",
        "grid_mnb_embmads_acc.fit(X_train_emb_mads,y_train)"
      ],
      "metadata": {
        "colab": {
          "base_uri": "https://localhost:8080/"
        },
        "id": "2OSr9Tyxj8gx",
        "outputId": "29e2268f-d1eb-4241-ce7d-257a51059482"
      },
      "execution_count": null,
      "outputs": [
        {
          "output_type": "stream",
          "name": "stderr",
          "text": [
            "/usr/local/lib/python3.7/dist-packages/sklearn/utils/validation.py:1692: FutureWarning: Feature names only support names that are all strings. Got feature names with dtypes: ['int', 'str']. An error will be raised in 1.2.\n",
            "  FutureWarning,\n",
            "/usr/local/lib/python3.7/dist-packages/sklearn/utils/validation.py:1692: FutureWarning: Feature names only support names that are all strings. Got feature names with dtypes: ['int', 'str']. An error will be raised in 1.2.\n",
            "  FutureWarning,\n",
            "/usr/local/lib/python3.7/dist-packages/sklearn/utils/validation.py:1692: FutureWarning: Feature names only support names that are all strings. Got feature names with dtypes: ['int', 'str']. An error will be raised in 1.2.\n",
            "  FutureWarning,\n",
            "/usr/local/lib/python3.7/dist-packages/sklearn/utils/validation.py:1692: FutureWarning: Feature names only support names that are all strings. Got feature names with dtypes: ['int', 'str']. An error will be raised in 1.2.\n",
            "  FutureWarning,\n",
            "/usr/local/lib/python3.7/dist-packages/sklearn/utils/validation.py:1692: FutureWarning: Feature names only support names that are all strings. Got feature names with dtypes: ['int', 'str']. An error will be raised in 1.2.\n",
            "  FutureWarning,\n",
            "/usr/local/lib/python3.7/dist-packages/sklearn/utils/validation.py:1692: FutureWarning: Feature names only support names that are all strings. Got feature names with dtypes: ['int', 'str']. An error will be raised in 1.2.\n",
            "  FutureWarning,\n",
            "/usr/local/lib/python3.7/dist-packages/sklearn/utils/validation.py:1692: FutureWarning: Feature names only support names that are all strings. Got feature names with dtypes: ['int', 'str']. An error will be raised in 1.2.\n",
            "  FutureWarning,\n",
            "/usr/local/lib/python3.7/dist-packages/sklearn/utils/validation.py:1692: FutureWarning: Feature names only support names that are all strings. Got feature names with dtypes: ['int', 'str']. An error will be raised in 1.2.\n",
            "  FutureWarning,\n",
            "/usr/local/lib/python3.7/dist-packages/sklearn/utils/validation.py:1692: FutureWarning: Feature names only support names that are all strings. Got feature names with dtypes: ['int', 'str']. An error will be raised in 1.2.\n",
            "  FutureWarning,\n",
            "/usr/local/lib/python3.7/dist-packages/sklearn/utils/validation.py:1692: FutureWarning: Feature names only support names that are all strings. Got feature names with dtypes: ['int', 'str']. An error will be raised in 1.2.\n",
            "  FutureWarning,\n",
            "/usr/local/lib/python3.7/dist-packages/sklearn/utils/validation.py:1692: FutureWarning: Feature names only support names that are all strings. Got feature names with dtypes: ['int', 'str']. An error will be raised in 1.2.\n",
            "  FutureWarning,\n",
            "/usr/local/lib/python3.7/dist-packages/sklearn/utils/validation.py:1692: FutureWarning: Feature names only support names that are all strings. Got feature names with dtypes: ['int', 'str']. An error will be raised in 1.2.\n",
            "  FutureWarning,\n",
            "/usr/local/lib/python3.7/dist-packages/sklearn/utils/validation.py:1692: FutureWarning: Feature names only support names that are all strings. Got feature names with dtypes: ['int', 'str']. An error will be raised in 1.2.\n",
            "  FutureWarning,\n",
            "/usr/local/lib/python3.7/dist-packages/sklearn/utils/validation.py:1692: FutureWarning: Feature names only support names that are all strings. Got feature names with dtypes: ['int', 'str']. An error will be raised in 1.2.\n",
            "  FutureWarning,\n",
            "/usr/local/lib/python3.7/dist-packages/sklearn/utils/validation.py:1692: FutureWarning: Feature names only support names that are all strings. Got feature names with dtypes: ['int', 'str']. An error will be raised in 1.2.\n",
            "  FutureWarning,\n",
            "/usr/local/lib/python3.7/dist-packages/sklearn/utils/validation.py:1692: FutureWarning: Feature names only support names that are all strings. Got feature names with dtypes: ['int', 'str']. An error will be raised in 1.2.\n",
            "  FutureWarning,\n",
            "/usr/local/lib/python3.7/dist-packages/sklearn/utils/validation.py:1692: FutureWarning: Feature names only support names that are all strings. Got feature names with dtypes: ['int', 'str']. An error will be raised in 1.2.\n",
            "  FutureWarning,\n",
            "/usr/local/lib/python3.7/dist-packages/sklearn/utils/validation.py:1692: FutureWarning: Feature names only support names that are all strings. Got feature names with dtypes: ['int', 'str']. An error will be raised in 1.2.\n",
            "  FutureWarning,\n",
            "/usr/local/lib/python3.7/dist-packages/sklearn/utils/validation.py:1692: FutureWarning: Feature names only support names that are all strings. Got feature names with dtypes: ['int', 'str']. An error will be raised in 1.2.\n",
            "  FutureWarning,\n",
            "/usr/local/lib/python3.7/dist-packages/sklearn/utils/validation.py:1692: FutureWarning: Feature names only support names that are all strings. Got feature names with dtypes: ['int', 'str']. An error will be raised in 1.2.\n",
            "  FutureWarning,\n",
            "/usr/local/lib/python3.7/dist-packages/sklearn/utils/validation.py:1692: FutureWarning: Feature names only support names that are all strings. Got feature names with dtypes: ['int', 'str']. An error will be raised in 1.2.\n",
            "  FutureWarning,\n",
            "/usr/local/lib/python3.7/dist-packages/sklearn/utils/validation.py:1692: FutureWarning: Feature names only support names that are all strings. Got feature names with dtypes: ['int', 'str']. An error will be raised in 1.2.\n",
            "  FutureWarning,\n",
            "/usr/local/lib/python3.7/dist-packages/sklearn/utils/validation.py:1692: FutureWarning: Feature names only support names that are all strings. Got feature names with dtypes: ['int', 'str']. An error will be raised in 1.2.\n",
            "  FutureWarning,\n",
            "/usr/local/lib/python3.7/dist-packages/sklearn/utils/validation.py:1692: FutureWarning: Feature names only support names that are all strings. Got feature names with dtypes: ['int', 'str']. An error will be raised in 1.2.\n",
            "  FutureWarning,\n",
            "/usr/local/lib/python3.7/dist-packages/sklearn/utils/validation.py:1692: FutureWarning: Feature names only support names that are all strings. Got feature names with dtypes: ['int', 'str']. An error will be raised in 1.2.\n",
            "  FutureWarning,\n",
            "/usr/local/lib/python3.7/dist-packages/sklearn/utils/validation.py:1692: FutureWarning: Feature names only support names that are all strings. Got feature names with dtypes: ['int', 'str']. An error will be raised in 1.2.\n",
            "  FutureWarning,\n",
            "/usr/local/lib/python3.7/dist-packages/sklearn/utils/validation.py:1692: FutureWarning: Feature names only support names that are all strings. Got feature names with dtypes: ['int', 'str']. An error will be raised in 1.2.\n",
            "  FutureWarning,\n",
            "/usr/local/lib/python3.7/dist-packages/sklearn/utils/validation.py:1692: FutureWarning: Feature names only support names that are all strings. Got feature names with dtypes: ['int', 'str']. An error will be raised in 1.2.\n",
            "  FutureWarning,\n",
            "/usr/local/lib/python3.7/dist-packages/sklearn/utils/validation.py:1692: FutureWarning: Feature names only support names that are all strings. Got feature names with dtypes: ['int', 'str']. An error will be raised in 1.2.\n",
            "  FutureWarning,\n",
            "/usr/local/lib/python3.7/dist-packages/sklearn/utils/validation.py:1692: FutureWarning: Feature names only support names that are all strings. Got feature names with dtypes: ['int', 'str']. An error will be raised in 1.2.\n",
            "  FutureWarning,\n",
            "/usr/local/lib/python3.7/dist-packages/sklearn/utils/validation.py:1692: FutureWarning: Feature names only support names that are all strings. Got feature names with dtypes: ['int', 'str']. An error will be raised in 1.2.\n",
            "  FutureWarning,\n",
            "/usr/local/lib/python3.7/dist-packages/sklearn/utils/validation.py:1692: FutureWarning: Feature names only support names that are all strings. Got feature names with dtypes: ['int', 'str']. An error will be raised in 1.2.\n",
            "  FutureWarning,\n",
            "/usr/local/lib/python3.7/dist-packages/sklearn/utils/validation.py:1692: FutureWarning: Feature names only support names that are all strings. Got feature names with dtypes: ['int', 'str']. An error will be raised in 1.2.\n",
            "  FutureWarning,\n",
            "/usr/local/lib/python3.7/dist-packages/sklearn/utils/validation.py:1692: FutureWarning: Feature names only support names that are all strings. Got feature names with dtypes: ['int', 'str']. An error will be raised in 1.2.\n",
            "  FutureWarning,\n",
            "/usr/local/lib/python3.7/dist-packages/sklearn/utils/validation.py:1692: FutureWarning: Feature names only support names that are all strings. Got feature names with dtypes: ['int', 'str']. An error will be raised in 1.2.\n",
            "  FutureWarning,\n",
            "/usr/local/lib/python3.7/dist-packages/sklearn/utils/validation.py:1692: FutureWarning: Feature names only support names that are all strings. Got feature names with dtypes: ['int', 'str']. An error will be raised in 1.2.\n",
            "  FutureWarning,\n",
            "/usr/local/lib/python3.7/dist-packages/sklearn/utils/validation.py:1692: FutureWarning: Feature names only support names that are all strings. Got feature names with dtypes: ['int', 'str']. An error will be raised in 1.2.\n",
            "  FutureWarning,\n",
            "/usr/local/lib/python3.7/dist-packages/sklearn/utils/validation.py:1692: FutureWarning: Feature names only support names that are all strings. Got feature names with dtypes: ['int', 'str']. An error will be raised in 1.2.\n",
            "  FutureWarning,\n",
            "/usr/local/lib/python3.7/dist-packages/sklearn/utils/validation.py:1692: FutureWarning: Feature names only support names that are all strings. Got feature names with dtypes: ['int', 'str']. An error will be raised in 1.2.\n",
            "  FutureWarning,\n",
            "/usr/local/lib/python3.7/dist-packages/sklearn/utils/validation.py:1692: FutureWarning: Feature names only support names that are all strings. Got feature names with dtypes: ['int', 'str']. An error will be raised in 1.2.\n",
            "  FutureWarning,\n",
            "/usr/local/lib/python3.7/dist-packages/sklearn/utils/validation.py:1692: FutureWarning: Feature names only support names that are all strings. Got feature names with dtypes: ['int', 'str']. An error will be raised in 1.2.\n",
            "  FutureWarning,\n",
            "/usr/local/lib/python3.7/dist-packages/sklearn/utils/validation.py:1692: FutureWarning: Feature names only support names that are all strings. Got feature names with dtypes: ['int', 'str']. An error will be raised in 1.2.\n",
            "  FutureWarning,\n",
            "/usr/local/lib/python3.7/dist-packages/sklearn/utils/validation.py:1692: FutureWarning: Feature names only support names that are all strings. Got feature names with dtypes: ['int', 'str']. An error will be raised in 1.2.\n",
            "  FutureWarning,\n",
            "/usr/local/lib/python3.7/dist-packages/sklearn/utils/validation.py:1692: FutureWarning: Feature names only support names that are all strings. Got feature names with dtypes: ['int', 'str']. An error will be raised in 1.2.\n",
            "  FutureWarning,\n",
            "/usr/local/lib/python3.7/dist-packages/sklearn/utils/validation.py:1692: FutureWarning: Feature names only support names that are all strings. Got feature names with dtypes: ['int', 'str']. An error will be raised in 1.2.\n",
            "  FutureWarning,\n",
            "/usr/local/lib/python3.7/dist-packages/sklearn/utils/validation.py:1692: FutureWarning: Feature names only support names that are all strings. Got feature names with dtypes: ['int', 'str']. An error will be raised in 1.2.\n",
            "  FutureWarning,\n",
            "/usr/local/lib/python3.7/dist-packages/sklearn/utils/validation.py:1692: FutureWarning: Feature names only support names that are all strings. Got feature names with dtypes: ['int', 'str']. An error will be raised in 1.2.\n",
            "  FutureWarning,\n",
            "/usr/local/lib/python3.7/dist-packages/sklearn/utils/validation.py:1692: FutureWarning: Feature names only support names that are all strings. Got feature names with dtypes: ['int', 'str']. An error will be raised in 1.2.\n",
            "  FutureWarning,\n",
            "/usr/local/lib/python3.7/dist-packages/sklearn/utils/validation.py:1692: FutureWarning: Feature names only support names that are all strings. Got feature names with dtypes: ['int', 'str']. An error will be raised in 1.2.\n",
            "  FutureWarning,\n",
            "/usr/local/lib/python3.7/dist-packages/sklearn/utils/validation.py:1692: FutureWarning: Feature names only support names that are all strings. Got feature names with dtypes: ['int', 'str']. An error will be raised in 1.2.\n",
            "  FutureWarning,\n",
            "/usr/local/lib/python3.7/dist-packages/sklearn/utils/validation.py:1692: FutureWarning: Feature names only support names that are all strings. Got feature names with dtypes: ['int', 'str']. An error will be raised in 1.2.\n",
            "  FutureWarning,\n",
            "/usr/local/lib/python3.7/dist-packages/sklearn/utils/validation.py:1692: FutureWarning: Feature names only support names that are all strings. Got feature names with dtypes: ['int', 'str']. An error will be raised in 1.2.\n",
            "  FutureWarning,\n",
            "/usr/local/lib/python3.7/dist-packages/sklearn/utils/validation.py:1692: FutureWarning: Feature names only support names that are all strings. Got feature names with dtypes: ['int', 'str']. An error will be raised in 1.2.\n",
            "  FutureWarning,\n",
            "/usr/local/lib/python3.7/dist-packages/sklearn/utils/validation.py:1692: FutureWarning: Feature names only support names that are all strings. Got feature names with dtypes: ['int', 'str']. An error will be raised in 1.2.\n",
            "  FutureWarning,\n",
            "/usr/local/lib/python3.7/dist-packages/sklearn/utils/validation.py:1692: FutureWarning: Feature names only support names that are all strings. Got feature names with dtypes: ['int', 'str']. An error will be raised in 1.2.\n",
            "  FutureWarning,\n",
            "/usr/local/lib/python3.7/dist-packages/sklearn/utils/validation.py:1692: FutureWarning: Feature names only support names that are all strings. Got feature names with dtypes: ['int', 'str']. An error will be raised in 1.2.\n",
            "  FutureWarning,\n",
            "/usr/local/lib/python3.7/dist-packages/sklearn/utils/validation.py:1692: FutureWarning: Feature names only support names that are all strings. Got feature names with dtypes: ['int', 'str']. An error will be raised in 1.2.\n",
            "  FutureWarning,\n",
            "/usr/local/lib/python3.7/dist-packages/sklearn/utils/validation.py:1692: FutureWarning: Feature names only support names that are all strings. Got feature names with dtypes: ['int', 'str']. An error will be raised in 1.2.\n",
            "  FutureWarning,\n",
            "/usr/local/lib/python3.7/dist-packages/sklearn/utils/validation.py:1692: FutureWarning: Feature names only support names that are all strings. Got feature names with dtypes: ['int', 'str']. An error will be raised in 1.2.\n",
            "  FutureWarning,\n",
            "/usr/local/lib/python3.7/dist-packages/sklearn/utils/validation.py:1692: FutureWarning: Feature names only support names that are all strings. Got feature names with dtypes: ['int', 'str']. An error will be raised in 1.2.\n",
            "  FutureWarning,\n",
            "/usr/local/lib/python3.7/dist-packages/sklearn/utils/validation.py:1692: FutureWarning: Feature names only support names that are all strings. Got feature names with dtypes: ['int', 'str']. An error will be raised in 1.2.\n",
            "  FutureWarning,\n"
          ]
        },
        {
          "output_type": "execute_result",
          "data": {
            "text/plain": [
              "GridSearchCV(estimator=Pipeline(steps=[('preprocessor',\n",
              "                                        ColumnTransformer(transformers=[('impute',\n",
              "                                                                         Pipeline(steps=[('imputer',\n",
              "                                                                                          SimpleImputer())]),\n",
              "                                                                         ['conc_rating_mean',\n",
              "                                                                          'conc_rating_min',\n",
              "                                                                          'conc_rating_max'])])),\n",
              "                                       ('scaler', Normalizer()),\n",
              "                                       ('clf', MultinomialNB())]),\n",
              "             param_grid={'clf__alpha': [0.001, 0.01, 0.1, 1, 2, 3, 4, 5, 10, 50,\n",
              "                                        100, 500]})"
            ]
          },
          "metadata": {},
          "execution_count": 164
        }
      ]
    },
    {
      "cell_type": "code",
      "source": [
        "grid_mnb_embmads_acc.best_estimator_.score(X_test_emb_mads,y_test)\n",
        "grid_mnb_embmads_acc.best_params_"
      ],
      "metadata": {
        "colab": {
          "base_uri": "https://localhost:8080/"
        },
        "id": "mgRnfStj5DiD",
        "outputId": "f04cc967-dc8d-4e47-f7bc-18462db17f1b"
      },
      "execution_count": null,
      "outputs": [
        {
          "output_type": "execute_result",
          "data": {
            "text/plain": [
              "{'clf__alpha': 0.001}"
            ]
          },
          "metadata": {},
          "execution_count": 169
        }
      ]
    },
    {
      "cell_type": "code",
      "source": [],
      "metadata": {
        "colab": {
          "base_uri": "https://localhost:8080/",
          "height": 37
        },
        "id": "xLHkz50FA1CU",
        "outputId": "0c668a1c-c6a7-45c7-9ff5-7b7818a67a31"
      },
      "execution_count": null,
      "outputs": [
        {
          "output_type": "execute_result",
          "data": {
            "text/plain": [
              "'emb + mads clf__alpha_0.001'"
            ],
            "application/vnd.google.colaboratory.intrinsic+json": {
              "type": "string"
            }
          },
          "metadata": {},
          "execution_count": 174
        }
      ]
    },
    {
      "cell_type": "code",
      "source": [
        "model\n",
        "compute_metrics(grid_mnb_embmads_acc.best_estimator_,model_name,X_test_emb_mads, y_test)"
      ],
      "metadata": {
        "id": "ozt7YyoiAgxv"
      },
      "execution_count": null,
      "outputs": []
    },
    {
      "cell_type": "code",
      "source": [
        "#Earlier Code (pre-pipeline)\n",
        "\n",
        "# X_train_emb_mads = np.hstack((X_train_emb_mm,\n",
        "#                               X_train_mads_features))\n",
        "\n",
        "# param_grid = {'alpha': [0.001, 0.01,0.1,.5,1,2,3,4,5,10,25,50,100,500]}\n",
        "# grid_mnb_embmads_acc = GridSearchCV(MultinomialNB(), param_grid=param_grid)\n",
        "# grid_mnb_embmads_acc.fit(X_train_emb_mads,y_train)\n",
        "\n",
        "# grid_mnb_embmads_acc.best_params_\n",
        "\n",
        "# Confirm the number of nan values based on the conc_rating_mean and fill with 0 \n",
        "# X_test_mads_features[X_test_mads_features['conc_rating_mean'].isna()==True]\n",
        "# X_test_mads_features.fillna(0,inplace=True)\n",
        "\n",
        "# model_name = 'embedding NB alpha .001'\n",
        "# compute_metrics(grid_mnb_embmads_acc.best_estimator_,model_name,X_test_emb_mads, y_test)"
      ],
      "metadata": {
        "colab": {
          "base_uri": "https://localhost:8080/"
        },
        "id": "QdHkacXblg14",
        "outputId": "a560d804-0d5a-49c4-b57c-064e948440d6"
      },
      "execution_count": null,
      "outputs": [
        {
          "output_type": "execute_result",
          "data": {
            "text/plain": [
              "GridSearchCV(estimator=MultinomialNB(),\n",
              "             param_grid={'alpha': [0.001, 0.01, 0.1, 0.5, 1, 2, 3, 4, 5, 10, 25,\n",
              "                                   50, 100, 500]})"
            ]
          },
          "metadata": {},
          "execution_count": 84
        }
      ]
    },
    {
      "cell_type": "code",
      "source": [
        "metrics = pd.DataFrame(metrics_df)"
      ],
      "metadata": {
        "id": "K8p7vIRgsSTp"
      },
      "execution_count": null,
      "outputs": []
    },
    {
      "cell_type": "code",
      "source": [
        "metrics"
      ],
      "metadata": {
        "colab": {
          "base_uri": "https://localhost:8080/",
          "height": 142
        },
        "id": "CJuxLfjbUaUf",
        "outputId": "d6bda562-26f6-4f9a-dba0-c8982a515e7b"
      },
      "execution_count": null,
      "outputs": [
        {
          "output_type": "execute_result",
          "data": {
            "text/plain": [
              "                model_name                                     model_instance  \\\n",
              "0        Tf-idf NB alpha 5  (TfidfVectorizer(min_df=25, ngram_range=(1, 3)...   \n",
              "1         MADS NB alpha 10  (SimpleImputer(), MinMaxScaler(), MultinomialN...   \n",
              "2  embedding NB alpha .001       (MinMaxScaler(), MultinomialNB(alpha=0.001))   \n",
              "\n",
              "   accuracy  precision    recall  \\\n",
              "0  0.632285   0.621785  0.743831   \n",
              "1  0.525015   0.522492  0.983322   \n",
              "2  0.518916   0.518916  1.000000   \n",
              "\n",
              "                                              aucprc    aucroc  \n",
              "0  ([0.5302270259088794, 0.5302148785974711, 0.53...  0.696735  \n",
              "1  ([0.518915909608523, 0.5189037351958701, 0.518...  0.643516  \n",
              "2  ([0.5189421738580285, 0.5189299994938503, 0.51...  0.596900  "
            ],
            "text/html": [
              "\n",
              "  <div id=\"df-9d3489dd-7d94-42fa-b808-33ea2040c24e\">\n",
              "    <div class=\"colab-df-container\">\n",
              "      <div>\n",
              "<style scoped>\n",
              "    .dataframe tbody tr th:only-of-type {\n",
              "        vertical-align: middle;\n",
              "    }\n",
              "\n",
              "    .dataframe tbody tr th {\n",
              "        vertical-align: top;\n",
              "    }\n",
              "\n",
              "    .dataframe thead th {\n",
              "        text-align: right;\n",
              "    }\n",
              "</style>\n",
              "<table border=\"1\" class=\"dataframe\">\n",
              "  <thead>\n",
              "    <tr style=\"text-align: right;\">\n",
              "      <th></th>\n",
              "      <th>model_name</th>\n",
              "      <th>model_instance</th>\n",
              "      <th>accuracy</th>\n",
              "      <th>precision</th>\n",
              "      <th>recall</th>\n",
              "      <th>aucprc</th>\n",
              "      <th>aucroc</th>\n",
              "    </tr>\n",
              "  </thead>\n",
              "  <tbody>\n",
              "    <tr>\n",
              "      <th>0</th>\n",
              "      <td>Tf-idf NB alpha 5</td>\n",
              "      <td>(TfidfVectorizer(min_df=25, ngram_range=(1, 3)...</td>\n",
              "      <td>0.632285</td>\n",
              "      <td>0.621785</td>\n",
              "      <td>0.743831</td>\n",
              "      <td>([0.5302270259088794, 0.5302148785974711, 0.53...</td>\n",
              "      <td>0.696735</td>\n",
              "    </tr>\n",
              "    <tr>\n",
              "      <th>1</th>\n",
              "      <td>MADS NB alpha 10</td>\n",
              "      <td>(SimpleImputer(), MinMaxScaler(), MultinomialN...</td>\n",
              "      <td>0.525015</td>\n",
              "      <td>0.522492</td>\n",
              "      <td>0.983322</td>\n",
              "      <td>([0.518915909608523, 0.5189037351958701, 0.518...</td>\n",
              "      <td>0.643516</td>\n",
              "    </tr>\n",
              "    <tr>\n",
              "      <th>2</th>\n",
              "      <td>embedding NB alpha .001</td>\n",
              "      <td>(MinMaxScaler(), MultinomialNB(alpha=0.001))</td>\n",
              "      <td>0.518916</td>\n",
              "      <td>0.518916</td>\n",
              "      <td>1.000000</td>\n",
              "      <td>([0.5189421738580285, 0.5189299994938503, 0.51...</td>\n",
              "      <td>0.596900</td>\n",
              "    </tr>\n",
              "  </tbody>\n",
              "</table>\n",
              "</div>\n",
              "      <button class=\"colab-df-convert\" onclick=\"convertToInteractive('df-9d3489dd-7d94-42fa-b808-33ea2040c24e')\"\n",
              "              title=\"Convert this dataframe to an interactive table.\"\n",
              "              style=\"display:none;\">\n",
              "        \n",
              "  <svg xmlns=\"http://www.w3.org/2000/svg\" height=\"24px\"viewBox=\"0 0 24 24\"\n",
              "       width=\"24px\">\n",
              "    <path d=\"M0 0h24v24H0V0z\" fill=\"none\"/>\n",
              "    <path d=\"M18.56 5.44l.94 2.06.94-2.06 2.06-.94-2.06-.94-.94-2.06-.94 2.06-2.06.94zm-11 1L8.5 8.5l.94-2.06 2.06-.94-2.06-.94L8.5 2.5l-.94 2.06-2.06.94zm10 10l.94 2.06.94-2.06 2.06-.94-2.06-.94-.94-2.06-.94 2.06-2.06.94z\"/><path d=\"M17.41 7.96l-1.37-1.37c-.4-.4-.92-.59-1.43-.59-.52 0-1.04.2-1.43.59L10.3 9.45l-7.72 7.72c-.78.78-.78 2.05 0 2.83L4 21.41c.39.39.9.59 1.41.59.51 0 1.02-.2 1.41-.59l7.78-7.78 2.81-2.81c.8-.78.8-2.07 0-2.86zM5.41 20L4 18.59l7.72-7.72 1.47 1.35L5.41 20z\"/>\n",
              "  </svg>\n",
              "      </button>\n",
              "      \n",
              "  <style>\n",
              "    .colab-df-container {\n",
              "      display:flex;\n",
              "      flex-wrap:wrap;\n",
              "      gap: 12px;\n",
              "    }\n",
              "\n",
              "    .colab-df-convert {\n",
              "      background-color: #E8F0FE;\n",
              "      border: none;\n",
              "      border-radius: 50%;\n",
              "      cursor: pointer;\n",
              "      display: none;\n",
              "      fill: #1967D2;\n",
              "      height: 32px;\n",
              "      padding: 0 0 0 0;\n",
              "      width: 32px;\n",
              "    }\n",
              "\n",
              "    .colab-df-convert:hover {\n",
              "      background-color: #E2EBFA;\n",
              "      box-shadow: 0px 1px 2px rgba(60, 64, 67, 0.3), 0px 1px 3px 1px rgba(60, 64, 67, 0.15);\n",
              "      fill: #174EA6;\n",
              "    }\n",
              "\n",
              "    [theme=dark] .colab-df-convert {\n",
              "      background-color: #3B4455;\n",
              "      fill: #D2E3FC;\n",
              "    }\n",
              "\n",
              "    [theme=dark] .colab-df-convert:hover {\n",
              "      background-color: #434B5C;\n",
              "      box-shadow: 0px 1px 3px 1px rgba(0, 0, 0, 0.15);\n",
              "      filter: drop-shadow(0px 1px 2px rgba(0, 0, 0, 0.3));\n",
              "      fill: #FFFFFF;\n",
              "    }\n",
              "  </style>\n",
              "\n",
              "      <script>\n",
              "        const buttonEl =\n",
              "          document.querySelector('#df-9d3489dd-7d94-42fa-b808-33ea2040c24e button.colab-df-convert');\n",
              "        buttonEl.style.display =\n",
              "          google.colab.kernel.accessAllowed ? 'block' : 'none';\n",
              "\n",
              "        async function convertToInteractive(key) {\n",
              "          const element = document.querySelector('#df-9d3489dd-7d94-42fa-b808-33ea2040c24e');\n",
              "          const dataTable =\n",
              "            await google.colab.kernel.invokeFunction('convertToInteractive',\n",
              "                                                     [key], {});\n",
              "          if (!dataTable) return;\n",
              "\n",
              "          const docLinkHtml = 'Like what you see? Visit the ' +\n",
              "            '<a target=\"_blank\" href=https://colab.research.google.com/notebooks/data_table.ipynb>data table notebook</a>'\n",
              "            + ' to learn more about interactive tables.';\n",
              "          element.innerHTML = '';\n",
              "          dataTable['output_type'] = 'display_data';\n",
              "          await google.colab.output.renderOutput(dataTable, element);\n",
              "          const docLink = document.createElement('div');\n",
              "          docLink.innerHTML = docLinkHtml;\n",
              "          element.appendChild(docLink);\n",
              "        }\n",
              "      </script>\n",
              "    </div>\n",
              "  </div>\n",
              "  "
            ]
          },
          "metadata": {},
          "execution_count": 168
        }
      ]
    },
    {
      "cell_type": "code",
      "source": [
        "import pickle"
      ],
      "metadata": {
        "id": "4w_h5R8VUbAg"
      },
      "execution_count": null,
      "outputs": []
    },
    {
      "cell_type": "code",
      "source": [
        "best_model = metrics.iloc[2]['model_instance']"
      ],
      "metadata": {
        "id": "Kou5QVVxEUh4"
      },
      "execution_count": null,
      "outputs": []
    },
    {
      "cell_type": "code",
      "source": [
        "f = open('drive/Shareddrives/Milestone 2/nb_model.txt','wb')\n",
        "pickle.dump(best_model,f)"
      ],
      "metadata": {
        "id": "e_8x7wMzEpIP"
      },
      "execution_count": null,
      "outputs": []
    },
    {
      "cell_type": "code",
      "source": [],
      "metadata": {
        "id": "TlcMjfV3Eq-u"
      },
      "execution_count": null,
      "outputs": []
    }
  ]
}