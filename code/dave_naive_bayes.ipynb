{
  "nbformat": 4,
  "nbformat_minor": 0,
  "metadata": {
    "colab": {
      "provenance": [],
      "collapsed_sections": [],
      "authorship_tag": "ABX9TyO/gYP9jMdj/w7aAMaIl9l2",
      "include_colab_link": true
    },
    "kernelspec": {
      "name": "python3",
      "display_name": "Python 3"
    },
    "language_info": {
      "name": "python"
    }
  },
  "cells": [
    {
      "cell_type": "markdown",
      "metadata": {
        "id": "view-in-github",
        "colab_type": "text"
      },
      "source": [
        "<a href=\"https://colab.research.google.com/github/Tstrebe2/predicting-text-difficulty/blob/dave-updates/code/dave_naive_bayes.ipynb\" target=\"_parent\"><img src=\"https://colab.research.google.com/assets/colab-badge.svg\" alt=\"Open In Colab\"/></a>"
      ]
    },
    {
      "cell_type": "code",
      "execution_count": 11,
      "metadata": {
        "id": "Ru6jXshMfhPz"
      },
      "outputs": [],
      "source": [
        "import pandas as pd\n",
        "import sys\n",
        "!{sys.executable} -m pip install pyspark==3.1.2 -q\n",
        "!{sys.executable} -m pip install spark-nlp==4.2.0 -q"
      ]
    },
    {
      "cell_type": "code",
      "source": [
        "from google.colab import drive\n",
        "drive.mount('/content/drive')"
      ],
      "metadata": {
        "colab": {
          "base_uri": "https://localhost:8080/"
        },
        "id": "qOe4T1jrfrRi",
        "outputId": "14387643-b381-4618-8fae-1f660e26e1cb"
      },
      "execution_count": 16,
      "outputs": [
        {
          "output_type": "stream",
          "name": "stdout",
          "text": [
            "Drive already mounted at /content/drive; to attempt to forcibly remount, call drive.mount(\"/content/drive\", force_remount=True).\n"
          ]
        }
      ]
    },
    {
      "cell_type": "code",
      "source": [
        "df = pd.read_csv('drive/MyDrive/696/text_difficulty_features.csv',sep='\\t')\n",
        "df.head(5)"
      ],
      "metadata": {
        "colab": {
          "base_uri": "https://localhost:8080/",
          "height": 204
        },
        "id": "nAPWzl-bvHkX",
        "outputId": "64bef06e-a846-4c5d-9565-10f716336ad5"
      },
      "execution_count": 132,
      "outputs": [
        {
          "output_type": "execute_result",
          "data": {
            "text/plain": [
              "                                       original_text  \\\n",
              "0  There is manuscript evidence that Austen conti...   \n",
              "1  In a remarkable comparative analysis , Mandaea...   \n",
              "2  Before Persephone was released to Hermes , who...   \n",
              "3  Cogeneration plants are commonly found in dist...   \n",
              "4  Geneva is the second-most-populous city in Swi...   \n",
              "\n",
              "                                     lemmatized_text  d_chall_score  aoa_mean  \\\n",
              "0  There be manuscript evidence that Austen conti...       8.533221  5.809310   \n",
              "1  In a remarkable comparative analysis , Mandaea...      12.320171  7.402308   \n",
              "2  Before Persephone be release to Hermes , who h...       5.931500  5.231351   \n",
              "3  Cogeneration plant be commonly find in distric...       7.015012  6.742000   \n",
              "4  Geneva be the second-most-populous city in Swi...       7.550745  5.455000   \n",
              "\n",
              "   aoa_min  aoa_max  conc_rating_mean  conc_rating_min  conc_rating_max  \\\n",
              "0     3.57    12.12          2.495517             1.33             4.57   \n",
              "1     2.89    11.94          2.334286             1.46             4.93   \n",
              "2     2.78    11.17          2.556486             1.43             4.86   \n",
              "3     3.56    11.53          3.369655             1.52             4.93   \n",
              "4     3.69    12.62          2.399333             1.43             4.79   \n",
              "\n",
              "   num_lemmas  label  \n",
              "0        38.0      1  \n",
              "1        21.0      1  \n",
              "2        40.0      1  \n",
              "3        32.0      1  \n",
              "4        22.0      1  "
            ],
            "text/html": [
              "\n",
              "  <div id=\"df-91873fc5-df28-4c22-a5ab-97d1056b96d1\">\n",
              "    <div class=\"colab-df-container\">\n",
              "      <div>\n",
              "<style scoped>\n",
              "    .dataframe tbody tr th:only-of-type {\n",
              "        vertical-align: middle;\n",
              "    }\n",
              "\n",
              "    .dataframe tbody tr th {\n",
              "        vertical-align: top;\n",
              "    }\n",
              "\n",
              "    .dataframe thead th {\n",
              "        text-align: right;\n",
              "    }\n",
              "</style>\n",
              "<table border=\"1\" class=\"dataframe\">\n",
              "  <thead>\n",
              "    <tr style=\"text-align: right;\">\n",
              "      <th></th>\n",
              "      <th>original_text</th>\n",
              "      <th>lemmatized_text</th>\n",
              "      <th>d_chall_score</th>\n",
              "      <th>aoa_mean</th>\n",
              "      <th>aoa_min</th>\n",
              "      <th>aoa_max</th>\n",
              "      <th>conc_rating_mean</th>\n",
              "      <th>conc_rating_min</th>\n",
              "      <th>conc_rating_max</th>\n",
              "      <th>num_lemmas</th>\n",
              "      <th>label</th>\n",
              "    </tr>\n",
              "  </thead>\n",
              "  <tbody>\n",
              "    <tr>\n",
              "      <th>0</th>\n",
              "      <td>There is manuscript evidence that Austen conti...</td>\n",
              "      <td>There be manuscript evidence that Austen conti...</td>\n",
              "      <td>8.533221</td>\n",
              "      <td>5.809310</td>\n",
              "      <td>3.57</td>\n",
              "      <td>12.12</td>\n",
              "      <td>2.495517</td>\n",
              "      <td>1.33</td>\n",
              "      <td>4.57</td>\n",
              "      <td>38.0</td>\n",
              "      <td>1</td>\n",
              "    </tr>\n",
              "    <tr>\n",
              "      <th>1</th>\n",
              "      <td>In a remarkable comparative analysis , Mandaea...</td>\n",
              "      <td>In a remarkable comparative analysis , Mandaea...</td>\n",
              "      <td>12.320171</td>\n",
              "      <td>7.402308</td>\n",
              "      <td>2.89</td>\n",
              "      <td>11.94</td>\n",
              "      <td>2.334286</td>\n",
              "      <td>1.46</td>\n",
              "      <td>4.93</td>\n",
              "      <td>21.0</td>\n",
              "      <td>1</td>\n",
              "    </tr>\n",
              "    <tr>\n",
              "      <th>2</th>\n",
              "      <td>Before Persephone was released to Hermes , who...</td>\n",
              "      <td>Before Persephone be release to Hermes , who h...</td>\n",
              "      <td>5.931500</td>\n",
              "      <td>5.231351</td>\n",
              "      <td>2.78</td>\n",
              "      <td>11.17</td>\n",
              "      <td>2.556486</td>\n",
              "      <td>1.43</td>\n",
              "      <td>4.86</td>\n",
              "      <td>40.0</td>\n",
              "      <td>1</td>\n",
              "    </tr>\n",
              "    <tr>\n",
              "      <th>3</th>\n",
              "      <td>Cogeneration plants are commonly found in dist...</td>\n",
              "      <td>Cogeneration plant be commonly find in distric...</td>\n",
              "      <td>7.015012</td>\n",
              "      <td>6.742000</td>\n",
              "      <td>3.56</td>\n",
              "      <td>11.53</td>\n",
              "      <td>3.369655</td>\n",
              "      <td>1.52</td>\n",
              "      <td>4.93</td>\n",
              "      <td>32.0</td>\n",
              "      <td>1</td>\n",
              "    </tr>\n",
              "    <tr>\n",
              "      <th>4</th>\n",
              "      <td>Geneva is the second-most-populous city in Swi...</td>\n",
              "      <td>Geneva be the second-most-populous city in Swi...</td>\n",
              "      <td>7.550745</td>\n",
              "      <td>5.455000</td>\n",
              "      <td>3.69</td>\n",
              "      <td>12.62</td>\n",
              "      <td>2.399333</td>\n",
              "      <td>1.43</td>\n",
              "      <td>4.79</td>\n",
              "      <td>22.0</td>\n",
              "      <td>1</td>\n",
              "    </tr>\n",
              "  </tbody>\n",
              "</table>\n",
              "</div>\n",
              "      <button class=\"colab-df-convert\" onclick=\"convertToInteractive('df-91873fc5-df28-4c22-a5ab-97d1056b96d1')\"\n",
              "              title=\"Convert this dataframe to an interactive table.\"\n",
              "              style=\"display:none;\">\n",
              "        \n",
              "  <svg xmlns=\"http://www.w3.org/2000/svg\" height=\"24px\"viewBox=\"0 0 24 24\"\n",
              "       width=\"24px\">\n",
              "    <path d=\"M0 0h24v24H0V0z\" fill=\"none\"/>\n",
              "    <path d=\"M18.56 5.44l.94 2.06.94-2.06 2.06-.94-2.06-.94-.94-2.06-.94 2.06-2.06.94zm-11 1L8.5 8.5l.94-2.06 2.06-.94-2.06-.94L8.5 2.5l-.94 2.06-2.06.94zm10 10l.94 2.06.94-2.06 2.06-.94-2.06-.94-.94-2.06-.94 2.06-2.06.94z\"/><path d=\"M17.41 7.96l-1.37-1.37c-.4-.4-.92-.59-1.43-.59-.52 0-1.04.2-1.43.59L10.3 9.45l-7.72 7.72c-.78.78-.78 2.05 0 2.83L4 21.41c.39.39.9.59 1.41.59.51 0 1.02-.2 1.41-.59l7.78-7.78 2.81-2.81c.8-.78.8-2.07 0-2.86zM5.41 20L4 18.59l7.72-7.72 1.47 1.35L5.41 20z\"/>\n",
              "  </svg>\n",
              "      </button>\n",
              "      \n",
              "  <style>\n",
              "    .colab-df-container {\n",
              "      display:flex;\n",
              "      flex-wrap:wrap;\n",
              "      gap: 12px;\n",
              "    }\n",
              "\n",
              "    .colab-df-convert {\n",
              "      background-color: #E8F0FE;\n",
              "      border: none;\n",
              "      border-radius: 50%;\n",
              "      cursor: pointer;\n",
              "      display: none;\n",
              "      fill: #1967D2;\n",
              "      height: 32px;\n",
              "      padding: 0 0 0 0;\n",
              "      width: 32px;\n",
              "    }\n",
              "\n",
              "    .colab-df-convert:hover {\n",
              "      background-color: #E2EBFA;\n",
              "      box-shadow: 0px 1px 2px rgba(60, 64, 67, 0.3), 0px 1px 3px 1px rgba(60, 64, 67, 0.15);\n",
              "      fill: #174EA6;\n",
              "    }\n",
              "\n",
              "    [theme=dark] .colab-df-convert {\n",
              "      background-color: #3B4455;\n",
              "      fill: #D2E3FC;\n",
              "    }\n",
              "\n",
              "    [theme=dark] .colab-df-convert:hover {\n",
              "      background-color: #434B5C;\n",
              "      box-shadow: 0px 1px 3px 1px rgba(0, 0, 0, 0.15);\n",
              "      filter: drop-shadow(0px 1px 2px rgba(0, 0, 0, 0.3));\n",
              "      fill: #FFFFFF;\n",
              "    }\n",
              "  </style>\n",
              "\n",
              "      <script>\n",
              "        const buttonEl =\n",
              "          document.querySelector('#df-91873fc5-df28-4c22-a5ab-97d1056b96d1 button.colab-df-convert');\n",
              "        buttonEl.style.display =\n",
              "          google.colab.kernel.accessAllowed ? 'block' : 'none';\n",
              "\n",
              "        async function convertToInteractive(key) {\n",
              "          const element = document.querySelector('#df-91873fc5-df28-4c22-a5ab-97d1056b96d1');\n",
              "          const dataTable =\n",
              "            await google.colab.kernel.invokeFunction('convertToInteractive',\n",
              "                                                     [key], {});\n",
              "          if (!dataTable) return;\n",
              "\n",
              "          const docLinkHtml = 'Like what you see? Visit the ' +\n",
              "            '<a target=\"_blank\" href=https://colab.research.google.com/notebooks/data_table.ipynb>data table notebook</a>'\n",
              "            + ' to learn more about interactive tables.';\n",
              "          element.innerHTML = '';\n",
              "          dataTable['output_type'] = 'display_data';\n",
              "          await google.colab.output.renderOutput(dataTable, element);\n",
              "          const docLink = document.createElement('div');\n",
              "          docLink.innerHTML = docLinkHtml;\n",
              "          element.appendChild(docLink);\n",
              "        }\n",
              "      </script>\n",
              "    </div>\n",
              "  </div>\n",
              "  "
            ]
          },
          "metadata": {},
          "execution_count": 132
        }
      ]
    },
    {
      "cell_type": "code",
      "source": [
        "df.dtypes"
      ],
      "metadata": {
        "colab": {
          "base_uri": "https://localhost:8080/"
        },
        "id": "lJ5NbL9Cx73g",
        "outputId": "242f545d-f6cd-4307-d671-083835921555"
      },
      "execution_count": 133,
      "outputs": [
        {
          "output_type": "execute_result",
          "data": {
            "text/plain": [
              "original_text        object\n",
              "lemmatized_text      object\n",
              "d_chall_score       float64\n",
              "aoa_mean            float64\n",
              "aoa_min             float64\n",
              "aoa_max             float64\n",
              "conc_rating_mean    float64\n",
              "conc_rating_min     float64\n",
              "conc_rating_max     float64\n",
              "num_lemmas          float64\n",
              "label                 int64\n",
              "dtype: object"
            ]
          },
          "metadata": {},
          "execution_count": 133
        }
      ]
    },
    {
      "cell_type": "code",
      "source": [
        "# Extract only the columns we'll use for the classifier\n",
        "df = df[df.columns[1:]]"
      ],
      "metadata": {
        "id": "WsO4yqW-xDs9"
      },
      "execution_count": 134,
      "outputs": []
    },
    {
      "cell_type": "code",
      "source": [
        "from sklearn.model_selection import train_test_split"
      ],
      "metadata": {
        "id": "0xY2TPwArPvC"
      },
      "execution_count": 135,
      "outputs": []
    },
    {
      "cell_type": "code",
      "source": [
        "X = df[df.columns[:-1]]\n",
        "y = df.label\n",
        "\n",
        "X_train, X_test, y_train, y_test = train_test_split(X,y,\n",
        "                                                    test_size=.1,\n",
        "                                                    stratify=y,\n",
        "                                                    random_state=99)"
      ],
      "metadata": {
        "id": "41_T1KQ7rT-R"
      },
      "execution_count": 136,
      "outputs": []
    },
    {
      "cell_type": "code",
      "source": [
        "X_train.shape"
      ],
      "metadata": {
        "colab": {
          "base_uri": "https://localhost:8080/"
        },
        "id": "c1zfSVg8ybmZ",
        "outputId": "219e4287-b2a5-47bd-ade0-1805814f01f0"
      },
      "execution_count": 137,
      "outputs": [
        {
          "output_type": "execute_result",
          "data": {
            "text/plain": [
              "(355652, 9)"
            ]
          },
          "metadata": {},
          "execution_count": 137
        }
      ]
    },
    {
      "cell_type": "code",
      "source": [
        "metrics_df = {\"model\":[],\n",
        "              \"accuracy\": [],\n",
        "              \"precision\": [],\n",
        "              \"recall\": [],\n",
        "              \"aucprc\":[],\n",
        "              \"aucroc\": []}"
      ],
      "metadata": {
        "id": "he_GFBweIVTp"
      },
      "execution_count": 162,
      "outputs": []
    },
    {
      "cell_type": "code",
      "source": [
        "from sklearn. metrics import precision_score, recall_score, precision_recall_curve, roc_auc_score"
      ],
      "metadata": {
        "id": "NJOAPORP-FEP"
      },
      "execution_count": 139,
      "outputs": []
    },
    {
      "cell_type": "code",
      "source": [
        "from sklearn.metrics._plot.precision_recall_curve import plot_precision_recall_curve\n"
      ],
      "metadata": {
        "id": "G6paptc-82i0"
      },
      "execution_count": 140,
      "outputs": []
    },
    {
      "cell_type": "code",
      "source": [
        "def ComputeMetrics(model,model_name, X_test_vec, y_test):\n",
        "    # extract the model's hyperparameters and make that part of the identifier for the model \n",
        "\n",
        "    y_pred = model.predict(X_test_vec)\n",
        "    acc = model.score(X_test_vec, y_test)\n",
        "    recall = recall_score(y_test,y_pred)\n",
        "    precision = precision_score(y_test, y_pred)\n",
        "    y_proba = model.predict_proba(X_test_vec)[:,1]\n",
        "    prc = precision_recall_curve(y_test, y_proba)\n",
        "    roc = roc_auc = roc_auc_score(y_test, y_proba)\n",
        "    \n",
        "    metrics_df['model'].append(model_name)\n",
        "    metrics_df['accuracy'].append(acc)\n",
        "    metrics_df['recall'].append(recall)\n",
        "    metrics_df['precision'].append(precision)\n",
        "    metrics_df['aucprc'].append(prc)\n",
        "    metrics_df['aucroc'].append(roc)\n",
        "\n",
        "\n",
        "\n",
        "\n",
        "\n",
        "\n"
      ],
      "metadata": {
        "id": "p4bRROwoIa0R"
      },
      "execution_count": 159,
      "outputs": []
    },
    {
      "cell_type": "code",
      "source": [
        "# NaiveBayes Classifier Baseline\n",
        "from sklearn.naive_bayes import MultinomialNB\n",
        "from sklearn.feature_extraction.text import TfidfVectorizer"
      ],
      "metadata": {
        "id": "qwyszJP3fv9N"
      },
      "execution_count": 142,
      "outputs": []
    },
    {
      "cell_type": "code",
      "source": [
        "tf_vec = TfidfVectorizer(min_df = 20,\n",
        "                         stop_words='english',\n",
        "                         ngram_range=(1, 3))"
      ],
      "metadata": {
        "id": "arO-5lBKgLP8"
      },
      "execution_count": 143,
      "outputs": []
    },
    {
      "cell_type": "code",
      "source": [
        "X_train_vec = tf_vec.fit_transform(X_train['lemmatized_text'])"
      ],
      "metadata": {
        "id": "J6Uznh5UgwHR"
      },
      "execution_count": 144,
      "outputs": []
    },
    {
      "cell_type": "code",
      "source": [
        "from sklearn.model_selection import GridSearchCV\n"
      ],
      "metadata": {
        "id": "cwuUoN2s0kC6"
      },
      "execution_count": 145,
      "outputs": []
    },
    {
      "cell_type": "code",
      "source": [
        "param_grid = {'alpha': [0.001, 0.01, 0.1, 1,5,10,50, 100]}\n",
        "grid_mnb_rmse = GridSearchCV(MultinomialNB(), param_grid=param_grid, scoring='neg_root_mean_squared_error')\n",
        "grid_mnb_rmse.fit(X_train_vec,y_train)"
      ],
      "metadata": {
        "colab": {
          "base_uri": "https://localhost:8080/"
        },
        "id": "8MRCXCEx0vpa",
        "outputId": "76e9d6a3-6a09-43db-9b23-fdc82f6a8aa6"
      },
      "execution_count": 146,
      "outputs": [
        {
          "output_type": "execute_result",
          "data": {
            "text/plain": [
              "GridSearchCV(estimator=MultinomialNB(),\n",
              "             param_grid={'alpha': [0.001, 0.01, 0.1, 1, 5, 10, 50, 100]},\n",
              "             scoring='neg_root_mean_squared_error')"
            ]
          },
          "metadata": {},
          "execution_count": 146
        }
      ]
    },
    {
      "cell_type": "code",
      "source": [
        "grid_mnb_rmse.cv_results_"
      ],
      "metadata": {
        "colab": {
          "base_uri": "https://localhost:8080/"
        },
        "id": "KKkMO48gAf6e",
        "outputId": "42b19473-71ed-47e5-ba18-de22d4a9c2e5"
      },
      "execution_count": 147,
      "outputs": [
        {
          "output_type": "execute_result",
          "data": {
            "text/plain": [
              "{'mean_fit_time': array([0.12147403, 0.11792874, 0.11915994, 0.12117   , 0.11926694,\n",
              "        0.11890988, 0.11797061, 0.11770577]),\n",
              " 'std_fit_time': array([0.00467478, 0.00257535, 0.00395118, 0.00426927, 0.00392524,\n",
              "        0.00318547, 0.00180999, 0.0064425 ]),\n",
              " 'mean_score_time': array([0.01006641, 0.00967059, 0.01021485, 0.01150126, 0.00993452,\n",
              "        0.0114264 , 0.00973139, 0.00953913]),\n",
              " 'std_score_time': array([0.00018257, 0.00013461, 0.00059266, 0.00270246, 0.00019408,\n",
              "        0.00302299, 0.00017854, 0.0001601 ]),\n",
              " 'param_alpha': masked_array(data=[0.001, 0.01, 0.1, 1, 5, 10, 50, 100],\n",
              "              mask=[False, False, False, False, False, False, False, False],\n",
              "        fill_value='?',\n",
              "             dtype=object),\n",
              " 'params': [{'alpha': 0.001},\n",
              "  {'alpha': 0.01},\n",
              "  {'alpha': 0.1},\n",
              "  {'alpha': 1},\n",
              "  {'alpha': 5},\n",
              "  {'alpha': 10},\n",
              "  {'alpha': 50},\n",
              "  {'alpha': 100}],\n",
              " 'split0_test_score': array([-0.61250873, -0.6124743 , -0.61216435, -0.61048558, -0.60837482,\n",
              "        -0.60935613, -0.63030237, -0.64165351]),\n",
              " 'split1_test_score': array([-0.61287586, -0.61287586, -0.61263496, -0.61072733, -0.60911384,\n",
              "        -0.60954068, -0.63218429, -0.64187257]),\n",
              " 'split2_test_score': array([-0.61441515, -0.61436938, -0.61436938, -0.61258189, -0.60954496,\n",
              "        -0.61128384, -0.6316214 , -0.64310245]),\n",
              " 'split3_test_score': array([-0.61257042, -0.61245565, -0.61230643, -0.61089274, -0.60955649,\n",
              "        -0.61088123, -0.63272222, -0.64278539]),\n",
              " 'split4_test_score': array([-0.61399169, -0.61395735, -0.6138772 , -0.61277693, -0.61053592,\n",
              "        -0.61181258, -0.63228879, -0.64311339]),\n",
              " 'mean_test_score': array([-0.61327237, -0.61322651, -0.61307046, -0.61149289, -0.60942521,\n",
              "        -0.61057489, -0.63182381, -0.64250546]),\n",
              " 'std_test_score': array([0.00078185, 0.00079035, 0.00088685, 0.00097935, 0.00070222,\n",
              "        0.00096781, 0.00083774, 0.0006214 ]),\n",
              " 'rank_test_score': array([6, 5, 4, 3, 1, 2, 7, 8], dtype=int32)}"
            ]
          },
          "metadata": {},
          "execution_count": 147
        }
      ]
    },
    {
      "cell_type": "code",
      "source": [
        "# Looks like alpha of 5 is the best parameter based on rmse\n",
        "grid_mnb_rmse.best_params_"
      ],
      "metadata": {
        "colab": {
          "base_uri": "https://localhost:8080/"
        },
        "id": "SzHhSDL_A7WA",
        "outputId": "7265c038-9a8c-4ec7-ae57-593722bb3279"
      },
      "execution_count": 148,
      "outputs": [
        {
          "output_type": "execute_result",
          "data": {
            "text/plain": [
              "{'alpha': 5}"
            ]
          },
          "metadata": {},
          "execution_count": 148
        }
      ]
    },
    {
      "cell_type": "code",
      "source": [
        "mnb = MultinomialNB(alpha=5).fit(X_train_vec, y_train)\n",
        "model_name = 'Tf-idf NB alpha 5'\n",
        "X_test_vec = tf_vec.transform(X_test['lemmatized_text'])\n",
        "ComputeMetrics(mnb,model_name,X_test_vec, y_test)\n",
        "\n"
      ],
      "metadata": {
        "id": "iqc6arElDwpF"
      },
      "execution_count": 163,
      "outputs": []
    },
    {
      "cell_type": "code",
      "source": [
        "metrics_df"
      ],
      "metadata": {
        "colab": {
          "base_uri": "https://localhost:8080/"
        },
        "id": "J2Wuv-0FHgAc",
        "outputId": "36f2beda-3e1b-4220-8cfa-f6b18c1ada4a"
      },
      "execution_count": 164,
      "outputs": [
        {
          "output_type": "execute_result",
          "data": {
            "text/plain": [
              "{'model': ['Tf-idf NB alpha 5'],\n",
              " 'accuracy': [0.6302350886960042],\n",
              " 'precision': [0.6189553564220553],\n",
              " 'recall': [0.7477811372281283],\n",
              " 'aucprc': [(array([0.53178081, 0.53176867, 0.53178246, ..., 1.        , 1.        ,\n",
              "          1.        ]),\n",
              "   array([1.        , 0.99995123, 0.99995123, ..., 0.00214571, 0.00204818,\n",
              "          0.        ]),\n",
              "   array([0.13515109, 0.13575168, 0.13589074, ..., 0.99989217, 0.99989711,\n",
              "          0.99992042]))],\n",
              " 'aucroc': [0.6960772870858367]}"
            ]
          },
          "metadata": {},
          "execution_count": 164
        }
      ]
    },
    {
      "cell_type": "code",
      "source": [
        "y_pred = mnb.predict(X_test_vec)"
      ],
      "metadata": {
        "id": "sPUqvvfHRwWr"
      },
      "execution_count": 150,
      "outputs": []
    },
    {
      "cell_type": "code",
      "source": [],
      "metadata": {
        "colab": {
          "base_uri": "https://localhost:8080/"
        },
        "id": "Nm7Gxok8Swa9",
        "outputId": "74948562-b0fc-41c6-a3da-1bdb52edb5fe"
      },
      "execution_count": 153,
      "outputs": [
        {
          "output_type": "execute_result",
          "data": {
            "text/plain": [
              "((39517,), (39517, 29772))"
            ]
          },
          "metadata": {},
          "execution_count": 153
        }
      ]
    },
    {
      "cell_type": "code",
      "source": [
        "X_train_vec"
      ],
      "metadata": {
        "colab": {
          "base_uri": "https://localhost:8080/"
        },
        "id": "L8XcKs_bT9tG",
        "outputId": "e3c8947f-ebd1-4766-8803-a56d7a5cc24d"
      },
      "execution_count": 120,
      "outputs": [
        {
          "output_type": "execute_result",
          "data": {
            "text/plain": [
              "<355652x29772 sparse matrix of type '<class 'numpy.float64'>'\n",
              "\twith 4030659 stored elements in Compressed Sparse Row format>"
            ]
          },
          "metadata": {},
          "execution_count": 120
        }
      ]
    },
    {
      "cell_type": "code",
      "source": [],
      "metadata": {
        "id": "tm8I6pSZUA39"
      },
      "execution_count": null,
      "outputs": []
    }
  ]
}