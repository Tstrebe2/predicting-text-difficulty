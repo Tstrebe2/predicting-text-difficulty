{
  "nbformat": 4,
  "nbformat_minor": 0,
  "metadata": {
    "colab": {
      "provenance": [],
      "collapsed_sections": [],
      "authorship_tag": "ABX9TyPZ2ZQI94WvaG3Unx0FN4gy",
      "include_colab_link": true
    },
    "kernelspec": {
      "name": "python3",
      "display_name": "Python 3"
    },
    "language_info": {
      "name": "python"
    }
  },
  "cells": [
    {
      "cell_type": "markdown",
      "metadata": {
        "id": "view-in-github",
        "colab_type": "text"
      },
      "source": [
        "<a href=\"https://colab.research.google.com/github/Tstrebe2/predicting-text-difficulty/blob/dave-updates/code/dave_naive_bayes.ipynb\" target=\"_parent\"><img src=\"https://colab.research.google.com/assets/colab-badge.svg\" alt=\"Open In Colab\"/></a>"
      ]
    },
    {
      "cell_type": "code",
      "execution_count": 1,
      "metadata": {
        "id": "Ru6jXshMfhPz"
      },
      "outputs": [],
      "source": [
        "import pandas as pd\n",
        "import sys\n",
        "# !{sys.executable} -m pip install pyspark==3.1.2 -q\n",
        "# !{sys.executable} -m pip install spark-nlp==4.2.0 -q"
      ]
    },
    {
      "cell_type": "code",
      "source": [
        "from google.colab import drive\n",
        "drive.mount('/content/drive')"
      ],
      "metadata": {
        "colab": {
          "base_uri": "https://localhost:8080/"
        },
        "id": "qOe4T1jrfrRi",
        "outputId": "26654f8f-28c9-400e-83c5-3bcd94e28761"
      },
      "execution_count": 2,
      "outputs": [
        {
          "output_type": "stream",
          "name": "stdout",
          "text": [
            "Mounted at /content/drive\n"
          ]
        }
      ]
    },
    {
      "cell_type": "code",
      "source": [
        "df = pd.read_csv('drive/MyDrive/696/text_difficulty_features.csv',sep='\\t')\n",
        "df.head(5)"
      ],
      "metadata": {
        "colab": {
          "base_uri": "https://localhost:8080/",
          "height": 333
        },
        "id": "nAPWzl-bvHkX",
        "outputId": "88759f78-ce59-46ff-8e34-21acca831db0"
      },
      "execution_count": 3,
      "outputs": [
        {
          "output_type": "execute_result",
          "data": {
            "text/plain": [
              "                                       original_text  \\\n",
              "0  There is manuscript evidence that Austen conti...   \n",
              "1  In a remarkable comparative analysis , Mandaea...   \n",
              "2  Before Persephone was released to Hermes , who...   \n",
              "3  Cogeneration plants are commonly found in dist...   \n",
              "4  Geneva is the second-most-populous city in Swi...   \n",
              "\n",
              "                                     lemmatized_text  d_chall_score  aoa_mean  \\\n",
              "0  There be manuscript evidence that Austen conti...       8.533221  5.809310   \n",
              "1  In a remarkable comparative analysis , Mandaea...      12.320171  7.402308   \n",
              "2  Before Persephone be release to Hermes , who h...       5.931500  5.231351   \n",
              "3  Cogeneration plant be commonly find in distric...       7.015012  6.742000   \n",
              "4  Geneva be the second-most-populous city in Swi...       7.550745  5.455000   \n",
              "\n",
              "   aoa_min  aoa_max  conc_rating_mean  conc_rating_min  conc_rating_max  \\\n",
              "0     3.57    12.12          2.495517             1.33             4.57   \n",
              "1     2.89    11.94          2.334286             1.46             4.93   \n",
              "2     2.78    11.17          2.556486             1.43             4.86   \n",
              "3     3.56    11.53          3.369655             1.52             4.93   \n",
              "4     3.69    12.62          2.399333             1.43             4.79   \n",
              "\n",
              "   num_lemmas  label  \n",
              "0        38.0      1  \n",
              "1        21.0      1  \n",
              "2        40.0      1  \n",
              "3        32.0      1  \n",
              "4        22.0      1  "
            ],
            "text/html": [
              "\n",
              "  <div id=\"df-998cbd32-bb58-494d-b1ec-40708b66d16e\">\n",
              "    <div class=\"colab-df-container\">\n",
              "      <div>\n",
              "<style scoped>\n",
              "    .dataframe tbody tr th:only-of-type {\n",
              "        vertical-align: middle;\n",
              "    }\n",
              "\n",
              "    .dataframe tbody tr th {\n",
              "        vertical-align: top;\n",
              "    }\n",
              "\n",
              "    .dataframe thead th {\n",
              "        text-align: right;\n",
              "    }\n",
              "</style>\n",
              "<table border=\"1\" class=\"dataframe\">\n",
              "  <thead>\n",
              "    <tr style=\"text-align: right;\">\n",
              "      <th></th>\n",
              "      <th>original_text</th>\n",
              "      <th>lemmatized_text</th>\n",
              "      <th>d_chall_score</th>\n",
              "      <th>aoa_mean</th>\n",
              "      <th>aoa_min</th>\n",
              "      <th>aoa_max</th>\n",
              "      <th>conc_rating_mean</th>\n",
              "      <th>conc_rating_min</th>\n",
              "      <th>conc_rating_max</th>\n",
              "      <th>num_lemmas</th>\n",
              "      <th>label</th>\n",
              "    </tr>\n",
              "  </thead>\n",
              "  <tbody>\n",
              "    <tr>\n",
              "      <th>0</th>\n",
              "      <td>There is manuscript evidence that Austen conti...</td>\n",
              "      <td>There be manuscript evidence that Austen conti...</td>\n",
              "      <td>8.533221</td>\n",
              "      <td>5.809310</td>\n",
              "      <td>3.57</td>\n",
              "      <td>12.12</td>\n",
              "      <td>2.495517</td>\n",
              "      <td>1.33</td>\n",
              "      <td>4.57</td>\n",
              "      <td>38.0</td>\n",
              "      <td>1</td>\n",
              "    </tr>\n",
              "    <tr>\n",
              "      <th>1</th>\n",
              "      <td>In a remarkable comparative analysis , Mandaea...</td>\n",
              "      <td>In a remarkable comparative analysis , Mandaea...</td>\n",
              "      <td>12.320171</td>\n",
              "      <td>7.402308</td>\n",
              "      <td>2.89</td>\n",
              "      <td>11.94</td>\n",
              "      <td>2.334286</td>\n",
              "      <td>1.46</td>\n",
              "      <td>4.93</td>\n",
              "      <td>21.0</td>\n",
              "      <td>1</td>\n",
              "    </tr>\n",
              "    <tr>\n",
              "      <th>2</th>\n",
              "      <td>Before Persephone was released to Hermes , who...</td>\n",
              "      <td>Before Persephone be release to Hermes , who h...</td>\n",
              "      <td>5.931500</td>\n",
              "      <td>5.231351</td>\n",
              "      <td>2.78</td>\n",
              "      <td>11.17</td>\n",
              "      <td>2.556486</td>\n",
              "      <td>1.43</td>\n",
              "      <td>4.86</td>\n",
              "      <td>40.0</td>\n",
              "      <td>1</td>\n",
              "    </tr>\n",
              "    <tr>\n",
              "      <th>3</th>\n",
              "      <td>Cogeneration plants are commonly found in dist...</td>\n",
              "      <td>Cogeneration plant be commonly find in distric...</td>\n",
              "      <td>7.015012</td>\n",
              "      <td>6.742000</td>\n",
              "      <td>3.56</td>\n",
              "      <td>11.53</td>\n",
              "      <td>3.369655</td>\n",
              "      <td>1.52</td>\n",
              "      <td>4.93</td>\n",
              "      <td>32.0</td>\n",
              "      <td>1</td>\n",
              "    </tr>\n",
              "    <tr>\n",
              "      <th>4</th>\n",
              "      <td>Geneva is the second-most-populous city in Swi...</td>\n",
              "      <td>Geneva be the second-most-populous city in Swi...</td>\n",
              "      <td>7.550745</td>\n",
              "      <td>5.455000</td>\n",
              "      <td>3.69</td>\n",
              "      <td>12.62</td>\n",
              "      <td>2.399333</td>\n",
              "      <td>1.43</td>\n",
              "      <td>4.79</td>\n",
              "      <td>22.0</td>\n",
              "      <td>1</td>\n",
              "    </tr>\n",
              "  </tbody>\n",
              "</table>\n",
              "</div>\n",
              "      <button class=\"colab-df-convert\" onclick=\"convertToInteractive('df-998cbd32-bb58-494d-b1ec-40708b66d16e')\"\n",
              "              title=\"Convert this dataframe to an interactive table.\"\n",
              "              style=\"display:none;\">\n",
              "        \n",
              "  <svg xmlns=\"http://www.w3.org/2000/svg\" height=\"24px\"viewBox=\"0 0 24 24\"\n",
              "       width=\"24px\">\n",
              "    <path d=\"M0 0h24v24H0V0z\" fill=\"none\"/>\n",
              "    <path d=\"M18.56 5.44l.94 2.06.94-2.06 2.06-.94-2.06-.94-.94-2.06-.94 2.06-2.06.94zm-11 1L8.5 8.5l.94-2.06 2.06-.94-2.06-.94L8.5 2.5l-.94 2.06-2.06.94zm10 10l.94 2.06.94-2.06 2.06-.94-2.06-.94-.94-2.06-.94 2.06-2.06.94z\"/><path d=\"M17.41 7.96l-1.37-1.37c-.4-.4-.92-.59-1.43-.59-.52 0-1.04.2-1.43.59L10.3 9.45l-7.72 7.72c-.78.78-.78 2.05 0 2.83L4 21.41c.39.39.9.59 1.41.59.51 0 1.02-.2 1.41-.59l7.78-7.78 2.81-2.81c.8-.78.8-2.07 0-2.86zM5.41 20L4 18.59l7.72-7.72 1.47 1.35L5.41 20z\"/>\n",
              "  </svg>\n",
              "      </button>\n",
              "      \n",
              "  <style>\n",
              "    .colab-df-container {\n",
              "      display:flex;\n",
              "      flex-wrap:wrap;\n",
              "      gap: 12px;\n",
              "    }\n",
              "\n",
              "    .colab-df-convert {\n",
              "      background-color: #E8F0FE;\n",
              "      border: none;\n",
              "      border-radius: 50%;\n",
              "      cursor: pointer;\n",
              "      display: none;\n",
              "      fill: #1967D2;\n",
              "      height: 32px;\n",
              "      padding: 0 0 0 0;\n",
              "      width: 32px;\n",
              "    }\n",
              "\n",
              "    .colab-df-convert:hover {\n",
              "      background-color: #E2EBFA;\n",
              "      box-shadow: 0px 1px 2px rgba(60, 64, 67, 0.3), 0px 1px 3px 1px rgba(60, 64, 67, 0.15);\n",
              "      fill: #174EA6;\n",
              "    }\n",
              "\n",
              "    [theme=dark] .colab-df-convert {\n",
              "      background-color: #3B4455;\n",
              "      fill: #D2E3FC;\n",
              "    }\n",
              "\n",
              "    [theme=dark] .colab-df-convert:hover {\n",
              "      background-color: #434B5C;\n",
              "      box-shadow: 0px 1px 3px 1px rgba(0, 0, 0, 0.15);\n",
              "      filter: drop-shadow(0px 1px 2px rgba(0, 0, 0, 0.3));\n",
              "      fill: #FFFFFF;\n",
              "    }\n",
              "  </style>\n",
              "\n",
              "      <script>\n",
              "        const buttonEl =\n",
              "          document.querySelector('#df-998cbd32-bb58-494d-b1ec-40708b66d16e button.colab-df-convert');\n",
              "        buttonEl.style.display =\n",
              "          google.colab.kernel.accessAllowed ? 'block' : 'none';\n",
              "\n",
              "        async function convertToInteractive(key) {\n",
              "          const element = document.querySelector('#df-998cbd32-bb58-494d-b1ec-40708b66d16e');\n",
              "          const dataTable =\n",
              "            await google.colab.kernel.invokeFunction('convertToInteractive',\n",
              "                                                     [key], {});\n",
              "          if (!dataTable) return;\n",
              "\n",
              "          const docLinkHtml = 'Like what you see? Visit the ' +\n",
              "            '<a target=\"_blank\" href=https://colab.research.google.com/notebooks/data_table.ipynb>data table notebook</a>'\n",
              "            + ' to learn more about interactive tables.';\n",
              "          element.innerHTML = '';\n",
              "          dataTable['output_type'] = 'display_data';\n",
              "          await google.colab.output.renderOutput(dataTable, element);\n",
              "          const docLink = document.createElement('div');\n",
              "          docLink.innerHTML = docLinkHtml;\n",
              "          element.appendChild(docLink);\n",
              "        }\n",
              "      </script>\n",
              "    </div>\n",
              "  </div>\n",
              "  "
            ]
          },
          "metadata": {},
          "execution_count": 3
        }
      ]
    },
    {
      "cell_type": "code",
      "source": [
        "df.dtypes"
      ],
      "metadata": {
        "colab": {
          "base_uri": "https://localhost:8080/"
        },
        "id": "lJ5NbL9Cx73g",
        "outputId": "bc676b7e-6451-421c-f716-9169e93863d2"
      },
      "execution_count": 4,
      "outputs": [
        {
          "output_type": "execute_result",
          "data": {
            "text/plain": [
              "original_text        object\n",
              "lemmatized_text      object\n",
              "d_chall_score       float64\n",
              "aoa_mean            float64\n",
              "aoa_min             float64\n",
              "aoa_max             float64\n",
              "conc_rating_mean    float64\n",
              "conc_rating_min     float64\n",
              "conc_rating_max     float64\n",
              "num_lemmas          float64\n",
              "label                 int64\n",
              "dtype: object"
            ]
          },
          "metadata": {},
          "execution_count": 4
        }
      ]
    },
    {
      "cell_type": "code",
      "source": [
        "# Extract only the columns we'll use for the classifier\n",
        "df = df[df.columns[:]]"
      ],
      "metadata": {
        "id": "WsO4yqW-xDs9"
      },
      "execution_count": 5,
      "outputs": []
    },
    {
      "cell_type": "code",
      "source": [
        "from sklearn.model_selection import train_test_split"
      ],
      "metadata": {
        "id": "0xY2TPwArPvC"
      },
      "execution_count": 6,
      "outputs": []
    },
    {
      "cell_type": "code",
      "source": [
        "X = df[df.columns[:-1]]\n",
        "y = df.label\n",
        "\n",
        "X_train, X_test, y_train, y_test = train_test_split(X,y,\n",
        "                                                    test_size=.1,\n",
        "                                                    stratify=y,\n",
        "                                                    random_state=99)"
      ],
      "metadata": {
        "id": "41_T1KQ7rT-R"
      },
      "execution_count": 7,
      "outputs": []
    },
    {
      "cell_type": "code",
      "source": [
        "#  Training_Set = pd.concat([X_train, pd.DataFrame(y_train)], axis=1)\n",
        "#  Testing_Set = pd.concat([X_test, pd.DataFrame(y_test)], axis=1)\n",
        "#  Testing_Set.to_csv('drive/Shareddrives/Milestone 2/Testing_set.csv', sep='\\t', index=False)\n",
        "# #  Training_Set.to_csv('drive/Shareddrives/Milestone 2/Training_set.csv', sep='\\t', index=False)\n",
        "\n",
        "X_train = pd.read_csv('drive/Shareddrives/Milestone 2/Training_set.csv', sep='\\t')\n",
        "X_train.set_index('Unnamed: 0', inplace=True)\n",
        "X_train.index.names = ['index']\n",
        "\n",
        "\n"
      ],
      "metadata": {
        "id": "c1zfSVg8ybmZ"
      },
      "execution_count": 19,
      "outputs": []
    },
    {
      "cell_type": "code",
      "source": [
        "X_train.shape"
      ],
      "metadata": {
        "colab": {
          "base_uri": "https://localhost:8080/"
        },
        "id": "ETG3be8tZXUn",
        "outputId": "060e2125-a436-4fe3-e822-5d972d765920"
      },
      "execution_count": 72,
      "outputs": [
        {
          "output_type": "execute_result",
          "data": {
            "text/plain": [
              "(355652, 10)"
            ]
          },
          "metadata": {},
          "execution_count": 72
        }
      ]
    },
    {
      "cell_type": "code",
      "source": [
        "X_train.head()"
      ],
      "metadata": {
        "colab": {
          "base_uri": "https://localhost:8080/",
          "height": 235
        },
        "id": "4X79FHTfZ3NC",
        "outputId": "55b68fa9-01ba-4188-c975-020545139112"
      },
      "execution_count": 20,
      "outputs": [
        {
          "output_type": "execute_result",
          "data": {
            "text/plain": [
              "                                          lemmatized_text  d_chall_score  \\\n",
              "index                                                                      \n",
              "91224   For instance the number of k-permutations of n...       4.542700   \n",
              "117728  Singer and bass player Roger Waters gradually ...       7.556000   \n",
              "316017  Other page 2005 Macquarie Fields riot 2005 Cro...      10.714000   \n",
              "7423    Saint-Denis be founded by Ã tienne RÃ gnault i...       8.887000   \n",
              "201052  Pougny be a commune in the Ain department in e...       7.722873   \n",
              "\n",
              "        aoa_mean  aoa_min  aoa_max  conc_rating_mean  conc_rating_min  \\\n",
              "index                                                                   \n",
              "91224   5.140000     3.94     9.57          2.577500             1.43   \n",
              "117728  5.835000     3.69    11.11          2.637727             1.33   \n",
              "316017  6.456250     3.89    10.00          3.042500             1.43   \n",
              "7423    5.613637     3.69     9.39          2.545454             1.43   \n",
              "201052  6.232500     2.89    12.05          2.505000             1.43   \n",
              "\n",
              "        conc_rating_max  num_lemmas  label  \n",
              "index                                       \n",
              "91224              4.55        12.0      1  \n",
              "117728             4.62        25.0      1  \n",
              "316017             4.90        25.0      0  \n",
              "7423               4.96        20.0      1  \n",
              "201052             3.30        11.0      1  "
            ],
            "text/html": [
              "\n",
              "  <div id=\"df-6d2260fd-04cc-4a47-af27-19bd3e97577a\">\n",
              "    <div class=\"colab-df-container\">\n",
              "      <div>\n",
              "<style scoped>\n",
              "    .dataframe tbody tr th:only-of-type {\n",
              "        vertical-align: middle;\n",
              "    }\n",
              "\n",
              "    .dataframe tbody tr th {\n",
              "        vertical-align: top;\n",
              "    }\n",
              "\n",
              "    .dataframe thead th {\n",
              "        text-align: right;\n",
              "    }\n",
              "</style>\n",
              "<table border=\"1\" class=\"dataframe\">\n",
              "  <thead>\n",
              "    <tr style=\"text-align: right;\">\n",
              "      <th></th>\n",
              "      <th>lemmatized_text</th>\n",
              "      <th>d_chall_score</th>\n",
              "      <th>aoa_mean</th>\n",
              "      <th>aoa_min</th>\n",
              "      <th>aoa_max</th>\n",
              "      <th>conc_rating_mean</th>\n",
              "      <th>conc_rating_min</th>\n",
              "      <th>conc_rating_max</th>\n",
              "      <th>num_lemmas</th>\n",
              "      <th>label</th>\n",
              "    </tr>\n",
              "    <tr>\n",
              "      <th>index</th>\n",
              "      <th></th>\n",
              "      <th></th>\n",
              "      <th></th>\n",
              "      <th></th>\n",
              "      <th></th>\n",
              "      <th></th>\n",
              "      <th></th>\n",
              "      <th></th>\n",
              "      <th></th>\n",
              "      <th></th>\n",
              "    </tr>\n",
              "  </thead>\n",
              "  <tbody>\n",
              "    <tr>\n",
              "      <th>91224</th>\n",
              "      <td>For instance the number of k-permutations of n...</td>\n",
              "      <td>4.542700</td>\n",
              "      <td>5.140000</td>\n",
              "      <td>3.94</td>\n",
              "      <td>9.57</td>\n",
              "      <td>2.577500</td>\n",
              "      <td>1.43</td>\n",
              "      <td>4.55</td>\n",
              "      <td>12.0</td>\n",
              "      <td>1</td>\n",
              "    </tr>\n",
              "    <tr>\n",
              "      <th>117728</th>\n",
              "      <td>Singer and bass player Roger Waters gradually ...</td>\n",
              "      <td>7.556000</td>\n",
              "      <td>5.835000</td>\n",
              "      <td>3.69</td>\n",
              "      <td>11.11</td>\n",
              "      <td>2.637727</td>\n",
              "      <td>1.33</td>\n",
              "      <td>4.62</td>\n",
              "      <td>25.0</td>\n",
              "      <td>1</td>\n",
              "    </tr>\n",
              "    <tr>\n",
              "      <th>316017</th>\n",
              "      <td>Other page 2005 Macquarie Fields riot 2005 Cro...</td>\n",
              "      <td>10.714000</td>\n",
              "      <td>6.456250</td>\n",
              "      <td>3.89</td>\n",
              "      <td>10.00</td>\n",
              "      <td>3.042500</td>\n",
              "      <td>1.43</td>\n",
              "      <td>4.90</td>\n",
              "      <td>25.0</td>\n",
              "      <td>0</td>\n",
              "    </tr>\n",
              "    <tr>\n",
              "      <th>7423</th>\n",
              "      <td>Saint-Denis be founded by Ã tienne RÃ gnault i...</td>\n",
              "      <td>8.887000</td>\n",
              "      <td>5.613637</td>\n",
              "      <td>3.69</td>\n",
              "      <td>9.39</td>\n",
              "      <td>2.545454</td>\n",
              "      <td>1.43</td>\n",
              "      <td>4.96</td>\n",
              "      <td>20.0</td>\n",
              "      <td>1</td>\n",
              "    </tr>\n",
              "    <tr>\n",
              "      <th>201052</th>\n",
              "      <td>Pougny be a commune in the Ain department in e...</td>\n",
              "      <td>7.722873</td>\n",
              "      <td>6.232500</td>\n",
              "      <td>2.89</td>\n",
              "      <td>12.05</td>\n",
              "      <td>2.505000</td>\n",
              "      <td>1.43</td>\n",
              "      <td>3.30</td>\n",
              "      <td>11.0</td>\n",
              "      <td>1</td>\n",
              "    </tr>\n",
              "  </tbody>\n",
              "</table>\n",
              "</div>\n",
              "      <button class=\"colab-df-convert\" onclick=\"convertToInteractive('df-6d2260fd-04cc-4a47-af27-19bd3e97577a')\"\n",
              "              title=\"Convert this dataframe to an interactive table.\"\n",
              "              style=\"display:none;\">\n",
              "        \n",
              "  <svg xmlns=\"http://www.w3.org/2000/svg\" height=\"24px\"viewBox=\"0 0 24 24\"\n",
              "       width=\"24px\">\n",
              "    <path d=\"M0 0h24v24H0V0z\" fill=\"none\"/>\n",
              "    <path d=\"M18.56 5.44l.94 2.06.94-2.06 2.06-.94-2.06-.94-.94-2.06-.94 2.06-2.06.94zm-11 1L8.5 8.5l.94-2.06 2.06-.94-2.06-.94L8.5 2.5l-.94 2.06-2.06.94zm10 10l.94 2.06.94-2.06 2.06-.94-2.06-.94-.94-2.06-.94 2.06-2.06.94z\"/><path d=\"M17.41 7.96l-1.37-1.37c-.4-.4-.92-.59-1.43-.59-.52 0-1.04.2-1.43.59L10.3 9.45l-7.72 7.72c-.78.78-.78 2.05 0 2.83L4 21.41c.39.39.9.59 1.41.59.51 0 1.02-.2 1.41-.59l7.78-7.78 2.81-2.81c.8-.78.8-2.07 0-2.86zM5.41 20L4 18.59l7.72-7.72 1.47 1.35L5.41 20z\"/>\n",
              "  </svg>\n",
              "      </button>\n",
              "      \n",
              "  <style>\n",
              "    .colab-df-container {\n",
              "      display:flex;\n",
              "      flex-wrap:wrap;\n",
              "      gap: 12px;\n",
              "    }\n",
              "\n",
              "    .colab-df-convert {\n",
              "      background-color: #E8F0FE;\n",
              "      border: none;\n",
              "      border-radius: 50%;\n",
              "      cursor: pointer;\n",
              "      display: none;\n",
              "      fill: #1967D2;\n",
              "      height: 32px;\n",
              "      padding: 0 0 0 0;\n",
              "      width: 32px;\n",
              "    }\n",
              "\n",
              "    .colab-df-convert:hover {\n",
              "      background-color: #E2EBFA;\n",
              "      box-shadow: 0px 1px 2px rgba(60, 64, 67, 0.3), 0px 1px 3px 1px rgba(60, 64, 67, 0.15);\n",
              "      fill: #174EA6;\n",
              "    }\n",
              "\n",
              "    [theme=dark] .colab-df-convert {\n",
              "      background-color: #3B4455;\n",
              "      fill: #D2E3FC;\n",
              "    }\n",
              "\n",
              "    [theme=dark] .colab-df-convert:hover {\n",
              "      background-color: #434B5C;\n",
              "      box-shadow: 0px 1px 3px 1px rgba(0, 0, 0, 0.15);\n",
              "      filter: drop-shadow(0px 1px 2px rgba(0, 0, 0, 0.3));\n",
              "      fill: #FFFFFF;\n",
              "    }\n",
              "  </style>\n",
              "\n",
              "      <script>\n",
              "        const buttonEl =\n",
              "          document.querySelector('#df-6d2260fd-04cc-4a47-af27-19bd3e97577a button.colab-df-convert');\n",
              "        buttonEl.style.display =\n",
              "          google.colab.kernel.accessAllowed ? 'block' : 'none';\n",
              "\n",
              "        async function convertToInteractive(key) {\n",
              "          const element = document.querySelector('#df-6d2260fd-04cc-4a47-af27-19bd3e97577a');\n",
              "          const dataTable =\n",
              "            await google.colab.kernel.invokeFunction('convertToInteractive',\n",
              "                                                     [key], {});\n",
              "          if (!dataTable) return;\n",
              "\n",
              "          const docLinkHtml = 'Like what you see? Visit the ' +\n",
              "            '<a target=\"_blank\" href=https://colab.research.google.com/notebooks/data_table.ipynb>data table notebook</a>'\n",
              "            + ' to learn more about interactive tables.';\n",
              "          element.innerHTML = '';\n",
              "          dataTable['output_type'] = 'display_data';\n",
              "          await google.colab.output.renderOutput(dataTable, element);\n",
              "          const docLink = document.createElement('div');\n",
              "          docLink.innerHTML = docLinkHtml;\n",
              "          element.appendChild(docLink);\n",
              "        }\n",
              "      </script>\n",
              "    </div>\n",
              "  </div>\n",
              "  "
            ]
          },
          "metadata": {},
          "execution_count": 20
        }
      ]
    },
    {
      "cell_type": "code",
      "source": [
        "metrics_df = {\"model\":[],\n",
        "              \"accuracy\": [],\n",
        "              \"precision\": [],\n",
        "              \"recall\": [],\n",
        "              \"aucprc\":[],\n",
        "              \"aucroc\": []}"
      ],
      "metadata": {
        "id": "he_GFBweIVTp"
      },
      "execution_count": 21,
      "outputs": []
    },
    {
      "cell_type": "code",
      "source": [
        "from sklearn. metrics import precision_score, recall_score, precision_recall_curve, roc_auc_score"
      ],
      "metadata": {
        "id": "NJOAPORP-FEP"
      },
      "execution_count": 22,
      "outputs": []
    },
    {
      "cell_type": "code",
      "source": [
        "from sklearn.metrics._plot.precision_recall_curve import plot_precision_recall_curve\n"
      ],
      "metadata": {
        "id": "G6paptc-82i0"
      },
      "execution_count": 23,
      "outputs": []
    },
    {
      "cell_type": "code",
      "source": [
        "def compute_metrics(model,model_name, X_test_vec, y_test):\n",
        "    # extract the model's hyperparameters and make that part of the identifier for the model \n",
        "\n",
        "    y_pred = model.predict(X_test_vec)\n",
        "    acc = model.score(X_test_vec, y_test)\n",
        "    recall = recall_score(y_test,y_pred)\n",
        "    precision = precision_score(y_test, y_pred)\n",
        "    y_proba = model.predict_proba(X_test_vec)[:,1]\n",
        "    prc = precision_recall_curve(y_test, y_proba)\n",
        "    roc = roc_auc = roc_auc_score(y_test, y_proba)\n",
        "    \n",
        "    metrics_df['model'].append(model_name)\n",
        "    metrics_df['accuracy'].append(acc)\n",
        "    metrics_df['recall'].append(recall)\n",
        "    metrics_df['precision'].append(precision)\n",
        "    metrics_df['aucprc'].append(prc)\n",
        "    metrics_df['aucroc'].append(roc)\n",
        "\n",
        "\n",
        "\n",
        "\n",
        "\n",
        "\n"
      ],
      "metadata": {
        "id": "p4bRROwoIa0R"
      },
      "execution_count": 24,
      "outputs": []
    },
    {
      "cell_type": "code",
      "source": [
        "# NaiveBayes Classifier with Tfidf Vectorizer\n",
        "from sklearn.naive_bayes import MultinomialNB\n",
        "from sklearn.feature_extraction.text import TfidfVectorizer"
      ],
      "metadata": {
        "id": "qwyszJP3fv9N"
      },
      "execution_count": 25,
      "outputs": []
    },
    {
      "cell_type": "code",
      "source": [
        "tf_vec = TfidfVectorizer(min_df = 20,\n",
        "                         stop_words='english',\n",
        "                         ngram_range=(1, 3))"
      ],
      "metadata": {
        "id": "arO-5lBKgLP8"
      },
      "execution_count": 26,
      "outputs": []
    },
    {
      "cell_type": "code",
      "source": [
        "X_train_vec = tf_vec.fit_transform(X_train['lemmatized_text'])"
      ],
      "metadata": {
        "id": "J6Uznh5UgwHR"
      },
      "execution_count": 27,
      "outputs": []
    },
    {
      "cell_type": "code",
      "source": [
        "from sklearn.model_selection import GridSearchCV\n"
      ],
      "metadata": {
        "id": "cwuUoN2s0kC6"
      },
      "execution_count": 28,
      "outputs": []
    },
    {
      "cell_type": "code",
      "source": [
        "param_grid = {'alpha': [0.001, 0.01, 0.1, 1,5,10,50, 100]}\n",
        "grid_mnb_rmse = GridSearchCV(MultinomialNB(), param_grid=param_grid, scoring='neg_root_mean_squared_error')\n",
        "grid_mnb_rmse.fit(X_train_vec,y_train)"
      ],
      "metadata": {
        "colab": {
          "base_uri": "https://localhost:8080/"
        },
        "id": "8MRCXCEx0vpa",
        "outputId": "807f03c6-139d-4953-9597-508642d0175f"
      },
      "execution_count": 29,
      "outputs": [
        {
          "output_type": "execute_result",
          "data": {
            "text/plain": [
              "GridSearchCV(estimator=MultinomialNB(),\n",
              "             param_grid={'alpha': [0.001, 0.01, 0.1, 1, 5, 10, 50, 100]},\n",
              "             scoring='neg_root_mean_squared_error')"
            ]
          },
          "metadata": {},
          "execution_count": 29
        }
      ]
    },
    {
      "cell_type": "code",
      "source": [
        "grid_mnb_rmse.cv_results_"
      ],
      "metadata": {
        "colab": {
          "base_uri": "https://localhost:8080/"
        },
        "id": "KKkMO48gAf6e",
        "outputId": "bbc811fc-6b05-4630-effe-08aa5cc9e9a4"
      },
      "execution_count": 30,
      "outputs": [
        {
          "output_type": "execute_result",
          "data": {
            "text/plain": [
              "{'mean_fit_time': array([0.11542873, 0.11243043, 0.11041946, 0.11563869, 0.11197958,\n",
              "        0.11251965, 0.11066856, 0.10885715]),\n",
              " 'std_fit_time': array([0.00351629, 0.00452007, 0.00338808, 0.00552754, 0.00321628,\n",
              "        0.00757919, 0.0039514 , 0.00062777]),\n",
              " 'mean_score_time': array([0.01148744, 0.00915198, 0.01023126, 0.00896487, 0.01046214,\n",
              "        0.00928936, 0.00882764, 0.00991664]),\n",
              " 'std_score_time': array([2.02283770e-03, 5.96188326e-04, 1.67228171e-03, 7.63277039e-05,\n",
              "        2.08248910e-03, 4.18535911e-04, 1.14221004e-04, 2.29967208e-03]),\n",
              " 'param_alpha': masked_array(data=[0.001, 0.01, 0.1, 1, 5, 10, 50, 100],\n",
              "              mask=[False, False, False, False, False, False, False, False],\n",
              "        fill_value='?',\n",
              "             dtype=object),\n",
              " 'params': [{'alpha': 0.001},\n",
              "  {'alpha': 0.01},\n",
              "  {'alpha': 0.1},\n",
              "  {'alpha': 1},\n",
              "  {'alpha': 5},\n",
              "  {'alpha': 10},\n",
              "  {'alpha': 50},\n",
              "  {'alpha': 100}],\n",
              " 'split0_test_score': array([-0.61250873, -0.6124743 , -0.61216435, -0.61048558, -0.60837482,\n",
              "        -0.60935613, -0.63030237, -0.64165351]),\n",
              " 'split1_test_score': array([-0.61287586, -0.61287586, -0.61263496, -0.61072733, -0.60911384,\n",
              "        -0.60954068, -0.63218429, -0.64187257]),\n",
              " 'split2_test_score': array([-0.61441515, -0.61436938, -0.61436938, -0.61258189, -0.60954496,\n",
              "        -0.61128384, -0.6316214 , -0.64310245]),\n",
              " 'split3_test_score': array([-0.61257042, -0.61245565, -0.61230643, -0.61089274, -0.60955649,\n",
              "        -0.61088123, -0.63272222, -0.64278539]),\n",
              " 'split4_test_score': array([-0.61399169, -0.61395735, -0.6138772 , -0.61277693, -0.61053592,\n",
              "        -0.61181258, -0.63228879, -0.64311339]),\n",
              " 'mean_test_score': array([-0.61327237, -0.61322651, -0.61307046, -0.61149289, -0.60942521,\n",
              "        -0.61057489, -0.63182381, -0.64250546]),\n",
              " 'std_test_score': array([0.00078185, 0.00079035, 0.00088685, 0.00097935, 0.00070222,\n",
              "        0.00096781, 0.00083774, 0.0006214 ]),\n",
              " 'rank_test_score': array([6, 5, 4, 3, 1, 2, 7, 8], dtype=int32)}"
            ]
          },
          "metadata": {},
          "execution_count": 30
        }
      ]
    },
    {
      "cell_type": "code",
      "source": [
        "# Looks like alpha of 5 is the best parameter based on rmse\n",
        "grid_mnb_rmse.best_params_"
      ],
      "metadata": {
        "colab": {
          "base_uri": "https://localhost:8080/"
        },
        "id": "SzHhSDL_A7WA",
        "outputId": "9b3def67-09e8-4022-df64-934251b2f4e1"
      },
      "execution_count": 31,
      "outputs": [
        {
          "output_type": "execute_result",
          "data": {
            "text/plain": [
              "{'alpha': 5}"
            ]
          },
          "metadata": {},
          "execution_count": 31
        }
      ]
    },
    {
      "cell_type": "code",
      "source": [
        "mnb = MultinomialNB(alpha=5).fit(X_train_vec, y_train)\n",
        "model_name = 'Tf-idf NB alpha 5'\n",
        "X_test_vec = tf_vec.transform(X_test['lemmatized_text'])\n",
        "compute_metrics(mnb,model_name,X_test_vec, y_test)\n",
        "\n"
      ],
      "metadata": {
        "id": "iqc6arElDwpF"
      },
      "execution_count": 33,
      "outputs": []
    },
    {
      "cell_type": "code",
      "source": [
        "metrics_df"
      ],
      "metadata": {
        "colab": {
          "base_uri": "https://localhost:8080/"
        },
        "id": "J2Wuv-0FHgAc",
        "outputId": "f14c3bc3-3c12-46ad-ef97-38cd362e44df"
      },
      "execution_count": 34,
      "outputs": [
        {
          "output_type": "execute_result",
          "data": {
            "text/plain": [
              "{'model': ['Tf-idf NB alpha 5'],\n",
              " 'accuracy': [0.6302350886960042],\n",
              " 'precision': [0.6189553564220553],\n",
              " 'recall': [0.7477811372281283],\n",
              " 'aucprc': [(array([0.53178081, 0.53176867, 0.53178246, ..., 1.        , 1.        ,\n",
              "          1.        ]),\n",
              "   array([1.        , 0.99995123, 0.99995123, ..., 0.00214571, 0.00204818,\n",
              "          0.        ]),\n",
              "   array([0.13515109, 0.13575168, 0.13589074, ..., 0.99989217, 0.99989711,\n",
              "          0.99992042]))],\n",
              " 'aucroc': [0.6960772870858367]}"
            ]
          },
          "metadata": {},
          "execution_count": 34
        }
      ]
    },
    {
      "cell_type": "code",
      "source": [
        "# Mads Features"
      ],
      "metadata": {
        "id": "EBO0y34RuzHq"
      },
      "execution_count": null,
      "outputs": []
    },
    {
      "cell_type": "code",
      "source": [
        "X_train_mads_features = X_train.iloc[:,1:9]\n",
        "X_train_mads_features.fillna(0,inplace=True)\n",
        "msno.matrix(mads_features_raw)\n"
      ],
      "metadata": {
        "colab": {
          "base_uri": "https://localhost:8080/",
          "height": 723
        },
        "id": "kPrEuGsuuym9",
        "outputId": "f7a314c7-62f3-492c-b912-f7cfe9bb38f9"
      },
      "execution_count": 140,
      "outputs": [
        {
          "output_type": "execute_result",
          "data": {
            "text/plain": [
              "<matplotlib.axes._subplots.AxesSubplot at 0x7f9aa087e1d0>"
            ]
          },
          "metadata": {},
          "execution_count": 140
        },
        {
          "output_type": "display_data",
          "data": {
            "text/plain": [
              "<Figure size 1800x720 with 2 Axes>"
            ],
            "image/png": "[encoded data removed]"
          },
          "metadata": {
            "needs_background": "light"
          }
        }
      ]
    },
    {
      "cell_type": "code",
      "source": [
        "X_train_mads_features.describe()"
      ],
      "metadata": {
        "colab": {
          "base_uri": "https://localhost:8080/",
          "height": 297
        },
        "id": "HQYctgAduyFv",
        "outputId": "988a6d0b-a156-4234-e694-62684c8d2588"
      },
      "execution_count": 141,
      "outputs": [
        {
          "output_type": "execute_result",
          "data": {
            "text/plain": [
              "       d_chall_score       aoa_mean        aoa_min        aoa_max  \\\n",
              "count  355652.000000  355652.000000  355652.000000  355652.000000   \n",
              "mean        7.556820       5.754486       3.395488      10.419735   \n",
              "std         2.687109       1.005083       0.823235       2.597162   \n",
              "min         0.000000       0.000000       0.000000       0.000000   \n",
              "25%         5.729000       5.227500       2.890000       8.780000   \n",
              "50%         7.461543       5.676957       3.280000      10.500000   \n",
              "75%         9.158327       6.205271       3.690000      12.110000   \n",
              "max        18.716400      18.330000      18.330000      25.000000   \n",
              "\n",
              "       conc_rating_mean  conc_rating_min  conc_rating_max     num_lemmas  \n",
              "count     355652.000000    355652.000000    355652.000000  355652.000000  \n",
              "mean           2.653873         1.461432         4.427434      19.759959  \n",
              "std            0.422728         0.344298         0.684466      10.539020  \n",
              "min            0.000000         0.000000         0.000000       0.000000  \n",
              "25%            2.443200         1.430000         4.170000      12.000000  \n",
              "50%            2.636000         1.430000         4.690000      18.000000  \n",
              "75%            2.860588         1.430000         4.880000      25.000000  \n",
              "max            5.000000         5.000000         5.000000      76.000000  "
            ],
            "text/html": [
              "\n",
              "  <div id=\"df-522888d2-80cb-42c4-b896-029baa45bf47\">\n",
              "    <div class=\"colab-df-container\">\n",
              "      <div>\n",
              "<style scoped>\n",
              "    .dataframe tbody tr th:only-of-type {\n",
              "        vertical-align: middle;\n",
              "    }\n",
              "\n",
              "    .dataframe tbody tr th {\n",
              "        vertical-align: top;\n",
              "    }\n",
              "\n",
              "    .dataframe thead th {\n",
              "        text-align: right;\n",
              "    }\n",
              "</style>\n",
              "<table border=\"1\" class=\"dataframe\">\n",
              "  <thead>\n",
              "    <tr style=\"text-align: right;\">\n",
              "      <th></th>\n",
              "      <th>d_chall_score</th>\n",
              "      <th>aoa_mean</th>\n",
              "      <th>aoa_min</th>\n",
              "      <th>aoa_max</th>\n",
              "      <th>conc_rating_mean</th>\n",
              "      <th>conc_rating_min</th>\n",
              "      <th>conc_rating_max</th>\n",
              "      <th>num_lemmas</th>\n",
              "    </tr>\n",
              "  </thead>\n",
              "  <tbody>\n",
              "    <tr>\n",
              "      <th>count</th>\n",
              "      <td>355652.000000</td>\n",
              "      <td>355652.000000</td>\n",
              "      <td>355652.000000</td>\n",
              "      <td>355652.000000</td>\n",
              "      <td>355652.000000</td>\n",
              "      <td>355652.000000</td>\n",
              "      <td>355652.000000</td>\n",
              "      <td>355652.000000</td>\n",
              "    </tr>\n",
              "    <tr>\n",
              "      <th>mean</th>\n",
              "      <td>7.556820</td>\n",
              "      <td>5.754486</td>\n",
              "      <td>3.395488</td>\n",
              "      <td>10.419735</td>\n",
              "      <td>2.653873</td>\n",
              "      <td>1.461432</td>\n",
              "      <td>4.427434</td>\n",
              "      <td>19.759959</td>\n",
              "    </tr>\n",
              "    <tr>\n",
              "      <th>std</th>\n",
              "      <td>2.687109</td>\n",
              "      <td>1.005083</td>\n",
              "      <td>0.823235</td>\n",
              "      <td>2.597162</td>\n",
              "      <td>0.422728</td>\n",
              "      <td>0.344298</td>\n",
              "      <td>0.684466</td>\n",
              "      <td>10.539020</td>\n",
              "    </tr>\n",
              "    <tr>\n",
              "      <th>min</th>\n",
              "      <td>0.000000</td>\n",
              "      <td>0.000000</td>\n",
              "      <td>0.000000</td>\n",
              "      <td>0.000000</td>\n",
              "      <td>0.000000</td>\n",
              "      <td>0.000000</td>\n",
              "      <td>0.000000</td>\n",
              "      <td>0.000000</td>\n",
              "    </tr>\n",
              "    <tr>\n",
              "      <th>25%</th>\n",
              "      <td>5.729000</td>\n",
              "      <td>5.227500</td>\n",
              "      <td>2.890000</td>\n",
              "      <td>8.780000</td>\n",
              "      <td>2.443200</td>\n",
              "      <td>1.430000</td>\n",
              "      <td>4.170000</td>\n",
              "      <td>12.000000</td>\n",
              "    </tr>\n",
              "    <tr>\n",
              "      <th>50%</th>\n",
              "      <td>7.461543</td>\n",
              "      <td>5.676957</td>\n",
              "      <td>3.280000</td>\n",
              "      <td>10.500000</td>\n",
              "      <td>2.636000</td>\n",
              "      <td>1.430000</td>\n",
              "      <td>4.690000</td>\n",
              "      <td>18.000000</td>\n",
              "    </tr>\n",
              "    <tr>\n",
              "      <th>75%</th>\n",
              "      <td>9.158327</td>\n",
              "      <td>6.205271</td>\n",
              "      <td>3.690000</td>\n",
              "      <td>12.110000</td>\n",
              "      <td>2.860588</td>\n",
              "      <td>1.430000</td>\n",
              "      <td>4.880000</td>\n",
              "      <td>25.000000</td>\n",
              "    </tr>\n",
              "    <tr>\n",
              "      <th>max</th>\n",
              "      <td>18.716400</td>\n",
              "      <td>18.330000</td>\n",
              "      <td>18.330000</td>\n",
              "      <td>25.000000</td>\n",
              "      <td>5.000000</td>\n",
              "      <td>5.000000</td>\n",
              "      <td>5.000000</td>\n",
              "      <td>76.000000</td>\n",
              "    </tr>\n",
              "  </tbody>\n",
              "</table>\n",
              "</div>\n",
              "      <button class=\"colab-df-convert\" onclick=\"convertToInteractive('df-522888d2-80cb-42c4-b896-029baa45bf47')\"\n",
              "              title=\"Convert this dataframe to an interactive table.\"\n",
              "              style=\"display:none;\">\n",
              "        \n",
              "  <svg xmlns=\"http://www.w3.org/2000/svg\" height=\"24px\"viewBox=\"0 0 24 24\"\n",
              "       width=\"24px\">\n",
              "    <path d=\"M0 0h24v24H0V0z\" fill=\"none\"/>\n",
              "    <path d=\"M18.56 5.44l.94 2.06.94-2.06 2.06-.94-2.06-.94-.94-2.06-.94 2.06-2.06.94zm-11 1L8.5 8.5l.94-2.06 2.06-.94-2.06-.94L8.5 2.5l-.94 2.06-2.06.94zm10 10l.94 2.06.94-2.06 2.06-.94-2.06-.94-.94-2.06-.94 2.06-2.06.94z\"/><path d=\"M17.41 7.96l-1.37-1.37c-.4-.4-.92-.59-1.43-.59-.52 0-1.04.2-1.43.59L10.3 9.45l-7.72 7.72c-.78.78-.78 2.05 0 2.83L4 21.41c.39.39.9.59 1.41.59.51 0 1.02-.2 1.41-.59l7.78-7.78 2.81-2.81c.8-.78.8-2.07 0-2.86zM5.41 20L4 18.59l7.72-7.72 1.47 1.35L5.41 20z\"/>\n",
              "  </svg>\n",
              "      </button>\n",
              "      \n",
              "  <style>\n",
              "    .colab-df-container {\n",
              "      display:flex;\n",
              "      flex-wrap:wrap;\n",
              "      gap: 12px;\n",
              "    }\n",
              "\n",
              "    .colab-df-convert {\n",
              "      background-color: #E8F0FE;\n",
              "      border: none;\n",
              "      border-radius: 50%;\n",
              "      cursor: pointer;\n",
              "      display: none;\n",
              "      fill: #1967D2;\n",
              "      height: 32px;\n",
              "      padding: 0 0 0 0;\n",
              "      width: 32px;\n",
              "    }\n",
              "\n",
              "    .colab-df-convert:hover {\n",
              "      background-color: #E2EBFA;\n",
              "      box-shadow: 0px 1px 2px rgba(60, 64, 67, 0.3), 0px 1px 3px 1px rgba(60, 64, 67, 0.15);\n",
              "      fill: #174EA6;\n",
              "    }\n",
              "\n",
              "    [theme=dark] .colab-df-convert {\n",
              "      background-color: #3B4455;\n",
              "      fill: #D2E3FC;\n",
              "    }\n",
              "\n",
              "    [theme=dark] .colab-df-convert:hover {\n",
              "      background-color: #434B5C;\n",
              "      box-shadow: 0px 1px 3px 1px rgba(0, 0, 0, 0.15);\n",
              "      filter: drop-shadow(0px 1px 2px rgba(0, 0, 0, 0.3));\n",
              "      fill: #FFFFFF;\n",
              "    }\n",
              "  </style>\n",
              "\n",
              "      <script>\n",
              "        const buttonEl =\n",
              "          document.querySelector('#df-522888d2-80cb-42c4-b896-029baa45bf47 button.colab-df-convert');\n",
              "        buttonEl.style.display =\n",
              "          google.colab.kernel.accessAllowed ? 'block' : 'none';\n",
              "\n",
              "        async function convertToInteractive(key) {\n",
              "          const element = document.querySelector('#df-522888d2-80cb-42c4-b896-029baa45bf47');\n",
              "          const dataTable =\n",
              "            await google.colab.kernel.invokeFunction('convertToInteractive',\n",
              "                                                     [key], {});\n",
              "          if (!dataTable) return;\n",
              "\n",
              "          const docLinkHtml = 'Like what you see? Visit the ' +\n",
              "            '<a target=\"_blank\" href=https://colab.research.google.com/notebooks/data_table.ipynb>data table notebook</a>'\n",
              "            + ' to learn more about interactive tables.';\n",
              "          element.innerHTML = '';\n",
              "          dataTable['output_type'] = 'display_data';\n",
              "          await google.colab.output.renderOutput(dataTable, element);\n",
              "          const docLink = document.createElement('div');\n",
              "          docLink.innerHTML = docLinkHtml;\n",
              "          element.appendChild(docLink);\n",
              "        }\n",
              "      </script>\n",
              "    </div>\n",
              "  </div>\n",
              "  "
            ]
          },
          "metadata": {},
          "execution_count": 141
        }
      ]
    },
    {
      "cell_type": "code",
      "source": [
        "param_grid = {'alpha': [0.001, 0.01,0.1,.5,1,2,3,4,5,10,25,50,100,500]}\n",
        "grid_mnb_mads_rmse = GridSearchCV(MultinomialNB(), param_grid=param_grid, scoring='neg_root_mean_squared_error')\n",
        "grid_mnb_mads_rmse.fit(X_train_mads_features,y_train)"
      ],
      "metadata": {
        "colab": {
          "base_uri": "https://localhost:8080/"
        },
        "id": "BiAcyZmOv1DS",
        "outputId": "7b090295-d6ff-4513-a620-fb1348046449"
      },
      "execution_count": 142,
      "outputs": [
        {
          "output_type": "execute_result",
          "data": {
            "text/plain": [
              "GridSearchCV(estimator=MultinomialNB(),\n",
              "             param_grid={'alpha': [0.001, 0.01, 0.1, 0.5, 1, 2, 3, 4, 5, 10, 25,\n",
              "                                   50, 100, 500]},\n",
              "             scoring='neg_root_mean_squared_error')"
            ]
          },
          "metadata": {},
          "execution_count": 142
        }
      ]
    },
    {
      "cell_type": "code",
      "source": [
        "grid_mnb_mads_rmse.best_estimator_"
      ],
      "metadata": {
        "colab": {
          "base_uri": "https://localhost:8080/"
        },
        "id": "_StibTzcxlz2",
        "outputId": "cc03042f-2556-4c1c-aef2-8b308651276d"
      },
      "execution_count": 143,
      "outputs": [
        {
          "output_type": "execute_result",
          "data": {
            "text/plain": [
              "MultinomialNB(alpha=100)"
            ]
          },
          "metadata": {},
          "execution_count": 143
        }
      ]
    },
    {
      "cell_type": "code",
      "source": [
        "X_test_mads_features = X_test.iloc[:,2:10]\n",
        "msno.matrix(X_test_mads_features)\n",
        "print(X_test_mads_features[X_test_mads_features['conc_rating_mean'].isna()].shape)\n"
      ],
      "metadata": {
        "colab": {
          "base_uri": "https://localhost:8080/",
          "height": 726
        },
        "id": "lATg3ZS4xvzg",
        "outputId": "48c7d8a4-d71b-4572-ec02-3d0a11484e81"
      },
      "execution_count": 155,
      "outputs": [
        {
          "output_type": "stream",
          "name": "stdout",
          "text": [
            "(281, 8)\n"
          ]
        },
        {
          "output_type": "display_data",
          "data": {
            "text/plain": [
              "<Figure size 1800x720 with 2 Axes>"
            ],
            "image/png": "[encoded data removed]"
          },
          "metadata": {
            "needs_background": "light"
          }
        }
      ]
    },
    {
      "cell_type": "code",
      "source": [
        "X_test_mads_features.fillna(0,inplace=True)"
      ],
      "metadata": {
        "id": "stke8pjuye0t"
      },
      "execution_count": 156,
      "outputs": []
    },
    {
      "cell_type": "code",
      "source": [
        "mnb = MultinomialNB(alpha=100).fit(X_train_mads_features, y_train)\n",
        "model_name = 'MADS NB alpha 100'\n",
        "compute_metrics(mnb,model_name,X_test_mads_features, y_test)"
      ],
      "metadata": {
        "id": "oHqIlOUQxwVP"
      },
      "execution_count": 157,
      "outputs": []
    },
    {
      "cell_type": "code",
      "source": [
        "# tfidf + Mads features"
      ],
      "metadata": {
        "id": "tm8I6pSZUA39"
      },
      "execution_count": 22,
      "outputs": []
    },
    {
      "cell_type": "code",
      "source": [
        "X_train_other = X_train[X_train.columns[1:]]"
      ],
      "metadata": {
        "id": "1zcC5LwTncg7"
      },
      "execution_count": 23,
      "outputs": []
    },
    {
      "cell_type": "code",
      "source": [
        "import scipy\n",
        "from scipy.sparse import hstack\n",
        "import numpy as np"
      ],
      "metadata": {
        "id": "a-BxG7AupD7h"
      },
      "execution_count": 158,
      "outputs": []
    },
    {
      "cell_type": "code",
      "source": [
        "# Create a sparse matrix from the MADS features\n",
        "X_sparse = scipy.sparse.coo_matrix(X_train_mads_features)\n",
        "\n",
        "# Join both the tfidf training matrix with the sparse MADS features\n",
        "X_train_all = scipy.sparse.hstack((X_train_vec, X_sparse)).tocsr()\n",
        "\n",
        "\n"
      ],
      "metadata": {
        "id": "k740tnsEKIAb"
      },
      "execution_count": 159,
      "outputs": []
    },
    {
      "cell_type": "code",
      "source": [
        "X_train_all[:5, :1000]\n",
        "\n",
        "\n",
        "# toarray(X_train_all[0, :100])"
      ],
      "metadata": {
        "colab": {
          "base_uri": "https://localhost:8080/"
        },
        "id": "yomKsd1rRBHS",
        "outputId": "1257d937-bcbb-4cf8-d572-5592c2d30e3f"
      },
      "execution_count": 160,
      "outputs": [
        {
          "output_type": "execute_result",
          "data": {
            "text/plain": [
              "<5x1000 sparse matrix of type '<class 'numpy.float64'>'\n",
              "\twith 2 stored elements in Compressed Sparse Row format>"
            ]
          },
          "metadata": {},
          "execution_count": 160
        }
      ]
    },
    {
      "cell_type": "code",
      "source": [
        "grid_mnb_all_rmse = GridSearchCV(MultinomialNB(), param_grid=param_grid, scoring='neg_root_mean_squared_error')\n",
        "grid_mnb_all_rmse.fit(X_train_all,y_train)\n",
        "\n"
      ],
      "metadata": {
        "colab": {
          "base_uri": "https://localhost:8080/"
        },
        "id": "DjsSuwaxKi64",
        "outputId": "d437cbce-9f82-4f8a-db45-2a69a5400db7"
      },
      "execution_count": 161,
      "outputs": [
        {
          "output_type": "execute_result",
          "data": {
            "text/plain": [
              "GridSearchCV(estimator=MultinomialNB(),\n",
              "             param_grid={'alpha': [0.001, 0.01, 0.1, 0.5, 1, 2, 3, 4, 5, 10, 25,\n",
              "                                   50, 100, 500]},\n",
              "             scoring='neg_root_mean_squared_error')"
            ]
          },
          "metadata": {},
          "execution_count": 161
        }
      ]
    },
    {
      "cell_type": "code",
      "source": [
        "grid_mnb_all_rmse.best_estimator_"
      ],
      "metadata": {
        "colab": {
          "base_uri": "https://localhost:8080/"
        },
        "id": "jzatdb_nnLJg",
        "outputId": "cfd0e4e7-ac31-4af3-bad4-4dafdf6b327e"
      },
      "execution_count": 162,
      "outputs": [
        {
          "output_type": "execute_result",
          "data": {
            "text/plain": [
              "MultinomialNB(alpha=0.001)"
            ]
          },
          "metadata": {},
          "execution_count": 162
        }
      ]
    },
    {
      "cell_type": "code",
      "source": [
        "# Update the test data: convert mads features to sparse, create\n",
        "# one matrix for both the tfidf vec and mads features\n",
        "\n",
        "X_test_sparse = scipy.sparse.coo_matrix(X_test_mads_features)\n",
        "\n",
        "X_test_all = scipy.sparse.hstack((X_test_vec,\n",
        "                                  X_test_sparse))"
      ],
      "metadata": {
        "id": "YoIV2DA-0KLv"
      },
      "execution_count": 163,
      "outputs": []
    },
    {
      "cell_type": "code",
      "source": [
        "# Run model based on best parameters from gridsearch\n",
        "mnb = MultinomialNB(alpha=.001).fit(X_train_all, y_train)\n",
        "model_name = 'Tf-idf NB alpha .001'\n",
        "\n",
        "# compute metrics from the test split data\n",
        "compute_metrics(mnb,model_name,X_test_all, y_test)"
      ],
      "metadata": {
        "id": "4P9cZvKB0Ji9"
      },
      "execution_count": 164,
      "outputs": []
    },
    {
      "cell_type": "code",
      "source": [
        "# Sentence Embeddings"
      ],
      "metadata": {
        "id": "tPGMifg6OdL2"
      },
      "execution_count": 35,
      "outputs": []
    },
    {
      "cell_type": "code",
      "source": [
        "from numpy import loadtxt\n",
        "import numpy as np\n",
        "from sklearn.preprocessing import MinMaxScaler"
      ],
      "metadata": {
        "id": "ay5ERTVZa2pw"
      },
      "execution_count": 81,
      "outputs": []
    },
    {
      "cell_type": "code",
      "source": [
        "embeddings = loadtxt('drive/Shareddrives/Milestone 2/embeddings.csv', delimiter=',')\n",
        "embeddings"
      ],
      "metadata": {
        "colab": {
          "base_uri": "https://localhost:8080/"
        },
        "id": "gzDbiwkabHYQ",
        "outputId": "af3a8578-b44e-4adf-8d02-3ad1cc66fe7c"
      },
      "execution_count": 38,
      "outputs": [
        {
          "output_type": "execute_result",
          "data": {
            "text/plain": [
              "array([[-0.10521097,  0.04652381,  0.09932816, ..., -0.53146267,\n",
              "         0.24081262,  0.04764764],\n",
              "       [-0.09595645,  0.28408318,  0.0416585 , ..., -0.6049515 ,\n",
              "         0.23389882,  0.2116979 ],\n",
              "       [ 0.00624134,  0.04496894,  0.28006756, ..., -0.21483139,\n",
              "         0.40460399, -0.12047322],\n",
              "       ...,\n",
              "       [-0.05062665,  0.11346165,  0.37695   , ..., -0.35318942,\n",
              "         0.46983531, -0.04529605],\n",
              "       [-0.13691955,  0.46627818, -0.0528408 , ..., -0.55561154,\n",
              "         0.56975963,  0.25214309],\n",
              "       [-0.23494626,  0.30814424,  0.28275521, ..., -0.56363898,\n",
              "         0.44196188,  0.01724233]])"
            ]
          },
          "metadata": {},
          "execution_count": 38
        }
      ]
    },
    {
      "cell_type": "code",
      "source": [
        "embeddings.shape"
      ],
      "metadata": {
        "colab": {
          "base_uri": "https://localhost:8080/"
        },
        "id": "J0WrK3iybYl3",
        "outputId": "4460e518-18fd-48d8-ab39-eba097f7da6f"
      },
      "execution_count": 39,
      "outputs": [
        {
          "output_type": "execute_result",
          "data": {
            "text/plain": [
              "(395169, 100)"
            ]
          },
          "metadata": {},
          "execution_count": 39
        }
      ]
    },
    {
      "cell_type": "code",
      "source": [
        "# Combine the embeddings and the original_text + Mads features\n",
        "emb = pd.DataFrame(embeddings)\n",
        "new_df = pd.concat([df,emb], axis=1)\n",
        "new_df.head()"
      ],
      "metadata": {
        "colab": {
          "base_uri": "https://localhost:8080/",
          "height": 552
        },
        "id": "6pPdMlnBbZ09",
        "outputId": "37ffa649-cc1d-4f09-c938-871af1f8e4f8"
      },
      "execution_count": 65,
      "outputs": [
        {
          "output_type": "execute_result",
          "data": {
            "text/plain": [
              "                                       original_text  \\\n",
              "0  There is manuscript evidence that Austen conti...   \n",
              "1  In a remarkable comparative analysis , Mandaea...   \n",
              "2  Before Persephone was released to Hermes , who...   \n",
              "3  Cogeneration plants are commonly found in dist...   \n",
              "4  Geneva is the second-most-populous city in Swi...   \n",
              "\n",
              "                                     lemmatized_text  d_chall_score  aoa_mean  \\\n",
              "0  There be manuscript evidence that Austen conti...       8.533221  5.809310   \n",
              "1  In a remarkable comparative analysis , Mandaea...      12.320171  7.402308   \n",
              "2  Before Persephone be release to Hermes , who h...       5.931500  5.231351   \n",
              "3  Cogeneration plant be commonly find in distric...       7.015012  6.742000   \n",
              "4  Geneva be the second-most-populous city in Swi...       7.550745  5.455000   \n",
              "\n",
              "   aoa_min  aoa_max  conc_rating_mean  conc_rating_min  conc_rating_max  \\\n",
              "0     3.57    12.12          2.495517             1.33             4.57   \n",
              "1     2.89    11.94          2.334286             1.46             4.93   \n",
              "2     2.78    11.17          2.556486             1.43             4.86   \n",
              "3     3.56    11.53          3.369655             1.52             4.93   \n",
              "4     3.69    12.62          2.399333             1.43             4.79   \n",
              "\n",
              "   num_lemmas  ...        90        91        92        93        94  \\\n",
              "0        38.0  ... -0.000574 -0.282132  0.048765  0.281763 -0.562752   \n",
              "1        21.0  ...  0.142222 -0.103547 -0.090528  0.095581 -0.276107   \n",
              "2        40.0  ... -0.042911 -0.127006 -0.027232  0.002538 -0.531988   \n",
              "3        32.0  ...  0.113040 -0.480430 -0.121593  0.049611 -0.675361   \n",
              "4        22.0  ... -0.003146 -0.214928 -0.110112  0.408002 -0.512044   \n",
              "\n",
              "         95        96        97        98        99  \n",
              "0 -0.018829 -0.266238 -0.531463  0.240813  0.047648  \n",
              "1  0.028346 -0.250517 -0.604951  0.233899  0.211698  \n",
              "2 -0.153132 -0.162387 -0.214831  0.404604 -0.120473  \n",
              "3  0.358477 -0.145952 -0.454261  0.618850  0.002099  \n",
              "4  0.292142 -0.294712 -0.306517  0.631877 -0.067776  \n",
              "\n",
              "[5 rows x 111 columns]"
            ],
            "text/html": [
              "\n",
              "  <div id=\"df-1f09dd02-c0c6-46bb-8697-c4c9e9ea4bb6\">\n",
              "    <div class=\"colab-df-container\">\n",
              "      <div>\n",
              "<style scoped>\n",
              "    .dataframe tbody tr th:only-of-type {\n",
              "        vertical-align: middle;\n",
              "    }\n",
              "\n",
              "    .dataframe tbody tr th {\n",
              "        vertical-align: top;\n",
              "    }\n",
              "\n",
              "    .dataframe thead th {\n",
              "        text-align: right;\n",
              "    }\n",
              "</style>\n",
              "<table border=\"1\" class=\"dataframe\">\n",
              "  <thead>\n",
              "    <tr style=\"text-align: right;\">\n",
              "      <th></th>\n",
              "      <th>original_text</th>\n",
              "      <th>lemmatized_text</th>\n",
              "      <th>d_chall_score</th>\n",
              "      <th>aoa_mean</th>\n",
              "      <th>aoa_min</th>\n",
              "      <th>aoa_max</th>\n",
              "      <th>conc_rating_mean</th>\n",
              "      <th>conc_rating_min</th>\n",
              "      <th>conc_rating_max</th>\n",
              "      <th>num_lemmas</th>\n",
              "      <th>...</th>\n",
              "      <th>90</th>\n",
              "      <th>91</th>\n",
              "      <th>92</th>\n",
              "      <th>93</th>\n",
              "      <th>94</th>\n",
              "      <th>95</th>\n",
              "      <th>96</th>\n",
              "      <th>97</th>\n",
              "      <th>98</th>\n",
              "      <th>99</th>\n",
              "    </tr>\n",
              "  </thead>\n",
              "  <tbody>\n",
              "    <tr>\n",
              "      <th>0</th>\n",
              "      <td>There is manuscript evidence that Austen conti...</td>\n",
              "      <td>There be manuscript evidence that Austen conti...</td>\n",
              "      <td>8.533221</td>\n",
              "      <td>5.809310</td>\n",
              "      <td>3.57</td>\n",
              "      <td>12.12</td>\n",
              "      <td>2.495517</td>\n",
              "      <td>1.33</td>\n",
              "      <td>4.57</td>\n",
              "      <td>38.0</td>\n",
              "      <td>...</td>\n",
              "      <td>-0.000574</td>\n",
              "      <td>-0.282132</td>\n",
              "      <td>0.048765</td>\n",
              "      <td>0.281763</td>\n",
              "      <td>-0.562752</td>\n",
              "      <td>-0.018829</td>\n",
              "      <td>-0.266238</td>\n",
              "      <td>-0.531463</td>\n",
              "      <td>0.240813</td>\n",
              "      <td>0.047648</td>\n",
              "    </tr>\n",
              "    <tr>\n",
              "      <th>1</th>\n",
              "      <td>In a remarkable comparative analysis , Mandaea...</td>\n",
              "      <td>In a remarkable comparative analysis , Mandaea...</td>\n",
              "      <td>12.320171</td>\n",
              "      <td>7.402308</td>\n",
              "      <td>2.89</td>\n",
              "      <td>11.94</td>\n",
              "      <td>2.334286</td>\n",
              "      <td>1.46</td>\n",
              "      <td>4.93</td>\n",
              "      <td>21.0</td>\n",
              "      <td>...</td>\n",
              "      <td>0.142222</td>\n",
              "      <td>-0.103547</td>\n",
              "      <td>-0.090528</td>\n",
              "      <td>0.095581</td>\n",
              "      <td>-0.276107</td>\n",
              "      <td>0.028346</td>\n",
              "      <td>-0.250517</td>\n",
              "      <td>-0.604951</td>\n",
              "      <td>0.233899</td>\n",
              "      <td>0.211698</td>\n",
              "    </tr>\n",
              "    <tr>\n",
              "      <th>2</th>\n",
              "      <td>Before Persephone was released to Hermes , who...</td>\n",
              "      <td>Before Persephone be release to Hermes , who h...</td>\n",
              "      <td>5.931500</td>\n",
              "      <td>5.231351</td>\n",
              "      <td>2.78</td>\n",
              "      <td>11.17</td>\n",
              "      <td>2.556486</td>\n",
              "      <td>1.43</td>\n",
              "      <td>4.86</td>\n",
              "      <td>40.0</td>\n",
              "      <td>...</td>\n",
              "      <td>-0.042911</td>\n",
              "      <td>-0.127006</td>\n",
              "      <td>-0.027232</td>\n",
              "      <td>0.002538</td>\n",
              "      <td>-0.531988</td>\n",
              "      <td>-0.153132</td>\n",
              "      <td>-0.162387</td>\n",
              "      <td>-0.214831</td>\n",
              "      <td>0.404604</td>\n",
              "      <td>-0.120473</td>\n",
              "    </tr>\n",
              "    <tr>\n",
              "      <th>3</th>\n",
              "      <td>Cogeneration plants are commonly found in dist...</td>\n",
              "      <td>Cogeneration plant be commonly find in distric...</td>\n",
              "      <td>7.015012</td>\n",
              "      <td>6.742000</td>\n",
              "      <td>3.56</td>\n",
              "      <td>11.53</td>\n",
              "      <td>3.369655</td>\n",
              "      <td>1.52</td>\n",
              "      <td>4.93</td>\n",
              "      <td>32.0</td>\n",
              "      <td>...</td>\n",
              "      <td>0.113040</td>\n",
              "      <td>-0.480430</td>\n",
              "      <td>-0.121593</td>\n",
              "      <td>0.049611</td>\n",
              "      <td>-0.675361</td>\n",
              "      <td>0.358477</td>\n",
              "      <td>-0.145952</td>\n",
              "      <td>-0.454261</td>\n",
              "      <td>0.618850</td>\n",
              "      <td>0.002099</td>\n",
              "    </tr>\n",
              "    <tr>\n",
              "      <th>4</th>\n",
              "      <td>Geneva is the second-most-populous city in Swi...</td>\n",
              "      <td>Geneva be the second-most-populous city in Swi...</td>\n",
              "      <td>7.550745</td>\n",
              "      <td>5.455000</td>\n",
              "      <td>3.69</td>\n",
              "      <td>12.62</td>\n",
              "      <td>2.399333</td>\n",
              "      <td>1.43</td>\n",
              "      <td>4.79</td>\n",
              "      <td>22.0</td>\n",
              "      <td>...</td>\n",
              "      <td>-0.003146</td>\n",
              "      <td>-0.214928</td>\n",
              "      <td>-0.110112</td>\n",
              "      <td>0.408002</td>\n",
              "      <td>-0.512044</td>\n",
              "      <td>0.292142</td>\n",
              "      <td>-0.294712</td>\n",
              "      <td>-0.306517</td>\n",
              "      <td>0.631877</td>\n",
              "      <td>-0.067776</td>\n",
              "    </tr>\n",
              "  </tbody>\n",
              "</table>\n",
              "<p>5 rows × 111 columns</p>\n",
              "</div>\n",
              "      <button class=\"colab-df-convert\" onclick=\"convertToInteractive('df-1f09dd02-c0c6-46bb-8697-c4c9e9ea4bb6')\"\n",
              "              title=\"Convert this dataframe to an interactive table.\"\n",
              "              style=\"display:none;\">\n",
              "        \n",
              "  <svg xmlns=\"http://www.w3.org/2000/svg\" height=\"24px\"viewBox=\"0 0 24 24\"\n",
              "       width=\"24px\">\n",
              "    <path d=\"M0 0h24v24H0V0z\" fill=\"none\"/>\n",
              "    <path d=\"M18.56 5.44l.94 2.06.94-2.06 2.06-.94-2.06-.94-.94-2.06-.94 2.06-2.06.94zm-11 1L8.5 8.5l.94-2.06 2.06-.94-2.06-.94L8.5 2.5l-.94 2.06-2.06.94zm10 10l.94 2.06.94-2.06 2.06-.94-2.06-.94-.94-2.06-.94 2.06-2.06.94z\"/><path d=\"M17.41 7.96l-1.37-1.37c-.4-.4-.92-.59-1.43-.59-.52 0-1.04.2-1.43.59L10.3 9.45l-7.72 7.72c-.78.78-.78 2.05 0 2.83L4 21.41c.39.39.9.59 1.41.59.51 0 1.02-.2 1.41-.59l7.78-7.78 2.81-2.81c.8-.78.8-2.07 0-2.86zM5.41 20L4 18.59l7.72-7.72 1.47 1.35L5.41 20z\"/>\n",
              "  </svg>\n",
              "      </button>\n",
              "      \n",
              "  <style>\n",
              "    .colab-df-container {\n",
              "      display:flex;\n",
              "      flex-wrap:wrap;\n",
              "      gap: 12px;\n",
              "    }\n",
              "\n",
              "    .colab-df-convert {\n",
              "      background-color: #E8F0FE;\n",
              "      border: none;\n",
              "      border-radius: 50%;\n",
              "      cursor: pointer;\n",
              "      display: none;\n",
              "      fill: #1967D2;\n",
              "      height: 32px;\n",
              "      padding: 0 0 0 0;\n",
              "      width: 32px;\n",
              "    }\n",
              "\n",
              "    .colab-df-convert:hover {\n",
              "      background-color: #E2EBFA;\n",
              "      box-shadow: 0px 1px 2px rgba(60, 64, 67, 0.3), 0px 1px 3px 1px rgba(60, 64, 67, 0.15);\n",
              "      fill: #174EA6;\n",
              "    }\n",
              "\n",
              "    [theme=dark] .colab-df-convert {\n",
              "      background-color: #3B4455;\n",
              "      fill: #D2E3FC;\n",
              "    }\n",
              "\n",
              "    [theme=dark] .colab-df-convert:hover {\n",
              "      background-color: #434B5C;\n",
              "      box-shadow: 0px 1px 3px 1px rgba(0, 0, 0, 0.15);\n",
              "      filter: drop-shadow(0px 1px 2px rgba(0, 0, 0, 0.3));\n",
              "      fill: #FFFFFF;\n",
              "    }\n",
              "  </style>\n",
              "\n",
              "      <script>\n",
              "        const buttonEl =\n",
              "          document.querySelector('#df-1f09dd02-c0c6-46bb-8697-c4c9e9ea4bb6 button.colab-df-convert');\n",
              "        buttonEl.style.display =\n",
              "          google.colab.kernel.accessAllowed ? 'block' : 'none';\n",
              "\n",
              "        async function convertToInteractive(key) {\n",
              "          const element = document.querySelector('#df-1f09dd02-c0c6-46bb-8697-c4c9e9ea4bb6');\n",
              "          const dataTable =\n",
              "            await google.colab.kernel.invokeFunction('convertToInteractive',\n",
              "                                                     [key], {});\n",
              "          if (!dataTable) return;\n",
              "\n",
              "          const docLinkHtml = 'Like what you see? Visit the ' +\n",
              "            '<a target=\"_blank\" href=https://colab.research.google.com/notebooks/data_table.ipynb>data table notebook</a>'\n",
              "            + ' to learn more about interactive tables.';\n",
              "          element.innerHTML = '';\n",
              "          dataTable['output_type'] = 'display_data';\n",
              "          await google.colab.output.renderOutput(dataTable, element);\n",
              "          const docLink = document.createElement('div');\n",
              "          docLink.innerHTML = docLinkHtml;\n",
              "          element.appendChild(docLink);\n",
              "        }\n",
              "      </script>\n",
              "    </div>\n",
              "  </div>\n",
              "  "
            ]
          },
          "metadata": {},
          "execution_count": 65
        }
      ]
    },
    {
      "cell_type": "code",
      "source": [
        "X_train_indexes = X_train.index\n",
        "X_train_emb = new_df.iloc[X_train_indexes, 11:]\n",
        "X_train_emb.head()"
      ],
      "metadata": {
        "colab": {
          "base_uri": "https://localhost:8080/",
          "height": 297
        },
        "id": "_TNFpslXbc__",
        "outputId": "1e763c4b-71c0-48f9-d92c-1aeb7bf8472c"
      },
      "execution_count": 66,
      "outputs": [
        {
          "output_type": "execute_result",
          "data": {
            "text/plain": [
              "              0         1         2         3         4         5         6   \\\n",
              "91224  -0.372383  0.221127  0.418656 -0.075037  0.278601  0.282382 -0.179060   \n",
              "117728  0.016294 -0.113769  0.293257 -0.168054  0.222634  0.146599  0.070255   \n",
              "316017 -0.073500  0.113797  0.029153 -0.429477  0.063771  0.347380 -0.124431   \n",
              "7423    0.029224 -0.239776  0.132184  0.049248  0.145883  0.229183 -0.007984   \n",
              "201052 -0.046389 -0.126177  0.413811 -0.052786  0.227497  0.208976  0.116180   \n",
              "\n",
              "              7         8         9   ...        90        91        92  \\\n",
              "91224   0.063454 -0.416448  0.017981  ... -0.318357  0.059500 -0.174866   \n",
              "117728  0.014296 -0.186127  0.057335  ... -0.083942 -0.180034 -0.202958   \n",
              "316017  0.282229 -0.075735  0.068369  ...  0.054707 -0.032472 -0.121287   \n",
              "7423    0.014910 -0.091277 -0.008269  ...  0.064875 -0.315753 -0.039297   \n",
              "201052  0.549721  0.018257  0.237596  ...  0.318063 -0.234182 -0.218740   \n",
              "\n",
              "              93        94        95        96        97        98        99  \n",
              "91224   0.281088 -0.411315 -0.156737 -0.283365 -0.481805  0.567332  0.058942  \n",
              "117728  0.465693 -0.490053  0.123509 -0.455105 -0.099749  0.473420 -0.061285  \n",
              "316017  0.100465 -0.510452  0.222725 -0.246233 -0.182647  0.495054  0.045244  \n",
              "7423    0.541282 -0.457863  0.255201 -0.281852 -0.214106  0.434917 -0.177841  \n",
              "201052  0.573339 -0.420712  0.340783 -0.341281 -0.248862  0.539164 -0.111740  \n",
              "\n",
              "[5 rows x 100 columns]"
            ],
            "text/html": [
              "\n",
              "  <div id=\"df-a86eaa7e-ce74-485a-b8fe-61361da03663\">\n",
              "    <div class=\"colab-df-container\">\n",
              "      <div>\n",
              "<style scoped>\n",
              "    .dataframe tbody tr th:only-of-type {\n",
              "        vertical-align: middle;\n",
              "    }\n",
              "\n",
              "    .dataframe tbody tr th {\n",
              "        vertical-align: top;\n",
              "    }\n",
              "\n",
              "    .dataframe thead th {\n",
              "        text-align: right;\n",
              "    }\n",
              "</style>\n",
              "<table border=\"1\" class=\"dataframe\">\n",
              "  <thead>\n",
              "    <tr style=\"text-align: right;\">\n",
              "      <th></th>\n",
              "      <th>0</th>\n",
              "      <th>1</th>\n",
              "      <th>2</th>\n",
              "      <th>3</th>\n",
              "      <th>4</th>\n",
              "      <th>5</th>\n",
              "      <th>6</th>\n",
              "      <th>7</th>\n",
              "      <th>8</th>\n",
              "      <th>9</th>\n",
              "      <th>...</th>\n",
              "      <th>90</th>\n",
              "      <th>91</th>\n",
              "      <th>92</th>\n",
              "      <th>93</th>\n",
              "      <th>94</th>\n",
              "      <th>95</th>\n",
              "      <th>96</th>\n",
              "      <th>97</th>\n",
              "      <th>98</th>\n",
              "      <th>99</th>\n",
              "    </tr>\n",
              "  </thead>\n",
              "  <tbody>\n",
              "    <tr>\n",
              "      <th>91224</th>\n",
              "      <td>-0.372383</td>\n",
              "      <td>0.221127</td>\n",
              "      <td>0.418656</td>\n",
              "      <td>-0.075037</td>\n",
              "      <td>0.278601</td>\n",
              "      <td>0.282382</td>\n",
              "      <td>-0.179060</td>\n",
              "      <td>0.063454</td>\n",
              "      <td>-0.416448</td>\n",
              "      <td>0.017981</td>\n",
              "      <td>...</td>\n",
              "      <td>-0.318357</td>\n",
              "      <td>0.059500</td>\n",
              "      <td>-0.174866</td>\n",
              "      <td>0.281088</td>\n",
              "      <td>-0.411315</td>\n",
              "      <td>-0.156737</td>\n",
              "      <td>-0.283365</td>\n",
              "      <td>-0.481805</td>\n",
              "      <td>0.567332</td>\n",
              "      <td>0.058942</td>\n",
              "    </tr>\n",
              "    <tr>\n",
              "      <th>117728</th>\n",
              "      <td>0.016294</td>\n",
              "      <td>-0.113769</td>\n",
              "      <td>0.293257</td>\n",
              "      <td>-0.168054</td>\n",
              "      <td>0.222634</td>\n",
              "      <td>0.146599</td>\n",
              "      <td>0.070255</td>\n",
              "      <td>0.014296</td>\n",
              "      <td>-0.186127</td>\n",
              "      <td>0.057335</td>\n",
              "      <td>...</td>\n",
              "      <td>-0.083942</td>\n",
              "      <td>-0.180034</td>\n",
              "      <td>-0.202958</td>\n",
              "      <td>0.465693</td>\n",
              "      <td>-0.490053</td>\n",
              "      <td>0.123509</td>\n",
              "      <td>-0.455105</td>\n",
              "      <td>-0.099749</td>\n",
              "      <td>0.473420</td>\n",
              "      <td>-0.061285</td>\n",
              "    </tr>\n",
              "    <tr>\n",
              "      <th>316017</th>\n",
              "      <td>-0.073500</td>\n",
              "      <td>0.113797</td>\n",
              "      <td>0.029153</td>\n",
              "      <td>-0.429477</td>\n",
              "      <td>0.063771</td>\n",
              "      <td>0.347380</td>\n",
              "      <td>-0.124431</td>\n",
              "      <td>0.282229</td>\n",
              "      <td>-0.075735</td>\n",
              "      <td>0.068369</td>\n",
              "      <td>...</td>\n",
              "      <td>0.054707</td>\n",
              "      <td>-0.032472</td>\n",
              "      <td>-0.121287</td>\n",
              "      <td>0.100465</td>\n",
              "      <td>-0.510452</td>\n",
              "      <td>0.222725</td>\n",
              "      <td>-0.246233</td>\n",
              "      <td>-0.182647</td>\n",
              "      <td>0.495054</td>\n",
              "      <td>0.045244</td>\n",
              "    </tr>\n",
              "    <tr>\n",
              "      <th>7423</th>\n",
              "      <td>0.029224</td>\n",
              "      <td>-0.239776</td>\n",
              "      <td>0.132184</td>\n",
              "      <td>0.049248</td>\n",
              "      <td>0.145883</td>\n",
              "      <td>0.229183</td>\n",
              "      <td>-0.007984</td>\n",
              "      <td>0.014910</td>\n",
              "      <td>-0.091277</td>\n",
              "      <td>-0.008269</td>\n",
              "      <td>...</td>\n",
              "      <td>0.064875</td>\n",
              "      <td>-0.315753</td>\n",
              "      <td>-0.039297</td>\n",
              "      <td>0.541282</td>\n",
              "      <td>-0.457863</td>\n",
              "      <td>0.255201</td>\n",
              "      <td>-0.281852</td>\n",
              "      <td>-0.214106</td>\n",
              "      <td>0.434917</td>\n",
              "      <td>-0.177841</td>\n",
              "    </tr>\n",
              "    <tr>\n",
              "      <th>201052</th>\n",
              "      <td>-0.046389</td>\n",
              "      <td>-0.126177</td>\n",
              "      <td>0.413811</td>\n",
              "      <td>-0.052786</td>\n",
              "      <td>0.227497</td>\n",
              "      <td>0.208976</td>\n",
              "      <td>0.116180</td>\n",
              "      <td>0.549721</td>\n",
              "      <td>0.018257</td>\n",
              "      <td>0.237596</td>\n",
              "      <td>...</td>\n",
              "      <td>0.318063</td>\n",
              "      <td>-0.234182</td>\n",
              "      <td>-0.218740</td>\n",
              "      <td>0.573339</td>\n",
              "      <td>-0.420712</td>\n",
              "      <td>0.340783</td>\n",
              "      <td>-0.341281</td>\n",
              "      <td>-0.248862</td>\n",
              "      <td>0.539164</td>\n",
              "      <td>-0.111740</td>\n",
              "    </tr>\n",
              "  </tbody>\n",
              "</table>\n",
              "<p>5 rows × 100 columns</p>\n",
              "</div>\n",
              "      <button class=\"colab-df-convert\" onclick=\"convertToInteractive('df-a86eaa7e-ce74-485a-b8fe-61361da03663')\"\n",
              "              title=\"Convert this dataframe to an interactive table.\"\n",
              "              style=\"display:none;\">\n",
              "        \n",
              "  <svg xmlns=\"http://www.w3.org/2000/svg\" height=\"24px\"viewBox=\"0 0 24 24\"\n",
              "       width=\"24px\">\n",
              "    <path d=\"M0 0h24v24H0V0z\" fill=\"none\"/>\n",
              "    <path d=\"M18.56 5.44l.94 2.06.94-2.06 2.06-.94-2.06-.94-.94-2.06-.94 2.06-2.06.94zm-11 1L8.5 8.5l.94-2.06 2.06-.94-2.06-.94L8.5 2.5l-.94 2.06-2.06.94zm10 10l.94 2.06.94-2.06 2.06-.94-2.06-.94-.94-2.06-.94 2.06-2.06.94z\"/><path d=\"M17.41 7.96l-1.37-1.37c-.4-.4-.92-.59-1.43-.59-.52 0-1.04.2-1.43.59L10.3 9.45l-7.72 7.72c-.78.78-.78 2.05 0 2.83L4 21.41c.39.39.9.59 1.41.59.51 0 1.02-.2 1.41-.59l7.78-7.78 2.81-2.81c.8-.78.8-2.07 0-2.86zM5.41 20L4 18.59l7.72-7.72 1.47 1.35L5.41 20z\"/>\n",
              "  </svg>\n",
              "      </button>\n",
              "      \n",
              "  <style>\n",
              "    .colab-df-container {\n",
              "      display:flex;\n",
              "      flex-wrap:wrap;\n",
              "      gap: 12px;\n",
              "    }\n",
              "\n",
              "    .colab-df-convert {\n",
              "      background-color: #E8F0FE;\n",
              "      border: none;\n",
              "      border-radius: 50%;\n",
              "      cursor: pointer;\n",
              "      display: none;\n",
              "      fill: #1967D2;\n",
              "      height: 32px;\n",
              "      padding: 0 0 0 0;\n",
              "      width: 32px;\n",
              "    }\n",
              "\n",
              "    .colab-df-convert:hover {\n",
              "      background-color: #E2EBFA;\n",
              "      box-shadow: 0px 1px 2px rgba(60, 64, 67, 0.3), 0px 1px 3px 1px rgba(60, 64, 67, 0.15);\n",
              "      fill: #174EA6;\n",
              "    }\n",
              "\n",
              "    [theme=dark] .colab-df-convert {\n",
              "      background-color: #3B4455;\n",
              "      fill: #D2E3FC;\n",
              "    }\n",
              "\n",
              "    [theme=dark] .colab-df-convert:hover {\n",
              "      background-color: #434B5C;\n",
              "      box-shadow: 0px 1px 3px 1px rgba(0, 0, 0, 0.15);\n",
              "      filter: drop-shadow(0px 1px 2px rgba(0, 0, 0, 0.3));\n",
              "      fill: #FFFFFF;\n",
              "    }\n",
              "  </style>\n",
              "\n",
              "      <script>\n",
              "        const buttonEl =\n",
              "          document.querySelector('#df-a86eaa7e-ce74-485a-b8fe-61361da03663 button.colab-df-convert');\n",
              "        buttonEl.style.display =\n",
              "          google.colab.kernel.accessAllowed ? 'block' : 'none';\n",
              "\n",
              "        async function convertToInteractive(key) {\n",
              "          const element = document.querySelector('#df-a86eaa7e-ce74-485a-b8fe-61361da03663');\n",
              "          const dataTable =\n",
              "            await google.colab.kernel.invokeFunction('convertToInteractive',\n",
              "                                                     [key], {});\n",
              "          if (!dataTable) return;\n",
              "\n",
              "          const docLinkHtml = 'Like what you see? Visit the ' +\n",
              "            '<a target=\"_blank\" href=https://colab.research.google.com/notebooks/data_table.ipynb>data table notebook</a>'\n",
              "            + ' to learn more about interactive tables.';\n",
              "          element.innerHTML = '';\n",
              "          dataTable['output_type'] = 'display_data';\n",
              "          await google.colab.output.renderOutput(dataTable, element);\n",
              "          const docLink = document.createElement('div');\n",
              "          docLink.innerHTML = docLinkHtml;\n",
              "          element.appendChild(docLink);\n",
              "        }\n",
              "      </script>\n",
              "    </div>\n",
              "  </div>\n",
              "  "
            ]
          },
          "metadata": {},
          "execution_count": 66
        }
      ]
    },
    {
      "cell_type": "code",
      "source": [
        "X_train_emb.shape, y_train.shape,\n",
        "y_train.value_counts()\n",
        "\n",
        "# need to minmax scale to account for negative values\n",
        "scaler = MinMaxScaler()\n",
        "X_train_emb_mm = scaler.fit_transform(X_train_emb)"
      ],
      "metadata": {
        "id": "t3kaEjEKchUD"
      },
      "execution_count": 82,
      "outputs": []
    },
    {
      "cell_type": "code",
      "source": [
        "param_grid = {'alpha': [0.001, 0.01, 0.1, 1,5,10,50, 100]}\n",
        "grid_mnb_emb_rmse = GridSearchCV(MultinomialNB(), param_grid=param_grid, scoring='neg_root_mean_squared_error')\n",
        "grid_mnb_emb_rmse.fit(X_train_emb_mm,y_train)"
      ],
      "metadata": {
        "colab": {
          "base_uri": "https://localhost:8080/"
        },
        "id": "Fp99G5ugfMWz",
        "outputId": "da067e2b-81d8-49bd-edd0-d6260008eeb0"
      },
      "execution_count": 83,
      "outputs": [
        {
          "output_type": "execute_result",
          "data": {
            "text/plain": [
              "GridSearchCV(estimator=MultinomialNB(),\n",
              "             param_grid={'alpha': [0.001, 0.01, 0.1, 1, 5, 10, 50, 100]},\n",
              "             scoring='neg_root_mean_squared_error')"
            ]
          },
          "metadata": {},
          "execution_count": 83
        }
      ]
    },
    {
      "cell_type": "code",
      "source": [
        "grid_mnb_emb_rmse.best_params_"
      ],
      "metadata": {
        "colab": {
          "base_uri": "https://localhost:8080/"
        },
        "id": "N6okCcj5gJGA",
        "outputId": "6e4bd660-fbdf-4364-a217-2b33bc7c80f0"
      },
      "execution_count": 117,
      "outputs": [
        {
          "output_type": "execute_result",
          "data": {
            "text/plain": [
              "{'alpha': 0.001}"
            ]
          },
          "metadata": {},
          "execution_count": 117
        }
      ]
    },
    {
      "cell_type": "code",
      "source": [
        "X_test_indexes = X_test.index\n",
        "X_test_emb = new_df.iloc[X_test_indexes, 11:]\n",
        "X_test_emb.head()"
      ],
      "metadata": {
        "colab": {
          "base_uri": "https://localhost:8080/",
          "height": 297
        },
        "id": "DpsREpXeiHMq",
        "outputId": "93d1a276-495a-4dfd-acbd-9d85642fd318"
      },
      "execution_count": 118,
      "outputs": [
        {
          "output_type": "execute_result",
          "data": {
            "text/plain": [
              "              0         1         2         3         4         5         6   \\\n",
              "196765 -0.134667  0.025499  0.605408 -0.142896  0.224930  0.146406 -0.112239   \n",
              "145609 -0.192469 -0.093679  0.011399 -0.159907  0.044754  0.036562  0.155946   \n",
              "333830 -0.311302  0.039778  0.225935 -0.201649  0.011424  0.074522 -0.125043   \n",
              "336288 -0.380099  0.443796  0.144368 -0.375639  0.113398  0.103156  0.025571   \n",
              "247542  0.065042 -0.094369 -0.076231 -0.134464  0.070749 -0.113473  0.309885   \n",
              "\n",
              "              7         8         9   ...        90        91        92  \\\n",
              "196765  0.354988 -0.200989  0.126908  ...  0.128734 -0.230657 -0.215753   \n",
              "145609  0.087147 -0.483794  0.265962  ... -0.139071 -0.465861  0.015219   \n",
              "333830  0.201243 -0.256714  0.146596  ... -0.103598 -0.199864 -0.347926   \n",
              "336288  0.083744  0.009252  0.024838  ... -0.194815 -0.299893 -0.325558   \n",
              "247542  0.021841 -0.266192  0.028752  ... -0.157276 -0.087398 -0.043514   \n",
              "\n",
              "              93        94        95        96        97        98        99  \n",
              "196765  0.483835 -0.506831  0.305229 -0.107513 -0.405572  0.614295  0.012675  \n",
              "145609  0.435106 -0.449611  0.352325 -0.233354 -0.194380  0.376192 -0.104428  \n",
              "333830  0.103542 -0.473064 -0.029101 -0.413436 -0.341223  0.400815  0.056112  \n",
              "336288  0.076127 -0.872925 -0.149263 -0.243284 -0.575242  0.460948  0.142220  \n",
              "247542  0.452959 -0.353865 -0.060488 -0.446195 -0.124542  0.619706 -0.257405  \n",
              "\n",
              "[5 rows x 100 columns]"
            ],
            "text/html": [
              "\n",
              "  <div id=\"df-a5db9aac-6281-44ef-9552-17aef8c87f53\">\n",
              "    <div class=\"colab-df-container\">\n",
              "      <div>\n",
              "<style scoped>\n",
              "    .dataframe tbody tr th:only-of-type {\n",
              "        vertical-align: middle;\n",
              "    }\n",
              "\n",
              "    .dataframe tbody tr th {\n",
              "        vertical-align: top;\n",
              "    }\n",
              "\n",
              "    .dataframe thead th {\n",
              "        text-align: right;\n",
              "    }\n",
              "</style>\n",
              "<table border=\"1\" class=\"dataframe\">\n",
              "  <thead>\n",
              "    <tr style=\"text-align: right;\">\n",
              "      <th></th>\n",
              "      <th>0</th>\n",
              "      <th>1</th>\n",
              "      <th>2</th>\n",
              "      <th>3</th>\n",
              "      <th>4</th>\n",
              "      <th>5</th>\n",
              "      <th>6</th>\n",
              "      <th>7</th>\n",
              "      <th>8</th>\n",
              "      <th>9</th>\n",
              "      <th>...</th>\n",
              "      <th>90</th>\n",
              "      <th>91</th>\n",
              "      <th>92</th>\n",
              "      <th>93</th>\n",
              "      <th>94</th>\n",
              "      <th>95</th>\n",
              "      <th>96</th>\n",
              "      <th>97</th>\n",
              "      <th>98</th>\n",
              "      <th>99</th>\n",
              "    </tr>\n",
              "  </thead>\n",
              "  <tbody>\n",
              "    <tr>\n",
              "      <th>196765</th>\n",
              "      <td>-0.134667</td>\n",
              "      <td>0.025499</td>\n",
              "      <td>0.605408</td>\n",
              "      <td>-0.142896</td>\n",
              "      <td>0.224930</td>\n",
              "      <td>0.146406</td>\n",
              "      <td>-0.112239</td>\n",
              "      <td>0.354988</td>\n",
              "      <td>-0.200989</td>\n",
              "      <td>0.126908</td>\n",
              "      <td>...</td>\n",
              "      <td>0.128734</td>\n",
              "      <td>-0.230657</td>\n",
              "      <td>-0.215753</td>\n",
              "      <td>0.483835</td>\n",
              "      <td>-0.506831</td>\n",
              "      <td>0.305229</td>\n",
              "      <td>-0.107513</td>\n",
              "      <td>-0.405572</td>\n",
              "      <td>0.614295</td>\n",
              "      <td>0.012675</td>\n",
              "    </tr>\n",
              "    <tr>\n",
              "      <th>145609</th>\n",
              "      <td>-0.192469</td>\n",
              "      <td>-0.093679</td>\n",
              "      <td>0.011399</td>\n",
              "      <td>-0.159907</td>\n",
              "      <td>0.044754</td>\n",
              "      <td>0.036562</td>\n",
              "      <td>0.155946</td>\n",
              "      <td>0.087147</td>\n",
              "      <td>-0.483794</td>\n",
              "      <td>0.265962</td>\n",
              "      <td>...</td>\n",
              "      <td>-0.139071</td>\n",
              "      <td>-0.465861</td>\n",
              "      <td>0.015219</td>\n",
              "      <td>0.435106</td>\n",
              "      <td>-0.449611</td>\n",
              "      <td>0.352325</td>\n",
              "      <td>-0.233354</td>\n",
              "      <td>-0.194380</td>\n",
              "      <td>0.376192</td>\n",
              "      <td>-0.104428</td>\n",
              "    </tr>\n",
              "    <tr>\n",
              "      <th>333830</th>\n",
              "      <td>-0.311302</td>\n",
              "      <td>0.039778</td>\n",
              "      <td>0.225935</td>\n",
              "      <td>-0.201649</td>\n",
              "      <td>0.011424</td>\n",
              "      <td>0.074522</td>\n",
              "      <td>-0.125043</td>\n",
              "      <td>0.201243</td>\n",
              "      <td>-0.256714</td>\n",
              "      <td>0.146596</td>\n",
              "      <td>...</td>\n",
              "      <td>-0.103598</td>\n",
              "      <td>-0.199864</td>\n",
              "      <td>-0.347926</td>\n",
              "      <td>0.103542</td>\n",
              "      <td>-0.473064</td>\n",
              "      <td>-0.029101</td>\n",
              "      <td>-0.413436</td>\n",
              "      <td>-0.341223</td>\n",
              "      <td>0.400815</td>\n",
              "      <td>0.056112</td>\n",
              "    </tr>\n",
              "    <tr>\n",
              "      <th>336288</th>\n",
              "      <td>-0.380099</td>\n",
              "      <td>0.443796</td>\n",
              "      <td>0.144368</td>\n",
              "      <td>-0.375639</td>\n",
              "      <td>0.113398</td>\n",
              "      <td>0.103156</td>\n",
              "      <td>0.025571</td>\n",
              "      <td>0.083744</td>\n",
              "      <td>0.009252</td>\n",
              "      <td>0.024838</td>\n",
              "      <td>...</td>\n",
              "      <td>-0.194815</td>\n",
              "      <td>-0.299893</td>\n",
              "      <td>-0.325558</td>\n",
              "      <td>0.076127</td>\n",
              "      <td>-0.872925</td>\n",
              "      <td>-0.149263</td>\n",
              "      <td>-0.243284</td>\n",
              "      <td>-0.575242</td>\n",
              "      <td>0.460948</td>\n",
              "      <td>0.142220</td>\n",
              "    </tr>\n",
              "    <tr>\n",
              "      <th>247542</th>\n",
              "      <td>0.065042</td>\n",
              "      <td>-0.094369</td>\n",
              "      <td>-0.076231</td>\n",
              "      <td>-0.134464</td>\n",
              "      <td>0.070749</td>\n",
              "      <td>-0.113473</td>\n",
              "      <td>0.309885</td>\n",
              "      <td>0.021841</td>\n",
              "      <td>-0.266192</td>\n",
              "      <td>0.028752</td>\n",
              "      <td>...</td>\n",
              "      <td>-0.157276</td>\n",
              "      <td>-0.087398</td>\n",
              "      <td>-0.043514</td>\n",
              "      <td>0.452959</td>\n",
              "      <td>-0.353865</td>\n",
              "      <td>-0.060488</td>\n",
              "      <td>-0.446195</td>\n",
              "      <td>-0.124542</td>\n",
              "      <td>0.619706</td>\n",
              "      <td>-0.257405</td>\n",
              "    </tr>\n",
              "  </tbody>\n",
              "</table>\n",
              "<p>5 rows × 100 columns</p>\n",
              "</div>\n",
              "      <button class=\"colab-df-convert\" onclick=\"convertToInteractive('df-a5db9aac-6281-44ef-9552-17aef8c87f53')\"\n",
              "              title=\"Convert this dataframe to an interactive table.\"\n",
              "              style=\"display:none;\">\n",
              "        \n",
              "  <svg xmlns=\"http://www.w3.org/2000/svg\" height=\"24px\"viewBox=\"0 0 24 24\"\n",
              "       width=\"24px\">\n",
              "    <path d=\"M0 0h24v24H0V0z\" fill=\"none\"/>\n",
              "    <path d=\"M18.56 5.44l.94 2.06.94-2.06 2.06-.94-2.06-.94-.94-2.06-.94 2.06-2.06.94zm-11 1L8.5 8.5l.94-2.06 2.06-.94-2.06-.94L8.5 2.5l-.94 2.06-2.06.94zm10 10l.94 2.06.94-2.06 2.06-.94-2.06-.94-.94-2.06-.94 2.06-2.06.94z\"/><path d=\"M17.41 7.96l-1.37-1.37c-.4-.4-.92-.59-1.43-.59-.52 0-1.04.2-1.43.59L10.3 9.45l-7.72 7.72c-.78.78-.78 2.05 0 2.83L4 21.41c.39.39.9.59 1.41.59.51 0 1.02-.2 1.41-.59l7.78-7.78 2.81-2.81c.8-.78.8-2.07 0-2.86zM5.41 20L4 18.59l7.72-7.72 1.47 1.35L5.41 20z\"/>\n",
              "  </svg>\n",
              "      </button>\n",
              "      \n",
              "  <style>\n",
              "    .colab-df-container {\n",
              "      display:flex;\n",
              "      flex-wrap:wrap;\n",
              "      gap: 12px;\n",
              "    }\n",
              "\n",
              "    .colab-df-convert {\n",
              "      background-color: #E8F0FE;\n",
              "      border: none;\n",
              "      border-radius: 50%;\n",
              "      cursor: pointer;\n",
              "      display: none;\n",
              "      fill: #1967D2;\n",
              "      height: 32px;\n",
              "      padding: 0 0 0 0;\n",
              "      width: 32px;\n",
              "    }\n",
              "\n",
              "    .colab-df-convert:hover {\n",
              "      background-color: #E2EBFA;\n",
              "      box-shadow: 0px 1px 2px rgba(60, 64, 67, 0.3), 0px 1px 3px 1px rgba(60, 64, 67, 0.15);\n",
              "      fill: #174EA6;\n",
              "    }\n",
              "\n",
              "    [theme=dark] .colab-df-convert {\n",
              "      background-color: #3B4455;\n",
              "      fill: #D2E3FC;\n",
              "    }\n",
              "\n",
              "    [theme=dark] .colab-df-convert:hover {\n",
              "      background-color: #434B5C;\n",
              "      box-shadow: 0px 1px 3px 1px rgba(0, 0, 0, 0.15);\n",
              "      filter: drop-shadow(0px 1px 2px rgba(0, 0, 0, 0.3));\n",
              "      fill: #FFFFFF;\n",
              "    }\n",
              "  </style>\n",
              "\n",
              "      <script>\n",
              "        const buttonEl =\n",
              "          document.querySelector('#df-a5db9aac-6281-44ef-9552-17aef8c87f53 button.colab-df-convert');\n",
              "        buttonEl.style.display =\n",
              "          google.colab.kernel.accessAllowed ? 'block' : 'none';\n",
              "\n",
              "        async function convertToInteractive(key) {\n",
              "          const element = document.querySelector('#df-a5db9aac-6281-44ef-9552-17aef8c87f53');\n",
              "          const dataTable =\n",
              "            await google.colab.kernel.invokeFunction('convertToInteractive',\n",
              "                                                     [key], {});\n",
              "          if (!dataTable) return;\n",
              "\n",
              "          const docLinkHtml = 'Like what you see? Visit the ' +\n",
              "            '<a target=\"_blank\" href=https://colab.research.google.com/notebooks/data_table.ipynb>data table notebook</a>'\n",
              "            + ' to learn more about interactive tables.';\n",
              "          element.innerHTML = '';\n",
              "          dataTable['output_type'] = 'display_data';\n",
              "          await google.colab.output.renderOutput(dataTable, element);\n",
              "          const docLink = document.createElement('div');\n",
              "          docLink.innerHTML = docLinkHtml;\n",
              "          element.appendChild(docLink);\n",
              "        }\n",
              "      </script>\n",
              "    </div>\n",
              "  </div>\n",
              "  "
            ]
          },
          "metadata": {},
          "execution_count": 118
        }
      ]
    },
    {
      "cell_type": "code",
      "source": [
        "mnb = MultinomialNB(alpha=.001).fit(X_train_emb_mm, y_train)\n",
        "model_name = 'embedding NB alpha .001'\n",
        "X_test_emb_mm = scaler.transform(X_test_emb)\n",
        "compute_metrics(mnb,model_name,X_test_emb_mm, y_test)"
      ],
      "metadata": {
        "id": "k8oKxtz-irEq"
      },
      "execution_count": 119,
      "outputs": []
    },
    {
      "cell_type": "code",
      "source": [
        "metrics_df"
      ],
      "metadata": {
        "colab": {
          "base_uri": "https://localhost:8080/"
        },
        "id": "Eykqn2SljNEq",
        "outputId": "64886f76-42fb-492a-cf08-2e084e4a7950"
      },
      "execution_count": 120,
      "outputs": [
        {
          "output_type": "execute_result",
          "data": {
            "text/plain": [
              "{'model': ['Tf-idf NB alpha 5',\n",
              "  'embedding NB alpha 5',\n",
              "  'embedding NB alpha .001'],\n",
              " 'accuracy': [0.6302350886960042, 0.518915909608523, 0.518915909608523],\n",
              " 'precision': [0.6189553564220553, 0.518915909608523, 0.518915909608523],\n",
              " 'recall': [0.7477811372281283, 1.0, 1.0],\n",
              " 'aucprc': [(array([0.53178081, 0.53176867, 0.53178246, ..., 1.        , 1.        ,\n",
              "          1.        ]),\n",
              "   array([1.        , 0.99995123, 0.99995123, ..., 0.00214571, 0.00204818,\n",
              "          0.        ]),\n",
              "   array([0.13515109, 0.13575168, 0.13589074, ..., 0.99989217, 0.99989711,\n",
              "          0.99992042])),\n",
              "  (array([0.51894217, 0.51893   , 0.51894313, ..., 0.        , 0.        ,\n",
              "          1.        ]),\n",
              "   array([1.        , 0.99995123, 0.99995123, ..., 0.        , 0.        ,\n",
              "          0.        ]),\n",
              "   array([0.50679149, 0.50692259, 0.50782416, ..., 0.5355071 , 0.53665321,\n",
              "          0.5384297 ])),\n",
              "  (array([0.51894217, 0.51893   , 0.51894313, ..., 0.        , 0.        ,\n",
              "          1.        ]),\n",
              "   array([1.        , 0.99995123, 0.99995123, ..., 0.        , 0.        ,\n",
              "          0.        ]),\n",
              "   array([0.50679093, 0.50692217, 0.50782324, ..., 0.53551094, 0.53665765,\n",
              "          0.53843472]))],\n",
              " 'aucroc': [0.6960772870858367, 0.596901961203189, 0.5968998398176957]}"
            ]
          },
          "metadata": {},
          "execution_count": 120
        }
      ]
    },
    {
      "cell_type": "code",
      "source": [
        "# Sentence Embeddings + Mads Feaures"
      ],
      "metadata": {
        "id": "rmbhfQUnjWfY"
      },
      "execution_count": 89,
      "outputs": []
    },
    {
      "cell_type": "code",
      "source": [
        "mads_features_raw = new_df.iloc[X_train_indexes,2:10]\n",
        "msno.matrix(mads_features_raw)\n",
        "mads_features_raw.fillna(0,inplace=True)"
      ],
      "metadata": {
        "colab": {
          "base_uri": "https://localhost:8080/",
          "height": 706
        },
        "id": "j0km40jmjsbL",
        "outputId": "051a0990-4975-43c2-dae5-67fb4a063291"
      },
      "execution_count": 121,
      "outputs": [
        {
          "output_type": "display_data",
          "data": {
            "text/plain": [
              "<Figure size 1800x720 with 2 Axes>"
            ],
            "image/png": "[encoded data removed]"
          },
          "metadata": {
            "needs_background": "light"
          }
        }
      ]
    },
    {
      "cell_type": "code",
      "source": [
        "msno.matrix(mads_features_raw)"
      ],
      "metadata": {
        "colab": {
          "base_uri": "https://localhost:8080/",
          "height": 723
        },
        "id": "2OSr9Tyxj8gx",
        "outputId": "be13e944-3782-428e-8479-aab984e099bc"
      },
      "execution_count": 122,
      "outputs": [
        {
          "output_type": "execute_result",
          "data": {
            "text/plain": [
              "<matplotlib.axes._subplots.AxesSubplot at 0x7f9aa066f410>"
            ]
          },
          "metadata": {},
          "execution_count": 122
        },
        {
          "output_type": "display_data",
          "data": {
            "text/plain": [
              "<Figure size 1800x720 with 2 Axes>"
            ],
            "image/png": "[encoded data removed]"
          },
          "metadata": {
            "needs_background": "light"
          }
        }
      ]
    },
    {
      "cell_type": "code",
      "source": [
        "X_train_emb_mads = np.hstack((X_train_emb_mm,\n",
        "                              mads_features_raw))"
      ],
      "metadata": {
        "id": "Ia5hverBolYm"
      },
      "execution_count": 123,
      "outputs": []
    },
    {
      "cell_type": "code",
      "source": [
        "param_grid = {'alpha': [0.001,0.01, 0.1,1,2,3,4,5,6,7,8,9,10,50,100]}\n",
        "grid_mnb_embmads_rmse = GridSearchCV(MultinomialNB(), param_grid=param_grid, scoring='neg_root_mean_squared_error')\n",
        "grid_mnb_embmads_rmse.fit(X_train_emb_mads,y_train)"
      ],
      "metadata": {
        "colab": {
          "base_uri": "https://localhost:8080/"
        },
        "id": "QdHkacXblg14",
        "outputId": "870f637a-5133-41b9-a105-7e71f8135ca1"
      },
      "execution_count": 124,
      "outputs": [
        {
          "output_type": "execute_result",
          "data": {
            "text/plain": [
              "GridSearchCV(estimator=MultinomialNB(),\n",
              "             param_grid={'alpha': [0.001, 0.01, 0.1, 1, 2, 3, 4, 5, 6, 7, 8, 9,\n",
              "                                   10, 50, 100]},\n",
              "             scoring='neg_root_mean_squared_error')"
            ]
          },
          "metadata": {},
          "execution_count": 124
        }
      ]
    },
    {
      "cell_type": "code",
      "source": [
        "grid_mnb_embmads_rmse.best_params_"
      ],
      "metadata": {
        "colab": {
          "base_uri": "https://localhost:8080/"
        },
        "id": "Y7Gh6Q2Zl4hI",
        "outputId": "94875674-3ebd-490e-dbf1-bf813d92dfc2"
      },
      "execution_count": 125,
      "outputs": [
        {
          "output_type": "execute_result",
          "data": {
            "text/plain": [
              "{'alpha': 50}"
            ]
          },
          "metadata": {},
          "execution_count": 125
        }
      ]
    },
    {
      "cell_type": "code",
      "source": [
        "X_test_mads_features = new_df.iloc[X_test_indexes,2:10]\n",
        "msno.matrix(X_test_mads_features)"
      ],
      "metadata": {
        "colab": {
          "base_uri": "https://localhost:8080/",
          "height": 726
        },
        "id": "u_SqGuyWmK8R",
        "outputId": "8ce2f083-fecc-4802-e2cc-584ced649f0b"
      },
      "execution_count": 127,
      "outputs": [
        {
          "output_type": "execute_result",
          "data": {
            "text/plain": [
              "<matplotlib.axes._subplots.AxesSubplot at 0x7f9aa7a12ed0>"
            ]
          },
          "metadata": {},
          "execution_count": 127
        },
        {
          "output_type": "display_data",
          "data": {
            "text/plain": [
              "<Figure size 1800x720 with 2 Axes>"
            ],
            "image/png": "[encoded data removed]"
          },
          "metadata": {
            "needs_background": "light"
          }
        }
      ]
    },
    {
      "cell_type": "code",
      "source": [
        "# Confirm the number of nan values based on the conc_rating_mean and fill with 0 \n",
        "X_test_mads_features[X_test_mads_features['conc_rating_mean'].isna()==True]\n",
        "X_test_mads_features.fillna(0,inplace=True)"
      ],
      "metadata": {
        "id": "1ul4hZFWrIg9"
      },
      "execution_count": 131,
      "outputs": []
    },
    {
      "cell_type": "code",
      "source": [
        "X_test_emb_mads = np.hstack((X_test_emb_mm,\n",
        "                     X_test_mads_features))\n",
        "\n",
        "\n",
        "mnb = MultinomialNB(alpha=50).fit(X_train_emb_mads, y_train)\n",
        "model_name = 'embedding NB alpha 50'\n",
        "compute_metrics(mnb,model_name,X_test_emb_mads, y_test)"
      ],
      "metadata": {
        "id": "iAAy1f3Gm8yV"
      },
      "execution_count": 133,
      "outputs": []
    },
    {
      "cell_type": "code",
      "source": [],
      "metadata": {
        "id": "K8p7vIRgsSTp"
      },
      "execution_count": null,
      "outputs": []
    }
  ]
}