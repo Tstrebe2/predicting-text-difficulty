{
  "nbformat": 4,
  "nbformat_minor": 0,
  "metadata": {
    "colab": {
      "provenance": [],
      "collapsed_sections": [],
      "authorship_tag": "ABX9TyNOWcN8kv585D8xrlft4gin",
      "include_colab_link": true
    },
    "kernelspec": {
      "name": "python3",
      "display_name": "Python 3"
    },
    "language_info": {
      "name": "python"
    }
  },
  "cells": [
    {
      "cell_type": "markdown",
      "metadata": {
        "id": "view-in-github",
        "colab_type": "text"
      },
      "source": [
        "<a href=\"https://colab.research.google.com/github/Tstrebe2/predicting-text-difficulty/blob/dave-updates/code/dave_naive_bayes.ipynb\" target=\"_parent\"><img src=\"https://colab.research.google.com/assets/colab-badge.svg\" alt=\"Open In Colab\"/></a>"
      ]
    },
    {
      "cell_type": "code",
      "execution_count": 1,
      "metadata": {
        "id": "Ru6jXshMfhPz"
      },
      "outputs": [],
      "source": [
        "import pandas as pd\n",
        "import sys\n",
        "# !{sys.executable} -m pip install pyspark==3.1.2 -q\n",
        "# !{sys.executable} -m pip install spark-nlp==4.2.0 -q"
      ]
    },
    {
      "cell_type": "code",
      "source": [
        "from google.colab import drive\n",
        "drive.mount('/content/drive')"
      ],
      "metadata": {
        "colab": {
          "base_uri": "https://localhost:8080/"
        },
        "id": "qOe4T1jrfrRi",
        "outputId": "26654f8f-28c9-400e-83c5-3bcd94e28761"
      },
      "execution_count": 2,
      "outputs": [
        {
          "output_type": "stream",
          "name": "stdout",
          "text": [
            "Mounted at /content/drive\n"
          ]
        }
      ]
    },
    {
      "cell_type": "code",
      "source": [
        "df = pd.read_csv('drive/MyDrive/696/text_difficulty_features.csv',sep='\\t')\n",
        "df.head(5)"
      ],
      "metadata": {
        "colab": {
          "base_uri": "https://localhost:8080/",
          "height": 333
        },
        "id": "nAPWzl-bvHkX",
        "outputId": "88759f78-ce59-46ff-8e34-21acca831db0"
      },
      "execution_count": 3,
      "outputs": [
        {
          "output_type": "execute_result",
          "data": {
            "text/plain": [
              "                                       original_text  \\\n",
              "0  There is manuscript evidence that Austen conti...   \n",
              "1  In a remarkable comparative analysis , Mandaea...   \n",
              "2  Before Persephone was released to Hermes , who...   \n",
              "3  Cogeneration plants are commonly found in dist...   \n",
              "4  Geneva is the second-most-populous city in Swi...   \n",
              "\n",
              "                                     lemmatized_text  d_chall_score  aoa_mean  \\\n",
              "0  There be manuscript evidence that Austen conti...       8.533221  5.809310   \n",
              "1  In a remarkable comparative analysis , Mandaea...      12.320171  7.402308   \n",
              "2  Before Persephone be release to Hermes , who h...       5.931500  5.231351   \n",
              "3  Cogeneration plant be commonly find in distric...       7.015012  6.742000   \n",
              "4  Geneva be the second-most-populous city in Swi...       7.550745  5.455000   \n",
              "\n",
              "   aoa_min  aoa_max  conc_rating_mean  conc_rating_min  conc_rating_max  \\\n",
              "0     3.57    12.12          2.495517             1.33             4.57   \n",
              "1     2.89    11.94          2.334286             1.46             4.93   \n",
              "2     2.78    11.17          2.556486             1.43             4.86   \n",
              "3     3.56    11.53          3.369655             1.52             4.93   \n",
              "4     3.69    12.62          2.399333             1.43             4.79   \n",
              "\n",
              "   num_lemmas  label  \n",
              "0        38.0      1  \n",
              "1        21.0      1  \n",
              "2        40.0      1  \n",
              "3        32.0      1  \n",
              "4        22.0      1  "
            ],
            "text/html": [
              "\n",
              "  <div id=\"df-998cbd32-bb58-494d-b1ec-40708b66d16e\">\n",
              "    <div class=\"colab-df-container\">\n",
              "      <div>\n",
              "<style scoped>\n",
              "    .dataframe tbody tr th:only-of-type {\n",
              "        vertical-align: middle;\n",
              "    }\n",
              "\n",
              "    .dataframe tbody tr th {\n",
              "        vertical-align: top;\n",
              "    }\n",
              "\n",
              "    .dataframe thead th {\n",
              "        text-align: right;\n",
              "    }\n",
              "</style>\n",
              "<table border=\"1\" class=\"dataframe\">\n",
              "  <thead>\n",
              "    <tr style=\"text-align: right;\">\n",
              "      <th></th>\n",
              "      <th>original_text</th>\n",
              "      <th>lemmatized_text</th>\n",
              "      <th>d_chall_score</th>\n",
              "      <th>aoa_mean</th>\n",
              "      <th>aoa_min</th>\n",
              "      <th>aoa_max</th>\n",
              "      <th>conc_rating_mean</th>\n",
              "      <th>conc_rating_min</th>\n",
              "      <th>conc_rating_max</th>\n",
              "      <th>num_lemmas</th>\n",
              "      <th>label</th>\n",
              "    </tr>\n",
              "  </thead>\n",
              "  <tbody>\n",
              "    <tr>\n",
              "      <th>0</th>\n",
              "      <td>There is manuscript evidence that Austen conti...</td>\n",
              "      <td>There be manuscript evidence that Austen conti...</td>\n",
              "      <td>8.533221</td>\n",
              "      <td>5.809310</td>\n",
              "      <td>3.57</td>\n",
              "      <td>12.12</td>\n",
              "      <td>2.495517</td>\n",
              "      <td>1.33</td>\n",
              "      <td>4.57</td>\n",
              "      <td>38.0</td>\n",
              "      <td>1</td>\n",
              "    </tr>\n",
              "    <tr>\n",
              "      <th>1</th>\n",
              "      <td>In a remarkable comparative analysis , Mandaea...</td>\n",
              "      <td>In a remarkable comparative analysis , Mandaea...</td>\n",
              "      <td>12.320171</td>\n",
              "      <td>7.402308</td>\n",
              "      <td>2.89</td>\n",
              "      <td>11.94</td>\n",
              "      <td>2.334286</td>\n",
              "      <td>1.46</td>\n",
              "      <td>4.93</td>\n",
              "      <td>21.0</td>\n",
              "      <td>1</td>\n",
              "    </tr>\n",
              "    <tr>\n",
              "      <th>2</th>\n",
              "      <td>Before Persephone was released to Hermes , who...</td>\n",
              "      <td>Before Persephone be release to Hermes , who h...</td>\n",
              "      <td>5.931500</td>\n",
              "      <td>5.231351</td>\n",
              "      <td>2.78</td>\n",
              "      <td>11.17</td>\n",
              "      <td>2.556486</td>\n",
              "      <td>1.43</td>\n",
              "      <td>4.86</td>\n",
              "      <td>40.0</td>\n",
              "      <td>1</td>\n",
              "    </tr>\n",
              "    <tr>\n",
              "      <th>3</th>\n",
              "      <td>Cogeneration plants are commonly found in dist...</td>\n",
              "      <td>Cogeneration plant be commonly find in distric...</td>\n",
              "      <td>7.015012</td>\n",
              "      <td>6.742000</td>\n",
              "      <td>3.56</td>\n",
              "      <td>11.53</td>\n",
              "      <td>3.369655</td>\n",
              "      <td>1.52</td>\n",
              "      <td>4.93</td>\n",
              "      <td>32.0</td>\n",
              "      <td>1</td>\n",
              "    </tr>\n",
              "    <tr>\n",
              "      <th>4</th>\n",
              "      <td>Geneva is the second-most-populous city in Swi...</td>\n",
              "      <td>Geneva be the second-most-populous city in Swi...</td>\n",
              "      <td>7.550745</td>\n",
              "      <td>5.455000</td>\n",
              "      <td>3.69</td>\n",
              "      <td>12.62</td>\n",
              "      <td>2.399333</td>\n",
              "      <td>1.43</td>\n",
              "      <td>4.79</td>\n",
              "      <td>22.0</td>\n",
              "      <td>1</td>\n",
              "    </tr>\n",
              "  </tbody>\n",
              "</table>\n",
              "</div>\n",
              "      <button class=\"colab-df-convert\" onclick=\"convertToInteractive('df-998cbd32-bb58-494d-b1ec-40708b66d16e')\"\n",
              "              title=\"Convert this dataframe to an interactive table.\"\n",
              "              style=\"display:none;\">\n",
              "        \n",
              "  <svg xmlns=\"http://www.w3.org/2000/svg\" height=\"24px\"viewBox=\"0 0 24 24\"\n",
              "       width=\"24px\">\n",
              "    <path d=\"M0 0h24v24H0V0z\" fill=\"none\"/>\n",
              "    <path d=\"M18.56 5.44l.94 2.06.94-2.06 2.06-.94-2.06-.94-.94-2.06-.94 2.06-2.06.94zm-11 1L8.5 8.5l.94-2.06 2.06-.94-2.06-.94L8.5 2.5l-.94 2.06-2.06.94zm10 10l.94 2.06.94-2.06 2.06-.94-2.06-.94-.94-2.06-.94 2.06-2.06.94z\"/><path d=\"M17.41 7.96l-1.37-1.37c-.4-.4-.92-.59-1.43-.59-.52 0-1.04.2-1.43.59L10.3 9.45l-7.72 7.72c-.78.78-.78 2.05 0 2.83L4 21.41c.39.39.9.59 1.41.59.51 0 1.02-.2 1.41-.59l7.78-7.78 2.81-2.81c.8-.78.8-2.07 0-2.86zM5.41 20L4 18.59l7.72-7.72 1.47 1.35L5.41 20z\"/>\n",
              "  </svg>\n",
              "      </button>\n",
              "      \n",
              "  <style>\n",
              "    .colab-df-container {\n",
              "      display:flex;\n",
              "      flex-wrap:wrap;\n",
              "      gap: 12px;\n",
              "    }\n",
              "\n",
              "    .colab-df-convert {\n",
              "      background-color: #E8F0FE;\n",
              "      border: none;\n",
              "      border-radius: 50%;\n",
              "      cursor: pointer;\n",
              "      display: none;\n",
              "      fill: #1967D2;\n",
              "      height: 32px;\n",
              "      padding: 0 0 0 0;\n",
              "      width: 32px;\n",
              "    }\n",
              "\n",
              "    .colab-df-convert:hover {\n",
              "      background-color: #E2EBFA;\n",
              "      box-shadow: 0px 1px 2px rgba(60, 64, 67, 0.3), 0px 1px 3px 1px rgba(60, 64, 67, 0.15);\n",
              "      fill: #174EA6;\n",
              "    }\n",
              "\n",
              "    [theme=dark] .colab-df-convert {\n",
              "      background-color: #3B4455;\n",
              "      fill: #D2E3FC;\n",
              "    }\n",
              "\n",
              "    [theme=dark] .colab-df-convert:hover {\n",
              "      background-color: #434B5C;\n",
              "      box-shadow: 0px 1px 3px 1px rgba(0, 0, 0, 0.15);\n",
              "      filter: drop-shadow(0px 1px 2px rgba(0, 0, 0, 0.3));\n",
              "      fill: #FFFFFF;\n",
              "    }\n",
              "  </style>\n",
              "\n",
              "      <script>\n",
              "        const buttonEl =\n",
              "          document.querySelector('#df-998cbd32-bb58-494d-b1ec-40708b66d16e button.colab-df-convert');\n",
              "        buttonEl.style.display =\n",
              "          google.colab.kernel.accessAllowed ? 'block' : 'none';\n",
              "\n",
              "        async function convertToInteractive(key) {\n",
              "          const element = document.querySelector('#df-998cbd32-bb58-494d-b1ec-40708b66d16e');\n",
              "          const dataTable =\n",
              "            await google.colab.kernel.invokeFunction('convertToInteractive',\n",
              "                                                     [key], {});\n",
              "          if (!dataTable) return;\n",
              "\n",
              "          const docLinkHtml = 'Like what you see? Visit the ' +\n",
              "            '<a target=\"_blank\" href=https://colab.research.google.com/notebooks/data_table.ipynb>data table notebook</a>'\n",
              "            + ' to learn more about interactive tables.';\n",
              "          element.innerHTML = '';\n",
              "          dataTable['output_type'] = 'display_data';\n",
              "          await google.colab.output.renderOutput(dataTable, element);\n",
              "          const docLink = document.createElement('div');\n",
              "          docLink.innerHTML = docLinkHtml;\n",
              "          element.appendChild(docLink);\n",
              "        }\n",
              "      </script>\n",
              "    </div>\n",
              "  </div>\n",
              "  "
            ]
          },
          "metadata": {},
          "execution_count": 3
        }
      ]
    },
    {
      "cell_type": "code",
      "source": [
        "df.dtypes"
      ],
      "metadata": {
        "colab": {
          "base_uri": "https://localhost:8080/"
        },
        "id": "lJ5NbL9Cx73g",
        "outputId": "bc676b7e-6451-421c-f716-9169e93863d2"
      },
      "execution_count": 4,
      "outputs": [
        {
          "output_type": "execute_result",
          "data": {
            "text/plain": [
              "original_text        object\n",
              "lemmatized_text      object\n",
              "d_chall_score       float64\n",
              "aoa_mean            float64\n",
              "aoa_min             float64\n",
              "aoa_max             float64\n",
              "conc_rating_mean    float64\n",
              "conc_rating_min     float64\n",
              "conc_rating_max     float64\n",
              "num_lemmas          float64\n",
              "label                 int64\n",
              "dtype: object"
            ]
          },
          "metadata": {},
          "execution_count": 4
        }
      ]
    },
    {
      "cell_type": "code",
      "source": [
        "# Extract only the columns we'll use for the classifier\n",
        "df = df[df.columns[:]]"
      ],
      "metadata": {
        "id": "WsO4yqW-xDs9"
      },
      "execution_count": 5,
      "outputs": []
    },
    {
      "cell_type": "code",
      "source": [
        "from sklearn.model_selection import train_test_split"
      ],
      "metadata": {
        "id": "0xY2TPwArPvC"
      },
      "execution_count": 6,
      "outputs": []
    },
    {
      "cell_type": "code",
      "source": [
        "X = df[df.columns[:-1]]\n",
        "y = df.label\n",
        "\n",
        "X_train, X_test, y_train, y_test = train_test_split(X,y,\n",
        "                                                    test_size=.1,\n",
        "                                                    stratify=y,\n",
        "                                                    random_state=99)"
      ],
      "metadata": {
        "id": "41_T1KQ7rT-R"
      },
      "execution_count": 7,
      "outputs": []
    },
    {
      "cell_type": "code",
      "source": [
        "#  Training_Set = pd.concat([X_train, pd.DataFrame(y_train)], axis=1)\n",
        "#  Testing_Set = pd.concat([X_test, pd.DataFrame(y_test)], axis=1)\n",
        "#  Testing_Set.to_csv('drive/Shareddrives/Milestone 2/Testing_set.csv', sep='\\t', index=False)\n",
        "# #  Training_Set.to_csv('drive/Shareddrives/Milestone 2/Training_set.csv', sep='\\t', index=False)\n",
        "\n",
        "X_train = pd.read_csv('drive/Shareddrives/Milestone 2/Training_set.csv', sep='\\t')\n",
        "X_train.set_index('Unnamed: 0', inplace=True)\n",
        "X_train.index.names = ['index']\n",
        "\n",
        "\n"
      ],
      "metadata": {
        "id": "c1zfSVg8ybmZ"
      },
      "execution_count": 19,
      "outputs": []
    },
    {
      "cell_type": "code",
      "source": [
        "X_train.shape"
      ],
      "metadata": {
        "colab": {
          "base_uri": "https://localhost:8080/"
        },
        "id": "ETG3be8tZXUn",
        "outputId": "060e2125-a436-4fe3-e822-5d972d765920"
      },
      "execution_count": 72,
      "outputs": [
        {
          "output_type": "execute_result",
          "data": {
            "text/plain": [
              "(355652, 10)"
            ]
          },
          "metadata": {},
          "execution_count": 72
        }
      ]
    },
    {
      "cell_type": "code",
      "source": [
        "X_train.head()"
      ],
      "metadata": {
        "colab": {
          "base_uri": "https://localhost:8080/",
          "height": 235
        },
        "id": "4X79FHTfZ3NC",
        "outputId": "55b68fa9-01ba-4188-c975-020545139112"
      },
      "execution_count": 20,
      "outputs": [
        {
          "output_type": "execute_result",
          "data": {
            "text/plain": [
              "                                          lemmatized_text  d_chall_score  \\\n",
              "index                                                                      \n",
              "91224   For instance the number of k-permutations of n...       4.542700   \n",
              "117728  Singer and bass player Roger Waters gradually ...       7.556000   \n",
              "316017  Other page 2005 Macquarie Fields riot 2005 Cro...      10.714000   \n",
              "7423    Saint-Denis be founded by Ã tienne RÃ gnault i...       8.887000   \n",
              "201052  Pougny be a commune in the Ain department in e...       7.722873   \n",
              "\n",
              "        aoa_mean  aoa_min  aoa_max  conc_rating_mean  conc_rating_min  \\\n",
              "index                                                                   \n",
              "91224   5.140000     3.94     9.57          2.577500             1.43   \n",
              "117728  5.835000     3.69    11.11          2.637727             1.33   \n",
              "316017  6.456250     3.89    10.00          3.042500             1.43   \n",
              "7423    5.613637     3.69     9.39          2.545454             1.43   \n",
              "201052  6.232500     2.89    12.05          2.505000             1.43   \n",
              "\n",
              "        conc_rating_max  num_lemmas  label  \n",
              "index                                       \n",
              "91224              4.55        12.0      1  \n",
              "117728             4.62        25.0      1  \n",
              "316017             4.90        25.0      0  \n",
              "7423               4.96        20.0      1  \n",
              "201052             3.30        11.0      1  "
            ],
            "text/html": [
              "\n",
              "  <div id=\"df-6d2260fd-04cc-4a47-af27-19bd3e97577a\">\n",
              "    <div class=\"colab-df-container\">\n",
              "      <div>\n",
              "<style scoped>\n",
              "    .dataframe tbody tr th:only-of-type {\n",
              "        vertical-align: middle;\n",
              "    }\n",
              "\n",
              "    .dataframe tbody tr th {\n",
              "        vertical-align: top;\n",
              "    }\n",
              "\n",
              "    .dataframe thead th {\n",
              "        text-align: right;\n",
              "    }\n",
              "</style>\n",
              "<table border=\"1\" class=\"dataframe\">\n",
              "  <thead>\n",
              "    <tr style=\"text-align: right;\">\n",
              "      <th></th>\n",
              "      <th>lemmatized_text</th>\n",
              "      <th>d_chall_score</th>\n",
              "      <th>aoa_mean</th>\n",
              "      <th>aoa_min</th>\n",
              "      <th>aoa_max</th>\n",
              "      <th>conc_rating_mean</th>\n",
              "      <th>conc_rating_min</th>\n",
              "      <th>conc_rating_max</th>\n",
              "      <th>num_lemmas</th>\n",
              "      <th>label</th>\n",
              "    </tr>\n",
              "    <tr>\n",
              "      <th>index</th>\n",
              "      <th></th>\n",
              "      <th></th>\n",
              "      <th></th>\n",
              "      <th></th>\n",
              "      <th></th>\n",
              "      <th></th>\n",
              "      <th></th>\n",
              "      <th></th>\n",
              "      <th></th>\n",
              "      <th></th>\n",
              "    </tr>\n",
              "  </thead>\n",
              "  <tbody>\n",
              "    <tr>\n",
              "      <th>91224</th>\n",
              "      <td>For instance the number of k-permutations of n...</td>\n",
              "      <td>4.542700</td>\n",
              "      <td>5.140000</td>\n",
              "      <td>3.94</td>\n",
              "      <td>9.57</td>\n",
              "      <td>2.577500</td>\n",
              "      <td>1.43</td>\n",
              "      <td>4.55</td>\n",
              "      <td>12.0</td>\n",
              "      <td>1</td>\n",
              "    </tr>\n",
              "    <tr>\n",
              "      <th>117728</th>\n",
              "      <td>Singer and bass player Roger Waters gradually ...</td>\n",
              "      <td>7.556000</td>\n",
              "      <td>5.835000</td>\n",
              "      <td>3.69</td>\n",
              "      <td>11.11</td>\n",
              "      <td>2.637727</td>\n",
              "      <td>1.33</td>\n",
              "      <td>4.62</td>\n",
              "      <td>25.0</td>\n",
              "      <td>1</td>\n",
              "    </tr>\n",
              "    <tr>\n",
              "      <th>316017</th>\n",
              "      <td>Other page 2005 Macquarie Fields riot 2005 Cro...</td>\n",
              "      <td>10.714000</td>\n",
              "      <td>6.456250</td>\n",
              "      <td>3.89</td>\n",
              "      <td>10.00</td>\n",
              "      <td>3.042500</td>\n",
              "      <td>1.43</td>\n",
              "      <td>4.90</td>\n",
              "      <td>25.0</td>\n",
              "      <td>0</td>\n",
              "    </tr>\n",
              "    <tr>\n",
              "      <th>7423</th>\n",
              "      <td>Saint-Denis be founded by Ã tienne RÃ gnault i...</td>\n",
              "      <td>8.887000</td>\n",
              "      <td>5.613637</td>\n",
              "      <td>3.69</td>\n",
              "      <td>9.39</td>\n",
              "      <td>2.545454</td>\n",
              "      <td>1.43</td>\n",
              "      <td>4.96</td>\n",
              "      <td>20.0</td>\n",
              "      <td>1</td>\n",
              "    </tr>\n",
              "    <tr>\n",
              "      <th>201052</th>\n",
              "      <td>Pougny be a commune in the Ain department in e...</td>\n",
              "      <td>7.722873</td>\n",
              "      <td>6.232500</td>\n",
              "      <td>2.89</td>\n",
              "      <td>12.05</td>\n",
              "      <td>2.505000</td>\n",
              "      <td>1.43</td>\n",
              "      <td>3.30</td>\n",
              "      <td>11.0</td>\n",
              "      <td>1</td>\n",
              "    </tr>\n",
              "  </tbody>\n",
              "</table>\n",
              "</div>\n",
              "      <button class=\"colab-df-convert\" onclick=\"convertToInteractive('df-6d2260fd-04cc-4a47-af27-19bd3e97577a')\"\n",
              "              title=\"Convert this dataframe to an interactive table.\"\n",
              "              style=\"display:none;\">\n",
              "        \n",
              "  <svg xmlns=\"http://www.w3.org/2000/svg\" height=\"24px\"viewBox=\"0 0 24 24\"\n",
              "       width=\"24px\">\n",
              "    <path d=\"M0 0h24v24H0V0z\" fill=\"none\"/>\n",
              "    <path d=\"M18.56 5.44l.94 2.06.94-2.06 2.06-.94-2.06-.94-.94-2.06-.94 2.06-2.06.94zm-11 1L8.5 8.5l.94-2.06 2.06-.94-2.06-.94L8.5 2.5l-.94 2.06-2.06.94zm10 10l.94 2.06.94-2.06 2.06-.94-2.06-.94-.94-2.06-.94 2.06-2.06.94z\"/><path d=\"M17.41 7.96l-1.37-1.37c-.4-.4-.92-.59-1.43-.59-.52 0-1.04.2-1.43.59L10.3 9.45l-7.72 7.72c-.78.78-.78 2.05 0 2.83L4 21.41c.39.39.9.59 1.41.59.51 0 1.02-.2 1.41-.59l7.78-7.78 2.81-2.81c.8-.78.8-2.07 0-2.86zM5.41 20L4 18.59l7.72-7.72 1.47 1.35L5.41 20z\"/>\n",
              "  </svg>\n",
              "      </button>\n",
              "      \n",
              "  <style>\n",
              "    .colab-df-container {\n",
              "      display:flex;\n",
              "      flex-wrap:wrap;\n",
              "      gap: 12px;\n",
              "    }\n",
              "\n",
              "    .colab-df-convert {\n",
              "      background-color: #E8F0FE;\n",
              "      border: none;\n",
              "      border-radius: 50%;\n",
              "      cursor: pointer;\n",
              "      display: none;\n",
              "      fill: #1967D2;\n",
              "      height: 32px;\n",
              "      padding: 0 0 0 0;\n",
              "      width: 32px;\n",
              "    }\n",
              "\n",
              "    .colab-df-convert:hover {\n",
              "      background-color: #E2EBFA;\n",
              "      box-shadow: 0px 1px 2px rgba(60, 64, 67, 0.3), 0px 1px 3px 1px rgba(60, 64, 67, 0.15);\n",
              "      fill: #174EA6;\n",
              "    }\n",
              "\n",
              "    [theme=dark] .colab-df-convert {\n",
              "      background-color: #3B4455;\n",
              "      fill: #D2E3FC;\n",
              "    }\n",
              "\n",
              "    [theme=dark] .colab-df-convert:hover {\n",
              "      background-color: #434B5C;\n",
              "      box-shadow: 0px 1px 3px 1px rgba(0, 0, 0, 0.15);\n",
              "      filter: drop-shadow(0px 1px 2px rgba(0, 0, 0, 0.3));\n",
              "      fill: #FFFFFF;\n",
              "    }\n",
              "  </style>\n",
              "\n",
              "      <script>\n",
              "        const buttonEl =\n",
              "          document.querySelector('#df-6d2260fd-04cc-4a47-af27-19bd3e97577a button.colab-df-convert');\n",
              "        buttonEl.style.display =\n",
              "          google.colab.kernel.accessAllowed ? 'block' : 'none';\n",
              "\n",
              "        async function convertToInteractive(key) {\n",
              "          const element = document.querySelector('#df-6d2260fd-04cc-4a47-af27-19bd3e97577a');\n",
              "          const dataTable =\n",
              "            await google.colab.kernel.invokeFunction('convertToInteractive',\n",
              "                                                     [key], {});\n",
              "          if (!dataTable) return;\n",
              "\n",
              "          const docLinkHtml = 'Like what you see? Visit the ' +\n",
              "            '<a target=\"_blank\" href=https://colab.research.google.com/notebooks/data_table.ipynb>data table notebook</a>'\n",
              "            + ' to learn more about interactive tables.';\n",
              "          element.innerHTML = '';\n",
              "          dataTable['output_type'] = 'display_data';\n",
              "          await google.colab.output.renderOutput(dataTable, element);\n",
              "          const docLink = document.createElement('div');\n",
              "          docLink.innerHTML = docLinkHtml;\n",
              "          element.appendChild(docLink);\n",
              "        }\n",
              "      </script>\n",
              "    </div>\n",
              "  </div>\n",
              "  "
            ]
          },
          "metadata": {},
          "execution_count": 20
        }
      ]
    },
    {
      "cell_type": "code",
      "source": [
        "metrics_df = {\"model\":[],\n",
        "              \"accuracy\": [],\n",
        "              \"precision\": [],\n",
        "              \"recall\": [],\n",
        "              \"aucprc\":[],\n",
        "              \"aucroc\": []}"
      ],
      "metadata": {
        "id": "he_GFBweIVTp"
      },
      "execution_count": 21,
      "outputs": []
    },
    {
      "cell_type": "code",
      "source": [
        "from sklearn. metrics import precision_score, recall_score, precision_recall_curve, roc_auc_score"
      ],
      "metadata": {
        "id": "NJOAPORP-FEP"
      },
      "execution_count": 22,
      "outputs": []
    },
    {
      "cell_type": "code",
      "source": [
        "from sklearn.metrics._plot.precision_recall_curve import plot_precision_recall_curve\n"
      ],
      "metadata": {
        "id": "G6paptc-82i0"
      },
      "execution_count": 23,
      "outputs": []
    },
    {
      "cell_type": "code",
      "source": [
        "def compute_metrics(model,model_name, X_test_vec, y_test):\n",
        "    # extract the model's hyperparameters and make that part of the identifier for the model \n",
        "\n",
        "    y_pred = model.predict(X_test_vec)\n",
        "    acc = model.score(X_test_vec, y_test)\n",
        "    recall = recall_score(y_test,y_pred)\n",
        "    precision = precision_score(y_test, y_pred)\n",
        "    y_proba = model.predict_proba(X_test_vec)[:,1]\n",
        "    prc = precision_recall_curve(y_test, y_proba)\n",
        "    roc = roc_auc = roc_auc_score(y_test, y_proba)\n",
        "    \n",
        "    metrics_df['model'].append(model_name)\n",
        "    metrics_df['accuracy'].append(acc)\n",
        "    metrics_df['recall'].append(recall)\n",
        "    metrics_df['precision'].append(precision)\n",
        "    metrics_df['aucprc'].append(prc)\n",
        "    metrics_df['aucroc'].append(roc)\n",
        "\n",
        "\n",
        "\n",
        "\n",
        "\n",
        "\n"
      ],
      "metadata": {
        "id": "p4bRROwoIa0R"
      },
      "execution_count": 24,
      "outputs": []
    },
    {
      "cell_type": "code",
      "source": [
        "# NaiveBayes Classifier Baseline\n",
        "from sklearn.naive_bayes import MultinomialNB\n",
        "from sklearn.feature_extraction.text import TfidfVectorizer"
      ],
      "metadata": {
        "id": "qwyszJP3fv9N"
      },
      "execution_count": 25,
      "outputs": []
    },
    {
      "cell_type": "code",
      "source": [
        "tf_vec = TfidfVectorizer(min_df = 20,\n",
        "                         stop_words='english',\n",
        "                         ngram_range=(1, 3))"
      ],
      "metadata": {
        "id": "arO-5lBKgLP8"
      },
      "execution_count": 26,
      "outputs": []
    },
    {
      "cell_type": "code",
      "source": [
        "X_train_vec = tf_vec.fit_transform(X_train['lemmatized_text'])"
      ],
      "metadata": {
        "id": "J6Uznh5UgwHR"
      },
      "execution_count": 27,
      "outputs": []
    },
    {
      "cell_type": "code",
      "source": [
        "from sklearn.model_selection import GridSearchCV\n"
      ],
      "metadata": {
        "id": "cwuUoN2s0kC6"
      },
      "execution_count": 28,
      "outputs": []
    },
    {
      "cell_type": "code",
      "source": [
        "param_grid = {'alpha': [0.001, 0.01, 0.1, 1,5,10,50, 100]}\n",
        "grid_mnb_rmse = GridSearchCV(MultinomialNB(), param_grid=param_grid, scoring='neg_root_mean_squared_error')\n",
        "grid_mnb_rmse.fit(X_train_vec,y_train)"
      ],
      "metadata": {
        "colab": {
          "base_uri": "https://localhost:8080/"
        },
        "id": "8MRCXCEx0vpa",
        "outputId": "807f03c6-139d-4953-9597-508642d0175f"
      },
      "execution_count": 29,
      "outputs": [
        {
          "output_type": "execute_result",
          "data": {
            "text/plain": [
              "GridSearchCV(estimator=MultinomialNB(),\n",
              "             param_grid={'alpha': [0.001, 0.01, 0.1, 1, 5, 10, 50, 100]},\n",
              "             scoring='neg_root_mean_squared_error')"
            ]
          },
          "metadata": {},
          "execution_count": 29
        }
      ]
    },
    {
      "cell_type": "code",
      "source": [
        "grid_mnb_rmse.cv_results_"
      ],
      "metadata": {
        "colab": {
          "base_uri": "https://localhost:8080/"
        },
        "id": "KKkMO48gAf6e",
        "outputId": "bbc811fc-6b05-4630-effe-08aa5cc9e9a4"
      },
      "execution_count": 30,
      "outputs": [
        {
          "output_type": "execute_result",
          "data": {
            "text/plain": [
              "{'mean_fit_time': array([0.11542873, 0.11243043, 0.11041946, 0.11563869, 0.11197958,\n",
              "        0.11251965, 0.11066856, 0.10885715]),\n",
              " 'std_fit_time': array([0.00351629, 0.00452007, 0.00338808, 0.00552754, 0.00321628,\n",
              "        0.00757919, 0.0039514 , 0.00062777]),\n",
              " 'mean_score_time': array([0.01148744, 0.00915198, 0.01023126, 0.00896487, 0.01046214,\n",
              "        0.00928936, 0.00882764, 0.00991664]),\n",
              " 'std_score_time': array([2.02283770e-03, 5.96188326e-04, 1.67228171e-03, 7.63277039e-05,\n",
              "        2.08248910e-03, 4.18535911e-04, 1.14221004e-04, 2.29967208e-03]),\n",
              " 'param_alpha': masked_array(data=[0.001, 0.01, 0.1, 1, 5, 10, 50, 100],\n",
              "              mask=[False, False, False, False, False, False, False, False],\n",
              "        fill_value='?',\n",
              "             dtype=object),\n",
              " 'params': [{'alpha': 0.001},\n",
              "  {'alpha': 0.01},\n",
              "  {'alpha': 0.1},\n",
              "  {'alpha': 1},\n",
              "  {'alpha': 5},\n",
              "  {'alpha': 10},\n",
              "  {'alpha': 50},\n",
              "  {'alpha': 100}],\n",
              " 'split0_test_score': array([-0.61250873, -0.6124743 , -0.61216435, -0.61048558, -0.60837482,\n",
              "        -0.60935613, -0.63030237, -0.64165351]),\n",
              " 'split1_test_score': array([-0.61287586, -0.61287586, -0.61263496, -0.61072733, -0.60911384,\n",
              "        -0.60954068, -0.63218429, -0.64187257]),\n",
              " 'split2_test_score': array([-0.61441515, -0.61436938, -0.61436938, -0.61258189, -0.60954496,\n",
              "        -0.61128384, -0.6316214 , -0.64310245]),\n",
              " 'split3_test_score': array([-0.61257042, -0.61245565, -0.61230643, -0.61089274, -0.60955649,\n",
              "        -0.61088123, -0.63272222, -0.64278539]),\n",
              " 'split4_test_score': array([-0.61399169, -0.61395735, -0.6138772 , -0.61277693, -0.61053592,\n",
              "        -0.61181258, -0.63228879, -0.64311339]),\n",
              " 'mean_test_score': array([-0.61327237, -0.61322651, -0.61307046, -0.61149289, -0.60942521,\n",
              "        -0.61057489, -0.63182381, -0.64250546]),\n",
              " 'std_test_score': array([0.00078185, 0.00079035, 0.00088685, 0.00097935, 0.00070222,\n",
              "        0.00096781, 0.00083774, 0.0006214 ]),\n",
              " 'rank_test_score': array([6, 5, 4, 3, 1, 2, 7, 8], dtype=int32)}"
            ]
          },
          "metadata": {},
          "execution_count": 30
        }
      ]
    },
    {
      "cell_type": "code",
      "source": [
        "# Looks like alpha of 5 is the best parameter based on rmse\n",
        "grid_mnb_rmse.best_params_"
      ],
      "metadata": {
        "colab": {
          "base_uri": "https://localhost:8080/"
        },
        "id": "SzHhSDL_A7WA",
        "outputId": "9b3def67-09e8-4022-df64-934251b2f4e1"
      },
      "execution_count": 31,
      "outputs": [
        {
          "output_type": "execute_result",
          "data": {
            "text/plain": [
              "{'alpha': 5}"
            ]
          },
          "metadata": {},
          "execution_count": 31
        }
      ]
    },
    {
      "cell_type": "code",
      "source": [
        "mnb = MultinomialNB(alpha=5).fit(X_train_vec, y_train)\n",
        "model_name = 'Tf-idf NB alpha 5'\n",
        "X_test_vec = tf_vec.transform(X_test['lemmatized_text'])\n",
        "compute_metrics(mnb,model_name,X_test_vec, y_test)\n",
        "\n"
      ],
      "metadata": {
        "id": "iqc6arElDwpF"
      },
      "execution_count": 33,
      "outputs": []
    },
    {
      "cell_type": "code",
      "source": [
        "metrics_df"
      ],
      "metadata": {
        "colab": {
          "base_uri": "https://localhost:8080/"
        },
        "id": "J2Wuv-0FHgAc",
        "outputId": "f14c3bc3-3c12-46ad-ef97-38cd362e44df"
      },
      "execution_count": 34,
      "outputs": [
        {
          "output_type": "execute_result",
          "data": {
            "text/plain": [
              "{'model': ['Tf-idf NB alpha 5'],\n",
              " 'accuracy': [0.6302350886960042],\n",
              " 'precision': [0.6189553564220553],\n",
              " 'recall': [0.7477811372281283],\n",
              " 'aucprc': [(array([0.53178081, 0.53176867, 0.53178246, ..., 1.        , 1.        ,\n",
              "          1.        ]),\n",
              "   array([1.        , 0.99995123, 0.99995123, ..., 0.00214571, 0.00204818,\n",
              "          0.        ]),\n",
              "   array([0.13515109, 0.13575168, 0.13589074, ..., 0.99989217, 0.99989711,\n",
              "          0.99992042]))],\n",
              " 'aucroc': [0.6960772870858367]}"
            ]
          },
          "metadata": {},
          "execution_count": 34
        }
      ]
    },
    {
      "cell_type": "code",
      "source": [
        "# tfidf + Mads features"
      ],
      "metadata": {
        "id": "tm8I6pSZUA39"
      },
      "execution_count": 22,
      "outputs": []
    },
    {
      "cell_type": "code",
      "source": [
        "X_train_other = X_train[X_train.columns[1:]]"
      ],
      "metadata": {
        "id": "1zcC5LwTncg7"
      },
      "execution_count": 23,
      "outputs": []
    },
    {
      "cell_type": "code",
      "source": [
        "import scipy\n",
        "from scipy.sparse import hstack\n",
        "import numpy as np"
      ],
      "metadata": {
        "id": "a-BxG7AupD7h"
      },
      "execution_count": 33,
      "outputs": []
    },
    {
      "cell_type": "code",
      "source": [
        "# Create a sparse matrix from the MADS features\n",
        "X_sparse = scipy.sparse.coo_matrix(X_train_other.values)\n",
        "\n",
        "# Join both the tfidf training matrix with the sparse MADS features\n",
        "X_train_all = scipy.sparse.hstack((X_train_vec, X_sparse)).tocsr()\n",
        "\n",
        "\n"
      ],
      "metadata": {
        "id": "k740tnsEKIAb"
      },
      "execution_count": 50,
      "outputs": []
    },
    {
      "cell_type": "code",
      "source": [
        "X_train_all[:5, :1000]\n",
        "\n",
        "\n",
        "# toarray(X_train_all[0, :100])"
      ],
      "metadata": {
        "colab": {
          "base_uri": "https://localhost:8080/"
        },
        "id": "yomKsd1rRBHS",
        "outputId": "0713510f-d9ec-4452-8f98-a38d5c337f76"
      },
      "execution_count": 53,
      "outputs": [
        {
          "output_type": "execute_result",
          "data": {
            "text/plain": [
              "<5x1000 sparse matrix of type '<class 'numpy.float64'>'\n",
              "\twith 2 stored elements in Compressed Sparse Row format>"
            ]
          },
          "metadata": {},
          "execution_count": 53
        }
      ]
    },
    {
      "cell_type": "code",
      "source": [
        "grid_mnb_all_rmse = GridSearchCV(MultinomialNB(), param_grid=param_grid, scoring='neg_root_mean_squared_error')\n",
        "grid_mnb_all_rmse.fit(X_train_all,y_train)\n",
        "\n"
      ],
      "metadata": {
        "colab": {
          "base_uri": "https://localhost:8080/",
          "height": 851
        },
        "id": "DjsSuwaxKi64",
        "outputId": "8fdbd2fd-bb01-4813-acf3-c5be26bfb2c6"
      },
      "execution_count": 54,
      "outputs": [
        {
          "output_type": "stream",
          "name": "stderr",
          "text": [
            "/usr/local/lib/python3.7/dist-packages/sklearn/model_selection/_validation.py:372: FitFailedWarning: \n",
            "40 fits failed out of a total of 40.\n",
            "The score on these train-test partitions for these parameters will be set to nan.\n",
            "If these failures are not expected, you can try to debug them by setting error_score='raise'.\n",
            "\n",
            "Below are more details about the failures:\n",
            "--------------------------------------------------------------------------------\n",
            "40 fits failed with the following error:\n",
            "Traceback (most recent call last):\n",
            "  File \"/usr/local/lib/python3.7/dist-packages/sklearn/model_selection/_validation.py\", line 680, in _fit_and_score\n",
            "    estimator.fit(X_train, y_train, **fit_params)\n",
            "  File \"/usr/local/lib/python3.7/dist-packages/sklearn/naive_bayes.py\", line 663, in fit\n",
            "    X, y = self._check_X_y(X, y)\n",
            "  File \"/usr/local/lib/python3.7/dist-packages/sklearn/naive_bayes.py\", line 523, in _check_X_y\n",
            "    return self._validate_data(X, y, accept_sparse=\"csr\", reset=reset)\n",
            "  File \"/usr/local/lib/python3.7/dist-packages/sklearn/base.py\", line 581, in _validate_data\n",
            "    X, y = check_X_y(X, y, **check_params)\n",
            "  File \"/usr/local/lib/python3.7/dist-packages/sklearn/utils/validation.py\", line 976, in check_X_y\n",
            "    estimator=estimator,\n",
            "  File \"/usr/local/lib/python3.7/dist-packages/sklearn/utils/validation.py\", line 726, in check_array\n",
            "    accept_large_sparse=accept_large_sparse,\n",
            "  File \"/usr/local/lib/python3.7/dist-packages/sklearn/utils/validation.py\", line 479, in _ensure_sparse_format\n",
            "    _assert_all_finite(spmatrix.data, allow_nan=force_all_finite == \"allow-nan\")\n",
            "  File \"/usr/local/lib/python3.7/dist-packages/sklearn/utils/validation.py\", line 116, in _assert_all_finite\n",
            "    type_err, msg_dtype if msg_dtype is not None else X.dtype\n",
            "ValueError: Input contains NaN, infinity or a value too large for dtype('float64').\n",
            "\n",
            "  warnings.warn(some_fits_failed_message, FitFailedWarning)\n",
            "/usr/local/lib/python3.7/dist-packages/sklearn/model_selection/_search.py:972: UserWarning: One or more of the test scores are non-finite: [nan nan nan nan nan nan nan nan]\n",
            "  category=UserWarning,\n"
          ]
        },
        {
          "output_type": "error",
          "ename": "ValueError",
          "evalue": "ignored",
          "traceback": [
            "\u001b[0;31m---------------------------------------------------------------------------\u001b[0m",
            "\u001b[0;31mValueError\u001b[0m                                Traceback (most recent call last)",
            "\u001b[0;32m<ipython-input-54-8fe3fc8315c8>\u001b[0m in \u001b[0;36m<module>\u001b[0;34m\u001b[0m\n\u001b[1;32m      1\u001b[0m \u001b[0mgrid_mnb_all_rmse\u001b[0m \u001b[0;34m=\u001b[0m \u001b[0mGridSearchCV\u001b[0m\u001b[0;34m(\u001b[0m\u001b[0mMultinomialNB\u001b[0m\u001b[0;34m(\u001b[0m\u001b[0;34m)\u001b[0m\u001b[0;34m,\u001b[0m \u001b[0mparam_grid\u001b[0m\u001b[0;34m=\u001b[0m\u001b[0mparam_grid\u001b[0m\u001b[0;34m,\u001b[0m \u001b[0mscoring\u001b[0m\u001b[0;34m=\u001b[0m\u001b[0;34m'neg_root_mean_squared_error'\u001b[0m\u001b[0;34m)\u001b[0m\u001b[0;34m\u001b[0m\u001b[0;34m\u001b[0m\u001b[0m\n\u001b[0;32m----> 2\u001b[0;31m \u001b[0mgrid_mnb_all_rmse\u001b[0m\u001b[0;34m.\u001b[0m\u001b[0mfit\u001b[0m\u001b[0;34m(\u001b[0m\u001b[0mX_train_all\u001b[0m\u001b[0;34m,\u001b[0m\u001b[0my_train\u001b[0m\u001b[0;34m)\u001b[0m\u001b[0;34m\u001b[0m\u001b[0;34m\u001b[0m\u001b[0m\n\u001b[0m\u001b[1;32m      3\u001b[0m \u001b[0;34m\u001b[0m\u001b[0m\n",
            "\u001b[0;32m/usr/local/lib/python3.7/dist-packages/sklearn/model_selection/_search.py\u001b[0m in \u001b[0;36mfit\u001b[0;34m(self, X, y, groups, **fit_params)\u001b[0m\n\u001b[1;32m    924\u001b[0m             \u001b[0mrefit_start_time\u001b[0m \u001b[0;34m=\u001b[0m \u001b[0mtime\u001b[0m\u001b[0;34m.\u001b[0m\u001b[0mtime\u001b[0m\u001b[0;34m(\u001b[0m\u001b[0;34m)\u001b[0m\u001b[0;34m\u001b[0m\u001b[0;34m\u001b[0m\u001b[0m\n\u001b[1;32m    925\u001b[0m             \u001b[0;32mif\u001b[0m \u001b[0my\u001b[0m \u001b[0;32mis\u001b[0m \u001b[0;32mnot\u001b[0m \u001b[0;32mNone\u001b[0m\u001b[0;34m:\u001b[0m\u001b[0;34m\u001b[0m\u001b[0;34m\u001b[0m\u001b[0m\n\u001b[0;32m--> 926\u001b[0;31m                 \u001b[0mself\u001b[0m\u001b[0;34m.\u001b[0m\u001b[0mbest_estimator_\u001b[0m\u001b[0;34m.\u001b[0m\u001b[0mfit\u001b[0m\u001b[0;34m(\u001b[0m\u001b[0mX\u001b[0m\u001b[0;34m,\u001b[0m \u001b[0my\u001b[0m\u001b[0;34m,\u001b[0m \u001b[0;34m**\u001b[0m\u001b[0mfit_params\u001b[0m\u001b[0;34m)\u001b[0m\u001b[0;34m\u001b[0m\u001b[0;34m\u001b[0m\u001b[0m\n\u001b[0m\u001b[1;32m    927\u001b[0m             \u001b[0;32melse\u001b[0m\u001b[0;34m:\u001b[0m\u001b[0;34m\u001b[0m\u001b[0;34m\u001b[0m\u001b[0m\n\u001b[1;32m    928\u001b[0m                 \u001b[0mself\u001b[0m\u001b[0;34m.\u001b[0m\u001b[0mbest_estimator_\u001b[0m\u001b[0;34m.\u001b[0m\u001b[0mfit\u001b[0m\u001b[0;34m(\u001b[0m\u001b[0mX\u001b[0m\u001b[0;34m,\u001b[0m \u001b[0;34m**\u001b[0m\u001b[0mfit_params\u001b[0m\u001b[0;34m)\u001b[0m\u001b[0;34m\u001b[0m\u001b[0;34m\u001b[0m\u001b[0m\n",
            "\u001b[0;32m/usr/local/lib/python3.7/dist-packages/sklearn/naive_bayes.py\u001b[0m in \u001b[0;36mfit\u001b[0;34m(self, X, y, sample_weight)\u001b[0m\n\u001b[1;32m    661\u001b[0m             \u001b[0mReturns\u001b[0m \u001b[0mthe\u001b[0m \u001b[0minstance\u001b[0m \u001b[0mitself\u001b[0m\u001b[0;34m.\u001b[0m\u001b[0;34m\u001b[0m\u001b[0;34m\u001b[0m\u001b[0m\n\u001b[1;32m    662\u001b[0m         \"\"\"\n\u001b[0;32m--> 663\u001b[0;31m         \u001b[0mX\u001b[0m\u001b[0;34m,\u001b[0m \u001b[0my\u001b[0m \u001b[0;34m=\u001b[0m \u001b[0mself\u001b[0m\u001b[0;34m.\u001b[0m\u001b[0m_check_X_y\u001b[0m\u001b[0;34m(\u001b[0m\u001b[0mX\u001b[0m\u001b[0;34m,\u001b[0m \u001b[0my\u001b[0m\u001b[0;34m)\u001b[0m\u001b[0;34m\u001b[0m\u001b[0;34m\u001b[0m\u001b[0m\n\u001b[0m\u001b[1;32m    664\u001b[0m         \u001b[0m_\u001b[0m\u001b[0;34m,\u001b[0m \u001b[0mn_features\u001b[0m \u001b[0;34m=\u001b[0m \u001b[0mX\u001b[0m\u001b[0;34m.\u001b[0m\u001b[0mshape\u001b[0m\u001b[0;34m\u001b[0m\u001b[0;34m\u001b[0m\u001b[0m\n\u001b[1;32m    665\u001b[0m \u001b[0;34m\u001b[0m\u001b[0m\n",
            "\u001b[0;32m/usr/local/lib/python3.7/dist-packages/sklearn/naive_bayes.py\u001b[0m in \u001b[0;36m_check_X_y\u001b[0;34m(self, X, y, reset)\u001b[0m\n\u001b[1;32m    521\u001b[0m     \u001b[0;32mdef\u001b[0m \u001b[0m_check_X_y\u001b[0m\u001b[0;34m(\u001b[0m\u001b[0mself\u001b[0m\u001b[0;34m,\u001b[0m \u001b[0mX\u001b[0m\u001b[0;34m,\u001b[0m \u001b[0my\u001b[0m\u001b[0;34m,\u001b[0m \u001b[0mreset\u001b[0m\u001b[0;34m=\u001b[0m\u001b[0;32mTrue\u001b[0m\u001b[0;34m)\u001b[0m\u001b[0;34m:\u001b[0m\u001b[0;34m\u001b[0m\u001b[0;34m\u001b[0m\u001b[0m\n\u001b[1;32m    522\u001b[0m         \u001b[0;34m\"\"\"Validate X and y in fit methods.\"\"\"\u001b[0m\u001b[0;34m\u001b[0m\u001b[0;34m\u001b[0m\u001b[0m\n\u001b[0;32m--> 523\u001b[0;31m         \u001b[0;32mreturn\u001b[0m \u001b[0mself\u001b[0m\u001b[0;34m.\u001b[0m\u001b[0m_validate_data\u001b[0m\u001b[0;34m(\u001b[0m\u001b[0mX\u001b[0m\u001b[0;34m,\u001b[0m \u001b[0my\u001b[0m\u001b[0;34m,\u001b[0m \u001b[0maccept_sparse\u001b[0m\u001b[0;34m=\u001b[0m\u001b[0;34m\"csr\"\u001b[0m\u001b[0;34m,\u001b[0m \u001b[0mreset\u001b[0m\u001b[0;34m=\u001b[0m\u001b[0mreset\u001b[0m\u001b[0;34m)\u001b[0m\u001b[0;34m\u001b[0m\u001b[0;34m\u001b[0m\u001b[0m\n\u001b[0m\u001b[1;32m    524\u001b[0m \u001b[0;34m\u001b[0m\u001b[0m\n\u001b[1;32m    525\u001b[0m     \u001b[0;32mdef\u001b[0m \u001b[0m_update_class_log_prior\u001b[0m\u001b[0;34m(\u001b[0m\u001b[0mself\u001b[0m\u001b[0;34m,\u001b[0m \u001b[0mclass_prior\u001b[0m\u001b[0;34m=\u001b[0m\u001b[0;32mNone\u001b[0m\u001b[0;34m)\u001b[0m\u001b[0;34m:\u001b[0m\u001b[0;34m\u001b[0m\u001b[0;34m\u001b[0m\u001b[0m\n",
            "\u001b[0;32m/usr/local/lib/python3.7/dist-packages/sklearn/base.py\u001b[0m in \u001b[0;36m_validate_data\u001b[0;34m(self, X, y, reset, validate_separately, **check_params)\u001b[0m\n\u001b[1;32m    579\u001b[0m                 \u001b[0my\u001b[0m \u001b[0;34m=\u001b[0m \u001b[0mcheck_array\u001b[0m\u001b[0;34m(\u001b[0m\u001b[0my\u001b[0m\u001b[0;34m,\u001b[0m \u001b[0;34m**\u001b[0m\u001b[0mcheck_y_params\u001b[0m\u001b[0;34m)\u001b[0m\u001b[0;34m\u001b[0m\u001b[0;34m\u001b[0m\u001b[0m\n\u001b[1;32m    580\u001b[0m             \u001b[0;32melse\u001b[0m\u001b[0;34m:\u001b[0m\u001b[0;34m\u001b[0m\u001b[0;34m\u001b[0m\u001b[0m\n\u001b[0;32m--> 581\u001b[0;31m                 \u001b[0mX\u001b[0m\u001b[0;34m,\u001b[0m \u001b[0my\u001b[0m \u001b[0;34m=\u001b[0m \u001b[0mcheck_X_y\u001b[0m\u001b[0;34m(\u001b[0m\u001b[0mX\u001b[0m\u001b[0;34m,\u001b[0m \u001b[0my\u001b[0m\u001b[0;34m,\u001b[0m \u001b[0;34m**\u001b[0m\u001b[0mcheck_params\u001b[0m\u001b[0;34m)\u001b[0m\u001b[0;34m\u001b[0m\u001b[0;34m\u001b[0m\u001b[0m\n\u001b[0m\u001b[1;32m    582\u001b[0m             \u001b[0mout\u001b[0m \u001b[0;34m=\u001b[0m \u001b[0mX\u001b[0m\u001b[0;34m,\u001b[0m \u001b[0my\u001b[0m\u001b[0;34m\u001b[0m\u001b[0;34m\u001b[0m\u001b[0m\n\u001b[1;32m    583\u001b[0m \u001b[0;34m\u001b[0m\u001b[0m\n",
            "\u001b[0;32m/usr/local/lib/python3.7/dist-packages/sklearn/utils/validation.py\u001b[0m in \u001b[0;36mcheck_X_y\u001b[0;34m(X, y, accept_sparse, accept_large_sparse, dtype, order, copy, force_all_finite, ensure_2d, allow_nd, multi_output, ensure_min_samples, ensure_min_features, y_numeric, estimator)\u001b[0m\n\u001b[1;32m    974\u001b[0m         \u001b[0mensure_min_samples\u001b[0m\u001b[0;34m=\u001b[0m\u001b[0mensure_min_samples\u001b[0m\u001b[0;34m,\u001b[0m\u001b[0;34m\u001b[0m\u001b[0;34m\u001b[0m\u001b[0m\n\u001b[1;32m    975\u001b[0m         \u001b[0mensure_min_features\u001b[0m\u001b[0;34m=\u001b[0m\u001b[0mensure_min_features\u001b[0m\u001b[0;34m,\u001b[0m\u001b[0;34m\u001b[0m\u001b[0;34m\u001b[0m\u001b[0m\n\u001b[0;32m--> 976\u001b[0;31m         \u001b[0mestimator\u001b[0m\u001b[0;34m=\u001b[0m\u001b[0mestimator\u001b[0m\u001b[0;34m,\u001b[0m\u001b[0;34m\u001b[0m\u001b[0;34m\u001b[0m\u001b[0m\n\u001b[0m\u001b[1;32m    977\u001b[0m     )\n\u001b[1;32m    978\u001b[0m \u001b[0;34m\u001b[0m\u001b[0m\n",
            "\u001b[0;32m/usr/local/lib/python3.7/dist-packages/sklearn/utils/validation.py\u001b[0m in \u001b[0;36mcheck_array\u001b[0;34m(array, accept_sparse, accept_large_sparse, dtype, order, copy, force_all_finite, ensure_2d, allow_nd, ensure_min_samples, ensure_min_features, estimator)\u001b[0m\n\u001b[1;32m    724\u001b[0m             \u001b[0mcopy\u001b[0m\u001b[0;34m=\u001b[0m\u001b[0mcopy\u001b[0m\u001b[0;34m,\u001b[0m\u001b[0;34m\u001b[0m\u001b[0;34m\u001b[0m\u001b[0m\n\u001b[1;32m    725\u001b[0m             \u001b[0mforce_all_finite\u001b[0m\u001b[0;34m=\u001b[0m\u001b[0mforce_all_finite\u001b[0m\u001b[0;34m,\u001b[0m\u001b[0;34m\u001b[0m\u001b[0;34m\u001b[0m\u001b[0m\n\u001b[0;32m--> 726\u001b[0;31m             \u001b[0maccept_large_sparse\u001b[0m\u001b[0;34m=\u001b[0m\u001b[0maccept_large_sparse\u001b[0m\u001b[0;34m,\u001b[0m\u001b[0;34m\u001b[0m\u001b[0;34m\u001b[0m\u001b[0m\n\u001b[0m\u001b[1;32m    727\u001b[0m         )\n\u001b[1;32m    728\u001b[0m     \u001b[0;32melse\u001b[0m\u001b[0;34m:\u001b[0m\u001b[0;34m\u001b[0m\u001b[0;34m\u001b[0m\u001b[0m\n",
            "\u001b[0;32m/usr/local/lib/python3.7/dist-packages/sklearn/utils/validation.py\u001b[0m in \u001b[0;36m_ensure_sparse_format\u001b[0;34m(spmatrix, accept_sparse, dtype, copy, force_all_finite, accept_large_sparse)\u001b[0m\n\u001b[1;32m    477\u001b[0m             )\n\u001b[1;32m    478\u001b[0m         \u001b[0;32melse\u001b[0m\u001b[0;34m:\u001b[0m\u001b[0;34m\u001b[0m\u001b[0;34m\u001b[0m\u001b[0m\n\u001b[0;32m--> 479\u001b[0;31m             \u001b[0m_assert_all_finite\u001b[0m\u001b[0;34m(\u001b[0m\u001b[0mspmatrix\u001b[0m\u001b[0;34m.\u001b[0m\u001b[0mdata\u001b[0m\u001b[0;34m,\u001b[0m \u001b[0mallow_nan\u001b[0m\u001b[0;34m=\u001b[0m\u001b[0mforce_all_finite\u001b[0m \u001b[0;34m==\u001b[0m \u001b[0;34m\"allow-nan\"\u001b[0m\u001b[0;34m)\u001b[0m\u001b[0;34m\u001b[0m\u001b[0;34m\u001b[0m\u001b[0m\n\u001b[0m\u001b[1;32m    480\u001b[0m \u001b[0;34m\u001b[0m\u001b[0m\n\u001b[1;32m    481\u001b[0m     \u001b[0;32mreturn\u001b[0m \u001b[0mspmatrix\u001b[0m\u001b[0;34m\u001b[0m\u001b[0;34m\u001b[0m\u001b[0m\n",
            "\u001b[0;32m/usr/local/lib/python3.7/dist-packages/sklearn/utils/validation.py\u001b[0m in \u001b[0;36m_assert_all_finite\u001b[0;34m(X, allow_nan, msg_dtype)\u001b[0m\n\u001b[1;32m    114\u001b[0m             raise ValueError(\n\u001b[1;32m    115\u001b[0m                 msg_err.format(\n\u001b[0;32m--> 116\u001b[0;31m                     \u001b[0mtype_err\u001b[0m\u001b[0;34m,\u001b[0m \u001b[0mmsg_dtype\u001b[0m \u001b[0;32mif\u001b[0m \u001b[0mmsg_dtype\u001b[0m \u001b[0;32mis\u001b[0m \u001b[0;32mnot\u001b[0m \u001b[0;32mNone\u001b[0m \u001b[0;32melse\u001b[0m \u001b[0mX\u001b[0m\u001b[0;34m.\u001b[0m\u001b[0mdtype\u001b[0m\u001b[0;34m\u001b[0m\u001b[0;34m\u001b[0m\u001b[0m\n\u001b[0m\u001b[1;32m    117\u001b[0m                 )\n\u001b[1;32m    118\u001b[0m             )\n",
            "\u001b[0;31mValueError\u001b[0m: Input contains NaN, infinity or a value too large for dtype('float64')."
          ]
        }
      ]
    },
    {
      "cell_type": "code",
      "source": [],
      "metadata": {
        "colab": {
          "base_uri": "https://localhost:8080/"
        },
        "id": "jzatdb_nnLJg",
        "outputId": "b4c44aab-fc5f-4436-8019-e9eca632d45e"
      },
      "execution_count": 54,
      "outputs": [
        {
          "output_type": "execute_result",
          "data": {
            "text/plain": [
              "<1x8 sparse matrix of type '<class 'numpy.float64'>'\n",
              "\twith 8 stored elements in Compressed Sparse Row format>"
            ]
          },
          "metadata": {},
          "execution_count": 54
        }
      ]
    },
    {
      "cell_type": "code",
      "source": [
        "X_train_all.tocsr()[0,:5]"
      ],
      "metadata": {
        "colab": {
          "base_uri": "https://localhost:8080/"
        },
        "id": "4U94SJV8Nsob",
        "outputId": "9fcd3b88-fcfd-43ca-8a5b-9ed8c743556a"
      },
      "execution_count": 43,
      "outputs": [
        {
          "output_type": "execute_result",
          "data": {
            "text/plain": [
              "<1x5 sparse matrix of type '<class 'numpy.float64'>'\n",
              "\twith 0 stored elements in Compressed Sparse Row format>"
            ]
          },
          "metadata": {},
          "execution_count": 43
        }
      ]
    },
    {
      "cell_type": "code",
      "source": [
        "# Sentence Embeddings"
      ],
      "metadata": {
        "id": "tPGMifg6OdL2"
      },
      "execution_count": 35,
      "outputs": []
    },
    {
      "cell_type": "code",
      "source": [
        "from numpy import loadtxt\n",
        "import numpy as np"
      ],
      "metadata": {
        "id": "ay5ERTVZa2pw"
      },
      "execution_count": 41,
      "outputs": []
    },
    {
      "cell_type": "code",
      "source": [
        "embeddings = loadtxt('drive/Shareddrives/Milestone 2/embeddings.csv', delimiter=',')\n",
        "embeddings"
      ],
      "metadata": {
        "colab": {
          "base_uri": "https://localhost:8080/"
        },
        "id": "gzDbiwkabHYQ",
        "outputId": "af3a8578-b44e-4adf-8d02-3ad1cc66fe7c"
      },
      "execution_count": 38,
      "outputs": [
        {
          "output_type": "execute_result",
          "data": {
            "text/plain": [
              "array([[-0.10521097,  0.04652381,  0.09932816, ..., -0.53146267,\n",
              "         0.24081262,  0.04764764],\n",
              "       [-0.09595645,  0.28408318,  0.0416585 , ..., -0.6049515 ,\n",
              "         0.23389882,  0.2116979 ],\n",
              "       [ 0.00624134,  0.04496894,  0.28006756, ..., -0.21483139,\n",
              "         0.40460399, -0.12047322],\n",
              "       ...,\n",
              "       [-0.05062665,  0.11346165,  0.37695   , ..., -0.35318942,\n",
              "         0.46983531, -0.04529605],\n",
              "       [-0.13691955,  0.46627818, -0.0528408 , ..., -0.55561154,\n",
              "         0.56975963,  0.25214309],\n",
              "       [-0.23494626,  0.30814424,  0.28275521, ..., -0.56363898,\n",
              "         0.44196188,  0.01724233]])"
            ]
          },
          "metadata": {},
          "execution_count": 38
        }
      ]
    },
    {
      "cell_type": "code",
      "source": [
        "embeddings.shape"
      ],
      "metadata": {
        "colab": {
          "base_uri": "https://localhost:8080/"
        },
        "id": "J0WrK3iybYl3",
        "outputId": "4460e518-18fd-48d8-ab39-eba097f7da6f"
      },
      "execution_count": 39,
      "outputs": [
        {
          "output_type": "execute_result",
          "data": {
            "text/plain": [
              "(395169, 100)"
            ]
          },
          "metadata": {},
          "execution_count": 39
        }
      ]
    },
    {
      "cell_type": "code",
      "source": [
        "# Combine the embeddings and the original_text + Mads features\n",
        "emb = pd.DataFrame(embeddings)\n",
        "new_df = pd.concat([df,emb], axis=1)\n",
        "new_df.head()"
      ],
      "metadata": {
        "colab": {
          "base_uri": "https://localhost:8080/",
          "height": 552
        },
        "id": "6pPdMlnBbZ09",
        "outputId": "37ffa649-cc1d-4f09-c938-871af1f8e4f8"
      },
      "execution_count": 65,
      "outputs": [
        {
          "output_type": "execute_result",
          "data": {
            "text/plain": [
              "                                       original_text  \\\n",
              "0  There is manuscript evidence that Austen conti...   \n",
              "1  In a remarkable comparative analysis , Mandaea...   \n",
              "2  Before Persephone was released to Hermes , who...   \n",
              "3  Cogeneration plants are commonly found in dist...   \n",
              "4  Geneva is the second-most-populous city in Swi...   \n",
              "\n",
              "                                     lemmatized_text  d_chall_score  aoa_mean  \\\n",
              "0  There be manuscript evidence that Austen conti...       8.533221  5.809310   \n",
              "1  In a remarkable comparative analysis , Mandaea...      12.320171  7.402308   \n",
              "2  Before Persephone be release to Hermes , who h...       5.931500  5.231351   \n",
              "3  Cogeneration plant be commonly find in distric...       7.015012  6.742000   \n",
              "4  Geneva be the second-most-populous city in Swi...       7.550745  5.455000   \n",
              "\n",
              "   aoa_min  aoa_max  conc_rating_mean  conc_rating_min  conc_rating_max  \\\n",
              "0     3.57    12.12          2.495517             1.33             4.57   \n",
              "1     2.89    11.94          2.334286             1.46             4.93   \n",
              "2     2.78    11.17          2.556486             1.43             4.86   \n",
              "3     3.56    11.53          3.369655             1.52             4.93   \n",
              "4     3.69    12.62          2.399333             1.43             4.79   \n",
              "\n",
              "   num_lemmas  ...        90        91        92        93        94  \\\n",
              "0        38.0  ... -0.000574 -0.282132  0.048765  0.281763 -0.562752   \n",
              "1        21.0  ...  0.142222 -0.103547 -0.090528  0.095581 -0.276107   \n",
              "2        40.0  ... -0.042911 -0.127006 -0.027232  0.002538 -0.531988   \n",
              "3        32.0  ...  0.113040 -0.480430 -0.121593  0.049611 -0.675361   \n",
              "4        22.0  ... -0.003146 -0.214928 -0.110112  0.408002 -0.512044   \n",
              "\n",
              "         95        96        97        98        99  \n",
              "0 -0.018829 -0.266238 -0.531463  0.240813  0.047648  \n",
              "1  0.028346 -0.250517 -0.604951  0.233899  0.211698  \n",
              "2 -0.153132 -0.162387 -0.214831  0.404604 -0.120473  \n",
              "3  0.358477 -0.145952 -0.454261  0.618850  0.002099  \n",
              "4  0.292142 -0.294712 -0.306517  0.631877 -0.067776  \n",
              "\n",
              "[5 rows x 111 columns]"
            ],
            "text/html": [
              "\n",
              "  <div id=\"df-1f09dd02-c0c6-46bb-8697-c4c9e9ea4bb6\">\n",
              "    <div class=\"colab-df-container\">\n",
              "      <div>\n",
              "<style scoped>\n",
              "    .dataframe tbody tr th:only-of-type {\n",
              "        vertical-align: middle;\n",
              "    }\n",
              "\n",
              "    .dataframe tbody tr th {\n",
              "        vertical-align: top;\n",
              "    }\n",
              "\n",
              "    .dataframe thead th {\n",
              "        text-align: right;\n",
              "    }\n",
              "</style>\n",
              "<table border=\"1\" class=\"dataframe\">\n",
              "  <thead>\n",
              "    <tr style=\"text-align: right;\">\n",
              "      <th></th>\n",
              "      <th>original_text</th>\n",
              "      <th>lemmatized_text</th>\n",
              "      <th>d_chall_score</th>\n",
              "      <th>aoa_mean</th>\n",
              "      <th>aoa_min</th>\n",
              "      <th>aoa_max</th>\n",
              "      <th>conc_rating_mean</th>\n",
              "      <th>conc_rating_min</th>\n",
              "      <th>conc_rating_max</th>\n",
              "      <th>num_lemmas</th>\n",
              "      <th>...</th>\n",
              "      <th>90</th>\n",
              "      <th>91</th>\n",
              "      <th>92</th>\n",
              "      <th>93</th>\n",
              "      <th>94</th>\n",
              "      <th>95</th>\n",
              "      <th>96</th>\n",
              "      <th>97</th>\n",
              "      <th>98</th>\n",
              "      <th>99</th>\n",
              "    </tr>\n",
              "  </thead>\n",
              "  <tbody>\n",
              "    <tr>\n",
              "      <th>0</th>\n",
              "      <td>There is manuscript evidence that Austen conti...</td>\n",
              "      <td>There be manuscript evidence that Austen conti...</td>\n",
              "      <td>8.533221</td>\n",
              "      <td>5.809310</td>\n",
              "      <td>3.57</td>\n",
              "      <td>12.12</td>\n",
              "      <td>2.495517</td>\n",
              "      <td>1.33</td>\n",
              "      <td>4.57</td>\n",
              "      <td>38.0</td>\n",
              "      <td>...</td>\n",
              "      <td>-0.000574</td>\n",
              "      <td>-0.282132</td>\n",
              "      <td>0.048765</td>\n",
              "      <td>0.281763</td>\n",
              "      <td>-0.562752</td>\n",
              "      <td>-0.018829</td>\n",
              "      <td>-0.266238</td>\n",
              "      <td>-0.531463</td>\n",
              "      <td>0.240813</td>\n",
              "      <td>0.047648</td>\n",
              "    </tr>\n",
              "    <tr>\n",
              "      <th>1</th>\n",
              "      <td>In a remarkable comparative analysis , Mandaea...</td>\n",
              "      <td>In a remarkable comparative analysis , Mandaea...</td>\n",
              "      <td>12.320171</td>\n",
              "      <td>7.402308</td>\n",
              "      <td>2.89</td>\n",
              "      <td>11.94</td>\n",
              "      <td>2.334286</td>\n",
              "      <td>1.46</td>\n",
              "      <td>4.93</td>\n",
              "      <td>21.0</td>\n",
              "      <td>...</td>\n",
              "      <td>0.142222</td>\n",
              "      <td>-0.103547</td>\n",
              "      <td>-0.090528</td>\n",
              "      <td>0.095581</td>\n",
              "      <td>-0.276107</td>\n",
              "      <td>0.028346</td>\n",
              "      <td>-0.250517</td>\n",
              "      <td>-0.604951</td>\n",
              "      <td>0.233899</td>\n",
              "      <td>0.211698</td>\n",
              "    </tr>\n",
              "    <tr>\n",
              "      <th>2</th>\n",
              "      <td>Before Persephone was released to Hermes , who...</td>\n",
              "      <td>Before Persephone be release to Hermes , who h...</td>\n",
              "      <td>5.931500</td>\n",
              "      <td>5.231351</td>\n",
              "      <td>2.78</td>\n",
              "      <td>11.17</td>\n",
              "      <td>2.556486</td>\n",
              "      <td>1.43</td>\n",
              "      <td>4.86</td>\n",
              "      <td>40.0</td>\n",
              "      <td>...</td>\n",
              "      <td>-0.042911</td>\n",
              "      <td>-0.127006</td>\n",
              "      <td>-0.027232</td>\n",
              "      <td>0.002538</td>\n",
              "      <td>-0.531988</td>\n",
              "      <td>-0.153132</td>\n",
              "      <td>-0.162387</td>\n",
              "      <td>-0.214831</td>\n",
              "      <td>0.404604</td>\n",
              "      <td>-0.120473</td>\n",
              "    </tr>\n",
              "    <tr>\n",
              "      <th>3</th>\n",
              "      <td>Cogeneration plants are commonly found in dist...</td>\n",
              "      <td>Cogeneration plant be commonly find in distric...</td>\n",
              "      <td>7.015012</td>\n",
              "      <td>6.742000</td>\n",
              "      <td>3.56</td>\n",
              "      <td>11.53</td>\n",
              "      <td>3.369655</td>\n",
              "      <td>1.52</td>\n",
              "      <td>4.93</td>\n",
              "      <td>32.0</td>\n",
              "      <td>...</td>\n",
              "      <td>0.113040</td>\n",
              "      <td>-0.480430</td>\n",
              "      <td>-0.121593</td>\n",
              "      <td>0.049611</td>\n",
              "      <td>-0.675361</td>\n",
              "      <td>0.358477</td>\n",
              "      <td>-0.145952</td>\n",
              "      <td>-0.454261</td>\n",
              "      <td>0.618850</td>\n",
              "      <td>0.002099</td>\n",
              "    </tr>\n",
              "    <tr>\n",
              "      <th>4</th>\n",
              "      <td>Geneva is the second-most-populous city in Swi...</td>\n",
              "      <td>Geneva be the second-most-populous city in Swi...</td>\n",
              "      <td>7.550745</td>\n",
              "      <td>5.455000</td>\n",
              "      <td>3.69</td>\n",
              "      <td>12.62</td>\n",
              "      <td>2.399333</td>\n",
              "      <td>1.43</td>\n",
              "      <td>4.79</td>\n",
              "      <td>22.0</td>\n",
              "      <td>...</td>\n",
              "      <td>-0.003146</td>\n",
              "      <td>-0.214928</td>\n",
              "      <td>-0.110112</td>\n",
              "      <td>0.408002</td>\n",
              "      <td>-0.512044</td>\n",
              "      <td>0.292142</td>\n",
              "      <td>-0.294712</td>\n",
              "      <td>-0.306517</td>\n",
              "      <td>0.631877</td>\n",
              "      <td>-0.067776</td>\n",
              "    </tr>\n",
              "  </tbody>\n",
              "</table>\n",
              "<p>5 rows × 111 columns</p>\n",
              "</div>\n",
              "      <button class=\"colab-df-convert\" onclick=\"convertToInteractive('df-1f09dd02-c0c6-46bb-8697-c4c9e9ea4bb6')\"\n",
              "              title=\"Convert this dataframe to an interactive table.\"\n",
              "              style=\"display:none;\">\n",
              "        \n",
              "  <svg xmlns=\"http://www.w3.org/2000/svg\" height=\"24px\"viewBox=\"0 0 24 24\"\n",
              "       width=\"24px\">\n",
              "    <path d=\"M0 0h24v24H0V0z\" fill=\"none\"/>\n",
              "    <path d=\"M18.56 5.44l.94 2.06.94-2.06 2.06-.94-2.06-.94-.94-2.06-.94 2.06-2.06.94zm-11 1L8.5 8.5l.94-2.06 2.06-.94-2.06-.94L8.5 2.5l-.94 2.06-2.06.94zm10 10l.94 2.06.94-2.06 2.06-.94-2.06-.94-.94-2.06-.94 2.06-2.06.94z\"/><path d=\"M17.41 7.96l-1.37-1.37c-.4-.4-.92-.59-1.43-.59-.52 0-1.04.2-1.43.59L10.3 9.45l-7.72 7.72c-.78.78-.78 2.05 0 2.83L4 21.41c.39.39.9.59 1.41.59.51 0 1.02-.2 1.41-.59l7.78-7.78 2.81-2.81c.8-.78.8-2.07 0-2.86zM5.41 20L4 18.59l7.72-7.72 1.47 1.35L5.41 20z\"/>\n",
              "  </svg>\n",
              "      </button>\n",
              "      \n",
              "  <style>\n",
              "    .colab-df-container {\n",
              "      display:flex;\n",
              "      flex-wrap:wrap;\n",
              "      gap: 12px;\n",
              "    }\n",
              "\n",
              "    .colab-df-convert {\n",
              "      background-color: #E8F0FE;\n",
              "      border: none;\n",
              "      border-radius: 50%;\n",
              "      cursor: pointer;\n",
              "      display: none;\n",
              "      fill: #1967D2;\n",
              "      height: 32px;\n",
              "      padding: 0 0 0 0;\n",
              "      width: 32px;\n",
              "    }\n",
              "\n",
              "    .colab-df-convert:hover {\n",
              "      background-color: #E2EBFA;\n",
              "      box-shadow: 0px 1px 2px rgba(60, 64, 67, 0.3), 0px 1px 3px 1px rgba(60, 64, 67, 0.15);\n",
              "      fill: #174EA6;\n",
              "    }\n",
              "\n",
              "    [theme=dark] .colab-df-convert {\n",
              "      background-color: #3B4455;\n",
              "      fill: #D2E3FC;\n",
              "    }\n",
              "\n",
              "    [theme=dark] .colab-df-convert:hover {\n",
              "      background-color: #434B5C;\n",
              "      box-shadow: 0px 1px 3px 1px rgba(0, 0, 0, 0.15);\n",
              "      filter: drop-shadow(0px 1px 2px rgba(0, 0, 0, 0.3));\n",
              "      fill: #FFFFFF;\n",
              "    }\n",
              "  </style>\n",
              "\n",
              "      <script>\n",
              "        const buttonEl =\n",
              "          document.querySelector('#df-1f09dd02-c0c6-46bb-8697-c4c9e9ea4bb6 button.colab-df-convert');\n",
              "        buttonEl.style.display =\n",
              "          google.colab.kernel.accessAllowed ? 'block' : 'none';\n",
              "\n",
              "        async function convertToInteractive(key) {\n",
              "          const element = document.querySelector('#df-1f09dd02-c0c6-46bb-8697-c4c9e9ea4bb6');\n",
              "          const dataTable =\n",
              "            await google.colab.kernel.invokeFunction('convertToInteractive',\n",
              "                                                     [key], {});\n",
              "          if (!dataTable) return;\n",
              "\n",
              "          const docLinkHtml = 'Like what you see? Visit the ' +\n",
              "            '<a target=\"_blank\" href=https://colab.research.google.com/notebooks/data_table.ipynb>data table notebook</a>'\n",
              "            + ' to learn more about interactive tables.';\n",
              "          element.innerHTML = '';\n",
              "          dataTable['output_type'] = 'display_data';\n",
              "          await google.colab.output.renderOutput(dataTable, element);\n",
              "          const docLink = document.createElement('div');\n",
              "          docLink.innerHTML = docLinkHtml;\n",
              "          element.appendChild(docLink);\n",
              "        }\n",
              "      </script>\n",
              "    </div>\n",
              "  </div>\n",
              "  "
            ]
          },
          "metadata": {},
          "execution_count": 65
        }
      ]
    },
    {
      "cell_type": "code",
      "source": [
        "X_train_indexes = X_train.index\n",
        "X_train_emb = new_df.iloc[X_train_indexes, 11:]\n",
        "X_train_emb.head()"
      ],
      "metadata": {
        "colab": {
          "base_uri": "https://localhost:8080/",
          "height": 297
        },
        "id": "_TNFpslXbc__",
        "outputId": "1e763c4b-71c0-48f9-d92c-1aeb7bf8472c"
      },
      "execution_count": 66,
      "outputs": [
        {
          "output_type": "execute_result",
          "data": {
            "text/plain": [
              "              0         1         2         3         4         5         6   \\\n",
              "91224  -0.372383  0.221127  0.418656 -0.075037  0.278601  0.282382 -0.179060   \n",
              "117728  0.016294 -0.113769  0.293257 -0.168054  0.222634  0.146599  0.070255   \n",
              "316017 -0.073500  0.113797  0.029153 -0.429477  0.063771  0.347380 -0.124431   \n",
              "7423    0.029224 -0.239776  0.132184  0.049248  0.145883  0.229183 -0.007984   \n",
              "201052 -0.046389 -0.126177  0.413811 -0.052786  0.227497  0.208976  0.116180   \n",
              "\n",
              "              7         8         9   ...        90        91        92  \\\n",
              "91224   0.063454 -0.416448  0.017981  ... -0.318357  0.059500 -0.174866   \n",
              "117728  0.014296 -0.186127  0.057335  ... -0.083942 -0.180034 -0.202958   \n",
              "316017  0.282229 -0.075735  0.068369  ...  0.054707 -0.032472 -0.121287   \n",
              "7423    0.014910 -0.091277 -0.008269  ...  0.064875 -0.315753 -0.039297   \n",
              "201052  0.549721  0.018257  0.237596  ...  0.318063 -0.234182 -0.218740   \n",
              "\n",
              "              93        94        95        96        97        98        99  \n",
              "91224   0.281088 -0.411315 -0.156737 -0.283365 -0.481805  0.567332  0.058942  \n",
              "117728  0.465693 -0.490053  0.123509 -0.455105 -0.099749  0.473420 -0.061285  \n",
              "316017  0.100465 -0.510452  0.222725 -0.246233 -0.182647  0.495054  0.045244  \n",
              "7423    0.541282 -0.457863  0.255201 -0.281852 -0.214106  0.434917 -0.177841  \n",
              "201052  0.573339 -0.420712  0.340783 -0.341281 -0.248862  0.539164 -0.111740  \n",
              "\n",
              "[5 rows x 100 columns]"
            ],
            "text/html": [
              "\n",
              "  <div id=\"df-a86eaa7e-ce74-485a-b8fe-61361da03663\">\n",
              "    <div class=\"colab-df-container\">\n",
              "      <div>\n",
              "<style scoped>\n",
              "    .dataframe tbody tr th:only-of-type {\n",
              "        vertical-align: middle;\n",
              "    }\n",
              "\n",
              "    .dataframe tbody tr th {\n",
              "        vertical-align: top;\n",
              "    }\n",
              "\n",
              "    .dataframe thead th {\n",
              "        text-align: right;\n",
              "    }\n",
              "</style>\n",
              "<table border=\"1\" class=\"dataframe\">\n",
              "  <thead>\n",
              "    <tr style=\"text-align: right;\">\n",
              "      <th></th>\n",
              "      <th>0</th>\n",
              "      <th>1</th>\n",
              "      <th>2</th>\n",
              "      <th>3</th>\n",
              "      <th>4</th>\n",
              "      <th>5</th>\n",
              "      <th>6</th>\n",
              "      <th>7</th>\n",
              "      <th>8</th>\n",
              "      <th>9</th>\n",
              "      <th>...</th>\n",
              "      <th>90</th>\n",
              "      <th>91</th>\n",
              "      <th>92</th>\n",
              "      <th>93</th>\n",
              "      <th>94</th>\n",
              "      <th>95</th>\n",
              "      <th>96</th>\n",
              "      <th>97</th>\n",
              "      <th>98</th>\n",
              "      <th>99</th>\n",
              "    </tr>\n",
              "  </thead>\n",
              "  <tbody>\n",
              "    <tr>\n",
              "      <th>91224</th>\n",
              "      <td>-0.372383</td>\n",
              "      <td>0.221127</td>\n",
              "      <td>0.418656</td>\n",
              "      <td>-0.075037</td>\n",
              "      <td>0.278601</td>\n",
              "      <td>0.282382</td>\n",
              "      <td>-0.179060</td>\n",
              "      <td>0.063454</td>\n",
              "      <td>-0.416448</td>\n",
              "      <td>0.017981</td>\n",
              "      <td>...</td>\n",
              "      <td>-0.318357</td>\n",
              "      <td>0.059500</td>\n",
              "      <td>-0.174866</td>\n",
              "      <td>0.281088</td>\n",
              "      <td>-0.411315</td>\n",
              "      <td>-0.156737</td>\n",
              "      <td>-0.283365</td>\n",
              "      <td>-0.481805</td>\n",
              "      <td>0.567332</td>\n",
              "      <td>0.058942</td>\n",
              "    </tr>\n",
              "    <tr>\n",
              "      <th>117728</th>\n",
              "      <td>0.016294</td>\n",
              "      <td>-0.113769</td>\n",
              "      <td>0.293257</td>\n",
              "      <td>-0.168054</td>\n",
              "      <td>0.222634</td>\n",
              "      <td>0.146599</td>\n",
              "      <td>0.070255</td>\n",
              "      <td>0.014296</td>\n",
              "      <td>-0.186127</td>\n",
              "      <td>0.057335</td>\n",
              "      <td>...</td>\n",
              "      <td>-0.083942</td>\n",
              "      <td>-0.180034</td>\n",
              "      <td>-0.202958</td>\n",
              "      <td>0.465693</td>\n",
              "      <td>-0.490053</td>\n",
              "      <td>0.123509</td>\n",
              "      <td>-0.455105</td>\n",
              "      <td>-0.099749</td>\n",
              "      <td>0.473420</td>\n",
              "      <td>-0.061285</td>\n",
              "    </tr>\n",
              "    <tr>\n",
              "      <th>316017</th>\n",
              "      <td>-0.073500</td>\n",
              "      <td>0.113797</td>\n",
              "      <td>0.029153</td>\n",
              "      <td>-0.429477</td>\n",
              "      <td>0.063771</td>\n",
              "      <td>0.347380</td>\n",
              "      <td>-0.124431</td>\n",
              "      <td>0.282229</td>\n",
              "      <td>-0.075735</td>\n",
              "      <td>0.068369</td>\n",
              "      <td>...</td>\n",
              "      <td>0.054707</td>\n",
              "      <td>-0.032472</td>\n",
              "      <td>-0.121287</td>\n",
              "      <td>0.100465</td>\n",
              "      <td>-0.510452</td>\n",
              "      <td>0.222725</td>\n",
              "      <td>-0.246233</td>\n",
              "      <td>-0.182647</td>\n",
              "      <td>0.495054</td>\n",
              "      <td>0.045244</td>\n",
              "    </tr>\n",
              "    <tr>\n",
              "      <th>7423</th>\n",
              "      <td>0.029224</td>\n",
              "      <td>-0.239776</td>\n",
              "      <td>0.132184</td>\n",
              "      <td>0.049248</td>\n",
              "      <td>0.145883</td>\n",
              "      <td>0.229183</td>\n",
              "      <td>-0.007984</td>\n",
              "      <td>0.014910</td>\n",
              "      <td>-0.091277</td>\n",
              "      <td>-0.008269</td>\n",
              "      <td>...</td>\n",
              "      <td>0.064875</td>\n",
              "      <td>-0.315753</td>\n",
              "      <td>-0.039297</td>\n",
              "      <td>0.541282</td>\n",
              "      <td>-0.457863</td>\n",
              "      <td>0.255201</td>\n",
              "      <td>-0.281852</td>\n",
              "      <td>-0.214106</td>\n",
              "      <td>0.434917</td>\n",
              "      <td>-0.177841</td>\n",
              "    </tr>\n",
              "    <tr>\n",
              "      <th>201052</th>\n",
              "      <td>-0.046389</td>\n",
              "      <td>-0.126177</td>\n",
              "      <td>0.413811</td>\n",
              "      <td>-0.052786</td>\n",
              "      <td>0.227497</td>\n",
              "      <td>0.208976</td>\n",
              "      <td>0.116180</td>\n",
              "      <td>0.549721</td>\n",
              "      <td>0.018257</td>\n",
              "      <td>0.237596</td>\n",
              "      <td>...</td>\n",
              "      <td>0.318063</td>\n",
              "      <td>-0.234182</td>\n",
              "      <td>-0.218740</td>\n",
              "      <td>0.573339</td>\n",
              "      <td>-0.420712</td>\n",
              "      <td>0.340783</td>\n",
              "      <td>-0.341281</td>\n",
              "      <td>-0.248862</td>\n",
              "      <td>0.539164</td>\n",
              "      <td>-0.111740</td>\n",
              "    </tr>\n",
              "  </tbody>\n",
              "</table>\n",
              "<p>5 rows × 100 columns</p>\n",
              "</div>\n",
              "      <button class=\"colab-df-convert\" onclick=\"convertToInteractive('df-a86eaa7e-ce74-485a-b8fe-61361da03663')\"\n",
              "              title=\"Convert this dataframe to an interactive table.\"\n",
              "              style=\"display:none;\">\n",
              "        \n",
              "  <svg xmlns=\"http://www.w3.org/2000/svg\" height=\"24px\"viewBox=\"0 0 24 24\"\n",
              "       width=\"24px\">\n",
              "    <path d=\"M0 0h24v24H0V0z\" fill=\"none\"/>\n",
              "    <path d=\"M18.56 5.44l.94 2.06.94-2.06 2.06-.94-2.06-.94-.94-2.06-.94 2.06-2.06.94zm-11 1L8.5 8.5l.94-2.06 2.06-.94-2.06-.94L8.5 2.5l-.94 2.06-2.06.94zm10 10l.94 2.06.94-2.06 2.06-.94-2.06-.94-.94-2.06-.94 2.06-2.06.94z\"/><path d=\"M17.41 7.96l-1.37-1.37c-.4-.4-.92-.59-1.43-.59-.52 0-1.04.2-1.43.59L10.3 9.45l-7.72 7.72c-.78.78-.78 2.05 0 2.83L4 21.41c.39.39.9.59 1.41.59.51 0 1.02-.2 1.41-.59l7.78-7.78 2.81-2.81c.8-.78.8-2.07 0-2.86zM5.41 20L4 18.59l7.72-7.72 1.47 1.35L5.41 20z\"/>\n",
              "  </svg>\n",
              "      </button>\n",
              "      \n",
              "  <style>\n",
              "    .colab-df-container {\n",
              "      display:flex;\n",
              "      flex-wrap:wrap;\n",
              "      gap: 12px;\n",
              "    }\n",
              "\n",
              "    .colab-df-convert {\n",
              "      background-color: #E8F0FE;\n",
              "      border: none;\n",
              "      border-radius: 50%;\n",
              "      cursor: pointer;\n",
              "      display: none;\n",
              "      fill: #1967D2;\n",
              "      height: 32px;\n",
              "      padding: 0 0 0 0;\n",
              "      width: 32px;\n",
              "    }\n",
              "\n",
              "    .colab-df-convert:hover {\n",
              "      background-color: #E2EBFA;\n",
              "      box-shadow: 0px 1px 2px rgba(60, 64, 67, 0.3), 0px 1px 3px 1px rgba(60, 64, 67, 0.15);\n",
              "      fill: #174EA6;\n",
              "    }\n",
              "\n",
              "    [theme=dark] .colab-df-convert {\n",
              "      background-color: #3B4455;\n",
              "      fill: #D2E3FC;\n",
              "    }\n",
              "\n",
              "    [theme=dark] .colab-df-convert:hover {\n",
              "      background-color: #434B5C;\n",
              "      box-shadow: 0px 1px 3px 1px rgba(0, 0, 0, 0.15);\n",
              "      filter: drop-shadow(0px 1px 2px rgba(0, 0, 0, 0.3));\n",
              "      fill: #FFFFFF;\n",
              "    }\n",
              "  </style>\n",
              "\n",
              "      <script>\n",
              "        const buttonEl =\n",
              "          document.querySelector('#df-a86eaa7e-ce74-485a-b8fe-61361da03663 button.colab-df-convert');\n",
              "        buttonEl.style.display =\n",
              "          google.colab.kernel.accessAllowed ? 'block' : 'none';\n",
              "\n",
              "        async function convertToInteractive(key) {\n",
              "          const element = document.querySelector('#df-a86eaa7e-ce74-485a-b8fe-61361da03663');\n",
              "          const dataTable =\n",
              "            await google.colab.kernel.invokeFunction('convertToInteractive',\n",
              "                                                     [key], {});\n",
              "          if (!dataTable) return;\n",
              "\n",
              "          const docLinkHtml = 'Like what you see? Visit the ' +\n",
              "            '<a target=\"_blank\" href=https://colab.research.google.com/notebooks/data_table.ipynb>data table notebook</a>'\n",
              "            + ' to learn more about interactive tables.';\n",
              "          element.innerHTML = '';\n",
              "          dataTable['output_type'] = 'display_data';\n",
              "          await google.colab.output.renderOutput(dataTable, element);\n",
              "          const docLink = document.createElement('div');\n",
              "          docLink.innerHTML = docLinkHtml;\n",
              "          element.appendChild(docLink);\n",
              "        }\n",
              "      </script>\n",
              "    </div>\n",
              "  </div>\n",
              "  "
            ]
          },
          "metadata": {},
          "execution_count": 66
        }
      ]
    },
    {
      "cell_type": "code",
      "source": [
        "X_train_emb.shape, y_train.shape,\n",
        "y_train.value_counts()"
      ],
      "metadata": {
        "colab": {
          "base_uri": "https://localhost:8080/"
        },
        "id": "t3kaEjEKchUD",
        "outputId": "edbedc74-b93d-4745-c480-8ac472aef2f1"
      },
      "execution_count": 69,
      "outputs": [
        {
          "output_type": "execute_result",
          "data": {
            "text/plain": [
              "1    184549\n",
              "0    171103\n",
              "Name: label, dtype: int64"
            ]
          },
          "metadata": {},
          "execution_count": 69
        }
      ]
    },
    {
      "cell_type": "code",
      "source": [
        "param_grid = {'alpha': [0.001, 0.01, 0.1, 1,5,10,50, 100]}\n",
        "grid_mnb_emb_rmse = GridSearchCV(MultinomialNB(), param_grid=param_grid, scoring='neg_root_mean_squared_error')\n",
        "grid_mnb_emb_rmse.fit(X_train_emb,y_train)"
      ],
      "metadata": {
        "colab": {
          "base_uri": "https://localhost:8080/",
          "height": 715
        },
        "id": "Fp99G5ugfMWz",
        "outputId": "735e711d-1f49-4967-88b1-46bffe109328"
      },
      "execution_count": 74,
      "outputs": [
        {
          "output_type": "stream",
          "name": "stderr",
          "text": [
            "/usr/local/lib/python3.7/dist-packages/sklearn/model_selection/_validation.py:372: FitFailedWarning: \n",
            "40 fits failed out of a total of 40.\n",
            "The score on these train-test partitions for these parameters will be set to nan.\n",
            "If these failures are not expected, you can try to debug them by setting error_score='raise'.\n",
            "\n",
            "Below are more details about the failures:\n",
            "--------------------------------------------------------------------------------\n",
            "40 fits failed with the following error:\n",
            "Traceback (most recent call last):\n",
            "  File \"/usr/local/lib/python3.7/dist-packages/sklearn/model_selection/_validation.py\", line 680, in _fit_and_score\n",
            "    estimator.fit(X_train, y_train, **fit_params)\n",
            "  File \"/usr/local/lib/python3.7/dist-packages/sklearn/naive_bayes.py\", line 690, in fit\n",
            "    self._count(X, Y)\n",
            "  File \"/usr/local/lib/python3.7/dist-packages/sklearn/naive_bayes.py\", line 863, in _count\n",
            "    check_non_negative(X, \"MultinomialNB (input X)\")\n",
            "  File \"/usr/local/lib/python3.7/dist-packages/sklearn/utils/validation.py\", line 1249, in check_non_negative\n",
            "    raise ValueError(\"Negative values in data passed to %s\" % whom)\n",
            "ValueError: Negative values in data passed to MultinomialNB (input X)\n",
            "\n",
            "  warnings.warn(some_fits_failed_message, FitFailedWarning)\n",
            "/usr/local/lib/python3.7/dist-packages/sklearn/model_selection/_search.py:972: UserWarning: One or more of the test scores are non-finite: [nan nan nan nan nan nan nan nan]\n",
            "  category=UserWarning,\n"
          ]
        },
        {
          "output_type": "error",
          "ename": "ValueError",
          "evalue": "ignored",
          "traceback": [
            "\u001b[0;31m---------------------------------------------------------------------------\u001b[0m",
            "\u001b[0;31mValueError\u001b[0m                                Traceback (most recent call last)",
            "\u001b[0;32m<ipython-input-74-940cbbd379ed>\u001b[0m in \u001b[0;36m<module>\u001b[0;34m\u001b[0m\n\u001b[1;32m      1\u001b[0m \u001b[0mparam_grid\u001b[0m \u001b[0;34m=\u001b[0m \u001b[0;34m{\u001b[0m\u001b[0;34m'alpha'\u001b[0m\u001b[0;34m:\u001b[0m \u001b[0;34m[\u001b[0m\u001b[0;36m0.001\u001b[0m\u001b[0;34m,\u001b[0m \u001b[0;36m0.01\u001b[0m\u001b[0;34m,\u001b[0m \u001b[0;36m0.1\u001b[0m\u001b[0;34m,\u001b[0m \u001b[0;36m1\u001b[0m\u001b[0;34m,\u001b[0m\u001b[0;36m5\u001b[0m\u001b[0;34m,\u001b[0m\u001b[0;36m10\u001b[0m\u001b[0;34m,\u001b[0m\u001b[0;36m50\u001b[0m\u001b[0;34m,\u001b[0m \u001b[0;36m100\u001b[0m\u001b[0;34m]\u001b[0m\u001b[0;34m}\u001b[0m\u001b[0;34m\u001b[0m\u001b[0;34m\u001b[0m\u001b[0m\n\u001b[1;32m      2\u001b[0m \u001b[0mgrid_mnb_emb_rmse\u001b[0m \u001b[0;34m=\u001b[0m \u001b[0mGridSearchCV\u001b[0m\u001b[0;34m(\u001b[0m\u001b[0mMultinomialNB\u001b[0m\u001b[0;34m(\u001b[0m\u001b[0;34m)\u001b[0m\u001b[0;34m,\u001b[0m \u001b[0mparam_grid\u001b[0m\u001b[0;34m=\u001b[0m\u001b[0mparam_grid\u001b[0m\u001b[0;34m,\u001b[0m \u001b[0mscoring\u001b[0m\u001b[0;34m=\u001b[0m\u001b[0;34m'neg_root_mean_squared_error'\u001b[0m\u001b[0;34m)\u001b[0m\u001b[0;34m\u001b[0m\u001b[0;34m\u001b[0m\u001b[0m\n\u001b[0;32m----> 3\u001b[0;31m \u001b[0mgrid_mnb_emb_rmse\u001b[0m\u001b[0;34m.\u001b[0m\u001b[0mfit\u001b[0m\u001b[0;34m(\u001b[0m\u001b[0mX_train_emb\u001b[0m\u001b[0;34m,\u001b[0m\u001b[0my_train\u001b[0m\u001b[0;34m)\u001b[0m\u001b[0;34m\u001b[0m\u001b[0;34m\u001b[0m\u001b[0m\n\u001b[0m",
            "\u001b[0;32m/usr/local/lib/python3.7/dist-packages/sklearn/model_selection/_search.py\u001b[0m in \u001b[0;36mfit\u001b[0;34m(self, X, y, groups, **fit_params)\u001b[0m\n\u001b[1;32m    924\u001b[0m             \u001b[0mrefit_start_time\u001b[0m \u001b[0;34m=\u001b[0m \u001b[0mtime\u001b[0m\u001b[0;34m.\u001b[0m\u001b[0mtime\u001b[0m\u001b[0;34m(\u001b[0m\u001b[0;34m)\u001b[0m\u001b[0;34m\u001b[0m\u001b[0;34m\u001b[0m\u001b[0m\n\u001b[1;32m    925\u001b[0m             \u001b[0;32mif\u001b[0m \u001b[0my\u001b[0m \u001b[0;32mis\u001b[0m \u001b[0;32mnot\u001b[0m \u001b[0;32mNone\u001b[0m\u001b[0;34m:\u001b[0m\u001b[0;34m\u001b[0m\u001b[0;34m\u001b[0m\u001b[0m\n\u001b[0;32m--> 926\u001b[0;31m                 \u001b[0mself\u001b[0m\u001b[0;34m.\u001b[0m\u001b[0mbest_estimator_\u001b[0m\u001b[0;34m.\u001b[0m\u001b[0mfit\u001b[0m\u001b[0;34m(\u001b[0m\u001b[0mX\u001b[0m\u001b[0;34m,\u001b[0m \u001b[0my\u001b[0m\u001b[0;34m,\u001b[0m \u001b[0;34m**\u001b[0m\u001b[0mfit_params\u001b[0m\u001b[0;34m)\u001b[0m\u001b[0;34m\u001b[0m\u001b[0;34m\u001b[0m\u001b[0m\n\u001b[0m\u001b[1;32m    927\u001b[0m             \u001b[0;32melse\u001b[0m\u001b[0;34m:\u001b[0m\u001b[0;34m\u001b[0m\u001b[0;34m\u001b[0m\u001b[0m\n\u001b[1;32m    928\u001b[0m                 \u001b[0mself\u001b[0m\u001b[0;34m.\u001b[0m\u001b[0mbest_estimator_\u001b[0m\u001b[0;34m.\u001b[0m\u001b[0mfit\u001b[0m\u001b[0;34m(\u001b[0m\u001b[0mX\u001b[0m\u001b[0;34m,\u001b[0m \u001b[0;34m**\u001b[0m\u001b[0mfit_params\u001b[0m\u001b[0;34m)\u001b[0m\u001b[0;34m\u001b[0m\u001b[0;34m\u001b[0m\u001b[0m\n",
            "\u001b[0;32m/usr/local/lib/python3.7/dist-packages/sklearn/naive_bayes.py\u001b[0m in \u001b[0;36mfit\u001b[0;34m(self, X, y, sample_weight)\u001b[0m\n\u001b[1;32m    688\u001b[0m         \u001b[0mn_classes\u001b[0m \u001b[0;34m=\u001b[0m \u001b[0mY\u001b[0m\u001b[0;34m.\u001b[0m\u001b[0mshape\u001b[0m\u001b[0;34m[\u001b[0m\u001b[0;36m1\u001b[0m\u001b[0;34m]\u001b[0m\u001b[0;34m\u001b[0m\u001b[0;34m\u001b[0m\u001b[0m\n\u001b[1;32m    689\u001b[0m         \u001b[0mself\u001b[0m\u001b[0;34m.\u001b[0m\u001b[0m_init_counters\u001b[0m\u001b[0;34m(\u001b[0m\u001b[0mn_classes\u001b[0m\u001b[0;34m,\u001b[0m \u001b[0mn_features\u001b[0m\u001b[0;34m)\u001b[0m\u001b[0;34m\u001b[0m\u001b[0;34m\u001b[0m\u001b[0m\n\u001b[0;32m--> 690\u001b[0;31m         \u001b[0mself\u001b[0m\u001b[0;34m.\u001b[0m\u001b[0m_count\u001b[0m\u001b[0;34m(\u001b[0m\u001b[0mX\u001b[0m\u001b[0;34m,\u001b[0m \u001b[0mY\u001b[0m\u001b[0;34m)\u001b[0m\u001b[0;34m\u001b[0m\u001b[0;34m\u001b[0m\u001b[0m\n\u001b[0m\u001b[1;32m    691\u001b[0m         \u001b[0malpha\u001b[0m \u001b[0;34m=\u001b[0m \u001b[0mself\u001b[0m\u001b[0;34m.\u001b[0m\u001b[0m_check_alpha\u001b[0m\u001b[0;34m(\u001b[0m\u001b[0;34m)\u001b[0m\u001b[0;34m\u001b[0m\u001b[0;34m\u001b[0m\u001b[0m\n\u001b[1;32m    692\u001b[0m         \u001b[0mself\u001b[0m\u001b[0;34m.\u001b[0m\u001b[0m_update_feature_log_prob\u001b[0m\u001b[0;34m(\u001b[0m\u001b[0malpha\u001b[0m\u001b[0;34m)\u001b[0m\u001b[0;34m\u001b[0m\u001b[0;34m\u001b[0m\u001b[0m\n",
            "\u001b[0;32m/usr/local/lib/python3.7/dist-packages/sklearn/naive_bayes.py\u001b[0m in \u001b[0;36m_count\u001b[0;34m(self, X, Y)\u001b[0m\n\u001b[1;32m    861\u001b[0m     \u001b[0;32mdef\u001b[0m \u001b[0m_count\u001b[0m\u001b[0;34m(\u001b[0m\u001b[0mself\u001b[0m\u001b[0;34m,\u001b[0m \u001b[0mX\u001b[0m\u001b[0;34m,\u001b[0m \u001b[0mY\u001b[0m\u001b[0;34m)\u001b[0m\u001b[0;34m:\u001b[0m\u001b[0;34m\u001b[0m\u001b[0;34m\u001b[0m\u001b[0m\n\u001b[1;32m    862\u001b[0m         \u001b[0;34m\"\"\"Count and smooth feature occurrences.\"\"\"\u001b[0m\u001b[0;34m\u001b[0m\u001b[0;34m\u001b[0m\u001b[0m\n\u001b[0;32m--> 863\u001b[0;31m         \u001b[0mcheck_non_negative\u001b[0m\u001b[0;34m(\u001b[0m\u001b[0mX\u001b[0m\u001b[0;34m,\u001b[0m \u001b[0;34m\"MultinomialNB (input X)\"\u001b[0m\u001b[0;34m)\u001b[0m\u001b[0;34m\u001b[0m\u001b[0;34m\u001b[0m\u001b[0m\n\u001b[0m\u001b[1;32m    864\u001b[0m         \u001b[0mself\u001b[0m\u001b[0;34m.\u001b[0m\u001b[0mfeature_count_\u001b[0m \u001b[0;34m+=\u001b[0m \u001b[0msafe_sparse_dot\u001b[0m\u001b[0;34m(\u001b[0m\u001b[0mY\u001b[0m\u001b[0;34m.\u001b[0m\u001b[0mT\u001b[0m\u001b[0;34m,\u001b[0m \u001b[0mX\u001b[0m\u001b[0;34m)\u001b[0m\u001b[0;34m\u001b[0m\u001b[0;34m\u001b[0m\u001b[0m\n\u001b[1;32m    865\u001b[0m         \u001b[0mself\u001b[0m\u001b[0;34m.\u001b[0m\u001b[0mclass_count_\u001b[0m \u001b[0;34m+=\u001b[0m \u001b[0mY\u001b[0m\u001b[0;34m.\u001b[0m\u001b[0msum\u001b[0m\u001b[0;34m(\u001b[0m\u001b[0maxis\u001b[0m\u001b[0;34m=\u001b[0m\u001b[0;36m0\u001b[0m\u001b[0;34m)\u001b[0m\u001b[0;34m\u001b[0m\u001b[0;34m\u001b[0m\u001b[0m\n",
            "\u001b[0;32m/usr/local/lib/python3.7/dist-packages/sklearn/utils/validation.py\u001b[0m in \u001b[0;36mcheck_non_negative\u001b[0;34m(X, whom)\u001b[0m\n\u001b[1;32m   1247\u001b[0m \u001b[0;34m\u001b[0m\u001b[0m\n\u001b[1;32m   1248\u001b[0m     \u001b[0;32mif\u001b[0m \u001b[0mX_min\u001b[0m \u001b[0;34m<\u001b[0m \u001b[0;36m0\u001b[0m\u001b[0;34m:\u001b[0m\u001b[0;34m\u001b[0m\u001b[0;34m\u001b[0m\u001b[0m\n\u001b[0;32m-> 1249\u001b[0;31m         \u001b[0;32mraise\u001b[0m \u001b[0mValueError\u001b[0m\u001b[0;34m(\u001b[0m\u001b[0;34m\"Negative values in data passed to %s\"\u001b[0m \u001b[0;34m%\u001b[0m \u001b[0mwhom\u001b[0m\u001b[0;34m)\u001b[0m\u001b[0;34m\u001b[0m\u001b[0;34m\u001b[0m\u001b[0m\n\u001b[0m\u001b[1;32m   1250\u001b[0m \u001b[0;34m\u001b[0m\u001b[0m\n\u001b[1;32m   1251\u001b[0m \u001b[0;34m\u001b[0m\u001b[0m\n",
            "\u001b[0;31mValueError\u001b[0m: Negative values in data passed to MultinomialNB (input X)"
          ]
        }
      ]
    },
    {
      "cell_type": "code",
      "source": [],
      "metadata": {
        "id": "N6okCcj5gJGA"
      },
      "execution_count": null,
      "outputs": []
    }
  ]
}