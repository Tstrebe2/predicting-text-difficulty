{
  "nbformat": 4,
  "nbformat_minor": 0,
  "metadata": {
    "colab": {
      "provenance": [],
      "authorship_tag": "ABX9TyOoy95gdP/T85GhF73PZFG4",
      "include_colab_link": true
    },
    "kernelspec": {
      "name": "python3",
      "display_name": "Python 3"
    },
    "language_info": {
      "name": "python"
    }
  },
  "cells": [
    {
      "cell_type": "markdown",
      "metadata": {
        "id": "view-in-github",
        "colab_type": "text"
      },
      "source": [
        "<a href=\"https://colab.research.google.com/github/Tstrebe2/predicting-text-difficulty/blob/tim-updates/code/tim-wiki-eda.ipynb\" target=\"_parent\"><img src=\"https://colab.research.google.com/assets/colab-badge.svg\" alt=\"Open In Colab\"/></a>"
      ]
    },
    {
      "cell_type": "markdown",
      "source": [
        "# Wikipedia Article EDA Notebook"
      ],
      "metadata": {
        "id": "wjIGZwEw-shy"
      }
    },
    {
      "cell_type": "code",
      "execution_count": 10,
      "metadata": {
        "id": "EyWuN2bs-kUF"
      },
      "outputs": [],
      "source": [
        "import pandas as pd\n",
        "import requests\n",
        "import matplotlib.pyplot as plt"
      ]
    },
    {
      "cell_type": "code",
      "source": [
        "urls = ['https://raw.githubusercontent.com/Tstrebe2/predicting-text-difficulty/main/assets/dale_chall.txt',\n",
        "        'https://raw.githubusercontent.com/Tstrebe2/predicting-text-difficulty/main/assets/Concreteness_ratings_Brysbaert_et_al_BRM.txt',\n",
        "        'https://raw.githubusercontent.com/Tstrebe2/predicting-text-difficulty/main/assets/AoA_51715_words.csv',\n",
        "        'https://raw.githubusercontent.com/Tstrebe2/predicting-text-difficulty/main/assets/WikiLarge_Train.csv',\n",
        "        'https://raw.githubusercontent.com/Tstrebe2/predicting-text-difficulty/main/assets/WikiLarge_Test.csv',\n",
        "        'https://raw.githubusercontent.com/Tstrebe2/predicting-text-difficulty/main/assets/sampleSubmission.csv']\n",
        "\n",
        "d_chall = requests.get(urls[0]).text.split('\\r')\n",
        "conc_df = pd.read_csv(urls[1], sep='\\t')\n",
        "aoa_df = pd.read_csv(urls[2], encoding_errors='ignore')\n",
        "\n",
        "wiki_df_train = pd.read_csv(urls[3])\n",
        "# The labels column is purely null values so I'm going to throw it away\n",
        "wiki_df_test = pd.read_csv(urls[4], usecols=['id', 'original_text']).set_index('id')\n",
        "sample_df = pd.read_csv(urls[5]).set_index('id')"
      ],
      "metadata": {
        "id": "A2b4PBel-0kI"
      },
      "execution_count": 6,
      "outputs": []
    },
    {
      "cell_type": "markdown",
      "source": [
        "## Word Frequencies and sentence Lengths"
      ],
      "metadata": {
        "id": "LEj4q3q1MAeu"
      }
    },
    {
      "cell_type": "code",
      "source": [
        "def plot_sentence_character_lengths(wiki_df):\n",
        "  sentence_lengths = wiki_df['original_text'].apply(len)\n",
        "  plt.hist(sentence_lengths, bins=100)\n",
        "  plt.xlim(0)\n",
        "  plt.show()\n",
        "\n",
        "plot_sentence_character_lengths(wiki_df_train)"
      ],
      "metadata": {
        "colab": {
          "base_uri": "https://localhost:8080/",
          "height": 265
        },
        "id": "YAYpJYx1_AED",
        "outputId": "30ce8f44-2a31-4909-e468-e220d486af9b"
      },
      "execution_count": 24,
      "outputs": [
        {
          "output_type": "display_data",
          "data": {
            "text/plain": [
              "<Figure size 432x288 with 1 Axes>"
            ],
            "image/png": "[encoded data removed]"
          },
          "metadata": {
            "needs_background": "light"
          }
        }
      ]
    },
    {
      "cell_type": "markdown",
      "source": [
        "Top 10 sentences with 3 or less characters"
      ],
      "metadata": {
        "id": "ao0Mqv68MMmb"
      }
    },
    {
      "cell_type": "code",
      "source": [
        "(wiki_df_train[wiki_df_train['original_text'].apply(len) < 4]\n",
        " ['original_text']\n",
        " .value_counts()\n",
        " .sort_values(ascending=False)\n",
        " .head(10))"
      ],
      "metadata": {
        "colab": {
          "base_uri": "https://localhost:8080/"
        },
        "id": "6BtOdLAqMGMF",
        "outputId": "d6cd110b-b16c-4273-f3e4-ae6cbe976b89"
      },
      "execution_count": 37,
      "outputs": [
        {
          "output_type": "execute_result",
          "data": {
            "text/plain": [
              "!      111\n",
              ".      109\n",
              "The     55\n",
              "C.      25\n",
              "New     17\n",
              "A       17\n",
              "--      17\n",
              "jpg     15\n",
              ",       13\n",
              "png     13\n",
              "Name: original_text, dtype: int64"
            ]
          },
          "metadata": {},
          "execution_count": 37
        }
      ]
    },
    {
      "cell_type": "code",
      "source": [
        "def plot_sentence_word_frequencies(wiki_df):\n",
        "  # For this exerices I will use the Python split method to tokenize my sentences\n",
        "  word_freqs = wiki_df['original_text'].apply(lambda x: len(x.split(' ')))\n",
        "  plt.hist(word_freqs, bins=100)\n",
        "  plt.xlim(0)\n",
        "  plt.show()\n",
        "\n",
        "plot_sentence_word_frequencies(wiki_df_train)"
      ],
      "metadata": {
        "colab": {
          "base_uri": "https://localhost:8080/",
          "height": 265
        },
        "id": "2g_WwQgOJp8C",
        "outputId": "669fa439-8897-4dac-ca77-bccce2454e9d"
      },
      "execution_count": 40,
      "outputs": [
        {
          "output_type": "display_data",
          "data": {
            "text/plain": [
              "<Figure size 432x288 with 1 Axes>"
            ],
            "image/png": "[encoded data removed]"
          },
          "metadata": {
            "needs_background": "light"
          }
        }
      ]
    },
    {
      "cell_type": "markdown",
      "source": [
        "Top 12 single-token sentences"
      ],
      "metadata": {
        "id": "-b0wb6WsMK5k"
      }
    },
    {
      "cell_type": "code",
      "source": [
        "(wiki_df_train[wiki_df_train['original_text'].apply(lambda x: len(x.split(' '))) == 1]\n",
        " ['original_text']\n",
        " .value_counts()\n",
        " .sort_values(ascending=False)\n",
        " .head(12))"
      ],
      "metadata": {
        "colab": {
          "base_uri": "https://localhost:8080/"
        },
        "id": "-p0SQe1GLTPF",
        "outputId": "70d626a6-f4f2-4b52-b0ce-6933f7b08052"
      },
      "execution_count": 39,
      "outputs": [
        {
          "output_type": "execute_result",
          "data": {
            "text/plain": [
              "References    1051\n",
              "History        265\n",
              "Official       159\n",
              "Deaths         142\n",
              "Events         140\n",
              "Births         123\n",
              "!              111\n",
              ".              109\n",
              "#NAME?          63\n",
              "Name            56\n",
              "The             55\n",
              "Life            55\n",
              "Name: original_text, dtype: int64"
            ]
          },
          "metadata": {},
          "execution_count": 39
        }
      ]
    }
  ]
}