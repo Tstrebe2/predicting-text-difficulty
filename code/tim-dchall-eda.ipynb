{
  "nbformat": 4,
  "nbformat_minor": 0,
  "metadata": {
    "colab": {
      "provenance": [],
      "authorship_tag": "ABX9TyPvys9LJwJVEAma7qJS3oJ3",
      "include_colab_link": true
    },
    "kernelspec": {
      "name": "python3",
      "display_name": "Python 3"
    },
    "language_info": {
      "name": "python"
    },
    "accelerator": "GPU"
  },
  "cells": [
    {
      "cell_type": "markdown",
      "metadata": {
        "id": "view-in-github",
        "colab_type": "text"
      },
      "source": [
        "<a href=\"https://colab.research.google.com/github/Tstrebe2/predicting-text-difficulty/blob/tim-updates/tim-dchall-eda.ipynb\" target=\"_parent\"><img src=\"https://colab.research.google.com/assets/colab-badge.svg\" alt=\"Open In Colab\"/></a>"
      ]
    },
    {
      "cell_type": "markdown",
      "source": [
        "# Dale Chall Word List EDA"
      ],
      "metadata": {
        "id": "eOqHITtyOrgB"
      }
    },
    {
      "cell_type": "code",
      "execution_count": 4,
      "metadata": {
        "colab": {
          "base_uri": "https://localhost:8080/"
        },
        "id": "NAtM4tVROgHv",
        "outputId": "f6cd9a6d-daf5-4333-f584-9cc2c9df53c5"
      },
      "outputs": [
        {
          "output_type": "stream",
          "name": "stdout",
          "text": [
            "\u001b[33mWARNING: Running pip as the 'root' user can result in broken permissions and conflicting behaviour with the system package manager. It is recommended to use a virtual environment instead: https://pip.pypa.io/warnings/venv\u001b[0m\u001b[33m\n",
            "\u001b[0m"
          ]
        }
      ],
      "source": [
        "import sys\n",
        "import seaborn as sns\n",
        "from sklearn.feature_selection import mutual_info_classif\n",
        "\n",
        "!{sys.executable} -m pip install spacy -U -q"
      ]
    },
    {
      "cell_type": "code",
      "source": [
        "!{sys.executable} -m pip install pip install textdescriptives -U -q\n",
        "!{sys.executable} -m spacy download en_core_web_lg -q"
      ],
      "metadata": {
        "id": "PEQ819l6O1xn",
        "outputId": "a30e7507-3d65-4da9-9cc7-b9a88a521aae",
        "colab": {
          "base_uri": "https://localhost:8080/"
        }
      },
      "execution_count": 5,
      "outputs": [
        {
          "output_type": "stream",
          "name": "stdout",
          "text": [
            "\u001b[33mWARNING: Running pip as the 'root' user can result in broken permissions and conflicting behaviour with the system package manager. It is recommended to use a virtual environment instead: https://pip.pypa.io/warnings/venv\u001b[0m\u001b[33m\n",
            "\u001b[2K     \u001b[90m━━━━━━━━━━━━━━━━━━━━━━━━━━━━━━━━━━━━━━━\u001b[0m \u001b[32m587.7/587.7 MB\u001b[0m \u001b[31m2.5 MB/s\u001b[0m eta \u001b[36m0:00:00\u001b[0m\n",
            "\u001b[?25h\u001b[33mWARNING: Running pip as the 'root' user can result in broken permissions and conflicting behaviour with the system package manager. It is recommended to use a virtual environment instead: https://pip.pypa.io/warnings/venv\u001b[0m\u001b[33m\n",
            "\u001b[0m\u001b[38;5;2m✔ Download and installation successful\u001b[0m\n",
            "You can now load the package via spacy.load('en_core_web_lg')\n"
          ]
        }
      ]
    },
    {
      "cell_type": "code",
      "source": [
        "import pandas as pd\n",
        "import requests\n",
        "import matplotlib.pyplot as plt\n",
        "import numpy as np\n",
        "from sklearn.feature_extraction.text import CountVectorizer"
      ],
      "metadata": {
        "id": "2u5Nf4SzQP0o"
      },
      "execution_count": 6,
      "outputs": []
    },
    {
      "cell_type": "code",
      "source": [
        "urls = ['https://raw.githubusercontent.com/Tstrebe2/predicting-text-difficulty/main/assets/dale_chall.txt',\n",
        "        'https://raw.githubusercontent.com/Tstrebe2/predicting-text-difficulty/main/assets/WikiLarge_Lemmatized_Train.csv']\n",
        "\n",
        "d_chall = requests.get(urls[0]).text.split('\\r')\n",
        "\n",
        "wiki_df_train = pd.read_csv(urls[1])"
      ],
      "metadata": {
        "id": "1cL1-ZNSOxAE"
      },
      "execution_count": 7,
      "outputs": []
    },
    {
      "cell_type": "code",
      "source": [
        "d_chall = set([w for w in [w.lemma_.lower() for w in nlp(' '.join(d_chall))] if w not in set([' ', '-', '  '])])"
      ],
      "metadata": {
        "id": "nfi-RcB2hzXV"
      },
      "execution_count": 47,
      "outputs": []
    },
    {
      "cell_type": "code",
      "source": [
        "tokenizer = lambda x: x.split(' ')\n",
        "vectorizer = CountVectorizer(tokenizer=tokenizer)\n",
        "X = vectorizer.fit_transform(wiki_df_train['lemmatized_text'])"
      ],
      "metadata": {
        "id": "qYg0DSm8X1k2"
      },
      "execution_count": 48,
      "outputs": []
    },
    {
      "cell_type": "code",
      "source": [
        "feature_array = np.array(vectorizer.get_feature_names_out())\n",
        "ix = np.where(np.array([True if f in d_chall else False for f in feature_array]))[0]\n",
        "wiki_df_train['d_chall'] = np.array(X[:, ix].sum(axis=1))/np.array(X.sum(axis=1))"
      ],
      "metadata": {
        "id": "jjnAgPk9cjKP"
      },
      "execution_count": 49,
      "outputs": []
    },
    {
      "cell_type": "code",
      "source": [
        "wiki_df_train"
      ],
      "metadata": {
        "colab": {
          "base_uri": "https://localhost:8080/",
          "height": 424
        },
        "id": "H2AqWiKEdF8J",
        "outputId": "2098ab2e-7150-4820-adc5-76ccfea68bf1"
      },
      "execution_count": 9,
      "outputs": [
        {
          "output_type": "execute_result",
          "data": {
            "text/plain": [
              "        Unnamed: 0                                      original_text  label  \\\n",
              "0                0  There is manuscript evidence that Austen conti...      1   \n",
              "1                1  In a remarkable comparative analysis , Mandaea...      1   \n",
              "2                2  Before Persephone was released to Hermes , who...      1   \n",
              "3                3  Cogeneration plants are commonly found in dist...      1   \n",
              "4                4  Geneva -LRB- , ; , ; , ; ; -RRB- is the second...      1   \n",
              "...            ...                                                ...    ...   \n",
              "416763      416763  A Duke Nukem 3D version has been sold for Xbox...      0   \n",
              "416764      416764  However , it is becoming replaced as a method ...      0   \n",
              "416765      416765  There are hand gestures in both Hindu and Budd...      0   \n",
              "416766      416766  If it is necessary to use colors , try to choo...      0   \n",
              "416767      416767                               Calgary Stampeders ,      0   \n",
              "\n",
              "                                          lemmatized_text   d_chall  \n",
              "0       there be manuscript evidence that Austen conti...  0.488372  \n",
              "1       in a remarkable comparative analysis , mandaea...  0.280000  \n",
              "2       before Persephone be release to Hermes , who h...  0.630435  \n",
              "3       cogeneration plant be commonly find in distric...  0.487179  \n",
              "4       Geneva -LRB- , ; , ; , ; ; -rrb- be the second...  0.428571  \n",
              "...                                                   ...       ...  \n",
              "416763  a Duke Nukem 3d version have be sell for Xbox ...  0.470588  \n",
              "416764  however , it be become replace as a method of ...  0.600000  \n",
              "416765  there be hand gesture in both Hindu and buddhi...  0.545455  \n",
              "416766  if it be necessary to use color , try to choos...  0.704545  \n",
              "416767                               Calgary Stampeders ,  0.000000  \n",
              "\n",
              "[416768 rows x 5 columns]"
            ],
            "text/html": [
              "\n",
              "  <div id=\"df-55733531-c6e8-4c58-9e21-1d80a4f2068f\">\n",
              "    <div class=\"colab-df-container\">\n",
              "      <div>\n",
              "<style scoped>\n",
              "    .dataframe tbody tr th:only-of-type {\n",
              "        vertical-align: middle;\n",
              "    }\n",
              "\n",
              "    .dataframe tbody tr th {\n",
              "        vertical-align: top;\n",
              "    }\n",
              "\n",
              "    .dataframe thead th {\n",
              "        text-align: right;\n",
              "    }\n",
              "</style>\n",
              "<table border=\"1\" class=\"dataframe\">\n",
              "  <thead>\n",
              "    <tr style=\"text-align: right;\">\n",
              "      <th></th>\n",
              "      <th>Unnamed: 0</th>\n",
              "      <th>original_text</th>\n",
              "      <th>label</th>\n",
              "      <th>lemmatized_text</th>\n",
              "      <th>d_chall</th>\n",
              "    </tr>\n",
              "  </thead>\n",
              "  <tbody>\n",
              "    <tr>\n",
              "      <th>0</th>\n",
              "      <td>0</td>\n",
              "      <td>There is manuscript evidence that Austen conti...</td>\n",
              "      <td>1</td>\n",
              "      <td>there be manuscript evidence that Austen conti...</td>\n",
              "      <td>0.488372</td>\n",
              "    </tr>\n",
              "    <tr>\n",
              "      <th>1</th>\n",
              "      <td>1</td>\n",
              "      <td>In a remarkable comparative analysis , Mandaea...</td>\n",
              "      <td>1</td>\n",
              "      <td>in a remarkable comparative analysis , mandaea...</td>\n",
              "      <td>0.280000</td>\n",
              "    </tr>\n",
              "    <tr>\n",
              "      <th>2</th>\n",
              "      <td>2</td>\n",
              "      <td>Before Persephone was released to Hermes , who...</td>\n",
              "      <td>1</td>\n",
              "      <td>before Persephone be release to Hermes , who h...</td>\n",
              "      <td>0.630435</td>\n",
              "    </tr>\n",
              "    <tr>\n",
              "      <th>3</th>\n",
              "      <td>3</td>\n",
              "      <td>Cogeneration plants are commonly found in dist...</td>\n",
              "      <td>1</td>\n",
              "      <td>cogeneration plant be commonly find in distric...</td>\n",
              "      <td>0.487179</td>\n",
              "    </tr>\n",
              "    <tr>\n",
              "      <th>4</th>\n",
              "      <td>4</td>\n",
              "      <td>Geneva -LRB- , ; , ; , ; ; -RRB- is the second...</td>\n",
              "      <td>1</td>\n",
              "      <td>Geneva -LRB- , ; , ; , ; ; -rrb- be the second...</td>\n",
              "      <td>0.428571</td>\n",
              "    </tr>\n",
              "    <tr>\n",
              "      <th>...</th>\n",
              "      <td>...</td>\n",
              "      <td>...</td>\n",
              "      <td>...</td>\n",
              "      <td>...</td>\n",
              "      <td>...</td>\n",
              "    </tr>\n",
              "    <tr>\n",
              "      <th>416763</th>\n",
              "      <td>416763</td>\n",
              "      <td>A Duke Nukem 3D version has been sold for Xbox...</td>\n",
              "      <td>0</td>\n",
              "      <td>a Duke Nukem 3d version have be sell for Xbox ...</td>\n",
              "      <td>0.470588</td>\n",
              "    </tr>\n",
              "    <tr>\n",
              "      <th>416764</th>\n",
              "      <td>416764</td>\n",
              "      <td>However , it is becoming replaced as a method ...</td>\n",
              "      <td>0</td>\n",
              "      <td>however , it be become replace as a method of ...</td>\n",
              "      <td>0.600000</td>\n",
              "    </tr>\n",
              "    <tr>\n",
              "      <th>416765</th>\n",
              "      <td>416765</td>\n",
              "      <td>There are hand gestures in both Hindu and Budd...</td>\n",
              "      <td>0</td>\n",
              "      <td>there be hand gesture in both Hindu and buddhi...</td>\n",
              "      <td>0.545455</td>\n",
              "    </tr>\n",
              "    <tr>\n",
              "      <th>416766</th>\n",
              "      <td>416766</td>\n",
              "      <td>If it is necessary to use colors , try to choo...</td>\n",
              "      <td>0</td>\n",
              "      <td>if it be necessary to use color , try to choos...</td>\n",
              "      <td>0.704545</td>\n",
              "    </tr>\n",
              "    <tr>\n",
              "      <th>416767</th>\n",
              "      <td>416767</td>\n",
              "      <td>Calgary Stampeders ,</td>\n",
              "      <td>0</td>\n",
              "      <td>Calgary Stampeders ,</td>\n",
              "      <td>0.000000</td>\n",
              "    </tr>\n",
              "  </tbody>\n",
              "</table>\n",
              "<p>416768 rows × 5 columns</p>\n",
              "</div>\n",
              "      <button class=\"colab-df-convert\" onclick=\"convertToInteractive('df-55733531-c6e8-4c58-9e21-1d80a4f2068f')\"\n",
              "              title=\"Convert this dataframe to an interactive table.\"\n",
              "              style=\"display:none;\">\n",
              "        \n",
              "  <svg xmlns=\"http://www.w3.org/2000/svg\" height=\"24px\"viewBox=\"0 0 24 24\"\n",
              "       width=\"24px\">\n",
              "    <path d=\"M0 0h24v24H0V0z\" fill=\"none\"/>\n",
              "    <path d=\"M18.56 5.44l.94 2.06.94-2.06 2.06-.94-2.06-.94-.94-2.06-.94 2.06-2.06.94zm-11 1L8.5 8.5l.94-2.06 2.06-.94-2.06-.94L8.5 2.5l-.94 2.06-2.06.94zm10 10l.94 2.06.94-2.06 2.06-.94-2.06-.94-.94-2.06-.94 2.06-2.06.94z\"/><path d=\"M17.41 7.96l-1.37-1.37c-.4-.4-.92-.59-1.43-.59-.52 0-1.04.2-1.43.59L10.3 9.45l-7.72 7.72c-.78.78-.78 2.05 0 2.83L4 21.41c.39.39.9.59 1.41.59.51 0 1.02-.2 1.41-.59l7.78-7.78 2.81-2.81c.8-.78.8-2.07 0-2.86zM5.41 20L4 18.59l7.72-7.72 1.47 1.35L5.41 20z\"/>\n",
              "  </svg>\n",
              "      </button>\n",
              "      \n",
              "  <style>\n",
              "    .colab-df-container {\n",
              "      display:flex;\n",
              "      flex-wrap:wrap;\n",
              "      gap: 12px;\n",
              "    }\n",
              "\n",
              "    .colab-df-convert {\n",
              "      background-color: #E8F0FE;\n",
              "      border: none;\n",
              "      border-radius: 50%;\n",
              "      cursor: pointer;\n",
              "      display: none;\n",
              "      fill: #1967D2;\n",
              "      height: 32px;\n",
              "      padding: 0 0 0 0;\n",
              "      width: 32px;\n",
              "    }\n",
              "\n",
              "    .colab-df-convert:hover {\n",
              "      background-color: #E2EBFA;\n",
              "      box-shadow: 0px 1px 2px rgba(60, 64, 67, 0.3), 0px 1px 3px 1px rgba(60, 64, 67, 0.15);\n",
              "      fill: #174EA6;\n",
              "    }\n",
              "\n",
              "    [theme=dark] .colab-df-convert {\n",
              "      background-color: #3B4455;\n",
              "      fill: #D2E3FC;\n",
              "    }\n",
              "\n",
              "    [theme=dark] .colab-df-convert:hover {\n",
              "      background-color: #434B5C;\n",
              "      box-shadow: 0px 1px 3px 1px rgba(0, 0, 0, 0.15);\n",
              "      filter: drop-shadow(0px 1px 2px rgba(0, 0, 0, 0.3));\n",
              "      fill: #FFFFFF;\n",
              "    }\n",
              "  </style>\n",
              "\n",
              "      <script>\n",
              "        const buttonEl =\n",
              "          document.querySelector('#df-55733531-c6e8-4c58-9e21-1d80a4f2068f button.colab-df-convert');\n",
              "        buttonEl.style.display =\n",
              "          google.colab.kernel.accessAllowed ? 'block' : 'none';\n",
              "\n",
              "        async function convertToInteractive(key) {\n",
              "          const element = document.querySelector('#df-55733531-c6e8-4c58-9e21-1d80a4f2068f');\n",
              "          const dataTable =\n",
              "            await google.colab.kernel.invokeFunction('convertToInteractive',\n",
              "                                                     [key], {});\n",
              "          if (!dataTable) return;\n",
              "\n",
              "          const docLinkHtml = 'Like what you see? Visit the ' +\n",
              "            '<a target=\"_blank\" href=https://colab.research.google.com/notebooks/data_table.ipynb>data table notebook</a>'\n",
              "            + ' to learn more about interactive tables.';\n",
              "          element.innerHTML = '';\n",
              "          dataTable['output_type'] = 'display_data';\n",
              "          await google.colab.output.renderOutput(dataTable, element);\n",
              "          const docLink = document.createElement('div');\n",
              "          docLink.innerHTML = docLinkHtml;\n",
              "          element.appendChild(docLink);\n",
              "        }\n",
              "      </script>\n",
              "    </div>\n",
              "  </div>\n",
              "  "
            ]
          },
          "metadata": {},
          "execution_count": 9
        }
      ]
    },
    {
      "cell_type": "code",
      "source": [
        "sns.boxplot(data=wiki_df_train, x='label', y='d_chall')\n",
        "print('mutual info gain:', mutual_info_classif(wiki_df_train[['d_chall']], wiki_df_train['label'])[0])"
      ],
      "metadata": {
        "colab": {
          "base_uri": "https://localhost:8080/",
          "height": 296
        },
        "id": "-mcR7ncZdIhM",
        "outputId": "641cfd63-383a-441d-c13f-1d00d5009c32"
      },
      "execution_count": 56,
      "outputs": [
        {
          "output_type": "stream",
          "name": "stdout",
          "text": [
            "mutual info gain: 0.0380832223501939\n"
          ]
        },
        {
          "output_type": "display_data",
          "data": {
            "text/plain": [
              "<Figure size 432x288 with 1 Axes>"
            ],
            "image/png": "[encoded data removed]"
          },
          "metadata": {
            "needs_background": "light"
          }
        }
      ]
    },
    {
      "cell_type": "code",
      "source": [
        "len([w for w in d_chall if w not in feature_array])"
      ],
      "metadata": {
        "colab": {
          "base_uri": "https://localhost:8080/"
        },
        "id": "hha3Ko0fer0F",
        "outputId": "8108be9b-0170-41d5-9a1d-305628f2c85e"
      },
      "execution_count": 10,
      "outputs": [
        {
          "output_type": "execute_result",
          "data": {
            "text/plain": [
              "64"
            ]
          },
          "metadata": {},
          "execution_count": 10
        }
      ]
    },
    {
      "cell_type": "code",
      "source": [
        "import spacy\n",
        "import textdescriptives as td\n",
        "\n",
        "sample = (wiki_df_train.groupby('label')\n",
        "  .apply(lambda grp: grp.sample(10000)))\n",
        "\n",
        "nlp = spacy.load('en_core_web_lg')\n",
        "nlp.add_pipe(\"textdescriptives\")\n",
        "docs = nlp.pipe(sample['original_text'])"
      ],
      "metadata": {
        "id": "dCUUzGWhTHNi"
      },
      "execution_count": 8,
      "outputs": []
    },
    {
      "cell_type": "code",
      "source": [
        "wiki_read = td.extract_df(docs, metrics = [\"readability\"])\n",
        "wiki_read['label'] = sample['label'].values"
      ],
      "metadata": {
        "id": "srY_B7w1bJF_",
        "outputId": "13671d69-36a1-4ac1-db34-f384fb60e3ed",
        "colab": {
          "base_uri": "https://localhost:8080/"
        }
      },
      "execution_count": 9,
      "outputs": [
        {
          "output_type": "stream",
          "name": "stderr",
          "text": [
            "/usr/local/lib/python3.7/dist-packages/numpy/core/fromnumeric.py:3441: RuntimeWarning: Mean of empty slice.\n",
            "  out=out, **kwargs)\n",
            "/usr/local/lib/python3.7/dist-packages/numpy/core/_methods.py:189: RuntimeWarning: invalid value encountered in double_scalars\n",
            "  ret = ret.dtype.type(ret / rcount)\n",
            "/usr/local/lib/python3.7/dist-packages/numpy/core/_methods.py:263: RuntimeWarning: Degrees of freedom <= 0 for slice\n",
            "  keepdims=keepdims, where=where)\n",
            "/usr/local/lib/python3.7/dist-packages/numpy/core/_methods.py:223: RuntimeWarning: invalid value encountered in true_divide\n",
            "  subok=False)\n",
            "/usr/local/lib/python3.7/dist-packages/numpy/core/_methods.py:254: RuntimeWarning: invalid value encountered in double_scalars\n",
            "  ret = ret.dtype.type(ret / rcount)\n"
          ]
        }
      ]
    },
    {
      "cell_type": "code",
      "source": [
        "wiki_read.describe()"
      ],
      "metadata": {
        "id": "P1RdbwXBcYxl",
        "outputId": "ff3c92db-09ea-4fc7-dc45-751083df7b16",
        "colab": {
          "base_uri": "https://localhost:8080/",
          "height": 364
        }
      },
      "execution_count": 26,
      "outputs": [
        {
          "output_type": "execute_result",
          "data": {
            "text/plain": [
              "       flesch_reading_ease  flesch_kincaid_grade        smog   gunning_fog  \\\n",
              "count         19986.000000          19986.000000  557.000000  19986.000000   \n",
              "mean             62.999364              8.787396   10.308397     11.993393   \n",
              "std              27.956276              5.172452    2.230090      6.451853   \n",
              "min            -217.180000             -3.595000    3.129100      0.200000   \n",
              "25%              47.832500              5.400000    8.841846      8.105882   \n",
              "50%              65.168235              8.400000   10.504224     11.505882   \n",
              "75%              80.332500             11.752222   11.855464     15.770370   \n",
              "max             121.727500             43.800000   16.322122     41.600000   \n",
              "\n",
              "       automated_readability_index  coleman_liau_index           lix  \\\n",
              "count                 19986.000000        19986.000000  19986.000000   \n",
              "mean                     10.310749            9.793941     43.003373   \n",
              "std                       6.312858            5.545499     18.055064   \n",
              "min                     -16.220000          -39.720000      0.500000   \n",
              "25%                       6.157500            7.406000     31.222222   \n",
              "50%                       9.760000           10.118520     42.333333   \n",
              "75%                      13.851923           12.789091     53.444444   \n",
              "max                      61.995000           72.300000    114.932203   \n",
              "\n",
              "                rix         label  \n",
              "count  19986.000000  20000.000000  \n",
              "mean       4.283398      0.500000  \n",
              "std        3.260547      0.500013  \n",
              "min        0.000000      0.000000  \n",
              "25%        2.000000      0.000000  \n",
              "50%        4.000000      0.500000  \n",
              "75%        6.000000      1.000000  \n",
              "max       33.000000      1.000000  "
            ],
            "text/html": [
              "\n",
              "  <div id=\"df-28ffe818-9396-40d1-ba3c-4615784dfd6c\">\n",
              "    <div class=\"colab-df-container\">\n",
              "      <div>\n",
              "<style scoped>\n",
              "    .dataframe tbody tr th:only-of-type {\n",
              "        vertical-align: middle;\n",
              "    }\n",
              "\n",
              "    .dataframe tbody tr th {\n",
              "        vertical-align: top;\n",
              "    }\n",
              "\n",
              "    .dataframe thead th {\n",
              "        text-align: right;\n",
              "    }\n",
              "</style>\n",
              "<table border=\"1\" class=\"dataframe\">\n",
              "  <thead>\n",
              "    <tr style=\"text-align: right;\">\n",
              "      <th></th>\n",
              "      <th>flesch_reading_ease</th>\n",
              "      <th>flesch_kincaid_grade</th>\n",
              "      <th>smog</th>\n",
              "      <th>gunning_fog</th>\n",
              "      <th>automated_readability_index</th>\n",
              "      <th>coleman_liau_index</th>\n",
              "      <th>lix</th>\n",
              "      <th>rix</th>\n",
              "      <th>label</th>\n",
              "    </tr>\n",
              "  </thead>\n",
              "  <tbody>\n",
              "    <tr>\n",
              "      <th>count</th>\n",
              "      <td>19986.000000</td>\n",
              "      <td>19986.000000</td>\n",
              "      <td>557.000000</td>\n",
              "      <td>19986.000000</td>\n",
              "      <td>19986.000000</td>\n",
              "      <td>19986.000000</td>\n",
              "      <td>19986.000000</td>\n",
              "      <td>19986.000000</td>\n",
              "      <td>20000.000000</td>\n",
              "    </tr>\n",
              "    <tr>\n",
              "      <th>mean</th>\n",
              "      <td>62.999364</td>\n",
              "      <td>8.787396</td>\n",
              "      <td>10.308397</td>\n",
              "      <td>11.993393</td>\n",
              "      <td>10.310749</td>\n",
              "      <td>9.793941</td>\n",
              "      <td>43.003373</td>\n",
              "      <td>4.283398</td>\n",
              "      <td>0.500000</td>\n",
              "    </tr>\n",
              "    <tr>\n",
              "      <th>std</th>\n",
              "      <td>27.956276</td>\n",
              "      <td>5.172452</td>\n",
              "      <td>2.230090</td>\n",
              "      <td>6.451853</td>\n",
              "      <td>6.312858</td>\n",
              "      <td>5.545499</td>\n",
              "      <td>18.055064</td>\n",
              "      <td>3.260547</td>\n",
              "      <td>0.500013</td>\n",
              "    </tr>\n",
              "    <tr>\n",
              "      <th>min</th>\n",
              "      <td>-217.180000</td>\n",
              "      <td>-3.595000</td>\n",
              "      <td>3.129100</td>\n",
              "      <td>0.200000</td>\n",
              "      <td>-16.220000</td>\n",
              "      <td>-39.720000</td>\n",
              "      <td>0.500000</td>\n",
              "      <td>0.000000</td>\n",
              "      <td>0.000000</td>\n",
              "    </tr>\n",
              "    <tr>\n",
              "      <th>25%</th>\n",
              "      <td>47.832500</td>\n",
              "      <td>5.400000</td>\n",
              "      <td>8.841846</td>\n",
              "      <td>8.105882</td>\n",
              "      <td>6.157500</td>\n",
              "      <td>7.406000</td>\n",
              "      <td>31.222222</td>\n",
              "      <td>2.000000</td>\n",
              "      <td>0.000000</td>\n",
              "    </tr>\n",
              "    <tr>\n",
              "      <th>50%</th>\n",
              "      <td>65.168235</td>\n",
              "      <td>8.400000</td>\n",
              "      <td>10.504224</td>\n",
              "      <td>11.505882</td>\n",
              "      <td>9.760000</td>\n",
              "      <td>10.118520</td>\n",
              "      <td>42.333333</td>\n",
              "      <td>4.000000</td>\n",
              "      <td>0.500000</td>\n",
              "    </tr>\n",
              "    <tr>\n",
              "      <th>75%</th>\n",
              "      <td>80.332500</td>\n",
              "      <td>11.752222</td>\n",
              "      <td>11.855464</td>\n",
              "      <td>15.770370</td>\n",
              "      <td>13.851923</td>\n",
              "      <td>12.789091</td>\n",
              "      <td>53.444444</td>\n",
              "      <td>6.000000</td>\n",
              "      <td>1.000000</td>\n",
              "    </tr>\n",
              "    <tr>\n",
              "      <th>max</th>\n",
              "      <td>121.727500</td>\n",
              "      <td>43.800000</td>\n",
              "      <td>16.322122</td>\n",
              "      <td>41.600000</td>\n",
              "      <td>61.995000</td>\n",
              "      <td>72.300000</td>\n",
              "      <td>114.932203</td>\n",
              "      <td>33.000000</td>\n",
              "      <td>1.000000</td>\n",
              "    </tr>\n",
              "  </tbody>\n",
              "</table>\n",
              "</div>\n",
              "      <button class=\"colab-df-convert\" onclick=\"convertToInteractive('df-28ffe818-9396-40d1-ba3c-4615784dfd6c')\"\n",
              "              title=\"Convert this dataframe to an interactive table.\"\n",
              "              style=\"display:none;\">\n",
              "        \n",
              "  <svg xmlns=\"http://www.w3.org/2000/svg\" height=\"24px\"viewBox=\"0 0 24 24\"\n",
              "       width=\"24px\">\n",
              "    <path d=\"M0 0h24v24H0V0z\" fill=\"none\"/>\n",
              "    <path d=\"M18.56 5.44l.94 2.06.94-2.06 2.06-.94-2.06-.94-.94-2.06-.94 2.06-2.06.94zm-11 1L8.5 8.5l.94-2.06 2.06-.94-2.06-.94L8.5 2.5l-.94 2.06-2.06.94zm10 10l.94 2.06.94-2.06 2.06-.94-2.06-.94-.94-2.06-.94 2.06-2.06.94z\"/><path d=\"M17.41 7.96l-1.37-1.37c-.4-.4-.92-.59-1.43-.59-.52 0-1.04.2-1.43.59L10.3 9.45l-7.72 7.72c-.78.78-.78 2.05 0 2.83L4 21.41c.39.39.9.59 1.41.59.51 0 1.02-.2 1.41-.59l7.78-7.78 2.81-2.81c.8-.78.8-2.07 0-2.86zM5.41 20L4 18.59l7.72-7.72 1.47 1.35L5.41 20z\"/>\n",
              "  </svg>\n",
              "      </button>\n",
              "      \n",
              "  <style>\n",
              "    .colab-df-container {\n",
              "      display:flex;\n",
              "      flex-wrap:wrap;\n",
              "      gap: 12px;\n",
              "    }\n",
              "\n",
              "    .colab-df-convert {\n",
              "      background-color: #E8F0FE;\n",
              "      border: none;\n",
              "      border-radius: 50%;\n",
              "      cursor: pointer;\n",
              "      display: none;\n",
              "      fill: #1967D2;\n",
              "      height: 32px;\n",
              "      padding: 0 0 0 0;\n",
              "      width: 32px;\n",
              "    }\n",
              "\n",
              "    .colab-df-convert:hover {\n",
              "      background-color: #E2EBFA;\n",
              "      box-shadow: 0px 1px 2px rgba(60, 64, 67, 0.3), 0px 1px 3px 1px rgba(60, 64, 67, 0.15);\n",
              "      fill: #174EA6;\n",
              "    }\n",
              "\n",
              "    [theme=dark] .colab-df-convert {\n",
              "      background-color: #3B4455;\n",
              "      fill: #D2E3FC;\n",
              "    }\n",
              "\n",
              "    [theme=dark] .colab-df-convert:hover {\n",
              "      background-color: #434B5C;\n",
              "      box-shadow: 0px 1px 3px 1px rgba(0, 0, 0, 0.15);\n",
              "      filter: drop-shadow(0px 1px 2px rgba(0, 0, 0, 0.3));\n",
              "      fill: #FFFFFF;\n",
              "    }\n",
              "  </style>\n",
              "\n",
              "      <script>\n",
              "        const buttonEl =\n",
              "          document.querySelector('#df-28ffe818-9396-40d1-ba3c-4615784dfd6c button.colab-df-convert');\n",
              "        buttonEl.style.display =\n",
              "          google.colab.kernel.accessAllowed ? 'block' : 'none';\n",
              "\n",
              "        async function convertToInteractive(key) {\n",
              "          const element = document.querySelector('#df-28ffe818-9396-40d1-ba3c-4615784dfd6c');\n",
              "          const dataTable =\n",
              "            await google.colab.kernel.invokeFunction('convertToInteractive',\n",
              "                                                     [key], {});\n",
              "          if (!dataTable) return;\n",
              "\n",
              "          const docLinkHtml = 'Like what you see? Visit the ' +\n",
              "            '<a target=\"_blank\" href=https://colab.research.google.com/notebooks/data_table.ipynb>data table notebook</a>'\n",
              "            + ' to learn more about interactive tables.';\n",
              "          element.innerHTML = '';\n",
              "          dataTable['output_type'] = 'display_data';\n",
              "          await google.colab.output.renderOutput(dataTable, element);\n",
              "          const docLink = document.createElement('div');\n",
              "          docLink.innerHTML = docLinkHtml;\n",
              "          element.appendChild(docLink);\n",
              "        }\n",
              "      </script>\n",
              "    </div>\n",
              "  </div>\n",
              "  "
            ]
          },
          "metadata": {},
          "execution_count": 26
        }
      ]
    },
    {
      "cell_type": "code",
      "source": [],
      "metadata": {
        "id": "DFx5c2IrjCsG"
      },
      "execution_count": null,
      "outputs": []
    },
    {
      "cell_type": "code",
      "source": [
        "features = ['flesch_reading_ease', 'flesch_kincaid_grade', \n",
        "            'gunning_fog', 'automated_readability_index',\n",
        "            'coleman_liau_index',\t'lix',\t'rix',]\n",
        "\n",
        "def plot(df, features):\n",
        "  fig, axs = plt.subplots(nrows=3, ncols=3, figsize=(15, 12))\n",
        "\n",
        "  for feature, ax in zip(features, axs.flat[:len(features)]):\n",
        "    X = df[[feature]].dropna()\n",
        "    y = df.loc[X.index]['label']\n",
        "    ig = mutual_info_classif(X, y)[0]\n",
        "    sns.boxplot(data=df, y=feature, x='label', ax=ax)\n",
        "    ax.set_title(f'Information Gain: {ig}')\n",
        "\n",
        "  fig.tight_layout()\n",
        "  plt.show()\n",
        "\n",
        "plot(wiki_read, features)"
      ],
      "metadata": {
        "id": "SQmfYDWqcc6t",
        "outputId": "425a931d-a8c5-44c8-a930-37c1d352b244",
        "colab": {
          "base_uri": "https://localhost:8080/",
          "height": 873
        }
      },
      "execution_count": 53,
      "outputs": [
        {
          "output_type": "display_data",
          "data": {
            "text/plain": [
              "<Figure size 1080x864 with 9 Axes>"
            ],
            "image/png": "[encoded data removed]"
          },
          "metadata": {
            "needs_background": "light"
          }
        }
      ]
    }
  ]
}
