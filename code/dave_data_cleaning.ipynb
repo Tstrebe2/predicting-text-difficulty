{
  "nbformat": 4,
  "nbformat_minor": 0,
  "metadata": {
    "colab": {
      "provenance": [],
      "collapsed_sections": [],
      "authorship_tag": "ABX9TyOEUnXP2RW/uawrdUm6pkpb",
      "include_colab_link": true
    },
    "kernelspec": {
      "name": "python3",
      "display_name": "Python 3"
    },
    "language_info": {
      "name": "python"
    }
  },
  "cells": [
    {
      "cell_type": "markdown",
      "metadata": {
        "id": "view-in-github",
        "colab_type": "text"
      },
      "source": [
        "<a href=\"https://colab.research.google.com/github/Tstrebe2/predicting-text-difficulty/blob/dave-updates/code/dave_data_cleaning.ipynb\" target=\"_parent\"><img src=\"https://colab.research.google.com/assets/colab-badge.svg\" alt=\"Open In Colab\"/></a>"
      ]
    },
    {
      "cell_type": "code",
      "execution_count": 10,
      "metadata": {
        "id": "QhitnsDCEvWc"
      },
      "outputs": [],
      "source": [
        "import pandas as pd"
      ]
    },
    {
      "cell_type": "code",
      "source": [
        "train_url = 'https://raw.githubusercontent.com/Tstrebe2/predicting-text-difficulty/main/assets/WikiLarge_Train.csv'"
      ],
      "metadata": {
        "id": "aak7t96Z8yI_"
      },
      "execution_count": 11,
      "outputs": []
    },
    {
      "cell_type": "code",
      "source": [
        "train_df = pd.read_csv(train_url)"
      ],
      "metadata": {
        "id": "gngt3Y3c9mr1"
      },
      "execution_count": 48,
      "outputs": []
    },
    {
      "cell_type": "code",
      "source": [
        "train_df.iloc[4].values"
      ],
      "metadata": {
        "id": "NIO1PkMV9qRW",
        "outputId": "3f10a521-57e0-4464-b7be-32bf1803e256",
        "colab": {
          "base_uri": "https://localhost:8080/"
        }
      },
      "execution_count": 33,
      "outputs": [
        {
          "output_type": "execute_result",
          "data": {
            "text/plain": [
              "array(['Geneva -LRB- , ; , ; , ; ; -RRB- is the second-most-populous city in Switzerland -LRB- after Zürich -RRB- and is the most populous city of Romandie -LRB- the French-speaking part of Switzerland -RRB- .',\n",
              "       1,\n",
              "       'Geneva  , ; , ; , ; ;  is the second-most-populous city in Switzerland  after Zürich  and is the most populous city of Romandie  the French-speaking part of Switzerland  .'],\n",
              "      dtype=object)"
            ]
          },
          "metadata": {},
          "execution_count": 33
        }
      ]
    },
    {
      "cell_type": "code",
      "source": [
        "train_df.sample(20)[['original_text', \n",
        "                     'label']].style.set_properties(subset=['original_text'], \n",
        "                                                    **{'width': '500px'})"
      ],
      "metadata": {
        "id": "r-uuZ8jB9uO7",
        "outputId": "0dfe8c7b-ee3f-41fc-d057-0753abc4ea01",
        "colab": {
          "base_uri": "https://localhost:8080/",
          "height": 907
        }
      },
      "execution_count": 17,
      "outputs": [
        {
          "output_type": "execute_result",
          "data": {
            "text/plain": [
              "<pandas.io.formats.style.Styler at 0x7fa60a984a10>"
            ],
            "text/html": [
              "<style type=\"text/css\">\n",
              "#T_25241_row0_col0, #T_25241_row1_col0, #T_25241_row2_col0, #T_25241_row3_col0, #T_25241_row4_col0, #T_25241_row5_col0, #T_25241_row6_col0, #T_25241_row7_col0, #T_25241_row8_col0, #T_25241_row9_col0, #T_25241_row10_col0, #T_25241_row11_col0, #T_25241_row12_col0, #T_25241_row13_col0, #T_25241_row14_col0, #T_25241_row15_col0, #T_25241_row16_col0, #T_25241_row17_col0, #T_25241_row18_col0, #T_25241_row19_col0 {\n",
              "  width: 500px;\n",
              "}\n",
              "</style>\n",
              "<table id=\"T_25241_\" class=\"dataframe\">\n",
              "  <thead>\n",
              "    <tr>\n",
              "      <th class=\"blank level0\" >&nbsp;</th>\n",
              "      <th class=\"col_heading level0 col0\" >original_text</th>\n",
              "      <th class=\"col_heading level0 col1\" >label</th>\n",
              "    </tr>\n",
              "  </thead>\n",
              "  <tbody>\n",
              "    <tr>\n",
              "      <th id=\"T_25241_level0_row0\" class=\"row_heading level0 row0\" >275869</th>\n",
              "      <td id=\"T_25241_row0_col0\" class=\"data row0 col0\" >In 1991 , they started in Boston , Massachusetts .</td>\n",
              "      <td id=\"T_25241_row0_col1\" class=\"data row0 col1\" >0</td>\n",
              "    </tr>\n",
              "    <tr>\n",
              "      <th id=\"T_25241_level0_row1\" class=\"row_heading level0 row1\" >238423</th>\n",
              "      <td id=\"T_25241_row1_col0\" class=\"data row1 col0\" >Korkeasaari is an island in Helsinki , Finland .</td>\n",
              "      <td id=\"T_25241_row1_col1\" class=\"data row1 col1\" >0</td>\n",
              "    </tr>\n",
              "    <tr>\n",
              "      <th id=\"T_25241_level0_row2\" class=\"row_heading level0 row2\" >279771</th>\n",
              "      <td id=\"T_25241_row2_col0\" class=\"data row2 col0\" >The Republic of Namibia is a country in southern Africa on the Atlantic coast .</td>\n",
              "      <td id=\"T_25241_row2_col1\" class=\"data row2 col1\" >0</td>\n",
              "    </tr>\n",
              "    <tr>\n",
              "      <th id=\"T_25241_level0_row3\" class=\"row_heading level0 row3\" >360192</th>\n",
              "      <td id=\"T_25241_row3_col0\" class=\"data row3 col0\" >Bryan Adams -LRB- November 9 , 1959 -RRB- is a Canadian rock singer .</td>\n",
              "      <td id=\"T_25241_row3_col1\" class=\"data row3 col1\" >0</td>\n",
              "    </tr>\n",
              "    <tr>\n",
              "      <th id=\"T_25241_level0_row4\" class=\"row_heading level0 row4\" >159516</th>\n",
              "      <td id=\"T_25241_row4_col0\" class=\"data row4 col0\" >They soon split into cat-like and dog-like forms -LRB- Feliformia and Caniformia -RRB- .</td>\n",
              "      <td id=\"T_25241_row4_col1\" class=\"data row4 col1\" >1</td>\n",
              "    </tr>\n",
              "    <tr>\n",
              "      <th id=\"T_25241_level0_row5\" class=\"row_heading level0 row5\" >227805</th>\n",
              "      <td id=\"T_25241_row5_col0\" class=\"data row5 col0\" >Other websites</td>\n",
              "      <td id=\"T_25241_row5_col1\" class=\"data row5 col1\" >0</td>\n",
              "    </tr>\n",
              "    <tr>\n",
              "      <th id=\"T_25241_level0_row6\" class=\"row_heading level0 row6\" >278723</th>\n",
              "      <td id=\"T_25241_row6_col0\" class=\"data row6 col0\" >So , Hyderabad came into the Telugu speaking community and thus became the capital of Andhra Pradesh .</td>\n",
              "      <td id=\"T_25241_row6_col1\" class=\"data row6 col1\" >0</td>\n",
              "    </tr>\n",
              "    <tr>\n",
              "      <th id=\"T_25241_level0_row7\" class=\"row_heading level0 row7\" >205468</th>\n",
              "      <td id=\"T_25241_row7_col0\" class=\"data row7 col0\" >The club 's home is the 22,250 capacity Headingley Stadium , which is in the suburb of Headingley , northwest Leeds , where they have played since 1890 .</td>\n",
              "      <td id=\"T_25241_row7_col1\" class=\"data row7 col1\" >1</td>\n",
              "    </tr>\n",
              "    <tr>\n",
              "      <th id=\"T_25241_level0_row8\" class=\"row_heading level0 row8\" >130239</th>\n",
              "      <td id=\"T_25241_row8_col0\" class=\"data row8 col0\" >Gushank , p. 251 ; Varley , Paul .</td>\n",
              "      <td id=\"T_25241_row8_col1\" class=\"data row8 col1\" >1</td>\n",
              "    </tr>\n",
              "    <tr>\n",
              "      <th id=\"T_25241_level0_row9\" class=\"row_heading level0 row9\" >77262</th>\n",
              "      <td id=\"T_25241_row9_col0\" class=\"data row9 col0\" >England , Northern Ireland , Scotland and Wales have discrete systems of education .</td>\n",
              "      <td id=\"T_25241_row9_col1\" class=\"data row9 col1\" >1</td>\n",
              "    </tr>\n",
              "    <tr>\n",
              "      <th id=\"T_25241_level0_row10\" class=\"row_heading level0 row10\" >376753</th>\n",
              "      <td id=\"T_25241_row10_col0\" class=\"data row10 col0\" >He has an adopted brother named Ike . Ike is his younger brother who was adopted from Canada .</td>\n",
              "      <td id=\"T_25241_row10_col1\" class=\"data row10 col1\" >0</td>\n",
              "    </tr>\n",
              "    <tr>\n",
              "      <th id=\"T_25241_level0_row11\" class=\"row_heading level0 row11\" >5952</th>\n",
              "      <td id=\"T_25241_row11_col0\" class=\"data row11 col0\" >Geographical features include Great Bear Lake , the largest lake entirely within Canada , Great Bear Lake Keller Lake and Great Slave Lakes , as well as the Mackenzie River and the canyons of the Nahanni National Park Reserve , a national park and UNESCO World Heritage Site .</td>\n",
              "      <td id=\"T_25241_row11_col1\" class=\"data row11 col1\" >1</td>\n",
              "    </tr>\n",
              "    <tr>\n",
              "      <th id=\"T_25241_level0_row12\" class=\"row_heading level0 row12\" >148353</th>\n",
              "      <td id=\"T_25241_row12_col0\" class=\"data row12 col0\" >Released as the album 's lead single on February 11 , 2011 , the song was written by Lady Gaga and Jeppe Laursen , and it was produced by Gaga , Laursen , Fernando Garibay , and DJ White Shadow .</td>\n",
              "      <td id=\"T_25241_row12_col1\" class=\"data row12 col1\" >1</td>\n",
              "    </tr>\n",
              "    <tr>\n",
              "      <th id=\"T_25241_level0_row13\" class=\"row_heading level0 row13\" >227866</th>\n",
              "      <td id=\"T_25241_row13_col0\" class=\"data row13 col0\" >Even so , he took to the ice , and completed the first period without allowing a goal .</td>\n",
              "      <td id=\"T_25241_row13_col1\" class=\"data row13 col1\" >0</td>\n",
              "    </tr>\n",
              "    <tr>\n",
              "      <th id=\"T_25241_level0_row14\" class=\"row_heading level0 row14\" >163763</th>\n",
              "      <td id=\"T_25241_row14_col0\" class=\"data row14 col0\" >The current mayor is Lois Jackson .</td>\n",
              "      <td id=\"T_25241_row14_col1\" class=\"data row14 col1\" >1</td>\n",
              "    </tr>\n",
              "    <tr>\n",
              "      <th id=\"T_25241_level0_row15\" class=\"row_heading level0 row15\" >290992</th>\n",
              "      <td id=\"T_25241_row15_col0\" class=\"data row15 col0\" >For example , in the 2007 regular season , each team in the NFC West played one game against each team in both the AFC North and the NFC South .</td>\n",
              "      <td id=\"T_25241_row15_col1\" class=\"data row15 col1\" >0</td>\n",
              "    </tr>\n",
              "    <tr>\n",
              "      <th id=\"T_25241_level0_row16\" class=\"row_heading level0 row16\" >218492</th>\n",
              "      <td id=\"T_25241_row16_col0\" class=\"data row16 col0\" >Sonic Adventure 2 Battle</td>\n",
              "      <td id=\"T_25241_row16_col1\" class=\"data row16 col1\" >0</td>\n",
              "    </tr>\n",
              "    <tr>\n",
              "      <th id=\"T_25241_level0_row17\" class=\"row_heading level0 row17\" >107836</th>\n",
              "      <td id=\"T_25241_row17_col0\" class=\"data row17 col0\" >After 9 years as director , he sold his part of the newspaper to Camilo Letelier .</td>\n",
              "      <td id=\"T_25241_row17_col1\" class=\"data row17 col1\" >1</td>\n",
              "    </tr>\n",
              "    <tr>\n",
              "      <th id=\"T_25241_level0_row18\" class=\"row_heading level0 row18\" >346578</th>\n",
              "      <td id=\"T_25241_row18_col0\" class=\"data row18 col0\" >The Barossa Valley is in South Australia . It is found about 60 k north-east of Adelaide , the capital city of South Australia .</td>\n",
              "      <td id=\"T_25241_row18_col1\" class=\"data row18 col1\" >0</td>\n",
              "    </tr>\n",
              "    <tr>\n",
              "      <th id=\"T_25241_level0_row19\" class=\"row_heading level0 row19\" >415828</th>\n",
              "      <td id=\"T_25241_row19_col0\" class=\"data row19 col0\" >This season was unusual in that no hurricanes made landfall in the United States of America .</td>\n",
              "      <td id=\"T_25241_row19_col1\" class=\"data row19 col1\" >0</td>\n",
              "    </tr>\n",
              "  </tbody>\n",
              "</table>\n"
            ]
          },
          "metadata": {},
          "execution_count": 17
        }
      ]
    },
    {
      "cell_type": "code",
      "source": [
        "# Observations of things that need cleaning:\n",
        "# join \" 's \" with their associated words; same with contractions  - done\n",
        "# Some sentences are partials of other sentences within the corpus\n",
        "# Need to address accents - not sure if I do\n",
        "# Need to address punctuation (vectorizers) - done through regex\n",
        "# Address weird quotations - (example at index 11005) '' yogurt ' ''\n",
        "# Need to address -LRB and -RRB which are lemma references to left \n",
        "# and right parentheses - done\n",
        "# remove 'â' (misformatting) - this is incorrect encoding. use ftfy package\n",
        "# \n",
        "\n",
        "\n",
        "# Observations\n",
        "  # difficulty can be a combination of hard words, hard to pronounce or unfamiliar\n",
        "  # names, long-run on sentences, harder topics (eg Linux kernel or\n",
        "  # referring to dog breeds as an example) or just non-sensical sentences without\n",
        "  # context\n",
        "\n",
        "\n"
      ],
      "metadata": {
        "id": "ioMbAByC9zqD"
      },
      "execution_count": null,
      "outputs": []
    },
    {
      "cell_type": "code",
      "source": [
        "# Found a solution to help with contractions\n",
        "!pip install contractions\n",
        "!pip install gensim\n",
        "!pip install ftfy\n",
        "!pip install unidecode"
      ],
      "metadata": {
        "id": "zHHGOyWKAmb2",
        "outputId": "bd79c153-57b1-4962-a9ac-15e27f3efd3b",
        "colab": {
          "base_uri": "https://localhost:8080/"
        }
      },
      "execution_count": 2,
      "outputs": [
        {
          "output_type": "stream",
          "name": "stdout",
          "text": [
            "Looking in indexes: https://pypi.org/simple, https://us-python.pkg.dev/colab-wheels/public/simple/\n",
            "Collecting contractions\n",
            "  Downloading contractions-0.1.72-py2.py3-none-any.whl (8.3 kB)\n",
            "Collecting textsearch>=0.0.21\n",
            "  Downloading textsearch-0.0.24-py2.py3-none-any.whl (7.6 kB)\n",
            "Collecting anyascii\n",
            "  Downloading anyascii-0.3.1-py3-none-any.whl (287 kB)\n",
            "\u001b[K     |████████████████████████████████| 287 kB 6.9 MB/s \n",
            "\u001b[?25hCollecting pyahocorasick\n",
            "  Downloading pyahocorasick-1.4.4-cp37-cp37m-manylinux_2_17_x86_64.manylinux2014_x86_64.whl (106 kB)\n",
            "\u001b[K     |████████████████████████████████| 106 kB 56.7 MB/s \n",
            "\u001b[?25hInstalling collected packages: pyahocorasick, anyascii, textsearch, contractions\n",
            "Successfully installed anyascii-0.3.1 contractions-0.1.72 pyahocorasick-1.4.4 textsearch-0.0.24\n",
            "Looking in indexes: https://pypi.org/simple, https://us-python.pkg.dev/colab-wheels/public/simple/\n",
            "Requirement already satisfied: gensim in /usr/local/lib/python3.7/dist-packages (3.6.0)\n",
            "Requirement already satisfied: smart-open>=1.2.1 in /usr/local/lib/python3.7/dist-packages (from gensim) (5.2.1)\n",
            "Requirement already satisfied: six>=1.5.0 in /usr/local/lib/python3.7/dist-packages (from gensim) (1.15.0)\n",
            "Requirement already satisfied: numpy>=1.11.3 in /usr/local/lib/python3.7/dist-packages (from gensim) (1.21.6)\n",
            "Requirement already satisfied: scipy>=0.18.1 in /usr/local/lib/python3.7/dist-packages (from gensim) (1.7.3)\n",
            "Looking in indexes: https://pypi.org/simple, https://us-python.pkg.dev/colab-wheels/public/simple/\n",
            "Collecting ftfy\n",
            "  Downloading ftfy-6.1.1-py3-none-any.whl (53 kB)\n",
            "\u001b[K     |████████████████████████████████| 53 kB 1.3 MB/s \n",
            "\u001b[?25hRequirement already satisfied: wcwidth>=0.2.5 in /usr/local/lib/python3.7/dist-packages (from ftfy) (0.2.5)\n",
            "Installing collected packages: ftfy\n",
            "Successfully installed ftfy-6.1.1\n",
            "Looking in indexes: https://pypi.org/simple, https://us-python.pkg.dev/colab-wheels/public/simple/\n",
            "Collecting unidecode\n",
            "  Downloading Unidecode-1.3.5-py3-none-any.whl (236 kB)\n",
            "\u001b[K     |████████████████████████████████| 236 kB 6.8 MB/s \n",
            "\u001b[?25hInstalling collected packages: unidecode\n",
            "Successfully installed unidecode-1.3.5\n"
          ]
        }
      ]
    },
    {
      "cell_type": "code",
      "source": [
        "import re\n",
        "import contractions\n",
        "from gensim.utils import simple_preprocess\n",
        "import ftfy\n",
        "from unidecode import unidecode\n",
        "\n",
        "def text_processing(s):\n",
        "  contract_lst = {'\\'ve': '\\'ve',\n",
        "                ' \\'ll': '\\'ll',\n",
        "                ' \\'d': '\\'d',\n",
        "                ' n\\'t': 'n\\'t'}\n",
        "  for key,value in contract_lst.items():\n",
        "    # remove spaces between contractions\n",
        "    s = re.sub(key, value,s)\n",
        "  \n",
        "  # replace contractions\n",
        "  s = contractions.fix(s)\n",
        "\n",
        "  # remove empty quotes\n",
        "  s = re.sub('\\'\\'','',s)\n",
        "\n",
        "  # remove possessive \"s\"\n",
        "  s = re.sub(' \\'s','',s)\n",
        "\n",
        "\n",
        "  # remove lrb and rrb references\n",
        "  pattern = r'(-LRB-|-RRB-)+'\n",
        "  s = re.sub(pattern,'',s)\n",
        "\n",
        "\n",
        "  # remove ndash\n",
        "  s = re.sub('\\sndash\\s','',s)\n",
        "\n",
        "  # fix issues with incorrect encoding\n",
        "  s = ftfy.fix_text(s)\n",
        "  \n",
        "  # remove punctuation and symbols\n",
        "  s = re.sub('[$,.!?;:%@&\\/\\\\\\]*','',s)\n",
        "\n",
        "  # remove numbers \n",
        "  s = re.sub('[0-9]*','',s)\n",
        "\n",
        "\n",
        "  # positive lookbehind for cases where dashes proceeded by spaces or\n",
        "  # other dashes (not suggesting a hyphenated word or name)\n",
        "  s = re.sub('(?<=[ -])-','',s)\n",
        "\n",
        "\n",
        "  return s\n",
        "  # return simple_preprocess(s)\n",
        "\n"
      ],
      "metadata": {
        "id": "p0P-pgrNAnUQ"
      },
      "execution_count": 100,
      "outputs": []
    },
    {
      "cell_type": "code",
      "source": [
        "text = 'SOS -LRB- Â Â Â â '' â '' â '' Â Â Â -RRB- is a Morse code . It is used as distress code , to signal danger .'\n",
        "fixed = text_processing(text)\n",
        "fixed"
      ],
      "metadata": {
        "colab": {
          "base_uri": "https://localhost:8080/",
          "height": 37
        },
        "id": "eb-T59-DEOg7",
        "outputId": "211cc526-460c-4f65-b5d6-6744c0788279"
      },
      "execution_count": 97,
      "outputs": [
        {
          "output_type": "execute_result",
          "data": {
            "text/plain": [
              "'SO IS  Â Â Â â  â  â  Â Â Â  is a Morse code  It is used as distress code  to signal danger '"
            ],
            "application/vnd.google.colaboratory.intrinsic+json": {
              "type": "string"
            }
          },
          "metadata": {},
          "execution_count": 97
        }
      ]
    },
    {
      "cell_type": "code",
      "source": [
        "# %%timeit\n",
        "train_df['processed_text'] = train_df['original_text'].apply(text_processing)"
      ],
      "metadata": {
        "id": "V0zmrAwsfUuT"
      },
      "execution_count": 101,
      "outputs": []
    },
    {
      "cell_type": "code",
      "source": [
        "train_df[['original_text','processed_text']].sample(20).style.set_properties(subset=['original_text'], \n",
        "                                                    **{'width': '500px'})"
      ],
      "metadata": {
        "colab": {
          "base_uri": "https://localhost:8080/",
          "height": 1000
        },
        "id": "MbcEWOEH4Upw",
        "outputId": "b31655e6-f4b1-478f-8c7c-3b59602054ba"
      },
      "execution_count": 106,
      "outputs": [
        {
          "output_type": "execute_result",
          "data": {
            "text/plain": [
              "<pandas.io.formats.style.Styler at 0x7fa5f94077d0>"
            ],
            "text/html": [
              "<style type=\"text/css\">\n",
              "#T_b9443_row0_col0, #T_b9443_row1_col0, #T_b9443_row2_col0, #T_b9443_row3_col0, #T_b9443_row4_col0, #T_b9443_row5_col0, #T_b9443_row6_col0, #T_b9443_row7_col0, #T_b9443_row8_col0, #T_b9443_row9_col0, #T_b9443_row10_col0, #T_b9443_row11_col0, #T_b9443_row12_col0, #T_b9443_row13_col0, #T_b9443_row14_col0, #T_b9443_row15_col0, #T_b9443_row16_col0, #T_b9443_row17_col0, #T_b9443_row18_col0, #T_b9443_row19_col0 {\n",
              "  width: 500px;\n",
              "}\n",
              "</style>\n",
              "<table id=\"T_b9443_\" class=\"dataframe\">\n",
              "  <thead>\n",
              "    <tr>\n",
              "      <th class=\"blank level0\" >&nbsp;</th>\n",
              "      <th class=\"col_heading level0 col0\" >original_text</th>\n",
              "      <th class=\"col_heading level0 col1\" >processed_text</th>\n",
              "    </tr>\n",
              "  </thead>\n",
              "  <tbody>\n",
              "    <tr>\n",
              "      <th id=\"T_b9443_level0_row0\" class=\"row_heading level0 row0\" >190982</th>\n",
              "      <td id=\"T_b9443_row0_col0\" class=\"data row0 col0\" >Salts that hydrolyze to produce hydroxide ions when dissolved in water are basic salts and salts that hydrolyze to produce hydronium ions in water are acid salts .</td>\n",
              "      <td id=\"T_b9443_row0_col1\" class=\"data row0 col1\" >Salts that hydrolyze to produce hydroxide ions when dissolved in water are basic salts and salts that hydrolyze to produce hydronium ions in water are acid salts </td>\n",
              "    </tr>\n",
              "    <tr>\n",
              "      <th id=\"T_b9443_level0_row1\" class=\"row_heading level0 row1\" >318305</th>\n",
              "      <td id=\"T_b9443_row1_col0\" class=\"data row1 col0\" >White dwarfs are not very bright because they are smaller than many brighter stars - not because they are cold . Some white dwarfs are blue , instead of white .</td>\n",
              "      <td id=\"T_b9443_row1_col1\" class=\"data row1 col1\" >White dwarfs are not very bright because they are smaller than many brighter stars  not because they are cold  Some white dwarfs are blue  instead of white </td>\n",
              "    </tr>\n",
              "    <tr>\n",
              "      <th id=\"T_b9443_level0_row2\" class=\"row_heading level0 row2\" >243421</th>\n",
              "      <td id=\"T_b9443_row2_col0\" class=\"data row2 col0\" >The song of the black-capped chickadee is a clear whistle .</td>\n",
              "      <td id=\"T_b9443_row2_col1\" class=\"data row2 col1\" >The song of the black-capped chickadee is a clear whistle </td>\n",
              "    </tr>\n",
              "    <tr>\n",
              "      <th id=\"T_b9443_level0_row3\" class=\"row_heading level0 row3\" >320045</th>\n",
              "      <td id=\"T_b9443_row3_col0\" class=\"data row3 col0\" >The length of time it took to record the song created tension between the Beatles .</td>\n",
              "      <td id=\"T_b9443_row3_col1\" class=\"data row3 col1\" >The length of time it took to record the song created tension between the Beatles </td>\n",
              "    </tr>\n",
              "    <tr>\n",
              "      <th id=\"T_b9443_level0_row4\" class=\"row_heading level0 row4\" >24647</th>\n",
              "      <td id=\"T_b9443_row4_col0\" class=\"data row4 col0\" >In Duck Hunt , players utilize the Nintendo Zapper Light Gun that must be plugged into their NES consoles , and attempt to shoot down either ducks or clay pigeons in mid-flight .</td>\n",
              "      <td id=\"T_b9443_row4_col1\" class=\"data row4 col1\" >In Duck Hunt  players utilize the Nintendo Zapper Light Gun that must be plugged into their NES consoles  and attempt to shoot down either ducks or clay pigeons in mid-flight </td>\n",
              "    </tr>\n",
              "    <tr>\n",
              "      <th id=\"T_b9443_level0_row5\" class=\"row_heading level0 row5\" >221455</th>\n",
              "      <td id=\"T_b9443_row5_col0\" class=\"data row5 col0\" >in computer games it is called a combo .</td>\n",
              "      <td id=\"T_b9443_row5_col1\" class=\"data row5 col1\" >in computer games it is called a combo </td>\n",
              "    </tr>\n",
              "    <tr>\n",
              "      <th id=\"T_b9443_level0_row6\" class=\"row_heading level0 row6\" >387985</th>\n",
              "      <td id=\"T_b9443_row6_col0\" class=\"data row6 col0\" >Also during 1992 , shortly after releasing this , Rancid were signed to Bad Religion guitarist Brett Gurewitz 's label , Epitaph Records , and finally released their first album in 1993 , which is also self-titled .</td>\n",
              "      <td id=\"T_b9443_row6_col1\" class=\"data row6 col1\" >Also during   shortly after releasing this  Rancid were signed to Bad Religion guitarist Brett Gurewitz label  Epitaph Records  and finally released their first album in   which is also self-titled </td>\n",
              "    </tr>\n",
              "    <tr>\n",
              "      <th id=\"T_b9443_level0_row7\" class=\"row_heading level0 row7\" >105084</th>\n",
              "      <td id=\"T_b9443_row7_col0\" class=\"data row7 col0\" >Rage Against the Machine is noted for its innovative blend of alternative rock , punk rock , rap , heavy metal and funk as well as its revolutionary politics and lyrics .</td>\n",
              "      <td id=\"T_b9443_row7_col1\" class=\"data row7 col1\" >Rage Against the Machine is noted for its innovative blend of alternative rock  punk rock  rap  heavy metal and funk as well as its revolutionary politics and lyrics </td>\n",
              "    </tr>\n",
              "    <tr>\n",
              "      <th id=\"T_b9443_level0_row8\" class=\"row_heading level0 row8\" >377155</th>\n",
              "      <td id=\"T_b9443_row8_col0\" class=\"data row8 col0\" >Today the flowers are national symbols of Korea .</td>\n",
              "      <td id=\"T_b9443_row8_col1\" class=\"data row8 col1\" >Today the flowers are national symbols of Korea </td>\n",
              "    </tr>\n",
              "    <tr>\n",
              "      <th id=\"T_b9443_level0_row9\" class=\"row_heading level0 row9\" >15128</th>\n",
              "      <td id=\"T_b9443_row9_col0\" class=\"data row9 col0\" >Currently , EA 's most successful products are sports games published under its EA Sports label , games based on popular movie licenses such as Harry Potter and games from long-running franchises like Need for Speed , Medal of Honor , The Sims , Battlefield and the later games in the Burnout and Command & Conquer series .</td>\n",
              "      <td id=\"T_b9443_row9_col1\" class=\"data row9 col1\" >Currently  EA most successful products are sports games published under its EA Sports label  games based on popular movie licenses such as Harry Potter and games from long-running franchises like Need for Speed  Medal of Honor  The Sims  Battlefield and the later games in the Burnout and Command  Conquer series </td>\n",
              "    </tr>\n",
              "    <tr>\n",
              "      <th id=\"T_b9443_level0_row10\" class=\"row_heading level0 row10\" >258788</th>\n",
              "      <td id=\"T_b9443_row10_col0\" class=\"data row10 col0\" >Hounslow East : opened 2 May 1909 -LRB- as Hounslow Town -RRB- by the District renamed 1 December 1925 ; first served by the Piccadilly Line 13 March 1933 .</td>\n",
              "      <td id=\"T_b9443_row10_col1\" class=\"data row10 col1\" >Hounslow East  opened  May   as Hounslow Town  by the District renamed  December   first served by the Piccadilly Line  March  </td>\n",
              "    </tr>\n",
              "    <tr>\n",
              "      <th id=\"T_b9443_level0_row11\" class=\"row_heading level0 row11\" >276845</th>\n",
              "      <td id=\"T_b9443_row11_col0\" class=\"data row11 col0\" >She survived and to escaped , but was rearrested on 1 February 1974 and imprisoned .</td>\n",
              "      <td id=\"T_b9443_row11_col1\" class=\"data row11 col1\" >She survived and to escaped  but was rearrested on  February  and imprisoned </td>\n",
              "    </tr>\n",
              "    <tr>\n",
              "      <th id=\"T_b9443_level0_row12\" class=\"row_heading level0 row12\" >226496</th>\n",
              "      <td id=\"T_b9443_row12_col0\" class=\"data row12 col0\" >History</td>\n",
              "      <td id=\"T_b9443_row12_col1\" class=\"data row12 col1\" >History</td>\n",
              "    </tr>\n",
              "    <tr>\n",
              "      <th id=\"T_b9443_level0_row13\" class=\"row_heading level0 row13\" >241531</th>\n",
              "      <td id=\"T_b9443_row13_col0\" class=\"data row13 col0\" >Next morning , Andreas Baader and Jan-Carl Raspe were found in their prison cells , deadd from gunshot wounds . Gudrun Ensslin was found hanging .</td>\n",
              "      <td id=\"T_b9443_row13_col1\" class=\"data row13 col1\" >Next morning  Andreas Baader and Jan-Carl Raspe were found in their prison cells  deadd from gunshot wounds  Gudrun Ensslin was found hanging </td>\n",
              "    </tr>\n",
              "    <tr>\n",
              "      <th id=\"T_b9443_level0_row14\" class=\"row_heading level0 row14\" >378460</th>\n",
              "      <td id=\"T_b9443_row14_col0\" class=\"data row14 col0\" >Production and marketing Panic at the Disco began to creating their new album after their first album , A Fever You Ca n't Sweat Out .</td>\n",
              "      <td id=\"T_b9443_row14_col1\" class=\"data row14 col1\" >Production and marketing Panic at the Disco began to creating their new album after their first album  A Fever You Cannot Sweat Out </td>\n",
              "    </tr>\n",
              "    <tr>\n",
              "      <th id=\"T_b9443_level0_row15\" class=\"row_heading level0 row15\" >178154</th>\n",
              "      <td id=\"T_b9443_row15_col0\" class=\"data row15 col0\" >A portrait of James Abbott dressed as an Indian noble was painted in watercolor in 1841 by B. Baldwin -LRB- see illustration -RRB- , now in the collection of the National Portrait Gallery in London , though it is not currently on display</td>\n",
              "      <td id=\"T_b9443_row15_col1\" class=\"data row15 col1\" >A portrait of James Abbott dressed as an Indian noble was painted in watercolor in  by B Baldwin  see illustration   now in the collection of the National Portrait Gallery in London  though it is not currently on display</td>\n",
              "    </tr>\n",
              "    <tr>\n",
              "      <th id=\"T_b9443_level0_row16\" class=\"row_heading level0 row16\" >385047</th>\n",
              "      <td id=\"T_b9443_row16_col0\" class=\"data row16 col0\" >Finally , Hitler used the purge to go against conservative critics of his regime , especially those loyal to Vice-Chancellor Franz von Papen , and to settle scores with old enemies , such as Kurt von Schleicher .</td>\n",
              "      <td id=\"T_b9443_row16_col1\" class=\"data row16 col1\" >Finally  Hitler used the purge to go against conservative critics of his regime  especially those loyal to Vice-Chancellor Franz von Papen  and to settle scores with old enemies  such as Kurt von Schleicher </td>\n",
              "    </tr>\n",
              "    <tr>\n",
              "      <th id=\"T_b9443_level0_row17\" class=\"row_heading level0 row17\" >310507</th>\n",
              "      <td id=\"T_b9443_row17_col0\" class=\"data row17 col0\" >Population</td>\n",
              "      <td id=\"T_b9443_row17_col1\" class=\"data row17 col1\" >Population</td>\n",
              "    </tr>\n",
              "    <tr>\n",
              "      <th id=\"T_b9443_level0_row18\" class=\"row_heading level0 row18\" >140769</th>\n",
              "      <td id=\"T_b9443_row18_col0\" class=\"data row18 col0\" >Gert Engels -LRB- born 26 April 1957 -RRB- is a former German football -LRB- soccer -RRB- player and coach .</td>\n",
              "      <td id=\"T_b9443_row18_col1\" class=\"data row18 col1\" >Gert Engels  born  April   is a former German football  soccer  player and coach </td>\n",
              "    </tr>\n",
              "    <tr>\n",
              "      <th id=\"T_b9443_level0_row19\" class=\"row_heading level0 row19\" >369609</th>\n",
              "      <td id=\"T_b9443_row19_col0\" class=\"data row19 col0\" >Dialects of British and Irish English vary substantially , Grabe , E. -LRB-/O2004/O-RRB- .</td>\n",
              "      <td id=\"T_b9443_row19_col1\" class=\"data row19 col1\" >Dialects of British and Irish English vary substantially  Grabe  E OO </td>\n",
              "    </tr>\n",
              "  </tbody>\n",
              "</table>\n"
            ]
          },
          "metadata": {},
          "execution_count": 106
        }
      ]
    },
    {
      "cell_type": "code",
      "source": [
        "train_df[train_df['processed_text'].str.contains('The ball is about 3\\xa01/4 inches  83 centimetres  in diameter and about four ounces  1134 grams')]"
      ],
      "metadata": {
        "colab": {
          "base_uri": "https://localhost:8080/",
          "height": 80
        },
        "id": "KGkw9ydm4ta5",
        "outputId": "398c9aab-a0ca-4947-83d9-bfdcb728b570"
      },
      "execution_count": 47,
      "outputs": [
        {
          "output_type": "execute_result",
          "data": {
            "text/plain": [
              "                                            original_text  label  \\\n",
              "304503  The ball is about 3 1/4 inches -LRB- 8.3 centi...      0   \n",
              "\n",
              "                                           formatted_text  \\\n",
              "304503  The ball is about 3 1/4 inches  8.3 centimetre...   \n",
              "\n",
              "                                           processed_text  \n",
              "304503  The ball is about 3 1/4 inches  83 centimetres...  "
            ],
            "text/html": [
              "\n",
              "  <div id=\"df-e3c118e9-9605-4f67-a7d8-5b4fe4e40be1\">\n",
              "    <div class=\"colab-df-container\">\n",
              "      <div>\n",
              "<style scoped>\n",
              "    .dataframe tbody tr th:only-of-type {\n",
              "        vertical-align: middle;\n",
              "    }\n",
              "\n",
              "    .dataframe tbody tr th {\n",
              "        vertical-align: top;\n",
              "    }\n",
              "\n",
              "    .dataframe thead th {\n",
              "        text-align: right;\n",
              "    }\n",
              "</style>\n",
              "<table border=\"1\" class=\"dataframe\">\n",
              "  <thead>\n",
              "    <tr style=\"text-align: right;\">\n",
              "      <th></th>\n",
              "      <th>original_text</th>\n",
              "      <th>label</th>\n",
              "      <th>formatted_text</th>\n",
              "      <th>processed_text</th>\n",
              "    </tr>\n",
              "  </thead>\n",
              "  <tbody>\n",
              "    <tr>\n",
              "      <th>304503</th>\n",
              "      <td>The ball is about 3 1/4 inches -LRB- 8.3 centi...</td>\n",
              "      <td>0</td>\n",
              "      <td>The ball is about 3 1/4 inches  8.3 centimetre...</td>\n",
              "      <td>The ball is about 3 1/4 inches  83 centimetres...</td>\n",
              "    </tr>\n",
              "  </tbody>\n",
              "</table>\n",
              "</div>\n",
              "      <button class=\"colab-df-convert\" onclick=\"convertToInteractive('df-e3c118e9-9605-4f67-a7d8-5b4fe4e40be1')\"\n",
              "              title=\"Convert this dataframe to an interactive table.\"\n",
              "              style=\"display:none;\">\n",
              "        \n",
              "  <svg xmlns=\"http://www.w3.org/2000/svg\" height=\"24px\"viewBox=\"0 0 24 24\"\n",
              "       width=\"24px\">\n",
              "    <path d=\"M0 0h24v24H0V0z\" fill=\"none\"/>\n",
              "    <path d=\"M18.56 5.44l.94 2.06.94-2.06 2.06-.94-2.06-.94-.94-2.06-.94 2.06-2.06.94zm-11 1L8.5 8.5l.94-2.06 2.06-.94-2.06-.94L8.5 2.5l-.94 2.06-2.06.94zm10 10l.94 2.06.94-2.06 2.06-.94-2.06-.94-.94-2.06-.94 2.06-2.06.94z\"/><path d=\"M17.41 7.96l-1.37-1.37c-.4-.4-.92-.59-1.43-.59-.52 0-1.04.2-1.43.59L10.3 9.45l-7.72 7.72c-.78.78-.78 2.05 0 2.83L4 21.41c.39.39.9.59 1.41.59.51 0 1.02-.2 1.41-.59l7.78-7.78 2.81-2.81c.8-.78.8-2.07 0-2.86zM5.41 20L4 18.59l7.72-7.72 1.47 1.35L5.41 20z\"/>\n",
              "  </svg>\n",
              "      </button>\n",
              "      \n",
              "  <style>\n",
              "    .colab-df-container {\n",
              "      display:flex;\n",
              "      flex-wrap:wrap;\n",
              "      gap: 12px;\n",
              "    }\n",
              "\n",
              "    .colab-df-convert {\n",
              "      background-color: #E8F0FE;\n",
              "      border: none;\n",
              "      border-radius: 50%;\n",
              "      cursor: pointer;\n",
              "      display: none;\n",
              "      fill: #1967D2;\n",
              "      height: 32px;\n",
              "      padding: 0 0 0 0;\n",
              "      width: 32px;\n",
              "    }\n",
              "\n",
              "    .colab-df-convert:hover {\n",
              "      background-color: #E2EBFA;\n",
              "      box-shadow: 0px 1px 2px rgba(60, 64, 67, 0.3), 0px 1px 3px 1px rgba(60, 64, 67, 0.15);\n",
              "      fill: #174EA6;\n",
              "    }\n",
              "\n",
              "    [theme=dark] .colab-df-convert {\n",
              "      background-color: #3B4455;\n",
              "      fill: #D2E3FC;\n",
              "    }\n",
              "\n",
              "    [theme=dark] .colab-df-convert:hover {\n",
              "      background-color: #434B5C;\n",
              "      box-shadow: 0px 1px 3px 1px rgba(0, 0, 0, 0.15);\n",
              "      filter: drop-shadow(0px 1px 2px rgba(0, 0, 0, 0.3));\n",
              "      fill: #FFFFFF;\n",
              "    }\n",
              "  </style>\n",
              "\n",
              "      <script>\n",
              "        const buttonEl =\n",
              "          document.querySelector('#df-e3c118e9-9605-4f67-a7d8-5b4fe4e40be1 button.colab-df-convert');\n",
              "        buttonEl.style.display =\n",
              "          google.colab.kernel.accessAllowed ? 'block' : 'none';\n",
              "\n",
              "        async function convertToInteractive(key) {\n",
              "          const element = document.querySelector('#df-e3c118e9-9605-4f67-a7d8-5b4fe4e40be1');\n",
              "          const dataTable =\n",
              "            await google.colab.kernel.invokeFunction('convertToInteractive',\n",
              "                                                     [key], {});\n",
              "          if (!dataTable) return;\n",
              "\n",
              "          const docLinkHtml = 'Like what you see? Visit the ' +\n",
              "            '<a target=\"_blank\" href=https://colab.research.google.com/notebooks/data_table.ipynb>data table notebook</a>'\n",
              "            + ' to learn more about interactive tables.';\n",
              "          element.innerHTML = '';\n",
              "          dataTable['output_type'] = 'display_data';\n",
              "          await google.colab.output.renderOutput(dataTable, element);\n",
              "          const docLink = document.createElement('div');\n",
              "          docLink.innerHTML = docLinkHtml;\n",
              "          element.appendChild(docLink);\n",
              "        }\n",
              "      </script>\n",
              "    </div>\n",
              "  </div>\n",
              "  "
            ]
          },
          "metadata": {},
          "execution_count": 47
        }
      ]
    },
    {
      "cell_type": "code",
      "source": [
        "train_df.iloc[110574][['original_text','processed_text']].values"
      ],
      "metadata": {
        "colab": {
          "base_uri": "https://localhost:8080/"
        },
        "id": "OoWnBnKJGh8D",
        "outputId": "a93aeef7-c9e3-4d2a-c5e8-4cd851b462b2"
      },
      "execution_count": 104,
      "outputs": [
        {
          "output_type": "execute_result",
          "data": {
            "text/plain": [
              "array([\"The appellation Driekoningen -LRB- the Three Kings -RRB- is also often found in 17th - and 18th-century Dutch star charts and seaman 's guides .\",\n",
              "       'The appellation Driekoningen  the Three Kings  is also often found in th  and th-century Dutch star charts and seaman guides '],\n",
              "      dtype=object)"
            ]
          },
          "metadata": {},
          "execution_count": 104
        }
      ]
    },
    {
      "cell_type": "code",
      "source": [],
      "metadata": {
        "id": "857UCQQSNbVd"
      },
      "execution_count": null,
      "outputs": []
    }
  ]
}