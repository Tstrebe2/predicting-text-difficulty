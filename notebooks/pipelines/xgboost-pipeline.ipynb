{
  "nbformat": 4,
  "nbformat_minor": 0,
  "metadata": {
    "colab": {
      "provenance": [],
      "authorship_tag": "ABX9TyNvQfBNrggHs2ncnuX5D4e7",
      "include_colab_link": true
    },
    "kernelspec": {
      "name": "python3",
      "display_name": "Python 3"
    },
    "language_info": {
      "name": "python"
    },
    "accelerator": "GPU"
  },
  "cells": [
    {
      "cell_type": "markdown",
      "metadata": {
        "id": "view-in-github",
        "colab_type": "text"
      },
      "source": [
        "<a href=\"https://colab.research.google.com/github/Tstrebe2/predicting-text-difficulty/blob/tim-updates/notebooks/pipelines/xgboost-pipeline.ipynb\" target=\"_parent\"><img src=\"https://colab.research.google.com/assets/colab-badge.svg\" alt=\"Open In Colab\"/></a>"
      ]
    },
    {
      "cell_type": "code",
      "source": [
        "import sys\n",
        "\n",
        "!{sys.executable} -m pip install -U xgboost==1.6.0 -q\n",
        "!{sys.executable} -m pip install shap==0.41.0 -q"
      ],
      "metadata": {
        "id": "hF3FqErAQssI"
      },
      "execution_count": 21,
      "outputs": []
    },
    {
      "cell_type": "code",
      "execution_count": 2,
      "metadata": {
        "id": "sO-fJn3mCR-a"
      },
      "outputs": [],
      "source": [
        "from google.colab import drive\n",
        "\n",
        "import pandas as pd\n",
        "import numpy as np\n",
        "import joblib\n",
        "\n",
        "import xgboost as xgb\n",
        "from sklearn.feature_extraction.text import TfidfVectorizer\n",
        "from sklearn.preprocessing import StandardScaler, FunctionTransformer\n",
        "from sklearn.pipeline import Pipeline\n",
        "from sklearn.impute import SimpleImputer\n",
        "from sklearn.compose import ColumnTransformer\n",
        "from sklearn import metrics\n",
        "from sklearn.model_selection import train_test_split, StratifiedKFold, ParameterGrid\n",
        "\n",
        "import matplotlib as mpl\n",
        "import matplotlib.pyplot as plt\n",
        "import seaborn as sns\n",
        "%matplotlib inline"
      ]
    },
    {
      "cell_type": "code",
      "source": [
        "drive.mount('/content/drive')"
      ],
      "metadata": {
        "id": "aW8obkqzKyK7"
      },
      "execution_count": 3,
      "outputs": []
    },
    {
      "cell_type": "code",
      "source": [
        "repo_path = '/content/drive/MyDrive/milestone-ii/'\n",
        "train_path = ''.join([repo_path, 'Training_set.csv'])\n",
        "test_path = ''.join([repo_path, 'Testing_set.csv'])\n",
        "\n",
        "df_train = pd.read_csv(train_path, sep='\\t', index_col='ix')\n",
        "df_train['lemmatized_text'] = df_train['lemmatized_text'].fillna('')\n",
        "df_test = pd.read_csv(test_path, sep='\\t', index_col='ix')\n",
        "df_test['lemmatized_text'] = df_test['lemmatized_text'].fillna('')\n",
        "\n",
        "df_train.head(2)"
      ],
      "metadata": {
        "colab": {
          "base_uri": "https://localhost:8080/",
          "height": 312
        },
        "id": "h0UCN-ddK-4-",
        "outputId": "8df74ae4-8296-4414-cd78-bb844e896803"
      },
      "execution_count": 4,
      "outputs": [
        {
          "output_type": "execute_result",
          "data": {
            "text/plain": [
              "                                        original_text  \\\n",
              "ix                                                      \n",
              "0   There is manuscript evidence that Austen conti...   \n",
              "1   In a remarkable comparative analysis , Mandaea...   \n",
              "\n",
              "                                      lemmatized_text  d_chall_score  \\\n",
              "ix                                                                     \n",
              "0   there be manuscript evidence that austen conti...       8.236551   \n",
              "1   in a remarkable comparative analysis mandaean ...      12.320171   \n",
              "\n",
              "    aoa_mean  aoa_min  aoa_max  conc_rating_mean  conc_rating_min  \\\n",
              "ix                                                                  \n",
              "0   5.809310     3.57    12.12          2.495517             1.33   \n",
              "1   7.499286     2.89    11.94          2.251429             1.46   \n",
              "\n",
              "    conc_rating_max  num_lemmas  label  \n",
              "ix                                      \n",
              "0              4.57        37.0      1  \n",
              "1              3.77        21.0      1  "
            ],
            "text/html": [
              "\n",
              "  <div id=\"df-8bb00544-b3d9-489b-8d25-9357792e1da2\">\n",
              "    <div class=\"colab-df-container\">\n",
              "      <div>\n",
              "<style scoped>\n",
              "    .dataframe tbody tr th:only-of-type {\n",
              "        vertical-align: middle;\n",
              "    }\n",
              "\n",
              "    .dataframe tbody tr th {\n",
              "        vertical-align: top;\n",
              "    }\n",
              "\n",
              "    .dataframe thead th {\n",
              "        text-align: right;\n",
              "    }\n",
              "</style>\n",
              "<table border=\"1\" class=\"dataframe\">\n",
              "  <thead>\n",
              "    <tr style=\"text-align: right;\">\n",
              "      <th></th>\n",
              "      <th>original_text</th>\n",
              "      <th>lemmatized_text</th>\n",
              "      <th>d_chall_score</th>\n",
              "      <th>aoa_mean</th>\n",
              "      <th>aoa_min</th>\n",
              "      <th>aoa_max</th>\n",
              "      <th>conc_rating_mean</th>\n",
              "      <th>conc_rating_min</th>\n",
              "      <th>conc_rating_max</th>\n",
              "      <th>num_lemmas</th>\n",
              "      <th>label</th>\n",
              "    </tr>\n",
              "    <tr>\n",
              "      <th>ix</th>\n",
              "      <th></th>\n",
              "      <th></th>\n",
              "      <th></th>\n",
              "      <th></th>\n",
              "      <th></th>\n",
              "      <th></th>\n",
              "      <th></th>\n",
              "      <th></th>\n",
              "      <th></th>\n",
              "      <th></th>\n",
              "      <th></th>\n",
              "    </tr>\n",
              "  </thead>\n",
              "  <tbody>\n",
              "    <tr>\n",
              "      <th>0</th>\n",
              "      <td>There is manuscript evidence that Austen conti...</td>\n",
              "      <td>there be manuscript evidence that austen conti...</td>\n",
              "      <td>8.236551</td>\n",
              "      <td>5.809310</td>\n",
              "      <td>3.57</td>\n",
              "      <td>12.12</td>\n",
              "      <td>2.495517</td>\n",
              "      <td>1.33</td>\n",
              "      <td>4.57</td>\n",
              "      <td>37.0</td>\n",
              "      <td>1</td>\n",
              "    </tr>\n",
              "    <tr>\n",
              "      <th>1</th>\n",
              "      <td>In a remarkable comparative analysis , Mandaea...</td>\n",
              "      <td>in a remarkable comparative analysis mandaean ...</td>\n",
              "      <td>12.320171</td>\n",
              "      <td>7.499286</td>\n",
              "      <td>2.89</td>\n",
              "      <td>11.94</td>\n",
              "      <td>2.251429</td>\n",
              "      <td>1.46</td>\n",
              "      <td>3.77</td>\n",
              "      <td>21.0</td>\n",
              "      <td>1</td>\n",
              "    </tr>\n",
              "  </tbody>\n",
              "</table>\n",
              "</div>\n",
              "      <button class=\"colab-df-convert\" onclick=\"convertToInteractive('df-8bb00544-b3d9-489b-8d25-9357792e1da2')\"\n",
              "              title=\"Convert this dataframe to an interactive table.\"\n",
              "              style=\"display:none;\">\n",
              "        \n",
              "  <svg xmlns=\"http://www.w3.org/2000/svg\" height=\"24px\"viewBox=\"0 0 24 24\"\n",
              "       width=\"24px\">\n",
              "    <path d=\"M0 0h24v24H0V0z\" fill=\"none\"/>\n",
              "    <path d=\"M18.56 5.44l.94 2.06.94-2.06 2.06-.94-2.06-.94-.94-2.06-.94 2.06-2.06.94zm-11 1L8.5 8.5l.94-2.06 2.06-.94-2.06-.94L8.5 2.5l-.94 2.06-2.06.94zm10 10l.94 2.06.94-2.06 2.06-.94-2.06-.94-.94-2.06-.94 2.06-2.06.94z\"/><path d=\"M17.41 7.96l-1.37-1.37c-.4-.4-.92-.59-1.43-.59-.52 0-1.04.2-1.43.59L10.3 9.45l-7.72 7.72c-.78.78-.78 2.05 0 2.83L4 21.41c.39.39.9.59 1.41.59.51 0 1.02-.2 1.41-.59l7.78-7.78 2.81-2.81c.8-.78.8-2.07 0-2.86zM5.41 20L4 18.59l7.72-7.72 1.47 1.35L5.41 20z\"/>\n",
              "  </svg>\n",
              "      </button>\n",
              "      \n",
              "  <style>\n",
              "    .colab-df-container {\n",
              "      display:flex;\n",
              "      flex-wrap:wrap;\n",
              "      gap: 12px;\n",
              "    }\n",
              "\n",
              "    .colab-df-convert {\n",
              "      background-color: #E8F0FE;\n",
              "      border: none;\n",
              "      border-radius: 50%;\n",
              "      cursor: pointer;\n",
              "      display: none;\n",
              "      fill: #1967D2;\n",
              "      height: 32px;\n",
              "      padding: 0 0 0 0;\n",
              "      width: 32px;\n",
              "    }\n",
              "\n",
              "    .colab-df-convert:hover {\n",
              "      background-color: #E2EBFA;\n",
              "      box-shadow: 0px 1px 2px rgba(60, 64, 67, 0.3), 0px 1px 3px 1px rgba(60, 64, 67, 0.15);\n",
              "      fill: #174EA6;\n",
              "    }\n",
              "\n",
              "    [theme=dark] .colab-df-convert {\n",
              "      background-color: #3B4455;\n",
              "      fill: #D2E3FC;\n",
              "    }\n",
              "\n",
              "    [theme=dark] .colab-df-convert:hover {\n",
              "      background-color: #434B5C;\n",
              "      box-shadow: 0px 1px 3px 1px rgba(0, 0, 0, 0.15);\n",
              "      filter: drop-shadow(0px 1px 2px rgba(0, 0, 0, 0.3));\n",
              "      fill: #FFFFFF;\n",
              "    }\n",
              "  </style>\n",
              "\n",
              "      <script>\n",
              "        const buttonEl =\n",
              "          document.querySelector('#df-8bb00544-b3d9-489b-8d25-9357792e1da2 button.colab-df-convert');\n",
              "        buttonEl.style.display =\n",
              "          google.colab.kernel.accessAllowed ? 'block' : 'none';\n",
              "\n",
              "        async function convertToInteractive(key) {\n",
              "          const element = document.querySelector('#df-8bb00544-b3d9-489b-8d25-9357792e1da2');\n",
              "          const dataTable =\n",
              "            await google.colab.kernel.invokeFunction('convertToInteractive',\n",
              "                                                     [key], {});\n",
              "          if (!dataTable) return;\n",
              "\n",
              "          const docLinkHtml = 'Like what you see? Visit the ' +\n",
              "            '<a target=\"_blank\" href=https://colab.research.google.com/notebooks/data_table.ipynb>data table notebook</a>'\n",
              "            + ' to learn more about interactive tables.';\n",
              "          element.innerHTML = '';\n",
              "          dataTable['output_type'] = 'display_data';\n",
              "          await google.colab.output.renderOutput(dataTable, element);\n",
              "          const docLink = document.createElement('div');\n",
              "          docLink.innerHTML = docLinkHtml;\n",
              "          element.appendChild(docLink);\n",
              "        }\n",
              "      </script>\n",
              "    </div>\n",
              "  </div>\n",
              "  "
            ]
          },
          "metadata": {},
          "execution_count": 4
        }
      ]
    },
    {
      "cell_type": "code",
      "source": [
        "df_test.head(2)"
      ],
      "metadata": {
        "colab": {
          "base_uri": "https://localhost:8080/",
          "height": 329
        },
        "id": "syGch8WZLDjs",
        "outputId": "ce018ce9-416e-444f-f9d7-d42e2c627165"
      },
      "execution_count": 5,
      "outputs": [
        {
          "output_type": "execute_result",
          "data": {
            "text/plain": [
              "                                            original_text  \\\n",
              "ix                                                          \n",
              "356588  She was born with the name Maria SkÅ odowska i...   \n",
              "304697  The highest wind gust reported in Guadeloupe w...   \n",
              "\n",
              "                                          lemmatized_text  d_chall_score  \\\n",
              "ix                                                                         \n",
              "356588  she be bear with the name maria sk odowska in ...       7.174366   \n",
              "304697  the high wind gust report in guadeloupe be 84 ...       6.333686   \n",
              "\n",
              "        aoa_mean  aoa_min  aoa_max  conc_rating_mean  conc_rating_min  \\\n",
              "ix                                                                      \n",
              "356588  4.007143     3.57     5.11              2.86             1.43   \n",
              "304697  5.620000     3.69     8.66              2.94             1.43   \n",
              "\n",
              "        conc_rating_max  num_lemmas  label  \n",
              "ix                                          \n",
              "356588             4.88        12.0      0  \n",
              "304697             3.93        14.0      0  "
            ],
            "text/html": [
              "\n",
              "  <div id=\"df-2c503a13-3ce9-4e8d-821c-552466c5061b\">\n",
              "    <div class=\"colab-df-container\">\n",
              "      <div>\n",
              "<style scoped>\n",
              "    .dataframe tbody tr th:only-of-type {\n",
              "        vertical-align: middle;\n",
              "    }\n",
              "\n",
              "    .dataframe tbody tr th {\n",
              "        vertical-align: top;\n",
              "    }\n",
              "\n",
              "    .dataframe thead th {\n",
              "        text-align: right;\n",
              "    }\n",
              "</style>\n",
              "<table border=\"1\" class=\"dataframe\">\n",
              "  <thead>\n",
              "    <tr style=\"text-align: right;\">\n",
              "      <th></th>\n",
              "      <th>original_text</th>\n",
              "      <th>lemmatized_text</th>\n",
              "      <th>d_chall_score</th>\n",
              "      <th>aoa_mean</th>\n",
              "      <th>aoa_min</th>\n",
              "      <th>aoa_max</th>\n",
              "      <th>conc_rating_mean</th>\n",
              "      <th>conc_rating_min</th>\n",
              "      <th>conc_rating_max</th>\n",
              "      <th>num_lemmas</th>\n",
              "      <th>label</th>\n",
              "    </tr>\n",
              "    <tr>\n",
              "      <th>ix</th>\n",
              "      <th></th>\n",
              "      <th></th>\n",
              "      <th></th>\n",
              "      <th></th>\n",
              "      <th></th>\n",
              "      <th></th>\n",
              "      <th></th>\n",
              "      <th></th>\n",
              "      <th></th>\n",
              "      <th></th>\n",
              "      <th></th>\n",
              "    </tr>\n",
              "  </thead>\n",
              "  <tbody>\n",
              "    <tr>\n",
              "      <th>356588</th>\n",
              "      <td>She was born with the name Maria SkÅ odowska i...</td>\n",
              "      <td>she be bear with the name maria sk odowska in ...</td>\n",
              "      <td>7.174366</td>\n",
              "      <td>4.007143</td>\n",
              "      <td>3.57</td>\n",
              "      <td>5.11</td>\n",
              "      <td>2.86</td>\n",
              "      <td>1.43</td>\n",
              "      <td>4.88</td>\n",
              "      <td>12.0</td>\n",
              "      <td>0</td>\n",
              "    </tr>\n",
              "    <tr>\n",
              "      <th>304697</th>\n",
              "      <td>The highest wind gust reported in Guadeloupe w...</td>\n",
              "      <td>the high wind gust report in guadeloupe be 84 ...</td>\n",
              "      <td>6.333686</td>\n",
              "      <td>5.620000</td>\n",
              "      <td>3.69</td>\n",
              "      <td>8.66</td>\n",
              "      <td>2.94</td>\n",
              "      <td>1.43</td>\n",
              "      <td>3.93</td>\n",
              "      <td>14.0</td>\n",
              "      <td>0</td>\n",
              "    </tr>\n",
              "  </tbody>\n",
              "</table>\n",
              "</div>\n",
              "      <button class=\"colab-df-convert\" onclick=\"convertToInteractive('df-2c503a13-3ce9-4e8d-821c-552466c5061b')\"\n",
              "              title=\"Convert this dataframe to an interactive table.\"\n",
              "              style=\"display:none;\">\n",
              "        \n",
              "  <svg xmlns=\"http://www.w3.org/2000/svg\" height=\"24px\"viewBox=\"0 0 24 24\"\n",
              "       width=\"24px\">\n",
              "    <path d=\"M0 0h24v24H0V0z\" fill=\"none\"/>\n",
              "    <path d=\"M18.56 5.44l.94 2.06.94-2.06 2.06-.94-2.06-.94-.94-2.06-.94 2.06-2.06.94zm-11 1L8.5 8.5l.94-2.06 2.06-.94-2.06-.94L8.5 2.5l-.94 2.06-2.06.94zm10 10l.94 2.06.94-2.06 2.06-.94-2.06-.94-.94-2.06-.94 2.06-2.06.94z\"/><path d=\"M17.41 7.96l-1.37-1.37c-.4-.4-.92-.59-1.43-.59-.52 0-1.04.2-1.43.59L10.3 9.45l-7.72 7.72c-.78.78-.78 2.05 0 2.83L4 21.41c.39.39.9.59 1.41.59.51 0 1.02-.2 1.41-.59l7.78-7.78 2.81-2.81c.8-.78.8-2.07 0-2.86zM5.41 20L4 18.59l7.72-7.72 1.47 1.35L5.41 20z\"/>\n",
              "  </svg>\n",
              "      </button>\n",
              "      \n",
              "  <style>\n",
              "    .colab-df-container {\n",
              "      display:flex;\n",
              "      flex-wrap:wrap;\n",
              "      gap: 12px;\n",
              "    }\n",
              "\n",
              "    .colab-df-convert {\n",
              "      background-color: #E8F0FE;\n",
              "      border: none;\n",
              "      border-radius: 50%;\n",
              "      cursor: pointer;\n",
              "      display: none;\n",
              "      fill: #1967D2;\n",
              "      height: 32px;\n",
              "      padding: 0 0 0 0;\n",
              "      width: 32px;\n",
              "    }\n",
              "\n",
              "    .colab-df-convert:hover {\n",
              "      background-color: #E2EBFA;\n",
              "      box-shadow: 0px 1px 2px rgba(60, 64, 67, 0.3), 0px 1px 3px 1px rgba(60, 64, 67, 0.15);\n",
              "      fill: #174EA6;\n",
              "    }\n",
              "\n",
              "    [theme=dark] .colab-df-convert {\n",
              "      background-color: #3B4455;\n",
              "      fill: #D2E3FC;\n",
              "    }\n",
              "\n",
              "    [theme=dark] .colab-df-convert:hover {\n",
              "      background-color: #434B5C;\n",
              "      box-shadow: 0px 1px 3px 1px rgba(0, 0, 0, 0.15);\n",
              "      filter: drop-shadow(0px 1px 2px rgba(0, 0, 0, 0.3));\n",
              "      fill: #FFFFFF;\n",
              "    }\n",
              "  </style>\n",
              "\n",
              "      <script>\n",
              "        const buttonEl =\n",
              "          document.querySelector('#df-2c503a13-3ce9-4e8d-821c-552466c5061b button.colab-df-convert');\n",
              "        buttonEl.style.display =\n",
              "          google.colab.kernel.accessAllowed ? 'block' : 'none';\n",
              "\n",
              "        async function convertToInteractive(key) {\n",
              "          const element = document.querySelector('#df-2c503a13-3ce9-4e8d-821c-552466c5061b');\n",
              "          const dataTable =\n",
              "            await google.colab.kernel.invokeFunction('convertToInteractive',\n",
              "                                                     [key], {});\n",
              "          if (!dataTable) return;\n",
              "\n",
              "          const docLinkHtml = 'Like what you see? Visit the ' +\n",
              "            '<a target=\"_blank\" href=https://colab.research.google.com/notebooks/data_table.ipynb>data table notebook</a>'\n",
              "            + ' to learn more about interactive tables.';\n",
              "          element.innerHTML = '';\n",
              "          dataTable['output_type'] = 'display_data';\n",
              "          await google.colab.output.renderOutput(dataTable, element);\n",
              "          const docLink = document.createElement('div');\n",
              "          docLink.innerHTML = docLinkHtml;\n",
              "          element.appendChild(docLink);\n",
              "        }\n",
              "      </script>\n",
              "    </div>\n",
              "  </div>\n",
              "  "
            ]
          },
          "metadata": {},
          "execution_count": 5
        }
      ]
    },
    {
      "cell_type": "code",
      "source": [
        "num_features = ['d_chall_score', 'aoa_max', 'num_lemmas']\n",
        "\n",
        "text_features = 'lemmatized_text'\n",
        "\n",
        "def build_preprocessing_pipe(tfidf_kwargs={}):\n",
        "\n",
        "  text_pipe = Pipeline([\n",
        "      ('tfidf', TfidfVectorizer(**tfidf_kwargs)),\n",
        "  ])\n",
        "\n",
        "  preprocessor = ColumnTransformer([\n",
        "      ('num', 'passthrough', num_features),\n",
        "      ('text', text_pipe, text_features),\n",
        "  ])\n",
        "\n",
        "  pipe = Pipeline([\n",
        "      ('preprocessor', preprocessor),\n",
        "  ])\n",
        "\n",
        "  return pipe\n",
        "\n",
        "def build_clf(tfidf_kwargs={}, clf_kwargs={}):\n",
        "\n",
        "  text_pipe = Pipeline([\n",
        "      ('tfidf', TfidfVectorizer(**tfidf_kwargs)),\n",
        "  ])\n",
        "\n",
        "  preprocessor = ColumnTransformer([\n",
        "      ('num', 'passthrough', num_features),\n",
        "      ('text', text_pipe, text_features),\n",
        "  ])\n",
        "\n",
        "  clf = Pipeline([\n",
        "      ('preprocessor', preprocessor),\n",
        "      ('clf', xgb.XGBRFClassifier(**clf_kwargs))\n",
        "  ])\n",
        "\n",
        "  return clf"
      ],
      "metadata": {
        "id": "-DPU1Px8SvnI"
      },
      "execution_count": 142,
      "outputs": []
    },
    {
      "cell_type": "code",
      "source": [
        "base_params = {\n",
        "              'objective': 'binary:logistic', \n",
        "              'tree_method':'gpu_hist',\n",
        "              'eval_metric':'error',\n",
        "              'gpu_id':0,\n",
        "              'n_jobs':-1,\n",
        "              'seed':99,\n",
        "               }\n",
        "param_grid = ParameterGrid({\n",
        "              'max_depth':[16],\n",
        "              'colsample_bytree':[.5],\n",
        "              'sampling_method':['gradient_based'],\n",
        "              'subsample':[.2, .4],\n",
        "              'alpha':[.8, 10],\n",
        "              'eta':[1e-3]\n",
        "              })\n",
        "\n",
        "tfidf_params = {'min_df':50, 'ngram_range':(1, 3), 'max_features':500}\n",
        "\n",
        "def get_best_params_cv(df, base_params, param_grid, tfidf_params, n_splits=10):\n",
        "  pipe = build_preprocessing_pipe(tfidf_params)\n",
        "  skf = StratifiedKFold(n_splits=n_splits)\n",
        "\n",
        "  best_test_scores = np.zeros(len(param_grid))\n",
        "  best_train_scores = np.zeros(len(param_grid))\n",
        "  best_boost_rounds = np.zeros(len(param_grid))\n",
        "\n",
        "  for i, params in enumerate(param_grid):\n",
        "    print('params', params)\n",
        "    test_scores = np.zeros(n_splits)\n",
        "    train_scores = np.zeros(n_splits)\n",
        "    boost_rounds = np.zeros(n_splits)\n",
        "\n",
        "    for n, (train_index, test_index) in enumerate(skf.split(df, df.label)):\n",
        "      X_train = pipe.fit_transform(df.iloc[train_index])\n",
        "      X_test = pipe.transform(df.iloc[test_index])\n",
        "      y_train = df.label.iloc[train_index]\n",
        "      y_test = df.label.iloc[test_index]\n",
        "\n",
        "      dtrain = xgb.DMatrix(X_train, y_train)\n",
        "      dtest = xgb.DMatrix(X_test, y_test)\n",
        "\n",
        "      evals = [(dtest, 'test'), (dtrain, 'train')]\n",
        "      evals_result = {}\n",
        "\n",
        "      bst =  xgb.train(\n",
        "          params={**params, **base_params},\n",
        "          dtrain=dtrain, \n",
        "          evals=evals,\n",
        "          num_boost_round=500,\n",
        "          early_stopping_rounds=50,\n",
        "          evals_result=evals_result,\n",
        "          verbose_eval=None,\n",
        "          )\n",
        "      \n",
        "      ix = np.argmin(evals_result['test']['error'])\n",
        "      test_scores[n] = evals_result['test']['error'][ix]\n",
        "      train_scores[n] = evals_result['train']['error'][ix]\n",
        "      boost_rounds[n] = ix + 1\n",
        "      print('fold', n+1)\n",
        "      print('\\ttest_accuracy', np.round(1-test_scores[n], 4), \n",
        "            'train_accuracy', np.round(1-train_scores[n], 4), \n",
        "            'best_boost_round', boost_rounds[n])\n",
        "\n",
        "    best_test_scores[i] = test_scores.mean()\n",
        "    best_train_scores[i] = train_scores.mean()\n",
        "    best_boost_rounds[i] = np.int64(boost_rounds.mean())\n",
        "\n",
        "  best_ix = np.argmin(best_test_scores)\n",
        "\n",
        "  ret_val =dict(\n",
        "    best_params=param_grid[best_ix],\n",
        "    best_test_score=1-best_test_scores[best_ix],\n",
        "    best_train_score=1-best_train_scores[best_ix],\n",
        "    best_boost_rounds=best_boost_rounds[best_ix],\n",
        "  )\n",
        "\n",
        "  print('Finished!')\n",
        "  for key, val in ret_val.items():\n",
        "    print(f'{key}:', val)\n",
        "\n",
        "  return ret_val\n",
        "\n",
        "\n",
        "xgb_cv_results = get_best_params_cv(df_train.sample(40000, random_state=99, replace=False), \n",
        "                base_params, \n",
        "                param_grid, \n",
        "                tfidf_params,\n",
        "                n_splits=5)"
      ],
      "metadata": {
        "colab": {
          "base_uri": "https://localhost:8080/"
        },
        "id": "WR3gYme81On7",
        "outputId": "3961f4f6-660c-4631-8241-b26e687098b1"
      },
      "execution_count": null,
      "outputs": [
        {
          "output_type": "stream",
          "name": "stdout",
          "text": [
            "params {'alpha': 0.8, 'colsample_bytree': 0.5, 'eta': 0.001, 'max_depth': 16, 'sampling_method': 'gradient_based', 'subsample': 0.2}\n",
            "fold 1\n",
            "\ttest_accuracy 0.6702 train_accuracy 0.7163 best_boost_round 36.0\n",
            "fold 2\n",
            "\ttest_accuracy 0.6724 train_accuracy 0.7409 best_boost_round 422.0\n"
          ]
        }
      ]
    },
    {
      "cell_type": "markdown",
      "source": [
        "Build classifier using best params"
      ],
      "metadata": {
        "id": "w5rSdbT4Tqek"
      }
    },
    {
      "cell_type": "code",
      "source": [
        "clf = build_clf(tfidf_params, \n",
        "                {**base_params, **xgb_cv_results['best_params']})"
      ],
      "metadata": {
        "id": "_ETFBMJ3TqCf"
      },
      "execution_count": 118,
      "outputs": []
    },
    {
      "cell_type": "markdown",
      "source": [
        "Final test on our training data to see if our model is overfitting."
      ],
      "metadata": {
        "id": "LeaaqXeeV7jM"
      }
    },
    {
      "cell_type": "code",
      "source": [
        "X_train, X_val, y_train, y_val = train_test_split(df_train[num_features + [text_features]], \n",
        "                                                  df_train['label'],\n",
        "                                                  test_size=.25,\n",
        "                                                  stratify=df_train['label'], \n",
        "                                                  random_state=99)\n",
        "\n",
        "clf = clf.fit(X_train, y_train)\n",
        "\n",
        "train_y_proba = clf.predict_proba(X_train)[:, 1]\n",
        "train_y_hat = clf.predict(X_train)\n",
        "\n",
        "val_y_proba = clf.predict_proba(X_val)[:, 1]\n",
        "val_y_hat = clf.predict(X_val)\n",
        "\n",
        "train_roc_auc = metrics.roc_auc_score(y_train, train_y_proba)\n",
        "train_accuracy = metrics.accuracy_score(y_train, train_y_hat)\n",
        "train_f1 = metrics.f1_score(y_train, train_y_hat)\n",
        "train_precision = metrics.precision_score(y_train, train_y_hat)\n",
        "train_recall = metrics.recall_score(y_train, train_y_hat)\n",
        "\n",
        "val_roc_auc = metrics.roc_auc_score(y_val, val_y_proba)\n",
        "val_accuracy = metrics.accuracy_score(y_val, val_y_hat)\n",
        "val_f1 = metrics.f1_score(y_val, val_y_hat)\n",
        "val_precision = metrics.precision_score(y_val, val_y_hat)\n",
        "val_recall = metrics.recall_score(y_val, val_y_hat)\n",
        "\n",
        "print()\n",
        "print('Train ROC AUC:', train_roc_auc)\n",
        "print('Train Accuracy Score:', train_accuracy)\n",
        "print('Train F1 Score:', train_f1)\n",
        "print('Train Precision Score:', train_precision)\n",
        "print('Train Recall Score:', train_recall)\n",
        "print()\n",
        "print('Validation ROC AUC:', val_roc_auc)\n",
        "print('Validation Accuracy Score:', val_accuracy)\n",
        "print('Validation F1 Score:', val_f1)\n",
        "print('Validation Precision Score:', val_precision)\n",
        "print('Validation Recall Score:', val_recall)"
      ],
      "metadata": {
        "colab": {
          "base_uri": "https://localhost:8080/"
        },
        "id": "G4LcP6FMV664",
        "outputId": "cabf54fa-f997-421b-c6d6-bfe011518c52"
      },
      "execution_count": 119,
      "outputs": [
        {
          "output_type": "stream",
          "name": "stdout",
          "text": [
            "\n",
            "Train ROC AUC: 0.7545856958116776\n",
            "Train Accuracy Score: 0.678869895030197\n",
            "Train F1 Score: 0.6755471595112735\n",
            "Train Precision Score: 0.6826076542869378\n",
            "Train Recall Score: 0.668631228716257\n",
            "\n",
            "Validation ROC AUC: 0.732592556463375\n",
            "Validation Accuracy Score: 0.6623974918153414\n",
            "Validation F1 Score: 0.6589973933087745\n",
            "Validation Precision Score: 0.6657091249374334\n",
            "Validation Recall Score: 0.652419647236974\n"
          ]
        }
      ]
    },
    {
      "cell_type": "code",
      "source": [
        "def plot_cf_matrix(y_true, y_pred):\n",
        "  cf_matrix = metrics.confusion_matrix(y_true, y_pred).round(0)\n",
        "  tick_lables = ('Easy', 'Difficult')\n",
        "\n",
        "  fig = plt.figure(figsize=(7, 5))\n",
        "  ax = plt.gca()\n",
        "  ax = sns.heatmap(cf_matrix, \n",
        "              annot=True,\n",
        "              fmt='.0f',\n",
        "              xticklabels=tick_lables,\n",
        "              yticklabels=tick_lables,\n",
        "              cmap=mpl.cm.get_cmap('YlGnBu'),\n",
        "              ax=ax,)\n",
        "  \n",
        "  ax.set_xlabel('Predicted Values', labelpad=10.0)\n",
        "  ax.set_ylabel('Actual Values', labelpad=10.0)\n",
        "\n",
        "plot_cf_matrix(y_val, val_y_hat)"
      ],
      "metadata": {
        "colab": {
          "base_uri": "https://localhost:8080/",
          "height": 340
        },
        "id": "rCkXdfC5WP4m",
        "outputId": "52cb2a51-2b31-4184-dd38-bed9bb20c410"
      },
      "execution_count": 120,
      "outputs": [
        {
          "output_type": "display_data",
          "data": {
            "text/plain": [
              "<Figure size 504x360 with 2 Axes>"
            ],
            "image/png": "[encoded data removed]"
          },
          "metadata": {
            "needs_background": "light"
          }
        }
      ]
    },
    {
      "cell_type": "markdown",
      "source": [
        "Lets look at the most important features"
      ],
      "metadata": {
        "id": "dpMfZf_hWSSR"
      }
    },
    {
      "cell_type": "code",
      "source": [
        "text_features_trf = list(clf['preprocessor']\n",
        "                         .transformers_[1][1]\n",
        "                         .get_feature_names_out())\n",
        "\n",
        "all_features = num_features + text_features_trf"
      ],
      "metadata": {
        "id": "2vjQKQDLugZX"
      },
      "execution_count": 121,
      "outputs": []
    },
    {
      "cell_type": "code",
      "source": [
        "feature_importances = pd.DataFrame({'feature':all_features, 'importance':clf[-1].feature_importances_})\n",
        "\n",
        "# What are top 10 most important features\n",
        "def plot_top_10(df_plot):\n",
        "  df_plot = (df_plot\n",
        "    .sort_values('importance', ascending=False)\n",
        "    .head(10)\n",
        "    .sort_values('importance'))\n",
        "  df_plot.plot.barh('feature', 'importance',\n",
        "                    legend=None)\n",
        "\n",
        "plot_top_10(feature_importances)"
      ],
      "metadata": {
        "colab": {
          "base_uri": "https://localhost:8080/",
          "height": 265
        },
        "id": "1_gXHC6vz-2T",
        "outputId": "c6611ec1-383f-45cd-ff9f-71e6cb02d8a9"
      },
      "execution_count": 122,
      "outputs": [
        {
          "output_type": "display_data",
          "data": {
            "text/plain": [
              "<Figure size 432x288 with 1 Axes>"
            ],
            "image/png": "[encoded data removed]"
          },
          "metadata": {
            "needs_background": "light"
          }
        }
      ]
    },
    {
      "cell_type": "markdown",
      "source": [
        "## Final Test"
      ],
      "metadata": {
        "id": "dhIeM2OZq-8G"
      }
    },
    {
      "cell_type": "code",
      "source": [
        "clf.fit(df_train, df_train['label'])\n",
        "\n",
        "train_y_proba = clf.predict_proba(df_train)[:, 1]\n",
        "train_y_hat = clf.predict(df_train)\n",
        "\n",
        "test_y_proba = clf.predict_proba(df_test)[:, 1]\n",
        "test_y_hat = clf.predict(df_test)\n",
        "\n",
        "train_roc_auc = metrics.roc_auc_score(df_train['label'], train_y_proba)\n",
        "train_accuracy = metrics.accuracy_score(df_train['label'], train_y_hat)\n",
        "train_f1 = metrics.f1_score(df_train['label'], train_y_hat)\n",
        "train_precision = metrics.precision_score(df_train['label'], train_y_hat)\n",
        "train_recall = metrics.recall_score(df_train['label'], train_y_hat)\n",
        "\n",
        "test_roc_auc = metrics.roc_auc_score(df_test['label'], test_y_proba)\n",
        "test_accuracy = metrics.accuracy_score(df_test['label'], test_y_hat)\n",
        "test_f1 = metrics.f1_score(df_test['label'], test_y_hat)\n",
        "test_precision = metrics.precision_score(df_test['label'], test_y_hat)\n",
        "test_recall = metrics.recall_score(df_test['label'], test_y_hat)\n",
        "\n",
        "print()\n",
        "print('Train ROC AUC:', train_roc_auc)\n",
        "print('Train Accuracy Score:', train_accuracy)\n",
        "print('Train F1 Score:', train_f1)\n",
        "print('Train Precision Score:', train_precision)\n",
        "print('Train Recall Score:', train_recall)\n",
        "print()\n",
        "print('Test ROC AUC:', test_roc_auc)\n",
        "print('Test Accuracy Score:', test_accuracy)\n",
        "print('Test F1 Score:', test_f1)\n",
        "print('Test Precision Score:', test_precision)\n",
        "print('Test Recall Score:', test_recall)"
      ],
      "metadata": {
        "colab": {
          "base_uri": "https://localhost:8080/"
        },
        "id": "HpmvxpINUQGy",
        "outputId": "77bb3ea1-84a0-4c7e-ca18-1e389af4e8a8"
      },
      "execution_count": 37,
      "outputs": [
        {
          "output_type": "stream",
          "name": "stdout",
          "text": [
            "\n",
            "Train ROC AUC: 0.7350092485030044\n",
            "Train Accuracy Score: 0.6637864843824982\n",
            "Train F1 Score: 0.6561512475358746\n",
            "Train Precision Score: 0.6713983606465904\n",
            "Train Recall Score: 0.6415812653962228\n",
            "\n",
            "Test ROC AUC: 0.7295706734913379\n",
            "Test Accuracy Score: 0.6613158652461849\n",
            "Test F1 Score: 0.6533218715461132\n",
            "Test Precision Score: 0.6691150576042663\n",
            "Test Recall Score: 0.6382570304251848\n"
          ]
        }
      ]
    }
  ]
}