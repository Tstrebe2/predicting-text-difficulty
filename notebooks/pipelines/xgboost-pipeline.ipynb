{
  "nbformat": 4,
  "nbformat_minor": 0,
  "metadata": {
    "colab": {
      "provenance": [],
      "machine_shape": "hm",
      "authorship_tag": "ABX9TyMT4zCL1+IkqS7sQN4m722K",
      "include_colab_link": true
    },
    "kernelspec": {
      "name": "python3",
      "display_name": "Python 3"
    },
    "language_info": {
      "name": "python"
    },
    "accelerator": "GPU"
  },
  "cells": [
    {
      "cell_type": "markdown",
      "metadata": {
        "id": "view-in-github",
        "colab_type": "text"
      },
      "source": [
        "<a href=\"https://colab.research.google.com/github/Tstrebe2/predicting-text-difficulty/blob/tim-updates/notebooks/pipelines/xgboost-pipeline.ipynb\" target=\"_parent\"><img src=\"https://colab.research.google.com/assets/colab-badge.svg\" alt=\"Open In Colab\"/></a>"
      ]
    },
    {
      "cell_type": "code",
      "source": [
        "import sys\n",
        "\n",
        "!{sys.executable} -m pip install -U xgboost==1.6.0 -q\n",
        "!{sys.executable} -m pip install shap==0.41.0 -q"
      ],
      "metadata": {
        "colab": {
          "base_uri": "https://localhost:8080/"
        },
        "id": "hF3FqErAQssI",
        "outputId": "4589fb30-435e-4652-da64-a6eaf658cf3b"
      },
      "execution_count": 1,
      "outputs": [
        {
          "output_type": "stream",
          "name": "stdout",
          "text": [
            "\u001b[K     |████████████████████████████████| 193.7 MB 25 kB/s \n",
            "\u001b[K     |████████████████████████████████| 569 kB 13.4 MB/s \n",
            "\u001b[?25h"
          ]
        }
      ]
    },
    {
      "cell_type": "code",
      "execution_count": 2,
      "metadata": {
        "id": "sO-fJn3mCR-a"
      },
      "outputs": [],
      "source": [
        "from google.colab import drive\n",
        "\n",
        "import pandas as pd\n",
        "import numpy as np\n",
        "import joblib\n",
        "\n",
        "import xgboost as xgb\n",
        "from sklearn.feature_extraction.text import TfidfVectorizer\n",
        "from sklearn.preprocessing import StandardScaler, FunctionTransformer\n",
        "from sklearn.pipeline import Pipeline\n",
        "from sklearn.impute import SimpleImputer\n",
        "from sklearn.compose import ColumnTransformer\n",
        "from sklearn import metrics\n",
        "from sklearn.model_selection import train_test_split, StratifiedKFold, ParameterGrid\n",
        "\n",
        "import matplotlib as mpl\n",
        "import matplotlib.pyplot as plt\n",
        "import seaborn as sns\n",
        "%matplotlib inline"
      ]
    },
    {
      "cell_type": "code",
      "source": [
        "drive.mount('/content/drive')"
      ],
      "metadata": {
        "colab": {
          "base_uri": "https://localhost:8080/"
        },
        "id": "aW8obkqzKyK7",
        "outputId": "5085bfcd-5d6e-46fa-f6fe-e6cf85ee4863"
      },
      "execution_count": 3,
      "outputs": [
        {
          "output_type": "stream",
          "name": "stdout",
          "text": [
            "Mounted at /content/drive\n"
          ]
        }
      ]
    },
    {
      "cell_type": "code",
      "source": [
        "repo_path = '/content/drive/MyDrive/milestone-ii/'\n",
        "train_path = ''.join([repo_path, 'Training_set.csv'])\n",
        "test_path = ''.join([repo_path, 'Testing_set.csv'])\n",
        "\n",
        "df_train = pd.read_csv(train_path, sep='\\t', index_col='ix')\n",
        "df_train['lemmatized_text'] = df_train['lemmatized_text'].fillna('')\n",
        "df_test = pd.read_csv(test_path, sep='\\t', index_col='ix')\n",
        "df_test['lemmatized_text'] = df_test['lemmatized_text'].fillna('')\n",
        "\n",
        "df_train.head(2)"
      ],
      "metadata": {
        "colab": {
          "base_uri": "https://localhost:8080/",
          "height": 312
        },
        "id": "h0UCN-ddK-4-",
        "outputId": "345829de-aa1f-47eb-8fa6-3827b08be810"
      },
      "execution_count": 4,
      "outputs": [
        {
          "output_type": "execute_result",
          "data": {
            "text/plain": [
              "                                        original_text  \\\n",
              "ix                                                      \n",
              "0   There is manuscript evidence that Austen conti...   \n",
              "1   In a remarkable comparative analysis , Mandaea...   \n",
              "\n",
              "                                      lemmatized_text  d_chall_score  \\\n",
              "ix                                                                     \n",
              "0   there be manuscript evidence that austen conti...       8.236551   \n",
              "1   in a remarkable comparative analysis mandaean ...      12.320171   \n",
              "\n",
              "    aoa_mean  aoa_min  aoa_max  conc_rating_mean  conc_rating_min  \\\n",
              "ix                                                                  \n",
              "0   5.809310     3.57    12.12          2.495517             1.33   \n",
              "1   7.499286     2.89    11.94          2.251429             1.46   \n",
              "\n",
              "    conc_rating_max  num_lemmas  label  \n",
              "ix                                      \n",
              "0              4.57        37.0      1  \n",
              "1              3.77        21.0      1  "
            ],
            "text/html": [
              "\n",
              "  <div id=\"df-9ffd94f7-f369-4f1e-a4d8-553f2e04c64f\">\n",
              "    <div class=\"colab-df-container\">\n",
              "      <div>\n",
              "<style scoped>\n",
              "    .dataframe tbody tr th:only-of-type {\n",
              "        vertical-align: middle;\n",
              "    }\n",
              "\n",
              "    .dataframe tbody tr th {\n",
              "        vertical-align: top;\n",
              "    }\n",
              "\n",
              "    .dataframe thead th {\n",
              "        text-align: right;\n",
              "    }\n",
              "</style>\n",
              "<table border=\"1\" class=\"dataframe\">\n",
              "  <thead>\n",
              "    <tr style=\"text-align: right;\">\n",
              "      <th></th>\n",
              "      <th>original_text</th>\n",
              "      <th>lemmatized_text</th>\n",
              "      <th>d_chall_score</th>\n",
              "      <th>aoa_mean</th>\n",
              "      <th>aoa_min</th>\n",
              "      <th>aoa_max</th>\n",
              "      <th>conc_rating_mean</th>\n",
              "      <th>conc_rating_min</th>\n",
              "      <th>conc_rating_max</th>\n",
              "      <th>num_lemmas</th>\n",
              "      <th>label</th>\n",
              "    </tr>\n",
              "    <tr>\n",
              "      <th>ix</th>\n",
              "      <th></th>\n",
              "      <th></th>\n",
              "      <th></th>\n",
              "      <th></th>\n",
              "      <th></th>\n",
              "      <th></th>\n",
              "      <th></th>\n",
              "      <th></th>\n",
              "      <th></th>\n",
              "      <th></th>\n",
              "      <th></th>\n",
              "    </tr>\n",
              "  </thead>\n",
              "  <tbody>\n",
              "    <tr>\n",
              "      <th>0</th>\n",
              "      <td>There is manuscript evidence that Austen conti...</td>\n",
              "      <td>there be manuscript evidence that austen conti...</td>\n",
              "      <td>8.236551</td>\n",
              "      <td>5.809310</td>\n",
              "      <td>3.57</td>\n",
              "      <td>12.12</td>\n",
              "      <td>2.495517</td>\n",
              "      <td>1.33</td>\n",
              "      <td>4.57</td>\n",
              "      <td>37.0</td>\n",
              "      <td>1</td>\n",
              "    </tr>\n",
              "    <tr>\n",
              "      <th>1</th>\n",
              "      <td>In a remarkable comparative analysis , Mandaea...</td>\n",
              "      <td>in a remarkable comparative analysis mandaean ...</td>\n",
              "      <td>12.320171</td>\n",
              "      <td>7.499286</td>\n",
              "      <td>2.89</td>\n",
              "      <td>11.94</td>\n",
              "      <td>2.251429</td>\n",
              "      <td>1.46</td>\n",
              "      <td>3.77</td>\n",
              "      <td>21.0</td>\n",
              "      <td>1</td>\n",
              "    </tr>\n",
              "  </tbody>\n",
              "</table>\n",
              "</div>\n",
              "      <button class=\"colab-df-convert\" onclick=\"convertToInteractive('df-9ffd94f7-f369-4f1e-a4d8-553f2e04c64f')\"\n",
              "              title=\"Convert this dataframe to an interactive table.\"\n",
              "              style=\"display:none;\">\n",
              "        \n",
              "  <svg xmlns=\"http://www.w3.org/2000/svg\" height=\"24px\"viewBox=\"0 0 24 24\"\n",
              "       width=\"24px\">\n",
              "    <path d=\"M0 0h24v24H0V0z\" fill=\"none\"/>\n",
              "    <path d=\"M18.56 5.44l.94 2.06.94-2.06 2.06-.94-2.06-.94-.94-2.06-.94 2.06-2.06.94zm-11 1L8.5 8.5l.94-2.06 2.06-.94-2.06-.94L8.5 2.5l-.94 2.06-2.06.94zm10 10l.94 2.06.94-2.06 2.06-.94-2.06-.94-.94-2.06-.94 2.06-2.06.94z\"/><path d=\"M17.41 7.96l-1.37-1.37c-.4-.4-.92-.59-1.43-.59-.52 0-1.04.2-1.43.59L10.3 9.45l-7.72 7.72c-.78.78-.78 2.05 0 2.83L4 21.41c.39.39.9.59 1.41.59.51 0 1.02-.2 1.41-.59l7.78-7.78 2.81-2.81c.8-.78.8-2.07 0-2.86zM5.41 20L4 18.59l7.72-7.72 1.47 1.35L5.41 20z\"/>\n",
              "  </svg>\n",
              "      </button>\n",
              "      \n",
              "  <style>\n",
              "    .colab-df-container {\n",
              "      display:flex;\n",
              "      flex-wrap:wrap;\n",
              "      gap: 12px;\n",
              "    }\n",
              "\n",
              "    .colab-df-convert {\n",
              "      background-color: #E8F0FE;\n",
              "      border: none;\n",
              "      border-radius: 50%;\n",
              "      cursor: pointer;\n",
              "      display: none;\n",
              "      fill: #1967D2;\n",
              "      height: 32px;\n",
              "      padding: 0 0 0 0;\n",
              "      width: 32px;\n",
              "    }\n",
              "\n",
              "    .colab-df-convert:hover {\n",
              "      background-color: #E2EBFA;\n",
              "      box-shadow: 0px 1px 2px rgba(60, 64, 67, 0.3), 0px 1px 3px 1px rgba(60, 64, 67, 0.15);\n",
              "      fill: #174EA6;\n",
              "    }\n",
              "\n",
              "    [theme=dark] .colab-df-convert {\n",
              "      background-color: #3B4455;\n",
              "      fill: #D2E3FC;\n",
              "    }\n",
              "\n",
              "    [theme=dark] .colab-df-convert:hover {\n",
              "      background-color: #434B5C;\n",
              "      box-shadow: 0px 1px 3px 1px rgba(0, 0, 0, 0.15);\n",
              "      filter: drop-shadow(0px 1px 2px rgba(0, 0, 0, 0.3));\n",
              "      fill: #FFFFFF;\n",
              "    }\n",
              "  </style>\n",
              "\n",
              "      <script>\n",
              "        const buttonEl =\n",
              "          document.querySelector('#df-9ffd94f7-f369-4f1e-a4d8-553f2e04c64f button.colab-df-convert');\n",
              "        buttonEl.style.display =\n",
              "          google.colab.kernel.accessAllowed ? 'block' : 'none';\n",
              "\n",
              "        async function convertToInteractive(key) {\n",
              "          const element = document.querySelector('#df-9ffd94f7-f369-4f1e-a4d8-553f2e04c64f');\n",
              "          const dataTable =\n",
              "            await google.colab.kernel.invokeFunction('convertToInteractive',\n",
              "                                                     [key], {});\n",
              "          if (!dataTable) return;\n",
              "\n",
              "          const docLinkHtml = 'Like what you see? Visit the ' +\n",
              "            '<a target=\"_blank\" href=https://colab.research.google.com/notebooks/data_table.ipynb>data table notebook</a>'\n",
              "            + ' to learn more about interactive tables.';\n",
              "          element.innerHTML = '';\n",
              "          dataTable['output_type'] = 'display_data';\n",
              "          await google.colab.output.renderOutput(dataTable, element);\n",
              "          const docLink = document.createElement('div');\n",
              "          docLink.innerHTML = docLinkHtml;\n",
              "          element.appendChild(docLink);\n",
              "        }\n",
              "      </script>\n",
              "    </div>\n",
              "  </div>\n",
              "  "
            ]
          },
          "metadata": {},
          "execution_count": 4
        }
      ]
    },
    {
      "cell_type": "code",
      "source": [
        "df_test.head(2)"
      ],
      "metadata": {
        "colab": {
          "base_uri": "https://localhost:8080/",
          "height": 329
        },
        "id": "syGch8WZLDjs",
        "outputId": "02cea0dd-a727-468f-8517-be5a8ee477e8"
      },
      "execution_count": 5,
      "outputs": [
        {
          "output_type": "execute_result",
          "data": {
            "text/plain": [
              "                                            original_text  \\\n",
              "ix                                                          \n",
              "356588  She was born with the name Maria SkÅ odowska i...   \n",
              "304697  The highest wind gust reported in Guadeloupe w...   \n",
              "\n",
              "                                          lemmatized_text  d_chall_score  \\\n",
              "ix                                                                         \n",
              "356588  she be bear with the name maria sk odowska in ...       7.174366   \n",
              "304697  the high wind gust report in guadeloupe be 84 ...       6.333686   \n",
              "\n",
              "        aoa_mean  aoa_min  aoa_max  conc_rating_mean  conc_rating_min  \\\n",
              "ix                                                                      \n",
              "356588  4.007143     3.57     5.11              2.86             1.43   \n",
              "304697  5.620000     3.69     8.66              2.94             1.43   \n",
              "\n",
              "        conc_rating_max  num_lemmas  label  \n",
              "ix                                          \n",
              "356588             4.88        12.0      0  \n",
              "304697             3.93        14.0      0  "
            ],
            "text/html": [
              "\n",
              "  <div id=\"df-fbddb946-96c0-4790-8c92-c3ec68510bbd\">\n",
              "    <div class=\"colab-df-container\">\n",
              "      <div>\n",
              "<style scoped>\n",
              "    .dataframe tbody tr th:only-of-type {\n",
              "        vertical-align: middle;\n",
              "    }\n",
              "\n",
              "    .dataframe tbody tr th {\n",
              "        vertical-align: top;\n",
              "    }\n",
              "\n",
              "    .dataframe thead th {\n",
              "        text-align: right;\n",
              "    }\n",
              "</style>\n",
              "<table border=\"1\" class=\"dataframe\">\n",
              "  <thead>\n",
              "    <tr style=\"text-align: right;\">\n",
              "      <th></th>\n",
              "      <th>original_text</th>\n",
              "      <th>lemmatized_text</th>\n",
              "      <th>d_chall_score</th>\n",
              "      <th>aoa_mean</th>\n",
              "      <th>aoa_min</th>\n",
              "      <th>aoa_max</th>\n",
              "      <th>conc_rating_mean</th>\n",
              "      <th>conc_rating_min</th>\n",
              "      <th>conc_rating_max</th>\n",
              "      <th>num_lemmas</th>\n",
              "      <th>label</th>\n",
              "    </tr>\n",
              "    <tr>\n",
              "      <th>ix</th>\n",
              "      <th></th>\n",
              "      <th></th>\n",
              "      <th></th>\n",
              "      <th></th>\n",
              "      <th></th>\n",
              "      <th></th>\n",
              "      <th></th>\n",
              "      <th></th>\n",
              "      <th></th>\n",
              "      <th></th>\n",
              "      <th></th>\n",
              "    </tr>\n",
              "  </thead>\n",
              "  <tbody>\n",
              "    <tr>\n",
              "      <th>356588</th>\n",
              "      <td>She was born with the name Maria SkÅ odowska i...</td>\n",
              "      <td>she be bear with the name maria sk odowska in ...</td>\n",
              "      <td>7.174366</td>\n",
              "      <td>4.007143</td>\n",
              "      <td>3.57</td>\n",
              "      <td>5.11</td>\n",
              "      <td>2.86</td>\n",
              "      <td>1.43</td>\n",
              "      <td>4.88</td>\n",
              "      <td>12.0</td>\n",
              "      <td>0</td>\n",
              "    </tr>\n",
              "    <tr>\n",
              "      <th>304697</th>\n",
              "      <td>The highest wind gust reported in Guadeloupe w...</td>\n",
              "      <td>the high wind gust report in guadeloupe be 84 ...</td>\n",
              "      <td>6.333686</td>\n",
              "      <td>5.620000</td>\n",
              "      <td>3.69</td>\n",
              "      <td>8.66</td>\n",
              "      <td>2.94</td>\n",
              "      <td>1.43</td>\n",
              "      <td>3.93</td>\n",
              "      <td>14.0</td>\n",
              "      <td>0</td>\n",
              "    </tr>\n",
              "  </tbody>\n",
              "</table>\n",
              "</div>\n",
              "      <button class=\"colab-df-convert\" onclick=\"convertToInteractive('df-fbddb946-96c0-4790-8c92-c3ec68510bbd')\"\n",
              "              title=\"Convert this dataframe to an interactive table.\"\n",
              "              style=\"display:none;\">\n",
              "        \n",
              "  <svg xmlns=\"http://www.w3.org/2000/svg\" height=\"24px\"viewBox=\"0 0 24 24\"\n",
              "       width=\"24px\">\n",
              "    <path d=\"M0 0h24v24H0V0z\" fill=\"none\"/>\n",
              "    <path d=\"M18.56 5.44l.94 2.06.94-2.06 2.06-.94-2.06-.94-.94-2.06-.94 2.06-2.06.94zm-11 1L8.5 8.5l.94-2.06 2.06-.94-2.06-.94L8.5 2.5l-.94 2.06-2.06.94zm10 10l.94 2.06.94-2.06 2.06-.94-2.06-.94-.94-2.06-.94 2.06-2.06.94z\"/><path d=\"M17.41 7.96l-1.37-1.37c-.4-.4-.92-.59-1.43-.59-.52 0-1.04.2-1.43.59L10.3 9.45l-7.72 7.72c-.78.78-.78 2.05 0 2.83L4 21.41c.39.39.9.59 1.41.59.51 0 1.02-.2 1.41-.59l7.78-7.78 2.81-2.81c.8-.78.8-2.07 0-2.86zM5.41 20L4 18.59l7.72-7.72 1.47 1.35L5.41 20z\"/>\n",
              "  </svg>\n",
              "      </button>\n",
              "      \n",
              "  <style>\n",
              "    .colab-df-container {\n",
              "      display:flex;\n",
              "      flex-wrap:wrap;\n",
              "      gap: 12px;\n",
              "    }\n",
              "\n",
              "    .colab-df-convert {\n",
              "      background-color: #E8F0FE;\n",
              "      border: none;\n",
              "      border-radius: 50%;\n",
              "      cursor: pointer;\n",
              "      display: none;\n",
              "      fill: #1967D2;\n",
              "      height: 32px;\n",
              "      padding: 0 0 0 0;\n",
              "      width: 32px;\n",
              "    }\n",
              "\n",
              "    .colab-df-convert:hover {\n",
              "      background-color: #E2EBFA;\n",
              "      box-shadow: 0px 1px 2px rgba(60, 64, 67, 0.3), 0px 1px 3px 1px rgba(60, 64, 67, 0.15);\n",
              "      fill: #174EA6;\n",
              "    }\n",
              "\n",
              "    [theme=dark] .colab-df-convert {\n",
              "      background-color: #3B4455;\n",
              "      fill: #D2E3FC;\n",
              "    }\n",
              "\n",
              "    [theme=dark] .colab-df-convert:hover {\n",
              "      background-color: #434B5C;\n",
              "      box-shadow: 0px 1px 3px 1px rgba(0, 0, 0, 0.15);\n",
              "      filter: drop-shadow(0px 1px 2px rgba(0, 0, 0, 0.3));\n",
              "      fill: #FFFFFF;\n",
              "    }\n",
              "  </style>\n",
              "\n",
              "      <script>\n",
              "        const buttonEl =\n",
              "          document.querySelector('#df-fbddb946-96c0-4790-8c92-c3ec68510bbd button.colab-df-convert');\n",
              "        buttonEl.style.display =\n",
              "          google.colab.kernel.accessAllowed ? 'block' : 'none';\n",
              "\n",
              "        async function convertToInteractive(key) {\n",
              "          const element = document.querySelector('#df-fbddb946-96c0-4790-8c92-c3ec68510bbd');\n",
              "          const dataTable =\n",
              "            await google.colab.kernel.invokeFunction('convertToInteractive',\n",
              "                                                     [key], {});\n",
              "          if (!dataTable) return;\n",
              "\n",
              "          const docLinkHtml = 'Like what you see? Visit the ' +\n",
              "            '<a target=\"_blank\" href=https://colab.research.google.com/notebooks/data_table.ipynb>data table notebook</a>'\n",
              "            + ' to learn more about interactive tables.';\n",
              "          element.innerHTML = '';\n",
              "          dataTable['output_type'] = 'display_data';\n",
              "          await google.colab.output.renderOutput(dataTable, element);\n",
              "          const docLink = document.createElement('div');\n",
              "          docLink.innerHTML = docLinkHtml;\n",
              "          element.appendChild(docLink);\n",
              "        }\n",
              "      </script>\n",
              "    </div>\n",
              "  </div>\n",
              "  "
            ]
          },
          "metadata": {},
          "execution_count": 5
        }
      ]
    },
    {
      "cell_type": "code",
      "source": [
        "num_features = ['d_chall_score', 'aoa_max', 'num_lemmas']\n",
        "\n",
        "text_features = 'lemmatized_text'\n",
        "\n",
        "def build_preprocessing_pipe(tfidf_kwargs={}):\n",
        "\n",
        "  text_pipe = Pipeline([\n",
        "      ('tfidf', TfidfVectorizer(**tfidf_kwargs)),\n",
        "  ])\n",
        "\n",
        "  preprocessor = ColumnTransformer([\n",
        "      ('num', 'passthrough', num_features),\n",
        "      ('text', text_pipe, text_features),\n",
        "  ])\n",
        "\n",
        "  pipe = Pipeline([\n",
        "      ('preprocessor', preprocessor),\n",
        "  ])\n",
        "\n",
        "  return pipe\n",
        "\n",
        "def build_clf(tfidf_kwargs={}, clf_kwargs={}):\n",
        "\n",
        "  text_pipe = Pipeline([\n",
        "      ('tfidf', TfidfVectorizer(**tfidf_kwargs)),\n",
        "  ])\n",
        "\n",
        "  preprocessor = ColumnTransformer([\n",
        "      ('num', 'passthrough', num_features),\n",
        "      ('text', text_pipe, text_features),\n",
        "  ])\n",
        "\n",
        "  clf = Pipeline([\n",
        "      ('preprocessor', preprocessor),\n",
        "      ('clf', xgb.XGBRFClassifier(**clf_kwargs))\n",
        "  ])\n",
        "\n",
        "  return clf"
      ],
      "metadata": {
        "id": "-DPU1Px8SvnI"
      },
      "execution_count": 6,
      "outputs": []
    },
    {
      "cell_type": "code",
      "source": [
        "def get_best_params_cv(df, base_params, \n",
        "                       param_grid, \n",
        "                       tfidf_params, \n",
        "                       n_splits=10, \n",
        "                       num_boost_round=500,\n",
        "                       early_stopping_rounds=50,\n",
        "                       verbose_eval=None):\n",
        "  pipe = build_preprocessing_pipe(tfidf_params)\n",
        "  skf = StratifiedKFold(n_splits=n_splits)\n",
        "\n",
        "  best_test_scores = np.zeros(len(param_grid))\n",
        "  best_train_scores = np.zeros(len(param_grid))\n",
        "  best_boost_rounds = np.zeros(len(param_grid))\n",
        "  \n",
        "  print(f'Training started: {n_splits} splits x {len(param_grid)} param combinations = {n_splits * len(param_grid)} training epochs.')\n",
        "\n",
        "  for i, params in enumerate(param_grid):\n",
        "    print('\\nparams', params)\n",
        "    test_scores = np.zeros(n_splits)\n",
        "    train_scores = np.zeros(n_splits)\n",
        "    boost_rounds = np.zeros(n_splits)\n",
        "\n",
        "    for n, (train_index, test_index) in enumerate(skf.split(df, df.label)):\n",
        "      X_train = pipe.fit_transform(df.iloc[train_index])\n",
        "      X_test = pipe.transform(df.iloc[test_index])\n",
        "      y_train = df.label.iloc[train_index]\n",
        "      y_test = df.label.iloc[test_index]\n",
        "\n",
        "      dtrain = xgb.DMatrix(X_train, y_train)\n",
        "      dtest = xgb.DMatrix(X_test, y_test)\n",
        "\n",
        "      evals = [(dtest, 'test'), (dtrain, 'train')]\n",
        "      evals_result = {}\n",
        "\n",
        "      bst =  xgb.train(\n",
        "          params={**params, **base_params},\n",
        "          dtrain=dtrain, \n",
        "          evals=evals,\n",
        "          num_boost_round=num_boost_round,\n",
        "          early_stopping_rounds=early_stopping_rounds,\n",
        "          evals_result=evals_result,\n",
        "          verbose_eval=verbose_eval,\n",
        "          )\n",
        "\n",
        "      ix = np.argmin(evals_result['test']['logloss'])\n",
        "      test_scores[n] = evals_result['test']['logloss'][ix]\n",
        "      train_scores[n] = evals_result['train']['logloss'][ix]\n",
        "      boost_rounds[n] = ix + 1\n",
        "      print(f'fold {n+1}:',\n",
        "            '\\ttest loss', np.round(test_scores[n], 4), \n",
        "            'train loss', np.round(train_scores[n], 4), \n",
        "            'best_boost_round', boost_rounds[n])\n",
        "\n",
        "    best_test_scores[i] = test_scores.mean()\n",
        "    best_train_scores[i] = train_scores.mean()\n",
        "    best_boost_rounds[i] = np.round(boost_rounds.mean())\n",
        "\n",
        "  print()\n",
        "  best_ix = np.argmin(best_test_scores)\n",
        "\n",
        "  ret_val =dict(\n",
        "    best_params=param_grid[best_ix],\n",
        "    best_test_score=1-best_test_scores[best_ix],\n",
        "    best_train_score=1-best_train_scores[best_ix],\n",
        "    best_boost_rounds=int(best_boost_rounds[best_ix]),\n",
        "  )\n",
        "\n",
        "  print('Finished!')\n",
        "  for key, val in ret_val.items():\n",
        "    print(f'{key}:', val)\n",
        "\n",
        "  return ret_val"
      ],
      "metadata": {
        "id": "WR3gYme81On7"
      },
      "execution_count": 7,
      "outputs": []
    },
    {
      "cell_type": "code",
      "source": [
        "base_params = {\n",
        "              'objective': 'binary:logistic', \n",
        "              'tree_method':'gpu_hist',\n",
        "              'gpu_id':0,\n",
        "              'n_jobs':-1,\n",
        "              'seed':99,\n",
        "               }\n",
        "param_grid = ParameterGrid({\n",
        "              'max_depth':[18],\n",
        "              'colsample_bytree':[.1, .2],\n",
        "              'subsample':[.4],\n",
        "              'alpha':[.8, 1],\n",
        "              'eta':[5e-2]\n",
        "              })\n",
        "\n",
        "tfidf_params = {'min_df':50, 'ngram_range':(1, 3), 'max_features':500}\n",
        "\n",
        "xgb_cv_results = get_best_params_cv(df_train.sample(40000, random_state=99, replace=False), \n",
        "                base_params, \n",
        "                param_grid, \n",
        "                tfidf_params,\n",
        "                n_splits=5,\n",
        "                num_boost_round=500,\n",
        "                early_stopping_rounds=25,\n",
        "                verbose_eval=250)"
      ],
      "metadata": {
        "colab": {
          "base_uri": "https://localhost:8080/"
        },
        "id": "EdG_xl1AhyTo",
        "outputId": "4a58ad71-3a59-4533-cdca-68afa396b121"
      },
      "execution_count": 93,
      "outputs": [
        {
          "output_type": "stream",
          "name": "stdout",
          "text": [
            "Training started: 5 splits x 4 param combinations = 20 training epochs.\n",
            "\n",
            "params {'alpha': 0.8, 'colsample_bytree': 0.1, 'eta': 0.05, 'max_depth': 18, 'subsample': 0.4}\n",
            "[0]\ttest-logloss:0.69021\ttrain-logloss:0.68960\n",
            "[250]\ttest-logloss:0.58776\ttrain-logloss:0.48254\n",
            "[499]\ttest-logloss:0.58768\ttrain-logloss:0.42710\n",
            "fold 1: \ttest loss 0.5858 train loss 0.4535 best_boost_round 363.0\n",
            "[0]\ttest-logloss:0.69023\ttrain-logloss:0.68949\n",
            "[250]\ttest-logloss:0.58730\ttrain-logloss:0.48271\n",
            "[499]\ttest-logloss:0.58758\ttrain-logloss:0.42451\n",
            "fold 2: \ttest loss 0.5863 train loss 0.473 best_boost_round 285.0\n",
            "[0]\ttest-logloss:0.69078\ttrain-logloss:0.69069\n",
            "[250]\ttest-logloss:0.58794\ttrain-logloss:0.48095\n",
            "[499]\ttest-logloss:0.58782\ttrain-logloss:0.42471\n",
            "fold 3: \ttest loss 0.5866 train loss 0.4406 best_boost_round 409.0\n",
            "[0]\ttest-logloss:0.68999\ttrain-logloss:0.68926\n",
            "[250]\ttest-logloss:0.58830\ttrain-logloss:0.48323\n",
            "[499]\ttest-logloss:0.58742\ttrain-logloss:0.42390\n",
            "fold 4: \ttest loss 0.5861 train loss 0.4558 best_boost_round 341.0\n",
            "[0]\ttest-logloss:0.69045\ttrain-logloss:0.69019\n",
            "[250]\ttest-logloss:0.58599\ttrain-logloss:0.48690\n",
            "[499]\ttest-logloss:0.58473\ttrain-logloss:0.42976\n",
            "fold 5: \ttest loss 0.5842 train loss 0.4336 best_boost_round 479.0\n",
            "params {'alpha': 0.8, 'colsample_bytree': 0.2, 'eta': 0.05, 'max_depth': 18, 'subsample': 0.4}\n",
            "[0]\ttest-logloss:0.68735\ttrain-logloss:0.68576\n",
            "[250]\ttest-logloss:0.58455\ttrain-logloss:0.45665\n",
            "[499]\ttest-logloss:0.58735\ttrain-logloss:0.39173\n",
            "fold 1: \ttest loss 0.5839 train loss 0.4395 best_boost_round 311.0\n",
            "[0]\ttest-logloss:0.68708\ttrain-logloss:0.68516\n",
            "[250]\ttest-logloss:0.58526\ttrain-logloss:0.45424\n",
            "[499]\ttest-logloss:0.58717\ttrain-logloss:0.38903\n",
            "fold 2: \ttest loss 0.5846 train loss 0.4175 best_boost_round 375.0\n",
            "[0]\ttest-logloss:0.68723\ttrain-logloss:0.68531\n",
            "[250]\ttest-logloss:0.58301\ttrain-logloss:0.45332\n",
            "[499]\ttest-logloss:0.58745\ttrain-logloss:0.39096\n",
            "fold 3: \ttest loss 0.5828 train loss 0.4476 best_boost_round 270.0\n",
            "[0]\ttest-logloss:0.68720\ttrain-logloss:0.68496\n",
            "[250]\ttest-logloss:0.58407\ttrain-logloss:0.45389\n",
            "[499]\ttest-logloss:0.58612\ttrain-logloss:0.38999\n",
            "fold 4: \ttest loss 0.5837 train loss 0.4646 best_boost_round 219.0\n",
            "[0]\ttest-logloss:0.68794\ttrain-logloss:0.68664\n",
            "[250]\ttest-logloss:0.58334\ttrain-logloss:0.45562\n",
            "[499]\ttest-logloss:0.58712\ttrain-logloss:0.39111\n",
            "fold 5: \ttest loss 0.583 train loss 0.4457 best_boost_round 278.0\n",
            "params {'alpha': 1, 'colsample_bytree': 0.1, 'eta': 0.05, 'max_depth': 18, 'subsample': 0.4}\n",
            "[0]\ttest-logloss:0.69023\ttrain-logloss:0.68962\n",
            "[250]\ttest-logloss:0.58727\ttrain-logloss:0.48632\n",
            "[499]\ttest-logloss:0.58750\ttrain-logloss:0.43068\n",
            "fold 1: \ttest loss 0.5854 train loss 0.4695 best_boost_round 313.0\n",
            "[0]\ttest-logloss:0.69025\ttrain-logloss:0.68953\n",
            "[250]\ttest-logloss:0.58814\ttrain-logloss:0.48608\n",
            "[499]\ttest-logloss:0.58838\ttrain-logloss:0.42999\n",
            "fold 2: \ttest loss 0.5874 train loss 0.4546 best_boost_round 372.0\n",
            "[0]\ttest-logloss:0.69078\ttrain-logloss:0.69073\n",
            "[250]\ttest-logloss:0.58846\ttrain-logloss:0.48483\n",
            "[499]\ttest-logloss:0.58789\ttrain-logloss:0.42863\n",
            "fold 3: \ttest loss 0.5863 train loss 0.4557 best_boost_round 362.0\n",
            "[0]\ttest-logloss:0.69005\ttrain-logloss:0.68934\n",
            "[250]\ttest-logloss:0.58703\ttrain-logloss:0.48604\n",
            "[499]\ttest-logloss:0.58636\ttrain-logloss:0.42761\n",
            "fold 4: \ttest loss 0.5849 train loss 0.4652 best_boost_round 322.0\n",
            "[0]\ttest-logloss:0.69052\ttrain-logloss:0.69017\n",
            "[250]\ttest-logloss:0.58679\ttrain-logloss:0.49033\n",
            "[499]\ttest-logloss:0.58622\ttrain-logloss:0.43444\n",
            "fold 5: \ttest loss 0.5856 train loss 0.4415 best_boost_round 461.0\n",
            "params {'alpha': 1, 'colsample_bytree': 0.2, 'eta': 0.05, 'max_depth': 18, 'subsample': 0.4}\n",
            "[0]\ttest-logloss:0.68732\ttrain-logloss:0.68591\n",
            "[250]\ttest-logloss:0.58309\ttrain-logloss:0.45845\n",
            "[499]\ttest-logloss:0.58626\ttrain-logloss:0.39427\n",
            "fold 1: \ttest loss 0.5825 train loss 0.4719 best_boost_round 211.0\n",
            "[0]\ttest-logloss:0.68708\ttrain-logloss:0.68529\n",
            "[250]\ttest-logloss:0.58480\ttrain-logloss:0.45693\n",
            "[499]\ttest-logloss:0.58738\ttrain-logloss:0.39139\n",
            "fold 2: \ttest loss 0.5842 train loss 0.4463 best_boost_round 284.0\n",
            "[0]\ttest-logloss:0.68712\ttrain-logloss:0.68556\n",
            "[250]\ttest-logloss:0.58337\ttrain-logloss:0.45716\n",
            "[499]\ttest-logloss:0.58690\ttrain-logloss:0.39273\n",
            "fold 3: \ttest loss 0.5826 train loss 0.451 best_boost_round 272.0\n",
            "[0]\ttest-logloss:0.68724\ttrain-logloss:0.68510\n",
            "[250]\ttest-logloss:0.58523\ttrain-logloss:0.45541\n",
            "[499]\ttest-logloss:0.58807\ttrain-logloss:0.39038\n",
            "fold 4: \ttest loss 0.585 train loss 0.4386 best_boost_round 308.0\n",
            "[0]\ttest-logloss:0.68789\ttrain-logloss:0.68662\n",
            "[250]\ttest-logloss:0.58113\ttrain-logloss:0.45640\n",
            "[499]\ttest-logloss:0.58496\ttrain-logloss:0.39203\n",
            "fold 5: \ttest loss 0.5809 train loss 0.4508 best_boost_round 266.0\n",
            "\n",
            "Finished!\n",
            "best_params: {'subsample': 0.4, 'max_depth': 18, 'eta': 0.05, 'colsample_bytree': 0.2, 'alpha': 1}\n",
            "best_test_score: 0.41697863086004505\n",
            "best_train_score: 0.5482882953356486\n",
            "best_boost_rounds: 268.0\n"
          ]
        }
      ]
    },
    {
      "cell_type": "markdown",
      "source": [
        "Build classifier using best params"
      ],
      "metadata": {
        "id": "w5rSdbT4Tqek"
      }
    },
    {
      "cell_type": "code",
      "source": [
        "clf = build_clf(tfidf_params, \n",
        "                {**base_params, **xgb_cv_results['best_params'], **{'n_estimators':int(xgb_cv_results['best_boost_rounds'])}})"
      ],
      "metadata": {
        "id": "_ETFBMJ3TqCf"
      },
      "execution_count": 94,
      "outputs": []
    },
    {
      "cell_type": "markdown",
      "source": [
        "Final test on our training data to see if our model is overfitting."
      ],
      "metadata": {
        "id": "LeaaqXeeV7jM"
      }
    },
    {
      "cell_type": "code",
      "source": [
        "X_train, X_val, y_train, y_val = train_test_split(df_train[num_features + [text_features]], \n",
        "                                                  df_train['label'],\n",
        "                                                  test_size=.25,\n",
        "                                                  stratify=df_train['label'], \n",
        "                                                  random_state=99)\n",
        "\n",
        "clf = clf.fit(X_train, y_train)\n",
        "\n",
        "train_y_proba = clf.predict_proba(X_train)[:, 1]\n",
        "train_y_hat = clf.predict(X_train)\n",
        "\n",
        "val_y_proba = clf.predict_proba(X_val)[:, 1]\n",
        "val_y_hat = clf.predict(X_val)\n",
        "\n",
        "train_roc_auc = metrics.roc_auc_score(y_train, train_y_proba)\n",
        "train_accuracy = metrics.accuracy_score(y_train, train_y_hat)\n",
        "train_f1 = metrics.f1_score(y_train, train_y_hat)\n",
        "train_precision = metrics.precision_score(y_train, train_y_hat)\n",
        "train_recall = metrics.recall_score(y_train, train_y_hat)\n",
        "\n",
        "val_roc_auc = metrics.roc_auc_score(y_val, val_y_proba)\n",
        "val_accuracy = metrics.accuracy_score(y_val, val_y_hat)\n",
        "val_f1 = metrics.f1_score(y_val, val_y_hat)\n",
        "val_precision = metrics.precision_score(y_val, val_y_hat)\n",
        "val_recall = metrics.recall_score(y_val, val_y_hat)\n",
        "\n",
        "print()\n",
        "print('Train ROC AUC:', train_roc_auc)\n",
        "print('Train Accuracy Score:', train_accuracy)\n",
        "print('Train F1 Score:', train_f1)\n",
        "print('Train Precision Score:', train_precision)\n",
        "print('Train Recall Score:', train_recall)\n",
        "print()\n",
        "print('Validation ROC AUC:', val_roc_auc)\n",
        "print('Validation Accuracy Score:', val_accuracy)\n",
        "print('Validation F1 Score:', val_f1)\n",
        "print('Validation Precision Score:', val_precision)\n",
        "print('Validation Recall Score:', val_recall)"
      ],
      "metadata": {
        "id": "G4LcP6FMV664",
        "colab": {
          "base_uri": "https://localhost:8080/"
        },
        "outputId": "a294ef1c-1d91-406f-83a6-4b82462426c0"
      },
      "execution_count": 95,
      "outputs": [
        {
          "output_type": "stream",
          "name": "stdout",
          "text": [
            "\n",
            "Train ROC AUC: 0.7721138256008794\n",
            "Train Accuracy Score: 0.694297221303929\n",
            "Train F1 Score: 0.703589326458444\n",
            "Train Precision Score: 0.6828317021120024\n",
            "Train Recall Score: 0.7256485543050925\n",
            "\n",
            "Validation ROC AUC: 0.7425905063655551\n",
            "Validation Accuracy Score: 0.672880253377838\n",
            "Validation F1 Score: 0.6839681444010591\n",
            "Validation Precision Score: 0.6615513392857143\n",
            "Validation Recall Score: 0.7079574295646981\n"
          ]
        }
      ]
    },
    {
      "cell_type": "code",
      "source": [
        "def plot_cf_matrix(y_true, y_pred):\n",
        "  cf_matrix = metrics.confusion_matrix(y_true, y_pred).round(0)\n",
        "  tick_lables = ('Easy', 'Difficult')\n",
        "\n",
        "  fig = plt.figure(figsize=(7, 5))\n",
        "  ax = plt.gca()\n",
        "  ax = sns.heatmap(cf_matrix, \n",
        "              annot=True,\n",
        "              fmt='.0f',\n",
        "              xticklabels=tick_lables,\n",
        "              yticklabels=tick_lables,\n",
        "              cmap=mpl.cm.get_cmap('YlGnBu'),\n",
        "              ax=ax,)\n",
        "  \n",
        "  ax.set_xlabel('Predicted Values', labelpad=10.0)\n",
        "  ax.set_ylabel('Actual Values', labelpad=10.0)\n",
        "\n",
        "plot_cf_matrix(y_val, val_y_hat)"
      ],
      "metadata": {
        "id": "rCkXdfC5WP4m",
        "colab": {
          "base_uri": "https://localhost:8080/",
          "height": 340
        },
        "outputId": "9c8231a2-f7f8-4b93-a7a6-0c6e6180ab9f"
      },
      "execution_count": 96,
      "outputs": [
        {
          "output_type": "display_data",
          "data": {
            "text/plain": [
              "<Figure size 504x360 with 2 Axes>"
            ],
            "image/png": "[encoded data removed]"
          },
          "metadata": {
            "needs_background": "light"
          }
        }
      ]
    },
    {
      "cell_type": "markdown",
      "source": [
        "Lets look at the most important features"
      ],
      "metadata": {
        "id": "dpMfZf_hWSSR"
      }
    },
    {
      "cell_type": "code",
      "source": [
        "text_features_trf = list(clf['preprocessor']\n",
        "                         .transformers_[1][1]\n",
        "                         .get_feature_names_out())\n",
        "\n",
        "all_features = num_features + text_features_trf\n",
        "\n",
        "ix = np.array([int(k[1:]) for k in (clf[-1]\n",
        "    .get_booster()\n",
        "    .get_score(importance_type='total_gain').keys())])\n",
        "  \n",
        "all_features = list(np.array(all_features)[ix])"
      ],
      "metadata": {
        "id": "2vjQKQDLugZX"
      },
      "execution_count": 97,
      "outputs": []
    },
    {
      "cell_type": "code",
      "source": [
        "feature_importances = pd.DataFrame({'feature':all_features, \n",
        "                                    'weight':(clf[-1]\n",
        "                                                  .get_booster()\n",
        "                                                  .get_score(importance_type='weight').values()),\n",
        "                                    'gain':(clf[-1]\n",
        "                                                  .get_booster()\n",
        "                                                  .get_score(importance_type='gain').values()),\n",
        "                                    'cover':(clf[-1]\n",
        "                                                  .get_booster()\n",
        "                                                  .get_score(importance_type='cover').values()),\n",
        "                                    'total_gain':(clf[-1]\n",
        "                                                  .get_booster()\n",
        "                                                  .get_score(importance_type='total_gain').values()),\n",
        "                                    'total_cover':(clf[-1]\n",
        "                                                  .get_booster()\n",
        "                                                  .get_score(importance_type='total_cover').values()),\n",
        "                                    })\n",
        "\n",
        "# What are top 10 most important features\n",
        "def plot_top_10(df_plot, ax, importance_type='gain', color='cyan'):\n",
        "  df_plot = (df_plot\n",
        "    .sort_values(importance_type, ascending=False)\n",
        "    .head(10)\n",
        "    .sort_values(importance_type))\n",
        "  df_plot.plot.barh('feature', importance_type, ax=ax, legend=False, color=color)\n",
        "\n",
        "  ax.set_title(importance_type)\n",
        "\n",
        "importance_types = feature_importances.columns[1:].tolist()\n",
        "\n",
        "fig, axs = plt.subplots(nrows=len(importance_types), figsize=(7, 4*len(importance_types)))\n",
        "colors = ('blue', 'orange', 'green', 'purple', 'cyan')\n",
        "for ax, importance_type, color in zip(axs, importance_types, colors):\n",
        "  plot_top_10(feature_importances, ax, importance_type, color)"
      ],
      "metadata": {
        "id": "1_gXHC6vz-2T",
        "colab": {
          "base_uri": "https://localhost:8080/",
          "height": 1000
        },
        "outputId": "880a497c-fc7e-48b4-b423-28c608d55493"
      },
      "execution_count": 98,
      "outputs": [
        {
          "output_type": "display_data",
          "data": {
            "text/plain": [
              "<Figure size 504x1440 with 5 Axes>"
            ],
            "image/png": "[encoded data removed]"
          },
          "metadata": {
            "needs_background": "light"
          }
        }
      ]
    },
    {
      "cell_type": "markdown",
      "source": [
        "## Final Test"
      ],
      "metadata": {
        "id": "dhIeM2OZq-8G"
      }
    },
    {
      "cell_type": "code",
      "source": [
        "clf.fit(df_train, df_train['label'])\n",
        "\n",
        "train_y_proba = clf.predict_proba(df_train)[:, 1]\n",
        "train_y_hat = clf.predict(df_train)\n",
        "\n",
        "test_y_proba = clf.predict_proba(df_test)[:, 1]\n",
        "test_y_hat = clf.predict(df_test)\n",
        "\n",
        "train_roc_auc = metrics.roc_auc_score(df_train['label'], train_y_proba)\n",
        "train_accuracy = metrics.accuracy_score(df_train['label'], train_y_hat)\n",
        "train_f1 = metrics.f1_score(df_train['label'], train_y_hat)\n",
        "train_precision = metrics.precision_score(df_train['label'], train_y_hat)\n",
        "train_recall = metrics.recall_score(df_train['label'], train_y_hat)\n",
        "\n",
        "test_roc_auc = metrics.roc_auc_score(df_test['label'], test_y_proba)\n",
        "test_accuracy = metrics.accuracy_score(df_test['label'], test_y_hat)\n",
        "test_f1 = metrics.f1_score(df_test['label'], test_y_hat)\n",
        "test_precision = metrics.precision_score(df_test['label'], test_y_hat)\n",
        "test_recall = metrics.recall_score(df_test['label'], test_y_hat)\n",
        "\n",
        "print()\n",
        "print('Train ROC AUC:', train_roc_auc)\n",
        "print('Train Accuracy Score:', train_accuracy)\n",
        "print('Train F1 Score:', train_f1)\n",
        "print('Train Precision Score:', train_precision)\n",
        "print('Train Recall Score:', train_recall)\n",
        "print()\n",
        "print('Test ROC AUC:', test_roc_auc)\n",
        "print('Test Accuracy Score:', test_accuracy)\n",
        "print('Test F1 Score:', test_f1)\n",
        "print('Test Precision Score:', test_precision)\n",
        "print('Test Recall Score:', test_recall)"
      ],
      "metadata": {
        "colab": {
          "base_uri": "https://localhost:8080/"
        },
        "id": "HpmvxpINUQGy",
        "outputId": "b321c754-d0b1-45d9-e0f5-e5296ebe347c"
      },
      "execution_count": 99,
      "outputs": [
        {
          "output_type": "stream",
          "name": "stdout",
          "text": [
            "\n",
            "Train ROC AUC: 0.7668680007194993\n",
            "Train Accuracy Score: 0.6903932901794759\n",
            "Train F1 Score: 0.6975148662622453\n",
            "Train Precision Score: 0.6818313753647322\n",
            "Train Recall Score: 0.7139368474934149\n",
            "\n",
            "Test ROC AUC: 0.7473336395912504\n",
            "Test Accuracy Score: 0.6780881082637489\n",
            "Test F1 Score: 0.6863368558870289\n",
            "Test Precision Score: 0.6691893863408407\n",
            "Test Recall Score: 0.7043862174872828\n"
          ]
        }
      ]
    },
    {
      "cell_type": "code",
      "source": [
        "plot_cf_matrix(df_test['label'], test_y_hat)"
      ],
      "metadata": {
        "id": "IQ2AYbCNLpo8",
        "outputId": "8da410f7-5521-445a-b810-cb6abb2c600f",
        "colab": {
          "base_uri": "https://localhost:8080/",
          "height": 340
        }
      },
      "execution_count": 103,
      "outputs": [
        {
          "output_type": "display_data",
          "data": {
            "text/plain": [
              "<Figure size 504x360 with 2 Axes>"
            ],
            "image/png": "[encoded data removed]"
          },
          "metadata": {
            "needs_background": "light"
          }
        }
      ]
    },
    {
      "cell_type": "code",
      "source": [
        "model_path = ''.join([repo_path, 'xgboost-clf.joblib'])\n",
        "joblib.dump(clf, model_path)"
      ],
      "metadata": {
        "colab": {
          "base_uri": "https://localhost:8080/"
        },
        "id": "8qKdmQWTABA8",
        "outputId": "ecf30b78-dfea-480a-83af-8a2914df354a"
      },
      "execution_count": 100,
      "outputs": [
        {
          "output_type": "execute_result",
          "data": {
            "text/plain": [
              "['/content/drive/MyDrive/milestone-ii/xgboost-clf.joblib']"
            ]
          },
          "metadata": {},
          "execution_count": 100
        }
      ]
    },
    {
      "cell_type": "code",
      "source": [
        "clf = joblib.load(model_path)\n",
        "print(clf)"
      ],
      "metadata": {
        "colab": {
          "base_uri": "https://localhost:8080/"
        },
        "id": "ruAK5towAiO1",
        "outputId": "fbe73700-50fc-42f7-d347-f1e28af77651"
      },
      "execution_count": 102,
      "outputs": [
        {
          "output_type": "stream",
          "name": "stdout",
          "text": [
            "Pipeline(steps=[('preprocessor',\n",
            "                 ColumnTransformer(transformers=[('num', 'passthrough',\n",
            "                                                  ['d_chall_score', 'aoa_max',\n",
            "                                                   'num_lemmas']),\n",
            "                                                 ('text',\n",
            "                                                  Pipeline(steps=[('tfidf',\n",
            "                                                                   TfidfVectorizer(max_features=500,\n",
            "                                                                                   min_df=50,\n",
            "                                                                                   ngram_range=(1,\n",
            "                                                                                                3)))]),\n",
            "                                                  'lemmatized_text')])),\n",
            "                ('clf',\n",
            "                 XGBRFClassifier(alpha=1, base_score=0.5, booster='gbtree',\n",
            "                                 callbacks=None, colsample_bylevel=1,\n",
            "                                 colsa...\n",
            "                                 eval_metric=None, gamma=0, gpu_id=0,\n",
            "                                 grow_policy='depthwise', importance_type=None,\n",
            "                                 interaction_constraints='', max_bin=256,\n",
            "                                 max_cat_to_onehot=4, max_delta_step=0,\n",
            "                                 max_depth=18, max_leaves=0, min_child_weight=1,\n",
            "                                 missing=nan, monotone_constraints='()',\n",
            "                                 n_estimators=268, n_jobs=-1,\n",
            "                                 num_parallel_tree=268,\n",
            "                                 objective='binary:logistic', predictor='auto',\n",
            "                                 random_state=99, reg_alpha=1, ...))])\n"
          ]
        }
      ]
    }
  ]
}