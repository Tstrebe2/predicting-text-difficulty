{
  "nbformat": 4,
  "nbformat_minor": 0,
  "metadata": {
    "colab": {
      "provenance": [],
      "authorship_tag": "ABX9TyOnKHNo40sZ63bS9WQxz47C",
      "include_colab_link": true
    },
    "kernelspec": {
      "name": "python3",
      "display_name": "Python 3"
    },
    "language_info": {
      "name": "python"
    }
  },
  "cells": [
    {
      "cell_type": "markdown",
      "metadata": {
        "id": "view-in-github",
        "colab_type": "text"
      },
      "source": [
        "<a href=\"https://colab.research.google.com/github/Tstrebe2/predicting-text-difficulty/blob/tim-updates/notebooks/feature-ablation.ipynb\" target=\"_parent\"><img src=\"https://colab.research.google.com/assets/colab-badge.svg\" alt=\"Open In Colab\"/></a>"
      ]
    },
    {
      "cell_type": "code",
      "execution_count": 1,
      "metadata": {
        "id": "8nd8svY_FBPe"
      },
      "outputs": [],
      "source": [
        "from google.colab import drive\n",
        "\n",
        "import pandas as pd\n",
        "import numpy as np\n",
        "\n",
        "from sklearn.svm import LinearSVC\n",
        "from sklearn import metrics\n",
        "from sklearn.preprocessing import StandardScaler, KBinsDiscretizer\n",
        "from sklearn.impute import SimpleImputer\n",
        "from sklearn.compose import ColumnTransformer\n",
        "from sklearn.pipeline import Pipeline\n",
        "from sklearn.model_selection import GridSearchCV, train_test_split, StratifiedKFold, ParameterGrid, cross_validate\n",
        "from sklearn.feature_extraction.text import TfidfVectorizer\n",
        "\n",
        "import matplotlib as mpl\n",
        "import matplotlib.pyplot as plt\n",
        "import seaborn as sns\n",
        "%matplotlib inline"
      ]
    },
    {
      "cell_type": "code",
      "source": [
        "drive.mount('/content/drive')"
      ],
      "metadata": {
        "colab": {
          "base_uri": "https://localhost:8080/"
        },
        "id": "qmSoFul7FhAn",
        "outputId": "0494bc69-0c9a-4332-8e39-0bfa0bf96650"
      },
      "execution_count": 2,
      "outputs": [
        {
          "output_type": "stream",
          "name": "stdout",
          "text": [
            "Mounted at /content/drive\n"
          ]
        }
      ]
    },
    {
      "cell_type": "code",
      "source": [
        "repo_path = '/content/drive/MyDrive/milestone-ii/'\n",
        "train_path = ''.join([repo_path, 'Training_set.csv'])\n",
        "test_path = ''.join([repo_path, 'Testing_set.csv'])\n",
        "\n",
        "df_train = pd.read_csv(train_path, sep='\\t', index_col='ix')\n",
        "df_train['lemmatized_text'] = df_train['lemmatized_text'].fillna('')\n",
        "df_test = pd.read_csv(test_path, sep='\\t', index_col='ix')\n",
        "df_test['lemmatized_text'] = df_test['lemmatized_text'].fillna('')\n",
        "\n",
        "df = pd.concat([df_train, df_test])\n",
        "print(df.shape)\n",
        "df.head(2)"
      ],
      "metadata": {
        "colab": {
          "base_uri": "https://localhost:8080/",
          "height": 329
        },
        "id": "IMWAn_vaOQ1n",
        "outputId": "2bdb5bdb-174c-4ee5-938c-ed60612e2fb6"
      },
      "execution_count": 8,
      "outputs": [
        {
          "output_type": "stream",
          "name": "stdout",
          "text": [
            "(416768, 11)\n"
          ]
        },
        {
          "output_type": "execute_result",
          "data": {
            "text/plain": [
              "                                        original_text  \\\n",
              "ix                                                      \n",
              "0   There is manuscript evidence that Austen conti...   \n",
              "1   In a remarkable comparative analysis , Mandaea...   \n",
              "\n",
              "                                      lemmatized_text  d_chall_score  \\\n",
              "ix                                                                     \n",
              "0   there be manuscript evidence that austen conti...       8.236551   \n",
              "1   in a remarkable comparative analysis mandaean ...      12.320171   \n",
              "\n",
              "    aoa_mean  aoa_min  aoa_max  conc_rating_mean  conc_rating_min  \\\n",
              "ix                                                                  \n",
              "0   5.809310     3.57    12.12          2.495517             1.33   \n",
              "1   7.499286     2.89    11.94          2.251429             1.46   \n",
              "\n",
              "    conc_rating_max  num_lemmas  label  \n",
              "ix                                      \n",
              "0              4.57        37.0      1  \n",
              "1              3.77        21.0      1  "
            ],
            "text/html": [
              "\n",
              "  <div id=\"df-7370a444-6c49-4c86-a769-dd7afa824724\">\n",
              "    <div class=\"colab-df-container\">\n",
              "      <div>\n",
              "<style scoped>\n",
              "    .dataframe tbody tr th:only-of-type {\n",
              "        vertical-align: middle;\n",
              "    }\n",
              "\n",
              "    .dataframe tbody tr th {\n",
              "        vertical-align: top;\n",
              "    }\n",
              "\n",
              "    .dataframe thead th {\n",
              "        text-align: right;\n",
              "    }\n",
              "</style>\n",
              "<table border=\"1\" class=\"dataframe\">\n",
              "  <thead>\n",
              "    <tr style=\"text-align: right;\">\n",
              "      <th></th>\n",
              "      <th>original_text</th>\n",
              "      <th>lemmatized_text</th>\n",
              "      <th>d_chall_score</th>\n",
              "      <th>aoa_mean</th>\n",
              "      <th>aoa_min</th>\n",
              "      <th>aoa_max</th>\n",
              "      <th>conc_rating_mean</th>\n",
              "      <th>conc_rating_min</th>\n",
              "      <th>conc_rating_max</th>\n",
              "      <th>num_lemmas</th>\n",
              "      <th>label</th>\n",
              "    </tr>\n",
              "    <tr>\n",
              "      <th>ix</th>\n",
              "      <th></th>\n",
              "      <th></th>\n",
              "      <th></th>\n",
              "      <th></th>\n",
              "      <th></th>\n",
              "      <th></th>\n",
              "      <th></th>\n",
              "      <th></th>\n",
              "      <th></th>\n",
              "      <th></th>\n",
              "      <th></th>\n",
              "    </tr>\n",
              "  </thead>\n",
              "  <tbody>\n",
              "    <tr>\n",
              "      <th>0</th>\n",
              "      <td>There is manuscript evidence that Austen conti...</td>\n",
              "      <td>there be manuscript evidence that austen conti...</td>\n",
              "      <td>8.236551</td>\n",
              "      <td>5.809310</td>\n",
              "      <td>3.57</td>\n",
              "      <td>12.12</td>\n",
              "      <td>2.495517</td>\n",
              "      <td>1.33</td>\n",
              "      <td>4.57</td>\n",
              "      <td>37.0</td>\n",
              "      <td>1</td>\n",
              "    </tr>\n",
              "    <tr>\n",
              "      <th>1</th>\n",
              "      <td>In a remarkable comparative analysis , Mandaea...</td>\n",
              "      <td>in a remarkable comparative analysis mandaean ...</td>\n",
              "      <td>12.320171</td>\n",
              "      <td>7.499286</td>\n",
              "      <td>2.89</td>\n",
              "      <td>11.94</td>\n",
              "      <td>2.251429</td>\n",
              "      <td>1.46</td>\n",
              "      <td>3.77</td>\n",
              "      <td>21.0</td>\n",
              "      <td>1</td>\n",
              "    </tr>\n",
              "  </tbody>\n",
              "</table>\n",
              "</div>\n",
              "      <button class=\"colab-df-convert\" onclick=\"convertToInteractive('df-7370a444-6c49-4c86-a769-dd7afa824724')\"\n",
              "              title=\"Convert this dataframe to an interactive table.\"\n",
              "              style=\"display:none;\">\n",
              "        \n",
              "  <svg xmlns=\"http://www.w3.org/2000/svg\" height=\"24px\"viewBox=\"0 0 24 24\"\n",
              "       width=\"24px\">\n",
              "    <path d=\"M0 0h24v24H0V0z\" fill=\"none\"/>\n",
              "    <path d=\"M18.56 5.44l.94 2.06.94-2.06 2.06-.94-2.06-.94-.94-2.06-.94 2.06-2.06.94zm-11 1L8.5 8.5l.94-2.06 2.06-.94-2.06-.94L8.5 2.5l-.94 2.06-2.06.94zm10 10l.94 2.06.94-2.06 2.06-.94-2.06-.94-.94-2.06-.94 2.06-2.06.94z\"/><path d=\"M17.41 7.96l-1.37-1.37c-.4-.4-.92-.59-1.43-.59-.52 0-1.04.2-1.43.59L10.3 9.45l-7.72 7.72c-.78.78-.78 2.05 0 2.83L4 21.41c.39.39.9.59 1.41.59.51 0 1.02-.2 1.41-.59l7.78-7.78 2.81-2.81c.8-.78.8-2.07 0-2.86zM5.41 20L4 18.59l7.72-7.72 1.47 1.35L5.41 20z\"/>\n",
              "  </svg>\n",
              "      </button>\n",
              "      \n",
              "  <style>\n",
              "    .colab-df-container {\n",
              "      display:flex;\n",
              "      flex-wrap:wrap;\n",
              "      gap: 12px;\n",
              "    }\n",
              "\n",
              "    .colab-df-convert {\n",
              "      background-color: #E8F0FE;\n",
              "      border: none;\n",
              "      border-radius: 50%;\n",
              "      cursor: pointer;\n",
              "      display: none;\n",
              "      fill: #1967D2;\n",
              "      height: 32px;\n",
              "      padding: 0 0 0 0;\n",
              "      width: 32px;\n",
              "    }\n",
              "\n",
              "    .colab-df-convert:hover {\n",
              "      background-color: #E2EBFA;\n",
              "      box-shadow: 0px 1px 2px rgba(60, 64, 67, 0.3), 0px 1px 3px 1px rgba(60, 64, 67, 0.15);\n",
              "      fill: #174EA6;\n",
              "    }\n",
              "\n",
              "    [theme=dark] .colab-df-convert {\n",
              "      background-color: #3B4455;\n",
              "      fill: #D2E3FC;\n",
              "    }\n",
              "\n",
              "    [theme=dark] .colab-df-convert:hover {\n",
              "      background-color: #434B5C;\n",
              "      box-shadow: 0px 1px 3px 1px rgba(0, 0, 0, 0.15);\n",
              "      filter: drop-shadow(0px 1px 2px rgba(0, 0, 0, 0.3));\n",
              "      fill: #FFFFFF;\n",
              "    }\n",
              "  </style>\n",
              "\n",
              "      <script>\n",
              "        const buttonEl =\n",
              "          document.querySelector('#df-7370a444-6c49-4c86-a769-dd7afa824724 button.colab-df-convert');\n",
              "        buttonEl.style.display =\n",
              "          google.colab.kernel.accessAllowed ? 'block' : 'none';\n",
              "\n",
              "        async function convertToInteractive(key) {\n",
              "          const element = document.querySelector('#df-7370a444-6c49-4c86-a769-dd7afa824724');\n",
              "          const dataTable =\n",
              "            await google.colab.kernel.invokeFunction('convertToInteractive',\n",
              "                                                     [key], {});\n",
              "          if (!dataTable) return;\n",
              "\n",
              "          const docLinkHtml = 'Like what you see? Visit the ' +\n",
              "            '<a target=\"_blank\" href=https://colab.research.google.com/notebooks/data_table.ipynb>data table notebook</a>'\n",
              "            + ' to learn more about interactive tables.';\n",
              "          element.innerHTML = '';\n",
              "          dataTable['output_type'] = 'display_data';\n",
              "          await google.colab.output.renderOutput(dataTable, element);\n",
              "          const docLink = document.createElement('div');\n",
              "          docLink.innerHTML = docLinkHtml;\n",
              "          element.appendChild(docLink);\n",
              "        }\n",
              "      </script>\n",
              "    </div>\n",
              "  </div>\n",
              "  "
            ]
          },
          "metadata": {},
          "execution_count": 8
        }
      ]
    },
    {
      "cell_type": "code",
      "source": [
        "readability_features = ['d_chall_score',\t'aoa_mean',\t'aoa_min',\t'aoa_max',\t\n",
        "                        'conc_rating_mean',\t'conc_rating_min',\t'conc_rating_max']\n",
        "\n",
        "text_features = 'lemmatized_text'\n",
        "\n",
        "def build_clf(tfidf_kwargs={}, clf_kwargs={}, include_num_features=True):\n",
        "  num_pipe = Pipeline([\n",
        "      ('impute', SimpleImputer(strategy='mean')),\n",
        "      ('scale', StandardScaler()),\n",
        "      ('binner', KBinsDiscretizer(n_bins=4)),\n",
        "  ])\n",
        "\n",
        "  text_pipe = Pipeline([\n",
        "      ('tfidf', TfidfVectorizer(**tfidf_kwargs)),\n",
        "  ])\n",
        "\n",
        "  if include_num_features:\n",
        "    preprocessor = [('num', num_pipe, readability_features), \n",
        "                    ('text', text_pipe, text_features),]\n",
        "  else:\n",
        "    preprocessor = [('text', text_pipe, text_features)]\n",
        "\n",
        "  preprocessor = ColumnTransformer(preprocessor)\n",
        "\n",
        "  clf = Pipeline([\n",
        "      ('preprocessor', preprocessor),\n",
        "      ('clf', LinearSVC(**clf_kwargs))\n",
        "  ])\n",
        "  return clf"
      ],
      "metadata": {
        "id": "9ZfdKCs2OQij"
      },
      "execution_count": 4,
      "outputs": []
    },
    {
      "cell_type": "code",
      "source": [
        "TfidfVectorizer(**dict(min_df=50, ngram_range=(1, 3))).fit_transform(df['lemmatized_text']).shape"
      ],
      "metadata": {
        "colab": {
          "base_uri": "https://localhost:8080/"
        },
        "id": "GgWpCEUMtkYg",
        "outputId": "4dd6ca03-614c-4b44-b389-b2f23e841a70"
      },
      "execution_count": 9,
      "outputs": [
        {
          "output_type": "execute_result",
          "data": {
            "text/plain": [
              "(416768, 29036)"
            ]
          },
          "metadata": {},
          "execution_count": 9
        }
      ]
    },
    {
      "cell_type": "code",
      "source": [
        "clf_kwargs=dict(dual=False, C=.5, penalty='l1', loss='squared_hinge', random_state=99)\n",
        "\n",
        "all_feature_clf = build_clf(tfidf_kwargs=dict(min_df=50, ngram_range=(1, 3)), \n",
        "                            clf_kwargs=clf_kwargs)\n",
        "\n",
        "text_clf = build_clf(tfidf_kwargs=dict(min_df=50, ngram_range=(1, 3)), \n",
        "                     clf_kwargs=clf_kwargs,\n",
        "                     include_num_features=False)\n",
        "\n",
        "text_5000_clf = build_clf(tfidf_kwargs=dict(min_df=50, ngram_range=(1, 3), max_features=5000), \n",
        "                     clf_kwargs=clf_kwargs,\n",
        "                     include_num_features=False)\n",
        "\n",
        "text_2500_clf = build_clf(tfidf_kwargs=dict(min_df=50, ngram_range=(1, 3), max_features=2500), \n",
        "                     clf_kwargs=clf_kwargs,\n",
        "                     include_num_features=False)\n",
        "\n",
        "text_1000_clf = build_clf(tfidf_kwargs=dict(min_df=50, ngram_range=(1, 3), max_features=1000), \n",
        "                     clf_kwargs=clf_kwargs,\n",
        "                     include_num_features=False)\n",
        "\n",
        "text_500_clf = build_clf(tfidf_kwargs=dict(min_df=50, ngram_range=(1, 3), max_features=500), \n",
        "                     clf_kwargs=clf_kwargs,\n",
        "                     include_num_features=False)\n",
        "\n",
        "text_100_clf = build_clf(tfidf_kwargs=dict(min_df=50, ngram_range=(1, 3), max_features=100), \n",
        "                     clf_kwargs=clf_kwargs,\n",
        "                     include_num_features=False)\n",
        "\n",
        "clf_list = [(all_feature_clf, 'All Features (Readability + 29,036 TFIDF Features)'), \n",
        "            (text_clf,      'Remove Readability Features'), \n",
        "            (text_5000_clf, 'Reduce to Top 5000 TFIDF Features'), \n",
        "            (text_2500_clf, 'Reduce to Top 2500 TFIDF Features'), \n",
        "            (text_1000_clf, 'Reduce to Top 1000 TFIDF Features'), \n",
        "            (text_500_clf,  'Reduce to Top 500 TFIDF Features'), \n",
        "            (text_100_clf,  'Reduce to Top 100 TFIDF Features'), ]"
      ],
      "metadata": {
        "id": "KgRzGVdlQwdT"
      },
      "execution_count": 22,
      "outputs": []
    },
    {
      "cell_type": "code",
      "source": [
        "def get_feature_ablation_results():\n",
        "  cv_result_dict = {}\n",
        "  cv = StratifiedKFold(n_splits=10)\n",
        "\n",
        "  for clf, step_title in clf_list:\n",
        "    cv_results = cross_validate(clf, df, df.label, n_jobs=-1, scoring=['roc_auc', 'accuracy', 'f1'], cv=cv)\n",
        "    cv_result_dict[step_title] = cv_results\n",
        "\n",
        "  return cv_result_dict\n",
        "\n",
        "cv_result_dict = get_feature_ablation_results()"
      ],
      "metadata": {
        "id": "QH8KHQWSsugW"
      },
      "execution_count": null,
      "outputs": []
    },
    {
      "cell_type": "code",
      "source": [
        "import pickle\n",
        "\n",
        "filename = 'feature-ablation-results'\n",
        "file_path = ''.join([repo_path, filename])\n",
        "\n",
        "with open(file_path, 'wb') as fh:\n",
        "  pickle.dump(cv_result_dict, fh)"
      ],
      "metadata": {
        "id": "LDipg_7mvA-s"
      },
      "execution_count": null,
      "outputs": []
    },
    {
      "cell_type": "code",
      "source": [
        "with open(file_path, 'rb') as fh:\n",
        "  print(pickle.load(fh, encoding='bytes').keys())"
      ],
      "metadata": {
        "id": "8SRy5gMnwFmU"
      },
      "execution_count": null,
      "outputs": []
    }
  ]
}
