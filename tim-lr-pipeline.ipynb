{
  "nbformat": 4,
  "nbformat_minor": 0,
  "metadata": {
    "colab": {
      "provenance": [],
      "authorship_tag": "ABX9TyOy5GrR5VkYpZ2VMkENufx7",
      "include_colab_link": true
    },
    "kernelspec": {
      "name": "python3",
      "display_name": "Python 3"
    },
    "language_info": {
      "name": "python"
    }
  },
  "cells": [
    {
      "cell_type": "markdown",
      "metadata": {
        "id": "view-in-github",
        "colab_type": "text"
      },
      "source": [
        "<a href=\"https://colab.research.google.com/github/Tstrebe2/predicting-text-difficulty/blob/tim-updates/tim-lr-pipeline.ipynb\" target=\"_parent\"><img src=\"https://colab.research.google.com/assets/colab-badge.svg\" alt=\"Open In Colab\"/></a>"
      ]
    },
    {
      "cell_type": "code",
      "source": [
        "from google.colab import drive\n",
        "\n",
        "import pandas as pd\n",
        "import numpy as np\n",
        "import joblib\n",
        "\n",
        "from sklearn.linear_model import LogisticRegression\n",
        "from sklearn.feature_extraction.text import TfidfVectorizer\n",
        "from sklearn.preprocessing import StandardScaler, KBinsDiscretizer\n",
        "from sklearn.pipeline import Pipeline\n",
        "from sklearn.impute import SimpleImputer\n",
        "from sklearn.compose import ColumnTransformer\n",
        "from sklearn import metrics\n",
        "from sklearn.model_selection import train_test_split, GridSearchCV, StratifiedKFold\n",
        "\n",
        "import matplotlib as mpl\n",
        "import matplotlib.pyplot as plt\n",
        "import seaborn as sns\n",
        "%matplotlib inline"
      ],
      "metadata": {
        "id": "CMWlKf3mdZFW"
      },
      "execution_count": 1,
      "outputs": []
    },
    {
      "cell_type": "code",
      "execution_count": 2,
      "metadata": {
        "colab": {
          "base_uri": "https://localhost:8080/"
        },
        "id": "wPEmCSnlE7be",
        "outputId": "4e1fe87f-94ac-4a8a-f7cc-e96d748e9766"
      },
      "outputs": [
        {
          "output_type": "stream",
          "name": "stdout",
          "text": [
            "Mounted at /content/drive\n"
          ]
        }
      ],
      "source": [
        "drive.mount('/content/drive')"
      ]
    },
    {
      "cell_type": "code",
      "source": [
        "repo_path = '/content/drive/MyDrive/milestone-ii/'\n",
        "train_path = ''.join([repo_path, 'Training_set.csv'])\n",
        "test_path = ''.join([repo_path, 'Testing_set.csv'])\n",
        "\n",
        "df_train = pd.read_csv(train_path, sep='\\t', index_col='ix')\n",
        "df_train['lemmatized_text'] = df_train['lemmatized_text'].fillna('')\n",
        "df_test = pd.read_csv(test_path, sep='\\t', index_col='ix')\n",
        "df_test['lemmatized_text'] = df_test['lemmatized_text'].fillna('')\n",
        "\n",
        "df_train.head(2)"
      ],
      "metadata": {
        "colab": {
          "base_uri": "https://localhost:8080/",
          "height": 312
        },
        "id": "cYOAl9hJHHvH",
        "outputId": "468f93dd-3db6-43b5-beb6-8a516e4acfb2"
      },
      "execution_count": 3,
      "outputs": [
        {
          "output_type": "execute_result",
          "data": {
            "text/plain": [
              "                                        original_text  \\\n",
              "ix                                                      \n",
              "0   There is manuscript evidence that Austen conti...   \n",
              "1   In a remarkable comparative analysis , Mandaea...   \n",
              "\n",
              "                                      lemmatized_text  d_chall_score  \\\n",
              "ix                                                                     \n",
              "0   there be manuscript evidence that austen conti...       8.236551   \n",
              "1   in a remarkable comparative analysis mandaean ...      12.320171   \n",
              "\n",
              "    aoa_mean  aoa_min  aoa_max  conc_rating_mean  conc_rating_min  \\\n",
              "ix                                                                  \n",
              "0   5.809310     3.57    12.12          2.495517             1.33   \n",
              "1   7.499286     2.89    11.94          2.251429             1.46   \n",
              "\n",
              "    conc_rating_max  num_lemmas  label  \n",
              "ix                                      \n",
              "0              4.57        37.0      1  \n",
              "1              3.77        21.0      1  "
            ],
            "text/html": [
              "\n",
              "  <div id=\"df-bc6a2b81-371e-4a6b-8d74-b12917a615ed\">\n",
              "    <div class=\"colab-df-container\">\n",
              "      <div>\n",
              "<style scoped>\n",
              "    .dataframe tbody tr th:only-of-type {\n",
              "        vertical-align: middle;\n",
              "    }\n",
              "\n",
              "    .dataframe tbody tr th {\n",
              "        vertical-align: top;\n",
              "    }\n",
              "\n",
              "    .dataframe thead th {\n",
              "        text-align: right;\n",
              "    }\n",
              "</style>\n",
              "<table border=\"1\" class=\"dataframe\">\n",
              "  <thead>\n",
              "    <tr style=\"text-align: right;\">\n",
              "      <th></th>\n",
              "      <th>original_text</th>\n",
              "      <th>lemmatized_text</th>\n",
              "      <th>d_chall_score</th>\n",
              "      <th>aoa_mean</th>\n",
              "      <th>aoa_min</th>\n",
              "      <th>aoa_max</th>\n",
              "      <th>conc_rating_mean</th>\n",
              "      <th>conc_rating_min</th>\n",
              "      <th>conc_rating_max</th>\n",
              "      <th>num_lemmas</th>\n",
              "      <th>label</th>\n",
              "    </tr>\n",
              "    <tr>\n",
              "      <th>ix</th>\n",
              "      <th></th>\n",
              "      <th></th>\n",
              "      <th></th>\n",
              "      <th></th>\n",
              "      <th></th>\n",
              "      <th></th>\n",
              "      <th></th>\n",
              "      <th></th>\n",
              "      <th></th>\n",
              "      <th></th>\n",
              "      <th></th>\n",
              "    </tr>\n",
              "  </thead>\n",
              "  <tbody>\n",
              "    <tr>\n",
              "      <th>0</th>\n",
              "      <td>There is manuscript evidence that Austen conti...</td>\n",
              "      <td>there be manuscript evidence that austen conti...</td>\n",
              "      <td>8.236551</td>\n",
              "      <td>5.809310</td>\n",
              "      <td>3.57</td>\n",
              "      <td>12.12</td>\n",
              "      <td>2.495517</td>\n",
              "      <td>1.33</td>\n",
              "      <td>4.57</td>\n",
              "      <td>37.0</td>\n",
              "      <td>1</td>\n",
              "    </tr>\n",
              "    <tr>\n",
              "      <th>1</th>\n",
              "      <td>In a remarkable comparative analysis , Mandaea...</td>\n",
              "      <td>in a remarkable comparative analysis mandaean ...</td>\n",
              "      <td>12.320171</td>\n",
              "      <td>7.499286</td>\n",
              "      <td>2.89</td>\n",
              "      <td>11.94</td>\n",
              "      <td>2.251429</td>\n",
              "      <td>1.46</td>\n",
              "      <td>3.77</td>\n",
              "      <td>21.0</td>\n",
              "      <td>1</td>\n",
              "    </tr>\n",
              "  </tbody>\n",
              "</table>\n",
              "</div>\n",
              "      <button class=\"colab-df-convert\" onclick=\"convertToInteractive('df-bc6a2b81-371e-4a6b-8d74-b12917a615ed')\"\n",
              "              title=\"Convert this dataframe to an interactive table.\"\n",
              "              style=\"display:none;\">\n",
              "        \n",
              "  <svg xmlns=\"http://www.w3.org/2000/svg\" height=\"24px\"viewBox=\"0 0 24 24\"\n",
              "       width=\"24px\">\n",
              "    <path d=\"M0 0h24v24H0V0z\" fill=\"none\"/>\n",
              "    <path d=\"M18.56 5.44l.94 2.06.94-2.06 2.06-.94-2.06-.94-.94-2.06-.94 2.06-2.06.94zm-11 1L8.5 8.5l.94-2.06 2.06-.94-2.06-.94L8.5 2.5l-.94 2.06-2.06.94zm10 10l.94 2.06.94-2.06 2.06-.94-2.06-.94-.94-2.06-.94 2.06-2.06.94z\"/><path d=\"M17.41 7.96l-1.37-1.37c-.4-.4-.92-.59-1.43-.59-.52 0-1.04.2-1.43.59L10.3 9.45l-7.72 7.72c-.78.78-.78 2.05 0 2.83L4 21.41c.39.39.9.59 1.41.59.51 0 1.02-.2 1.41-.59l7.78-7.78 2.81-2.81c.8-.78.8-2.07 0-2.86zM5.41 20L4 18.59l7.72-7.72 1.47 1.35L5.41 20z\"/>\n",
              "  </svg>\n",
              "      </button>\n",
              "      \n",
              "  <style>\n",
              "    .colab-df-container {\n",
              "      display:flex;\n",
              "      flex-wrap:wrap;\n",
              "      gap: 12px;\n",
              "    }\n",
              "\n",
              "    .colab-df-convert {\n",
              "      background-color: #E8F0FE;\n",
              "      border: none;\n",
              "      border-radius: 50%;\n",
              "      cursor: pointer;\n",
              "      display: none;\n",
              "      fill: #1967D2;\n",
              "      height: 32px;\n",
              "      padding: 0 0 0 0;\n",
              "      width: 32px;\n",
              "    }\n",
              "\n",
              "    .colab-df-convert:hover {\n",
              "      background-color: #E2EBFA;\n",
              "      box-shadow: 0px 1px 2px rgba(60, 64, 67, 0.3), 0px 1px 3px 1px rgba(60, 64, 67, 0.15);\n",
              "      fill: #174EA6;\n",
              "    }\n",
              "\n",
              "    [theme=dark] .colab-df-convert {\n",
              "      background-color: #3B4455;\n",
              "      fill: #D2E3FC;\n",
              "    }\n",
              "\n",
              "    [theme=dark] .colab-df-convert:hover {\n",
              "      background-color: #434B5C;\n",
              "      box-shadow: 0px 1px 3px 1px rgba(0, 0, 0, 0.15);\n",
              "      filter: drop-shadow(0px 1px 2px rgba(0, 0, 0, 0.3));\n",
              "      fill: #FFFFFF;\n",
              "    }\n",
              "  </style>\n",
              "\n",
              "      <script>\n",
              "        const buttonEl =\n",
              "          document.querySelector('#df-bc6a2b81-371e-4a6b-8d74-b12917a615ed button.colab-df-convert');\n",
              "        buttonEl.style.display =\n",
              "          google.colab.kernel.accessAllowed ? 'block' : 'none';\n",
              "\n",
              "        async function convertToInteractive(key) {\n",
              "          const element = document.querySelector('#df-bc6a2b81-371e-4a6b-8d74-b12917a615ed');\n",
              "          const dataTable =\n",
              "            await google.colab.kernel.invokeFunction('convertToInteractive',\n",
              "                                                     [key], {});\n",
              "          if (!dataTable) return;\n",
              "\n",
              "          const docLinkHtml = 'Like what you see? Visit the ' +\n",
              "            '<a target=\"_blank\" href=https://colab.research.google.com/notebooks/data_table.ipynb>data table notebook</a>'\n",
              "            + ' to learn more about interactive tables.';\n",
              "          element.innerHTML = '';\n",
              "          dataTable['output_type'] = 'display_data';\n",
              "          await google.colab.output.renderOutput(dataTable, element);\n",
              "          const docLink = document.createElement('div');\n",
              "          docLink.innerHTML = docLinkHtml;\n",
              "          element.appendChild(docLink);\n",
              "        }\n",
              "      </script>\n",
              "    </div>\n",
              "  </div>\n",
              "  "
            ]
          },
          "metadata": {},
          "execution_count": 3
        }
      ]
    },
    {
      "cell_type": "code",
      "source": [
        "df_test.head(2)"
      ],
      "metadata": {
        "colab": {
          "base_uri": "https://localhost:8080/",
          "height": 329
        },
        "id": "-tthAVSrVVDe",
        "outputId": "29482148-fd43-4c16-c7d9-fa4b484cd9c9"
      },
      "execution_count": null,
      "outputs": [
        {
          "output_type": "execute_result",
          "data": {
            "text/plain": [
              "                                            original_text  \\\n",
              "ix                                                          \n",
              "356588  She was born with the name Maria SkÅ odowska i...   \n",
              "304697  The highest wind gust reported in Guadeloupe w...   \n",
              "\n",
              "                                          lemmatized_text  d_chall_score  \\\n",
              "ix                                                                         \n",
              "356588  she be bear with the name maria sk odowska in ...       7.174366   \n",
              "304697  the high wind gust report in guadeloupe be 84 ...       6.333686   \n",
              "\n",
              "        aoa_mean  aoa_min  aoa_max  conc_rating_mean  conc_rating_min  \\\n",
              "ix                                                                      \n",
              "356588  4.007143     3.57     5.11              2.86             1.43   \n",
              "304697  5.620000     3.69     8.66              2.94             1.43   \n",
              "\n",
              "        conc_rating_max  num_lemmas  label  \n",
              "ix                                          \n",
              "356588             4.88        12.0      0  \n",
              "304697             3.93        14.0      0  "
            ],
            "text/html": [
              "\n",
              "  <div id=\"df-f37730e4-5004-4311-b788-59209b90aec8\">\n",
              "    <div class=\"colab-df-container\">\n",
              "      <div>\n",
              "<style scoped>\n",
              "    .dataframe tbody tr th:only-of-type {\n",
              "        vertical-align: middle;\n",
              "    }\n",
              "\n",
              "    .dataframe tbody tr th {\n",
              "        vertical-align: top;\n",
              "    }\n",
              "\n",
              "    .dataframe thead th {\n",
              "        text-align: right;\n",
              "    }\n",
              "</style>\n",
              "<table border=\"1\" class=\"dataframe\">\n",
              "  <thead>\n",
              "    <tr style=\"text-align: right;\">\n",
              "      <th></th>\n",
              "      <th>original_text</th>\n",
              "      <th>lemmatized_text</th>\n",
              "      <th>d_chall_score</th>\n",
              "      <th>aoa_mean</th>\n",
              "      <th>aoa_min</th>\n",
              "      <th>aoa_max</th>\n",
              "      <th>conc_rating_mean</th>\n",
              "      <th>conc_rating_min</th>\n",
              "      <th>conc_rating_max</th>\n",
              "      <th>num_lemmas</th>\n",
              "      <th>label</th>\n",
              "    </tr>\n",
              "    <tr>\n",
              "      <th>ix</th>\n",
              "      <th></th>\n",
              "      <th></th>\n",
              "      <th></th>\n",
              "      <th></th>\n",
              "      <th></th>\n",
              "      <th></th>\n",
              "      <th></th>\n",
              "      <th></th>\n",
              "      <th></th>\n",
              "      <th></th>\n",
              "      <th></th>\n",
              "    </tr>\n",
              "  </thead>\n",
              "  <tbody>\n",
              "    <tr>\n",
              "      <th>356588</th>\n",
              "      <td>She was born with the name Maria SkÅ odowska i...</td>\n",
              "      <td>she be bear with the name maria sk odowska in ...</td>\n",
              "      <td>7.174366</td>\n",
              "      <td>4.007143</td>\n",
              "      <td>3.57</td>\n",
              "      <td>5.11</td>\n",
              "      <td>2.86</td>\n",
              "      <td>1.43</td>\n",
              "      <td>4.88</td>\n",
              "      <td>12.0</td>\n",
              "      <td>0</td>\n",
              "    </tr>\n",
              "    <tr>\n",
              "      <th>304697</th>\n",
              "      <td>The highest wind gust reported in Guadeloupe w...</td>\n",
              "      <td>the high wind gust report in guadeloupe be 84 ...</td>\n",
              "      <td>6.333686</td>\n",
              "      <td>5.620000</td>\n",
              "      <td>3.69</td>\n",
              "      <td>8.66</td>\n",
              "      <td>2.94</td>\n",
              "      <td>1.43</td>\n",
              "      <td>3.93</td>\n",
              "      <td>14.0</td>\n",
              "      <td>0</td>\n",
              "    </tr>\n",
              "  </tbody>\n",
              "</table>\n",
              "</div>\n",
              "      <button class=\"colab-df-convert\" onclick=\"convertToInteractive('df-f37730e4-5004-4311-b788-59209b90aec8')\"\n",
              "              title=\"Convert this dataframe to an interactive table.\"\n",
              "              style=\"display:none;\">\n",
              "        \n",
              "  <svg xmlns=\"http://www.w3.org/2000/svg\" height=\"24px\"viewBox=\"0 0 24 24\"\n",
              "       width=\"24px\">\n",
              "    <path d=\"M0 0h24v24H0V0z\" fill=\"none\"/>\n",
              "    <path d=\"M18.56 5.44l.94 2.06.94-2.06 2.06-.94-2.06-.94-.94-2.06-.94 2.06-2.06.94zm-11 1L8.5 8.5l.94-2.06 2.06-.94-2.06-.94L8.5 2.5l-.94 2.06-2.06.94zm10 10l.94 2.06.94-2.06 2.06-.94-2.06-.94-.94-2.06-.94 2.06-2.06.94z\"/><path d=\"M17.41 7.96l-1.37-1.37c-.4-.4-.92-.59-1.43-.59-.52 0-1.04.2-1.43.59L10.3 9.45l-7.72 7.72c-.78.78-.78 2.05 0 2.83L4 21.41c.39.39.9.59 1.41.59.51 0 1.02-.2 1.41-.59l7.78-7.78 2.81-2.81c.8-.78.8-2.07 0-2.86zM5.41 20L4 18.59l7.72-7.72 1.47 1.35L5.41 20z\"/>\n",
              "  </svg>\n",
              "      </button>\n",
              "      \n",
              "  <style>\n",
              "    .colab-df-container {\n",
              "      display:flex;\n",
              "      flex-wrap:wrap;\n",
              "      gap: 12px;\n",
              "    }\n",
              "\n",
              "    .colab-df-convert {\n",
              "      background-color: #E8F0FE;\n",
              "      border: none;\n",
              "      border-radius: 50%;\n",
              "      cursor: pointer;\n",
              "      display: none;\n",
              "      fill: #1967D2;\n",
              "      height: 32px;\n",
              "      padding: 0 0 0 0;\n",
              "      width: 32px;\n",
              "    }\n",
              "\n",
              "    .colab-df-convert:hover {\n",
              "      background-color: #E2EBFA;\n",
              "      box-shadow: 0px 1px 2px rgba(60, 64, 67, 0.3), 0px 1px 3px 1px rgba(60, 64, 67, 0.15);\n",
              "      fill: #174EA6;\n",
              "    }\n",
              "\n",
              "    [theme=dark] .colab-df-convert {\n",
              "      background-color: #3B4455;\n",
              "      fill: #D2E3FC;\n",
              "    }\n",
              "\n",
              "    [theme=dark] .colab-df-convert:hover {\n",
              "      background-color: #434B5C;\n",
              "      box-shadow: 0px 1px 3px 1px rgba(0, 0, 0, 0.15);\n",
              "      filter: drop-shadow(0px 1px 2px rgba(0, 0, 0, 0.3));\n",
              "      fill: #FFFFFF;\n",
              "    }\n",
              "  </style>\n",
              "\n",
              "      <script>\n",
              "        const buttonEl =\n",
              "          document.querySelector('#df-f37730e4-5004-4311-b788-59209b90aec8 button.colab-df-convert');\n",
              "        buttonEl.style.display =\n",
              "          google.colab.kernel.accessAllowed ? 'block' : 'none';\n",
              "\n",
              "        async function convertToInteractive(key) {\n",
              "          const element = document.querySelector('#df-f37730e4-5004-4311-b788-59209b90aec8');\n",
              "          const dataTable =\n",
              "            await google.colab.kernel.invokeFunction('convertToInteractive',\n",
              "                                                     [key], {});\n",
              "          if (!dataTable) return;\n",
              "\n",
              "          const docLinkHtml = 'Like what you see? Visit the ' +\n",
              "            '<a target=\"_blank\" href=https://colab.research.google.com/notebooks/data_table.ipynb>data table notebook</a>'\n",
              "            + ' to learn more about interactive tables.';\n",
              "          element.innerHTML = '';\n",
              "          dataTable['output_type'] = 'display_data';\n",
              "          await google.colab.output.renderOutput(dataTable, element);\n",
              "          const docLink = document.createElement('div');\n",
              "          docLink.innerHTML = docLinkHtml;\n",
              "          element.appendChild(docLink);\n",
              "        }\n",
              "      </script>\n",
              "    </div>\n",
              "  </div>\n",
              "  "
            ]
          },
          "metadata": {},
          "execution_count": 41
        }
      ]
    },
    {
      "cell_type": "code",
      "source": [
        "df_train = df_train[df_train.num_lemmas > 1]\n",
        "df_train.label.value_counts()"
      ],
      "metadata": {
        "colab": {
          "base_uri": "https://localhost:8080/"
        },
        "id": "sAK5LLYksIee",
        "outputId": "d3e1be86-4329-41c2-ebe1-95f3b979a82f"
      },
      "execution_count": 4,
      "outputs": [
        {
          "output_type": "execute_result",
          "data": {
            "text/plain": [
              "1    186406\n",
              "0    179003\n",
              "Name: label, dtype: int64"
            ]
          },
          "metadata": {},
          "execution_count": 4
        }
      ]
    },
    {
      "cell_type": "code",
      "source": [
        "num_features = ['d_chall_score', 'aoa_max', 'num_lemmas']\n",
        "\n",
        "text_features = 'lemmatized_text'\n",
        "\n",
        "def build_clf(tfidf_args={}, clf_kwargs={}):\n",
        "  num_pipe = Pipeline([\n",
        "      ('impute', SimpleImputer(strategy='mean')),\n",
        "      ('scaler', StandardScaler()),\n",
        "      # I'm going to try binning to speed convergence while using\n",
        "      # heterogeneous features (dense numeric values and sparse tfidf vectors)\n",
        "      ('binner', KBinsDiscretizer(n_bins=4)),\n",
        "  ])\n",
        "\n",
        "  text_pipe = Pipeline([\n",
        "      ('tfidf', TfidfVectorizer(**tfidf_args)),\n",
        "  ])\n",
        "\n",
        "  preprocessor = ColumnTransformer([\n",
        "      ('num', num_pipe, num_features),\n",
        "      ('text', text_pipe, text_features),\n",
        "  ])\n",
        "\n",
        "  clf = Pipeline([\n",
        "      ('preprocessor', preprocessor),\n",
        "      ('clf', LogisticRegression(**clf_kwargs))\n",
        "  ])\n",
        "\n",
        "  return clf\n",
        "  \n",
        "clf = build_clf()"
      ],
      "metadata": {
        "id": "CPQ1fYsbISrt"
      },
      "execution_count": 7,
      "outputs": []
    },
    {
      "cell_type": "markdown",
      "source": [
        "Lets use a sample for hyper-parameter tuning so that we're not here all day."
      ],
      "metadata": {
        "id": "oqGrgo_uDEyI"
      }
    },
    {
      "cell_type": "code",
      "source": [
        "sample_df = df_train.groupby('label').apply(lambda grp: grp.sample(20000, random_state=99))"
      ],
      "metadata": {
        "id": "V3gr0YZtKtJC"
      },
      "execution_count": 8,
      "outputs": []
    },
    {
      "cell_type": "markdown",
      "source": [
        "Lets do a grid search to find optimal hyper-parameters"
      ],
      "metadata": {
        "id": "z8Ovfnz7dPHB"
      }
    },
    {
      "cell_type": "code",
      "source": [
        "# When using a pipeline in grid search, you can prepend the parameter\n",
        "# you want to tune with the pipeline component name (clf) and two underscores (__).\n",
        "tfidf_prefix = 'preprocessor__text__tfidf__'\n",
        "clf_prefix = 'clf__'\n",
        "\n",
        "param_grid = {\n",
        "              tfidf_prefix + 'min_df':[50],\n",
        "              tfidf_prefix + 'ngram_range':[(1, 3)],\n",
        "              tfidf_prefix + 'stop_words':[None],\n",
        "              tfidf_prefix + 'max_features':[2500],\n",
        "              clf_prefix + 'C':[.6, .8], \n",
        "              clf_prefix + 'penalty':['l1'],\n",
        "              clf_prefix + 'solver':['saga'],\n",
        "              clf_prefix + 'random_state':[99],\n",
        "              clf_prefix + 'n_jobs':[-1],}\n",
        "\n",
        "grid = (GridSearchCV(clf, \n",
        "                    param_grid=param_grid,\n",
        "                    scoring='accuracy', \n",
        "                    cv=StratifiedKFold(n_splits=10),\n",
        "                    refit=False,\n",
        "                    verbose=1,\n",
        "                    return_train_score=True,\n",
        "                    # n_jobs=-1 interfers with the verbosity (output) of the\n",
        "                    # grid search. We'll have to look at the results after the\n",
        "                    # fact.\n",
        "                    error_score='raise',\n",
        "                    n_jobs=-1)\n",
        "        .fit(sample_df, sample_df['label']))"
      ],
      "metadata": {
        "id": "-ciNBuA_WHry",
        "outputId": "e0389f19-0404-4a63-c652-988d832aa8df",
        "colab": {
          "base_uri": "https://localhost:8080/"
        }
      },
      "execution_count": 26,
      "outputs": [
        {
          "output_type": "stream",
          "name": "stdout",
          "text": [
            "Fitting 10 folds for each of 2 candidates, totalling 20 fits\n"
          ]
        }
      ]
    },
    {
      "cell_type": "code",
      "source": [
        "print(grid.best_params_)\n",
        "\n",
        "pd.DataFrame(grid.cv_results_).sort_values('rank_test_score').T"
      ],
      "metadata": {
        "id": "8M1XbXpnnzQN",
        "outputId": "728f8213-0140-47b8-b852-1f0aed1a75a4",
        "colab": {
          "base_uri": "https://localhost:8080/",
          "height": 1000
        }
      },
      "execution_count": 27,
      "outputs": [
        {
          "output_type": "stream",
          "name": "stdout",
          "text": [
            "{'clf__C': 0.6, 'clf__n_jobs': -1, 'clf__penalty': 'l1', 'clf__random_state': 99, 'clf__solver': 'saga', 'preprocessor__text__tfidf__max_features': 2500, 'preprocessor__text__tfidf__min_df': 50, 'preprocessor__text__tfidf__ngram_range': (1, 3), 'preprocessor__text__tfidf__stop_words': None}\n"
          ]
        },
        {
          "output_type": "execute_result",
          "data": {
            "text/plain": [
              "                                                                                               0  \\\n",
              "mean_fit_time                                                                          22.197883   \n",
              "std_fit_time                                                                             0.68511   \n",
              "mean_score_time                                                                         0.319668   \n",
              "std_score_time                                                                          0.021824   \n",
              "param_clf__C                                                                                 0.6   \n",
              "param_clf__n_jobs                                                                             -1   \n",
              "param_clf__penalty                                                                            l1   \n",
              "param_clf__random_state                                                                       99   \n",
              "param_clf__solver                                                                           saga   \n",
              "param_preprocessor__text__tfidf__max_features                                               2500   \n",
              "param_preprocessor__text__tfidf__min_df                                                       50   \n",
              "param_preprocessor__text__tfidf__ngram_range                                              (1, 3)   \n",
              "param_preprocessor__text__tfidf__stop_words                                                 None   \n",
              "params                                         {'clf__C': 0.6, 'clf__n_jobs': -1, 'clf__penal...   \n",
              "split0_test_score                                                                        0.68375   \n",
              "split1_test_score                                                                          0.682   \n",
              "split2_test_score                                                                         0.6815   \n",
              "split3_test_score                                                                        0.68475   \n",
              "split4_test_score                                                                        0.67675   \n",
              "split5_test_score                                                                        0.68825   \n",
              "split6_test_score                                                                          0.675   \n",
              "split7_test_score                                                                          0.682   \n",
              "split8_test_score                                                                         0.6845   \n",
              "split9_test_score                                                                          0.688   \n",
              "mean_test_score                                                                          0.68265   \n",
              "std_test_score                                                                          0.004056   \n",
              "rank_test_score                                                                                1   \n",
              "split0_train_score                                                                       0.70175   \n",
              "split1_train_score                                                                      0.703361   \n",
              "split2_train_score                                                                       0.70275   \n",
              "split3_train_score                                                                         0.702   \n",
              "split4_train_score                                                                      0.704167   \n",
              "split5_train_score                                                                      0.701944   \n",
              "split6_train_score                                                                      0.703139   \n",
              "split7_train_score                                                                      0.704667   \n",
              "split8_train_score                                                                       0.70325   \n",
              "split9_train_score                                                                      0.701944   \n",
              "mean_train_score                                                                        0.702897   \n",
              "std_train_score                                                                         0.000954   \n",
              "\n",
              "                                                                                               1  \n",
              "mean_fit_time                                                                          24.510737  \n",
              "std_fit_time                                                                            0.532552  \n",
              "mean_score_time                                                                         0.309879  \n",
              "std_score_time                                                                          0.028807  \n",
              "param_clf__C                                                                                 0.8  \n",
              "param_clf__n_jobs                                                                             -1  \n",
              "param_clf__penalty                                                                            l1  \n",
              "param_clf__random_state                                                                       99  \n",
              "param_clf__solver                                                                           saga  \n",
              "param_preprocessor__text__tfidf__max_features                                               2500  \n",
              "param_preprocessor__text__tfidf__min_df                                                       50  \n",
              "param_preprocessor__text__tfidf__ngram_range                                              (1, 3)  \n",
              "param_preprocessor__text__tfidf__stop_words                                                 None  \n",
              "params                                         {'clf__C': 0.8, 'clf__n_jobs': -1, 'clf__penal...  \n",
              "split0_test_score                                                                          0.683  \n",
              "split1_test_score                                                                         0.6855  \n",
              "split2_test_score                                                                           0.68  \n",
              "split3_test_score                                                                         0.6835  \n",
              "split4_test_score                                                                        0.67825  \n",
              "split5_test_score                                                                          0.684  \n",
              "split6_test_score                                                                          0.672  \n",
              "split7_test_score                                                                        0.68425  \n",
              "split8_test_score                                                                         0.6855  \n",
              "split9_test_score                                                                        0.68425  \n",
              "mean_test_score                                                                         0.682025  \n",
              "std_test_score                                                                          0.003999  \n",
              "rank_test_score                                                                                2  \n",
              "split0_train_score                                                                      0.708417  \n",
              "split1_train_score                                                                      0.709056  \n",
              "split2_train_score                                                                      0.709528  \n",
              "split3_train_score                                                                      0.709056  \n",
              "split4_train_score                                                                      0.710167  \n",
              "split5_train_score                                                                      0.707444  \n",
              "split6_train_score                                                                      0.709361  \n",
              "split7_train_score                                                                      0.709389  \n",
              "split8_train_score                                                                      0.708278  \n",
              "split9_train_score                                                                       0.70775  \n",
              "mean_train_score                                                                        0.708844  \n",
              "std_train_score                                                                         0.000808  "
            ],
            "text/html": [
              "\n",
              "  <div id=\"df-2e96afee-91d7-4b7e-b94d-bd6e707052d1\">\n",
              "    <div class=\"colab-df-container\">\n",
              "      <div>\n",
              "<style scoped>\n",
              "    .dataframe tbody tr th:only-of-type {\n",
              "        vertical-align: middle;\n",
              "    }\n",
              "\n",
              "    .dataframe tbody tr th {\n",
              "        vertical-align: top;\n",
              "    }\n",
              "\n",
              "    .dataframe thead th {\n",
              "        text-align: right;\n",
              "    }\n",
              "</style>\n",
              "<table border=\"1\" class=\"dataframe\">\n",
              "  <thead>\n",
              "    <tr style=\"text-align: right;\">\n",
              "      <th></th>\n",
              "      <th>0</th>\n",
              "      <th>1</th>\n",
              "    </tr>\n",
              "  </thead>\n",
              "  <tbody>\n",
              "    <tr>\n",
              "      <th>mean_fit_time</th>\n",
              "      <td>22.197883</td>\n",
              "      <td>24.510737</td>\n",
              "    </tr>\n",
              "    <tr>\n",
              "      <th>std_fit_time</th>\n",
              "      <td>0.68511</td>\n",
              "      <td>0.532552</td>\n",
              "    </tr>\n",
              "    <tr>\n",
              "      <th>mean_score_time</th>\n",
              "      <td>0.319668</td>\n",
              "      <td>0.309879</td>\n",
              "    </tr>\n",
              "    <tr>\n",
              "      <th>std_score_time</th>\n",
              "      <td>0.021824</td>\n",
              "      <td>0.028807</td>\n",
              "    </tr>\n",
              "    <tr>\n",
              "      <th>param_clf__C</th>\n",
              "      <td>0.6</td>\n",
              "      <td>0.8</td>\n",
              "    </tr>\n",
              "    <tr>\n",
              "      <th>param_clf__n_jobs</th>\n",
              "      <td>-1</td>\n",
              "      <td>-1</td>\n",
              "    </tr>\n",
              "    <tr>\n",
              "      <th>param_clf__penalty</th>\n",
              "      <td>l1</td>\n",
              "      <td>l1</td>\n",
              "    </tr>\n",
              "    <tr>\n",
              "      <th>param_clf__random_state</th>\n",
              "      <td>99</td>\n",
              "      <td>99</td>\n",
              "    </tr>\n",
              "    <tr>\n",
              "      <th>param_clf__solver</th>\n",
              "      <td>saga</td>\n",
              "      <td>saga</td>\n",
              "    </tr>\n",
              "    <tr>\n",
              "      <th>param_preprocessor__text__tfidf__max_features</th>\n",
              "      <td>2500</td>\n",
              "      <td>2500</td>\n",
              "    </tr>\n",
              "    <tr>\n",
              "      <th>param_preprocessor__text__tfidf__min_df</th>\n",
              "      <td>50</td>\n",
              "      <td>50</td>\n",
              "    </tr>\n",
              "    <tr>\n",
              "      <th>param_preprocessor__text__tfidf__ngram_range</th>\n",
              "      <td>(1, 3)</td>\n",
              "      <td>(1, 3)</td>\n",
              "    </tr>\n",
              "    <tr>\n",
              "      <th>param_preprocessor__text__tfidf__stop_words</th>\n",
              "      <td>None</td>\n",
              "      <td>None</td>\n",
              "    </tr>\n",
              "    <tr>\n",
              "      <th>params</th>\n",
              "      <td>{'clf__C': 0.6, 'clf__n_jobs': -1, 'clf__penal...</td>\n",
              "      <td>{'clf__C': 0.8, 'clf__n_jobs': -1, 'clf__penal...</td>\n",
              "    </tr>\n",
              "    <tr>\n",
              "      <th>split0_test_score</th>\n",
              "      <td>0.68375</td>\n",
              "      <td>0.683</td>\n",
              "    </tr>\n",
              "    <tr>\n",
              "      <th>split1_test_score</th>\n",
              "      <td>0.682</td>\n",
              "      <td>0.6855</td>\n",
              "    </tr>\n",
              "    <tr>\n",
              "      <th>split2_test_score</th>\n",
              "      <td>0.6815</td>\n",
              "      <td>0.68</td>\n",
              "    </tr>\n",
              "    <tr>\n",
              "      <th>split3_test_score</th>\n",
              "      <td>0.68475</td>\n",
              "      <td>0.6835</td>\n",
              "    </tr>\n",
              "    <tr>\n",
              "      <th>split4_test_score</th>\n",
              "      <td>0.67675</td>\n",
              "      <td>0.67825</td>\n",
              "    </tr>\n",
              "    <tr>\n",
              "      <th>split5_test_score</th>\n",
              "      <td>0.68825</td>\n",
              "      <td>0.684</td>\n",
              "    </tr>\n",
              "    <tr>\n",
              "      <th>split6_test_score</th>\n",
              "      <td>0.675</td>\n",
              "      <td>0.672</td>\n",
              "    </tr>\n",
              "    <tr>\n",
              "      <th>split7_test_score</th>\n",
              "      <td>0.682</td>\n",
              "      <td>0.68425</td>\n",
              "    </tr>\n",
              "    <tr>\n",
              "      <th>split8_test_score</th>\n",
              "      <td>0.6845</td>\n",
              "      <td>0.6855</td>\n",
              "    </tr>\n",
              "    <tr>\n",
              "      <th>split9_test_score</th>\n",
              "      <td>0.688</td>\n",
              "      <td>0.68425</td>\n",
              "    </tr>\n",
              "    <tr>\n",
              "      <th>mean_test_score</th>\n",
              "      <td>0.68265</td>\n",
              "      <td>0.682025</td>\n",
              "    </tr>\n",
              "    <tr>\n",
              "      <th>std_test_score</th>\n",
              "      <td>0.004056</td>\n",
              "      <td>0.003999</td>\n",
              "    </tr>\n",
              "    <tr>\n",
              "      <th>rank_test_score</th>\n",
              "      <td>1</td>\n",
              "      <td>2</td>\n",
              "    </tr>\n",
              "    <tr>\n",
              "      <th>split0_train_score</th>\n",
              "      <td>0.70175</td>\n",
              "      <td>0.708417</td>\n",
              "    </tr>\n",
              "    <tr>\n",
              "      <th>split1_train_score</th>\n",
              "      <td>0.703361</td>\n",
              "      <td>0.709056</td>\n",
              "    </tr>\n",
              "    <tr>\n",
              "      <th>split2_train_score</th>\n",
              "      <td>0.70275</td>\n",
              "      <td>0.709528</td>\n",
              "    </tr>\n",
              "    <tr>\n",
              "      <th>split3_train_score</th>\n",
              "      <td>0.702</td>\n",
              "      <td>0.709056</td>\n",
              "    </tr>\n",
              "    <tr>\n",
              "      <th>split4_train_score</th>\n",
              "      <td>0.704167</td>\n",
              "      <td>0.710167</td>\n",
              "    </tr>\n",
              "    <tr>\n",
              "      <th>split5_train_score</th>\n",
              "      <td>0.701944</td>\n",
              "      <td>0.707444</td>\n",
              "    </tr>\n",
              "    <tr>\n",
              "      <th>split6_train_score</th>\n",
              "      <td>0.703139</td>\n",
              "      <td>0.709361</td>\n",
              "    </tr>\n",
              "    <tr>\n",
              "      <th>split7_train_score</th>\n",
              "      <td>0.704667</td>\n",
              "      <td>0.709389</td>\n",
              "    </tr>\n",
              "    <tr>\n",
              "      <th>split8_train_score</th>\n",
              "      <td>0.70325</td>\n",
              "      <td>0.708278</td>\n",
              "    </tr>\n",
              "    <tr>\n",
              "      <th>split9_train_score</th>\n",
              "      <td>0.701944</td>\n",
              "      <td>0.70775</td>\n",
              "    </tr>\n",
              "    <tr>\n",
              "      <th>mean_train_score</th>\n",
              "      <td>0.702897</td>\n",
              "      <td>0.708844</td>\n",
              "    </tr>\n",
              "    <tr>\n",
              "      <th>std_train_score</th>\n",
              "      <td>0.000954</td>\n",
              "      <td>0.000808</td>\n",
              "    </tr>\n",
              "  </tbody>\n",
              "</table>\n",
              "</div>\n",
              "      <button class=\"colab-df-convert\" onclick=\"convertToInteractive('df-2e96afee-91d7-4b7e-b94d-bd6e707052d1')\"\n",
              "              title=\"Convert this dataframe to an interactive table.\"\n",
              "              style=\"display:none;\">\n",
              "        \n",
              "  <svg xmlns=\"http://www.w3.org/2000/svg\" height=\"24px\"viewBox=\"0 0 24 24\"\n",
              "       width=\"24px\">\n",
              "    <path d=\"M0 0h24v24H0V0z\" fill=\"none\"/>\n",
              "    <path d=\"M18.56 5.44l.94 2.06.94-2.06 2.06-.94-2.06-.94-.94-2.06-.94 2.06-2.06.94zm-11 1L8.5 8.5l.94-2.06 2.06-.94-2.06-.94L8.5 2.5l-.94 2.06-2.06.94zm10 10l.94 2.06.94-2.06 2.06-.94-2.06-.94-.94-2.06-.94 2.06-2.06.94z\"/><path d=\"M17.41 7.96l-1.37-1.37c-.4-.4-.92-.59-1.43-.59-.52 0-1.04.2-1.43.59L10.3 9.45l-7.72 7.72c-.78.78-.78 2.05 0 2.83L4 21.41c.39.39.9.59 1.41.59.51 0 1.02-.2 1.41-.59l7.78-7.78 2.81-2.81c.8-.78.8-2.07 0-2.86zM5.41 20L4 18.59l7.72-7.72 1.47 1.35L5.41 20z\"/>\n",
              "  </svg>\n",
              "      </button>\n",
              "      \n",
              "  <style>\n",
              "    .colab-df-container {\n",
              "      display:flex;\n",
              "      flex-wrap:wrap;\n",
              "      gap: 12px;\n",
              "    }\n",
              "\n",
              "    .colab-df-convert {\n",
              "      background-color: #E8F0FE;\n",
              "      border: none;\n",
              "      border-radius: 50%;\n",
              "      cursor: pointer;\n",
              "      display: none;\n",
              "      fill: #1967D2;\n",
              "      height: 32px;\n",
              "      padding: 0 0 0 0;\n",
              "      width: 32px;\n",
              "    }\n",
              "\n",
              "    .colab-df-convert:hover {\n",
              "      background-color: #E2EBFA;\n",
              "      box-shadow: 0px 1px 2px rgba(60, 64, 67, 0.3), 0px 1px 3px 1px rgba(60, 64, 67, 0.15);\n",
              "      fill: #174EA6;\n",
              "    }\n",
              "\n",
              "    [theme=dark] .colab-df-convert {\n",
              "      background-color: #3B4455;\n",
              "      fill: #D2E3FC;\n",
              "    }\n",
              "\n",
              "    [theme=dark] .colab-df-convert:hover {\n",
              "      background-color: #434B5C;\n",
              "      box-shadow: 0px 1px 3px 1px rgba(0, 0, 0, 0.15);\n",
              "      filter: drop-shadow(0px 1px 2px rgba(0, 0, 0, 0.3));\n",
              "      fill: #FFFFFF;\n",
              "    }\n",
              "  </style>\n",
              "\n",
              "      <script>\n",
              "        const buttonEl =\n",
              "          document.querySelector('#df-2e96afee-91d7-4b7e-b94d-bd6e707052d1 button.colab-df-convert');\n",
              "        buttonEl.style.display =\n",
              "          google.colab.kernel.accessAllowed ? 'block' : 'none';\n",
              "\n",
              "        async function convertToInteractive(key) {\n",
              "          const element = document.querySelector('#df-2e96afee-91d7-4b7e-b94d-bd6e707052d1');\n",
              "          const dataTable =\n",
              "            await google.colab.kernel.invokeFunction('convertToInteractive',\n",
              "                                                     [key], {});\n",
              "          if (!dataTable) return;\n",
              "\n",
              "          const docLinkHtml = 'Like what you see? Visit the ' +\n",
              "            '<a target=\"_blank\" href=https://colab.research.google.com/notebooks/data_table.ipynb>data table notebook</a>'\n",
              "            + ' to learn more about interactive tables.';\n",
              "          element.innerHTML = '';\n",
              "          dataTable['output_type'] = 'display_data';\n",
              "          await google.colab.output.renderOutput(dataTable, element);\n",
              "          const docLink = document.createElement('div');\n",
              "          docLink.innerHTML = docLinkHtml;\n",
              "          element.appendChild(docLink);\n",
              "        }\n",
              "      </script>\n",
              "    </div>\n",
              "  </div>\n",
              "  "
            ]
          },
          "metadata": {},
          "execution_count": 27
        }
      ]
    },
    {
      "cell_type": "markdown",
      "source": [
        "Build a new model using best params"
      ],
      "metadata": {
        "id": "Pr0FsRFVS6AR"
      }
    },
    {
      "cell_type": "code",
      "source": [
        "tfidf_best_params = {k[len(tfidf_prefix):]:v \n",
        "                     for (k, v) in grid.best_params_.items() \n",
        "                     if tfidf_prefix in k}\n",
        "\n",
        "clf_best_params = {k[len(clf_prefix):]:v \n",
        "                   for (k, v) in grid.best_params_.items() \n",
        "                   if clf_prefix in k}\n",
        "clf_best_params['max_iter'] = 1000\n",
        "\n",
        "clf = build_clf(tfidf_best_params, clf_best_params)"
      ],
      "metadata": {
        "id": "OUAPlR6ETCdr"
      },
      "execution_count": 28,
      "outputs": []
    },
    {
      "cell_type": "markdown",
      "source": [
        "Final test on our training data to see if our model is overfitting."
      ],
      "metadata": {
        "id": "Lu_m3ubHarMP"
      }
    },
    {
      "cell_type": "code",
      "source": [
        "X_train, X_val, y_train, y_val = train_test_split(df_train[num_features + [text_features]], \n",
        "                                                  df_train['label'],\n",
        "                                                  test_size=.25,\n",
        "                                                  stratify=df_train['label'], \n",
        "                                                  random_state=99)\n",
        "\n",
        "clf = clf.fit(X_train, y_train)\n",
        "\n",
        "train_y_proba = clf.predict_proba(X_train)[:, 1]\n",
        "train_y_hat = clf.predict(X_train)\n",
        "\n",
        "val_y_proba = clf.predict_proba(X_val)[:, 1]\n",
        "val_y_hat = clf.predict(X_val)\n",
        "\n",
        "train_roc_auc = metrics.roc_auc_score(y_train, train_y_proba)\n",
        "train_accuracy = metrics.accuracy_score(y_train, train_y_hat)\n",
        "train_f1 = metrics.f1_score(y_train, train_y_hat)\n",
        "train_precision = metrics.precision_score(y_train, train_y_hat)\n",
        "train_recall = metrics.recall_score(y_train, train_y_hat)\n",
        "\n",
        "val_roc_auc = metrics.roc_auc_score(y_val, val_y_proba)\n",
        "val_accuracy = metrics.accuracy_score(y_val, val_y_hat)\n",
        "val_f1 = metrics.f1_score(y_val, val_y_hat)\n",
        "val_precision = metrics.precision_score(y_val, val_y_hat)\n",
        "val_recall = metrics.recall_score(y_val, val_y_hat)\n",
        "\n",
        "print()\n",
        "print('Train ROC AUC:', train_roc_auc)\n",
        "print('Train Accuracy Score:', train_accuracy)\n",
        "print('Train F1 Score:', train_f1)\n",
        "print('Train Precision Score:', train_precision)\n",
        "print('Train Recall Score:', train_recall)\n",
        "print()\n",
        "print('Validation ROC AUC:', val_roc_auc)\n",
        "print('Validation Accuracy Score:', val_accuracy)\n",
        "print('Validation F1 Score:', val_f1)\n",
        "print('Validation Precision Score:', val_precision)\n",
        "print('Validation Recall Score:', val_recall)"
      ],
      "metadata": {
        "id": "CCmQ-PTQac4d",
        "outputId": "de34e1d9-6359-4439-89e6-c400c067943d",
        "colab": {
          "base_uri": "https://localhost:8080/"
        }
      },
      "execution_count": 29,
      "outputs": [
        {
          "output_type": "stream",
          "name": "stdout",
          "text": [
            "\n",
            "Train ROC AUC: 0.7707752636649583\n",
            "Train Accuracy Score: 0.6999992702221444\n",
            "Train F1 Score: 0.710349516820563\n",
            "Train Precision Score: 0.6998923947377556\n",
            "Train Recall Score: 0.7211238591170496\n",
            "\n",
            "Validation ROC AUC: 0.7613504340677693\n",
            "Validation Accuracy Score: 0.6915153306404825\n",
            "Validation F1 Score: 0.7024087352292048\n",
            "Validation Precision Score: 0.6915063935960079\n",
            "Validation Recall Score: 0.7136603579245526\n"
          ]
        }
      ]
    },
    {
      "cell_type": "code",
      "source": [
        "def plot_cf_matrix(y_true, y_pred):\n",
        "  cf_matrix = metrics.confusion_matrix(y_true, y_pred).round(0)\n",
        "  tick_lables = ('Easy', 'Difficult')\n",
        "\n",
        "  fig = plt.figure(figsize=(7, 5))\n",
        "  ax = plt.gca()\n",
        "  ax = sns.heatmap(cf_matrix, \n",
        "              annot=True,\n",
        "              fmt='.0f',\n",
        "              xticklabels=tick_lables,\n",
        "              yticklabels=tick_lables,\n",
        "              cmap=mpl.cm.get_cmap('YlGnBu'),\n",
        "              ax=ax,)\n",
        "  \n",
        "  ax.set_xlabel('Predicted Values', labelpad=10.0)\n",
        "  ax.set_ylabel('Actual Values', labelpad=10.0)\n",
        "\n",
        "plot_cf_matrix(y_val, val_y_hat)"
      ],
      "metadata": {
        "colab": {
          "base_uri": "https://localhost:8080/",
          "height": 340
        },
        "id": "xDvkHHxlZnbl",
        "outputId": "1307fe7b-1f2d-4851-d6e1-ad86a448a473"
      },
      "execution_count": 30,
      "outputs": [
        {
          "output_type": "display_data",
          "data": {
            "text/plain": [
              "<Figure size 504x360 with 2 Axes>"
            ],
            "image/png": "[encoded data removed]"
          },
          "metadata": {
            "needs_background": "light"
          }
        }
      ]
    },
    {
      "cell_type": "markdown",
      "source": [
        "Lets look at the most important features"
      ],
      "metadata": {
        "id": "Ng3UksaMeJe0"
      }
    },
    {
      "cell_type": "code",
      "source": [
        "# Get transformed feature names.\n",
        "num_features_trf = (clf['preprocessor']\n",
        "                    .transformers_[0][1]\n",
        "                    ['binner']\n",
        "                    .get_feature_names_out(num_features))\n",
        "\n",
        "text_features_trf = (clf['preprocessor']\n",
        "                 .transformers_[1][1]\n",
        "                 ['tfidf']\n",
        "                 .get_feature_names_out())\n",
        "\n",
        "all_features_trf = list(num_features_trf) + list(text_features_trf)"
      ],
      "metadata": {
        "id": "AKmYZn-HWTg7"
      },
      "execution_count": 31,
      "outputs": []
    },
    {
      "cell_type": "code",
      "source": [
        "df_coef = pd.DataFrame({'feature':all_features_trf, \n",
        "                        'coef':clf['clf'].coef_[0],\n",
        "                        'abscoef':np.abs(clf['clf'].coef_[0]),\n",
        "                        'is_positive':clf['clf'].coef_[0] >= 0})\n",
        "# What are top 10 most important features\n",
        "def plot_top_10(df_plot):\n",
        "  df_plot = (df_plot\n",
        "    .sort_values('abscoef', ascending=False)\n",
        "    .head(10)\n",
        "    .sort_values('coef'))\n",
        "  df_plot.plot.barh('feature', 'coef', \n",
        "                    color=df_plot.is_positive.map({True:'b', False:'r'}), \n",
        "                    legend=None)\n",
        "\n",
        "plot_top_10(df_coef)"
      ],
      "metadata": {
        "id": "d_Sl6jozWO5S",
        "outputId": "bedc112e-7c5c-4c61-c2f8-53fe8b9eadf1",
        "colab": {
          "base_uri": "https://localhost:8080/",
          "height": 265
        }
      },
      "execution_count": 32,
      "outputs": [
        {
          "output_type": "display_data",
          "data": {
            "text/plain": [
              "<Figure size 432x288 with 1 Axes>"
            ],
            "image/png": "[encoded data removed]"
          },
          "metadata": {
            "needs_background": "light"
          }
        }
      ]
    },
    {
      "cell_type": "markdown",
      "source": [
        "What are the most import readability features."
      ],
      "metadata": {
        "id": "Mdehftu_eNdA"
      }
    },
    {
      "cell_type": "code",
      "source": [
        "def plot_top_10_readability(df_plot):\n",
        "  df_plot = (df_plot[df_plot.feature.isin(num_features_trf)]\n",
        "    .sort_values('abscoef', ascending=False)\n",
        "    .head(10)\n",
        "    .sort_values('coef'))\n",
        "  \n",
        "  df_plot.plot.barh('feature', 'coef', \n",
        "                    color=df_plot.is_positive.map({True:'b', False:'r'}),\n",
        "                    legend=None)\n",
        "  \n",
        "plot_top_10_readability(df_coef)"
      ],
      "metadata": {
        "id": "RigPhgmNWhsz",
        "outputId": "7286cd24-fd17-40eb-dfa1-8e2fa1c266f4",
        "colab": {
          "base_uri": "https://localhost:8080/",
          "height": 265
        }
      },
      "execution_count": 33,
      "outputs": [
        {
          "output_type": "display_data",
          "data": {
            "text/plain": [
              "<Figure size 432x288 with 1 Axes>"
            ],
            "image/png": "[encoded data removed]"
          },
          "metadata": {
            "needs_background": "light"
          }
        }
      ]
    },
    {
      "cell_type": "markdown",
      "source": [
        "## Final test"
      ],
      "metadata": {
        "id": "pO6kZ9n_WVX8"
      }
    },
    {
      "cell_type": "code",
      "source": [
        "clf = clf.fit(df_train, df_train['label'])\n",
        "\n",
        "train_y_proba = clf.predict_proba(df_train)[:, 1]\n",
        "train_y_hat = clf.predict(df_train)\n",
        "\n",
        "test_y_proba = clf.predict_proba(df_test)[:, 1]\n",
        "test_y_hat = clf.predict(df_test)\n",
        "\n",
        "train_roc_auc = metrics.roc_auc_score(df_train['label'], train_y_proba)\n",
        "train_accuracy = metrics.accuracy_score(df_train['label'], train_y_hat)\n",
        "train_f1 = metrics.f1_score(df_train['label'], train_y_hat)\n",
        "train_precision = metrics.precision_score(df_train['label'], train_y_hat)\n",
        "train_recall = metrics.recall_score(df_train['label'], train_y_hat)\n",
        "\n",
        "test_roc_auc = metrics.roc_auc_score(df_test['label'], test_y_proba)\n",
        "test_accuracy = metrics.accuracy_score(df_test['label'], test_y_hat)\n",
        "test_f1 = metrics.f1_score(df_test['label'], test_y_hat)\n",
        "test_precision = metrics.precision_score(df_test['label'], test_y_hat)\n",
        "test_recall = metrics.recall_score(df_test['label'], test_y_hat)\n",
        "\n",
        "print()\n",
        "print('Train ROC AUC:', train_roc_auc)\n",
        "print('Train Accuracy Score:', train_accuracy)\n",
        "print('Train F1 Score:', train_f1)\n",
        "print('Train Precision Score:', train_precision)\n",
        "print('Train Recall Score:', train_recall)\n",
        "print()\n",
        "print('Test ROC AUC:', test_roc_auc)\n",
        "print('Test Accuracy Score:', test_accuracy)\n",
        "print('Test F1 Score:', test_f1)\n",
        "print('Test Precision Score:', test_precision)\n",
        "print('Test Recall Score:', test_recall)"
      ],
      "metadata": {
        "colab": {
          "base_uri": "https://localhost:8080/"
        },
        "id": "asX2EDr9XnyI",
        "outputId": "3c0aa62a-51e1-4d8b-bca9-23de4665aded"
      },
      "execution_count": 34,
      "outputs": [
        {
          "output_type": "stream",
          "name": "stdout",
          "text": [
            "\n",
            "Train ROC AUC: 0.7697228727566477\n",
            "Train Accuracy Score: 0.6990331382095132\n",
            "Train F1 Score: 0.7094087555752847\n",
            "Train Precision Score: 0.6989846394168185\n",
            "Train Recall Score: 0.7201484930742572\n",
            "\n",
            "Test ROC AUC: 0.7696509071515921\n",
            "Test Accuracy Score: 0.7001871580765908\n",
            "Test F1 Score: 0.7044072768564738\n",
            "Test Precision Score: 0.694629776512854\n",
            "Test Recall Score: 0.7144639600729437\n"
          ]
        }
      ]
    },
    {
      "cell_type": "code",
      "source": [
        "plot_cf_matrix(df_test['label'], test_y_hat)"
      ],
      "metadata": {
        "colab": {
          "base_uri": "https://localhost:8080/",
          "height": 340
        },
        "id": "AZS5JUfEiVQo",
        "outputId": "b7be92af-9478-4399-990f-b787aa1274c3"
      },
      "execution_count": 35,
      "outputs": [
        {
          "output_type": "display_data",
          "data": {
            "text/plain": [
              "<Figure size 504x360 with 2 Axes>"
            ],
            "image/png": "[encoded data removed]"
          },
          "metadata": {
            "needs_background": "light"
          }
        }
      ]
    },
    {
      "cell_type": "markdown",
      "source": [
        "Lets save our final model"
      ],
      "metadata": {
        "id": "mJQl05iogE8s"
      }
    },
    {
      "cell_type": "code",
      "source": [
        "model_path = ''.join([repo_path, 'logistic-regression-clf.joblib'])\n",
        "joblib.dump(clf, model_path)"
      ],
      "metadata": {
        "id": "9LvrtulggHWg",
        "outputId": "3f342138-a120-4e76-b717-f91d82c8157a",
        "colab": {
          "base_uri": "https://localhost:8080/"
        }
      },
      "execution_count": 36,
      "outputs": [
        {
          "output_type": "execute_result",
          "data": {
            "text/plain": [
              "['/content/drive/MyDrive/milestone-ii/logistic-regression-clf.joblib']"
            ]
          },
          "metadata": {},
          "execution_count": 36
        }
      ]
    }
  ]
}