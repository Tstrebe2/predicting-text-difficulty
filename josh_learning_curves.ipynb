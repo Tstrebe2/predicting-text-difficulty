{
  "nbformat": 4,
  "nbformat_minor": 0,
  "metadata": {
    "colab": {
      "provenance": [],
      "authorship_tag": "ABX9TyOGxVU0Uze3JoM4LtphuXn/",
      "include_colab_link": true
    },
    "kernelspec": {
      "name": "python3",
      "display_name": "Python 3"
    },
    "language_info": {
      "name": "python"
    }
  },
  "cells": [
    {
      "cell_type": "markdown",
      "metadata": {
        "id": "view-in-github",
        "colab_type": "text"
      },
      "source": [
        "<a href=\"https://colab.research.google.com/github/Tstrebe2/predicting-text-difficulty/blob/josh-updates/josh_learning_curves.ipynb\" target=\"_parent\"><img src=\"https://colab.research.google.com/assets/colab-badge.svg\" alt=\"Open In Colab\"/></a>"
      ]
    },
    {
      "cell_type": "code",
      "execution_count": null,
      "metadata": {
        "id": "Qd99KL7yV1-F"
      },
      "outputs": [],
      "source": [
        "import joblib\n",
        "from google.colab import drive\n",
        "\n",
        "import pandas as pd\n",
        "import numpy as np\n",
        "\n",
        "from matplotlib import pyplot as plt\n",
        "\n",
        "from joblib import load\n",
        "\n",
        "from sklearn.model_selection import GridSearchCV, StratifiedKFold, learning_curve, train_test_split\n",
        "from sklearn.preprocessing import StandardScaler, KBinsDiscretizer\n",
        "from sklearn.feature_extraction.text import TfidfVectorizer\n",
        "from sklearn.calibration import CalibratedClassifierCV\n",
        "from sklearn.linear_model import LogisticRegression\n",
        "from sklearn.compose import ColumnTransformer\n",
        "from sklearn.impute import SimpleImputer\n",
        "from sklearn.pipeline import Pipeline\n",
        "from sklearn.svm import LinearSVC\n",
        "from sklearn import metrics"
      ]
    },
    {
      "cell_type": "code",
      "source": [
        "drive.mount('/content/drive')"
      ],
      "metadata": {
        "colab": {
          "base_uri": "https://localhost:8080/"
        },
        "id": "aSH2YljlWSID",
        "outputId": "f5ded9d4-c10a-4fff-9347-30a8ce4b9c29"
      },
      "execution_count": null,
      "outputs": [
        {
          "output_type": "stream",
          "name": "stdout",
          "text": [
            "Drive already mounted at /content/drive; to attempt to forcibly remount, call drive.mount(\"/content/drive\", force_remount=True).\n"
          ]
        }
      ]
    },
    {
      "cell_type": "code",
      "source": [
        "# Sample size\n",
        "n = 1000\n",
        "\n",
        "# Which numeric features to include\n",
        "features = {\n",
        "    'd_chall_score': True, \n",
        "    'aoa_mean': False, \n",
        "    'aoa_min': False, \n",
        "    'aoa_max': True,\n",
        "    'conc_rating_mean': False, \n",
        "    'conc_rating_min': False, \n",
        "    'conc_rating_max': True, \n",
        "    'num_lemmas': True\n",
        "}"
      ],
      "metadata": {
        "id": "A2VZmd59aDbu"
      },
      "execution_count": 20,
      "outputs": []
    },
    {
      "cell_type": "code",
      "source": [
        "svc_pipe = load('/content/drive/Shareddrives/Milestone 2/svc-model_final.joblib')\n",
        "svc = svc_pipe.named_steps['svc']"
      ],
      "metadata": {
        "id": "TwLGuRNIXZty"
      },
      "execution_count": 21,
      "outputs": []
    },
    {
      "cell_type": "code",
      "source": [
        "# load datasets\n",
        "train = pd.read_csv('/content/drive/Shareddrives/Milestone 2/Training_set.csv', delimiter='\\t', index_col='ix')\n",
        "train['lemmatized_text'] = train['lemmatized_text'].fillna('')\n",
        "\n",
        "test = pd.read_csv('/content/drive/Shareddrives/Milestone 2/Testing_set.csv', delimiter='\\t', index_col='ix')\n",
        "test['lemmatized_text'] = test['lemmatized_text'].fillna('')\n",
        "\n",
        "# collect feature list for df slicing\n",
        "num_features = [k for k,v in features.items() if v]\n",
        "txt_features = 'lemmatized_text'"
      ],
      "metadata": {
        "id": "BQIyyoNuZZ-2"
      },
      "execution_count": 22,
      "outputs": []
    },
    {
      "cell_type": "code",
      "source": [
        "# split with balanced classes\n",
        "sample = train.groupby('label').apply(lambda grp: grp.sample(int(n/2)))\n",
        "X = sample[num_features + [txt_features]]\n",
        "y = sample['label']"
      ],
      "metadata": {
        "id": "fzbG_3xkatAr"
      },
      "execution_count": 23,
      "outputs": []
    },
    {
      "cell_type": "code",
      "source": [
        "train_sizes, train_scores, test_scores, fit_times, _ = learning_curve(svc_pipe, X, y, cv=50, return_times=True)\n",
        "\n",
        "plt.plot(train_sizes,np.mean(train_scores,axis=1))"
      ],
      "metadata": {
        "id": "8RBbpNqbWUv8",
        "colab": {
          "base_uri": "https://localhost:8080/"
        },
        "outputId": "92d98bf6-ed90-452f-8440-bc0fda372dee"
      },
      "execution_count": null,
      "outputs": [
        {
          "output_type": "stream",
          "name": "stderr",
          "text": [
            "/usr/local/lib/python3.7/dist-packages/sklearn/svm/_base.py:1208: ConvergenceWarning: Liblinear failed to converge, increase the number of iterations.\n",
            "  ConvergenceWarning,\n",
            "/usr/local/lib/python3.7/dist-packages/sklearn/svm/_base.py:1208: ConvergenceWarning: Liblinear failed to converge, increase the number of iterations.\n",
            "  ConvergenceWarning,\n"
          ]
        }
      ]
    },
    {
      "cell_type": "code",
      "source": [],
      "metadata": {
        "id": "rIkx2-YhPDEl"
      },
      "execution_count": null,
      "outputs": []
    }
  ]
}