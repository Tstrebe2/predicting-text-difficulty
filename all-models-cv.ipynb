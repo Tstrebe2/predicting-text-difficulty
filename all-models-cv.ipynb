{
  "nbformat": 4,
  "nbformat_minor": 0,
  "metadata": {
    "colab": {
      "provenance": [],
      "authorship_tag": "ABX9TyNWQwiWTnrfdjMYOUyJhIlB",
      "include_colab_link": true
    },
    "kernelspec": {
      "name": "python3",
      "display_name": "Python 3"
    },
    "language_info": {
      "name": "python"
    },
    "gpuClass": "standard"
  },
  "cells": [
    {
      "cell_type": "markdown",
      "metadata": {
        "id": "view-in-github",
        "colab_type": "text"
      },
      "source": [
        "<a href=\"https://colab.research.google.com/github/Tstrebe2/predicting-text-difficulty/blob/tim-updates/all-models-cv.ipynb\" target=\"_parent\"><img src=\"https://colab.research.google.com/assets/colab-badge.svg\" alt=\"Open In Colab\"/></a>"
      ]
    },
    {
      "cell_type": "code",
      "source": [
        "import sys\n",
        "\n",
        "!{sys.executable} -m pip install -U xgboost==1.6.0 -q"
      ],
      "metadata": {
        "colab": {
          "base_uri": "https://localhost:8080/"
        },
        "id": "s6jdvfsbj5HF",
        "outputId": "3c462454-a9b2-4e60-9944-30487594b429"
      },
      "execution_count": 1,
      "outputs": [
        {
          "output_type": "stream",
          "name": "stdout",
          "text": [
            "\u001b[K     |████████████████████████████████| 193.7 MB 39 kB/s \n",
            "\u001b[?25h"
          ]
        }
      ]
    },
    {
      "cell_type": "code",
      "execution_count": 2,
      "metadata": {
        "id": "Q3c0r9hQj2Uo"
      },
      "outputs": [],
      "source": [
        "from google.colab import drive\n",
        "import joblib\n",
        "import pickle\n",
        "import os\n",
        "\n",
        "import pandas as pd\n",
        "import numpy as np\n",
        "\n",
        "from sklearn import metrics\n",
        "\n",
        "import matplotlib.pyplot as plt\n",
        "%matplotlib inline"
      ]
    },
    {
      "cell_type": "code",
      "source": [
        "drive.mount('/content/drive')"
      ],
      "metadata": {
        "colab": {
          "base_uri": "https://localhost:8080/"
        },
        "id": "iSvB1kW9kOAi",
        "outputId": "2b48d8f6-c5f3-4bc5-85ed-7078d9b76158"
      },
      "execution_count": 4,
      "outputs": [
        {
          "output_type": "stream",
          "name": "stdout",
          "text": [
            "Mounted at /content/drive\n"
          ]
        }
      ]
    },
    {
      "cell_type": "code",
      "source": [
        "# If downloading from GitHub, these paths will not work.\n",
        "repo_path = '/content/drive/MyDrive/milestone-ii/'\n",
        "train_path = ''.join([repo_path, 'Training_set.csv'])\n",
        "test_path = ''.join([repo_path, 'Testing_set.csv'])\n",
        "\n",
        "df_train = pd.read_csv(train_path, sep='\\t', index_col='ix')\n",
        "df_train['lemmatized_text'] = df_train['lemmatized_text'].fillna('')\n",
        "df_test = pd.read_csv(test_path, sep='\\t', index_col='ix')\n",
        "df_test['lemmatized_text'] = df_test['lemmatized_text'].fillna('')\n",
        "\n",
        "df = pd.concat([df_train, df_test])\n",
        "df.head(2)"
      ],
      "metadata": {
        "colab": {
          "base_uri": "https://localhost:8080/",
          "height": 222
        },
        "id": "83NUNrkblRM0",
        "outputId": "79794207-46f9-4c12-a03a-02349f728bc8"
      },
      "execution_count": 5,
      "outputs": [
        {
          "output_type": "execute_result",
          "data": {
            "text/plain": [
              "                                        original_text  \\\n",
              "ix                                                      \n",
              "0   There is manuscript evidence that Austen conti...   \n",
              "1   In a remarkable comparative analysis , Mandaea...   \n",
              "\n",
              "                                      lemmatized_text  d_chall_score  \\\n",
              "ix                                                                     \n",
              "0   there be manuscript evidence that austen conti...       8.236551   \n",
              "1   in a remarkable comparative analysis mandaean ...      12.320171   \n",
              "\n",
              "    aoa_mean  aoa_min  aoa_max  conc_rating_mean  conc_rating_min  \\\n",
              "ix                                                                  \n",
              "0   5.809310     3.57    12.12          2.495517             1.33   \n",
              "1   7.499286     2.89    11.94          2.251429             1.46   \n",
              "\n",
              "    conc_rating_max  num_lemmas  label  \n",
              "ix                                      \n",
              "0              4.57        37.0      1  \n",
              "1              3.77        21.0      1  "
            ],
            "text/html": [
              "\n",
              "  <div id=\"df-ff2e7052-60be-4684-bbfa-9881e7b95d7c\">\n",
              "    <div class=\"colab-df-container\">\n",
              "      <div>\n",
              "<style scoped>\n",
              "    .dataframe tbody tr th:only-of-type {\n",
              "        vertical-align: middle;\n",
              "    }\n",
              "\n",
              "    .dataframe tbody tr th {\n",
              "        vertical-align: top;\n",
              "    }\n",
              "\n",
              "    .dataframe thead th {\n",
              "        text-align: right;\n",
              "    }\n",
              "</style>\n",
              "<table border=\"1\" class=\"dataframe\">\n",
              "  <thead>\n",
              "    <tr style=\"text-align: right;\">\n",
              "      <th></th>\n",
              "      <th>original_text</th>\n",
              "      <th>lemmatized_text</th>\n",
              "      <th>d_chall_score</th>\n",
              "      <th>aoa_mean</th>\n",
              "      <th>aoa_min</th>\n",
              "      <th>aoa_max</th>\n",
              "      <th>conc_rating_mean</th>\n",
              "      <th>conc_rating_min</th>\n",
              "      <th>conc_rating_max</th>\n",
              "      <th>num_lemmas</th>\n",
              "      <th>label</th>\n",
              "    </tr>\n",
              "    <tr>\n",
              "      <th>ix</th>\n",
              "      <th></th>\n",
              "      <th></th>\n",
              "      <th></th>\n",
              "      <th></th>\n",
              "      <th></th>\n",
              "      <th></th>\n",
              "      <th></th>\n",
              "      <th></th>\n",
              "      <th></th>\n",
              "      <th></th>\n",
              "      <th></th>\n",
              "    </tr>\n",
              "  </thead>\n",
              "  <tbody>\n",
              "    <tr>\n",
              "      <th>0</th>\n",
              "      <td>There is manuscript evidence that Austen conti...</td>\n",
              "      <td>there be manuscript evidence that austen conti...</td>\n",
              "      <td>8.236551</td>\n",
              "      <td>5.809310</td>\n",
              "      <td>3.57</td>\n",
              "      <td>12.12</td>\n",
              "      <td>2.495517</td>\n",
              "      <td>1.33</td>\n",
              "      <td>4.57</td>\n",
              "      <td>37.0</td>\n",
              "      <td>1</td>\n",
              "    </tr>\n",
              "    <tr>\n",
              "      <th>1</th>\n",
              "      <td>In a remarkable comparative analysis , Mandaea...</td>\n",
              "      <td>in a remarkable comparative analysis mandaean ...</td>\n",
              "      <td>12.320171</td>\n",
              "      <td>7.499286</td>\n",
              "      <td>2.89</td>\n",
              "      <td>11.94</td>\n",
              "      <td>2.251429</td>\n",
              "      <td>1.46</td>\n",
              "      <td>3.77</td>\n",
              "      <td>21.0</td>\n",
              "      <td>1</td>\n",
              "    </tr>\n",
              "  </tbody>\n",
              "</table>\n",
              "</div>\n",
              "      <button class=\"colab-df-convert\" onclick=\"convertToInteractive('df-ff2e7052-60be-4684-bbfa-9881e7b95d7c')\"\n",
              "              title=\"Convert this dataframe to an interactive table.\"\n",
              "              style=\"display:none;\">\n",
              "        \n",
              "  <svg xmlns=\"http://www.w3.org/2000/svg\" height=\"24px\"viewBox=\"0 0 24 24\"\n",
              "       width=\"24px\">\n",
              "    <path d=\"M0 0h24v24H0V0z\" fill=\"none\"/>\n",
              "    <path d=\"M18.56 5.44l.94 2.06.94-2.06 2.06-.94-2.06-.94-.94-2.06-.94 2.06-2.06.94zm-11 1L8.5 8.5l.94-2.06 2.06-.94-2.06-.94L8.5 2.5l-.94 2.06-2.06.94zm10 10l.94 2.06.94-2.06 2.06-.94-2.06-.94-.94-2.06-.94 2.06-2.06.94z\"/><path d=\"M17.41 7.96l-1.37-1.37c-.4-.4-.92-.59-1.43-.59-.52 0-1.04.2-1.43.59L10.3 9.45l-7.72 7.72c-.78.78-.78 2.05 0 2.83L4 21.41c.39.39.9.59 1.41.59.51 0 1.02-.2 1.41-.59l7.78-7.78 2.81-2.81c.8-.78.8-2.07 0-2.86zM5.41 20L4 18.59l7.72-7.72 1.47 1.35L5.41 20z\"/>\n",
              "  </svg>\n",
              "      </button>\n",
              "      \n",
              "  <style>\n",
              "    .colab-df-container {\n",
              "      display:flex;\n",
              "      flex-wrap:wrap;\n",
              "      gap: 12px;\n",
              "    }\n",
              "\n",
              "    .colab-df-convert {\n",
              "      background-color: #E8F0FE;\n",
              "      border: none;\n",
              "      border-radius: 50%;\n",
              "      cursor: pointer;\n",
              "      display: none;\n",
              "      fill: #1967D2;\n",
              "      height: 32px;\n",
              "      padding: 0 0 0 0;\n",
              "      width: 32px;\n",
              "    }\n",
              "\n",
              "    .colab-df-convert:hover {\n",
              "      background-color: #E2EBFA;\n",
              "      box-shadow: 0px 1px 2px rgba(60, 64, 67, 0.3), 0px 1px 3px 1px rgba(60, 64, 67, 0.15);\n",
              "      fill: #174EA6;\n",
              "    }\n",
              "\n",
              "    [theme=dark] .colab-df-convert {\n",
              "      background-color: #3B4455;\n",
              "      fill: #D2E3FC;\n",
              "    }\n",
              "\n",
              "    [theme=dark] .colab-df-convert:hover {\n",
              "      background-color: #434B5C;\n",
              "      box-shadow: 0px 1px 3px 1px rgba(0, 0, 0, 0.15);\n",
              "      filter: drop-shadow(0px 1px 2px rgba(0, 0, 0, 0.3));\n",
              "      fill: #FFFFFF;\n",
              "    }\n",
              "  </style>\n",
              "\n",
              "      <script>\n",
              "        const buttonEl =\n",
              "          document.querySelector('#df-ff2e7052-60be-4684-bbfa-9881e7b95d7c button.colab-df-convert');\n",
              "        buttonEl.style.display =\n",
              "          google.colab.kernel.accessAllowed ? 'block' : 'none';\n",
              "\n",
              "        async function convertToInteractive(key) {\n",
              "          const element = document.querySelector('#df-ff2e7052-60be-4684-bbfa-9881e7b95d7c');\n",
              "          const dataTable =\n",
              "            await google.colab.kernel.invokeFunction('convertToInteractive',\n",
              "                                                     [key], {});\n",
              "          if (!dataTable) return;\n",
              "\n",
              "          const docLinkHtml = 'Like what you see? Visit the ' +\n",
              "            '<a target=\"_blank\" href=https://colab.research.google.com/notebooks/data_table.ipynb>data table notebook</a>'\n",
              "            + ' to learn more about interactive tables.';\n",
              "          element.innerHTML = '';\n",
              "          dataTable['output_type'] = 'display_data';\n",
              "          await google.colab.output.renderOutput(dataTable, element);\n",
              "          const docLink = document.createElement('div');\n",
              "          docLink.innerHTML = docLinkHtml;\n",
              "          element.appendChild(docLink);\n",
              "        }\n",
              "      </script>\n",
              "    </div>\n",
              "  </div>\n",
              "  "
            ]
          },
          "metadata": {},
          "execution_count": 5
        }
      ]
    },
    {
      "cell_type": "code",
      "source": [
        "model_dir = '/content/drive/MyDrive/milestone-ii/Models'\n",
        "model_map = [\n",
        "  ('dummyclassifier-clf.joblib', 'Dummy Classifier'),\n",
        "  ('decisontrees-clf.joblib', 'Decision Tree'),\n",
        "  ('xgboost-clf.joblib', 'XGBoost RF'),\n",
        "  ('random-forest-clf.joblib', 'Random Forest'),\n",
        "  ('multinomialnaivebayes-clf.joblib', 'Naive Bayes'),\n",
        "  ('logistic-regression-clf.joblib','Logistic Regression'),\n",
        "  ('svc-model_final.joblib', 'Support Vector Machines'),\n",
        "]"
      ],
      "metadata": {
        "id": "o1HctZPjmUWe"
      },
      "execution_count": 6,
      "outputs": []
    },
    {
      "cell_type": "code",
      "source": [
        "from sklearn.model_selection import StratifiedKFold\n",
        "cv_results = {}\n",
        "n_splits=10\n",
        "\n",
        "skfold = StratifiedKFold(n_splits=n_splits)\n",
        "\n",
        "for model_path, model_name in model_map:\n",
        "  clf = joblib.load(os.path.join(model_dir, model_path))\n",
        "\n",
        "  train_accuracy_scores = np.zeros(n_splits)\n",
        "  train_roc_auc_scores = np.zeros(n_splits)\n",
        "  train_f1_scores = np.zeros(n_splits)\n",
        "\n",
        "  test_accuracy_scores = np.zeros(n_splits)\n",
        "  test_roc_auc_scores = np.zeros(n_splits)\n",
        "  test_f1_scores = np.zeros(n_splits)\n",
        "\n",
        "  for i, (train_ix, test_ix) in enumerate(skfold.split(df, df.label)):\n",
        "    X_train, y_train = df.iloc[train_ix, :-1], df.iloc[train_ix].label\n",
        "    X_test, y_test = df.iloc[test_ix, :-1], df.iloc[test_ix].label\n",
        "\n",
        "    clf.fit(X_train, y_train)\n",
        "\n",
        "    y_proba = clf.predict_proba(X_train)[:, 1]\n",
        "    y_hat = clf.predict(X_train)\n",
        "    \n",
        "    train_accuracy_scores[i] = metrics.accuracy_score(y_train, y_hat)\n",
        "    train_roc_auc_scores[i] = metrics.roc_auc_score(y_train, y_proba)\n",
        "    train_f1_scores[i] = metrics.f1_score(y_train, y_hat)\n",
        "\n",
        "    y_proba = clf.predict_proba(X_test)[:, 1]\n",
        "    y_hat = clf.predict(X_test)\n",
        "\n",
        "    test_accuracy_scores[i] = metrics.accuracy_score(y_test, y_hat)\n",
        "    test_roc_auc_scores[i] = metrics.roc_auc_score(y_test, y_proba)\n",
        "    test_f1_scores[i] = metrics.f1_score(y_test, y_hat)\n",
        "    print(model_name, f'fit {i+1} complete')\n",
        "\n",
        "  cv_results[model_name] = dict(\n",
        "      train_accuracy_scores=train_accuracy_scores,\n",
        "      train_roc_auc_scores=train_roc_auc_scores,\n",
        "      train_f1_scores=train_f1_scores,\n",
        "\n",
        "      test_accuracy_scores=test_accuracy_scores,\n",
        "      test_roc_auc_scores=test_roc_auc_scores,\n",
        "      test_f1_scores=test_f1_scores,\n",
        "  )\n",
        "  print(cv_results[model_name])"
      ],
      "metadata": {
        "id": "CDT515zSNAwd",
        "colab": {
          "base_uri": "https://localhost:8080/"
        },
        "outputId": "2a28d89c-9695-4bb1-c784-1561f6b024ab"
      },
      "execution_count": 9,
      "outputs": [
        {
          "output_type": "stream",
          "name": "stdout",
          "text": [
            "Dummy Classifier fit 1 complete\n",
            "Dummy Classifier fit 2 complete\n",
            "Dummy Classifier fit 3 complete\n",
            "Dummy Classifier fit 4 complete\n",
            "Dummy Classifier fit 5 complete\n",
            "Dummy Classifier fit 6 complete\n",
            "Dummy Classifier fit 7 complete\n",
            "Dummy Classifier fit 8 complete\n",
            "Dummy Classifier fit 9 complete\n",
            "Dummy Classifier fit 10 complete\n",
            "{'train_accuracy_scores': array([0.49929217, 0.5012277 , 0.50118505, 0.50048122, 0.499996  ,\n",
            "       0.50044389, 0.5005452 , 0.49962009, 0.50049055, 0.49960276]), 'train_roc_auc_scores': array([0.49936949, 0.49930284, 0.49915354, 0.49886827, 0.5004279 ,\n",
            "       0.5006705 , 0.5001613 , 0.50008398, 0.50130901, 0.49940548]), 'train_f1_scores': array([0.50005723, 0.500927  , 0.5005779 , 0.50052649, 0.50044083,\n",
            "       0.50129215, 0.50056384, 0.49959741, 0.50043727, 0.49929975]), 'test_accuracy_scores': array([0.500012  , 0.50224344, 0.50008398, 0.49818845, 0.50205149,\n",
            "       0.49948413, 0.50034791, 0.49773256, 0.50064785, 0.50019196]), 'test_roc_auc_scores': array([0.50142761, 0.500276  , 0.49886032, 0.50406701, 0.50401907,\n",
            "       0.49636494, 0.49950811, 0.50274718, 0.49628083, 0.50424705]), 'test_f1_scores': array([0.5013401 , 0.50229121, 0.50139996, 0.49776668, 0.50049342,\n",
            "       0.49809923, 0.49963958, 0.49628221, 0.50094722, 0.50143609])}\n"
          ]
        },
        {
          "output_type": "stream",
          "name": "stderr",
          "text": [
            "/usr/local/lib/python3.7/dist-packages/sklearn/preprocessing/_discretization.py:233: UserWarning: Bins whose width are too small (i.e., <= 1e-8) in feature 5 are removed. Consider decreasing the number of bins.\n",
            "  \"decreasing the number of bins.\" % jj\n"
          ]
        },
        {
          "output_type": "stream",
          "name": "stdout",
          "text": [
            "Decision Tree fit 1 complete\n"
          ]
        },
        {
          "output_type": "stream",
          "name": "stderr",
          "text": [
            "/usr/local/lib/python3.7/dist-packages/sklearn/preprocessing/_discretization.py:233: UserWarning: Bins whose width are too small (i.e., <= 1e-8) in feature 5 are removed. Consider decreasing the number of bins.\n",
            "  \"decreasing the number of bins.\" % jj\n"
          ]
        },
        {
          "output_type": "stream",
          "name": "stdout",
          "text": [
            "Decision Tree fit 2 complete\n"
          ]
        },
        {
          "output_type": "stream",
          "name": "stderr",
          "text": [
            "/usr/local/lib/python3.7/dist-packages/sklearn/preprocessing/_discretization.py:233: UserWarning: Bins whose width are too small (i.e., <= 1e-8) in feature 5 are removed. Consider decreasing the number of bins.\n",
            "  \"decreasing the number of bins.\" % jj\n"
          ]
        },
        {
          "output_type": "stream",
          "name": "stdout",
          "text": [
            "Decision Tree fit 3 complete\n"
          ]
        },
        {
          "output_type": "stream",
          "name": "stderr",
          "text": [
            "/usr/local/lib/python3.7/dist-packages/sklearn/preprocessing/_discretization.py:233: UserWarning: Bins whose width are too small (i.e., <= 1e-8) in feature 5 are removed. Consider decreasing the number of bins.\n",
            "  \"decreasing the number of bins.\" % jj\n"
          ]
        },
        {
          "output_type": "stream",
          "name": "stdout",
          "text": [
            "Decision Tree fit 4 complete\n"
          ]
        },
        {
          "output_type": "stream",
          "name": "stderr",
          "text": [
            "/usr/local/lib/python3.7/dist-packages/sklearn/preprocessing/_discretization.py:233: UserWarning: Bins whose width are too small (i.e., <= 1e-8) in feature 5 are removed. Consider decreasing the number of bins.\n",
            "  \"decreasing the number of bins.\" % jj\n"
          ]
        },
        {
          "output_type": "stream",
          "name": "stdout",
          "text": [
            "Decision Tree fit 5 complete\n"
          ]
        },
        {
          "output_type": "stream",
          "name": "stderr",
          "text": [
            "/usr/local/lib/python3.7/dist-packages/sklearn/preprocessing/_discretization.py:233: UserWarning: Bins whose width are too small (i.e., <= 1e-8) in feature 5 are removed. Consider decreasing the number of bins.\n",
            "  \"decreasing the number of bins.\" % jj\n"
          ]
        },
        {
          "output_type": "stream",
          "name": "stdout",
          "text": [
            "Decision Tree fit 6 complete\n"
          ]
        },
        {
          "output_type": "stream",
          "name": "stderr",
          "text": [
            "/usr/local/lib/python3.7/dist-packages/sklearn/preprocessing/_discretization.py:233: UserWarning: Bins whose width are too small (i.e., <= 1e-8) in feature 5 are removed. Consider decreasing the number of bins.\n",
            "  \"decreasing the number of bins.\" % jj\n"
          ]
        },
        {
          "output_type": "stream",
          "name": "stdout",
          "text": [
            "Decision Tree fit 7 complete\n"
          ]
        },
        {
          "output_type": "stream",
          "name": "stderr",
          "text": [
            "/usr/local/lib/python3.7/dist-packages/sklearn/preprocessing/_discretization.py:233: UserWarning: Bins whose width are too small (i.e., <= 1e-8) in feature 5 are removed. Consider decreasing the number of bins.\n",
            "  \"decreasing the number of bins.\" % jj\n"
          ]
        },
        {
          "output_type": "stream",
          "name": "stdout",
          "text": [
            "Decision Tree fit 8 complete\n"
          ]
        },
        {
          "output_type": "stream",
          "name": "stderr",
          "text": [
            "/usr/local/lib/python3.7/dist-packages/sklearn/preprocessing/_discretization.py:233: UserWarning: Bins whose width are too small (i.e., <= 1e-8) in feature 5 are removed. Consider decreasing the number of bins.\n",
            "  \"decreasing the number of bins.\" % jj\n"
          ]
        },
        {
          "output_type": "stream",
          "name": "stdout",
          "text": [
            "Decision Tree fit 9 complete\n"
          ]
        },
        {
          "output_type": "stream",
          "name": "stderr",
          "text": [
            "/usr/local/lib/python3.7/dist-packages/sklearn/preprocessing/_discretization.py:233: UserWarning: Bins whose width are too small (i.e., <= 1e-8) in feature 5 are removed. Consider decreasing the number of bins.\n",
            "  \"decreasing the number of bins.\" % jj\n"
          ]
        },
        {
          "output_type": "stream",
          "name": "stdout",
          "text": [
            "Decision Tree fit 10 complete\n",
            "{'train_accuracy_scores': array([0.66024245, 0.66081031, 0.66026644, 0.66090895, 0.66083697,\n",
            "       0.65991986, 0.65996518, 0.66043973, 0.66062726, 0.65968349]), 'train_roc_auc_scores': array([0.72435964, 0.72504025, 0.7243457 , 0.72484712, 0.72534635,\n",
            "       0.72388624, 0.72413132, 0.72506295, 0.72483228, 0.72425151]), 'train_f1_scores': array([0.68689192, 0.68779953, 0.68732656, 0.6852356 , 0.68467169,\n",
            "       0.68378454, 0.68639755, 0.68692142, 0.68693804, 0.68362587]), 'test_accuracy_scores': array([0.65868465, 0.65717302, 0.65861266, 0.65770089, 0.65798882,\n",
            "       0.65786885, 0.66050819, 0.65827675, 0.65776466, 0.66100394]), 'test_roc_auc_scores': array([0.72161069, 0.72125324, 0.72370532, 0.72109037, 0.71999394,\n",
            "       0.72162845, 0.7225952 , 0.71929865, 0.72039795, 0.72407956]), 'test_f1_scores': array([0.68702559, 0.68394974, 0.6863454 , 0.6817614 , 0.6823692 ,\n",
            "       0.6822507 , 0.68593372, 0.68473015, 0.68350161, 0.6846147 ])}\n",
            "XGBoost RF fit 1 complete\n",
            "XGBoost RF fit 2 complete\n",
            "XGBoost RF fit 3 complete\n",
            "XGBoost RF fit 4 complete\n",
            "XGBoost RF fit 5 complete\n",
            "XGBoost RF fit 6 complete\n",
            "XGBoost RF fit 7 complete\n",
            "XGBoost RF fit 8 complete\n",
            "XGBoost RF fit 9 complete\n",
            "XGBoost RF fit 10 complete\n",
            "{'train_accuracy_scores': array([0.69138956, 0.69316246, 0.69261859, 0.6921707 , 0.69140555,\n",
            "       0.69028849, 0.69305582, 0.69111762, 0.69276604, 0.69039329]), 'train_roc_auc_scores': array([0.76849122, 0.77063616, 0.76987581, 0.76890779, 0.76844543,\n",
            "       0.76734298, 0.76985492, 0.76848956, 0.7698571 , 0.766868  ]), 'train_f1_scores': array([0.69971854, 0.70107061, 0.70333318, 0.70104086, 0.70095976,\n",
            "       0.6980417 , 0.70174602, 0.70000181, 0.70287301, 0.69751487]), 'test_accuracy_scores': array([0.67596036, 0.67593637, 0.67708808, 0.67284114, 0.67694412,\n",
            "       0.67365693, 0.67680015, 0.67456871, 0.67470487, 0.67808811]), 'test_roc_auc_scores': array([0.74856402, 0.74853444, 0.74884024, 0.74594262, 0.74477642,\n",
            "       0.74666793, 0.74831527, 0.74682253, 0.74681509, 0.74733364]), 'test_f1_scores': array([0.68646252, 0.68409973, 0.68973626, 0.68297333, 0.68816009,\n",
            "       0.68289385, 0.68548613, 0.68432445, 0.68507979, 0.68633686])}\n",
            "Random Forest fit 1 complete\n",
            "Random Forest fit 2 complete\n",
            "Random Forest fit 3 complete\n",
            "Random Forest fit 4 complete\n",
            "Random Forest fit 5 complete\n",
            "Random Forest fit 6 complete\n",
            "Random Forest fit 7 complete\n",
            "Random Forest fit 8 complete\n",
            "Random Forest fit 9 complete\n",
            "Random Forest fit 10 complete\n",
            "{'train_accuracy_scores': array([0.68464453, 0.68377007, 0.6843566 , 0.68419397, 0.68429528,\n",
            "       0.6844579 , 0.68366876, 0.68466585, 0.68489864, 0.68407751]), 'train_roc_auc_scores': array([0.75864388, 0.75831722, 0.75811109, 0.75835077, 0.75905005,\n",
            "       0.75833159, 0.75842066, 0.75926143, 0.75885862, 0.75839173]), 'train_f1_scores': array([0.70032909, 0.69888785, 0.69812365, 0.69812744, 0.70000557,\n",
            "       0.69924504, 0.69821221, 0.70013969, 0.70031695, 0.69895893]), 'test_accuracy_scores': array([0.67960746, 0.67797586, 0.67934352, 0.67639225, 0.67677616,\n",
            "       0.67807184, 0.67907959, 0.67955947, 0.67907189, 0.68063154]), 'test_roc_auc_scores': array([0.75151195, 0.7493577 , 0.75071708, 0.74888053, 0.74720622,\n",
            "       0.75063111, 0.75016386, 0.7499625 , 0.74864873, 0.75286017]), 'test_f1_scores': array([0.69706663, 0.69267935, 0.6938654 , 0.69074316, 0.6938757 ,\n",
            "       0.69350086, 0.6929311 , 0.69507044, 0.69395694, 0.69571579])}\n"
          ]
        },
        {
          "output_type": "stream",
          "name": "stderr",
          "text": [
            "/usr/local/lib/python3.7/dist-packages/sklearn/preprocessing/_discretization.py:233: UserWarning: Bins whose width are too small (i.e., <= 1e-8) in feature 5 are removed. Consider decreasing the number of bins.\n",
            "  \"decreasing the number of bins.\" % jj\n"
          ]
        },
        {
          "output_type": "stream",
          "name": "stdout",
          "text": [
            "Naive Bayes fit 1 complete\n"
          ]
        },
        {
          "output_type": "stream",
          "name": "stderr",
          "text": [
            "/usr/local/lib/python3.7/dist-packages/sklearn/preprocessing/_discretization.py:233: UserWarning: Bins whose width are too small (i.e., <= 1e-8) in feature 5 are removed. Consider decreasing the number of bins.\n",
            "  \"decreasing the number of bins.\" % jj\n"
          ]
        },
        {
          "output_type": "stream",
          "name": "stdout",
          "text": [
            "Naive Bayes fit 2 complete\n"
          ]
        },
        {
          "output_type": "stream",
          "name": "stderr",
          "text": [
            "/usr/local/lib/python3.7/dist-packages/sklearn/preprocessing/_discretization.py:233: UserWarning: Bins whose width are too small (i.e., <= 1e-8) in feature 5 are removed. Consider decreasing the number of bins.\n",
            "  \"decreasing the number of bins.\" % jj\n"
          ]
        },
        {
          "output_type": "stream",
          "name": "stdout",
          "text": [
            "Naive Bayes fit 3 complete\n"
          ]
        },
        {
          "output_type": "stream",
          "name": "stderr",
          "text": [
            "/usr/local/lib/python3.7/dist-packages/sklearn/preprocessing/_discretization.py:233: UserWarning: Bins whose width are too small (i.e., <= 1e-8) in feature 5 are removed. Consider decreasing the number of bins.\n",
            "  \"decreasing the number of bins.\" % jj\n"
          ]
        },
        {
          "output_type": "stream",
          "name": "stdout",
          "text": [
            "Naive Bayes fit 4 complete\n"
          ]
        },
        {
          "output_type": "stream",
          "name": "stderr",
          "text": [
            "/usr/local/lib/python3.7/dist-packages/sklearn/preprocessing/_discretization.py:233: UserWarning: Bins whose width are too small (i.e., <= 1e-8) in feature 5 are removed. Consider decreasing the number of bins.\n",
            "  \"decreasing the number of bins.\" % jj\n"
          ]
        },
        {
          "output_type": "stream",
          "name": "stdout",
          "text": [
            "Naive Bayes fit 5 complete\n"
          ]
        },
        {
          "output_type": "stream",
          "name": "stderr",
          "text": [
            "/usr/local/lib/python3.7/dist-packages/sklearn/preprocessing/_discretization.py:233: UserWarning: Bins whose width are too small (i.e., <= 1e-8) in feature 5 are removed. Consider decreasing the number of bins.\n",
            "  \"decreasing the number of bins.\" % jj\n"
          ]
        },
        {
          "output_type": "stream",
          "name": "stdout",
          "text": [
            "Naive Bayes fit 6 complete\n"
          ]
        },
        {
          "output_type": "stream",
          "name": "stderr",
          "text": [
            "/usr/local/lib/python3.7/dist-packages/sklearn/preprocessing/_discretization.py:233: UserWarning: Bins whose width are too small (i.e., <= 1e-8) in feature 5 are removed. Consider decreasing the number of bins.\n",
            "  \"decreasing the number of bins.\" % jj\n"
          ]
        },
        {
          "output_type": "stream",
          "name": "stdout",
          "text": [
            "Naive Bayes fit 7 complete\n"
          ]
        },
        {
          "output_type": "stream",
          "name": "stderr",
          "text": [
            "/usr/local/lib/python3.7/dist-packages/sklearn/preprocessing/_discretization.py:233: UserWarning: Bins whose width are too small (i.e., <= 1e-8) in feature 5 are removed. Consider decreasing the number of bins.\n",
            "  \"decreasing the number of bins.\" % jj\n"
          ]
        },
        {
          "output_type": "stream",
          "name": "stdout",
          "text": [
            "Naive Bayes fit 8 complete\n"
          ]
        },
        {
          "output_type": "stream",
          "name": "stderr",
          "text": [
            "/usr/local/lib/python3.7/dist-packages/sklearn/preprocessing/_discretization.py:233: UserWarning: Bins whose width are too small (i.e., <= 1e-8) in feature 5 are removed. Consider decreasing the number of bins.\n",
            "  \"decreasing the number of bins.\" % jj\n"
          ]
        },
        {
          "output_type": "stream",
          "name": "stdout",
          "text": [
            "Naive Bayes fit 9 complete\n"
          ]
        },
        {
          "output_type": "stream",
          "name": "stderr",
          "text": [
            "/usr/local/lib/python3.7/dist-packages/sklearn/preprocessing/_discretization.py:233: UserWarning: Bins whose width are too small (i.e., <= 1e-8) in feature 5 are removed. Consider decreasing the number of bins.\n",
            "  \"decreasing the number of bins.\" % jj\n"
          ]
        },
        {
          "output_type": "stream",
          "name": "stdout",
          "text": [
            "Naive Bayes fit 10 complete\n",
            "{'train_accuracy_scores': array([0.75207883, 0.75249739, 0.7523321 , 0.75228411, 0.75249739,\n",
            "       0.752764  , 0.75206283, 0.75272934, 0.75313523, 0.75409766]), 'train_roc_auc_scores': array([0.84055061, 0.84100023, 0.84073518, 0.84075027, 0.84121254,\n",
            "       0.84099356, 0.84084697, 0.84113035, 0.84137529, 0.84242266]), 'train_f1_scores': array([0.7555781 , 0.75620798, 0.75583486, 0.75592868, 0.75604141,\n",
            "       0.75617605, 0.75556105, 0.75639615, 0.75668418, 0.75767925]), 'test_accuracy_scores': array([0.7108957 , 0.71125561, 0.71190345, 0.71010389, 0.70612088,\n",
            "       0.71111164, 0.7088562 , 0.70621686, 0.70608984, 0.69298877]), 'test_roc_auc_scores': array([0.78924478, 0.78763174, 0.79048437, 0.78916525, 0.78168241,\n",
            "       0.78699403, 0.78691991, 0.78388422, 0.78273941, 0.76708069]), 'test_f1_scores': array([0.72064177, 0.7188055 , 0.72011003, 0.71848642, 0.71457867,\n",
            "       0.71921642, 0.71654831, 0.71465859, 0.71313146, 0.70171349])}\n",
            "Logistic Regression fit 1 complete\n",
            "Logistic Regression fit 2 complete\n",
            "Logistic Regression fit 3 complete\n",
            "Logistic Regression fit 4 complete\n",
            "Logistic Regression fit 5 complete\n",
            "Logistic Regression fit 6 complete\n",
            "Logistic Regression fit 7 complete\n",
            "Logistic Regression fit 8 complete\n",
            "Logistic Regression fit 9 complete\n",
            "Logistic Regression fit 10 complete\n",
            "{'train_accuracy_scores': array([0.70370923, 0.70389852, 0.703304  , 0.70392251, 0.70364525,\n",
            "       0.70349862, 0.70354927, 0.70387986, 0.70395796, 0.70337677]), 'train_roc_auc_scores': array([0.77541522, 0.77575947, 0.77514845, 0.775393  , 0.77553656,\n",
            "       0.77499248, 0.77535934, 0.77572534, 0.77558525, 0.77518668]), 'train_f1_scores': array([0.70708205, 0.70722983, 0.70659327, 0.70689273, 0.70686582,\n",
            "       0.70655131, 0.70662853, 0.7069897 , 0.70722762, 0.70650118]), 'test_accuracy_scores': array([0.70060225, 0.6995945 , 0.7032176 , 0.69885069, 0.70021835,\n",
            "       0.70043429, 0.70292967, 0.69856276, 0.69961129, 0.70107496]), 'test_roc_auc_scores': array([0.77309573, 0.77010499, 0.77435675, 0.77035802, 0.77039762,\n",
            "       0.77220964, 0.77293283, 0.76994508, 0.77128786, 0.77189854]), 'test_f1_scores': array([0.70471863, 0.70196153, 0.70708315, 0.7014581 , 0.70339949,\n",
            "       0.70430808, 0.70631212, 0.70247484, 0.70118153, 0.70477274])}\n",
            "Support Vector Machines fit 1 complete\n",
            "Support Vector Machines fit 2 complete\n",
            "Support Vector Machines fit 3 complete\n",
            "Support Vector Machines fit 4 complete\n",
            "Support Vector Machines fit 5 complete\n",
            "Support Vector Machines fit 6 complete\n",
            "Support Vector Machines fit 7 complete\n",
            "Support Vector Machines fit 8 complete\n",
            "Support Vector Machines fit 9 complete\n",
            "Support Vector Machines fit 10 complete\n",
            "{'train_accuracy_scores': array([0.75311591, 0.75321455, 0.75239075, 0.75260137, 0.75295062,\n",
            "       0.75255605, 0.75252139, 0.75275067, 0.75284197, 0.75311657]), 'train_roc_auc_scores': array([0.83560816, 0.83586499, 0.83554144, 0.83586177, 0.83625917,\n",
            "       0.83546201, 0.83573559, 0.83552791, 0.83574505, 0.83632816]), 'train_f1_scores': array([0.75669455, 0.75688949, 0.75591578, 0.75617402, 0.7564267 ,\n",
            "       0.75610051, 0.75599004, 0.75625583, 0.75627345, 0.75643986]), 'test_accuracy_scores': array([0.73373803, 0.73083475, 0.73321016, 0.733882  , 0.72917916,\n",
            "       0.73361806, 0.73239437, 0.733882  , 0.73140417, 0.72809291]), 'test_roc_auc_scores': array([0.80954996, 0.80742954, 0.81016511, 0.80790296, 0.80370229,\n",
            "       0.80941735, 0.80899878, 0.80964164, 0.80649501, 0.80511667]), 'test_f1_scores': array([0.74204421, 0.7381297 , 0.74119591, 0.74149866, 0.73713873,\n",
            "       0.74178993, 0.73955585, 0.7413781 , 0.73748886, 0.73523364])}\n"
          ]
        }
      ]
    },
    {
      "cell_type": "code",
      "source": [
        "with open('/content/drive/MyDrive/milestone-ii/all-model-cv-results', 'wb') as fh:\n",
        "  pickle.dump(cv_results, fh)"
      ],
      "metadata": {
        "id": "SUBdNrECQUht"
      },
      "execution_count": 10,
      "outputs": []
    },
    {
      "cell_type": "code",
      "source": [
        "with open('/content/drive/MyDrive/milestone-ii/all-model-cv-results', 'rb') as fh:\n",
        "  print(pickle.load(fh))"
      ],
      "metadata": {
        "id": "zFBzAFrTQU3S",
        "colab": {
          "base_uri": "https://localhost:8080/"
        },
        "outputId": "19250a75-597d-47ab-b1ba-d33149b35833"
      },
      "execution_count": 11,
      "outputs": [
        {
          "output_type": "stream",
          "name": "stdout",
          "text": [
            "{'Dummy Classifier': {'train_accuracy_scores': array([0.49929217, 0.5012277 , 0.50118505, 0.50048122, 0.499996  ,\n",
            "       0.50044389, 0.5005452 , 0.49962009, 0.50049055, 0.49960276]), 'train_roc_auc_scores': array([0.49936949, 0.49930284, 0.49915354, 0.49886827, 0.5004279 ,\n",
            "       0.5006705 , 0.5001613 , 0.50008398, 0.50130901, 0.49940548]), 'train_f1_scores': array([0.50005723, 0.500927  , 0.5005779 , 0.50052649, 0.50044083,\n",
            "       0.50129215, 0.50056384, 0.49959741, 0.50043727, 0.49929975]), 'test_accuracy_scores': array([0.500012  , 0.50224344, 0.50008398, 0.49818845, 0.50205149,\n",
            "       0.49948413, 0.50034791, 0.49773256, 0.50064785, 0.50019196]), 'test_roc_auc_scores': array([0.50142761, 0.500276  , 0.49886032, 0.50406701, 0.50401907,\n",
            "       0.49636494, 0.49950811, 0.50274718, 0.49628083, 0.50424705]), 'test_f1_scores': array([0.5013401 , 0.50229121, 0.50139996, 0.49776668, 0.50049342,\n",
            "       0.49809923, 0.49963958, 0.49628221, 0.50094722, 0.50143609])}, 'Decision Tree': {'train_accuracy_scores': array([0.66024245, 0.66081031, 0.66026644, 0.66090895, 0.66083697,\n",
            "       0.65991986, 0.65996518, 0.66043973, 0.66062726, 0.65968349]), 'train_roc_auc_scores': array([0.72435964, 0.72504025, 0.7243457 , 0.72484712, 0.72534635,\n",
            "       0.72388624, 0.72413132, 0.72506295, 0.72483228, 0.72425151]), 'train_f1_scores': array([0.68689192, 0.68779953, 0.68732656, 0.6852356 , 0.68467169,\n",
            "       0.68378454, 0.68639755, 0.68692142, 0.68693804, 0.68362587]), 'test_accuracy_scores': array([0.65868465, 0.65717302, 0.65861266, 0.65770089, 0.65798882,\n",
            "       0.65786885, 0.66050819, 0.65827675, 0.65776466, 0.66100394]), 'test_roc_auc_scores': array([0.72161069, 0.72125324, 0.72370532, 0.72109037, 0.71999394,\n",
            "       0.72162845, 0.7225952 , 0.71929865, 0.72039795, 0.72407956]), 'test_f1_scores': array([0.68702559, 0.68394974, 0.6863454 , 0.6817614 , 0.6823692 ,\n",
            "       0.6822507 , 0.68593372, 0.68473015, 0.68350161, 0.6846147 ])}, 'XGBoost RF': {'train_accuracy_scores': array([0.69138956, 0.69316246, 0.69261859, 0.6921707 , 0.69140555,\n",
            "       0.69028849, 0.69305582, 0.69111762, 0.69276604, 0.69039329]), 'train_roc_auc_scores': array([0.76849122, 0.77063616, 0.76987581, 0.76890779, 0.76844543,\n",
            "       0.76734298, 0.76985492, 0.76848956, 0.7698571 , 0.766868  ]), 'train_f1_scores': array([0.69971854, 0.70107061, 0.70333318, 0.70104086, 0.70095976,\n",
            "       0.6980417 , 0.70174602, 0.70000181, 0.70287301, 0.69751487]), 'test_accuracy_scores': array([0.67596036, 0.67593637, 0.67708808, 0.67284114, 0.67694412,\n",
            "       0.67365693, 0.67680015, 0.67456871, 0.67470487, 0.67808811]), 'test_roc_auc_scores': array([0.74856402, 0.74853444, 0.74884024, 0.74594262, 0.74477642,\n",
            "       0.74666793, 0.74831527, 0.74682253, 0.74681509, 0.74733364]), 'test_f1_scores': array([0.68646252, 0.68409973, 0.68973626, 0.68297333, 0.68816009,\n",
            "       0.68289385, 0.68548613, 0.68432445, 0.68507979, 0.68633686])}, 'Random Forest': {'train_accuracy_scores': array([0.68464453, 0.68377007, 0.6843566 , 0.68419397, 0.68429528,\n",
            "       0.6844579 , 0.68366876, 0.68466585, 0.68489864, 0.68407751]), 'train_roc_auc_scores': array([0.75864388, 0.75831722, 0.75811109, 0.75835077, 0.75905005,\n",
            "       0.75833159, 0.75842066, 0.75926143, 0.75885862, 0.75839173]), 'train_f1_scores': array([0.70032909, 0.69888785, 0.69812365, 0.69812744, 0.70000557,\n",
            "       0.69924504, 0.69821221, 0.70013969, 0.70031695, 0.69895893]), 'test_accuracy_scores': array([0.67960746, 0.67797586, 0.67934352, 0.67639225, 0.67677616,\n",
            "       0.67807184, 0.67907959, 0.67955947, 0.67907189, 0.68063154]), 'test_roc_auc_scores': array([0.75151195, 0.7493577 , 0.75071708, 0.74888053, 0.74720622,\n",
            "       0.75063111, 0.75016386, 0.7499625 , 0.74864873, 0.75286017]), 'test_f1_scores': array([0.69706663, 0.69267935, 0.6938654 , 0.69074316, 0.6938757 ,\n",
            "       0.69350086, 0.6929311 , 0.69507044, 0.69395694, 0.69571579])}, 'Naive Bayes': {'train_accuracy_scores': array([0.75207883, 0.75249739, 0.7523321 , 0.75228411, 0.75249739,\n",
            "       0.752764  , 0.75206283, 0.75272934, 0.75313523, 0.75409766]), 'train_roc_auc_scores': array([0.84055061, 0.84100023, 0.84073518, 0.84075027, 0.84121254,\n",
            "       0.84099356, 0.84084697, 0.84113035, 0.84137529, 0.84242266]), 'train_f1_scores': array([0.7555781 , 0.75620798, 0.75583486, 0.75592868, 0.75604141,\n",
            "       0.75617605, 0.75556105, 0.75639615, 0.75668418, 0.75767925]), 'test_accuracy_scores': array([0.7108957 , 0.71125561, 0.71190345, 0.71010389, 0.70612088,\n",
            "       0.71111164, 0.7088562 , 0.70621686, 0.70608984, 0.69298877]), 'test_roc_auc_scores': array([0.78924478, 0.78763174, 0.79048437, 0.78916525, 0.78168241,\n",
            "       0.78699403, 0.78691991, 0.78388422, 0.78273941, 0.76708069]), 'test_f1_scores': array([0.72064177, 0.7188055 , 0.72011003, 0.71848642, 0.71457867,\n",
            "       0.71921642, 0.71654831, 0.71465859, 0.71313146, 0.70171349])}, 'Logistic Regression': {'train_accuracy_scores': array([0.70370923, 0.70389852, 0.703304  , 0.70392251, 0.70364525,\n",
            "       0.70349862, 0.70354927, 0.70387986, 0.70395796, 0.70337677]), 'train_roc_auc_scores': array([0.77541522, 0.77575947, 0.77514845, 0.775393  , 0.77553656,\n",
            "       0.77499248, 0.77535934, 0.77572534, 0.77558525, 0.77518668]), 'train_f1_scores': array([0.70708205, 0.70722983, 0.70659327, 0.70689273, 0.70686582,\n",
            "       0.70655131, 0.70662853, 0.7069897 , 0.70722762, 0.70650118]), 'test_accuracy_scores': array([0.70060225, 0.6995945 , 0.7032176 , 0.69885069, 0.70021835,\n",
            "       0.70043429, 0.70292967, 0.69856276, 0.69961129, 0.70107496]), 'test_roc_auc_scores': array([0.77309573, 0.77010499, 0.77435675, 0.77035802, 0.77039762,\n",
            "       0.77220964, 0.77293283, 0.76994508, 0.77128786, 0.77189854]), 'test_f1_scores': array([0.70471863, 0.70196153, 0.70708315, 0.7014581 , 0.70339949,\n",
            "       0.70430808, 0.70631212, 0.70247484, 0.70118153, 0.70477274])}, 'Support Vector Machines': {'train_accuracy_scores': array([0.75311591, 0.75321455, 0.75239075, 0.75260137, 0.75295062,\n",
            "       0.75255605, 0.75252139, 0.75275067, 0.75284197, 0.75311657]), 'train_roc_auc_scores': array([0.83560816, 0.83586499, 0.83554144, 0.83586177, 0.83625917,\n",
            "       0.83546201, 0.83573559, 0.83552791, 0.83574505, 0.83632816]), 'train_f1_scores': array([0.75669455, 0.75688949, 0.75591578, 0.75617402, 0.7564267 ,\n",
            "       0.75610051, 0.75599004, 0.75625583, 0.75627345, 0.75643986]), 'test_accuracy_scores': array([0.73373803, 0.73083475, 0.73321016, 0.733882  , 0.72917916,\n",
            "       0.73361806, 0.73239437, 0.733882  , 0.73140417, 0.72809291]), 'test_roc_auc_scores': array([0.80954996, 0.80742954, 0.81016511, 0.80790296, 0.80370229,\n",
            "       0.80941735, 0.80899878, 0.80964164, 0.80649501, 0.80511667]), 'test_f1_scores': array([0.74204421, 0.7381297 , 0.74119591, 0.74149866, 0.73713873,\n",
            "       0.74178993, 0.73955585, 0.7413781 , 0.73748886, 0.73523364])}}\n"
          ]
        }
      ]
    }
  ]
}