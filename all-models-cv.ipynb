{
  "nbformat": 4,
  "nbformat_minor": 0,
  "metadata": {
    "colab": {
      "provenance": [],
      "authorship_tag": "ABX9TyMweT0Fe/3g+6lTVaKqxHXU",
      "include_colab_link": true
    },
    "kernelspec": {
      "name": "python3",
      "display_name": "Python 3"
    },
    "language_info": {
      "name": "python"
    },
    "gpuClass": "standard"
  },
  "cells": [
    {
      "cell_type": "markdown",
      "metadata": {
        "id": "view-in-github",
        "colab_type": "text"
      },
      "source": [
        "<a href=\"https://colab.research.google.com/github/Tstrebe2/predicting-text-difficulty/blob/tim-updates/all-models-cv.ipynb\" target=\"_parent\"><img src=\"https://colab.research.google.com/assets/colab-badge.svg\" alt=\"Open In Colab\"/></a>"
      ]
    },
    {
      "cell_type": "code",
      "source": [
        "import sys\n",
        "\n",
        "# !{sys.executable} -m pip install -U xgboost==1.6.0 -q\n",
        "!{sys.executable} -m pip install -U pnglatex -q\n",
        "!{sys.executable} -m pip install -U pdflatex -q"
      ],
      "metadata": {
        "id": "s6jdvfsbj5HF"
      },
      "execution_count": 125,
      "outputs": []
    },
    {
      "cell_type": "code",
      "execution_count": 29,
      "metadata": {
        "id": "Q3c0r9hQj2Uo"
      },
      "outputs": [],
      "source": [
        "from google.colab import drive\n",
        "import joblib\n",
        "import pickle\n",
        "import os\n",
        "\n",
        "import pandas as pd\n",
        "import numpy as np\n",
        "import scipy.stats as st\n",
        "from sklearn import metrics\n",
        "\n",
        "import matplotlib.pyplot as plt\n",
        "%matplotlib inline"
      ]
    },
    {
      "cell_type": "code",
      "source": [
        "drive.mount('/content/drive')"
      ],
      "metadata": {
        "colab": {
          "base_uri": "https://localhost:8080/"
        },
        "id": "iSvB1kW9kOAi",
        "outputId": "e23e6f52-e73f-4a00-ed1f-77a71b75d709"
      },
      "execution_count": 4,
      "outputs": [
        {
          "output_type": "stream",
          "name": "stdout",
          "text": [
            "Mounted at /content/drive\n"
          ]
        }
      ]
    },
    {
      "cell_type": "code",
      "source": [
        "# If downloading from GitHub, these paths will not work.\n",
        "repo_path = '/content/drive/MyDrive/milestone-ii/'\n",
        "train_path = ''.join([repo_path, 'Training_set.csv'])\n",
        "test_path = ''.join([repo_path, 'Testing_set.csv'])\n",
        "\n",
        "df_train = pd.read_csv(train_path, sep='\\t', index_col='ix')\n",
        "df_train['lemmatized_text'] = df_train['lemmatized_text'].fillna('')\n",
        "df_test = pd.read_csv(test_path, sep='\\t', index_col='ix')\n",
        "df_test['lemmatized_text'] = df_test['lemmatized_text'].fillna('')\n",
        "\n",
        "df = pd.concat([df_train, df_test])\n",
        "df.head(2)"
      ],
      "metadata": {
        "colab": {
          "base_uri": "https://localhost:8080/",
          "height": 311
        },
        "id": "83NUNrkblRM0",
        "outputId": "79794207-46f9-4c12-a03a-02349f728bc8"
      },
      "execution_count": 5,
      "outputs": [
        {
          "output_type": "execute_result",
          "data": {
            "text/plain": [
              "                                        original_text  \\\n",
              "ix                                                      \n",
              "0   There is manuscript evidence that Austen conti...   \n",
              "1   In a remarkable comparative analysis , Mandaea...   \n",
              "\n",
              "                                      lemmatized_text  d_chall_score  \\\n",
              "ix                                                                     \n",
              "0   there be manuscript evidence that austen conti...       8.236551   \n",
              "1   in a remarkable comparative analysis mandaean ...      12.320171   \n",
              "\n",
              "    aoa_mean  aoa_min  aoa_max  conc_rating_mean  conc_rating_min  \\\n",
              "ix                                                                  \n",
              "0   5.809310     3.57    12.12          2.495517             1.33   \n",
              "1   7.499286     2.89    11.94          2.251429             1.46   \n",
              "\n",
              "    conc_rating_max  num_lemmas  label  \n",
              "ix                                      \n",
              "0              4.57        37.0      1  \n",
              "1              3.77        21.0      1  "
            ],
            "text/html": [
              "\n",
              "  <div id=\"df-ff2e7052-60be-4684-bbfa-9881e7b95d7c\">\n",
              "    <div class=\"colab-df-container\">\n",
              "      <div>\n",
              "<style scoped>\n",
              "    .dataframe tbody tr th:only-of-type {\n",
              "        vertical-align: middle;\n",
              "    }\n",
              "\n",
              "    .dataframe tbody tr th {\n",
              "        vertical-align: top;\n",
              "    }\n",
              "\n",
              "    .dataframe thead th {\n",
              "        text-align: right;\n",
              "    }\n",
              "</style>\n",
              "<table border=\"1\" class=\"dataframe\">\n",
              "  <thead>\n",
              "    <tr style=\"text-align: right;\">\n",
              "      <th></th>\n",
              "      <th>original_text</th>\n",
              "      <th>lemmatized_text</th>\n",
              "      <th>d_chall_score</th>\n",
              "      <th>aoa_mean</th>\n",
              "      <th>aoa_min</th>\n",
              "      <th>aoa_max</th>\n",
              "      <th>conc_rating_mean</th>\n",
              "      <th>conc_rating_min</th>\n",
              "      <th>conc_rating_max</th>\n",
              "      <th>num_lemmas</th>\n",
              "      <th>label</th>\n",
              "    </tr>\n",
              "    <tr>\n",
              "      <th>ix</th>\n",
              "      <th></th>\n",
              "      <th></th>\n",
              "      <th></th>\n",
              "      <th></th>\n",
              "      <th></th>\n",
              "      <th></th>\n",
              "      <th></th>\n",
              "      <th></th>\n",
              "      <th></th>\n",
              "      <th></th>\n",
              "      <th></th>\n",
              "    </tr>\n",
              "  </thead>\n",
              "  <tbody>\n",
              "    <tr>\n",
              "      <th>0</th>\n",
              "      <td>There is manuscript evidence that Austen conti...</td>\n",
              "      <td>there be manuscript evidence that austen conti...</td>\n",
              "      <td>8.236551</td>\n",
              "      <td>5.809310</td>\n",
              "      <td>3.57</td>\n",
              "      <td>12.12</td>\n",
              "      <td>2.495517</td>\n",
              "      <td>1.33</td>\n",
              "      <td>4.57</td>\n",
              "      <td>37.0</td>\n",
              "      <td>1</td>\n",
              "    </tr>\n",
              "    <tr>\n",
              "      <th>1</th>\n",
              "      <td>In a remarkable comparative analysis , Mandaea...</td>\n",
              "      <td>in a remarkable comparative analysis mandaean ...</td>\n",
              "      <td>12.320171</td>\n",
              "      <td>7.499286</td>\n",
              "      <td>2.89</td>\n",
              "      <td>11.94</td>\n",
              "      <td>2.251429</td>\n",
              "      <td>1.46</td>\n",
              "      <td>3.77</td>\n",
              "      <td>21.0</td>\n",
              "      <td>1</td>\n",
              "    </tr>\n",
              "  </tbody>\n",
              "</table>\n",
              "</div>\n",
              "      <button class=\"colab-df-convert\" onclick=\"convertToInteractive('df-ff2e7052-60be-4684-bbfa-9881e7b95d7c')\"\n",
              "              title=\"Convert this dataframe to an interactive table.\"\n",
              "              style=\"display:none;\">\n",
              "        \n",
              "  <svg xmlns=\"http://www.w3.org/2000/svg\" height=\"24px\"viewBox=\"0 0 24 24\"\n",
              "       width=\"24px\">\n",
              "    <path d=\"M0 0h24v24H0V0z\" fill=\"none\"/>\n",
              "    <path d=\"M18.56 5.44l.94 2.06.94-2.06 2.06-.94-2.06-.94-.94-2.06-.94 2.06-2.06.94zm-11 1L8.5 8.5l.94-2.06 2.06-.94-2.06-.94L8.5 2.5l-.94 2.06-2.06.94zm10 10l.94 2.06.94-2.06 2.06-.94-2.06-.94-.94-2.06-.94 2.06-2.06.94z\"/><path d=\"M17.41 7.96l-1.37-1.37c-.4-.4-.92-.59-1.43-.59-.52 0-1.04.2-1.43.59L10.3 9.45l-7.72 7.72c-.78.78-.78 2.05 0 2.83L4 21.41c.39.39.9.59 1.41.59.51 0 1.02-.2 1.41-.59l7.78-7.78 2.81-2.81c.8-.78.8-2.07 0-2.86zM5.41 20L4 18.59l7.72-7.72 1.47 1.35L5.41 20z\"/>\n",
              "  </svg>\n",
              "      </button>\n",
              "      \n",
              "  <style>\n",
              "    .colab-df-container {\n",
              "      display:flex;\n",
              "      flex-wrap:wrap;\n",
              "      gap: 12px;\n",
              "    }\n",
              "\n",
              "    .colab-df-convert {\n",
              "      background-color: #E8F0FE;\n",
              "      border: none;\n",
              "      border-radius: 50%;\n",
              "      cursor: pointer;\n",
              "      display: none;\n",
              "      fill: #1967D2;\n",
              "      height: 32px;\n",
              "      padding: 0 0 0 0;\n",
              "      width: 32px;\n",
              "    }\n",
              "\n",
              "    .colab-df-convert:hover {\n",
              "      background-color: #E2EBFA;\n",
              "      box-shadow: 0px 1px 2px rgba(60, 64, 67, 0.3), 0px 1px 3px 1px rgba(60, 64, 67, 0.15);\n",
              "      fill: #174EA6;\n",
              "    }\n",
              "\n",
              "    [theme=dark] .colab-df-convert {\n",
              "      background-color: #3B4455;\n",
              "      fill: #D2E3FC;\n",
              "    }\n",
              "\n",
              "    [theme=dark] .colab-df-convert:hover {\n",
              "      background-color: #434B5C;\n",
              "      box-shadow: 0px 1px 3px 1px rgba(0, 0, 0, 0.15);\n",
              "      filter: drop-shadow(0px 1px 2px rgba(0, 0, 0, 0.3));\n",
              "      fill: #FFFFFF;\n",
              "    }\n",
              "  </style>\n",
              "\n",
              "      <script>\n",
              "        const buttonEl =\n",
              "          document.querySelector('#df-ff2e7052-60be-4684-bbfa-9881e7b95d7c button.colab-df-convert');\n",
              "        buttonEl.style.display =\n",
              "          google.colab.kernel.accessAllowed ? 'block' : 'none';\n",
              "\n",
              "        async function convertToInteractive(key) {\n",
              "          const element = document.querySelector('#df-ff2e7052-60be-4684-bbfa-9881e7b95d7c');\n",
              "          const dataTable =\n",
              "            await google.colab.kernel.invokeFunction('convertToInteractive',\n",
              "                                                     [key], {});\n",
              "          if (!dataTable) return;\n",
              "\n",
              "          const docLinkHtml = 'Like what you see? Visit the ' +\n",
              "            '<a target=\"_blank\" href=https://colab.research.google.com/notebooks/data_table.ipynb>data table notebook</a>'\n",
              "            + ' to learn more about interactive tables.';\n",
              "          element.innerHTML = '';\n",
              "          dataTable['output_type'] = 'display_data';\n",
              "          await google.colab.output.renderOutput(dataTable, element);\n",
              "          const docLink = document.createElement('div');\n",
              "          docLink.innerHTML = docLinkHtml;\n",
              "          element.appendChild(docLink);\n",
              "        }\n",
              "      </script>\n",
              "    </div>\n",
              "  </div>\n",
              "  "
            ]
          },
          "metadata": {},
          "execution_count": 5
        }
      ]
    },
    {
      "cell_type": "code",
      "source": [
        "model_dir = '/content/drive/MyDrive/milestone-ii/Models'\n",
        "model_map = [\n",
        "  ('dummyclassifier-clf.joblib', 'Dummy Classifier'),\n",
        "  ('decisontrees-clf.joblib', 'Decision Tree'),\n",
        "  ('xgboost-clf.joblib', 'XGBoost RF'),\n",
        "  ('random-forest-clf.joblib', 'Random Forest'),\n",
        "  ('logistic-regression-clf.joblib','Logistic Regression'),\n",
        "  ('multinomialnaivebayes-clf.joblib', 'Naive Bayes'),\n",
        "  ('svc-model_final.joblib', 'Support Vector Machines'),\n",
        "]"
      ],
      "metadata": {
        "id": "o1HctZPjmUWe"
      },
      "execution_count": 4,
      "outputs": []
    },
    {
      "cell_type": "code",
      "source": [
        "# from sklearn.model_selection import StratifiedKFold\n",
        "# cv_results = {}\n",
        "# n_splits=10\n",
        "\n",
        "# skfold = StratifiedKFold(n_splits=n_splits)\n",
        "\n",
        "# for model_path, model_name in model_map:\n",
        "#   clf = joblib.load(os.path.join(model_dir, model_path))\n",
        "\n",
        "#   train_accuracy_scores = np.zeros(n_splits)\n",
        "#   train_roc_auc_scores = np.zeros(n_splits)\n",
        "#   train_f1_scores = np.zeros(n_splits)\n",
        "\n",
        "#   test_accuracy_scores = np.zeros(n_splits)\n",
        "#   test_roc_auc_scores = np.zeros(n_splits)\n",
        "#   test_f1_scores = np.zeros(n_splits)\n",
        "\n",
        "#   for i, (train_ix, test_ix) in enumerate(skfold.split(df, df.label)):\n",
        "#     X_train, y_train = df.iloc[train_ix, :-1], df.iloc[train_ix].label\n",
        "#     X_test, y_test = df.iloc[test_ix, :-1], df.iloc[test_ix].label\n",
        "\n",
        "#     clf.fit(X_train, y_train)\n",
        "\n",
        "#     y_proba = clf.predict_proba(X_train)[:, 1]\n",
        "#     y_hat = clf.predict(X_train)\n",
        "    \n",
        "#     train_accuracy_scores[i] = metrics.accuracy_score(y_train, y_hat)\n",
        "#     train_roc_auc_scores[i] = metrics.roc_auc_score(y_train, y_proba)\n",
        "#     train_f1_scores[i] = metrics.f1_score(y_train, y_hat)\n",
        "\n",
        "#     y_proba = clf.predict_proba(X_test)[:, 1]\n",
        "#     y_hat = clf.predict(X_test)\n",
        "\n",
        "#     test_accuracy_scores[i] = metrics.accuracy_score(y_test, y_hat)\n",
        "#     test_roc_auc_scores[i] = metrics.roc_auc_score(y_test, y_proba)\n",
        "#     test_f1_scores[i] = metrics.f1_score(y_test, y_hat)\n",
        "#     print(model_name, f'fit {i+1} complete')\n",
        "\n",
        "#   cv_results[model_name] = dict(\n",
        "#       train_accuracy_scores=train_accuracy_scores,\n",
        "#       train_roc_auc_scores=train_roc_auc_scores,\n",
        "#       train_f1_scores=train_f1_scores,\n",
        "\n",
        "#       test_accuracy_scores=test_accuracy_scores,\n",
        "#       test_roc_auc_scores=test_roc_auc_scores,\n",
        "#       test_f1_scores=test_f1_scores,\n",
        "#   )\n",
        "#   print(cv_results[model_name])"
      ],
      "metadata": {
        "id": "CDT515zSNAwd"
      },
      "execution_count": null,
      "outputs": []
    },
    {
      "cell_type": "code",
      "source": [
        "# with open('/content/drive/MyDrive/milestone-ii/all-model-cv-results', 'wb') as fh:\n",
        "#   pickle.dump(cv_results, fh)"
      ],
      "metadata": {
        "id": "SUBdNrECQUht"
      },
      "execution_count": 10,
      "outputs": []
    },
    {
      "cell_type": "code",
      "source": [
        "with open('/content/drive/MyDrive/milestone-ii/all-model-cv-results', 'rb') as fh:\n",
        "  cv_results = pickle.load(fh)\n",
        "  print(cv_results.keys())"
      ],
      "metadata": {
        "id": "zFBzAFrTQU3S",
        "colab": {
          "base_uri": "https://localhost:8080/"
        },
        "outputId": "89c61c6c-ee7d-42ba-ac4f-a3e6b605a32b"
      },
      "execution_count": 2,
      "outputs": [
        {
          "output_type": "stream",
          "name": "stdout",
          "text": [
            "dict_keys(['Dummy Classifier', 'Decision Tree', 'XGBoost RF', 'Random Forest', 'Naive Bayes', 'Logistic Regression', 'Support Vector Machines'])\n"
          ]
        }
      ]
    },
    {
      "cell_type": "code",
      "source": [
        "cv_results['Dummy Classifier']"
      ],
      "metadata": {
        "id": "1VDjEPDy12aL",
        "outputId": "bbdb8450-323a-4e0d-8c5f-f23108452620",
        "colab": {
          "base_uri": "https://localhost:8080/"
        }
      },
      "execution_count": 10,
      "outputs": [
        {
          "output_type": "execute_result",
          "data": {
            "text/plain": [
              "{'train_accuracy_scores': array([0.49929217, 0.5012277 , 0.50118505, 0.50048122, 0.499996  ,\n",
              "        0.50044389, 0.5005452 , 0.49962009, 0.50049055, 0.49960276]),\n",
              " 'train_roc_auc_scores': array([0.49936949, 0.49930284, 0.49915354, 0.49886827, 0.5004279 ,\n",
              "        0.5006705 , 0.5001613 , 0.50008398, 0.50130901, 0.49940548]),\n",
              " 'train_f1_scores': array([0.50005723, 0.500927  , 0.5005779 , 0.50052649, 0.50044083,\n",
              "        0.50129215, 0.50056384, 0.49959741, 0.50043727, 0.49929975]),\n",
              " 'test_accuracy_scores': array([0.500012  , 0.50224344, 0.50008398, 0.49818845, 0.50205149,\n",
              "        0.49948413, 0.50034791, 0.49773256, 0.50064785, 0.50019196]),\n",
              " 'test_roc_auc_scores': array([0.50142761, 0.500276  , 0.49886032, 0.50406701, 0.50401907,\n",
              "        0.49636494, 0.49950811, 0.50274718, 0.49628083, 0.50424705]),\n",
              " 'test_f1_scores': array([0.5013401 , 0.50229121, 0.50139996, 0.49776668, 0.50049342,\n",
              "        0.49809923, 0.49963958, 0.49628221, 0.50094722, 0.50143609])}"
            ]
          },
          "metadata": {},
          "execution_count": 10
        }
      ]
    },
    {
      "cell_type": "code",
      "source": [
        "columns = ['Model', 'Mean ROC AUC', 'ROC AUC (95 % CI)', 'Mean Accuracy', 'Accuracy (95 % CI)', 'Mean F1', 'F1 (95 % CI)']\n",
        "results = pd.DataFrame(columns=columns)\n",
        "\n",
        "for _, model_name in model_map:\n",
        "  y_auc = cv_results[model_name]['test_roc_auc_scores']\n",
        "  y_acc = cv_results[model_name]['test_accuracy_scores']\n",
        "  y_f1 = cv_results[model_name]['test_f1_scores']\n",
        "\n",
        "  mean_auc = np.round(y_auc.mean(), 4)\n",
        "  mean_acc = np.round(y_acc.mean(), 4)\n",
        "  mean_f1  = np.round(y_f1.mean(),  4)\n",
        "\n",
        "  low_auc, high_auc = st.t.interval(alpha=0.95, df=y_auc.shape[0]-1, loc=mean_auc, scale=st.sem(y_auc))\n",
        "  low_auc, high_auc = np.round(low_auc, 4), np.round(high_auc, 4)\n",
        "  low_acc, high_acc = st.t.interval(alpha=0.95, df=y_acc.shape[0]-1, loc=mean_acc, scale=st.sem(y_acc))\n",
        "  low_acc, high_acc = np.round(low_acc, 4), np.round(high_acc, 4)\n",
        "  low_f1, high_f1 = st.t.interval(alpha=0.95, df=y_f1.shape[0]-1, loc=mean_f1, scale=st.sem(y_f1))\n",
        "  low_f1, high_f1 = np.round(low_f1, 4), np.round(high_f1, 4)\n",
        "\n",
        "  results = results.append(pd.DataFrame([[model_name, \n",
        "                                          mean_auc, str((low_auc, high_auc)), \n",
        "                                          mean_acc, str((low_acc, high_acc)),\n",
        "                                          mean_f1, str((low_f1, high_f1))]], columns=columns), ignore_index=True)\n",
        "\n",
        "print(results.to_latex(index=False, column_format=format))"
      ],
      "metadata": {
        "id": "L2kw-tGk8a0J",
        "outputId": "3894a1e0-35fc-4914-fe94-073924af943a",
        "colab": {
          "base_uri": "https://localhost:8080/"
        }
      },
      "execution_count": 138,
      "outputs": [
        {
          "output_type": "stream",
          "name": "stdout",
          "text": [
            "\\begin{tabular}{l@{\\hskip 12pt}S[table-format = 2.2]S[table-format = 2.2]S[table-format = 2.2]S[table-format = 2.2]}\n",
            "\\toprule\n",
            "                  Model &  Mean ROC AUC & ROC AUC (95 \\% CI) &  Mean Accuracy & Accuracy (95 \\% CI) &  Mean F1 &     F1 (95 \\% CI) \\\\\n",
            "\\midrule\n",
            "       Dummy Classifier &        0.5008 &   (0.4986, 0.503) &         0.5001 &   (0.4991, 0.5011) &   0.5000 & (0.4986, 0.5014) \\\\\n",
            "          Decision Tree &        0.7216 &  (0.7205, 0.7227) &         0.6586 &   (0.6577, 0.6595) &   0.6842 & (0.6829, 0.6855) \\\\\n",
            "             XGBoost RF &        0.7473 &  (0.7464, 0.7482) &         0.6757 &   (0.6745, 0.6769) &   0.6856 &  (0.684, 0.6872) \\\\\n",
            "          Random Forest &        0.7500 &  (0.7489, 0.7511) &         0.6787 &   (0.6777, 0.6797) &   0.6939 & (0.6927, 0.6951) \\\\\n",
            "    Logistic Regression &        0.7717 &  (0.7706, 0.7728) &         0.7005 &   (0.6994, 0.7016) &   0.7038 & (0.7024, 0.7052) \\\\\n",
            "            Naive Bayes &        0.7846 &  (0.7797, 0.7895) &         0.7076 &   (0.7036, 0.7116) &   0.7158 & (0.7118, 0.7198) \\\\\n",
            "Support Vector Machines &        0.8078 &  (0.8063, 0.8093) &         0.7320 &   (0.7305, 0.7335) &   0.7395 & (0.7378, 0.7412) \\\\\n",
            "\\bottomrule\n",
            "\\end{tabular}\n",
            "\n"
          ]
        }
      ]
    }
  ]
}