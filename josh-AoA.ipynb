{
  "cells": [
    {
      "cell_type": "markdown",
      "metadata": {
        "id": "view-in-github",
        "colab_type": "text"
      },
      "source": [
        "<a href=\"https://colab.research.google.com/github/Tstrebe2/predicting-text-difficulty/blob/josh-updates/josh-AoA.ipynb\" target=\"_parent\"><img src=\"https://colab.research.google.com/assets/colab-badge.svg\" alt=\"Open In Colab\"/></a>"
      ]
    },
    {
      "cell_type": "markdown",
      "source": [
        "## Imports"
      ],
      "metadata": {
        "id": "3KJHDpLbki8A"
      }
    },
    {
      "cell_type": "code",
      "source": [
        "# import sys\n",
        "import pandas as pd\n",
        "import numpy as np\n",
        "import spacy\n",
        "from sklearn.model_selection import train_test_split\n",
        "import clean_wiki as cw  # custom cleaning module\n",
        "\n",
        "# installers\n",
        "# !{sys.executable} -m pip install pyspark -q\n",
        "# !{sys.executable} -m pip install -U spacy -q\n",
        "# !{sys.executable} -m spacy download en_core_web_lg -q\n",
        "# !{sys.executable} -m pip install sklearn -q"
      ],
      "metadata": {
        "id": "ylsbWwuQuhw-"
      },
      "execution_count": 111,
      "outputs": []
    },
    {
      "cell_type": "code",
      "source": [
        "n = 10000  # sample size"
      ],
      "metadata": {
        "id": "tEIwDJG8rKoZ"
      },
      "execution_count": null,
      "outputs": []
    },
    {
      "cell_type": "markdown",
      "source": [
        "## Dataset"
      ],
      "metadata": {
        "id": "wRp8I5w-kvwC"
      }
    },
    {
      "cell_type": "code",
      "execution_count": 112,
      "metadata": {
        "colab": {
          "base_uri": "https://localhost:8080/",
          "height": 680
        },
        "id": "U1c7Wfd0uO5q",
        "outputId": "23892d70-9b14-4a73-8774-34775cd3c301"
      },
      "outputs": [
        {
          "output_type": "stream",
          "name": "stdout",
          "text": [
            "root\n",
            " |-- original_text: string (nullable = true)\n",
            " |-- label: string (nullable = true)\n",
            "\n",
            "+--------------------------------------------------------------------------------------------------------------------------------------------------------------------------------------------------------------------------------------------------------+-----+\n",
            "|original_text                                                                                                                                                                                                                                           |label|\n",
            "+--------------------------------------------------------------------------------------------------------------------------------------------------------------------------------------------------------------------------------------------------------+-----+\n",
            "|There is manuscript evidence that Austen continued to work on these pieces as late as the period 1809 â '' 11 , and that her niece and nephew , Anna and James Edward Austen , made further additions as late as 1814 .                                 |1    |\n",
            "|In a remarkable comparative analysis , Mandaean scholar Säve-Söderberg demonstrated that Mani 's Psalms of Thomas were closely related to Mandaean texts .                                                                                              |1    |\n",
            "|Before Persephone was released to Hermes , who had been sent to retrieve her , Hades tricked her into eating pomegranate seeds , -LRB- six or three according to the telling -RRB- which forced her to return to the underworld for a period each year .|1    |\n",
            "|Cogeneration plants are commonly found in district heating systems of cities , hospitals , prisons , oil refineries , paper mills , wastewater treatment plants , thermal enhanced oil recovery wells and industrial plants with large heating needs .  |1    |\n",
            "|Geneva -LRB- , ; , ; , ; ; -RRB- is the second-most-populous city in Switzerland -LRB- after Zürich -RRB- and is the most populous city of Romandie -LRB- the French-speaking part of Switzerland -RRB- .                                               |1    |\n",
            "+--------------------------------------------------------------------------------------------------------------------------------------------------------------------------------------------------------------------------------------------------------+-----+\n",
            "\n",
            "+--------------------------------------------------------------------------------------------------------------------------------------------------------------------------------------------------------------------------------------------------------+-----+\n",
            "|original_text                                                                                                                                                                                                                                           |label|\n",
            "+--------------------------------------------------------------------------------------------------------------------------------------------------------------------------------------------------------------------------------------------------------+-----+\n",
            "|There is manuscript evidence that Austen continued to work on these pieces as late as the period 1809 â '' 11 , and that her niece and nephew , Anna and James Edward Austen , made further additions as late as 1814 .                                 |1    |\n",
            "|In a remarkable comparative analysis , Mandaean scholar Säve-Söderberg demonstrated that Mani 's Psalms of Thomas were closely related to Mandaean texts .                                                                                              |1    |\n",
            "|Before Persephone was released to Hermes , who had been sent to retrieve her , Hades tricked her into eating pomegranate seeds , -LRB- six or three according to the telling -RRB- which forced her to return to the underworld for a period each year .|1    |\n",
            "|Cogeneration plants are commonly found in district heating systems of cities , hospitals , prisons , oil refineries , paper mills , wastewater treatment plants , thermal enhanced oil recovery wells and industrial plants with large heating needs .  |1    |\n",
            "|Geneva -LRB- , ; , ; , ; ; -RRB- is the second-most-populous city in Switzerland -LRB- after Zürich -RRB- and is the most populous city of Romandie -LRB- the French-speaking part of Switzerland -RRB- .                                               |1    |\n",
            "+--------------------------------------------------------------------------------------------------------------------------------------------------------------------------------------------------------------------------------------------------------+-----+\n",
            "only showing top 5 rows\n",
            "\n"
          ]
        },
        {
          "output_type": "execute_result",
          "data": {
            "text/plain": [
              "                                       original_text label\n",
              "0  There is manuscript evidence that Austen conti...     1\n",
              "1  In a remarkable comparative analysis , Mandaea...     1\n",
              "2  Before Persephone was released to Hermes , who...     1\n",
              "3  Cogeneration plants are commonly found in dist...     1\n",
              "4  Geneva -LRB- , ; , ; , ; ; -RRB- is the second...     1"
            ],
            "text/html": [
              "\n",
              "  <div id=\"df-defac194-5cd2-4e48-ab77-f4a6a246cded\">\n",
              "    <div class=\"colab-df-container\">\n",
              "      <div>\n",
              "<style scoped>\n",
              "    .dataframe tbody tr th:only-of-type {\n",
              "        vertical-align: middle;\n",
              "    }\n",
              "\n",
              "    .dataframe tbody tr th {\n",
              "        vertical-align: top;\n",
              "    }\n",
              "\n",
              "    .dataframe thead th {\n",
              "        text-align: right;\n",
              "    }\n",
              "</style>\n",
              "<table border=\"1\" class=\"dataframe\">\n",
              "  <thead>\n",
              "    <tr style=\"text-align: right;\">\n",
              "      <th></th>\n",
              "      <th>original_text</th>\n",
              "      <th>label</th>\n",
              "    </tr>\n",
              "  </thead>\n",
              "  <tbody>\n",
              "    <tr>\n",
              "      <th>0</th>\n",
              "      <td>There is manuscript evidence that Austen conti...</td>\n",
              "      <td>1</td>\n",
              "    </tr>\n",
              "    <tr>\n",
              "      <th>1</th>\n",
              "      <td>In a remarkable comparative analysis , Mandaea...</td>\n",
              "      <td>1</td>\n",
              "    </tr>\n",
              "    <tr>\n",
              "      <th>2</th>\n",
              "      <td>Before Persephone was released to Hermes , who...</td>\n",
              "      <td>1</td>\n",
              "    </tr>\n",
              "    <tr>\n",
              "      <th>3</th>\n",
              "      <td>Cogeneration plants are commonly found in dist...</td>\n",
              "      <td>1</td>\n",
              "    </tr>\n",
              "    <tr>\n",
              "      <th>4</th>\n",
              "      <td>Geneva -LRB- , ; , ; , ; ; -RRB- is the second...</td>\n",
              "      <td>1</td>\n",
              "    </tr>\n",
              "  </tbody>\n",
              "</table>\n",
              "</div>\n",
              "      <button class=\"colab-df-convert\" onclick=\"convertToInteractive('df-defac194-5cd2-4e48-ab77-f4a6a246cded')\"\n",
              "              title=\"Convert this dataframe to an interactive table.\"\n",
              "              style=\"display:none;\">\n",
              "        \n",
              "  <svg xmlns=\"http://www.w3.org/2000/svg\" height=\"24px\"viewBox=\"0 0 24 24\"\n",
              "       width=\"24px\">\n",
              "    <path d=\"M0 0h24v24H0V0z\" fill=\"none\"/>\n",
              "    <path d=\"M18.56 5.44l.94 2.06.94-2.06 2.06-.94-2.06-.94-.94-2.06-.94 2.06-2.06.94zm-11 1L8.5 8.5l.94-2.06 2.06-.94-2.06-.94L8.5 2.5l-.94 2.06-2.06.94zm10 10l.94 2.06.94-2.06 2.06-.94-2.06-.94-.94-2.06-.94 2.06-2.06.94z\"/><path d=\"M17.41 7.96l-1.37-1.37c-.4-.4-.92-.59-1.43-.59-.52 0-1.04.2-1.43.59L10.3 9.45l-7.72 7.72c-.78.78-.78 2.05 0 2.83L4 21.41c.39.39.9.59 1.41.59.51 0 1.02-.2 1.41-.59l7.78-7.78 2.81-2.81c.8-.78.8-2.07 0-2.86zM5.41 20L4 18.59l7.72-7.72 1.47 1.35L5.41 20z\"/>\n",
              "  </svg>\n",
              "      </button>\n",
              "      \n",
              "  <style>\n",
              "    .colab-df-container {\n",
              "      display:flex;\n",
              "      flex-wrap:wrap;\n",
              "      gap: 12px;\n",
              "    }\n",
              "\n",
              "    .colab-df-convert {\n",
              "      background-color: #E8F0FE;\n",
              "      border: none;\n",
              "      border-radius: 50%;\n",
              "      cursor: pointer;\n",
              "      display: none;\n",
              "      fill: #1967D2;\n",
              "      height: 32px;\n",
              "      padding: 0 0 0 0;\n",
              "      width: 32px;\n",
              "    }\n",
              "\n",
              "    .colab-df-convert:hover {\n",
              "      background-color: #E2EBFA;\n",
              "      box-shadow: 0px 1px 2px rgba(60, 64, 67, 0.3), 0px 1px 3px 1px rgba(60, 64, 67, 0.15);\n",
              "      fill: #174EA6;\n",
              "    }\n",
              "\n",
              "    [theme=dark] .colab-df-convert {\n",
              "      background-color: #3B4455;\n",
              "      fill: #D2E3FC;\n",
              "    }\n",
              "\n",
              "    [theme=dark] .colab-df-convert:hover {\n",
              "      background-color: #434B5C;\n",
              "      box-shadow: 0px 1px 3px 1px rgba(0, 0, 0, 0.15);\n",
              "      filter: drop-shadow(0px 1px 2px rgba(0, 0, 0, 0.3));\n",
              "      fill: #FFFFFF;\n",
              "    }\n",
              "  </style>\n",
              "\n",
              "      <script>\n",
              "        const buttonEl =\n",
              "          document.querySelector('#df-defac194-5cd2-4e48-ab77-f4a6a246cded button.colab-df-convert');\n",
              "        buttonEl.style.display =\n",
              "          google.colab.kernel.accessAllowed ? 'block' : 'none';\n",
              "\n",
              "        async function convertToInteractive(key) {\n",
              "          const element = document.querySelector('#df-defac194-5cd2-4e48-ab77-f4a6a246cded');\n",
              "          const dataTable =\n",
              "            await google.colab.kernel.invokeFunction('convertToInteractive',\n",
              "                                                     [key], {});\n",
              "          if (!dataTable) return;\n",
              "\n",
              "          const docLinkHtml = 'Like what you see? Visit the ' +\n",
              "            '<a target=\"_blank\" href=https://colab.research.google.com/notebooks/data_table.ipynb>data table notebook</a>'\n",
              "            + ' to learn more about interactive tables.';\n",
              "          element.innerHTML = '';\n",
              "          dataTable['output_type'] = 'display_data';\n",
              "          await google.colab.output.renderOutput(dataTable, element);\n",
              "          const docLink = document.createElement('div');\n",
              "          docLink.innerHTML = docLinkHtml;\n",
              "          element.appendChild(docLink);\n",
              "        }\n",
              "      </script>\n",
              "    </div>\n",
              "  </div>\n",
              "  "
            ]
          },
          "metadata": {},
          "execution_count": 112
        }
      ],
      "source": [
        "df = cw.process_file('WikiLarge_Train.csv')\n",
        "df.head()"
      ]
    },
    {
      "cell_type": "code",
      "source": [
        "df_sample = df.sample(n) if n < 1 else df.sample(frac=n)"
      ],
      "metadata": {
        "id": "JspchTMw2oVB"
      },
      "execution_count": 113,
      "outputs": []
    },
    {
      "cell_type": "markdown",
      "source": [
        "## Lemmatize (and then some)"
      ],
      "metadata": {
        "id": "8gtRHJQCk275"
      }
    },
    {
      "cell_type": "code",
      "source": [
        "nlp = spacy.load('en_core_web_lg')\n",
        "tokens = []\n",
        "for doc in nlp.pipe(df_sample['original_text']):\n",
        "  tokens.append([w.lemma_ for w in doc])"
      ],
      "metadata": {
        "id": "KNMp8qECQX5C"
      },
      "execution_count": 114,
      "outputs": []
    },
    {
      "cell_type": "code",
      "source": [
        "df_AoA = pd.read_csv('AoA_51715_words.csv', encoding= 'unicode_escape')\n",
        "\n",
        "# load words and ages into dictionary\n",
        "age = {}\n",
        "for _, w in df_AoA.iterrows():\n",
        "  age[w[0]] = w[10]\n",
        "  if w[0] != w[1]:\n",
        "    age[w[1]] = w[10]\n",
        "\n",
        "df_AoA.sample(10)"
      ],
      "metadata": {
        "id": "eT3vVgzv21RV",
        "outputId": "02f8818e-0c28-4139-94c6-9c922ebacf66",
        "colab": {
          "base_uri": "https://localhost:8080/",
          "height": 427
        }
      },
      "execution_count": 115,
      "outputs": [
        {
          "output_type": "execute_result",
          "data": {
            "text/plain": [
              "               Word Alternative.spelling  Freq_pm Dom_PoS_SUBTLEX  Nletters  \\\n",
              "964    aircraftsman         aircraftsman     0.02            Noun        12   \n",
              "29707        mutter               mutter     0.43            Verb         6   \n",
              "21731        hiking               hiking     2.65            Verb         6   \n",
              "8919      commodity            commodity     1.65            Noun         9   \n",
              "32539       pasting              pasting     0.22            Verb         7   \n",
              "20511  guardianship         guardianship     0.49            Noun        12   \n",
              "12071   deliverymen          deliverymen     0.00             NaN        11   \n",
              "21707      highness             highness    15.82            Noun         8   \n",
              "38540       reverts              reverts     0.12            Verb         7   \n",
              "3017   backtracking         backtracking     0.18            Verb        12   \n",
              "\n",
              "       Nphon  Nsyll Lemma_highest_PoS  AoA_Kup  Perc_known  AoA_Kup_lem  \\\n",
              "964       12      4      aircraftsman    11.67        0.95        11.67   \n",
              "29707      4      2            mutter     9.50        1.00         9.50   \n",
              "21731      5      2              hike      NaN         NaN         9.40   \n",
              "8919       8      4         commodity    13.53        1.00        13.53   \n",
              "32539      6      2             paste      NaN         NaN         4.84   \n",
              "20511     10      4      guardianship     9.48        1.00         9.48   \n",
              "12071     11      5       deliveryman      NaN         NaN         7.76   \n",
              "21707      5      2          highness     7.35        1.00         7.35   \n",
              "38540      6      2            revert      NaN         NaN        13.11   \n",
              "3017       9      3         backtrack      NaN         NaN        11.75   \n",
              "\n",
              "       Perc_known_lem  AoA_Bird_lem  AoA_Bristol_lem  AoA_Cort_lem  AoA_Schock  \n",
              "964              0.95           NaN              NaN           NaN         NaN  \n",
              "29707            1.00           NaN              NaN           NaN         NaN  \n",
              "21731            1.00          7.96              NaN          6.60         NaN  \n",
              "8919             1.00           NaN              NaN           NaN         NaN  \n",
              "32539            1.00           NaN             6.41          5.82         NaN  \n",
              "20511            1.00           NaN              NaN           NaN         NaN  \n",
              "12071            0.94           NaN              NaN           NaN         NaN  \n",
              "21707            1.00           NaN              NaN           NaN         NaN  \n",
              "38540            1.00         11.63              NaN           NaN        10.9  \n",
              "3017             1.00           NaN              NaN           NaN         NaN  "
            ],
            "text/html": [
              "\n",
              "  <div id=\"df-76620bdc-9677-4bfc-a9fb-05a006c9b635\">\n",
              "    <div class=\"colab-df-container\">\n",
              "      <div>\n",
              "<style scoped>\n",
              "    .dataframe tbody tr th:only-of-type {\n",
              "        vertical-align: middle;\n",
              "    }\n",
              "\n",
              "    .dataframe tbody tr th {\n",
              "        vertical-align: top;\n",
              "    }\n",
              "\n",
              "    .dataframe thead th {\n",
              "        text-align: right;\n",
              "    }\n",
              "</style>\n",
              "<table border=\"1\" class=\"dataframe\">\n",
              "  <thead>\n",
              "    <tr style=\"text-align: right;\">\n",
              "      <th></th>\n",
              "      <th>Word</th>\n",
              "      <th>Alternative.spelling</th>\n",
              "      <th>Freq_pm</th>\n",
              "      <th>Dom_PoS_SUBTLEX</th>\n",
              "      <th>Nletters</th>\n",
              "      <th>Nphon</th>\n",
              "      <th>Nsyll</th>\n",
              "      <th>Lemma_highest_PoS</th>\n",
              "      <th>AoA_Kup</th>\n",
              "      <th>Perc_known</th>\n",
              "      <th>AoA_Kup_lem</th>\n",
              "      <th>Perc_known_lem</th>\n",
              "      <th>AoA_Bird_lem</th>\n",
              "      <th>AoA_Bristol_lem</th>\n",
              "      <th>AoA_Cort_lem</th>\n",
              "      <th>AoA_Schock</th>\n",
              "    </tr>\n",
              "  </thead>\n",
              "  <tbody>\n",
              "    <tr>\n",
              "      <th>964</th>\n",
              "      <td>aircraftsman</td>\n",
              "      <td>aircraftsman</td>\n",
              "      <td>0.02</td>\n",
              "      <td>Noun</td>\n",
              "      <td>12</td>\n",
              "      <td>12</td>\n",
              "      <td>4</td>\n",
              "      <td>aircraftsman</td>\n",
              "      <td>11.67</td>\n",
              "      <td>0.95</td>\n",
              "      <td>11.67</td>\n",
              "      <td>0.95</td>\n",
              "      <td>NaN</td>\n",
              "      <td>NaN</td>\n",
              "      <td>NaN</td>\n",
              "      <td>NaN</td>\n",
              "    </tr>\n",
              "    <tr>\n",
              "      <th>29707</th>\n",
              "      <td>mutter</td>\n",
              "      <td>mutter</td>\n",
              "      <td>0.43</td>\n",
              "      <td>Verb</td>\n",
              "      <td>6</td>\n",
              "      <td>4</td>\n",
              "      <td>2</td>\n",
              "      <td>mutter</td>\n",
              "      <td>9.50</td>\n",
              "      <td>1.00</td>\n",
              "      <td>9.50</td>\n",
              "      <td>1.00</td>\n",
              "      <td>NaN</td>\n",
              "      <td>NaN</td>\n",
              "      <td>NaN</td>\n",
              "      <td>NaN</td>\n",
              "    </tr>\n",
              "    <tr>\n",
              "      <th>21731</th>\n",
              "      <td>hiking</td>\n",
              "      <td>hiking</td>\n",
              "      <td>2.65</td>\n",
              "      <td>Verb</td>\n",
              "      <td>6</td>\n",
              "      <td>5</td>\n",
              "      <td>2</td>\n",
              "      <td>hike</td>\n",
              "      <td>NaN</td>\n",
              "      <td>NaN</td>\n",
              "      <td>9.40</td>\n",
              "      <td>1.00</td>\n",
              "      <td>7.96</td>\n",
              "      <td>NaN</td>\n",
              "      <td>6.60</td>\n",
              "      <td>NaN</td>\n",
              "    </tr>\n",
              "    <tr>\n",
              "      <th>8919</th>\n",
              "      <td>commodity</td>\n",
              "      <td>commodity</td>\n",
              "      <td>1.65</td>\n",
              "      <td>Noun</td>\n",
              "      <td>9</td>\n",
              "      <td>8</td>\n",
              "      <td>4</td>\n",
              "      <td>commodity</td>\n",
              "      <td>13.53</td>\n",
              "      <td>1.00</td>\n",
              "      <td>13.53</td>\n",
              "      <td>1.00</td>\n",
              "      <td>NaN</td>\n",
              "      <td>NaN</td>\n",
              "      <td>NaN</td>\n",
              "      <td>NaN</td>\n",
              "    </tr>\n",
              "    <tr>\n",
              "      <th>32539</th>\n",
              "      <td>pasting</td>\n",
              "      <td>pasting</td>\n",
              "      <td>0.22</td>\n",
              "      <td>Verb</td>\n",
              "      <td>7</td>\n",
              "      <td>6</td>\n",
              "      <td>2</td>\n",
              "      <td>paste</td>\n",
              "      <td>NaN</td>\n",
              "      <td>NaN</td>\n",
              "      <td>4.84</td>\n",
              "      <td>1.00</td>\n",
              "      <td>NaN</td>\n",
              "      <td>6.41</td>\n",
              "      <td>5.82</td>\n",
              "      <td>NaN</td>\n",
              "    </tr>\n",
              "    <tr>\n",
              "      <th>20511</th>\n",
              "      <td>guardianship</td>\n",
              "      <td>guardianship</td>\n",
              "      <td>0.49</td>\n",
              "      <td>Noun</td>\n",
              "      <td>12</td>\n",
              "      <td>10</td>\n",
              "      <td>4</td>\n",
              "      <td>guardianship</td>\n",
              "      <td>9.48</td>\n",
              "      <td>1.00</td>\n",
              "      <td>9.48</td>\n",
              "      <td>1.00</td>\n",
              "      <td>NaN</td>\n",
              "      <td>NaN</td>\n",
              "      <td>NaN</td>\n",
              "      <td>NaN</td>\n",
              "    </tr>\n",
              "    <tr>\n",
              "      <th>12071</th>\n",
              "      <td>deliverymen</td>\n",
              "      <td>deliverymen</td>\n",
              "      <td>0.00</td>\n",
              "      <td>NaN</td>\n",
              "      <td>11</td>\n",
              "      <td>11</td>\n",
              "      <td>5</td>\n",
              "      <td>deliveryman</td>\n",
              "      <td>NaN</td>\n",
              "      <td>NaN</td>\n",
              "      <td>7.76</td>\n",
              "      <td>0.94</td>\n",
              "      <td>NaN</td>\n",
              "      <td>NaN</td>\n",
              "      <td>NaN</td>\n",
              "      <td>NaN</td>\n",
              "    </tr>\n",
              "    <tr>\n",
              "      <th>21707</th>\n",
              "      <td>highness</td>\n",
              "      <td>highness</td>\n",
              "      <td>15.82</td>\n",
              "      <td>Noun</td>\n",
              "      <td>8</td>\n",
              "      <td>5</td>\n",
              "      <td>2</td>\n",
              "      <td>highness</td>\n",
              "      <td>7.35</td>\n",
              "      <td>1.00</td>\n",
              "      <td>7.35</td>\n",
              "      <td>1.00</td>\n",
              "      <td>NaN</td>\n",
              "      <td>NaN</td>\n",
              "      <td>NaN</td>\n",
              "      <td>NaN</td>\n",
              "    </tr>\n",
              "    <tr>\n",
              "      <th>38540</th>\n",
              "      <td>reverts</td>\n",
              "      <td>reverts</td>\n",
              "      <td>0.12</td>\n",
              "      <td>Verb</td>\n",
              "      <td>7</td>\n",
              "      <td>6</td>\n",
              "      <td>2</td>\n",
              "      <td>revert</td>\n",
              "      <td>NaN</td>\n",
              "      <td>NaN</td>\n",
              "      <td>13.11</td>\n",
              "      <td>1.00</td>\n",
              "      <td>11.63</td>\n",
              "      <td>NaN</td>\n",
              "      <td>NaN</td>\n",
              "      <td>10.9</td>\n",
              "    </tr>\n",
              "    <tr>\n",
              "      <th>3017</th>\n",
              "      <td>backtracking</td>\n",
              "      <td>backtracking</td>\n",
              "      <td>0.18</td>\n",
              "      <td>Verb</td>\n",
              "      <td>12</td>\n",
              "      <td>9</td>\n",
              "      <td>3</td>\n",
              "      <td>backtrack</td>\n",
              "      <td>NaN</td>\n",
              "      <td>NaN</td>\n",
              "      <td>11.75</td>\n",
              "      <td>1.00</td>\n",
              "      <td>NaN</td>\n",
              "      <td>NaN</td>\n",
              "      <td>NaN</td>\n",
              "      <td>NaN</td>\n",
              "    </tr>\n",
              "  </tbody>\n",
              "</table>\n",
              "</div>\n",
              "      <button class=\"colab-df-convert\" onclick=\"convertToInteractive('df-76620bdc-9677-4bfc-a9fb-05a006c9b635')\"\n",
              "              title=\"Convert this dataframe to an interactive table.\"\n",
              "              style=\"display:none;\">\n",
              "        \n",
              "  <svg xmlns=\"http://www.w3.org/2000/svg\" height=\"24px\"viewBox=\"0 0 24 24\"\n",
              "       width=\"24px\">\n",
              "    <path d=\"M0 0h24v24H0V0z\" fill=\"none\"/>\n",
              "    <path d=\"M18.56 5.44l.94 2.06.94-2.06 2.06-.94-2.06-.94-.94-2.06-.94 2.06-2.06.94zm-11 1L8.5 8.5l.94-2.06 2.06-.94-2.06-.94L8.5 2.5l-.94 2.06-2.06.94zm10 10l.94 2.06.94-2.06 2.06-.94-2.06-.94-.94-2.06-.94 2.06-2.06.94z\"/><path d=\"M17.41 7.96l-1.37-1.37c-.4-.4-.92-.59-1.43-.59-.52 0-1.04.2-1.43.59L10.3 9.45l-7.72 7.72c-.78.78-.78 2.05 0 2.83L4 21.41c.39.39.9.59 1.41.59.51 0 1.02-.2 1.41-.59l7.78-7.78 2.81-2.81c.8-.78.8-2.07 0-2.86zM5.41 20L4 18.59l7.72-7.72 1.47 1.35L5.41 20z\"/>\n",
              "  </svg>\n",
              "      </button>\n",
              "      \n",
              "  <style>\n",
              "    .colab-df-container {\n",
              "      display:flex;\n",
              "      flex-wrap:wrap;\n",
              "      gap: 12px;\n",
              "    }\n",
              "\n",
              "    .colab-df-convert {\n",
              "      background-color: #E8F0FE;\n",
              "      border: none;\n",
              "      border-radius: 50%;\n",
              "      cursor: pointer;\n",
              "      display: none;\n",
              "      fill: #1967D2;\n",
              "      height: 32px;\n",
              "      padding: 0 0 0 0;\n",
              "      width: 32px;\n",
              "    }\n",
              "\n",
              "    .colab-df-convert:hover {\n",
              "      background-color: #E2EBFA;\n",
              "      box-shadow: 0px 1px 2px rgba(60, 64, 67, 0.3), 0px 1px 3px 1px rgba(60, 64, 67, 0.15);\n",
              "      fill: #174EA6;\n",
              "    }\n",
              "\n",
              "    [theme=dark] .colab-df-convert {\n",
              "      background-color: #3B4455;\n",
              "      fill: #D2E3FC;\n",
              "    }\n",
              "\n",
              "    [theme=dark] .colab-df-convert:hover {\n",
              "      background-color: #434B5C;\n",
              "      box-shadow: 0px 1px 3px 1px rgba(0, 0, 0, 0.15);\n",
              "      filter: drop-shadow(0px 1px 2px rgba(0, 0, 0, 0.3));\n",
              "      fill: #FFFFFF;\n",
              "    }\n",
              "  </style>\n",
              "\n",
              "      <script>\n",
              "        const buttonEl =\n",
              "          document.querySelector('#df-76620bdc-9677-4bfc-a9fb-05a006c9b635 button.colab-df-convert');\n",
              "        buttonEl.style.display =\n",
              "          google.colab.kernel.accessAllowed ? 'block' : 'none';\n",
              "\n",
              "        async function convertToInteractive(key) {\n",
              "          const element = document.querySelector('#df-76620bdc-9677-4bfc-a9fb-05a006c9b635');\n",
              "          const dataTable =\n",
              "            await google.colab.kernel.invokeFunction('convertToInteractive',\n",
              "                                                     [key], {});\n",
              "          if (!dataTable) return;\n",
              "\n",
              "          const docLinkHtml = 'Like what you see? Visit the ' +\n",
              "            '<a target=\"_blank\" href=https://colab.research.google.com/notebooks/data_table.ipynb>data table notebook</a>'\n",
              "            + ' to learn more about interactive tables.';\n",
              "          element.innerHTML = '';\n",
              "          dataTable['output_type'] = 'display_data';\n",
              "          await google.colab.output.renderOutput(dataTable, element);\n",
              "          const docLink = document.createElement('div');\n",
              "          docLink.innerHTML = docLinkHtml;\n",
              "          element.appendChild(docLink);\n",
              "        }\n",
              "      </script>\n",
              "    </div>\n",
              "  </div>\n",
              "  "
            ]
          },
          "metadata": {},
          "execution_count": 115
        }
      ]
    },
    {
      "cell_type": "code",
      "source": [],
      "metadata": {
        "id": "seR1HVa2MOAw"
      },
      "execution_count": 115,
      "outputs": []
    },
    {
      "cell_type": "markdown",
      "source": [
        "## Basic Features"
      ],
      "metadata": {
        "id": "l8GkkxN3awSO"
      }
    },
    {
      "cell_type": "code",
      "source": [
        "df_sample['num_lemmas'] = [len(s) for s in tokens]\n",
        "df_sample['min_age'] = [np.nanmin([age.get(w, np.nan) for w in s]) for s in tokens]\n",
        "df_sample['mean_age'] = [np.nanmean([age.get(w, np.nan) for w in s]) for s in tokens]\n",
        "df_sample['max_age'] = [np.nanmax([age.get(w, np.nan) for w in s]) for s in tokens]\n",
        "df_sample['num_listed'] = [len([w for w in s if age.get(w,0) > 0]) for s in tokens]\n",
        "df_sample['num_unlisted'] = df_sample['num_lemmas'] - df_sample['num_listed']"
      ],
      "metadata": {
        "id": "1WFHUO4IM_j5",
        "outputId": "640739d9-3d09-40d9-8889-b2fe8dca614f",
        "colab": {
          "base_uri": "https://localhost:8080/"
        }
      },
      "execution_count": 116,
      "outputs": [
        {
          "output_type": "stream",
          "name": "stderr",
          "text": [
            "/usr/local/lib/python3.7/dist-packages/ipykernel_launcher.py:2: RuntimeWarning: All-NaN axis encountered\n",
            "  \n",
            "/usr/local/lib/python3.7/dist-packages/ipykernel_launcher.py:3: RuntimeWarning: Mean of empty slice\n",
            "  This is separate from the ipykernel package so we can avoid doing imports until\n",
            "/usr/local/lib/python3.7/dist-packages/ipykernel_launcher.py:4: RuntimeWarning: All-NaN axis encountered\n",
            "  after removing the cwd from sys.path.\n"
          ]
        }
      ]
    },
    {
      "cell_type": "markdown",
      "source": [
        "## Feature Statistics"
      ],
      "metadata": {
        "id": "edD91KubbQF-"
      }
    },
    {
      "cell_type": "code",
      "source": [
        "means = df_sample.mean()\n",
        "sdevs = df_sample.std()\n",
        "\n",
        "mdict = {}\n",
        "for m in means:\n",
        "  mdict[means[means==m].index[0]] = m\n",
        "\n",
        "sdict = {}\n",
        "for s in sdevs:\n",
        "  sdict[sdevs[sdevs==s].index[0]] = s"
      ],
      "metadata": {
        "id": "h-TDlRL-XDtp"
      },
      "execution_count": null,
      "outputs": []
    },
    {
      "cell_type": "markdown",
      "source": [
        "## Z-Score Features"
      ],
      "metadata": {
        "id": "xoIQ-RgebVta"
      }
    },
    {
      "cell_type": "code",
      "source": [
        "for c in df_sample.columns[2:]:\n",
        "  df_sample[f'z_{c}'] = (df_sample[c] - means[c]) / sdevs[c]\n",
        "\n",
        "df_sample.head()"
      ],
      "metadata": {
        "id": "vnRtBuNbcCOa"
      },
      "execution_count": null,
      "outputs": []
    },
    {
      "cell_type": "markdown",
      "source": [
        "## Feature Importance"
      ],
      "metadata": {
        "id": "q6aPU1d0lQKr"
      }
    },
    {
      "cell_type": "code",
      "source": [
        "# Nan's break the model\n",
        "df_clean = df_sample.dropna()"
      ],
      "metadata": {
        "id": "uY4R-RqCfqk3"
      },
      "execution_count": null,
      "outputs": []
    },
    {
      "cell_type": "code",
      "source": [
        "X = df_clean[df_clean.columns[2:]]\n",
        "y = df_clean['label']\n",
        "X_train, X_test, y_train, y_test = train_test_split(X, y, test_size=0.2, random_state=42)"
      ],
      "metadata": {
        "id": "P4QN7gcRdHoo"
      },
      "execution_count": null,
      "outputs": []
    },
    {
      "cell_type": "code",
      "source": [
        "from sklearn.model_selection import GridSearchCV\n",
        "from sklearn.linear_model import Lasso, LogisticRegression\n",
        "from sklearn.pipeline import Pipeline\n",
        "from sklearn.metrics import classification_report"
      ],
      "metadata": {
        "id": "-Hfyzb7zeHN3"
      },
      "execution_count": null,
      "outputs": []
    },
    {
      "cell_type": "code",
      "source": [
        "Lasso().get_params().keys()"
      ],
      "metadata": {
        "id": "Y0o6DmAle1hE"
      },
      "execution_count": null,
      "outputs": []
    },
    {
      "cell_type": "code",
      "source": [
        "pipeline = Pipeline([('model',Lasso(random_state=42))])\n",
        "search = GridSearchCV(pipeline,{'model__alpha':np.arange(0.1,10,0.1)},\n",
        "                      cv = 5, scoring=\"neg_mean_squared_error\", verbose=0)\n",
        "search.fit(X_train,y_train)\n",
        "search.best_params_"
      ],
      "metadata": {
        "id": "GNfDxVYhd8f5"
      },
      "execution_count": null,
      "outputs": []
    },
    {
      "cell_type": "code",
      "source": [
        "coefficients = search.best_estimator_.named_steps['model'].coef_\n",
        "importance = np.abs(coefficients)\n",
        "print(importance)"
      ],
      "metadata": {
        "id": "n1Q2zVM9fKlu"
      },
      "execution_count": null,
      "outputs": []
    },
    {
      "cell_type": "code",
      "source": [
        "np.array(df_clean.columns[2:])[importance > 0]"
      ],
      "metadata": {
        "id": "cxpXItVPf7A3"
      },
      "execution_count": null,
      "outputs": []
    },
    {
      "cell_type": "markdown",
      "source": [
        "## Regression"
      ],
      "metadata": {
        "id": "4crg5p-NlWPf"
      }
    },
    {
      "cell_type": "code",
      "source": [
        "lr = LogisticRegression(max_iter=10000)\n",
        "lr.fit(X_train, y_train)\n",
        "pred = lr.predict(X_test)\n",
        "print(classification_report(y_test, pred))"
      ],
      "metadata": {
        "id": "4M_BrjYXhTwp"
      },
      "execution_count": null,
      "outputs": []
    }
  ],
  "metadata": {
    "kernelspec": {
      "display_name": "Python 3.9.12 ('base')",
      "language": "python",
      "name": "python3"
    },
    "language_info": {
      "name": "python",
      "version": "3.9.12"
    },
    "orig_nbformat": 4,
    "vscode": {
      "interpreter": {
        "hash": "e86a01f8672329bed3ce100df0440b53eafb97913bffe091b7b7f0884404a676"
      }
    },
    "colab": {
      "provenance": [],
      "include_colab_link": true
    }
  },
  "nbformat": 4,
  "nbformat_minor": 0
}