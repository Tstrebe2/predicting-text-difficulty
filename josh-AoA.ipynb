{
  "cells": [
    {
      "cell_type": "markdown",
      "metadata": {
        "id": "view-in-github",
        "colab_type": "text"
      },
      "source": [
        "<a href=\"https://colab.research.google.com/github/Tstrebe2/predicting-text-difficulty/blob/josh-updates/josh-AoA.ipynb\" target=\"_parent\"><img src=\"https://colab.research.google.com/assets/colab-badge.svg\" alt=\"Open In Colab\"/></a>"
      ]
    },
    {
      "cell_type": "markdown",
      "source": [
        "## Imports"
      ],
      "metadata": {
        "id": "3KJHDpLbki8A"
      }
    },
    {
      "cell_type": "code",
      "source": [
        "# import sys\n",
        "import pandas as pd\n",
        "import numpy as np\n",
        "import spacy\n",
        "from sklearn.model_selection import train_test_split\n",
        "from sklearn.preprocessing import StandardScaler\n",
        "from sklearn.decomposition import PCA\n",
        "import matplotlib.pyplot as plt\n",
        "import seaborn as sns\n",
        "import clean_wiki as cw  # custom cleaning module\n",
        "\n",
        "# installers\n",
        "# !{sys.executable} -m pip install pyspark -q\n",
        "# !{sys.executable} -m pip install -U spacy -q\n",
        "# !{sys.executable} -m spacy download en_core_web_lg -q\n",
        "# !{sys.executable} -m pip install sklearn -q"
      ],
      "metadata": {
        "id": "ylsbWwuQuhw-"
      },
      "execution_count": 58,
      "outputs": []
    },
    {
      "cell_type": "code",
      "source": [
        "n = 10000  # sample size (number if > 1 else fraction)\n",
        "\n",
        "grade_level = [   # school level by age\n",
        "    (3, 4, 0, 'Foundation'),\n",
        "    (4, 5, 0, 'Foundation'),\n",
        "    (5, 6, 1, 'Primary'),\n",
        "    (6, 7, 1, 'Primary'),\n",
        "    (7, 8, 1, 'Primary'),\n",
        "    (8, 9, 1, 'Primary'),\n",
        "    (9, 10, 1, 'Primary'),\n",
        "    (10, 11, 1, 'Primary'),\n",
        "    (11, 12, 2, 'MiddleSchool'),\n",
        "    (12, 13, 2, 'MiddleSchool'),\n",
        "    (13, 14, 2, 'MiddleSchool'),\n",
        "    (14, 15, 3, 'IGCSE'),\n",
        "    (15, 16, 3, 'IGCSE'),\n",
        "    (16, 17, 3, 'IB'),\n",
        "    (17, 18, 3, 'IB'),\n",
        "    (19, 200, 3, 'College')\n",
        "]\n",
        "\n",
        "def grade_finder(age):\n",
        "  for i in grade_level:\n",
        "    if i[0] <= age <= i[1]:\n",
        "      return i[2]\n",
        "  return -1"
      ],
      "metadata": {
        "id": "tEIwDJG8rKoZ"
      },
      "execution_count": 59,
      "outputs": []
    },
    {
      "cell_type": "markdown",
      "source": [
        "## Dataset"
      ],
      "metadata": {
        "id": "wRp8I5w-kvwC"
      }
    },
    {
      "cell_type": "code",
      "execution_count": 60,
      "metadata": {
        "colab": {
          "base_uri": "https://localhost:8080/",
          "height": 680
        },
        "id": "U1c7Wfd0uO5q",
        "outputId": "b4130f0b-74a1-4fc8-8926-32ab22aeea04"
      },
      "outputs": [
        {
          "output_type": "stream",
          "name": "stdout",
          "text": [
            "root\n",
            " |-- original_text: string (nullable = true)\n",
            " |-- label: string (nullable = true)\n",
            "\n",
            "+--------------------------------------------------------------------------------------------------------------------------------------------------------------------------------------------------------------------------------------------------------+-----+\n",
            "|original_text                                                                                                                                                                                                                                           |label|\n",
            "+--------------------------------------------------------------------------------------------------------------------------------------------------------------------------------------------------------------------------------------------------------+-----+\n",
            "|There is manuscript evidence that Austen continued to work on these pieces as late as the period 1809 â '' 11 , and that her niece and nephew , Anna and James Edward Austen , made further additions as late as 1814 .                                 |1    |\n",
            "|In a remarkable comparative analysis , Mandaean scholar Säve-Söderberg demonstrated that Mani 's Psalms of Thomas were closely related to Mandaean texts .                                                                                              |1    |\n",
            "|Before Persephone was released to Hermes , who had been sent to retrieve her , Hades tricked her into eating pomegranate seeds , -LRB- six or three according to the telling -RRB- which forced her to return to the underworld for a period each year .|1    |\n",
            "|Cogeneration plants are commonly found in district heating systems of cities , hospitals , prisons , oil refineries , paper mills , wastewater treatment plants , thermal enhanced oil recovery wells and industrial plants with large heating needs .  |1    |\n",
            "|Geneva -LRB- , ; , ; , ; ; -RRB- is the second-most-populous city in Switzerland -LRB- after Zürich -RRB- and is the most populous city of Romandie -LRB- the French-speaking part of Switzerland -RRB- .                                               |1    |\n",
            "+--------------------------------------------------------------------------------------------------------------------------------------------------------------------------------------------------------------------------------------------------------+-----+\n",
            "\n",
            "+--------------------------------------------------------------------------------------------------------------------------------------------------------------------------------------------------------------------------------------------------------+-----+\n",
            "|original_text                                                                                                                                                                                                                                           |label|\n",
            "+--------------------------------------------------------------------------------------------------------------------------------------------------------------------------------------------------------------------------------------------------------+-----+\n",
            "|There is manuscript evidence that Austen continued to work on these pieces as late as the period 1809 â '' 11 , and that her niece and nephew , Anna and James Edward Austen , made further additions as late as 1814 .                                 |1    |\n",
            "|In a remarkable comparative analysis , Mandaean scholar Säve-Söderberg demonstrated that Mani 's Psalms of Thomas were closely related to Mandaean texts .                                                                                              |1    |\n",
            "|Before Persephone was released to Hermes , who had been sent to retrieve her , Hades tricked her into eating pomegranate seeds , -LRB- six or three according to the telling -RRB- which forced her to return to the underworld for a period each year .|1    |\n",
            "|Cogeneration plants are commonly found in district heating systems of cities , hospitals , prisons , oil refineries , paper mills , wastewater treatment plants , thermal enhanced oil recovery wells and industrial plants with large heating needs .  |1    |\n",
            "|Geneva -LRB- , ; , ; , ; ; -RRB- is the second-most-populous city in Switzerland -LRB- after Zürich -RRB- and is the most populous city of Romandie -LRB- the French-speaking part of Switzerland -RRB- .                                               |1    |\n",
            "+--------------------------------------------------------------------------------------------------------------------------------------------------------------------------------------------------------------------------------------------------------+-----+\n",
            "only showing top 5 rows\n",
            "\n"
          ]
        },
        {
          "output_type": "execute_result",
          "data": {
            "text/plain": [
              "                                       original_text label\n",
              "0  There is manuscript evidence that Austen conti...     1\n",
              "1  In a remarkable comparative analysis , Mandaea...     1\n",
              "2  Before Persephone was released to Hermes , who...     1\n",
              "3  Cogeneration plants are commonly found in dist...     1\n",
              "4  Geneva -LRB- , ; , ; , ; ; -RRB- is the second...     1"
            ],
            "text/html": [
              "\n",
              "  <div id=\"df-4aa4882b-a1f4-43b0-9ba2-33f24170206c\">\n",
              "    <div class=\"colab-df-container\">\n",
              "      <div>\n",
              "<style scoped>\n",
              "    .dataframe tbody tr th:only-of-type {\n",
              "        vertical-align: middle;\n",
              "    }\n",
              "\n",
              "    .dataframe tbody tr th {\n",
              "        vertical-align: top;\n",
              "    }\n",
              "\n",
              "    .dataframe thead th {\n",
              "        text-align: right;\n",
              "    }\n",
              "</style>\n",
              "<table border=\"1\" class=\"dataframe\">\n",
              "  <thead>\n",
              "    <tr style=\"text-align: right;\">\n",
              "      <th></th>\n",
              "      <th>original_text</th>\n",
              "      <th>label</th>\n",
              "    </tr>\n",
              "  </thead>\n",
              "  <tbody>\n",
              "    <tr>\n",
              "      <th>0</th>\n",
              "      <td>There is manuscript evidence that Austen conti...</td>\n",
              "      <td>1</td>\n",
              "    </tr>\n",
              "    <tr>\n",
              "      <th>1</th>\n",
              "      <td>In a remarkable comparative analysis , Mandaea...</td>\n",
              "      <td>1</td>\n",
              "    </tr>\n",
              "    <tr>\n",
              "      <th>2</th>\n",
              "      <td>Before Persephone was released to Hermes , who...</td>\n",
              "      <td>1</td>\n",
              "    </tr>\n",
              "    <tr>\n",
              "      <th>3</th>\n",
              "      <td>Cogeneration plants are commonly found in dist...</td>\n",
              "      <td>1</td>\n",
              "    </tr>\n",
              "    <tr>\n",
              "      <th>4</th>\n",
              "      <td>Geneva -LRB- , ; , ; , ; ; -RRB- is the second...</td>\n",
              "      <td>1</td>\n",
              "    </tr>\n",
              "  </tbody>\n",
              "</table>\n",
              "</div>\n",
              "      <button class=\"colab-df-convert\" onclick=\"convertToInteractive('df-4aa4882b-a1f4-43b0-9ba2-33f24170206c')\"\n",
              "              title=\"Convert this dataframe to an interactive table.\"\n",
              "              style=\"display:none;\">\n",
              "        \n",
              "  <svg xmlns=\"http://www.w3.org/2000/svg\" height=\"24px\"viewBox=\"0 0 24 24\"\n",
              "       width=\"24px\">\n",
              "    <path d=\"M0 0h24v24H0V0z\" fill=\"none\"/>\n",
              "    <path d=\"M18.56 5.44l.94 2.06.94-2.06 2.06-.94-2.06-.94-.94-2.06-.94 2.06-2.06.94zm-11 1L8.5 8.5l.94-2.06 2.06-.94-2.06-.94L8.5 2.5l-.94 2.06-2.06.94zm10 10l.94 2.06.94-2.06 2.06-.94-2.06-.94-.94-2.06-.94 2.06-2.06.94z\"/><path d=\"M17.41 7.96l-1.37-1.37c-.4-.4-.92-.59-1.43-.59-.52 0-1.04.2-1.43.59L10.3 9.45l-7.72 7.72c-.78.78-.78 2.05 0 2.83L4 21.41c.39.39.9.59 1.41.59.51 0 1.02-.2 1.41-.59l7.78-7.78 2.81-2.81c.8-.78.8-2.07 0-2.86zM5.41 20L4 18.59l7.72-7.72 1.47 1.35L5.41 20z\"/>\n",
              "  </svg>\n",
              "      </button>\n",
              "      \n",
              "  <style>\n",
              "    .colab-df-container {\n",
              "      display:flex;\n",
              "      flex-wrap:wrap;\n",
              "      gap: 12px;\n",
              "    }\n",
              "\n",
              "    .colab-df-convert {\n",
              "      background-color: #E8F0FE;\n",
              "      border: none;\n",
              "      border-radius: 50%;\n",
              "      cursor: pointer;\n",
              "      display: none;\n",
              "      fill: #1967D2;\n",
              "      height: 32px;\n",
              "      padding: 0 0 0 0;\n",
              "      width: 32px;\n",
              "    }\n",
              "\n",
              "    .colab-df-convert:hover {\n",
              "      background-color: #E2EBFA;\n",
              "      box-shadow: 0px 1px 2px rgba(60, 64, 67, 0.3), 0px 1px 3px 1px rgba(60, 64, 67, 0.15);\n",
              "      fill: #174EA6;\n",
              "    }\n",
              "\n",
              "    [theme=dark] .colab-df-convert {\n",
              "      background-color: #3B4455;\n",
              "      fill: #D2E3FC;\n",
              "    }\n",
              "\n",
              "    [theme=dark] .colab-df-convert:hover {\n",
              "      background-color: #434B5C;\n",
              "      box-shadow: 0px 1px 3px 1px rgba(0, 0, 0, 0.15);\n",
              "      filter: drop-shadow(0px 1px 2px rgba(0, 0, 0, 0.3));\n",
              "      fill: #FFFFFF;\n",
              "    }\n",
              "  </style>\n",
              "\n",
              "      <script>\n",
              "        const buttonEl =\n",
              "          document.querySelector('#df-4aa4882b-a1f4-43b0-9ba2-33f24170206c button.colab-df-convert');\n",
              "        buttonEl.style.display =\n",
              "          google.colab.kernel.accessAllowed ? 'block' : 'none';\n",
              "\n",
              "        async function convertToInteractive(key) {\n",
              "          const element = document.querySelector('#df-4aa4882b-a1f4-43b0-9ba2-33f24170206c');\n",
              "          const dataTable =\n",
              "            await google.colab.kernel.invokeFunction('convertToInteractive',\n",
              "                                                     [key], {});\n",
              "          if (!dataTable) return;\n",
              "\n",
              "          const docLinkHtml = 'Like what you see? Visit the ' +\n",
              "            '<a target=\"_blank\" href=https://colab.research.google.com/notebooks/data_table.ipynb>data table notebook</a>'\n",
              "            + ' to learn more about interactive tables.';\n",
              "          element.innerHTML = '';\n",
              "          dataTable['output_type'] = 'display_data';\n",
              "          await google.colab.output.renderOutput(dataTable, element);\n",
              "          const docLink = document.createElement('div');\n",
              "          docLink.innerHTML = docLinkHtml;\n",
              "          element.appendChild(docLink);\n",
              "        }\n",
              "      </script>\n",
              "    </div>\n",
              "  </div>\n",
              "  "
            ]
          },
          "metadata": {},
          "execution_count": 60
        }
      ],
      "source": [
        "df = cw.process_file('WikiLarge_Train.csv')\n",
        "df.head()"
      ]
    },
    {
      "cell_type": "code",
      "source": [
        "df_sample = df.sample(n) if n >= 1 else df.sample(frac=n)"
      ],
      "metadata": {
        "id": "JspchTMw2oVB"
      },
      "execution_count": 61,
      "outputs": []
    },
    {
      "cell_type": "markdown",
      "source": [
        "## Lemmatize (and then some)"
      ],
      "metadata": {
        "id": "8gtRHJQCk275"
      }
    },
    {
      "cell_type": "code",
      "source": [
        "nlp = spacy.load('en_core_web_lg')\n",
        "tokens = []\n",
        "for doc in nlp.pipe(df_sample['original_text'], n_process=4):\n",
        "  tokens.append([w.lemma_ for w in doc])"
      ],
      "metadata": {
        "id": "KNMp8qECQX5C"
      },
      "execution_count": 62,
      "outputs": []
    },
    {
      "cell_type": "code",
      "source": [
        "df_AoA = pd.read_csv('AoA_51715_words.csv', encoding= 'unicode_escape')\n",
        "\n",
        "# load words and ages into dictionary\n",
        "age = {}\n",
        "for _, w in df_AoA.iterrows():\n",
        "  age[w[0]] = w[10]\n",
        "  if w[0] != w[1]:\n",
        "    age[w[1]] = w[10]\n",
        "\n",
        "df_AoA.sample(10)"
      ],
      "metadata": {
        "colab": {
          "base_uri": "https://localhost:8080/",
          "height": 427
        },
        "id": "eT3vVgzv21RV",
        "outputId": "2db8fb8b-04a9-478b-cf64-c9c78aaf5a5b"
      },
      "execution_count": 63,
      "outputs": [
        {
          "output_type": "execute_result",
          "data": {
            "text/plain": [
              "                  Word Alternative.spelling  Freq_pm Dom_PoS_SUBTLEX  \\\n",
              "33748          pistons              pistons     0.92            Noun   \n",
              "19522            gifts                gifts    14.35            Noun   \n",
              "38975          rompers              rompers     0.06            Noun   \n",
              "15704  epidemiological      epidemiological     0.04       Adjective   \n",
              "28869    misunderstand        misunderstand     3.29            Verb   \n",
              "49339          vacancy              vacancy     0.88            Noun   \n",
              "42294           snorer               snorer     0.02            Noun   \n",
              "12379            derma                derma     0.10            Noun   \n",
              "1338            amends               amends     1.84            Noun   \n",
              "43684          stellar              stellar     0.80       Adjective   \n",
              "\n",
              "       Nletters  Nphon  Nsyll Lemma_highest_PoS  AoA_Kup  Perc_known  \\\n",
              "33748         7      7      2            piston      NaN         NaN   \n",
              "19522         5      5      1              gift      NaN         NaN   \n",
              "38975         7      6      2            romper      NaN         NaN   \n",
              "15704        15     15      8   epidemiological    15.33        0.95   \n",
              "28869        13     12      4     misunderstand     8.52        1.00   \n",
              "49339         7      7      3           vacancy     8.05        1.00   \n",
              "42294         6      5      2            snorer     7.79        1.00   \n",
              "12379         5      4      2             derma    13.93        0.83   \n",
              "1338          6      6      2            amends    10.16        1.00   \n",
              "43684         7      5      2           stellar    11.53        1.00   \n",
              "\n",
              "       AoA_Kup_lem  Perc_known_lem  AoA_Bird_lem  AoA_Bristol_lem  \\\n",
              "33748        10.37            1.00           NaN              NaN   \n",
              "19522         5.05            1.00           NaN             5.24   \n",
              "38975        13.28            0.95           NaN              NaN   \n",
              "15704        15.33            0.95           NaN              NaN   \n",
              "28869         8.52            1.00           NaN              NaN   \n",
              "49339         8.05            1.00           NaN              NaN   \n",
              "42294         7.79            1.00           NaN              NaN   \n",
              "12379        13.93            0.83           NaN              NaN   \n",
              "1338         10.16            1.00           NaN              NaN   \n",
              "43684        11.53            1.00           NaN              NaN   \n",
              "\n",
              "       AoA_Cort_lem  AoA_Schock  \n",
              "33748           NaN       12.53  \n",
              "19522          4.79         NaN  \n",
              "38975           NaN         NaN  \n",
              "15704           NaN         NaN  \n",
              "28869           NaN         NaN  \n",
              "49339           NaN         NaN  \n",
              "42294           NaN         NaN  \n",
              "12379           NaN         NaN  \n",
              "1338            NaN         NaN  \n",
              "43684           NaN       11.49  "
            ],
            "text/html": [
              "\n",
              "  <div id=\"df-a6dad79e-1144-4673-9cfc-082487107df9\">\n",
              "    <div class=\"colab-df-container\">\n",
              "      <div>\n",
              "<style scoped>\n",
              "    .dataframe tbody tr th:only-of-type {\n",
              "        vertical-align: middle;\n",
              "    }\n",
              "\n",
              "    .dataframe tbody tr th {\n",
              "        vertical-align: top;\n",
              "    }\n",
              "\n",
              "    .dataframe thead th {\n",
              "        text-align: right;\n",
              "    }\n",
              "</style>\n",
              "<table border=\"1\" class=\"dataframe\">\n",
              "  <thead>\n",
              "    <tr style=\"text-align: right;\">\n",
              "      <th></th>\n",
              "      <th>Word</th>\n",
              "      <th>Alternative.spelling</th>\n",
              "      <th>Freq_pm</th>\n",
              "      <th>Dom_PoS_SUBTLEX</th>\n",
              "      <th>Nletters</th>\n",
              "      <th>Nphon</th>\n",
              "      <th>Nsyll</th>\n",
              "      <th>Lemma_highest_PoS</th>\n",
              "      <th>AoA_Kup</th>\n",
              "      <th>Perc_known</th>\n",
              "      <th>AoA_Kup_lem</th>\n",
              "      <th>Perc_known_lem</th>\n",
              "      <th>AoA_Bird_lem</th>\n",
              "      <th>AoA_Bristol_lem</th>\n",
              "      <th>AoA_Cort_lem</th>\n",
              "      <th>AoA_Schock</th>\n",
              "    </tr>\n",
              "  </thead>\n",
              "  <tbody>\n",
              "    <tr>\n",
              "      <th>33748</th>\n",
              "      <td>pistons</td>\n",
              "      <td>pistons</td>\n",
              "      <td>0.92</td>\n",
              "      <td>Noun</td>\n",
              "      <td>7</td>\n",
              "      <td>7</td>\n",
              "      <td>2</td>\n",
              "      <td>piston</td>\n",
              "      <td>NaN</td>\n",
              "      <td>NaN</td>\n",
              "      <td>10.37</td>\n",
              "      <td>1.00</td>\n",
              "      <td>NaN</td>\n",
              "      <td>NaN</td>\n",
              "      <td>NaN</td>\n",
              "      <td>12.53</td>\n",
              "    </tr>\n",
              "    <tr>\n",
              "      <th>19522</th>\n",
              "      <td>gifts</td>\n",
              "      <td>gifts</td>\n",
              "      <td>14.35</td>\n",
              "      <td>Noun</td>\n",
              "      <td>5</td>\n",
              "      <td>5</td>\n",
              "      <td>1</td>\n",
              "      <td>gift</td>\n",
              "      <td>NaN</td>\n",
              "      <td>NaN</td>\n",
              "      <td>5.05</td>\n",
              "      <td>1.00</td>\n",
              "      <td>NaN</td>\n",
              "      <td>5.24</td>\n",
              "      <td>4.79</td>\n",
              "      <td>NaN</td>\n",
              "    </tr>\n",
              "    <tr>\n",
              "      <th>38975</th>\n",
              "      <td>rompers</td>\n",
              "      <td>rompers</td>\n",
              "      <td>0.06</td>\n",
              "      <td>Noun</td>\n",
              "      <td>7</td>\n",
              "      <td>6</td>\n",
              "      <td>2</td>\n",
              "      <td>romper</td>\n",
              "      <td>NaN</td>\n",
              "      <td>NaN</td>\n",
              "      <td>13.28</td>\n",
              "      <td>0.95</td>\n",
              "      <td>NaN</td>\n",
              "      <td>NaN</td>\n",
              "      <td>NaN</td>\n",
              "      <td>NaN</td>\n",
              "    </tr>\n",
              "    <tr>\n",
              "      <th>15704</th>\n",
              "      <td>epidemiological</td>\n",
              "      <td>epidemiological</td>\n",
              "      <td>0.04</td>\n",
              "      <td>Adjective</td>\n",
              "      <td>15</td>\n",
              "      <td>15</td>\n",
              "      <td>8</td>\n",
              "      <td>epidemiological</td>\n",
              "      <td>15.33</td>\n",
              "      <td>0.95</td>\n",
              "      <td>15.33</td>\n",
              "      <td>0.95</td>\n",
              "      <td>NaN</td>\n",
              "      <td>NaN</td>\n",
              "      <td>NaN</td>\n",
              "      <td>NaN</td>\n",
              "    </tr>\n",
              "    <tr>\n",
              "      <th>28869</th>\n",
              "      <td>misunderstand</td>\n",
              "      <td>misunderstand</td>\n",
              "      <td>3.29</td>\n",
              "      <td>Verb</td>\n",
              "      <td>13</td>\n",
              "      <td>12</td>\n",
              "      <td>4</td>\n",
              "      <td>misunderstand</td>\n",
              "      <td>8.52</td>\n",
              "      <td>1.00</td>\n",
              "      <td>8.52</td>\n",
              "      <td>1.00</td>\n",
              "      <td>NaN</td>\n",
              "      <td>NaN</td>\n",
              "      <td>NaN</td>\n",
              "      <td>NaN</td>\n",
              "    </tr>\n",
              "    <tr>\n",
              "      <th>49339</th>\n",
              "      <td>vacancy</td>\n",
              "      <td>vacancy</td>\n",
              "      <td>0.88</td>\n",
              "      <td>Noun</td>\n",
              "      <td>7</td>\n",
              "      <td>7</td>\n",
              "      <td>3</td>\n",
              "      <td>vacancy</td>\n",
              "      <td>8.05</td>\n",
              "      <td>1.00</td>\n",
              "      <td>8.05</td>\n",
              "      <td>1.00</td>\n",
              "      <td>NaN</td>\n",
              "      <td>NaN</td>\n",
              "      <td>NaN</td>\n",
              "      <td>NaN</td>\n",
              "    </tr>\n",
              "    <tr>\n",
              "      <th>42294</th>\n",
              "      <td>snorer</td>\n",
              "      <td>snorer</td>\n",
              "      <td>0.02</td>\n",
              "      <td>Noun</td>\n",
              "      <td>6</td>\n",
              "      <td>5</td>\n",
              "      <td>2</td>\n",
              "      <td>snorer</td>\n",
              "      <td>7.79</td>\n",
              "      <td>1.00</td>\n",
              "      <td>7.79</td>\n",
              "      <td>1.00</td>\n",
              "      <td>NaN</td>\n",
              "      <td>NaN</td>\n",
              "      <td>NaN</td>\n",
              "      <td>NaN</td>\n",
              "    </tr>\n",
              "    <tr>\n",
              "      <th>12379</th>\n",
              "      <td>derma</td>\n",
              "      <td>derma</td>\n",
              "      <td>0.10</td>\n",
              "      <td>Noun</td>\n",
              "      <td>5</td>\n",
              "      <td>4</td>\n",
              "      <td>2</td>\n",
              "      <td>derma</td>\n",
              "      <td>13.93</td>\n",
              "      <td>0.83</td>\n",
              "      <td>13.93</td>\n",
              "      <td>0.83</td>\n",
              "      <td>NaN</td>\n",
              "      <td>NaN</td>\n",
              "      <td>NaN</td>\n",
              "      <td>NaN</td>\n",
              "    </tr>\n",
              "    <tr>\n",
              "      <th>1338</th>\n",
              "      <td>amends</td>\n",
              "      <td>amends</td>\n",
              "      <td>1.84</td>\n",
              "      <td>Noun</td>\n",
              "      <td>6</td>\n",
              "      <td>6</td>\n",
              "      <td>2</td>\n",
              "      <td>amends</td>\n",
              "      <td>10.16</td>\n",
              "      <td>1.00</td>\n",
              "      <td>10.16</td>\n",
              "      <td>1.00</td>\n",
              "      <td>NaN</td>\n",
              "      <td>NaN</td>\n",
              "      <td>NaN</td>\n",
              "      <td>NaN</td>\n",
              "    </tr>\n",
              "    <tr>\n",
              "      <th>43684</th>\n",
              "      <td>stellar</td>\n",
              "      <td>stellar</td>\n",
              "      <td>0.80</td>\n",
              "      <td>Adjective</td>\n",
              "      <td>7</td>\n",
              "      <td>5</td>\n",
              "      <td>2</td>\n",
              "      <td>stellar</td>\n",
              "      <td>11.53</td>\n",
              "      <td>1.00</td>\n",
              "      <td>11.53</td>\n",
              "      <td>1.00</td>\n",
              "      <td>NaN</td>\n",
              "      <td>NaN</td>\n",
              "      <td>NaN</td>\n",
              "      <td>11.49</td>\n",
              "    </tr>\n",
              "  </tbody>\n",
              "</table>\n",
              "</div>\n",
              "      <button class=\"colab-df-convert\" onclick=\"convertToInteractive('df-a6dad79e-1144-4673-9cfc-082487107df9')\"\n",
              "              title=\"Convert this dataframe to an interactive table.\"\n",
              "              style=\"display:none;\">\n",
              "        \n",
              "  <svg xmlns=\"http://www.w3.org/2000/svg\" height=\"24px\"viewBox=\"0 0 24 24\"\n",
              "       width=\"24px\">\n",
              "    <path d=\"M0 0h24v24H0V0z\" fill=\"none\"/>\n",
              "    <path d=\"M18.56 5.44l.94 2.06.94-2.06 2.06-.94-2.06-.94-.94-2.06-.94 2.06-2.06.94zm-11 1L8.5 8.5l.94-2.06 2.06-.94-2.06-.94L8.5 2.5l-.94 2.06-2.06.94zm10 10l.94 2.06.94-2.06 2.06-.94-2.06-.94-.94-2.06-.94 2.06-2.06.94z\"/><path d=\"M17.41 7.96l-1.37-1.37c-.4-.4-.92-.59-1.43-.59-.52 0-1.04.2-1.43.59L10.3 9.45l-7.72 7.72c-.78.78-.78 2.05 0 2.83L4 21.41c.39.39.9.59 1.41.59.51 0 1.02-.2 1.41-.59l7.78-7.78 2.81-2.81c.8-.78.8-2.07 0-2.86zM5.41 20L4 18.59l7.72-7.72 1.47 1.35L5.41 20z\"/>\n",
              "  </svg>\n",
              "      </button>\n",
              "      \n",
              "  <style>\n",
              "    .colab-df-container {\n",
              "      display:flex;\n",
              "      flex-wrap:wrap;\n",
              "      gap: 12px;\n",
              "    }\n",
              "\n",
              "    .colab-df-convert {\n",
              "      background-color: #E8F0FE;\n",
              "      border: none;\n",
              "      border-radius: 50%;\n",
              "      cursor: pointer;\n",
              "      display: none;\n",
              "      fill: #1967D2;\n",
              "      height: 32px;\n",
              "      padding: 0 0 0 0;\n",
              "      width: 32px;\n",
              "    }\n",
              "\n",
              "    .colab-df-convert:hover {\n",
              "      background-color: #E2EBFA;\n",
              "      box-shadow: 0px 1px 2px rgba(60, 64, 67, 0.3), 0px 1px 3px 1px rgba(60, 64, 67, 0.15);\n",
              "      fill: #174EA6;\n",
              "    }\n",
              "\n",
              "    [theme=dark] .colab-df-convert {\n",
              "      background-color: #3B4455;\n",
              "      fill: #D2E3FC;\n",
              "    }\n",
              "\n",
              "    [theme=dark] .colab-df-convert:hover {\n",
              "      background-color: #434B5C;\n",
              "      box-shadow: 0px 1px 3px 1px rgba(0, 0, 0, 0.15);\n",
              "      filter: drop-shadow(0px 1px 2px rgba(0, 0, 0, 0.3));\n",
              "      fill: #FFFFFF;\n",
              "    }\n",
              "  </style>\n",
              "\n",
              "      <script>\n",
              "        const buttonEl =\n",
              "          document.querySelector('#df-a6dad79e-1144-4673-9cfc-082487107df9 button.colab-df-convert');\n",
              "        buttonEl.style.display =\n",
              "          google.colab.kernel.accessAllowed ? 'block' : 'none';\n",
              "\n",
              "        async function convertToInteractive(key) {\n",
              "          const element = document.querySelector('#df-a6dad79e-1144-4673-9cfc-082487107df9');\n",
              "          const dataTable =\n",
              "            await google.colab.kernel.invokeFunction('convertToInteractive',\n",
              "                                                     [key], {});\n",
              "          if (!dataTable) return;\n",
              "\n",
              "          const docLinkHtml = 'Like what you see? Visit the ' +\n",
              "            '<a target=\"_blank\" href=https://colab.research.google.com/notebooks/data_table.ipynb>data table notebook</a>'\n",
              "            + ' to learn more about interactive tables.';\n",
              "          element.innerHTML = '';\n",
              "          dataTable['output_type'] = 'display_data';\n",
              "          await google.colab.output.renderOutput(dataTable, element);\n",
              "          const docLink = document.createElement('div');\n",
              "          docLink.innerHTML = docLinkHtml;\n",
              "          element.appendChild(docLink);\n",
              "        }\n",
              "      </script>\n",
              "    </div>\n",
              "  </div>\n",
              "  "
            ]
          },
          "metadata": {},
          "execution_count": 63
        }
      ]
    },
    {
      "cell_type": "code",
      "source": [],
      "metadata": {
        "id": "seR1HVa2MOAw"
      },
      "execution_count": 63,
      "outputs": []
    },
    {
      "cell_type": "markdown",
      "source": [
        "## Basic Features"
      ],
      "metadata": {
        "id": "l8GkkxN3awSO"
      }
    },
    {
      "cell_type": "code",
      "source": [
        "df_sample.head()"
      ],
      "metadata": {
        "colab": {
          "base_uri": "https://localhost:8080/",
          "height": 206
        },
        "id": "z0BSikHH0nve",
        "outputId": "ff85bd2d-3b46-4fbe-b676-28d507898a5f"
      },
      "execution_count": 64,
      "outputs": [
        {
          "output_type": "execute_result",
          "data": {
            "text/plain": [
              "                                            original_text label\n",
              "25699   In 2006 , her alma mater , Ku-ring-gai High Sc...     1\n",
              "90632   He became -LRB- after 1787 -RRB- a student of ...     1\n",
              "216968  God gave many laws to the Israelites through M...     0\n",
              "379788  1770 - 14-year old Marie Antoinette marries 15...     0\n",
              "145262  Gregorian chant was organized , codified , and...     1"
            ],
            "text/html": [
              "\n",
              "  <div id=\"df-ac9d2ea6-4be3-4093-b22c-fc761184e03d\">\n",
              "    <div class=\"colab-df-container\">\n",
              "      <div>\n",
              "<style scoped>\n",
              "    .dataframe tbody tr th:only-of-type {\n",
              "        vertical-align: middle;\n",
              "    }\n",
              "\n",
              "    .dataframe tbody tr th {\n",
              "        vertical-align: top;\n",
              "    }\n",
              "\n",
              "    .dataframe thead th {\n",
              "        text-align: right;\n",
              "    }\n",
              "</style>\n",
              "<table border=\"1\" class=\"dataframe\">\n",
              "  <thead>\n",
              "    <tr style=\"text-align: right;\">\n",
              "      <th></th>\n",
              "      <th>original_text</th>\n",
              "      <th>label</th>\n",
              "    </tr>\n",
              "  </thead>\n",
              "  <tbody>\n",
              "    <tr>\n",
              "      <th>25699</th>\n",
              "      <td>In 2006 , her alma mater , Ku-ring-gai High Sc...</td>\n",
              "      <td>1</td>\n",
              "    </tr>\n",
              "    <tr>\n",
              "      <th>90632</th>\n",
              "      <td>He became -LRB- after 1787 -RRB- a student of ...</td>\n",
              "      <td>1</td>\n",
              "    </tr>\n",
              "    <tr>\n",
              "      <th>216968</th>\n",
              "      <td>God gave many laws to the Israelites through M...</td>\n",
              "      <td>0</td>\n",
              "    </tr>\n",
              "    <tr>\n",
              "      <th>379788</th>\n",
              "      <td>1770 - 14-year old Marie Antoinette marries 15...</td>\n",
              "      <td>0</td>\n",
              "    </tr>\n",
              "    <tr>\n",
              "      <th>145262</th>\n",
              "      <td>Gregorian chant was organized , codified , and...</td>\n",
              "      <td>1</td>\n",
              "    </tr>\n",
              "  </tbody>\n",
              "</table>\n",
              "</div>\n",
              "      <button class=\"colab-df-convert\" onclick=\"convertToInteractive('df-ac9d2ea6-4be3-4093-b22c-fc761184e03d')\"\n",
              "              title=\"Convert this dataframe to an interactive table.\"\n",
              "              style=\"display:none;\">\n",
              "        \n",
              "  <svg xmlns=\"http://www.w3.org/2000/svg\" height=\"24px\"viewBox=\"0 0 24 24\"\n",
              "       width=\"24px\">\n",
              "    <path d=\"M0 0h24v24H0V0z\" fill=\"none\"/>\n",
              "    <path d=\"M18.56 5.44l.94 2.06.94-2.06 2.06-.94-2.06-.94-.94-2.06-.94 2.06-2.06.94zm-11 1L8.5 8.5l.94-2.06 2.06-.94-2.06-.94L8.5 2.5l-.94 2.06-2.06.94zm10 10l.94 2.06.94-2.06 2.06-.94-2.06-.94-.94-2.06-.94 2.06-2.06.94z\"/><path d=\"M17.41 7.96l-1.37-1.37c-.4-.4-.92-.59-1.43-.59-.52 0-1.04.2-1.43.59L10.3 9.45l-7.72 7.72c-.78.78-.78 2.05 0 2.83L4 21.41c.39.39.9.59 1.41.59.51 0 1.02-.2 1.41-.59l7.78-7.78 2.81-2.81c.8-.78.8-2.07 0-2.86zM5.41 20L4 18.59l7.72-7.72 1.47 1.35L5.41 20z\"/>\n",
              "  </svg>\n",
              "      </button>\n",
              "      \n",
              "  <style>\n",
              "    .colab-df-container {\n",
              "      display:flex;\n",
              "      flex-wrap:wrap;\n",
              "      gap: 12px;\n",
              "    }\n",
              "\n",
              "    .colab-df-convert {\n",
              "      background-color: #E8F0FE;\n",
              "      border: none;\n",
              "      border-radius: 50%;\n",
              "      cursor: pointer;\n",
              "      display: none;\n",
              "      fill: #1967D2;\n",
              "      height: 32px;\n",
              "      padding: 0 0 0 0;\n",
              "      width: 32px;\n",
              "    }\n",
              "\n",
              "    .colab-df-convert:hover {\n",
              "      background-color: #E2EBFA;\n",
              "      box-shadow: 0px 1px 2px rgba(60, 64, 67, 0.3), 0px 1px 3px 1px rgba(60, 64, 67, 0.15);\n",
              "      fill: #174EA6;\n",
              "    }\n",
              "\n",
              "    [theme=dark] .colab-df-convert {\n",
              "      background-color: #3B4455;\n",
              "      fill: #D2E3FC;\n",
              "    }\n",
              "\n",
              "    [theme=dark] .colab-df-convert:hover {\n",
              "      background-color: #434B5C;\n",
              "      box-shadow: 0px 1px 3px 1px rgba(0, 0, 0, 0.15);\n",
              "      filter: drop-shadow(0px 1px 2px rgba(0, 0, 0, 0.3));\n",
              "      fill: #FFFFFF;\n",
              "    }\n",
              "  </style>\n",
              "\n",
              "      <script>\n",
              "        const buttonEl =\n",
              "          document.querySelector('#df-ac9d2ea6-4be3-4093-b22c-fc761184e03d button.colab-df-convert');\n",
              "        buttonEl.style.display =\n",
              "          google.colab.kernel.accessAllowed ? 'block' : 'none';\n",
              "\n",
              "        async function convertToInteractive(key) {\n",
              "          const element = document.querySelector('#df-ac9d2ea6-4be3-4093-b22c-fc761184e03d');\n",
              "          const dataTable =\n",
              "            await google.colab.kernel.invokeFunction('convertToInteractive',\n",
              "                                                     [key], {});\n",
              "          if (!dataTable) return;\n",
              "\n",
              "          const docLinkHtml = 'Like what you see? Visit the ' +\n",
              "            '<a target=\"_blank\" href=https://colab.research.google.com/notebooks/data_table.ipynb>data table notebook</a>'\n",
              "            + ' to learn more about interactive tables.';\n",
              "          element.innerHTML = '';\n",
              "          dataTable['output_type'] = 'display_data';\n",
              "          await google.colab.output.renderOutput(dataTable, element);\n",
              "          const docLink = document.createElement('div');\n",
              "          docLink.innerHTML = docLinkHtml;\n",
              "          element.appendChild(docLink);\n",
              "        }\n",
              "      </script>\n",
              "    </div>\n",
              "  </div>\n",
              "  "
            ]
          },
          "metadata": {},
          "execution_count": 64
        }
      ]
    },
    {
      "cell_type": "code",
      "source": [
        "# Basic stats\n",
        "df_sample['num_lemmas'] = [len(s) for s in tokens]\n",
        "df_sample['min_age'] = [np.nanmin([age.get(w, np.nan) for w in s]) for s in tokens]\n",
        "df_sample['mean_age'] = [np.nanmean([age.get(w, np.nan) for w in s]) for s in tokens]\n",
        "df_sample['max_age'] = [np.nanmax([age.get(w, np.nan) for w in s]) for s in tokens]\n",
        "df_sample['num_listed'] = [len([w for w in s if age.get(w,0) > 0]) for s in tokens]\n",
        "df_sample['num_unlisted'] = df_sample['num_lemmas'] - df_sample['num_listed']\n",
        "\n",
        "# Grade level\n",
        "df_sample['grade_min_age'] = df_sample['min_age'].apply(lambda x: grade_finder(x))\n",
        "df_sample['grade_mean_age'] = df_sample['mean_age'].apply(lambda x: grade_finder(x))\n",
        "df_sample['grade_max_age'] = df_sample['max_age'].apply(lambda x: grade_finder(x))"
      ],
      "metadata": {
        "colab": {
          "base_uri": "https://localhost:8080/"
        },
        "id": "1WFHUO4IM_j5",
        "outputId": "06479b56-721b-4439-acc1-74bd49ce42e8"
      },
      "execution_count": 65,
      "outputs": [
        {
          "output_type": "stream",
          "name": "stderr",
          "text": [
            "/usr/local/lib/python3.7/dist-packages/ipykernel_launcher.py:3: RuntimeWarning: All-NaN axis encountered\n",
            "  This is separate from the ipykernel package so we can avoid doing imports until\n",
            "/usr/local/lib/python3.7/dist-packages/ipykernel_launcher.py:4: RuntimeWarning: Mean of empty slice\n",
            "  after removing the cwd from sys.path.\n",
            "/usr/local/lib/python3.7/dist-packages/ipykernel_launcher.py:5: RuntimeWarning: All-NaN axis encountered\n",
            "  \"\"\"\n"
          ]
        }
      ]
    },
    {
      "cell_type": "markdown",
      "source": [
        "## Feature Statistics"
      ],
      "metadata": {
        "id": "edD91KubbQF-"
      }
    },
    {
      "cell_type": "code",
      "source": [
        "means = df_sample.mean()\n",
        "sdevs = df_sample.std()\n",
        "\n",
        "mdict = {}\n",
        "for m in means:\n",
        "  mdict[means[means==m].index[0]] = m\n",
        "\n",
        "sdict = {}\n",
        "for s in sdevs:\n",
        "  sdict[sdevs[sdevs==s].index[0]] = s"
      ],
      "metadata": {
        "colab": {
          "base_uri": "https://localhost:8080/"
        },
        "id": "h-TDlRL-XDtp",
        "outputId": "b2a8c213-d7cd-487f-e7a0-4a552f2e3258"
      },
      "execution_count": 66,
      "outputs": [
        {
          "output_type": "stream",
          "name": "stderr",
          "text": [
            "/usr/local/lib/python3.7/dist-packages/ipykernel_launcher.py:1: FutureWarning: Dropping of nuisance columns in DataFrame reductions (with 'numeric_only=None') is deprecated; in a future version this will raise TypeError.  Select only valid columns before calling the reduction.\n",
            "  \"\"\"Entry point for launching an IPython kernel.\n",
            "/usr/local/lib/python3.7/dist-packages/ipykernel_launcher.py:2: FutureWarning: Dropping of nuisance columns in DataFrame reductions (with 'numeric_only=None') is deprecated; in a future version this will raise TypeError.  Select only valid columns before calling the reduction.\n",
            "  \n"
          ]
        }
      ]
    },
    {
      "cell_type": "markdown",
      "source": [
        "## Z-Score Features"
      ],
      "metadata": {
        "id": "xoIQ-RgebVta"
      }
    },
    {
      "cell_type": "code",
      "source": [
        "for c in df_sample.columns[2:8]:\n",
        "  df_sample[f'z_{c}'] = (df_sample[c] - means[c]) / sdevs[c]\n",
        "\n",
        "df_sample.head()"
      ],
      "metadata": {
        "colab": {
          "base_uri": "https://localhost:8080/",
          "height": 513
        },
        "id": "vnRtBuNbcCOa",
        "outputId": "4fecfe0a-6293-482b-d4c7-31d94db81c4c"
      },
      "execution_count": 67,
      "outputs": [
        {
          "output_type": "execute_result",
          "data": {
            "text/plain": [
              "                                            original_text label  num_lemmas  \\\n",
              "25699   In 2006 , her alma mater , Ku-ring-gai High Sc...     1          21   \n",
              "90632   He became -LRB- after 1787 -RRB- a student of ...     1          13   \n",
              "216968  God gave many laws to the Israelites through M...     0          10   \n",
              "379788  1770 - 14-year old Marie Antoinette marries 15...     0          24   \n",
              "145262  Gregorian chant was organized , codified , and...     1          48   \n",
              "\n",
              "        min_age  mean_age  max_age  num_listed  num_unlisted  grade_min_age  \\\n",
              "25699      3.57  4.501429     6.00           7            14              0   \n",
              "90632      2.89  4.675714     6.00           7             6             -1   \n",
              "216968     3.95  5.160000     8.33           6             4              0   \n",
              "379788     3.72  4.813000     5.85          10            14              0   \n",
              "145262     3.37  6.062778    16.65          36            12              0   \n",
              "\n",
              "        grade_mean_age  grade_max_age  z_num_lemmas  z_min_age  z_mean_age  \\\n",
              "25699                0              1     -0.183434   0.283971   -1.298178   \n",
              "90632                0              1     -0.827485  -0.666035   -1.093330   \n",
              "216968               1              1     -1.069004   0.814857   -0.524121   \n",
              "379788               0              1      0.058085   0.493531   -0.931970   \n",
              "145262               1              3      1.990239   0.004558    0.536966   \n",
              "\n",
              "        z_max_age  z_num_listed  z_num_unlisted  \n",
              "25699   -1.573985     -0.809459        0.760749  \n",
              "90632   -1.573985     -0.809459       -0.455015  \n",
              "216968  -0.670369     -0.920581       -0.758956  \n",
              "379788  -1.632158     -0.476092        0.760749  \n",
              "145262   2.556277      2.413086        0.456808  "
            ],
            "text/html": [
              "\n",
              "  <div id=\"df-f86093c0-afff-4b78-8084-1ebab8039515\">\n",
              "    <div class=\"colab-df-container\">\n",
              "      <div>\n",
              "<style scoped>\n",
              "    .dataframe tbody tr th:only-of-type {\n",
              "        vertical-align: middle;\n",
              "    }\n",
              "\n",
              "    .dataframe tbody tr th {\n",
              "        vertical-align: top;\n",
              "    }\n",
              "\n",
              "    .dataframe thead th {\n",
              "        text-align: right;\n",
              "    }\n",
              "</style>\n",
              "<table border=\"1\" class=\"dataframe\">\n",
              "  <thead>\n",
              "    <tr style=\"text-align: right;\">\n",
              "      <th></th>\n",
              "      <th>original_text</th>\n",
              "      <th>label</th>\n",
              "      <th>num_lemmas</th>\n",
              "      <th>min_age</th>\n",
              "      <th>mean_age</th>\n",
              "      <th>max_age</th>\n",
              "      <th>num_listed</th>\n",
              "      <th>num_unlisted</th>\n",
              "      <th>grade_min_age</th>\n",
              "      <th>grade_mean_age</th>\n",
              "      <th>grade_max_age</th>\n",
              "      <th>z_num_lemmas</th>\n",
              "      <th>z_min_age</th>\n",
              "      <th>z_mean_age</th>\n",
              "      <th>z_max_age</th>\n",
              "      <th>z_num_listed</th>\n",
              "      <th>z_num_unlisted</th>\n",
              "    </tr>\n",
              "  </thead>\n",
              "  <tbody>\n",
              "    <tr>\n",
              "      <th>25699</th>\n",
              "      <td>In 2006 , her alma mater , Ku-ring-gai High Sc...</td>\n",
              "      <td>1</td>\n",
              "      <td>21</td>\n",
              "      <td>3.57</td>\n",
              "      <td>4.501429</td>\n",
              "      <td>6.00</td>\n",
              "      <td>7</td>\n",
              "      <td>14</td>\n",
              "      <td>0</td>\n",
              "      <td>0</td>\n",
              "      <td>1</td>\n",
              "      <td>-0.183434</td>\n",
              "      <td>0.283971</td>\n",
              "      <td>-1.298178</td>\n",
              "      <td>-1.573985</td>\n",
              "      <td>-0.809459</td>\n",
              "      <td>0.760749</td>\n",
              "    </tr>\n",
              "    <tr>\n",
              "      <th>90632</th>\n",
              "      <td>He became -LRB- after 1787 -RRB- a student of ...</td>\n",
              "      <td>1</td>\n",
              "      <td>13</td>\n",
              "      <td>2.89</td>\n",
              "      <td>4.675714</td>\n",
              "      <td>6.00</td>\n",
              "      <td>7</td>\n",
              "      <td>6</td>\n",
              "      <td>-1</td>\n",
              "      <td>0</td>\n",
              "      <td>1</td>\n",
              "      <td>-0.827485</td>\n",
              "      <td>-0.666035</td>\n",
              "      <td>-1.093330</td>\n",
              "      <td>-1.573985</td>\n",
              "      <td>-0.809459</td>\n",
              "      <td>-0.455015</td>\n",
              "    </tr>\n",
              "    <tr>\n",
              "      <th>216968</th>\n",
              "      <td>God gave many laws to the Israelites through M...</td>\n",
              "      <td>0</td>\n",
              "      <td>10</td>\n",
              "      <td>3.95</td>\n",
              "      <td>5.160000</td>\n",
              "      <td>8.33</td>\n",
              "      <td>6</td>\n",
              "      <td>4</td>\n",
              "      <td>0</td>\n",
              "      <td>1</td>\n",
              "      <td>1</td>\n",
              "      <td>-1.069004</td>\n",
              "      <td>0.814857</td>\n",
              "      <td>-0.524121</td>\n",
              "      <td>-0.670369</td>\n",
              "      <td>-0.920581</td>\n",
              "      <td>-0.758956</td>\n",
              "    </tr>\n",
              "    <tr>\n",
              "      <th>379788</th>\n",
              "      <td>1770 - 14-year old Marie Antoinette marries 15...</td>\n",
              "      <td>0</td>\n",
              "      <td>24</td>\n",
              "      <td>3.72</td>\n",
              "      <td>4.813000</td>\n",
              "      <td>5.85</td>\n",
              "      <td>10</td>\n",
              "      <td>14</td>\n",
              "      <td>0</td>\n",
              "      <td>0</td>\n",
              "      <td>1</td>\n",
              "      <td>0.058085</td>\n",
              "      <td>0.493531</td>\n",
              "      <td>-0.931970</td>\n",
              "      <td>-1.632158</td>\n",
              "      <td>-0.476092</td>\n",
              "      <td>0.760749</td>\n",
              "    </tr>\n",
              "    <tr>\n",
              "      <th>145262</th>\n",
              "      <td>Gregorian chant was organized , codified , and...</td>\n",
              "      <td>1</td>\n",
              "      <td>48</td>\n",
              "      <td>3.37</td>\n",
              "      <td>6.062778</td>\n",
              "      <td>16.65</td>\n",
              "      <td>36</td>\n",
              "      <td>12</td>\n",
              "      <td>0</td>\n",
              "      <td>1</td>\n",
              "      <td>3</td>\n",
              "      <td>1.990239</td>\n",
              "      <td>0.004558</td>\n",
              "      <td>0.536966</td>\n",
              "      <td>2.556277</td>\n",
              "      <td>2.413086</td>\n",
              "      <td>0.456808</td>\n",
              "    </tr>\n",
              "  </tbody>\n",
              "</table>\n",
              "</div>\n",
              "      <button class=\"colab-df-convert\" onclick=\"convertToInteractive('df-f86093c0-afff-4b78-8084-1ebab8039515')\"\n",
              "              title=\"Convert this dataframe to an interactive table.\"\n",
              "              style=\"display:none;\">\n",
              "        \n",
              "  <svg xmlns=\"http://www.w3.org/2000/svg\" height=\"24px\"viewBox=\"0 0 24 24\"\n",
              "       width=\"24px\">\n",
              "    <path d=\"M0 0h24v24H0V0z\" fill=\"none\"/>\n",
              "    <path d=\"M18.56 5.44l.94 2.06.94-2.06 2.06-.94-2.06-.94-.94-2.06-.94 2.06-2.06.94zm-11 1L8.5 8.5l.94-2.06 2.06-.94-2.06-.94L8.5 2.5l-.94 2.06-2.06.94zm10 10l.94 2.06.94-2.06 2.06-.94-2.06-.94-.94-2.06-.94 2.06-2.06.94z\"/><path d=\"M17.41 7.96l-1.37-1.37c-.4-.4-.92-.59-1.43-.59-.52 0-1.04.2-1.43.59L10.3 9.45l-7.72 7.72c-.78.78-.78 2.05 0 2.83L4 21.41c.39.39.9.59 1.41.59.51 0 1.02-.2 1.41-.59l7.78-7.78 2.81-2.81c.8-.78.8-2.07 0-2.86zM5.41 20L4 18.59l7.72-7.72 1.47 1.35L5.41 20z\"/>\n",
              "  </svg>\n",
              "      </button>\n",
              "      \n",
              "  <style>\n",
              "    .colab-df-container {\n",
              "      display:flex;\n",
              "      flex-wrap:wrap;\n",
              "      gap: 12px;\n",
              "    }\n",
              "\n",
              "    .colab-df-convert {\n",
              "      background-color: #E8F0FE;\n",
              "      border: none;\n",
              "      border-radius: 50%;\n",
              "      cursor: pointer;\n",
              "      display: none;\n",
              "      fill: #1967D2;\n",
              "      height: 32px;\n",
              "      padding: 0 0 0 0;\n",
              "      width: 32px;\n",
              "    }\n",
              "\n",
              "    .colab-df-convert:hover {\n",
              "      background-color: #E2EBFA;\n",
              "      box-shadow: 0px 1px 2px rgba(60, 64, 67, 0.3), 0px 1px 3px 1px rgba(60, 64, 67, 0.15);\n",
              "      fill: #174EA6;\n",
              "    }\n",
              "\n",
              "    [theme=dark] .colab-df-convert {\n",
              "      background-color: #3B4455;\n",
              "      fill: #D2E3FC;\n",
              "    }\n",
              "\n",
              "    [theme=dark] .colab-df-convert:hover {\n",
              "      background-color: #434B5C;\n",
              "      box-shadow: 0px 1px 3px 1px rgba(0, 0, 0, 0.15);\n",
              "      filter: drop-shadow(0px 1px 2px rgba(0, 0, 0, 0.3));\n",
              "      fill: #FFFFFF;\n",
              "    }\n",
              "  </style>\n",
              "\n",
              "      <script>\n",
              "        const buttonEl =\n",
              "          document.querySelector('#df-f86093c0-afff-4b78-8084-1ebab8039515 button.colab-df-convert');\n",
              "        buttonEl.style.display =\n",
              "          google.colab.kernel.accessAllowed ? 'block' : 'none';\n",
              "\n",
              "        async function convertToInteractive(key) {\n",
              "          const element = document.querySelector('#df-f86093c0-afff-4b78-8084-1ebab8039515');\n",
              "          const dataTable =\n",
              "            await google.colab.kernel.invokeFunction('convertToInteractive',\n",
              "                                                     [key], {});\n",
              "          if (!dataTable) return;\n",
              "\n",
              "          const docLinkHtml = 'Like what you see? Visit the ' +\n",
              "            '<a target=\"_blank\" href=https://colab.research.google.com/notebooks/data_table.ipynb>data table notebook</a>'\n",
              "            + ' to learn more about interactive tables.';\n",
              "          element.innerHTML = '';\n",
              "          dataTable['output_type'] = 'display_data';\n",
              "          await google.colab.output.renderOutput(dataTable, element);\n",
              "          const docLink = document.createElement('div');\n",
              "          docLink.innerHTML = docLinkHtml;\n",
              "          element.appendChild(docLink);\n",
              "        }\n",
              "      </script>\n",
              "    </div>\n",
              "  </div>\n",
              "  "
            ]
          },
          "metadata": {},
          "execution_count": 67
        }
      ]
    },
    {
      "cell_type": "markdown",
      "source": [
        "## Feature Importance"
      ],
      "metadata": {
        "id": "q6aPU1d0lQKr"
      }
    },
    {
      "cell_type": "code",
      "source": [
        "# Nan's break the model\n",
        "df_clean = df_sample.dropna()"
      ],
      "metadata": {
        "id": "uY4R-RqCfqk3"
      },
      "execution_count": 68,
      "outputs": []
    },
    {
      "cell_type": "code",
      "source": [
        "X = df_clean[df_clean.columns[2:]]\n",
        "y = df_clean['label']\n",
        "X_train, X_test, y_train, y_test = train_test_split(X, y, test_size=0.2, random_state=42)"
      ],
      "metadata": {
        "id": "P4QN7gcRdHoo"
      },
      "execution_count": 69,
      "outputs": []
    },
    {
      "cell_type": "code",
      "source": [
        "from sklearn.model_selection import GridSearchCV\n",
        "from sklearn.linear_model import Lasso, LogisticRegression\n",
        "from sklearn.pipeline import Pipeline\n",
        "from sklearn.metrics import classification_report"
      ],
      "metadata": {
        "id": "-Hfyzb7zeHN3"
      },
      "execution_count": 70,
      "outputs": []
    },
    {
      "cell_type": "code",
      "source": [
        "Lasso().get_params().keys()"
      ],
      "metadata": {
        "colab": {
          "base_uri": "https://localhost:8080/"
        },
        "id": "Y0o6DmAle1hE",
        "outputId": "d56a347c-ac4c-43f4-b6e6-c198412a6605"
      },
      "execution_count": 71,
      "outputs": [
        {
          "output_type": "execute_result",
          "data": {
            "text/plain": [
              "dict_keys(['alpha', 'copy_X', 'fit_intercept', 'max_iter', 'normalize', 'positive', 'precompute', 'random_state', 'selection', 'tol', 'warm_start'])"
            ]
          },
          "metadata": {},
          "execution_count": 71
        }
      ]
    },
    {
      "cell_type": "code",
      "source": [
        "pipeline = Pipeline([('model',Lasso(random_state=42))])\n",
        "search = GridSearchCV(pipeline,{'model__alpha':np.arange(0.1,10,0.1)},\n",
        "                      cv = 5, scoring=\"neg_mean_squared_error\", verbose=0)\n",
        "search.fit(X_train,y_train)\n",
        "search.best_params_"
      ],
      "metadata": {
        "colab": {
          "base_uri": "https://localhost:8080/"
        },
        "id": "GNfDxVYhd8f5",
        "outputId": "e4de882d-5368-4ce1-f1c3-10486266ff25"
      },
      "execution_count": 72,
      "outputs": [
        {
          "output_type": "execute_result",
          "data": {
            "text/plain": [
              "{'model__alpha': 0.1}"
            ]
          },
          "metadata": {},
          "execution_count": 72
        }
      ]
    },
    {
      "cell_type": "code",
      "source": [
        "coefficients = search.best_estimator_.named_steps['model'].coef_\n",
        "importance = np.abs(coefficients)\n",
        "print(importance)"
      ],
      "metadata": {
        "colab": {
          "base_uri": "https://localhost:8080/"
        },
        "id": "n1Q2zVM9fKlu",
        "outputId": "50a40b39-7dd5-4f14-c063-e49bf9a8940d"
      },
      "execution_count": 73,
      "outputs": [
        {
          "output_type": "stream",
          "name": "stdout",
          "text": [
            "[0.00643487 0.         0.         0.01120401 0.         0.00203461\n",
            " 0.         0.         0.         0.         0.         0.\n",
            " 0.         0.         0.        ]\n"
          ]
        }
      ]
    },
    {
      "cell_type": "code",
      "source": [
        "np.array(df_clean.columns[2:])[importance > 0]"
      ],
      "metadata": {
        "colab": {
          "base_uri": "https://localhost:8080/"
        },
        "id": "cxpXItVPf7A3",
        "outputId": "8a356132-4d60-4459-d52c-91a3a76dafbe"
      },
      "execution_count": 74,
      "outputs": [
        {
          "output_type": "execute_result",
          "data": {
            "text/plain": [
              "array(['num_lemmas', 'max_age', 'num_unlisted'], dtype=object)"
            ]
          },
          "metadata": {},
          "execution_count": 74
        }
      ]
    },
    {
      "cell_type": "markdown",
      "source": [
        "## Regression"
      ],
      "metadata": {
        "id": "4crg5p-NlWPf"
      }
    },
    {
      "cell_type": "code",
      "source": [
        "lr = LogisticRegression(max_iter=10000)\n",
        "lr.fit(X_train, y_train)\n",
        "pred = lr.predict(X_test)\n",
        "print(classification_report(y_test, pred))"
      ],
      "metadata": {
        "colab": {
          "base_uri": "https://localhost:8080/"
        },
        "id": "4M_BrjYXhTwp",
        "outputId": "82736618-0794-475e-974c-8bba181286ad"
      },
      "execution_count": 75,
      "outputs": [
        {
          "output_type": "stream",
          "name": "stdout",
          "text": [
            "              precision    recall  f1-score   support\n",
            "\n",
            "           0       0.62      0.56      0.59       956\n",
            "           1       0.62      0.67      0.64      1014\n",
            "\n",
            "    accuracy                           0.62      1970\n",
            "   macro avg       0.62      0.61      0.61      1970\n",
            "weighted avg       0.62      0.62      0.61      1970\n",
            "\n"
          ]
        }
      ]
    },
    {
      "cell_type": "code",
      "source": [
        "scaler = StandardScaler()\n",
        "scaler.fit(X_train)\n",
        "X_scaled = scaler.transform(X_train)"
      ],
      "metadata": {
        "id": "OBTTU1ec7N-u"
      },
      "execution_count": 76,
      "outputs": []
    },
    {
      "cell_type": "code",
      "source": [
        "pca = PCA(n_components=X_scaled.shape[1], random_state=42)\n",
        "pca.fit(X_scaled)\n",
        "X_pca = pca.transform(X_scaled)\n",
        "np.cumsum(pca.explained_variance_ratio_ * 100)"
      ],
      "metadata": {
        "colab": {
          "base_uri": "https://localhost:8080/"
        },
        "id": "ZbMYJb-_7UOb",
        "outputId": "b5e5d988-39d1-4e35-d30f-295e8359f47b"
      },
      "execution_count": 77,
      "outputs": [
        {
          "output_type": "execute_result",
          "data": {
            "text/plain": [
              "array([ 38.34544673,  65.91754406,  82.27511743,  90.4744043 ,\n",
              "        94.74181632,  97.73826903,  98.98298085, 100.        ,\n",
              "       100.        , 100.        , 100.        , 100.        ,\n",
              "       100.        , 100.        , 100.        ])"
            ]
          },
          "metadata": {},
          "execution_count": 77
        }
      ]
    },
    {
      "cell_type": "code",
      "source": [
        "plt.figure(figsize=(10,7))\n",
        "sns.scatterplot(x=X_pca[:,0], y=X_pca[:,1], s=70, hue=y_train, palette=['green','blue'])\n",
        "plt.show()"
      ],
      "metadata": {
        "id": "KsYlHxdg7YUU"
      },
      "execution_count": 78,
      "outputs": []
    },
    {
      "cell_type": "code",
      "source": [
        "sns.set_style(\"darkgrid\", {'axes.grid' : False})\n",
        "\n",
        "fig = plt.figure(figsize=(10,10))\n",
        "\n",
        "ax = fig.add_subplot(111, projection='3d')\n",
        "\n",
        "ax.scatter(X_pca[:,0], X_pca[:,1], X_pca[:,2], c=y_train, marker='o')\n",
        "ax.set_xlabel('PCA1')\n",
        "ax.set_ylabel('PCA2')\n",
        "ax.set_zlabel('PCA3')\n",
        "\n",
        "plt.show()"
      ],
      "metadata": {
        "id": "r9IcB8Po7pYU"
      },
      "execution_count": 79,
      "outputs": []
    }
  ],
  "metadata": {
    "kernelspec": {
      "display_name": "Python 3.9.12 ('base')",
      "language": "python",
      "name": "python3"
    },
    "language_info": {
      "name": "python",
      "version": "3.9.12"
    },
    "orig_nbformat": 4,
    "vscode": {
      "interpreter": {
        "hash": "e86a01f8672329bed3ce100df0440b53eafb97913bffe091b7b7f0884404a676"
      }
    },
    "colab": {
      "provenance": [],
      "include_colab_link": true
    }
  },
  "nbformat": 4,
  "nbformat_minor": 0
}