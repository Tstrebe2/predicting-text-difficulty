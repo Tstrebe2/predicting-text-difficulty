{
  "cells": [
    {
      "cell_type": "markdown",
      "metadata": {
        "id": "view-in-github",
        "colab_type": "text"
      },
      "source": [
        "<a href=\"https://colab.research.google.com/github/Tstrebe2/predicting-text-difficulty/blob/josh-updates/josh-AoA.ipynb\" target=\"_parent\"><img src=\"https://colab.research.google.com/assets/colab-badge.svg\" alt=\"Open In Colab\"/></a>"
      ]
    },
    {
      "cell_type": "markdown",
      "source": [
        "## Imports"
      ],
      "metadata": {
        "id": "3KJHDpLbki8A"
      }
    },
    {
      "cell_type": "code",
      "source": [
        "# import sys\n",
        "import pandas as pd\n",
        "import numpy as np\n",
        "import spacy\n",
        "from sklearn.model_selection import train_test_split\n",
        "from sklearn.preprocessing import StandardScaler\n",
        "from sklearn.decomposition import PCA\n",
        "import matplotlib.pyplot as plt\n",
        "import seaborn as sns\n",
        "import clean_wiki as cw  # custom cleaning module\n",
        "\n",
        "# installers\n",
        "# !{sys.executable} -m pip install pyspark -q\n",
        "# !{sys.executable} -m pip install -U spacy -q\n",
        "# !{sys.executable} -m spacy download en_core_web_lg -q\n",
        "# !{sys.executable} -m pip install sklearn -q"
      ],
      "metadata": {
        "id": "ylsbWwuQuhw-"
      },
      "execution_count": 34,
      "outputs": []
    },
    {
      "cell_type": "code",
      "source": [
        "n = 10000  # sample size (number if > 1 else fraction)\n",
        "\n",
        "grade_level = [   # school level by age\n",
        "    (3, 4, 0, 'Foundation'),\n",
        "    (4, 5, 0, 'Foundation'),\n",
        "    (5, 6, 1, 'Primary'),\n",
        "    (6, 7, 1, 'Primary'),\n",
        "    (7, 8, 1, 'Primary'),\n",
        "    (8, 9, 1, 'Primary'),\n",
        "    (9, 10, 1, 'Primary'),\n",
        "    (10, 11, 1, 'Primary'),\n",
        "    (11, 12, 2, 'MiddleSchool'),\n",
        "    (12, 13, 2, 'MiddleSchool'),\n",
        "    (13, 14, 2, 'MiddleSchool'),\n",
        "    (14, 15, 3, 'IGCSE'),\n",
        "    (15, 16, 3, 'IGCSE'),\n",
        "    (16, 17, 3, 'IB'),\n",
        "    (17, 18, 3, 'IB'),\n",
        "    (19, 200, 3, 'College')\n",
        "]\n",
        "\n",
        "def grade_finder(age):\n",
        "  for i in grade_level:\n",
        "    if i[0] <= age <= i[1]:\n",
        "      return i[2]\n",
        "  return -1"
      ],
      "metadata": {
        "id": "tEIwDJG8rKoZ"
      },
      "execution_count": 17,
      "outputs": []
    },
    {
      "cell_type": "markdown",
      "source": [
        "## Dataset"
      ],
      "metadata": {
        "id": "wRp8I5w-kvwC"
      }
    },
    {
      "cell_type": "code",
      "execution_count": 18,
      "metadata": {
        "colab": {
          "base_uri": "https://localhost:8080/",
          "height": 680
        },
        "id": "U1c7Wfd0uO5q",
        "outputId": "d2340b97-9bdf-4aac-9b85-87bc82320665"
      },
      "outputs": [
        {
          "output_type": "stream",
          "name": "stdout",
          "text": [
            "root\n",
            " |-- original_text: string (nullable = true)\n",
            " |-- label: string (nullable = true)\n",
            "\n",
            "+--------------------------------------------------------------------------------------------------------------------------------------------------------------------------------------------------------------------------------------------------------+-----+\n",
            "|original_text                                                                                                                                                                                                                                           |label|\n",
            "+--------------------------------------------------------------------------------------------------------------------------------------------------------------------------------------------------------------------------------------------------------+-----+\n",
            "|There is manuscript evidence that Austen continued to work on these pieces as late as the period 1809 â '' 11 , and that her niece and nephew , Anna and James Edward Austen , made further additions as late as 1814 .                                 |1    |\n",
            "|In a remarkable comparative analysis , Mandaean scholar Säve-Söderberg demonstrated that Mani 's Psalms of Thomas were closely related to Mandaean texts .                                                                                              |1    |\n",
            "|Before Persephone was released to Hermes , who had been sent to retrieve her , Hades tricked her into eating pomegranate seeds , -LRB- six or three according to the telling -RRB- which forced her to return to the underworld for a period each year .|1    |\n",
            "|Cogeneration plants are commonly found in district heating systems of cities , hospitals , prisons , oil refineries , paper mills , wastewater treatment plants , thermal enhanced oil recovery wells and industrial plants with large heating needs .  |1    |\n",
            "|Geneva -LRB- , ; , ; , ; ; -RRB- is the second-most-populous city in Switzerland -LRB- after Zürich -RRB- and is the most populous city of Romandie -LRB- the French-speaking part of Switzerland -RRB- .                                               |1    |\n",
            "+--------------------------------------------------------------------------------------------------------------------------------------------------------------------------------------------------------------------------------------------------------+-----+\n",
            "\n",
            "+--------------------------------------------------------------------------------------------------------------------------------------------------------------------------------------------------------------------------------------------------------+-----+\n",
            "|original_text                                                                                                                                                                                                                                           |label|\n",
            "+--------------------------------------------------------------------------------------------------------------------------------------------------------------------------------------------------------------------------------------------------------+-----+\n",
            "|There is manuscript evidence that Austen continued to work on these pieces as late as the period 1809 â '' 11 , and that her niece and nephew , Anna and James Edward Austen , made further additions as late as 1814 .                                 |1    |\n",
            "|In a remarkable comparative analysis , Mandaean scholar Säve-Söderberg demonstrated that Mani 's Psalms of Thomas were closely related to Mandaean texts .                                                                                              |1    |\n",
            "|Before Persephone was released to Hermes , who had been sent to retrieve her , Hades tricked her into eating pomegranate seeds , -LRB- six or three according to the telling -RRB- which forced her to return to the underworld for a period each year .|1    |\n",
            "|Cogeneration plants are commonly found in district heating systems of cities , hospitals , prisons , oil refineries , paper mills , wastewater treatment plants , thermal enhanced oil recovery wells and industrial plants with large heating needs .  |1    |\n",
            "|Geneva -LRB- , ; , ; , ; ; -RRB- is the second-most-populous city in Switzerland -LRB- after Zürich -RRB- and is the most populous city of Romandie -LRB- the French-speaking part of Switzerland -RRB- .                                               |1    |\n",
            "+--------------------------------------------------------------------------------------------------------------------------------------------------------------------------------------------------------------------------------------------------------+-----+\n",
            "only showing top 5 rows\n",
            "\n"
          ]
        },
        {
          "output_type": "execute_result",
          "data": {
            "text/plain": [
              "                                       original_text label\n",
              "0  There is manuscript evidence that Austen conti...     1\n",
              "1  In a remarkable comparative analysis , Mandaea...     1\n",
              "2  Before Persephone was released to Hermes , who...     1\n",
              "3  Cogeneration plants are commonly found in dist...     1\n",
              "4  Geneva -LRB- , ; , ; , ; ; -RRB- is the second...     1"
            ],
            "text/html": [
              "\n",
              "  <div id=\"df-5ace2029-25ad-47e9-8abe-db867a221b9f\">\n",
              "    <div class=\"colab-df-container\">\n",
              "      <div>\n",
              "<style scoped>\n",
              "    .dataframe tbody tr th:only-of-type {\n",
              "        vertical-align: middle;\n",
              "    }\n",
              "\n",
              "    .dataframe tbody tr th {\n",
              "        vertical-align: top;\n",
              "    }\n",
              "\n",
              "    .dataframe thead th {\n",
              "        text-align: right;\n",
              "    }\n",
              "</style>\n",
              "<table border=\"1\" class=\"dataframe\">\n",
              "  <thead>\n",
              "    <tr style=\"text-align: right;\">\n",
              "      <th></th>\n",
              "      <th>original_text</th>\n",
              "      <th>label</th>\n",
              "    </tr>\n",
              "  </thead>\n",
              "  <tbody>\n",
              "    <tr>\n",
              "      <th>0</th>\n",
              "      <td>There is manuscript evidence that Austen conti...</td>\n",
              "      <td>1</td>\n",
              "    </tr>\n",
              "    <tr>\n",
              "      <th>1</th>\n",
              "      <td>In a remarkable comparative analysis , Mandaea...</td>\n",
              "      <td>1</td>\n",
              "    </tr>\n",
              "    <tr>\n",
              "      <th>2</th>\n",
              "      <td>Before Persephone was released to Hermes , who...</td>\n",
              "      <td>1</td>\n",
              "    </tr>\n",
              "    <tr>\n",
              "      <th>3</th>\n",
              "      <td>Cogeneration plants are commonly found in dist...</td>\n",
              "      <td>1</td>\n",
              "    </tr>\n",
              "    <tr>\n",
              "      <th>4</th>\n",
              "      <td>Geneva -LRB- , ; , ; , ; ; -RRB- is the second...</td>\n",
              "      <td>1</td>\n",
              "    </tr>\n",
              "  </tbody>\n",
              "</table>\n",
              "</div>\n",
              "      <button class=\"colab-df-convert\" onclick=\"convertToInteractive('df-5ace2029-25ad-47e9-8abe-db867a221b9f')\"\n",
              "              title=\"Convert this dataframe to an interactive table.\"\n",
              "              style=\"display:none;\">\n",
              "        \n",
              "  <svg xmlns=\"http://www.w3.org/2000/svg\" height=\"24px\"viewBox=\"0 0 24 24\"\n",
              "       width=\"24px\">\n",
              "    <path d=\"M0 0h24v24H0V0z\" fill=\"none\"/>\n",
              "    <path d=\"M18.56 5.44l.94 2.06.94-2.06 2.06-.94-2.06-.94-.94-2.06-.94 2.06-2.06.94zm-11 1L8.5 8.5l.94-2.06 2.06-.94-2.06-.94L8.5 2.5l-.94 2.06-2.06.94zm10 10l.94 2.06.94-2.06 2.06-.94-2.06-.94-.94-2.06-.94 2.06-2.06.94z\"/><path d=\"M17.41 7.96l-1.37-1.37c-.4-.4-.92-.59-1.43-.59-.52 0-1.04.2-1.43.59L10.3 9.45l-7.72 7.72c-.78.78-.78 2.05 0 2.83L4 21.41c.39.39.9.59 1.41.59.51 0 1.02-.2 1.41-.59l7.78-7.78 2.81-2.81c.8-.78.8-2.07 0-2.86zM5.41 20L4 18.59l7.72-7.72 1.47 1.35L5.41 20z\"/>\n",
              "  </svg>\n",
              "      </button>\n",
              "      \n",
              "  <style>\n",
              "    .colab-df-container {\n",
              "      display:flex;\n",
              "      flex-wrap:wrap;\n",
              "      gap: 12px;\n",
              "    }\n",
              "\n",
              "    .colab-df-convert {\n",
              "      background-color: #E8F0FE;\n",
              "      border: none;\n",
              "      border-radius: 50%;\n",
              "      cursor: pointer;\n",
              "      display: none;\n",
              "      fill: #1967D2;\n",
              "      height: 32px;\n",
              "      padding: 0 0 0 0;\n",
              "      width: 32px;\n",
              "    }\n",
              "\n",
              "    .colab-df-convert:hover {\n",
              "      background-color: #E2EBFA;\n",
              "      box-shadow: 0px 1px 2px rgba(60, 64, 67, 0.3), 0px 1px 3px 1px rgba(60, 64, 67, 0.15);\n",
              "      fill: #174EA6;\n",
              "    }\n",
              "\n",
              "    [theme=dark] .colab-df-convert {\n",
              "      background-color: #3B4455;\n",
              "      fill: #D2E3FC;\n",
              "    }\n",
              "\n",
              "    [theme=dark] .colab-df-convert:hover {\n",
              "      background-color: #434B5C;\n",
              "      box-shadow: 0px 1px 3px 1px rgba(0, 0, 0, 0.15);\n",
              "      filter: drop-shadow(0px 1px 2px rgba(0, 0, 0, 0.3));\n",
              "      fill: #FFFFFF;\n",
              "    }\n",
              "  </style>\n",
              "\n",
              "      <script>\n",
              "        const buttonEl =\n",
              "          document.querySelector('#df-5ace2029-25ad-47e9-8abe-db867a221b9f button.colab-df-convert');\n",
              "        buttonEl.style.display =\n",
              "          google.colab.kernel.accessAllowed ? 'block' : 'none';\n",
              "\n",
              "        async function convertToInteractive(key) {\n",
              "          const element = document.querySelector('#df-5ace2029-25ad-47e9-8abe-db867a221b9f');\n",
              "          const dataTable =\n",
              "            await google.colab.kernel.invokeFunction('convertToInteractive',\n",
              "                                                     [key], {});\n",
              "          if (!dataTable) return;\n",
              "\n",
              "          const docLinkHtml = 'Like what you see? Visit the ' +\n",
              "            '<a target=\"_blank\" href=https://colab.research.google.com/notebooks/data_table.ipynb>data table notebook</a>'\n",
              "            + ' to learn more about interactive tables.';\n",
              "          element.innerHTML = '';\n",
              "          dataTable['output_type'] = 'display_data';\n",
              "          await google.colab.output.renderOutput(dataTable, element);\n",
              "          const docLink = document.createElement('div');\n",
              "          docLink.innerHTML = docLinkHtml;\n",
              "          element.appendChild(docLink);\n",
              "        }\n",
              "      </script>\n",
              "    </div>\n",
              "  </div>\n",
              "  "
            ]
          },
          "metadata": {},
          "execution_count": 18
        }
      ],
      "source": [
        "df = cw.process_file('WikiLarge_Train.csv')\n",
        "df.head()"
      ]
    },
    {
      "cell_type": "code",
      "source": [
        "df_sample = df.sample(n) if n >= 1 else df.sample(frac=n)"
      ],
      "metadata": {
        "id": "JspchTMw2oVB"
      },
      "execution_count": 19,
      "outputs": []
    },
    {
      "cell_type": "markdown",
      "source": [
        "## Lemmatize (and then some)"
      ],
      "metadata": {
        "id": "8gtRHJQCk275"
      }
    },
    {
      "cell_type": "code",
      "source": [
        "nlp = spacy.load('en_core_web_lg')\n",
        "tokens = []\n",
        "for doc in nlp.pipe(df_sample['original_text'], n_process=4):\n",
        "  tokens.append([w.lemma_ for w in doc])"
      ],
      "metadata": {
        "id": "KNMp8qECQX5C"
      },
      "execution_count": 20,
      "outputs": []
    },
    {
      "cell_type": "code",
      "source": [
        "df_AoA = pd.read_csv('AoA_51715_words.csv', encoding= 'unicode_escape')\n",
        "\n",
        "# load words and ages into dictionary\n",
        "age = {}\n",
        "for _, w in df_AoA.iterrows():\n",
        "  age[w[0]] = w[10]\n",
        "  if w[0] != w[1]:\n",
        "    age[w[1]] = w[10]\n",
        "\n",
        "df_AoA.sample(10)"
      ],
      "metadata": {
        "colab": {
          "base_uri": "https://localhost:8080/",
          "height": 427
        },
        "id": "eT3vVgzv21RV",
        "outputId": "e6b06df1-b679-49a4-aba2-27b05e9088fe"
      },
      "execution_count": 21,
      "outputs": [
        {
          "output_type": "execute_result",
          "data": {
            "text/plain": [
              "             Word Alternative.spelling  Freq_pm Dom_PoS_SUBTLEX  Nletters  \\\n",
              "31249   orangutan           orang-utan     0.57            Noun         9   \n",
              "23534    indolent             indolent     0.08       Adjective         8   \n",
              "36796    realtors             realtors     0.27            Noun         8   \n",
              "7895        cider                cider     1.90            Noun         5   \n",
              "17548      fiscal               fiscal     0.76       Adjective         6   \n",
              "45455    takeoffs             takeoffs     0.16            Noun         8   \n",
              "27468    maniacal             maniacal     0.53       Adjective         8   \n",
              "13881    dominion             dominion     1.14            Noun         8   \n",
              "38110     rescuer              rescuer     0.27            Noun         7   \n",
              "31486  outfitters           outfitters     0.06            Noun        10   \n",
              "\n",
              "       Nphon  Nsyll Lemma_highest_PoS  AoA_Kup  Perc_known  AoA_Kup_lem  \\\n",
              "31249      8      4         orangutan     7.83        0.86         7.83   \n",
              "23534      8      3          indolent    11.36        0.61        11.36   \n",
              "36796      7      3           realtor      NaN         NaN        11.71   \n",
              "7895       4      2             cider     5.83        0.95         5.83   \n",
              "17548      6      2            fiscal    14.89        1.00        14.89   \n",
              "45455      6      2           takeoff      NaN         NaN         7.35   \n",
              "27468      8      4          maniacal    13.29        0.94        13.29   \n",
              "13881      8      3          dominion    12.44        0.89        12.44   \n",
              "38110      7      3           rescuer     8.25        1.00         8.25   \n",
              "31486      7      3         outfitter      NaN         NaN        14.16   \n",
              "\n",
              "       Perc_known_lem  AoA_Bird_lem  AoA_Bristol_lem  AoA_Cort_lem  AoA_Schock  \n",
              "31249            0.86           NaN              NaN           NaN         NaN  \n",
              "23534            0.61           NaN              NaN           NaN         NaN  \n",
              "36796            1.00           NaN              NaN           NaN         NaN  \n",
              "7895             0.95           NaN             8.56           NaN        7.72  \n",
              "17548            1.00           NaN              NaN           NaN       12.53  \n",
              "45455            1.00           NaN              NaN           NaN         NaN  \n",
              "27468            0.94           NaN              NaN           NaN         NaN  \n",
              "13881            0.89           NaN              NaN           NaN         NaN  \n",
              "38110            1.00           NaN              NaN           NaN         NaN  \n",
              "31486            0.95           NaN              NaN           NaN         NaN  "
            ],
            "text/html": [
              "\n",
              "  <div id=\"df-77babc7d-7317-49fb-97c0-cf5044e56eb6\">\n",
              "    <div class=\"colab-df-container\">\n",
              "      <div>\n",
              "<style scoped>\n",
              "    .dataframe tbody tr th:only-of-type {\n",
              "        vertical-align: middle;\n",
              "    }\n",
              "\n",
              "    .dataframe tbody tr th {\n",
              "        vertical-align: top;\n",
              "    }\n",
              "\n",
              "    .dataframe thead th {\n",
              "        text-align: right;\n",
              "    }\n",
              "</style>\n",
              "<table border=\"1\" class=\"dataframe\">\n",
              "  <thead>\n",
              "    <tr style=\"text-align: right;\">\n",
              "      <th></th>\n",
              "      <th>Word</th>\n",
              "      <th>Alternative.spelling</th>\n",
              "      <th>Freq_pm</th>\n",
              "      <th>Dom_PoS_SUBTLEX</th>\n",
              "      <th>Nletters</th>\n",
              "      <th>Nphon</th>\n",
              "      <th>Nsyll</th>\n",
              "      <th>Lemma_highest_PoS</th>\n",
              "      <th>AoA_Kup</th>\n",
              "      <th>Perc_known</th>\n",
              "      <th>AoA_Kup_lem</th>\n",
              "      <th>Perc_known_lem</th>\n",
              "      <th>AoA_Bird_lem</th>\n",
              "      <th>AoA_Bristol_lem</th>\n",
              "      <th>AoA_Cort_lem</th>\n",
              "      <th>AoA_Schock</th>\n",
              "    </tr>\n",
              "  </thead>\n",
              "  <tbody>\n",
              "    <tr>\n",
              "      <th>31249</th>\n",
              "      <td>orangutan</td>\n",
              "      <td>orang-utan</td>\n",
              "      <td>0.57</td>\n",
              "      <td>Noun</td>\n",
              "      <td>9</td>\n",
              "      <td>8</td>\n",
              "      <td>4</td>\n",
              "      <td>orangutan</td>\n",
              "      <td>7.83</td>\n",
              "      <td>0.86</td>\n",
              "      <td>7.83</td>\n",
              "      <td>0.86</td>\n",
              "      <td>NaN</td>\n",
              "      <td>NaN</td>\n",
              "      <td>NaN</td>\n",
              "      <td>NaN</td>\n",
              "    </tr>\n",
              "    <tr>\n",
              "      <th>23534</th>\n",
              "      <td>indolent</td>\n",
              "      <td>indolent</td>\n",
              "      <td>0.08</td>\n",
              "      <td>Adjective</td>\n",
              "      <td>8</td>\n",
              "      <td>8</td>\n",
              "      <td>3</td>\n",
              "      <td>indolent</td>\n",
              "      <td>11.36</td>\n",
              "      <td>0.61</td>\n",
              "      <td>11.36</td>\n",
              "      <td>0.61</td>\n",
              "      <td>NaN</td>\n",
              "      <td>NaN</td>\n",
              "      <td>NaN</td>\n",
              "      <td>NaN</td>\n",
              "    </tr>\n",
              "    <tr>\n",
              "      <th>36796</th>\n",
              "      <td>realtors</td>\n",
              "      <td>realtors</td>\n",
              "      <td>0.27</td>\n",
              "      <td>Noun</td>\n",
              "      <td>8</td>\n",
              "      <td>7</td>\n",
              "      <td>3</td>\n",
              "      <td>realtor</td>\n",
              "      <td>NaN</td>\n",
              "      <td>NaN</td>\n",
              "      <td>11.71</td>\n",
              "      <td>1.00</td>\n",
              "      <td>NaN</td>\n",
              "      <td>NaN</td>\n",
              "      <td>NaN</td>\n",
              "      <td>NaN</td>\n",
              "    </tr>\n",
              "    <tr>\n",
              "      <th>7895</th>\n",
              "      <td>cider</td>\n",
              "      <td>cider</td>\n",
              "      <td>1.90</td>\n",
              "      <td>Noun</td>\n",
              "      <td>5</td>\n",
              "      <td>4</td>\n",
              "      <td>2</td>\n",
              "      <td>cider</td>\n",
              "      <td>5.83</td>\n",
              "      <td>0.95</td>\n",
              "      <td>5.83</td>\n",
              "      <td>0.95</td>\n",
              "      <td>NaN</td>\n",
              "      <td>8.56</td>\n",
              "      <td>NaN</td>\n",
              "      <td>7.72</td>\n",
              "    </tr>\n",
              "    <tr>\n",
              "      <th>17548</th>\n",
              "      <td>fiscal</td>\n",
              "      <td>fiscal</td>\n",
              "      <td>0.76</td>\n",
              "      <td>Adjective</td>\n",
              "      <td>6</td>\n",
              "      <td>6</td>\n",
              "      <td>2</td>\n",
              "      <td>fiscal</td>\n",
              "      <td>14.89</td>\n",
              "      <td>1.00</td>\n",
              "      <td>14.89</td>\n",
              "      <td>1.00</td>\n",
              "      <td>NaN</td>\n",
              "      <td>NaN</td>\n",
              "      <td>NaN</td>\n",
              "      <td>12.53</td>\n",
              "    </tr>\n",
              "    <tr>\n",
              "      <th>45455</th>\n",
              "      <td>takeoffs</td>\n",
              "      <td>takeoffs</td>\n",
              "      <td>0.16</td>\n",
              "      <td>Noun</td>\n",
              "      <td>8</td>\n",
              "      <td>6</td>\n",
              "      <td>2</td>\n",
              "      <td>takeoff</td>\n",
              "      <td>NaN</td>\n",
              "      <td>NaN</td>\n",
              "      <td>7.35</td>\n",
              "      <td>1.00</td>\n",
              "      <td>NaN</td>\n",
              "      <td>NaN</td>\n",
              "      <td>NaN</td>\n",
              "      <td>NaN</td>\n",
              "    </tr>\n",
              "    <tr>\n",
              "      <th>27468</th>\n",
              "      <td>maniacal</td>\n",
              "      <td>maniacal</td>\n",
              "      <td>0.53</td>\n",
              "      <td>Adjective</td>\n",
              "      <td>8</td>\n",
              "      <td>8</td>\n",
              "      <td>4</td>\n",
              "      <td>maniacal</td>\n",
              "      <td>13.29</td>\n",
              "      <td>0.94</td>\n",
              "      <td>13.29</td>\n",
              "      <td>0.94</td>\n",
              "      <td>NaN</td>\n",
              "      <td>NaN</td>\n",
              "      <td>NaN</td>\n",
              "      <td>NaN</td>\n",
              "    </tr>\n",
              "    <tr>\n",
              "      <th>13881</th>\n",
              "      <td>dominion</td>\n",
              "      <td>dominion</td>\n",
              "      <td>1.14</td>\n",
              "      <td>Noun</td>\n",
              "      <td>8</td>\n",
              "      <td>8</td>\n",
              "      <td>3</td>\n",
              "      <td>dominion</td>\n",
              "      <td>12.44</td>\n",
              "      <td>0.89</td>\n",
              "      <td>12.44</td>\n",
              "      <td>0.89</td>\n",
              "      <td>NaN</td>\n",
              "      <td>NaN</td>\n",
              "      <td>NaN</td>\n",
              "      <td>NaN</td>\n",
              "    </tr>\n",
              "    <tr>\n",
              "      <th>38110</th>\n",
              "      <td>rescuer</td>\n",
              "      <td>rescuer</td>\n",
              "      <td>0.27</td>\n",
              "      <td>Noun</td>\n",
              "      <td>7</td>\n",
              "      <td>7</td>\n",
              "      <td>3</td>\n",
              "      <td>rescuer</td>\n",
              "      <td>8.25</td>\n",
              "      <td>1.00</td>\n",
              "      <td>8.25</td>\n",
              "      <td>1.00</td>\n",
              "      <td>NaN</td>\n",
              "      <td>NaN</td>\n",
              "      <td>NaN</td>\n",
              "      <td>NaN</td>\n",
              "    </tr>\n",
              "    <tr>\n",
              "      <th>31486</th>\n",
              "      <td>outfitters</td>\n",
              "      <td>outfitters</td>\n",
              "      <td>0.06</td>\n",
              "      <td>Noun</td>\n",
              "      <td>10</td>\n",
              "      <td>7</td>\n",
              "      <td>3</td>\n",
              "      <td>outfitter</td>\n",
              "      <td>NaN</td>\n",
              "      <td>NaN</td>\n",
              "      <td>14.16</td>\n",
              "      <td>0.95</td>\n",
              "      <td>NaN</td>\n",
              "      <td>NaN</td>\n",
              "      <td>NaN</td>\n",
              "      <td>NaN</td>\n",
              "    </tr>\n",
              "  </tbody>\n",
              "</table>\n",
              "</div>\n",
              "      <button class=\"colab-df-convert\" onclick=\"convertToInteractive('df-77babc7d-7317-49fb-97c0-cf5044e56eb6')\"\n",
              "              title=\"Convert this dataframe to an interactive table.\"\n",
              "              style=\"display:none;\">\n",
              "        \n",
              "  <svg xmlns=\"http://www.w3.org/2000/svg\" height=\"24px\"viewBox=\"0 0 24 24\"\n",
              "       width=\"24px\">\n",
              "    <path d=\"M0 0h24v24H0V0z\" fill=\"none\"/>\n",
              "    <path d=\"M18.56 5.44l.94 2.06.94-2.06 2.06-.94-2.06-.94-.94-2.06-.94 2.06-2.06.94zm-11 1L8.5 8.5l.94-2.06 2.06-.94-2.06-.94L8.5 2.5l-.94 2.06-2.06.94zm10 10l.94 2.06.94-2.06 2.06-.94-2.06-.94-.94-2.06-.94 2.06-2.06.94z\"/><path d=\"M17.41 7.96l-1.37-1.37c-.4-.4-.92-.59-1.43-.59-.52 0-1.04.2-1.43.59L10.3 9.45l-7.72 7.72c-.78.78-.78 2.05 0 2.83L4 21.41c.39.39.9.59 1.41.59.51 0 1.02-.2 1.41-.59l7.78-7.78 2.81-2.81c.8-.78.8-2.07 0-2.86zM5.41 20L4 18.59l7.72-7.72 1.47 1.35L5.41 20z\"/>\n",
              "  </svg>\n",
              "      </button>\n",
              "      \n",
              "  <style>\n",
              "    .colab-df-container {\n",
              "      display:flex;\n",
              "      flex-wrap:wrap;\n",
              "      gap: 12px;\n",
              "    }\n",
              "\n",
              "    .colab-df-convert {\n",
              "      background-color: #E8F0FE;\n",
              "      border: none;\n",
              "      border-radius: 50%;\n",
              "      cursor: pointer;\n",
              "      display: none;\n",
              "      fill: #1967D2;\n",
              "      height: 32px;\n",
              "      padding: 0 0 0 0;\n",
              "      width: 32px;\n",
              "    }\n",
              "\n",
              "    .colab-df-convert:hover {\n",
              "      background-color: #E2EBFA;\n",
              "      box-shadow: 0px 1px 2px rgba(60, 64, 67, 0.3), 0px 1px 3px 1px rgba(60, 64, 67, 0.15);\n",
              "      fill: #174EA6;\n",
              "    }\n",
              "\n",
              "    [theme=dark] .colab-df-convert {\n",
              "      background-color: #3B4455;\n",
              "      fill: #D2E3FC;\n",
              "    }\n",
              "\n",
              "    [theme=dark] .colab-df-convert:hover {\n",
              "      background-color: #434B5C;\n",
              "      box-shadow: 0px 1px 3px 1px rgba(0, 0, 0, 0.15);\n",
              "      filter: drop-shadow(0px 1px 2px rgba(0, 0, 0, 0.3));\n",
              "      fill: #FFFFFF;\n",
              "    }\n",
              "  </style>\n",
              "\n",
              "      <script>\n",
              "        const buttonEl =\n",
              "          document.querySelector('#df-77babc7d-7317-49fb-97c0-cf5044e56eb6 button.colab-df-convert');\n",
              "        buttonEl.style.display =\n",
              "          google.colab.kernel.accessAllowed ? 'block' : 'none';\n",
              "\n",
              "        async function convertToInteractive(key) {\n",
              "          const element = document.querySelector('#df-77babc7d-7317-49fb-97c0-cf5044e56eb6');\n",
              "          const dataTable =\n",
              "            await google.colab.kernel.invokeFunction('convertToInteractive',\n",
              "                                                     [key], {});\n",
              "          if (!dataTable) return;\n",
              "\n",
              "          const docLinkHtml = 'Like what you see? Visit the ' +\n",
              "            '<a target=\"_blank\" href=https://colab.research.google.com/notebooks/data_table.ipynb>data table notebook</a>'\n",
              "            + ' to learn more about interactive tables.';\n",
              "          element.innerHTML = '';\n",
              "          dataTable['output_type'] = 'display_data';\n",
              "          await google.colab.output.renderOutput(dataTable, element);\n",
              "          const docLink = document.createElement('div');\n",
              "          docLink.innerHTML = docLinkHtml;\n",
              "          element.appendChild(docLink);\n",
              "        }\n",
              "      </script>\n",
              "    </div>\n",
              "  </div>\n",
              "  "
            ]
          },
          "metadata": {},
          "execution_count": 21
        }
      ]
    },
    {
      "cell_type": "code",
      "source": [],
      "metadata": {
        "id": "seR1HVa2MOAw"
      },
      "execution_count": 21,
      "outputs": []
    },
    {
      "cell_type": "markdown",
      "source": [
        "## Basic Features"
      ],
      "metadata": {
        "id": "l8GkkxN3awSO"
      }
    },
    {
      "cell_type": "code",
      "source": [
        "df_sample.head()"
      ],
      "metadata": {
        "id": "z0BSikHH0nve",
        "outputId": "76e87a46-38dd-4ce0-c830-3b2ccd29890b",
        "colab": {
          "base_uri": "https://localhost:8080/",
          "height": 206
        }
      },
      "execution_count": 22,
      "outputs": [
        {
          "output_type": "execute_result",
          "data": {
            "text/plain": [
              "                                            original_text label\n",
              "335824  Each 15 seconds that passed without the secret...     0\n",
              "207180  The Tiger-Cats of the Canadian Football League...     0\n",
              "276128  You will get a warning , above the edit box , ...     0\n",
              "355858  While they were at it , some chose to change t...     0\n",
              "366038  Praeger , 2001 online version Further reading ...     0"
            ],
            "text/html": [
              "\n",
              "  <div id=\"df-f333fbec-a034-4ab0-a653-350e95f7e487\">\n",
              "    <div class=\"colab-df-container\">\n",
              "      <div>\n",
              "<style scoped>\n",
              "    .dataframe tbody tr th:only-of-type {\n",
              "        vertical-align: middle;\n",
              "    }\n",
              "\n",
              "    .dataframe tbody tr th {\n",
              "        vertical-align: top;\n",
              "    }\n",
              "\n",
              "    .dataframe thead th {\n",
              "        text-align: right;\n",
              "    }\n",
              "</style>\n",
              "<table border=\"1\" class=\"dataframe\">\n",
              "  <thead>\n",
              "    <tr style=\"text-align: right;\">\n",
              "      <th></th>\n",
              "      <th>original_text</th>\n",
              "      <th>label</th>\n",
              "    </tr>\n",
              "  </thead>\n",
              "  <tbody>\n",
              "    <tr>\n",
              "      <th>335824</th>\n",
              "      <td>Each 15 seconds that passed without the secret...</td>\n",
              "      <td>0</td>\n",
              "    </tr>\n",
              "    <tr>\n",
              "      <th>207180</th>\n",
              "      <td>The Tiger-Cats of the Canadian Football League...</td>\n",
              "      <td>0</td>\n",
              "    </tr>\n",
              "    <tr>\n",
              "      <th>276128</th>\n",
              "      <td>You will get a warning , above the edit box , ...</td>\n",
              "      <td>0</td>\n",
              "    </tr>\n",
              "    <tr>\n",
              "      <th>355858</th>\n",
              "      <td>While they were at it , some chose to change t...</td>\n",
              "      <td>0</td>\n",
              "    </tr>\n",
              "    <tr>\n",
              "      <th>366038</th>\n",
              "      <td>Praeger , 2001 online version Further reading ...</td>\n",
              "      <td>0</td>\n",
              "    </tr>\n",
              "  </tbody>\n",
              "</table>\n",
              "</div>\n",
              "      <button class=\"colab-df-convert\" onclick=\"convertToInteractive('df-f333fbec-a034-4ab0-a653-350e95f7e487')\"\n",
              "              title=\"Convert this dataframe to an interactive table.\"\n",
              "              style=\"display:none;\">\n",
              "        \n",
              "  <svg xmlns=\"http://www.w3.org/2000/svg\" height=\"24px\"viewBox=\"0 0 24 24\"\n",
              "       width=\"24px\">\n",
              "    <path d=\"M0 0h24v24H0V0z\" fill=\"none\"/>\n",
              "    <path d=\"M18.56 5.44l.94 2.06.94-2.06 2.06-.94-2.06-.94-.94-2.06-.94 2.06-2.06.94zm-11 1L8.5 8.5l.94-2.06 2.06-.94-2.06-.94L8.5 2.5l-.94 2.06-2.06.94zm10 10l.94 2.06.94-2.06 2.06-.94-2.06-.94-.94-2.06-.94 2.06-2.06.94z\"/><path d=\"M17.41 7.96l-1.37-1.37c-.4-.4-.92-.59-1.43-.59-.52 0-1.04.2-1.43.59L10.3 9.45l-7.72 7.72c-.78.78-.78 2.05 0 2.83L4 21.41c.39.39.9.59 1.41.59.51 0 1.02-.2 1.41-.59l7.78-7.78 2.81-2.81c.8-.78.8-2.07 0-2.86zM5.41 20L4 18.59l7.72-7.72 1.47 1.35L5.41 20z\"/>\n",
              "  </svg>\n",
              "      </button>\n",
              "      \n",
              "  <style>\n",
              "    .colab-df-container {\n",
              "      display:flex;\n",
              "      flex-wrap:wrap;\n",
              "      gap: 12px;\n",
              "    }\n",
              "\n",
              "    .colab-df-convert {\n",
              "      background-color: #E8F0FE;\n",
              "      border: none;\n",
              "      border-radius: 50%;\n",
              "      cursor: pointer;\n",
              "      display: none;\n",
              "      fill: #1967D2;\n",
              "      height: 32px;\n",
              "      padding: 0 0 0 0;\n",
              "      width: 32px;\n",
              "    }\n",
              "\n",
              "    .colab-df-convert:hover {\n",
              "      background-color: #E2EBFA;\n",
              "      box-shadow: 0px 1px 2px rgba(60, 64, 67, 0.3), 0px 1px 3px 1px rgba(60, 64, 67, 0.15);\n",
              "      fill: #174EA6;\n",
              "    }\n",
              "\n",
              "    [theme=dark] .colab-df-convert {\n",
              "      background-color: #3B4455;\n",
              "      fill: #D2E3FC;\n",
              "    }\n",
              "\n",
              "    [theme=dark] .colab-df-convert:hover {\n",
              "      background-color: #434B5C;\n",
              "      box-shadow: 0px 1px 3px 1px rgba(0, 0, 0, 0.15);\n",
              "      filter: drop-shadow(0px 1px 2px rgba(0, 0, 0, 0.3));\n",
              "      fill: #FFFFFF;\n",
              "    }\n",
              "  </style>\n",
              "\n",
              "      <script>\n",
              "        const buttonEl =\n",
              "          document.querySelector('#df-f333fbec-a034-4ab0-a653-350e95f7e487 button.colab-df-convert');\n",
              "        buttonEl.style.display =\n",
              "          google.colab.kernel.accessAllowed ? 'block' : 'none';\n",
              "\n",
              "        async function convertToInteractive(key) {\n",
              "          const element = document.querySelector('#df-f333fbec-a034-4ab0-a653-350e95f7e487');\n",
              "          const dataTable =\n",
              "            await google.colab.kernel.invokeFunction('convertToInteractive',\n",
              "                                                     [key], {});\n",
              "          if (!dataTable) return;\n",
              "\n",
              "          const docLinkHtml = 'Like what you see? Visit the ' +\n",
              "            '<a target=\"_blank\" href=https://colab.research.google.com/notebooks/data_table.ipynb>data table notebook</a>'\n",
              "            + ' to learn more about interactive tables.';\n",
              "          element.innerHTML = '';\n",
              "          dataTable['output_type'] = 'display_data';\n",
              "          await google.colab.output.renderOutput(dataTable, element);\n",
              "          const docLink = document.createElement('div');\n",
              "          docLink.innerHTML = docLinkHtml;\n",
              "          element.appendChild(docLink);\n",
              "        }\n",
              "      </script>\n",
              "    </div>\n",
              "  </div>\n",
              "  "
            ]
          },
          "metadata": {},
          "execution_count": 22
        }
      ]
    },
    {
      "cell_type": "code",
      "source": [
        "# Basic stats\n",
        "df_sample['num_lemmas'] = [len(s) for s in tokens]\n",
        "df_sample['min_age'] = [np.nanmin([age.get(w, np.nan) for w in s]) for s in tokens]\n",
        "df_sample['mean_age'] = [np.nanmean([age.get(w, np.nan) for w in s]) for s in tokens]\n",
        "df_sample['max_age'] = [np.nanmax([age.get(w, np.nan) for w in s]) for s in tokens]\n",
        "df_sample['num_listed'] = [len([w for w in s if age.get(w,0) > 0]) for s in tokens]\n",
        "df_sample['num_unlisted'] = df_sample['num_lemmas'] - df_sample['num_listed']\n",
        "\n",
        "# Grade level\n",
        "df_sample['grade_min_age'] = df_sample['min_age'].apply(lambda x: grade_finder(x))\n",
        "df_sample['grade_mean_age'] = df_sample['mean_age'].apply(lambda x: grade_finder(x))\n",
        "df_sample['grade_max_age'] = df_sample['max_age'].apply(lambda x: grade_finder(x))"
      ],
      "metadata": {
        "colab": {
          "base_uri": "https://localhost:8080/"
        },
        "id": "1WFHUO4IM_j5",
        "outputId": "45382463-faf7-4fb1-f300-e2a6f4b3fea0"
      },
      "execution_count": 23,
      "outputs": [
        {
          "output_type": "stream",
          "name": "stderr",
          "text": [
            "/usr/local/lib/python3.7/dist-packages/ipykernel_launcher.py:3: RuntimeWarning: All-NaN axis encountered\n",
            "  This is separate from the ipykernel package so we can avoid doing imports until\n",
            "/usr/local/lib/python3.7/dist-packages/ipykernel_launcher.py:4: RuntimeWarning: Mean of empty slice\n",
            "  after removing the cwd from sys.path.\n",
            "/usr/local/lib/python3.7/dist-packages/ipykernel_launcher.py:5: RuntimeWarning: All-NaN axis encountered\n",
            "  \"\"\"\n"
          ]
        }
      ]
    },
    {
      "cell_type": "markdown",
      "source": [
        "## Feature Statistics"
      ],
      "metadata": {
        "id": "edD91KubbQF-"
      }
    },
    {
      "cell_type": "code",
      "source": [
        "means = df_sample.mean()\n",
        "sdevs = df_sample.std()\n",
        "\n",
        "mdict = {}\n",
        "for m in means:\n",
        "  mdict[means[means==m].index[0]] = m\n",
        "\n",
        "sdict = {}\n",
        "for s in sdevs:\n",
        "  sdict[sdevs[sdevs==s].index[0]] = s"
      ],
      "metadata": {
        "colab": {
          "base_uri": "https://localhost:8080/"
        },
        "id": "h-TDlRL-XDtp",
        "outputId": "9958c841-6d68-4ff2-97e9-13944cdb4ccc"
      },
      "execution_count": 24,
      "outputs": [
        {
          "output_type": "stream",
          "name": "stderr",
          "text": [
            "/usr/local/lib/python3.7/dist-packages/ipykernel_launcher.py:1: FutureWarning: Dropping of nuisance columns in DataFrame reductions (with 'numeric_only=None') is deprecated; in a future version this will raise TypeError.  Select only valid columns before calling the reduction.\n",
            "  \"\"\"Entry point for launching an IPython kernel.\n",
            "/usr/local/lib/python3.7/dist-packages/ipykernel_launcher.py:2: FutureWarning: Dropping of nuisance columns in DataFrame reductions (with 'numeric_only=None') is deprecated; in a future version this will raise TypeError.  Select only valid columns before calling the reduction.\n",
            "  \n"
          ]
        }
      ]
    },
    {
      "cell_type": "markdown",
      "source": [
        "## Z-Score Features"
      ],
      "metadata": {
        "id": "xoIQ-RgebVta"
      }
    },
    {
      "cell_type": "code",
      "source": [
        "for c in df_sample.columns[2:8]:\n",
        "  df_sample[f'z_{c}'] = (df_sample[c] - means[c]) / sdevs[c]\n",
        "\n",
        "df_sample.head()"
      ],
      "metadata": {
        "colab": {
          "base_uri": "https://localhost:8080/",
          "height": 513
        },
        "id": "vnRtBuNbcCOa",
        "outputId": "fc4272a6-8163-442c-9316-2a3f953c31b3"
      },
      "execution_count": 25,
      "outputs": [
        {
          "output_type": "execute_result",
          "data": {
            "text/plain": [
              "                                            original_text label  num_lemmas  \\\n",
              "335824  Each 15 seconds that passed without the secret...     0          29   \n",
              "207180  The Tiger-Cats of the Canadian Football League...     0          15   \n",
              "276128  You will get a warning , above the edit box , ...     0          21   \n",
              "355858  While they were at it , some chose to change t...     0          16   \n",
              "366038  Praeger , 2001 online version Further reading ...     0          25   \n",
              "\n",
              "        min_age  mean_age  max_age  num_listed  num_unlisted  grade_min_age  \\\n",
              "335824     2.89  5.109500     8.21          20             9             -1   \n",
              "207180     3.98  4.130000     4.55           5            10              0   \n",
              "276128     2.89  5.498750    10.33          16             5             -1   \n",
              "355858     3.95  5.276429     7.79          14             2              0   \n",
              "366038     3.98  5.830000    10.25           8            17              0   \n",
              "\n",
              "        grade_mean_age  grade_max_age  z_num_lemmas  z_min_age  z_mean_age  \\\n",
              "335824               1              1      0.450132  -0.608494   -0.569450   \n",
              "207180               0              0     -0.681138   0.817037   -1.684099   \n",
              "276128               1              1     -0.196308  -0.608494   -0.126492   \n",
              "355858               1              1     -0.600333   0.777802   -0.379489   \n",
              "366038               1              1      0.126912   0.817037    0.250463   \n",
              "\n",
              "        z_max_age  z_num_listed  z_num_unlisted  \n",
              "335824  -0.748722      0.626612        0.001193  \n",
              "207180  -2.178923     -1.063067        0.152159  \n",
              "276128   0.079701      0.176031       -0.602672  \n",
              "355858  -0.912843     -0.049260       -1.055570  \n",
              "366038   0.048440     -0.725131        1.208921  "
            ],
            "text/html": [
              "\n",
              "  <div id=\"df-760c9450-c204-48f1-9eb2-ba07e67dea02\">\n",
              "    <div class=\"colab-df-container\">\n",
              "      <div>\n",
              "<style scoped>\n",
              "    .dataframe tbody tr th:only-of-type {\n",
              "        vertical-align: middle;\n",
              "    }\n",
              "\n",
              "    .dataframe tbody tr th {\n",
              "        vertical-align: top;\n",
              "    }\n",
              "\n",
              "    .dataframe thead th {\n",
              "        text-align: right;\n",
              "    }\n",
              "</style>\n",
              "<table border=\"1\" class=\"dataframe\">\n",
              "  <thead>\n",
              "    <tr style=\"text-align: right;\">\n",
              "      <th></th>\n",
              "      <th>original_text</th>\n",
              "      <th>label</th>\n",
              "      <th>num_lemmas</th>\n",
              "      <th>min_age</th>\n",
              "      <th>mean_age</th>\n",
              "      <th>max_age</th>\n",
              "      <th>num_listed</th>\n",
              "      <th>num_unlisted</th>\n",
              "      <th>grade_min_age</th>\n",
              "      <th>grade_mean_age</th>\n",
              "      <th>grade_max_age</th>\n",
              "      <th>z_num_lemmas</th>\n",
              "      <th>z_min_age</th>\n",
              "      <th>z_mean_age</th>\n",
              "      <th>z_max_age</th>\n",
              "      <th>z_num_listed</th>\n",
              "      <th>z_num_unlisted</th>\n",
              "    </tr>\n",
              "  </thead>\n",
              "  <tbody>\n",
              "    <tr>\n",
              "      <th>335824</th>\n",
              "      <td>Each 15 seconds that passed without the secret...</td>\n",
              "      <td>0</td>\n",
              "      <td>29</td>\n",
              "      <td>2.89</td>\n",
              "      <td>5.109500</td>\n",
              "      <td>8.21</td>\n",
              "      <td>20</td>\n",
              "      <td>9</td>\n",
              "      <td>-1</td>\n",
              "      <td>1</td>\n",
              "      <td>1</td>\n",
              "      <td>0.450132</td>\n",
              "      <td>-0.608494</td>\n",
              "      <td>-0.569450</td>\n",
              "      <td>-0.748722</td>\n",
              "      <td>0.626612</td>\n",
              "      <td>0.001193</td>\n",
              "    </tr>\n",
              "    <tr>\n",
              "      <th>207180</th>\n",
              "      <td>The Tiger-Cats of the Canadian Football League...</td>\n",
              "      <td>0</td>\n",
              "      <td>15</td>\n",
              "      <td>3.98</td>\n",
              "      <td>4.130000</td>\n",
              "      <td>4.55</td>\n",
              "      <td>5</td>\n",
              "      <td>10</td>\n",
              "      <td>0</td>\n",
              "      <td>0</td>\n",
              "      <td>0</td>\n",
              "      <td>-0.681138</td>\n",
              "      <td>0.817037</td>\n",
              "      <td>-1.684099</td>\n",
              "      <td>-2.178923</td>\n",
              "      <td>-1.063067</td>\n",
              "      <td>0.152159</td>\n",
              "    </tr>\n",
              "    <tr>\n",
              "      <th>276128</th>\n",
              "      <td>You will get a warning , above the edit box , ...</td>\n",
              "      <td>0</td>\n",
              "      <td>21</td>\n",
              "      <td>2.89</td>\n",
              "      <td>5.498750</td>\n",
              "      <td>10.33</td>\n",
              "      <td>16</td>\n",
              "      <td>5</td>\n",
              "      <td>-1</td>\n",
              "      <td>1</td>\n",
              "      <td>1</td>\n",
              "      <td>-0.196308</td>\n",
              "      <td>-0.608494</td>\n",
              "      <td>-0.126492</td>\n",
              "      <td>0.079701</td>\n",
              "      <td>0.176031</td>\n",
              "      <td>-0.602672</td>\n",
              "    </tr>\n",
              "    <tr>\n",
              "      <th>355858</th>\n",
              "      <td>While they were at it , some chose to change t...</td>\n",
              "      <td>0</td>\n",
              "      <td>16</td>\n",
              "      <td>3.95</td>\n",
              "      <td>5.276429</td>\n",
              "      <td>7.79</td>\n",
              "      <td>14</td>\n",
              "      <td>2</td>\n",
              "      <td>0</td>\n",
              "      <td>1</td>\n",
              "      <td>1</td>\n",
              "      <td>-0.600333</td>\n",
              "      <td>0.777802</td>\n",
              "      <td>-0.379489</td>\n",
              "      <td>-0.912843</td>\n",
              "      <td>-0.049260</td>\n",
              "      <td>-1.055570</td>\n",
              "    </tr>\n",
              "    <tr>\n",
              "      <th>366038</th>\n",
              "      <td>Praeger , 2001 online version Further reading ...</td>\n",
              "      <td>0</td>\n",
              "      <td>25</td>\n",
              "      <td>3.98</td>\n",
              "      <td>5.830000</td>\n",
              "      <td>10.25</td>\n",
              "      <td>8</td>\n",
              "      <td>17</td>\n",
              "      <td>0</td>\n",
              "      <td>1</td>\n",
              "      <td>1</td>\n",
              "      <td>0.126912</td>\n",
              "      <td>0.817037</td>\n",
              "      <td>0.250463</td>\n",
              "      <td>0.048440</td>\n",
              "      <td>-0.725131</td>\n",
              "      <td>1.208921</td>\n",
              "    </tr>\n",
              "  </tbody>\n",
              "</table>\n",
              "</div>\n",
              "      <button class=\"colab-df-convert\" onclick=\"convertToInteractive('df-760c9450-c204-48f1-9eb2-ba07e67dea02')\"\n",
              "              title=\"Convert this dataframe to an interactive table.\"\n",
              "              style=\"display:none;\">\n",
              "        \n",
              "  <svg xmlns=\"http://www.w3.org/2000/svg\" height=\"24px\"viewBox=\"0 0 24 24\"\n",
              "       width=\"24px\">\n",
              "    <path d=\"M0 0h24v24H0V0z\" fill=\"none\"/>\n",
              "    <path d=\"M18.56 5.44l.94 2.06.94-2.06 2.06-.94-2.06-.94-.94-2.06-.94 2.06-2.06.94zm-11 1L8.5 8.5l.94-2.06 2.06-.94-2.06-.94L8.5 2.5l-.94 2.06-2.06.94zm10 10l.94 2.06.94-2.06 2.06-.94-2.06-.94-.94-2.06-.94 2.06-2.06.94z\"/><path d=\"M17.41 7.96l-1.37-1.37c-.4-.4-.92-.59-1.43-.59-.52 0-1.04.2-1.43.59L10.3 9.45l-7.72 7.72c-.78.78-.78 2.05 0 2.83L4 21.41c.39.39.9.59 1.41.59.51 0 1.02-.2 1.41-.59l7.78-7.78 2.81-2.81c.8-.78.8-2.07 0-2.86zM5.41 20L4 18.59l7.72-7.72 1.47 1.35L5.41 20z\"/>\n",
              "  </svg>\n",
              "      </button>\n",
              "      \n",
              "  <style>\n",
              "    .colab-df-container {\n",
              "      display:flex;\n",
              "      flex-wrap:wrap;\n",
              "      gap: 12px;\n",
              "    }\n",
              "\n",
              "    .colab-df-convert {\n",
              "      background-color: #E8F0FE;\n",
              "      border: none;\n",
              "      border-radius: 50%;\n",
              "      cursor: pointer;\n",
              "      display: none;\n",
              "      fill: #1967D2;\n",
              "      height: 32px;\n",
              "      padding: 0 0 0 0;\n",
              "      width: 32px;\n",
              "    }\n",
              "\n",
              "    .colab-df-convert:hover {\n",
              "      background-color: #E2EBFA;\n",
              "      box-shadow: 0px 1px 2px rgba(60, 64, 67, 0.3), 0px 1px 3px 1px rgba(60, 64, 67, 0.15);\n",
              "      fill: #174EA6;\n",
              "    }\n",
              "\n",
              "    [theme=dark] .colab-df-convert {\n",
              "      background-color: #3B4455;\n",
              "      fill: #D2E3FC;\n",
              "    }\n",
              "\n",
              "    [theme=dark] .colab-df-convert:hover {\n",
              "      background-color: #434B5C;\n",
              "      box-shadow: 0px 1px 3px 1px rgba(0, 0, 0, 0.15);\n",
              "      filter: drop-shadow(0px 1px 2px rgba(0, 0, 0, 0.3));\n",
              "      fill: #FFFFFF;\n",
              "    }\n",
              "  </style>\n",
              "\n",
              "      <script>\n",
              "        const buttonEl =\n",
              "          document.querySelector('#df-760c9450-c204-48f1-9eb2-ba07e67dea02 button.colab-df-convert');\n",
              "        buttonEl.style.display =\n",
              "          google.colab.kernel.accessAllowed ? 'block' : 'none';\n",
              "\n",
              "        async function convertToInteractive(key) {\n",
              "          const element = document.querySelector('#df-760c9450-c204-48f1-9eb2-ba07e67dea02');\n",
              "          const dataTable =\n",
              "            await google.colab.kernel.invokeFunction('convertToInteractive',\n",
              "                                                     [key], {});\n",
              "          if (!dataTable) return;\n",
              "\n",
              "          const docLinkHtml = 'Like what you see? Visit the ' +\n",
              "            '<a target=\"_blank\" href=https://colab.research.google.com/notebooks/data_table.ipynb>data table notebook</a>'\n",
              "            + ' to learn more about interactive tables.';\n",
              "          element.innerHTML = '';\n",
              "          dataTable['output_type'] = 'display_data';\n",
              "          await google.colab.output.renderOutput(dataTable, element);\n",
              "          const docLink = document.createElement('div');\n",
              "          docLink.innerHTML = docLinkHtml;\n",
              "          element.appendChild(docLink);\n",
              "        }\n",
              "      </script>\n",
              "    </div>\n",
              "  </div>\n",
              "  "
            ]
          },
          "metadata": {},
          "execution_count": 25
        }
      ]
    },
    {
      "cell_type": "markdown",
      "source": [
        "## Feature Importance"
      ],
      "metadata": {
        "id": "q6aPU1d0lQKr"
      }
    },
    {
      "cell_type": "code",
      "source": [
        "# Nan's break the model\n",
        "df_clean = df_sample.dropna()"
      ],
      "metadata": {
        "id": "uY4R-RqCfqk3"
      },
      "execution_count": 26,
      "outputs": []
    },
    {
      "cell_type": "code",
      "source": [
        "X = df_clean[df_clean.columns[2:]]\n",
        "y = df_clean['label']\n",
        "X_train, X_test, y_train, y_test = train_test_split(X, y, test_size=0.2, random_state=42)"
      ],
      "metadata": {
        "id": "P4QN7gcRdHoo"
      },
      "execution_count": 27,
      "outputs": []
    },
    {
      "cell_type": "code",
      "source": [
        "from sklearn.model_selection import GridSearchCV\n",
        "from sklearn.linear_model import Lasso, LogisticRegression\n",
        "from sklearn.pipeline import Pipeline\n",
        "from sklearn.metrics import classification_report"
      ],
      "metadata": {
        "id": "-Hfyzb7zeHN3"
      },
      "execution_count": 28,
      "outputs": []
    },
    {
      "cell_type": "code",
      "source": [
        "Lasso().get_params().keys()"
      ],
      "metadata": {
        "colab": {
          "base_uri": "https://localhost:8080/"
        },
        "id": "Y0o6DmAle1hE",
        "outputId": "fe853f33-cda9-4d7d-c7f5-a6ee1e589cde"
      },
      "execution_count": 29,
      "outputs": [
        {
          "output_type": "execute_result",
          "data": {
            "text/plain": [
              "dict_keys(['alpha', 'copy_X', 'fit_intercept', 'max_iter', 'normalize', 'positive', 'precompute', 'random_state', 'selection', 'tol', 'warm_start'])"
            ]
          },
          "metadata": {},
          "execution_count": 29
        }
      ]
    },
    {
      "cell_type": "code",
      "source": [
        "pipeline = Pipeline([('model',Lasso(random_state=42))])\n",
        "search = GridSearchCV(pipeline,{'model__alpha':np.arange(0.1,10,0.1)},\n",
        "                      cv = 5, scoring=\"neg_mean_squared_error\", verbose=0)\n",
        "search.fit(X_train,y_train)\n",
        "search.best_params_"
      ],
      "metadata": {
        "colab": {
          "base_uri": "https://localhost:8080/"
        },
        "id": "GNfDxVYhd8f5",
        "outputId": "043922d1-df96-45c3-b690-8f97513f9642"
      },
      "execution_count": 30,
      "outputs": [
        {
          "output_type": "execute_result",
          "data": {
            "text/plain": [
              "{'model__alpha': 0.1}"
            ]
          },
          "metadata": {},
          "execution_count": 30
        }
      ]
    },
    {
      "cell_type": "code",
      "source": [
        "coefficients = search.best_estimator_.named_steps['model'].coef_\n",
        "importance = np.abs(coefficients)\n",
        "print(importance)"
      ],
      "metadata": {
        "colab": {
          "base_uri": "https://localhost:8080/"
        },
        "id": "n1Q2zVM9fKlu",
        "outputId": "acdff82c-53f0-4033-9bb8-c9f9fbe450f9"
      },
      "execution_count": 31,
      "outputs": [
        {
          "output_type": "stream",
          "name": "stdout",
          "text": [
            "[0.00775473 0.         0.         0.01428164 0.         0.\n",
            " 0.         0.         0.         0.         0.         0.\n",
            " 0.         0.         0.        ]\n"
          ]
        }
      ]
    },
    {
      "cell_type": "code",
      "source": [
        "np.array(df_clean.columns[2:])[importance > 0]"
      ],
      "metadata": {
        "colab": {
          "base_uri": "https://localhost:8080/"
        },
        "id": "cxpXItVPf7A3",
        "outputId": "38358323-2c3f-49db-9c0a-ff75130c543c"
      },
      "execution_count": 32,
      "outputs": [
        {
          "output_type": "execute_result",
          "data": {
            "text/plain": [
              "array(['num_lemmas', 'max_age'], dtype=object)"
            ]
          },
          "metadata": {},
          "execution_count": 32
        }
      ]
    },
    {
      "cell_type": "markdown",
      "source": [
        "## Regression"
      ],
      "metadata": {
        "id": "4crg5p-NlWPf"
      }
    },
    {
      "cell_type": "code",
      "source": [
        "lr = LogisticRegression(max_iter=10000)\n",
        "lr.fit(X_train, y_train)\n",
        "pred = lr.predict(X_test)\n",
        "print(classification_report(y_test, pred))"
      ],
      "metadata": {
        "colab": {
          "base_uri": "https://localhost:8080/"
        },
        "id": "4M_BrjYXhTwp",
        "outputId": "583b157f-8e3d-474f-e69e-13f35c91e22e"
      },
      "execution_count": 33,
      "outputs": [
        {
          "output_type": "stream",
          "name": "stdout",
          "text": [
            "              precision    recall  f1-score   support\n",
            "\n",
            "           0       0.67      0.57      0.62      1004\n",
            "           1       0.61      0.70      0.65       968\n",
            "\n",
            "    accuracy                           0.64      1972\n",
            "   macro avg       0.64      0.64      0.63      1972\n",
            "weighted avg       0.64      0.64      0.63      1972\n",
            "\n"
          ]
        }
      ]
    },
    {
      "cell_type": "code",
      "source": [
        "scaler = StandardScaler()\n",
        "scaler.fit(X_train)\n",
        "X_scaled = scaler.transform(X_train)"
      ],
      "metadata": {
        "id": "OBTTU1ec7N-u"
      },
      "execution_count": 35,
      "outputs": []
    },
    {
      "cell_type": "code",
      "source": [
        "pca = PCA(n_components=X_scaled.shape[1], random_state=42)\n",
        "pca.fit(X_scaled)\n",
        "X_pca = pca.transform(X_scaled)\n",
        "np.cumsum(pca.explained_variance_ratio_ * 100)"
      ],
      "metadata": {
        "id": "ZbMYJb-_7UOb",
        "outputId": "e35ba5f0-1a56-4f7f-ec82-47b4354d3ddd",
        "colab": {
          "base_uri": "https://localhost:8080/"
        }
      },
      "execution_count": 38,
      "outputs": [
        {
          "output_type": "execute_result",
          "data": {
            "text/plain": [
              "array([ 37.55513408,  65.95255979,  82.06777289,  90.16526132,\n",
              "        94.54790249,  97.63377173,  98.93012519, 100.        ,\n",
              "       100.        , 100.        , 100.        , 100.        ,\n",
              "       100.        , 100.        , 100.        ])"
            ]
          },
          "metadata": {},
          "execution_count": 38
        }
      ]
    },
    {
      "cell_type": "code",
      "source": [
        "plt.figure(figsize=(10,7))\n",
        "sns.scatterplot(x=X_pca[:,0], y=X_pca[:,1], s=70, hue=y_train, palette=['green','blue'])\n",
        "plt.show()"
      ],
      "metadata": {
        "id": "KsYlHxdg7YUU"
      },
      "execution_count": 52,
      "outputs": []
    },
    {
      "cell_type": "code",
      "source": [
        "sns.set_style(\"darkgrid\", {'axes.grid' : False})\n",
        "\n",
        "fig = plt.figure(figsize=(10,10))\n",
        "\n",
        "ax = fig.add_subplot(111, projection='3d')\n",
        "\n",
        "ax.scatter(X_pca[:,0], X_pca[:,1], X_pca[:,2], c=y_train, marker='o')\n",
        "ax.set_xlabel('PCA1')\n",
        "ax.set_ylabel('PCA2')\n",
        "ax.set_zlabel('PCA3')\n",
        "\n",
        "plt.show()"
      ],
      "metadata": {
        "id": "r9IcB8Po7pYU"
      },
      "execution_count": 55,
      "outputs": []
    }
  ],
  "metadata": {
    "kernelspec": {
      "display_name": "Python 3.9.12 ('base')",
      "language": "python",
      "name": "python3"
    },
    "language_info": {
      "name": "python",
      "version": "3.9.12"
    },
    "orig_nbformat": 4,
    "vscode": {
      "interpreter": {
        "hash": "e86a01f8672329bed3ce100df0440b53eafb97913bffe091b7b7f0884404a676"
      }
    },
    "colab": {
      "provenance": [],
      "include_colab_link": true
    }
  },
  "nbformat": 4,
  "nbformat_minor": 0
}