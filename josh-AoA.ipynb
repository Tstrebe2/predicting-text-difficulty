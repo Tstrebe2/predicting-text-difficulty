{
 "cells": [
  {
   "cell_type": "code",
   "execution_count": null,
   "metadata": {},
   "outputs": [],
   "source": [
    "import clean_wiki as cw\n",
    "df = cw.process_file('assets/WikiLarge_Train')\n",
    "df.head()"
   ]
  }
 ],
 "metadata": {
  "kernelspec": {
   "display_name": "Python 3.9.12 ('base')",
   "language": "python",
   "name": "python3"
  },
  "language_info": {
   "name": "python",
   "version": "3.9.12"
  },
  "orig_nbformat": 4,
  "vscode": {
   "interpreter": {
    "hash": "e86a01f8672329bed3ce100df0440b53eafb97913bffe091b7b7f0884404a676"
   }
  }
 },
 "nbformat": 4,
 "nbformat_minor": 2
}
