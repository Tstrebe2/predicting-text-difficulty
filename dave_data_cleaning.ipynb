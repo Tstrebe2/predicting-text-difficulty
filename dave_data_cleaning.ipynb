{
  "nbformat": 4,
  "nbformat_minor": 0,
  "metadata": {
    "colab": {
      "provenance": [],
      "collapsed_sections": [],
      "authorship_tag": "ABX9TyOzHGyRkF4LPhXAe2vpARDo",
      "include_colab_link": true
    },
    "kernelspec": {
      "name": "python3",
      "display_name": "Python 3"
    },
    "language_info": {
      "name": "python"
    }
  },
  "cells": [
    {
      "cell_type": "markdown",
      "metadata": {
        "id": "view-in-github",
        "colab_type": "text"
      },
      "source": [
        "<a href=\"https://colab.research.google.com/github/Tstrebe2/predicting-text-difficulty/blob/dave-updates/dave_data_cleaning.ipynb\" target=\"_parent\"><img src=\"https://colab.research.google.com/assets/colab-badge.svg\" alt=\"Open In Colab\"/></a>"
      ]
    },
    {
      "cell_type": "code",
      "execution_count": 12,
      "metadata": {
        "id": "QhitnsDCEvWc"
      },
      "outputs": [],
      "source": [
        "import pandas as pd"
      ]
    },
    {
      "cell_type": "code",
      "source": [
        "train_url = 'https://raw.githubusercontent.com/Tstrebe2/predicting-text-difficulty/main/assets/WikiLarge_Train.csv'"
      ],
      "metadata": {
        "id": "aak7t96Z8yI_"
      },
      "execution_count": 13,
      "outputs": []
    },
    {
      "cell_type": "code",
      "source": [
        "train_df = pd.read_csv(train_url)"
      ],
      "metadata": {
        "id": "gngt3Y3c9mr1"
      },
      "execution_count": 14,
      "outputs": []
    },
    {
      "cell_type": "code",
      "source": [
        "train_df.head()"
      ],
      "metadata": {
        "id": "NIO1PkMV9qRW",
        "outputId": "f5a4051a-61b9-4f44-fd5a-ce6ac684cfc5",
        "colab": {
          "base_uri": "https://localhost:8080/",
          "height": 204
        }
      },
      "execution_count": 15,
      "outputs": [
        {
          "output_type": "execute_result",
          "data": {
            "text/plain": [
              "                                       original_text  label\n",
              "0  There is manuscript evidence that Austen conti...      1\n",
              "1  In a remarkable comparative analysis , Mandaea...      1\n",
              "2  Before Persephone was released to Hermes , who...      1\n",
              "3  Cogeneration plants are commonly found in dist...      1\n",
              "4  Geneva -LRB- , ; , ; , ; ; -RRB- is the second...      1"
            ],
            "text/html": [
              "\n",
              "  <div id=\"df-2e1c6e7e-3418-406f-bdcb-ca030240175f\">\n",
              "    <div class=\"colab-df-container\">\n",
              "      <div>\n",
              "<style scoped>\n",
              "    .dataframe tbody tr th:only-of-type {\n",
              "        vertical-align: middle;\n",
              "    }\n",
              "\n",
              "    .dataframe tbody tr th {\n",
              "        vertical-align: top;\n",
              "    }\n",
              "\n",
              "    .dataframe thead th {\n",
              "        text-align: right;\n",
              "    }\n",
              "</style>\n",
              "<table border=\"1\" class=\"dataframe\">\n",
              "  <thead>\n",
              "    <tr style=\"text-align: right;\">\n",
              "      <th></th>\n",
              "      <th>original_text</th>\n",
              "      <th>label</th>\n",
              "    </tr>\n",
              "  </thead>\n",
              "  <tbody>\n",
              "    <tr>\n",
              "      <th>0</th>\n",
              "      <td>There is manuscript evidence that Austen conti...</td>\n",
              "      <td>1</td>\n",
              "    </tr>\n",
              "    <tr>\n",
              "      <th>1</th>\n",
              "      <td>In a remarkable comparative analysis , Mandaea...</td>\n",
              "      <td>1</td>\n",
              "    </tr>\n",
              "    <tr>\n",
              "      <th>2</th>\n",
              "      <td>Before Persephone was released to Hermes , who...</td>\n",
              "      <td>1</td>\n",
              "    </tr>\n",
              "    <tr>\n",
              "      <th>3</th>\n",
              "      <td>Cogeneration plants are commonly found in dist...</td>\n",
              "      <td>1</td>\n",
              "    </tr>\n",
              "    <tr>\n",
              "      <th>4</th>\n",
              "      <td>Geneva -LRB- , ; , ; , ; ; -RRB- is the second...</td>\n",
              "      <td>1</td>\n",
              "    </tr>\n",
              "  </tbody>\n",
              "</table>\n",
              "</div>\n",
              "      <button class=\"colab-df-convert\" onclick=\"convertToInteractive('df-2e1c6e7e-3418-406f-bdcb-ca030240175f')\"\n",
              "              title=\"Convert this dataframe to an interactive table.\"\n",
              "              style=\"display:none;\">\n",
              "        \n",
              "  <svg xmlns=\"http://www.w3.org/2000/svg\" height=\"24px\"viewBox=\"0 0 24 24\"\n",
              "       width=\"24px\">\n",
              "    <path d=\"M0 0h24v24H0V0z\" fill=\"none\"/>\n",
              "    <path d=\"M18.56 5.44l.94 2.06.94-2.06 2.06-.94-2.06-.94-.94-2.06-.94 2.06-2.06.94zm-11 1L8.5 8.5l.94-2.06 2.06-.94-2.06-.94L8.5 2.5l-.94 2.06-2.06.94zm10 10l.94 2.06.94-2.06 2.06-.94-2.06-.94-.94-2.06-.94 2.06-2.06.94z\"/><path d=\"M17.41 7.96l-1.37-1.37c-.4-.4-.92-.59-1.43-.59-.52 0-1.04.2-1.43.59L10.3 9.45l-7.72 7.72c-.78.78-.78 2.05 0 2.83L4 21.41c.39.39.9.59 1.41.59.51 0 1.02-.2 1.41-.59l7.78-7.78 2.81-2.81c.8-.78.8-2.07 0-2.86zM5.41 20L4 18.59l7.72-7.72 1.47 1.35L5.41 20z\"/>\n",
              "  </svg>\n",
              "      </button>\n",
              "      \n",
              "  <style>\n",
              "    .colab-df-container {\n",
              "      display:flex;\n",
              "      flex-wrap:wrap;\n",
              "      gap: 12px;\n",
              "    }\n",
              "\n",
              "    .colab-df-convert {\n",
              "      background-color: #E8F0FE;\n",
              "      border: none;\n",
              "      border-radius: 50%;\n",
              "      cursor: pointer;\n",
              "      display: none;\n",
              "      fill: #1967D2;\n",
              "      height: 32px;\n",
              "      padding: 0 0 0 0;\n",
              "      width: 32px;\n",
              "    }\n",
              "\n",
              "    .colab-df-convert:hover {\n",
              "      background-color: #E2EBFA;\n",
              "      box-shadow: 0px 1px 2px rgba(60, 64, 67, 0.3), 0px 1px 3px 1px rgba(60, 64, 67, 0.15);\n",
              "      fill: #174EA6;\n",
              "    }\n",
              "\n",
              "    [theme=dark] .colab-df-convert {\n",
              "      background-color: #3B4455;\n",
              "      fill: #D2E3FC;\n",
              "    }\n",
              "\n",
              "    [theme=dark] .colab-df-convert:hover {\n",
              "      background-color: #434B5C;\n",
              "      box-shadow: 0px 1px 3px 1px rgba(0, 0, 0, 0.15);\n",
              "      filter: drop-shadow(0px 1px 2px rgba(0, 0, 0, 0.3));\n",
              "      fill: #FFFFFF;\n",
              "    }\n",
              "  </style>\n",
              "\n",
              "      <script>\n",
              "        const buttonEl =\n",
              "          document.querySelector('#df-2e1c6e7e-3418-406f-bdcb-ca030240175f button.colab-df-convert');\n",
              "        buttonEl.style.display =\n",
              "          google.colab.kernel.accessAllowed ? 'block' : 'none';\n",
              "\n",
              "        async function convertToInteractive(key) {\n",
              "          const element = document.querySelector('#df-2e1c6e7e-3418-406f-bdcb-ca030240175f');\n",
              "          const dataTable =\n",
              "            await google.colab.kernel.invokeFunction('convertToInteractive',\n",
              "                                                     [key], {});\n",
              "          if (!dataTable) return;\n",
              "\n",
              "          const docLinkHtml = 'Like what you see? Visit the ' +\n",
              "            '<a target=\"_blank\" href=https://colab.research.google.com/notebooks/data_table.ipynb>data table notebook</a>'\n",
              "            + ' to learn more about interactive tables.';\n",
              "          element.innerHTML = '';\n",
              "          dataTable['output_type'] = 'display_data';\n",
              "          await google.colab.output.renderOutput(dataTable, element);\n",
              "          const docLink = document.createElement('div');\n",
              "          docLink.innerHTML = docLinkHtml;\n",
              "          element.appendChild(docLink);\n",
              "        }\n",
              "      </script>\n",
              "    </div>\n",
              "  </div>\n",
              "  "
            ]
          },
          "metadata": {},
          "execution_count": 15
        }
      ]
    },
    {
      "cell_type": "code",
      "source": [
        "train_df.sample(20)[['original_text', \n",
        "                     'label']].style.set_properties(subset=['original_text'], \n",
        "                                                    **{'width': '500px'})\n",
        "\n",
        "\n",
        "\n"
      ],
      "metadata": {
        "id": "r-uuZ8jB9uO7",
        "outputId": "6b542312-f3ef-4f90-b6b1-9b92b14f5c08",
        "colab": {
          "base_uri": "https://localhost:8080/",
          "height": 907
        }
      },
      "execution_count": 23,
      "outputs": [
        {
          "output_type": "execute_result",
          "data": {
            "text/plain": [
              "<pandas.io.formats.style.Styler at 0x7fd0fb143d50>"
            ],
            "text/html": [
              "<style type=\"text/css\">\n",
              "#T_3d525_row0_col0, #T_3d525_row1_col0, #T_3d525_row2_col0, #T_3d525_row3_col0, #T_3d525_row4_col0, #T_3d525_row5_col0, #T_3d525_row6_col0, #T_3d525_row7_col0, #T_3d525_row8_col0, #T_3d525_row9_col0, #T_3d525_row10_col0, #T_3d525_row11_col0, #T_3d525_row12_col0, #T_3d525_row13_col0, #T_3d525_row14_col0, #T_3d525_row15_col0, #T_3d525_row16_col0, #T_3d525_row17_col0, #T_3d525_row18_col0, #T_3d525_row19_col0 {\n",
              "  width: 500px;\n",
              "}\n",
              "</style>\n",
              "<table id=\"T_3d525_\" class=\"dataframe\">\n",
              "  <thead>\n",
              "    <tr>\n",
              "      <th class=\"blank level0\" >&nbsp;</th>\n",
              "      <th class=\"col_heading level0 col0\" >original_text</th>\n",
              "      <th class=\"col_heading level0 col1\" >label</th>\n",
              "    </tr>\n",
              "  </thead>\n",
              "  <tbody>\n",
              "    <tr>\n",
              "      <th id=\"T_3d525_level0_row0\" class=\"row_heading level0 row0\" >386948</th>\n",
              "      <td id=\"T_3d525_row0_col0\" class=\"data row0 col0\" >First such statement from US government .</td>\n",
              "      <td id=\"T_3d525_row0_col1\" class=\"data row0 col1\" >0</td>\n",
              "    </tr>\n",
              "    <tr>\n",
              "      <th id=\"T_3d525_level0_row1\" class=\"row_heading level0 row1\" >195678</th>\n",
              "      <td id=\"T_3d525_row1_col0\" class=\"data row1 col0\" >The leaves are ovate 2.5 & ndash ; 9 cm -LRB- 1 & ndash ; 3.5 in -RRB- long , resembling orange leaves -LRB- the scientific name aurantifolia refers to this resemblance to the leaves of the orange , C. aurantium -RRB- .</td>\n",
              "      <td id=\"T_3d525_row1_col1\" class=\"data row1 col1\" >1</td>\n",
              "    </tr>\n",
              "    <tr>\n",
              "      <th id=\"T_3d525_level0_row2\" class=\"row_heading level0 row2\" >232707</th>\n",
              "      <td id=\"T_3d525_row2_col0\" class=\"data row2 col0\" >Brian Cox was originally supposed to voice Aslan on December 9 , 2004 , but Adamson changed his mind .</td>\n",
              "      <td id=\"T_3d525_row2_col1\" class=\"data row2 col1\" >0</td>\n",
              "    </tr>\n",
              "    <tr>\n",
              "      <th id=\"T_3d525_level0_row3\" class=\"row_heading level0 row3\" >391639</th>\n",
              "      <td id=\"T_3d525_row3_col0\" class=\"data row3 col0\" >The Socialist International is a worldwide group of social democratic and the labor political parties .</td>\n",
              "      <td id=\"T_3d525_row3_col1\" class=\"data row3 col1\" >0</td>\n",
              "    </tr>\n",
              "    <tr>\n",
              "      <th id=\"T_3d525_level0_row4\" class=\"row_heading level0 row4\" >149334</th>\n",
              "      <td id=\"T_3d525_row4_col0\" class=\"data row4 col0\" >Insch is a town in Garioch , Aberdeenshire , Scotland .</td>\n",
              "      <td id=\"T_3d525_row4_col1\" class=\"data row4 col1\" >1</td>\n",
              "    </tr>\n",
              "    <tr>\n",
              "      <th id=\"T_3d525_level0_row5\" class=\"row_heading level0 row5\" >134700</th>\n",
              "      <td id=\"T_3d525_row5_col0\" class=\"data row5 col0\" >The Crazy Horse Memorial is a mountain monument that is currently under construction in the Black Hills of South Dakota , in the form of Crazy Horse , an Oglala Lakota warrior , riding a horse and pointing into the distance .</td>\n",
              "      <td id=\"T_3d525_row5_col1\" class=\"data row5 col1\" >1</td>\n",
              "    </tr>\n",
              "    <tr>\n",
              "      <th id=\"T_3d525_level0_row6\" class=\"row_heading level0 row6\" >251871</th>\n",
              "      <td id=\"T_3d525_row6_col0\" class=\"data row6 col0\" >It is 114.69 metres -LRB- 376.28 ft -RRB- wide and 45.55 metres -LRB- 149.44 ft -RRB- high and is built of pale gray travertine stone , with a giant Corinthian columns and a central triangular pediment . Along the roof-line are statues of Christ , John the Baptist , and eleven of the apostles .</td>\n",
              "      <td id=\"T_3d525_row6_col1\" class=\"data row6 col1\" >0</td>\n",
              "    </tr>\n",
              "    <tr>\n",
              "      <th id=\"T_3d525_level0_row7\" class=\"row_heading level0 row7\" >302821</th>\n",
              "      <td id=\"T_3d525_row7_col0\" class=\"data row7 col0\" >By 1997 Hertha got back into the Bundesliga .</td>\n",
              "      <td id=\"T_3d525_row7_col1\" class=\"data row7 col1\" >0</td>\n",
              "    </tr>\n",
              "    <tr>\n",
              "      <th id=\"T_3d525_level0_row8\" class=\"row_heading level0 row8\" >11005</th>\n",
              "      <td id=\"T_3d525_row8_col0\" class=\"data row8 col0\" >In the United States , '' yogurt ' '' is the usual spelling and '' yoghurt '' a minor variant .</td>\n",
              "      <td id=\"T_3d525_row8_col1\" class=\"data row8 col1\" >1</td>\n",
              "    </tr>\n",
              "    <tr>\n",
              "      <th id=\"T_3d525_level0_row9\" class=\"row_heading level0 row9\" >180460</th>\n",
              "      <td id=\"T_3d525_row9_col0\" class=\"data row9 col0\" >Mauves is a commune in the Ardèche département in southern France .</td>\n",
              "      <td id=\"T_3d525_row9_col1\" class=\"data row9 col1\" >1</td>\n",
              "    </tr>\n",
              "    <tr>\n",
              "      <th id=\"T_3d525_level0_row10\" class=\"row_heading level0 row10\" >244942</th>\n",
              "      <td id=\"T_3d525_row10_col0\" class=\"data row10 col0\" >It ended the First Sino-Japanese War -LRB- 1894 AD - 1895 AD -RRB- .</td>\n",
              "      <td id=\"T_3d525_row10_col1\" class=\"data row10 col1\" >0</td>\n",
              "    </tr>\n",
              "    <tr>\n",
              "      <th id=\"T_3d525_level0_row11\" class=\"row_heading level0 row11\" >389829</th>\n",
              "      <td id=\"T_3d525_row11_col0\" class=\"data row11 col0\" >Austen was not democratic enough for Americans . Also , her books did not have the frontier themes that often came out in American literature .</td>\n",
              "      <td id=\"T_3d525_row11_col1\" class=\"data row11 col1\" >0</td>\n",
              "    </tr>\n",
              "    <tr>\n",
              "      <th id=\"T_3d525_level0_row12\" class=\"row_heading level0 row12\" >254514</th>\n",
              "      <td id=\"T_3d525_row12_col0\" class=\"data row12 col0\" >Transition -LRB-/O2006/O-RRB-</td>\n",
              "      <td id=\"T_3d525_row12_col1\" class=\"data row12 col1\" >0</td>\n",
              "    </tr>\n",
              "    <tr>\n",
              "      <th id=\"T_3d525_level0_row13\" class=\"row_heading level0 row13\" >15335</th>\n",
              "      <td id=\"T_3d525_row13_col0\" class=\"data row13 col0\" >Horst Hrubesch -LRB- born 17 April 1951 in Hamm -RRB- is a retired German football player employed As of 2010 as a youth trainer at the German Football Association .</td>\n",
              "      <td id=\"T_3d525_row13_col1\" class=\"data row13 col1\" >1</td>\n",
              "    </tr>\n",
              "    <tr>\n",
              "      <th id=\"T_3d525_level0_row14\" class=\"row_heading level0 row14\" >173530</th>\n",
              "      <td id=\"T_3d525_row14_col0\" class=\"data row14 col0\" >After 9 months , they were asked to leave Christiania .</td>\n",
              "      <td id=\"T_3d525_row14_col1\" class=\"data row14 col1\" >1</td>\n",
              "    </tr>\n",
              "    <tr>\n",
              "      <th id=\"T_3d525_level0_row15\" class=\"row_heading level0 row15\" >23691</th>\n",
              "      <td id=\"T_3d525_row15_col0\" class=\"data row15 col0\" >His views were widely held in the East , and the consequence was the separation of the Assyrian Church of the East from the Byzantine Church .</td>\n",
              "      <td id=\"T_3d525_row15_col1\" class=\"data row15 col1\" >1</td>\n",
              "    </tr>\n",
              "    <tr>\n",
              "      <th id=\"T_3d525_level0_row16\" class=\"row_heading level0 row16\" >46561</th>\n",
              "      <td id=\"T_3d525_row16_col0\" class=\"data row16 col0\" >; Print\\/Online - MCV UK trade publication -LRB- circ 10 000 -RRB- .</td>\n",
              "      <td id=\"T_3d525_row16_col1\" class=\"data row16 col1\" >1</td>\n",
              "    </tr>\n",
              "    <tr>\n",
              "      <th id=\"T_3d525_level0_row17\" class=\"row_heading level0 row17\" >200895</th>\n",
              "      <td id=\"T_3d525_row17_col0\" class=\"data row17 col0\" >Yes may refer to :</td>\n",
              "      <td id=\"T_3d525_row17_col1\" class=\"data row17 col1\" >1</td>\n",
              "    </tr>\n",
              "    <tr>\n",
              "      <th id=\"T_3d525_level0_row18\" class=\"row_heading level0 row18\" >364930</th>\n",
              "      <td id=\"T_3d525_row18_col0\" class=\"data row18 col0\" >Judd</td>\n",
              "      <td id=\"T_3d525_row18_col1\" class=\"data row18 col1\" >0</td>\n",
              "    </tr>\n",
              "    <tr>\n",
              "      <th id=\"T_3d525_level0_row19\" class=\"row_heading level0 row19\" >127074</th>\n",
              "      <td id=\"T_3d525_row19_col0\" class=\"data row19 col0\" >Tacfarinas ' revolt in Africa is repressed .</td>\n",
              "      <td id=\"T_3d525_row19_col1\" class=\"data row19 col1\" >1</td>\n",
              "    </tr>\n",
              "  </tbody>\n",
              "</table>\n"
            ]
          },
          "metadata": {},
          "execution_count": 23
        }
      ]
    },
    {
      "cell_type": "code",
      "source": [
        "# Observations of things that need cleaning:\n",
        "# join \" 's \" with their associated words; same with contractions  - done\n",
        "# Some sentences are partials of other sentences within the corpus\n",
        "# Need to address accents - not sure if I do\n",
        "# Need to address punctuation (vectorizers) - handled through simple_preprocess\n",
        "# Address weird quotations - (example at index 11005) '' yogurt ' ''\n",
        "# Need to address -LRB and -RRB which are lemma references to left \n",
        "# and right parentheses - done\n",
        "# remove 'â' (misformatting)\n",
        "# \n",
        "\n",
        "\n",
        "# Observations\n",
        "  # difficulty can be a combination of hard words, hard to pronounce or unfamiliar\n",
        "  # names, long-run on sentences, harder topics (eg Linux kernel or\n",
        "  # referring to dog breeds as an example) or just non-sensical sentences without\n",
        "  # context\n",
        "\n",
        "\n"
      ],
      "metadata": {
        "id": "ioMbAByC9zqD"
      },
      "execution_count": null,
      "outputs": []
    },
    {
      "cell_type": "code",
      "source": [
        "# Found a solution to help with contractions\n",
        "!pip install contractions\n",
        "!pip install gensim"
      ],
      "metadata": {
        "id": "zHHGOyWKAmb2",
        "outputId": "b8536d0d-f2d5-4f2c-8dfa-b96356116706",
        "colab": {
          "base_uri": "https://localhost:8080/"
        }
      },
      "execution_count": 31,
      "outputs": [
        {
          "output_type": "stream",
          "name": "stdout",
          "text": [
            "Looking in indexes: https://pypi.org/simple, https://us-python.pkg.dev/colab-wheels/public/simple/\n",
            "Requirement already satisfied: contractions in /usr/local/lib/python3.7/dist-packages (0.1.72)\n",
            "Requirement already satisfied: textsearch>=0.0.21 in /usr/local/lib/python3.7/dist-packages (from contractions) (0.0.24)\n",
            "Requirement already satisfied: pyahocorasick in /usr/local/lib/python3.7/dist-packages (from textsearch>=0.0.21->contractions) (1.4.4)\n",
            "Requirement already satisfied: anyascii in /usr/local/lib/python3.7/dist-packages (from textsearch>=0.0.21->contractions) (0.3.1)\n",
            "Looking in indexes: https://pypi.org/simple, https://us-python.pkg.dev/colab-wheels/public/simple/\n",
            "Requirement already satisfied: gensim in /usr/local/lib/python3.7/dist-packages (3.6.0)\n",
            "Requirement already satisfied: numpy>=1.11.3 in /usr/local/lib/python3.7/dist-packages (from gensim) (1.21.6)\n",
            "Requirement already satisfied: six>=1.5.0 in /usr/local/lib/python3.7/dist-packages (from gensim) (1.15.0)\n",
            "Requirement already satisfied: smart-open>=1.2.1 in /usr/local/lib/python3.7/dist-packages (from gensim) (5.2.1)\n",
            "Requirement already satisfied: scipy>=0.18.1 in /usr/local/lib/python3.7/dist-packages (from gensim) (1.7.3)\n"
          ]
        }
      ]
    },
    {
      "cell_type": "code",
      "source": [
        "import re\n",
        "import contractions\n",
        "from gensim.utils import simple_preprocess\n",
        "\n",
        "def clean_contractions(s):\n",
        "  contract_lst = {'\\'ve': '\\'ve',\n",
        "                ' \\'ll': '\\'ll',\n",
        "                ' \\'d': '\\'d',\n",
        "                ' n\\'t': 'n\\'t'}\n",
        "  for key,value in contract_lst.items():\n",
        "    # remove spaces between contractions\n",
        "    s = re.sub(key, value,s)\n",
        "  \n",
        "  # replace contractions\n",
        "  s = contractions.fix(s)\n",
        "\n",
        "  # remove empty quotes\n",
        "  s = re.sub('\\'\\'','',s)\n",
        "\n",
        "  # remove lrb and rrb references\n",
        "  pattern = r'(-LRB-|-RRB-)+'\n",
        "  s = re.sub(pattern,'',s)\n",
        "\n",
        "\n",
        "  # remove ndash\n",
        "  s = re.sub('\\sndash\\s','',s)\n",
        "\n",
        "\n",
        "  return simple_preprocess(s)\n",
        "  # return ' '.join(word for word in simple_preprocess(s))\n"
      ],
      "metadata": {
        "id": "p0P-pgrNAnUQ"
      },
      "execution_count": 74,
      "outputs": []
    },
    {
      "cell_type": "code",
      "source": [
        "text = 'Mauves is a commune in the Ardèche département in southern France .'\n",
        "fixed = clean_contractions(text)\n",
        "fixed"
      ],
      "metadata": {
        "colab": {
          "base_uri": "https://localhost:8080/"
        },
        "id": "eb-T59-DEOg7",
        "outputId": "1f2556c6-f7e5-4198-9376-c6669816cc5b"
      },
      "execution_count": 75,
      "outputs": [
        {
          "output_type": "execute_result",
          "data": {
            "text/plain": [
              "['mauves',\n",
              " 'is',\n",
              " 'commune',\n",
              " 'in',\n",
              " 'the',\n",
              " 'ardèche',\n",
              " 'département',\n",
              " 'in',\n",
              " 'southern',\n",
              " 'france']"
            ]
          },
          "metadata": {},
          "execution_count": 75
        }
      ]
    },
    {
      "cell_type": "code",
      "source": [],
      "metadata": {
        "id": "KuoxXwIFAxtw",
        "outputId": "3e0e8549-c31b-45e3-ab71-067ddeafcacb",
        "colab": {
          "base_uri": "https://localhost:8080/",
          "height": 37
        }
      },
      "execution_count": null,
      "outputs": [
        {
          "output_type": "execute_result",
          "data": {
            "text/plain": [
              "'Costello did not record it himself until 1996 , on his album of the same title .'"
            ],
            "application/vnd.google.colaboratory.intrinsic+json": {
              "type": "string"
            }
          },
          "metadata": {},
          "execution_count": 23
        }
      ]
    },
    {
      "cell_type": "code",
      "source": [],
      "metadata": {
        "id": "s1l5QPhPAzdd"
      },
      "execution_count": null,
      "outputs": []
    }
  ]
}